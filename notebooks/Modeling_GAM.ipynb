{
 "cells": [
  {
   "cell_type": "markdown",
   "id": "8f2a6347",
   "metadata": {},
   "source": [
    "# Model development\n",
    "We are using mgcv::gam library and a mixed-effects modeling approach."
   ]
  },
  {
   "cell_type": "code",
   "execution_count": 443,
   "id": "cf2d603b",
   "metadata": {
    "scrolled": true,
    "vscode": {
     "languageId": "r"
    }
   },
   "outputs": [],
   "source": [
    "library(dplyr)\n",
    "library(ggrepel)\n",
    "library(ggpmisc)\n",
    "library(ggprism)\n",
    "library(tidyverse)\n",
    "library(caret)\n",
    "library(gamm4)\n",
    "library(gtools)\n",
    "library(coefplot)\n",
    "library(effectsize)\n",
    "library(AICcmodavg)\n",
    "library(ggpubr)\n",
    "library(patchwork)\n",
    "library(emmeans)\n",
    "library(jtools)\n",
    "library(mgcViz)\n",
    "library(ggbreak)\n",
    "library(ggpattern)\n",
    "library(scales)\n",
    "\n",
    "# parallel registration\n",
    "library(doParallel)\n",
    "cl <- makePSOCKcluster(detectCores() - 1)\n",
    "registerDoParallel(cl)\n",
    "\n",
    "agd_palette <- c(\"#0063C3\", \"#00BCD0\", \"#CB7C85\",  \"#E8C9BB\", \"#252A5A\", \n",
    "                  \"#7D2C42\", \"#A9A9A9\")"
   ]
  },
  {
   "cell_type": "markdown",
   "id": "c2d99c64",
   "metadata": {},
   "source": [
    "## Data and Features"
   ]
  },
  {
   "cell_type": "code",
   "execution_count": 2,
   "id": "5b193a39",
   "metadata": {
    "vscode": {
     "languageId": "r"
    }
   },
   "outputs": [],
   "source": [
    "# original data\n",
    "dat_1 <- read.csv(\"../data/fluorination_train.csv\", stringsAsFactors = T)\n",
    "dat_2 <- read.csv(\"../data/fluorination_test.csv\", stringsAsFactors = T)\n",
    "\n",
    "dat <- rbind(dat_1, dat_2)\n",
    "dat <- dat %>%\n",
    "        rename(s = sulfonyl.fluoride, a = alcohol, b = base) %>%\n",
    "        mutate(s = sub(\"\\\\.\", \"-\", s)) %>%\n",
    "        mutate(s = gsub(\"3-\", \"4-\", s)) %>%\n",
    "        mutate(s = factor(s))\n",
    "\n",
    "# reactions data\n",
    "rxns <- dat %>% select(a, b, s, yield)"
   ]
  },
  {
   "cell_type": "code",
   "execution_count": 3,
   "id": "c0adbe6e",
   "metadata": {
    "scrolled": true,
    "vscode": {
     "languageId": "r"
    }
   },
   "outputs": [],
   "source": [
    "# pre-process factor like features from the original publication\n",
    "da_orig <- dat %>% select(\"a\", contains(\"alcohol\")) %>% distinct()\n",
    "\n",
    "da_fact <- da_orig %>%\n",
    "    select(\"a\", where(is.integer)) %>%\n",
    "    rename_with(~ sub(\"alcohol_\", \"\", .x)) %>%\n",
    "    rename_with(~ sub(\"\\\\.\", \"_\", .x))\n",
    "\n",
    "# coalesce one-hot spread features that's not needed and only takes space\n",
    "order <- da_fact %>%\n",
    "    select(primary, secondary, tertiary) %>%\n",
    "    mutate_all(as.character) %>%\n",
    "    mutate(secondary = recode(secondary, \"1\" = \"2\"),\n",
    "           tertiary = recode(tertiary, \"1\" = \"3\")) %>%\n",
    "    mutate(order = pmax(primary, secondary, tertiary)) %>%\n",
    "    mutate(order = recode(order, \"1\" = \"primary\",\n",
    "                                 \"2\" = \"secondary\",\n",
    "                                 \"3\" = \"tertiary\")) %>%\n",
    "    pull(order)\n",
    "\n",
    "ring_size <- da_fact %>%\n",
    "    select(`4_membered_ring`, `5_membered_ring`,\n",
    "            `6_membered_ring`, `7_membered_ring`) %>%\n",
    "    mutate_all(as.character) %>%\n",
    "    mutate(r4 = recode(`4_membered_ring`, \"1\" = \"4\", \"0\" = \"NA\"),\n",
    "           r5 = recode(`5_membered_ring`, \"1\" = \"5\", \"0\" = \"NA\"),\n",
    "           r6 = recode(`6_membered_ring`, \"1\" = \"6\", \"0\" = \"NA\"),\n",
    "           r7 = recode(`7_membered_ring`, \"1\" = \"7\", \"0\" = \"NA\")) %>%\n",
    "    mutate(ring_size = pmin(r4, r5, r6, r7)) %>%\n",
    "    mutate(ring_size = recode(ring_size, \"NA\" = \"0\")) %>%\n",
    "    pull(ring_size)\n",
    "\n",
    "da_fact <- da_fact %>%\n",
    "    mutate(ring_size = ring_size, order = order) %>%\n",
    "    select(-contains(\"membered_ring\")) %>%\n",
    "    select(-primary, -secondary, -tertiary, -cyclic) %>%\n",
    "    mutate_all(as.factor)"
   ]
  },
  {
   "cell_type": "code",
   "execution_count": 4,
   "id": "e1eaa7e1",
   "metadata": {
    "scrolled": true,
    "vscode": {
     "languageId": "r"
    }
   },
   "outputs": [],
   "source": [
    "# read alcohol DFT features\n",
    "glb_feats <- c(\"number_of_atoms\", \"molar_mass\", \"electronegativity\",\n",
    "               \"electronic_spatial_extent\", \"hardness\", \"homo_energy\",\n",
    "               \"lumo_energy\", \"molar_volume\", \"dipole\", \n",
    "               \"OC_length\", \"OC_L\", \"OC_B1\", \"OC_B5\")\n",
    "c_feats <- c(\"C_APT_charge\", \"C_Mulliken_charge\", \"C_NMR_shift\",\n",
    "           \"C_NPA_charge\", \"C_VBur\", \"C_angle\", \"C_PVBur\")\n",
    "o_feats <- c(\"O_APT_charge\", \"O_Mulliken_charge\", \"O_NMR_shift\",\n",
    "            \"O_NPA_charge\", \"O_VBur\")\n",
    "\n",
    "# M062X calculation\n",
    "da_dft_m062x <- read.csv(\"../data/alcohols_Boltzmann_M062X_THF.csv\") %>%\n",
    "    select(-inchi) %>%\n",
    "    rename(a = name) %>%\n",
    "    select(\"a\", all_of(glb_feats), all_of(c_feats), all_of(o_feats))\n",
    "\n",
    "da_dft <- da_dft_m062x\n",
    "da <- merge(da_dft, da_fact)"
   ]
  },
  {
   "cell_type": "code",
   "execution_count": 5,
   "id": "39647aa2",
   "metadata": {
    "vscode": {
     "languageId": "r"
    }
   },
   "outputs": [],
   "source": [
    "# helper functions\n",
    "normalize_yield <- function(yield) {\n",
    "    y <- ifelse(yield > 97, 100 - runif(n(), 0.1, 3),\n",
    "        ifelse(yield < 3, runif(n(), 0.1, 3), yield)) / 100\n",
    "    return(y)\n",
    "}"
   ]
  },
  {
   "cell_type": "code",
   "execution_count": 6,
   "id": "658812fd",
   "metadata": {
    "vscode": {
     "languageId": "r"
    }
   },
   "outputs": [],
   "source": [
    "# build final dataframe for analysis\n",
    "data <- rxns %>%\n",
    "    mutate(prob = normalize_yield(yield)) %>%\n",
    "    left_join(da, by = \"a\") %>%\n",
    "    mutate(a = as.factor(a))"
   ]
  },
  {
   "cell_type": "markdown",
   "id": "bae7b2cb",
   "metadata": {},
   "source": [
    "## ANOVA\n",
    "This is where we start analyzing the experiment, i.e., we need to find the appropriate interaction model, followed by inference about the effects."
   ]
  },
  {
   "cell_type": "code",
   "execution_count": 327,
   "id": "8d2962e3",
   "metadata": {
    "vscode": {
     "languageId": "r"
    }
   },
   "outputs": [
    {
     "data": {
      "text/html": [
       "0.97"
      ],
      "text/latex": [
       "0.97"
      ],
      "text/markdown": [
       "0.97"
      ],
      "text/plain": [
       "[1] 0.97"
      ]
     },
     "metadata": {},
     "output_type": "display_data"
    }
   ],
   "source": [
    "# fit fixed effects model\n",
    "fam <- gaussian()\n",
    "m <- gam(yield ~ (a + b + s)**2, data = data, family = fam)\n",
    "round(summary(m)$r.sq, 2)"
   ]
  },
  {
   "cell_type": "code",
   "execution_count": 328,
   "id": "ef36b293",
   "metadata": {
    "vscode": {
     "languageId": "r"
    }
   },
   "outputs": [],
   "source": [
    "# compute eta-squared\n",
    "d <- eta_squared(aov(m), ci = 0.95) %>%\n",
    "    as.data.frame() %>%\n",
    "    mutate(Parameter = factor(Parameter,\n",
    "           levels = c(\"b:s\", \"a:s\", \"a:b\", \"s\", \"b\", \"a\")))"
   ]
  },
  {
   "cell_type": "code",
   "execution_count": 444,
   "id": "ec4e8e67",
   "metadata": {
    "vscode": {
     "languageId": "r"
    }
   },
   "outputs": [
    {
     "data": {
      "image/png": "[encoded data removed]",
      "text/plain": [
       "plot without title"
      ]
     },
     "metadata": {
      "image/png": {
       "height": 184.8,
       "width": 194.4
      }
     },
     "output_type": "display_data"
    }
   ],
   "source": [
    "# fixed effects model plot for the paper\n",
    "p1 <- data %>%\n",
    "    select(prob, yield) %>%\n",
    "    mutate(pred = predict(m, type = \"response\")) %>%\n",
    "ggplot(aes(x = yield, y = pred)) +\n",
    "      geom_point(color = agd_palette[1]) +\n",
    "      geom_abline(aes(intercept = 0, slope = 1), linetype = 2) +\n",
    "      annotate(\"text\", label = \"R[adj.]^2== 0.97\", x = 20, y = 95,\n",
    "                parse = T, size = 6.3 / .pt) +\n",
    "      labs(y = \"Predicted Yield [%]\",\n",
    "           x = \"Observed Yield [%]\") +\n",
    "      theme_prism(base_size = 6.3) +\n",
    "      theme(text = element_text(face = \"plain\", family = \"sans\"))\n",
    "\n",
    "p2 <- ggplot(d, aes(x = Parameter, y = Eta2_partial,\n",
    "                    ymin = CI_low, ymax = CI_high)) +\n",
    "      geom_bar(stat = \"identity\", alpha = 1., fill = agd_palette[1]) +\n",
    "      geom_point() +\n",
    "      geom_errorbar(width = 0) +\n",
    "      scale_y_continuous(breaks = scales::breaks_pretty(3)) +\n",
    "      labs(x = \"Effect\", y = expression(eta^2)) +\n",
    "      theme_prism(base_size = 6.3) + coord_flip() +\n",
    "      theme(text = element_text(face = \"plain\", family = \"sans\"))\n",
    "\n",
    "options(repr.plot.width = 3.24, repr.plot.height = 3.08)\n",
    "p1 / p2\n",
    "\n",
    "ggsave(\"../doexyF_paper/plots/anova.svg\", width = 3.24, height = 3.08)\n",
    "ggsave(\"../doexyF_paper/plots/anova.png\", width = 3.24, height = 3.08,\n",
    " dpi = 600)"
   ]
  },
  {
   "cell_type": "code",
   "execution_count": 445,
   "id": "2314a132",
   "metadata": {
    "vscode": {
     "languageId": "r"
    }
   },
   "outputs": [],
   "source": [
    "# save fixed effects model plots for paper\n",
    "ggsave(\"../doexyF_paper/plots/anova_A.svg\", p1, width = 3.24, height = 3.08 / 2)\n",
    "ggsave(\"../doexyF_paper/plots/anova_A.png\", p1, width = 3.24, height = 3.08 / 2,\n",
    " dpi = 600)\n",
    "ggsave(\"../doexyF_paper/plots/anova_B.svg\", p2, width = 3.24, height = 3.08 / 2)\n",
    "ggsave(\"../doexyF_paper/plots/anova_B.png\", p2, width = 3.24, height = 3.08 / 2,\n",
    " dpi = 600)"
   ]
  },
  {
   "cell_type": "markdown",
   "id": "d25bc8cc",
   "metadata": {},
   "source": [
    "## Analysis of Interactions\n",
    "Obtain interaction values using trt.vs.ctrl contrast and plot them against tentative features."
   ]
  },
  {
   "cell_type": "code",
   "execution_count": 331,
   "id": "4ad3ab00",
   "metadata": {
    "vscode": {
     "languageId": "r"
    }
   },
   "outputs": [],
   "source": [
    "# compute interaction effects with trt.vs.ctrl contrast\n",
    "ab <- emmeans(m, trt.vs.ctrl ~ b | a, ref = \"BTPP\")\n",
    "as <- emmeans(m, trt.vs.ctrl ~ s | a, ref = \"PBSF\")\n",
    "\n",
    "ab_ctr <- as.data.frame(ab$contrast) %>%\n",
    "    mutate(contrast = as.factor(gsub(\" - BTPP\", \"\", contrast)))\n",
    "\n",
    "ab_eff <- as.data.frame(ab$emmeans)\n",
    "\n",
    "as_ctr <- as.data.frame(as$contrast) %>%\n",
    "    mutate(contrast = gsub(\"\\\\(\", \"\",\n",
    "                      gsub(\"\\\\)\", \"\",\n",
    "                      gsub(\" - PBSF\", \"\", contrast)))) %>%\n",
    "    mutate(contrast = as.factor(contrast))"
   ]
  },
  {
   "cell_type": "code",
   "execution_count": 446,
   "id": "7327f318",
   "metadata": {
    "vscode": {
     "languageId": "r"
    }
   },
   "outputs": [
    {
     "data": {
      "image/png": "[encoded data removed]",
      "text/plain": [
       "plot without title"
      ]
     },
     "metadata": {
      "image/png": {
       "height": 139.8,
       "width": 345
      }
     },
     "output_type": "display_data"
    }
   ],
   "source": [
    "# alcohol - base interaction plot for paper\n",
    "options(repr.plot.height = 2.33, repr.plot.width = 5.75)\n",
    "plot_data <- ab_ctr %>%\n",
    "    left_join(da, by = \"a\") %>%\n",
    "    mutate(isprimary = factor(ifelse(order == \"primary\",\n",
    "                                              \"primary\", \"non-primary\"),\n",
    "           levels = c(\"primary\", \"non-primary\"))) %>%\n",
    "    mutate(a = as.factor(gsub(\"1\", \"\", a))) %>%\n",
    "    mutate(a = fct_reorder(a, C_PVBur)) %>%\n",
    "    mutate(activation = factor(ifelse(allylic == 1, \"allylic\",\n",
    "    ifelse(benzylic == 1, \"benzylic\", \"unactivated\")),\n",
    "          levels = c(\"unactivated\", \"benzylic\", \"allylic\")))\n",
    "\n",
    "p3 <- ggplot(plot_data,\n",
    "           aes(x = C_PVBur, y = estimate, ymax = (estimate + 2 * SE),\n",
    "           ymin = (estimate - 2 * SE), color = contrast)) +\n",
    "     geom_line(aes(linetype = contrast), alpha = 1, size = 0.6) +\n",
    "     geom_hline(yintercept = 0, linetype = 2) +\n",
    "\n",
    "     geom_point(size = 1) +\n",
    "     geom_point(data = plot_data %>%\n",
    "          filter(activation %in% c(\"benzylic\", \"allylic\")),\n",
    "                 aes(shape = activation, size = activation)) +\n",
    "     geom_rect(data = data.frame(isprimary = factor(\"primary\"), C_PVBur = 0.36,\n",
    "          estimate = 0, SE = 0),\n",
    "          xmin = -Inf, xmax = 0.368,\n",
    "          ymin = -Inf, ymax = Inf, alpha = 0.1,\n",
    "          fill = agd_palette[7], color = agd_palette[7]) +\n",
    "\n",
    "     facet_wrap(. ~ isprimary, ncol = 2, scales = \"free_x\") +\n",
    "\n",
    "     theme_prism(base_size = 6.3) +\n",
    "\n",
    "     scale_color_manual(values = agd_palette) +\n",
    "     scale_size_manual(values = c(2.5, 2.5)) +\n",
    "     scale_shape_manual(values = c(5, 1)) +\n",
    "\n",
    "     labs(x = expression(paste(\"Alcohol\", \" \", V[bur])),\n",
    "          y = expression(paste(Yield - Yield[BTPP], \" [%]\")),\n",
    "          color = \"Base\", linetype = \"Base\",\n",
    "          size = \"Activation\",\n",
    "          shape = \"Activation\") +\n",
    "\n",
    "     theme(legend.position = \"top\", legend.title = element_text()) +\n",
    "     theme(panel.spacing = unit(1, \"line\")) +\n",
    "     theme(text = element_text(face = \"plain\", family = \"sans\")) +\n",
    "     guides(color = guide_legend(keywidth = unit(2.3, \"line\")))\n",
    "\n",
    "p3\n",
    "\n",
    "ggsave(\"../doexyF_paper/plots/interactions_A.svg\",\n",
    " p3, width = 5.75, height = 2.33)\n",
    "ggsave(\"../doexyF_paper/plots/interactions_A.png\",\n",
    " p3, width = 5.75, height = 2.33, dpi = 600)"
   ]
  },
  {
   "cell_type": "code",
   "execution_count": 447,
   "id": "e3b94bf9",
   "metadata": {
    "vscode": {
     "languageId": "r"
    }
   },
   "outputs": [
    {
     "name": "stderr",
     "output_type": "stream",
     "text": [
      "geom_path: Each group consists of only one observation. Do you need to adjust\n",
      "the group aesthetic?\n",
      "\n",
      "geom_path: Each group consists of only one observation. Do you need to adjust\n",
      "the group aesthetic?\n",
      "\n",
      "geom_path: Each group consists of only one observation. Do you need to adjust\n",
      "the group aesthetic?\n",
      "\n"
     ]
    },
    {
     "data": {
      "image/png": "[encoded data removed]",
      "text/plain": [
       "plot without title"
      ]
     },
     "metadata": {
      "image/png": {
       "height": 139.8,
       "width": 345
      }
     },
     "output_type": "display_data"
    }
   ],
   "source": [
    "# alcohol-sulfonul fluoride interaction plot for paper\n",
    "\n",
    "options(repr.plot.height = 2.33, repr.plot.width = 5.75)\n",
    "plot_data <- as_ctr %>%\n",
    "    left_join(da, by = \"a\") %>%\n",
    "    mutate(ring_angle = ifelse(C_angle < 90, \"0\", \n",
    "                               ifelse(C_angle < 105, \"1\", \"2\"))) %>%\n",
    "    mutate(a = as.factor(gsub(\"1\", \"\", a))) %>%\n",
    "    mutate(a = fct_reorder(a, C_angle)) %>%\n",
    "    mutate(Cupped = if_else(C_angle < 101.75 & ring_size == 5,\n",
    "                            \"Fused 5-membered rings\", \"Other\")) %>%\n",
    "    mutate(contrast = factor(contrast, labels = expression(4-CF[3], 4-Cl, 4-NO[2], PyFluor)))\n",
    "\n",
    "p4 <- ggplot(plot_data,\n",
    "           aes(x = C_angle, y = estimate, ymax = (estimate + 2 * SE),\n",
    "           ymin = (estimate - 2 * SE), color = contrast)) +\n",
    "\n",
    "    geom_point(size = 1) +\n",
    "    geom_hline(yintercept = 0, linetype = 2) +\n",
    "    geom_line(aes(\n",
    "                  linetype = contrast),\n",
    "                  alpha = 1, size = 0.6) +\n",
    "    geom_point(data = plot_data %>% filter(Cupped == \"Fused 5-membered rings\"),\n",
    "               aes(shape = Cupped, size = Cupped)) +\n",
    "    geom_rect(data = data.frame(ring_angle = c(\"0\", \"0\", \"1\", \"1\"),\n",
    "                                estimate = 0,\n",
    "                                C_angle = c(87.8, 90, 101, 104.6)),\n",
    "                xmin = -Inf, xmax = Inf,\n",
    "                ymin = -Inf, ymax = Inf, alpha = 0.1,\n",
    "                fill = agd_palette[7], color = agd_palette[7]) +\n",
    "\n",
    "    facet_grid(. ~ ring_angle, scales = \"free_x\", space = \"free\") +\n",
    "    theme_prism(base_size = 6.3) +\n",
    "\n",
    "    scale_color_manual(values = agd_palette,\n",
    "                       labels = parse_format()) +\n",
    "    scale_linetype_manual(values = c(linetype_pal()(3), \"dotted\"),\n",
    "                          labels = parse_format()) +\n",
    "    scale_x_continuous(breaks = scales::pretty_breaks(n = 3),\n",
    "                       position = \"bottom\") +\n",
    "    scale_size_manual(values = c(2.5)) +\n",
    "    scale_shape_manual(values = c(5)) +\n",
    "\n",
    "    theme(legend.position = \"top\", legend.title = element_text()) +\n",
    "    theme(panel.spacing = unit(2, \"lines\")) +\n",
    "    theme(strip.background = element_blank(),  strip.text.x = element_blank()) +\n",
    "    theme(text = element_text(face = \"plain\", family = \"sans\")) +\n",
    "    labs(x = expression(paste(\"Alcohol\", \" \", C[alpha])),\n",
    "         y = expression(paste(Yield - Yield[PBSF], \" [%]\")),\n",
    "         color = \"Sulfonyl Fluoride\",\n",
    "         linetype = \"Sulfonyl Fluoride\", size = \"\", shape = \"\") +\n",
    "    guides(color = guide_legend(keywidth = unit(2.3, \"line\")))\n",
    "\n",
    "p4\n",
    "\n",
    "ggsave(\"../doexyF_paper/plots/interactions_B.svg\",\n",
    " p4, width = 5.75, height = 2.33)\n",
    "ggsave(\"../doexyF_paper/plots/interactions_B.png\",\n",
    " p4, width = 5.75, height = 2.33, dpi = 600)"
   ]
  },
  {
   "cell_type": "code",
   "execution_count": 448,
   "id": "e5cbdf5f",
   "metadata": {
    "vscode": {
     "languageId": "r"
    }
   },
   "outputs": [
    {
     "name": "stderr",
     "output_type": "stream",
     "text": [
      "geom_path: Each group consists of only one observation. Do you need to adjust\n",
      "the group aesthetic?\n",
      "\n",
      "geom_path: Each group consists of only one observation. Do you need to adjust\n",
      "the group aesthetic?\n",
      "\n",
      "geom_path: Each group consists of only one observation. Do you need to adjust\n",
      "the group aesthetic?\n",
      "\n"
     ]
    },
    {
     "data": {
      "image/png": "[encoded data removed]",
      "text/plain": [
       "plot without title"
      ]
     },
     "metadata": {
      "image/png": {
       "height": 279.6,
       "width": 345
      }
     },
     "output_type": "display_data"
    }
   ],
   "source": [
    "# Save interaction plots for paper\n",
    "options(repr.plot.width = 5.75, repr.plot.height = 4.66)\n",
    "p3 / p4 + plot_layout(heights = c(1, 1))\n",
    "\n",
    "ggsave(\"../doexyF_paper/plots/interactions.svg\",\n",
    " width = 5.75, height = 4.66)\n",
    "ggsave(\"../doexyF_paper/plots/interactions.png\",\n",
    " width = 5.75, height = 4.66, dpi = 600)"
   ]
  },
  {
   "cell_type": "markdown",
   "id": "8e342a1f",
   "metadata": {},
   "source": [
    "## Analysis of the Main Effect\n",
    "Obtain the values of the effect from the model itself. Analyze the random effect that's attributed to alcohol."
   ]
  },
  {
   "cell_type": "code",
   "execution_count": 465,
   "id": "947d6dc5",
   "metadata": {
    "vscode": {
     "languageId": "r"
    }
   },
   "outputs": [],
   "source": [
    "# Compute the alcohol effect at BTPP/PBSF level\n",
    "aeff <- as.data.frame(emmeans(m, ~ a | b * s)) %>%\n",
    "     filter(b == \"BTPP\", s == \"PBSF\") %>%\n",
    "     left_join(da, by = \"a\")"
   ]
  },
  {
   "cell_type": "code",
   "execution_count": 466,
   "id": "3ff0506c",
   "metadata": {
    "vscode": {
     "languageId": "r"
    }
   },
   "outputs": [
    {
     "name": "stderr",
     "output_type": "stream",
     "text": [
      "`geom_smooth()` using formula 'y ~ x'\n",
      "\n",
      "`geom_smooth()` using formula 'y ~ x'\n",
      "\n",
      "`geom_smooth()` using formula 'y ~ x'\n",
      "\n"
     ]
    },
    {
     "data": {
      "image/png": "[encoded data removed]",
      "text/plain": [
       "plot without title"
      ]
     },
     "metadata": {
      "image/png": {
       "height": 144,
       "width": 194.4
      }
     },
     "output_type": "display_data"
    }
   ],
   "source": [
    "# Plot main effect dependence for primary alcohols\n",
    "options(repr.plot.height = 2.4, repr.plot.width = 3.24)\n",
    "\n",
    "aeff_p <- aeff %>% filter(order == \"primary\")\n",
    "aeff_s <- aeff %>% filter(order == \"secondary\")\n",
    "\n",
    "p1 <- ggplot(aeff_p,\n",
    "       aes(y = emmean, ymax = upper.CL, ymin = lower.CL,\n",
    "           x = C_PVBur)) +\n",
    "\n",
    "    geom_smooth(data = aeff_p %>% filter(a != \"1w\"),\n",
    "                method = \"lm\", color = agd_palette[1], fill = agd_palette[7]) +\n",
    "    geom_errorbar(width = 0, alpha = 1, size = 2, color = agd_palette[7]) +\n",
    "    geom_point() +\n",
    "    geom_text_repel(aes(label = gsub(\"1\", \"\", a)), size = 2) +\n",
    "\n",
    "    theme_prism(base_size = 6.3) +\n",
    "\n",
    "    labs(x = expression(paste(\"Alcohol\", \" \", V[bur])), y = \"Yield [%]\") +\n",
    "    scale_color_manual(values = agd_palette) +\n",
    "    scale_fill_manual(values = agd_palette) +\n",
    "    theme(legend.position = \"top\") +\n",
    "    theme(text = element_text(face = \"plain\", family = \"sans\"))\n",
    "\n",
    "p1\n",
    "\n",
    "ggsave(\"../doexyF_paper/plots/main_eff_A.svg\", p1,\n",
    " width = 3.24, height = 2.4)\n",
    "ggsave(\"../doexyF_paper/plots/main_eff_A.png\", p1,\n",
    " width = 3.24, height = 2.4, dpi = 600)"
   ]
  },
  {
   "cell_type": "code",
   "execution_count": 467,
   "id": "5ec50ec8",
   "metadata": {
    "vscode": {
     "languageId": "r"
    }
   },
   "outputs": [],
   "source": [
    "# make features for fitting the final model\n",
    "\n",
    "model_features <- function(data) {\n",
    "    data %>%\n",
    "    mutate(isPBSF = as.factor(s == \"PBSF\"),\n",
    "           exposed = as.factor(C_PVBur < 0.37),\n",
    "           ring_size_4 = as.factor(ring_size == 4),\n",
    "           ring_size_5 = as.factor(ring_size == 5),\n",
    "           strained = as.factor(C_angle < 101.75),\n",
    "           primary = as.integer(order == \"primary\"),\n",
    "           tertiary = as.factor(order == \"tertiary\"))\n",
    "}\n",
    "\n",
    "data_m <- model_features(data)"
   ]
  },
  {
   "cell_type": "code",
   "execution_count": 468,
   "id": "3d922f51",
   "metadata": {
    "vscode": {
     "languageId": "r"
    }
   },
   "outputs": [
    {
     "data": {
      "text/html": [
       "0.88"
      ],
      "text/latex": [
       "0.88"
      ],
      "text/markdown": [
       "0.88"
      ],
      "text/plain": [
       "[1] 0.88"
      ]
     },
     "metadata": {},
     "output_type": "display_data"
    }
   ],
   "source": [
    "# fit an intermittent model with a random effect for alcohol and all\n",
    "# effects already in play\n",
    "m_int <- gam(yield ~\n",
    "    + b + s\n",
    "    + b:(exposed + exposed:benzylic)\n",
    "\n",
    "    + (strained:ring_size_5 + tertiary):isPBSF\n",
    "\n",
    "    + s(a, bs = \"re\")\n",
    "\n",
    "    + allylic\n",
    "    + homoallylic\n",
    "    + I(C_PVBur * primary) + primary\n",
    "    , data = data_m, method = \"REML\", family = gaussian())\n",
    "\n",
    "round(summary(m_int)$r.sq, 2)"
   ]
  },
  {
   "cell_type": "code",
   "execution_count": 469,
   "id": "9d1b68c3",
   "metadata": {
    "vscode": {
     "languageId": "r"
    }
   },
   "outputs": [],
   "source": [
    "# fetch the terms that correspond to the random alcohol effect\n",
    "p <- predict(m_int, type = \"terms\", se.fit = TRUE)\n",
    "re2 <- p[[\"fit\"]][, \"s(a)\"]\n",
    "se2 <- p[[\"se.fit\"]][, \"s(a)\"]\n",
    "\n",
    "aeff <- data.frame(eff = re2, se = se2, a = data_m$a) %>%\n",
    "    distinct() %>%\n",
    "    left_join(da, by = \"a\")"
   ]
  },
  {
   "cell_type": "code",
   "execution_count": 470,
   "id": "44d28b80",
   "metadata": {
    "vscode": {
     "languageId": "r"
    }
   },
   "outputs": [
    {
     "data": {
      "image/png": "[encoded data removed]",
      "text/plain": [
       "plot without title"
      ]
     },
     "metadata": {
      "image/png": {
       "height": 144,
       "width": 194.4
      }
     },
     "output_type": "display_data"
    }
   ],
   "source": [
    "# make the alcohol effect plot for the paper\n",
    "options(repr.plot.height = 2.4, repr.plot.width = 3.24)\n",
    "\n",
    "p2 <- ggplot(aeff, aes(y = eff, ymax = eff + se, ymin = eff - se,\n",
    "                 x = electronegativity)) +\n",
    "    geom_smooth(method = \"gam\", color = agd_palette[1], fill = agd_palette[7],\n",
    "               formula = y ~ s(x, bs = \"cs\", k = 5)) +\n",
    "    geom_point(aes(color = order, shape = order)) +\n",
    "    geom_errorbar(aes(color = order), width = 0, size = 2, alpha = 0.4) +\n",
    "    geom_text_repel(aes(label = gsub(\"1\", \"\", a)), size = 2) +\n",
    "    labs(y = \"Effect on Yield [%]\", x = \"Alcohol Electronegativity\") +\n",
    "    scale_color_manual(values = agd_palette[c(1, 3, 2)]) +\n",
    "    scale_fill_manual(values = agd_palette[c(1, 3, 2)]) +\n",
    "    theme_prism(base_size = 6.3) +\n",
    "    theme(text = element_text(face = \"plain\", family = \"sans\")) +\n",
    "    theme(legend.position = \"top\")\n",
    "    \n",
    "p2\n",
    "\n",
    "ggsave(\"../doexyF_paper/plots/main_eff_B.svg\", p2,\n",
    " width = 3.24, height = 2.4)\n",
    "ggsave(\"../doexyF_paper/plots/main_eff_B.png\", p2,\n",
    " width = 3.24, height = 2.4, dpi = 600)"
   ]
  },
  {
   "cell_type": "code",
   "execution_count": 471,
   "id": "845f34a1",
   "metadata": {
    "vscode": {
     "languageId": "r"
    }
   },
   "outputs": [
    {
     "name": "stderr",
     "output_type": "stream",
     "text": [
      "`geom_smooth()` using formula 'y ~ x'\n",
      "\n",
      "`geom_smooth()` using formula 'y ~ x'\n",
      "\n",
      "`geom_smooth()` using formula 'y ~ x'\n",
      "\n"
     ]
    },
    {
     "data": {
      "image/png": "[encoded data removed]",
      "text/plain": [
       "plot without title"
      ]
     },
     "metadata": {
      "image/png": {
       "height": 288,
       "width": 194.4
      }
     },
     "output_type": "display_data"
    }
   ],
   "source": [
    "# save the alcohol main effect for the paper\n",
    "options(repr.plot.width = 3.24, repr.plot.height = 4.8)\n",
    "p1 / p2\n",
    "\n",
    "ggsave(\"../doexyF_paper/plots/main_eff.svg\",\n",
    " width = 3.24, height = 4.8)\n",
    "ggsave(\"../doexyF_paper/plots/main_eff.png\",\n",
    " width = 3.24, height = 4.8, dpi = 600)\n"
   ]
  },
  {
   "cell_type": "markdown",
   "id": "ccefc0bc",
   "metadata": {},
   "source": [
    "## Build Final $M_{1}$ model\n",
    "Fit the model, and save its training predictions."
   ]
  },
  {
   "cell_type": "code",
   "execution_count": 456,
   "id": "fbc38ce1",
   "metadata": {
    "vscode": {
     "languageId": "r"
    }
   },
   "outputs": [
    {
     "data": {
      "text/html": [
       "'R^2'"
      ],
      "text/latex": [
       "'R\\textasciicircum{}2'"
      ],
      "text/markdown": [
       "'R^2'"
      ],
      "text/plain": [
       "[1] \"R^2\""
      ]
     },
     "metadata": {},
     "output_type": "display_data"
    },
    {
     "data": {
      "text/html": [
       "0.78"
      ],
      "text/latex": [
       "0.78"
      ],
      "text/markdown": [
       "0.78"
      ],
      "text/plain": [
       "[1] 0.78"
      ]
     },
     "metadata": {},
     "output_type": "display_data"
    },
    {
     "data": {
      "text/html": [
       "'DoF'"
      ],
      "text/latex": [
       "'DoF'"
      ],
      "text/markdown": [
       "'DoF'"
      ],
      "text/plain": [
       "[1] \"DoF\""
      ]
     },
     "metadata": {},
     "output_type": "display_data"
    },
    {
     "data": {
      "text/html": [
       "33.98"
      ],
      "text/latex": [
       "33.98"
      ],
      "text/markdown": [
       "33.98"
      ],
      "text/plain": [
       "[1] 33.98"
      ]
     },
     "metadata": {},
     "output_type": "display_data"
    },
    {
     "data": {
      "text/html": [
       "'ANOVA table'"
      ],
      "text/latex": [
       "'ANOVA table'"
      ],
      "text/markdown": [
       "'ANOVA table'"
      ],
      "text/plain": [
       "[1] \"ANOVA table\""
      ]
     },
     "metadata": {},
     "output_type": "display_data"
    },
    {
     "data": {
      "text/plain": [
       "\n",
       "Family: gaussian \n",
       "Link function: identity \n",
       "\n",
       "Formula:\n",
       "prob ~ +b + s + b:(exposed + exposed:benzylic) + (strained:ring_size_5 + \n",
       "    tertiary):isPBSF + allylic + homoallylic + I(C_PVBur * primary) + \n",
       "    primary + s(electronegativity, k = 4)\n",
       "\n",
       "Parametric Terms:\n",
       "                            df       F  p-value\n",
       "b                            3   5.477  0.00101\n",
       "s                            4  28.856  < 2e-16\n",
       "allylic                      1 116.255  < 2e-16\n",
       "homoallylic                  1 257.155  < 2e-16\n",
       "I(C_PVBur * primary)         1 307.829  < 2e-16\n",
       "primary                      1 287.915  < 2e-16\n",
       "b:exposed                    4  13.619 1.06e-10\n",
       "tertiary:isPBSF              2  51.963  < 2e-16\n",
       "b:exposed:benzylic           8  22.139  < 2e-16\n",
       "isPBSF:strained:ring_size_5  6  85.997  < 2e-16\n",
       "\n",
       "Approximate significance of smooth terms:\n",
       "                       edf Ref.df     F p-value\n",
       "s(electronegativity) 2.979  3.000 148.7  <2e-16"
      ]
     },
     "metadata": {},
     "output_type": "display_data"
    }
   ],
   "source": [
    "# fit the final model\n",
    "ma <- gam(prob ~\n",
    "    + b + s\n",
    "    + b:(exposed + exposed:benzylic)\n",
    "\n",
    "    + (strained:ring_size_5 + tertiary):isPBSF\n",
    "\n",
    "    + allylic\n",
    "    + homoallylic\n",
    "    + I(C_PVBur * primary)\n",
    "    + primary\n",
    "    + s(electronegativity, k = 4)\n",
    "    , data = data_m, method = \"REML\", family = gaussian())\n",
    "\n",
    "\"R^2\"\n",
    "round(summary(ma)$r.sq, 2)\n",
    "\n",
    "\"DoF\"\n",
    "round(ma$df.null - ma$df.residual, 2)\n",
    "\n",
    "\"ANOVA table\"\n",
    "anova(ma)"
   ]
  },
  {
   "cell_type": "code",
   "execution_count": 457,
   "id": "ab9f7996",
   "metadata": {
    "scrolled": true,
    "vscode": {
     "languageId": "r"
    }
   },
   "outputs": [],
   "source": [
    "# make predictions on the training data (for training error)\n",
    "data_plot <- data %>%\n",
    "    mutate(pred.traingam = pmax(0, predict(ma, type = \"response\")))"
   ]
  },
  {
   "cell_type": "markdown",
   "id": "76826bd2",
   "metadata": {},
   "source": [
    "## Validations\n",
    "First leave one alcohol out"
   ]
  },
  {
   "cell_type": "code",
   "execution_count": 472,
   "id": "e1a3c9f4",
   "metadata": {
    "vscode": {
     "languageId": "r"
    }
   },
   "outputs": [],
   "source": [
    "# leave-one-molecule out indexing\n",
    "index <- seq_along(data_m$yield)\n",
    "index_out <- split(index, data_m$a)\n",
    "index_in <- lapply(index_out, function(i) setdiff(index, i))"
   ]
  },
  {
   "cell_type": "markdown",
   "id": "183f8720",
   "metadata": {},
   "source": [
    "Add baseline models"
   ]
  },
  {
   "cell_type": "code",
   "execution_count": 473,
   "id": "19eeac07",
   "metadata": {
    "vscode": {
     "languageId": "r"
    }
   },
   "outputs": [],
   "source": [
    "ctrl <- trainControl(\"LOOCV\", number = length(index_in),\n",
    "                     index = index_in, indexOut = index_out,\n",
    "                     savePredictions = \"final\")"
   ]
  },
  {
   "cell_type": "code",
   "execution_count": 474,
   "id": "b6f918c0",
   "metadata": {
    "vscode": {
     "languageId": "r"
    }
   },
   "outputs": [],
   "source": [
    "mb0 <- train(prob ~ b * s, data = data, method = \"lm\", trControl = ctrl)\n",
    "mb1 <- train(data %>% select(-a, -yield, -prob),\n",
    "             data$prob, method = \"rf\", ntree = 100, trControl = ctrl,\n",
    "           tuneGrid = expand.grid(mtry = c(5)))\n",
    "\n",
    "data_plot <- data_plot %>% mutate(pred.trainrf = predict(mb1))"
   ]
  },
  {
   "cell_type": "markdown",
   "id": "db7ff6c6",
   "metadata": {},
   "source": [
    "$M_1$ model"
   ]
  },
  {
   "cell_type": "code",
   "execution_count": 475,
   "id": "9a7fdd9f",
   "metadata": {
    "vscode": {
     "languageId": "r"
    }
   },
   "outputs": [
    {
     "data": {
      "text/plain": [
       "prob ~ +b + s + b:(exposed + exposed:benzylic) + (strained:ring_size_5 + \n",
       "    tertiary):isPBSF + allylic + homoallylic + I(C_PVBur * primary) + \n",
       "    primary + s(electronegativity, k = 4)"
      ]
     },
     "metadata": {},
     "output_type": "display_data"
    }
   ],
   "source": [
    "fam <- gaussian()\n",
    "frml <- ma$formula\n",
    "frml"
   ]
  },
  {
   "cell_type": "code",
   "execution_count": 476,
   "id": "cbd3a2d5",
   "metadata": {
    "vscode": {
     "languageId": "r"
    }
   },
   "outputs": [],
   "source": [
    "# parallel loop\n",
    "pred <- foreach(iout = index_out,\n",
    "                .packages = c(\"mgcv\", \"randomForest\", \"dplyr\")) %dopar% {\n",
    "\n",
    "    tr <- data_m[-iout, ]\n",
    "    tst <- data_m[iout, ]\n",
    "\n",
    "\n",
    "    nha <- length(unique(tr[-iout, \"homoallylic\"]))\n",
    "    if (nha == 2) {\n",
    "        frml_i <- frml\n",
    "    } else {\n",
    "        frml_i <- update(frml, ~. - homoallylic)\n",
    "    }\n",
    "\n",
    "    mi <- gam(frml_i, data = tr, method = \"REML\", select = F, family = fam)\n",
    "    mrfi <- randomForest(tr %>% select(-a, -yield, -prob),\n",
    "                         tr$prob, ntree = 100, mtry = 5)\n",
    "    pi <- predict(mi, newdata = tst, type = \"response\")\n",
    "    prfi <- predict(mrfi, newdata = tst)\n",
    "    print (prfi)\n",
    "    data.frame(pred.gam = pi, pred.rf = prfi, obs = tst$prob, row.names = iout)\n",
    "}\n",
    "\n",
    "# combine and order\n",
    "pred <- do.call(\"rbind\", pred)\n",
    "pred <- pred[order(as.numeric(rownames(pred))), ]"
   ]
  },
  {
   "cell_type": "code",
   "execution_count": 477,
   "id": "aff28f59",
   "metadata": {
    "vscode": {
     "languageId": "r"
    }
   },
   "outputs": [],
   "source": [
    "# add this to data\n",
    "data_plot <- data_plot %>%\n",
    "    mutate(pred.loogam = pmax(0, pred$pred.gam), pred.loorf = pred$pred.rf)"
   ]
  },
  {
   "cell_type": "code",
   "execution_count": 478,
   "id": "80a9be98",
   "metadata": {
    "vscode": {
     "languageId": "r"
    }
   },
   "outputs": [
    {
     "data": {
      "text/html": [
       "<table class=\"dataframe\">\n",
       "<caption>A data.frame: 12 × 2</caption>\n",
       "<thead>\n",
       "\t<tr><th scope=col>name</th><th scope=col>value</th></tr>\n",
       "\t<tr><th scope=col>&lt;chr&gt;</th><th scope=col>&lt;dbl&gt;</th></tr>\n",
       "</thead>\n",
       "<tbody>\n",
       "\t<tr><td>RMSE.loogam  </td><td>16.7</td></tr>\n",
       "\t<tr><td>MAE.loogam   </td><td>14.7</td></tr>\n",
       "\t<tr><td>r2.loogam    </td><td>47.8</td></tr>\n",
       "\t<tr><td>RMSE.loorf   </td><td>22.9</td></tr>\n",
       "\t<tr><td>MAE.loorf    </td><td>20.9</td></tr>\n",
       "\t<tr><td>r2.loorf     </td><td>53.4</td></tr>\n",
       "\t<tr><td>RMSE.traingam</td><td>11.6</td></tr>\n",
       "\t<tr><td>MAE.traingam </td><td> 9.7</td></tr>\n",
       "\t<tr><td>r2.traingam  </td><td>51.7</td></tr>\n",
       "\t<tr><td>RMSE.trainrf </td><td>10.6</td></tr>\n",
       "\t<tr><td>MAE.trainrf  </td><td> 8.7</td></tr>\n",
       "\t<tr><td>r2.trainrf   </td><td>85.7</td></tr>\n",
       "</tbody>\n",
       "</table>\n"
      ],
      "text/latex": [
       "A data.frame: 12 × 2\n",
       "\\begin{tabular}{ll}\n",
       " name & value\\\\\n",
       " <chr> & <dbl>\\\\\n",
       "\\hline\n",
       "\t RMSE.loogam   & 16.7\\\\\n",
       "\t MAE.loogam    & 14.7\\\\\n",
       "\t r2.loogam     & 47.8\\\\\n",
       "\t RMSE.loorf    & 22.9\\\\\n",
       "\t MAE.loorf     & 20.9\\\\\n",
       "\t r2.loorf      & 53.4\\\\\n",
       "\t RMSE.traingam & 11.6\\\\\n",
       "\t MAE.traingam  &  9.7\\\\\n",
       "\t r2.traingam   & 51.7\\\\\n",
       "\t RMSE.trainrf  & 10.6\\\\\n",
       "\t MAE.trainrf   &  8.7\\\\\n",
       "\t r2.trainrf    & 85.7\\\\\n",
       "\\end{tabular}\n"
      ],
      "text/markdown": [
       "\n",
       "A data.frame: 12 × 2\n",
       "\n",
       "| name &lt;chr&gt; | value &lt;dbl&gt; |\n",
       "|---|---|\n",
       "| RMSE.loogam   | 16.7 |\n",
       "| MAE.loogam    | 14.7 |\n",
       "| r2.loogam     | 47.8 |\n",
       "| RMSE.loorf    | 22.9 |\n",
       "| MAE.loorf     | 20.9 |\n",
       "| r2.loorf      | 53.4 |\n",
       "| RMSE.traingam | 11.6 |\n",
       "| MAE.traingam  |  9.7 |\n",
       "| r2.traingam   | 51.7 |\n",
       "| RMSE.trainrf  | 10.6 |\n",
       "| MAE.trainrf   |  8.7 |\n",
       "| r2.trainrf    | 85.7 |\n",
       "\n"
      ],
      "text/plain": [
       "   name          value\n",
       "1  RMSE.loogam   16.7 \n",
       "2  MAE.loogam    14.7 \n",
       "3  r2.loogam     47.8 \n",
       "4  RMSE.loorf    22.9 \n",
       "5  MAE.loorf     20.9 \n",
       "6  r2.loorf      53.4 \n",
       "7  RMSE.traingam 11.6 \n",
       "8  MAE.traingam   9.7 \n",
       "9  r2.traingam   51.7 \n",
       "10 RMSE.trainrf  10.6 \n",
       "11 MAE.trainrf    8.7 \n",
       "12 r2.trainrf    85.7 "
      ]
     },
     "metadata": {},
     "output_type": "display_data"
    }
   ],
   "source": [
    "ret_mixed <- data_plot %>%\n",
    "    # filter(a != '1ab') %>%\n",
    "    group_by(a) %>%\n",
    "    summarize(RMSE.loogam = sqrt(mean((prob - pred.loogam)**2)),\n",
    "              MAE.loogam = mean(abs(prob - pred.loogam)),\n",
    "              r2.loogam = summary(lm(prob ~ pred.loogam))$r.squared,\n",
    "              RMSE.loorf = sqrt(mean((prob - pred.loorf)**2)),\n",
    "              MAE.loorf = mean(abs(prob - pred.loorf)),\n",
    "              r2.loorf = summary(lm(prob ~ pred.loorf))$r.squared,\n",
    "              RMSE.traingam = sqrt(mean((prob - pred.traingam)**2)),\n",
    "              MAE.traingam = mean(abs(prob - pred.traingam)),\n",
    "              r2.traingam = summary(lm(prob ~ pred.traingam))$r.squared,\n",
    "              RMSE.trainrf = sqrt(mean((prob - pred.trainrf)**2)),\n",
    "              MAE.trainrf = mean(abs(prob - pred.trainrf)),\n",
    "              r2.trainrf = summary(lm(prob ~ pred.trainrf))$r.squared,\n",
    "             ) %>%\n",
    "    mutate(across(where(is.numeric), round, 3)) %>%\n",
    "    arrange(a) %>%\n",
    "    column_to_rownames(\"a\")\n",
    "\n",
    "rsummary <- as.data.frame(100 * round(colMeans(ret_mixed), 3)) %>%\n",
    "    rownames_to_column(\"name\")\n",
    "colnames(rsummary)[2] <- \"value\"\n",
    "tab <- rsummary %>%\n",
    "    filter(!grepl(\"r2\", name)) %>%\n",
    "    mutate(type = ifelse(grepl(\"loo\", name), \"loo\", \"train\"),\n",
    "           model = ifelse(grepl(\"gam\", name), \"gam\", \"rf\"),\n",
    "           metric = ifelse(grepl(\"RMSE\", name), \"RMSE\", \"MAE\")) %>%\n",
    "    select(-name) %>%\n",
    "    pivot_wider(names_from = metric)\n",
    "\n",
    "rsummary"
   ]
  },
  {
   "cell_type": "code",
   "execution_count": 479,
   "id": "b1ca46b4",
   "metadata": {
    "vscode": {
     "languageId": "r"
    }
   },
   "outputs": [
    {
     "name": "stderr",
     "output_type": "stream",
     "text": [
      "Warning message:\n",
      "\"ggrepel: 8 unlabeled data points (too many overlaps). Consider increasing max.overlaps\"\n",
      "Warning message:\n",
      "\"ggrepel: 8 unlabeled data points (too many overlaps). Consider increasing max.overlaps\"\n"
     ]
    },
    {
     "data": {
      "image/png": "[encoded data removed]",
      "text/plain": [
       "plot without title"
      ]
     },
     "metadata": {
      "image/png": {
       "height": 145.8,
       "width": 194.4
      }
     },
     "output_type": "display_data"
    }
   ],
   "source": [
    "options(repr.plot.width = 3.24, repr.plot.height = 2.43)\n",
    "to_plt <- ret_mixed %>%\n",
    "       rownames_to_column(\"a\") %>%\n",
    "       left_join(da, by = \"a\") %>%\n",
    "       mutate(type = factor(ifelse(order == \"tertiary\", \"tertiary\",\n",
    "              ifelse(allylic == 1 | homoallylic == 1, \"allylic\", \"none\"))))\n",
    "\n",
    "  \n",
    "\n",
    "ggplot(to_plt,\n",
    "       aes(x = MAE.loogam, y = MAE.traingam)) +\n",
    "       geom_point(aes(color = \"m\"), alpha = 1) +\n",
    "       geom_point(aes(x = MAE.loorf, y = MAE.trainrf,\n",
    "                      color = \"rf\"), alpha = 1) +\n",
    "       geom_text_repel(aes(label = gsub(\"1\", \"\", a)),\n",
    "                       size = 2, max.overlaps = 12) +\n",
    "       geom_abline(intercept = 0, slope = 1, linetype = 2) +\n",
    "\n",
    "       geom_point(data = to_plt %>% filter(type != \"none\"),\n",
    "                  aes(x = MAE.loogam, y = MAE.traingam),\n",
    "              pch = 1, size = 3, show.legend = F) +\n",
    "\n",
    "       labs(x = \"Leave-One-Alcohol-Out MAE\", y = \"Training MAE\") +\n",
    "       scale_color_manual(values = agd_palette[c(1, 3)],\n",
    "                          labels = c(expression(M[1]),\n",
    "       \"Random Forest\")) +\n",
    "       theme_prism(base_size = 6.3)  +\n",
    "       theme(text = element_text(face = \"plain\", family = \"sans\")) +\n",
    "       theme(legend.position = \"top\")\n",
    "\n",
    "ggsave(\"../doexyF_paper/plots/loo.svg\", width = 3.24, height = 2.43)\n",
    "ggsave(\"../doexyF_paper/plots/loo.png\", width = 3.24, height = 2.43, dpi = 600)"
   ]
  },
  {
   "cell_type": "markdown",
   "id": "1cdd2983",
   "metadata": {},
   "source": [
    "## Out-of-sample validation\n",
    "Predictions with uncertainty on the new set of alcohols."
   ]
  },
  {
   "cell_type": "code",
   "execution_count": 481,
   "id": "e412f3cd",
   "metadata": {
    "vscode": {
     "languageId": "r"
    }
   },
   "outputs": [
    {
     "name": "stderr",
     "output_type": "stream",
     "text": [
      "`summarise()` has grouped output by 'a', 'b'. You can override using the `.groups` argument.\n"
     ]
    }
   ],
   "source": [
    "va_fact <- read.csv(\"../data/Deoxyfluorination_validation_alcohols.csv\")\n",
    "va_yields <- read.csv(\"../data/Deoxyfluorination_validation_data.csv\")\n",
    "\n",
    "va_fact <- va_fact %>% select(-colnames(va_fact)[1]) %>% rename(a = name)\n",
    "va_desc <- va_fact %>%\n",
    "    left_join(da_dft, by = \"a\") %>%\n",
    "    mutate(C_PVBur = ifelse(a == \"1am\", 0.425, C_PVBur))\n",
    "\n",
    "va_yield <- va_yields %>%\n",
    "    filter(ignore == 0) %>%\n",
    "    rename(s = so2f, b = base, a = name) %>%\n",
    "    select(a, b, s, yield, yield_THF) %>%\n",
    "    group_by(a, b, s) %>%\n",
    "    summarize(yield_tot = mean(yield + yield_THF),\n",
    "              yield = mean(yield)) %>%\n",
    "    ungroup()\n",
    "\n",
    "va <- va_yield %>% left_join(va_desc, by = \"a\")"
   ]
  },
  {
   "cell_type": "markdown",
   "id": "2d16736f",
   "metadata": {},
   "source": [
    "Analysis  of the alcohol-base interaction in the validation set."
   ]
  },
  {
   "cell_type": "code",
   "execution_count": 482,
   "id": "bf1dac5f",
   "metadata": {
    "vscode": {
     "languageId": "r"
    }
   },
   "outputs": [],
   "source": [
    "mv <- lm(yield ~ (a + b + s)^2, data = va_yield)\n",
    "\n",
    "# compute interaction effects with trt.vs.ctrl contrast\n",
    "abv <- emmeans(mv, trt.vs.ctrl ~ b | a, ref = \"BTPP\")\n",
    "asv <- emmeans(mv, trt.vs.ctrl ~ s | a, ref = \"PBSF\")\n",
    "\n",
    "abv_ctr <- as.data.frame(abv$contrast) %>%\n",
    "    mutate(contrast = as.factor(gsub(\" - BTPP\", \"\", contrast)))\n",
    "\n",
    "asv_ctr <- as.data.frame(asv$contrast) %>%\n",
    "    mutate(contrast = as.factor(gsub(\" - PBSF\", \"\", contrast)))"
   ]
  },
  {
   "cell_type": "code",
   "execution_count": 484,
   "id": "5272d139",
   "metadata": {
    "vscode": {
     "languageId": "r"
    }
   },
   "outputs": [
    {
     "data": {
      "image/png": "[encoded data removed]",
      "text/plain": [
       "plot without title"
      ]
     },
     "metadata": {
      "image/png": {
       "height": 144,
       "width": 264
      }
     },
     "output_type": "display_data"
    }
   ],
   "source": [
    "options(repr.plot.width = 4.4, repr.plot.height = 2.4)\n",
    "\n",
    "to_plt <- abv_ctr %>%\n",
    "    left_join(va_desc, by = \"a\") %>%\n",
    "    filter(benzylic == 1)\n",
    "\n",
    "pv1 <- ggplot(to_plt, aes(x = C_PVBur, y = estimate, ymax = (estimate + 2 * SE),\n",
    "           ymin = (estimate - 2 * SE), color = contrast)) +\n",
    "\n",
    "\n",
    "geom_line(aes(linetype = contrast)) +\n",
    "geom_hline(yintercept = 0, linetype = 2) +\n",
    "geom_point() +\n",
    "\n",
    "geom_text_repel(data = to_plt %>% filter(contrast == \"BTMG\"),\n",
    "                aes(label = gsub(\"1\", \"\", a)), size = 2, color = \"black\") +\n",
    "\n",
    "geom_rect(data = data.frame(C_PVBur = 0.36,\n",
    "     estimate = 0, SE = 0),\n",
    "     xmin = -Inf, xmax = 0.37,\n",
    "     ymin = -Inf, ymax = Inf, alpha = 0.1,\n",
    "     fill = agd_palette[7], color = agd_palette[7]) +\n",
    "\n",
    "\n",
    "    labs(x = expression(paste(\"Alcohol\", \" \", V[bur])),\n",
    "        y = expression(paste(Yield - Yield[BTPP], \" [%]\")),\n",
    "        color = \"Base\", linetype = \"Base\") +\n",
    "    theme_prism(base_size = 6.3) +\n",
    "    scale_color_manual(values = agd_palette) +\n",
    "    theme(text = element_text(face = \"plain\", family = \"sans\")) +\n",
    "    guides(color = guide_legend(keywidth = unit(1.9, \"line\")))\n",
    "\n",
    "pv1"
   ]
  },
  {
   "cell_type": "code",
   "execution_count": 485,
   "id": "f7ca59b5",
   "metadata": {
    "vscode": {
     "languageId": "r"
    }
   },
   "outputs": [
    {
     "data": {
      "image/png": "[encoded data removed]",
      "text/plain": [
       "plot without title"
      ]
     },
     "metadata": {
      "image/png": {
       "height": 132,
       "width": 132
      }
     },
     "output_type": "display_data"
    }
   ],
   "source": [
    "options(repr.plot.width = 2.2, repr.plot.height = 2.2)\n",
    "\n",
    "pv3 <- va_desc %>%\n",
    "    filter(order == \"primary\", !a %in% c(\"1am2\", \"1ar\")) %>%\n",
    "    select(a, C_PVBur, C_angle, electronegativity) %>%\n",
    "    mutate(set = \"Validation\") %>%\n",
    "    rbind(da %>%\n",
    "        filter(order == \"primary\", benzylic == 1) %>%\n",
    "        select(a, C_PVBur, C_angle, electronegativity) %>%\n",
    "        mutate(set = \"HTE\")) %>%\n",
    "    mutate(a = reorder(gsub(\"1\", \"\",a), C_PVBur)) %>%\n",
    "\n",
    "ggplot(aes(y = electronegativity, x = C_PVBur)) +\n",
    "    geom_point(aes(shape = set, color = set, group = set)) +\n",
    "\n",
    "    geom_text_repel(aes(label = a), size = 2) +\n",
    "\n",
    "    coord_cartesian(ylim = c(0.11, 0.17), xlim = c(0.33, 0.45)) +\n",
    "    labs(x = expression(paste(\"Alcohol\", \" \", V[bur])),\n",
    "         y = \"Alcohol Electronegativity\") +\n",
    "    theme_prism(base_size = 6.3) +\n",
    "    scale_color_manual(values = agd_palette) +\n",
    "    theme(text = element_text(face = \"plain\", family = \"sans\"))\n",
    "\n",
    "pv3"
   ]
  },
  {
   "cell_type": "code",
   "execution_count": 461,
   "id": "ae7752e9",
   "metadata": {
    "vscode": {
     "languageId": "r"
    }
   },
   "outputs": [
    {
     "data": {
      "image/png": "[encoded data removed]",
      "text/plain": [
       "plot without title"
      ]
     },
     "metadata": {
      "image/png": {
       "height": 144,
       "width": 405.6
      }
     },
     "output_type": "display_data"
    }
   ],
   "source": [
    "options(repr.plot.width = 6.76, repr.plot.height = 2.4)\n",
    "\n",
    "pv_c <- (pv1 + pv3) + plot_layout(widths = c(3, 2))\n",
    "pv_c\n",
    "\n",
    "ggsave(\"../doexyF_paper/plots/validation_C.svg\", width = 6.76, height = 2.4)\n",
    "ggsave(\"../doexyF_paper/plots/validation_C.png\", width = 6.76, height = 2.4, dpi = 600)"
   ]
  },
  {
   "cell_type": "markdown",
   "id": "e5c23279",
   "metadata": {},
   "source": [
    "Make predictions on all validation alcohols and compare models."
   ]
  },
  {
   "cell_type": "code",
   "execution_count": 486,
   "id": "3634502c",
   "metadata": {
    "vscode": {
     "languageId": "r"
    }
   },
   "outputs": [],
   "source": [
    "preds_gam <- predict(ma, newdata = va %>% model_features(),\n",
    "                     se.fit = TRUE, type = \"response\")"
   ]
  },
  {
   "cell_type": "code",
   "execution_count": 487,
   "id": "37a1396c",
   "metadata": {
    "vscode": {
     "languageId": "r"
    }
   },
   "outputs": [],
   "source": [
    "# prepare data for random forest evaluation\n",
    "xval <- va %>% select(-colnames(va)[1], -yield, - yield_tot, -a)\n",
    "\n",
    "# this is a trick, we bind the first row of training data and then remove it\n",
    "# to align the classes of all features\n",
    "xval <- rbind(mb1$trainingData[1, ] %>% select(-.outcome), xval)\n",
    "xval <- xval[-1, ]\n",
    "\n",
    "preds_rf <- predict(mb1, newdata = xval)"
   ]
  },
  {
   "cell_type": "code",
   "execution_count": 488,
   "id": "c318762a",
   "metadata": {
    "vscode": {
     "languageId": "r"
    }
   },
   "outputs": [],
   "source": [
    "val_pred <- cbind(as.data.frame(preds_gam), preds_rf, va) %>%\n",
    "    mutate(M1 = 100 * pmax(0, fit),\n",
    "           M1_low = 100 * (fit - 2 * se.fit),\n",
    "           M1_high = 100 * (fit + 2 * se.fit),\n",
    "           rf = 100 * preds_rf) %>%\n",
    "    select(M1, M1_low, M1_high, rf, yield, yield_tot, a, b, s) %>%\n",
    "    mutate(a = ifelse(a == \"1am2\", \"1am\", a)) %>%\n",
    "    mutate(a = as.factor(a), b = as.factor(b), s = as.factor(s))"
   ]
  },
  {
   "cell_type": "code",
   "execution_count": 489,
   "id": "9d767d4a",
   "metadata": {
    "vscode": {
     "languageId": "r"
    }
   },
   "outputs": [
    {
     "data": {
      "image/png": "[encoded data removed]",
      "text/plain": [
       "plot without title"
      ]
     },
     "metadata": {
      "image/png": {
       "height": 180,
       "width": 405.6
      }
     },
     "output_type": "display_data"
    }
   ],
   "source": [
    "options(repr.plot.width = 3.38, repr.plot.height = 2.6)\n",
    "\n",
    "pv6 <- ggplot(val_pred, aes(x = M1, y = yield_tot)) +\n",
    "     geom_abline(slope = 1, intercept = 0, linetype = 2) +\n",
    "     geom_point(aes(color = gsub(\"1\", \"\", a))) +\n",
    "     labs(color = \"Alcohol\", y = \"Observed Yield [%]\",\n",
    "          x = expression(paste(M[1], \" Yield [%]\"))) +\n",
    "\n",
    "     scale_color_manual(values = agd_palette) +\n",
    "     scale_shape_manual(values = c(1, 16)) +\n",
    "     theme_prism(base_size = 6.3) +\n",
    "     xlim(c(0, 100)) + ylim(c(0, 100)) +\n",
    "     geom_text(aes(x = 5, y = 85, label = \"MAE = 13.4%\"),\n",
    "               size = 2, hjust = 0) +\n",
    "     geom_text(aes(x = 5, y = 78, label = \"RMSE = 16.6%\"),\n",
    "               size = 2, hjust = 0) +\n",
    "     theme(text = element_text(face = \"plain\", family = \"sans\"),\n",
    "           legend.title = element_text()) +\n",
    "     guides(colour = guide_legend(ncol = 1))\n",
    "\n",
    "pv7 <- ggplot(val_pred, aes(x = rf, y = yield_tot)) +\n",
    "     geom_abline(slope = 1, intercept = 0, linetype = 2) +\n",
    "     geom_point(aes(color = gsub(\"1\", \"\", a))) +\n",
    "\n",
    "     labs(y = \"Observed Yield [%]\", x = \"Random Forest Yield [%]\",\n",
    "          color = \"Alcohol\") +\n",
    "     scale_color_manual(values = agd_palette) +\n",
    "     scale_shape_manual(values = c(1, 16)) +\n",
    "\n",
    "     theme_prism(base_size = 6.3) +\n",
    "     guides(colour = guide_legend(ncol = 1)) +\n",
    "     theme(text = element_text(face = \"plain\", family = \"sans\"),\n",
    "           legend.title = element_text()) +\n",
    "     xlim(c(0, 100)) + ylim(c(0, 100)) +\n",
    "\n",
    "     geom_text(aes(x = 5, y = 85, label = \"MAE = 18.1%\"), size = 2, hjust = 0) +\n",
    "     geom_text(aes(x = 5, y = 78, label = \"RMSE = 21.2%\"), size = 2, hjust = 0)\n",
    "\n",
    "options(repr.plot.width = 6.76, repr.plot.height = 3)\n",
    "pv6 + pv7 + plot_layout(guides = \"collect\") "
   ]
  },
  {
   "cell_type": "code",
   "execution_count": 490,
   "id": "d9082a79",
   "metadata": {
    "vscode": {
     "languageId": "r"
    }
   },
   "outputs": [
    {
     "data": {
      "image/png": "[encoded data removed]",
      "text/plain": [
       "plot without title"
      ]
     },
     "metadata": {
      "image/png": {
       "height": 120,
       "width": 400.2
      }
     },
     "output_type": "display_data"
    }
   ],
   "source": [
    "options(repr.plot.width = 6.67, repr.plot.height = 2)\n",
    "\n",
    "pv4 <- ggplot(val_pred, aes(x = M1, y = yield_tot)) +\n",
    "\n",
    "     geom_abline(slope = 1, intercept = 0, linetype = 2) +\n",
    "     geom_point(aes(shape = s, color =  gsub(\"1\", \"\", a))) +\n",
    "     geom_point(data = val_pred %>% filter(a %in% c(\"1ap\", \"1aq\")),\n",
    "     aes(y = yield, shape = s, color =  gsub(\"1\", \"\", a)), alpha = 0.5) +\n",
    "\n",
    "     geom_segment(data = val_pred %>% filter(a %in% c(\"1ap\", \"1aq\")),\n",
    "     arrow = arrow(length = unit(0., \"cm\")), aes(yend = yield, xend = M1,\n",
    "     color =  gsub(\"1\", \"\", a)), linetype = 2, size = 0.3, alpha = 0.5) +\n",
    "\n",
    "     scale_color_manual(values = agd_palette) +\n",
    "     scale_shape_manual(values = c(1, 16)) +\n",
    "     labs(y = \"Observed Yield [%]\",\n",
    "          x = expression(paste(M[1], \" Yield [%]\")),\n",
    "          shape = \"Sulfonyl Fluoride\", color = \"Alcohol\") +\n",
    "     theme_prism(base_size = 6.3) +\n",
    "     theme(text = element_text(face = \"plain\", family = \"sans\"),\n",
    "           legend.title = element_text()) +\n",
    "     xlim(c(0, 100)) + ylim(c(0, 100)) +\n",
    "     facet_wrap(. ~ gsub(\"1\", \"\", a), nrow = 2) +\n",
    "     guides(colour = \"none\")\n",
    "\n",
    "pv5 <- ggplot(val_pred, aes(x = rf, y = yield_tot)) +\n",
    "     geom_abline(slope = 1, intercept = 0, linetype = 2) +\n",
    "     geom_point(aes(shape = s, color =  gsub(\"1\", \"\", a))) +\n",
    "     geom_point(data = val_pred %>% filter(a %in% c(\"1ap\", \"1aq\")),\n",
    "     aes(y = yield, shape = s, color =  gsub(\"1\", \"\", a)), alpha = 0.5) +\n",
    "\n",
    "     geom_segment(data = val_pred %>% filter(a %in% c(\"1ap\", \"1aq\")),\n",
    "     arrow = arrow(length = unit(0., \"cm\")), aes(yend = yield, xend = rf,\n",
    "     color =  gsub(\"1\", \"\", a)), linetype = 2, size = 0.3, alpha = 0.5) +\n",
    "\n",
    "     scale_color_manual(values = agd_palette) +\n",
    "     scale_shape_manual(values = c(1, 16)) +\n",
    "     labs(y = \"Observed Yield [%]\", x = \"Random Forest Yield [%]\",\n",
    "          shape = \"Sulfonyl Fluoride\", color = \"Alcohol\") +\n",
    "     theme_prism(base_size = 6.3) +\n",
    "     theme(text = element_text(face = \"plain\", family = \"sans\"),\n",
    "           legend.title = element_text()) +\n",
    "     xlim(c(0, 100)) + ylim(c(0, 100)) +\n",
    "\n",
    "     facet_wrap(. ~ gsub(\"1\", \"\", a), nrow = 2) +\n",
    "     guides(color = \"none\")\n",
    "\n",
    "pv4 + pv5 + plot_layout(guides = \"collect\")"
   ]
  },
  {
   "cell_type": "code",
   "execution_count": 493,
   "id": "24656793",
   "metadata": {
    "vscode": {
     "languageId": "r"
    }
   },
   "outputs": [
    {
     "data": {
      "image/png": "[encoded data removed]",
      "text/plain": [
       "plot without title"
      ]
     },
     "metadata": {
      "image/png": {
       "height": 300,
       "width": 405.6
      }
     },
     "output_type": "display_data"
    }
   ],
   "source": [
    "# Make final plot for the paper\n",
    "options(repr.plot.width = 6.76, repr.plot.height = 5)\n",
    "\n",
    "pv_ab <- ((pv6 + pv7 + plot_layout(guides = \"collect\")) /\n",
    "         plot_spacer() / (pv4 + pv5 + plot_layout(guides = \"collect\"))\n",
    "         + plot_layout(heights = c(12, 1, 12)))\n",
    "pv_ab\n",
    "\n",
    "ggsave(\"../doexyF_paper/plots/validation_AB.svg\", width = 6.76, height = 5)\n",
    "ggsave(\"../doexyF_paper/plots/validation_AB.png\", width = 6.76, height = 5, dpi = 600)"
   ]
  },
  {
   "cell_type": "code",
   "execution_count": 492,
   "id": "bca2e485",
   "metadata": {
    "vscode": {
     "languageId": "r"
    }
   },
   "outputs": [
    {
     "data": {
      "text/html": [
       "<table class=\"dataframe\">\n",
       "<caption>A data.frame: 6 × 1</caption>\n",
       "<thead>\n",
       "\t<tr><th></th><th scope=col>.</th></tr>\n",
       "\t<tr><th></th><th scope=col>&lt;dbl&gt;</th></tr>\n",
       "</thead>\n",
       "<tbody>\n",
       "\t<tr><th scope=row>rmse.rf</th><td>27.27</td></tr>\n",
       "\t<tr><th scope=row>rmse.M1</th><td>19.58</td></tr>\n",
       "\t<tr><th scope=row>mae.rf</th><td>23.84</td></tr>\n",
       "\t<tr><th scope=row>mae.M1</th><td>15.28</td></tr>\n",
       "\t<tr><th scope=row>mae.rf_tot</th><td>21.42</td></tr>\n",
       "\t<tr><th scope=row>mae.M1_tot</th><td>13.35</td></tr>\n",
       "</tbody>\n",
       "</table>\n"
      ],
      "text/latex": [
       "A data.frame: 6 × 1\n",
       "\\begin{tabular}{r|l}\n",
       "  & .\\\\\n",
       "  & <dbl>\\\\\n",
       "\\hline\n",
       "\trmse.rf & 27.27\\\\\n",
       "\trmse.M1 & 19.58\\\\\n",
       "\tmae.rf & 23.84\\\\\n",
       "\tmae.M1 & 15.28\\\\\n",
       "\tmae.rf\\_tot & 21.42\\\\\n",
       "\tmae.M1\\_tot & 13.35\\\\\n",
       "\\end{tabular}\n"
      ],
      "text/markdown": [
       "\n",
       "A data.frame: 6 × 1\n",
       "\n",
       "| <!--/--> | . &lt;dbl&gt; |\n",
       "|---|---|\n",
       "| rmse.rf | 27.27 |\n",
       "| rmse.M1 | 19.58 |\n",
       "| mae.rf | 23.84 |\n",
       "| mae.M1 | 15.28 |\n",
       "| mae.rf_tot | 21.42 |\n",
       "| mae.M1_tot | 13.35 |\n",
       "\n"
      ],
      "text/plain": [
       "           .    \n",
       "rmse.rf    27.27\n",
       "rmse.M1    19.58\n",
       "mae.rf     23.84\n",
       "mae.M1     15.28\n",
       "mae.rf_tot 21.42\n",
       "mae.M1_tot 13.35"
      ]
     },
     "metadata": {},
     "output_type": "display_data"
    }
   ],
   "source": [
    "# Compute aggregate statistics in the validation set\n",
    "val_pred %>%\n",
    "    group_by(a) %>%\n",
    "    summarize(\n",
    "    rmse.rf = sqrt(mean((rf - yield)**2)),\n",
    "    rmse.M1 = sqrt(mean((M1 - yield)**2)),\n",
    "    mae.rf = mean(abs(rf - yield)),\n",
    "    mae.M1 = mean(abs(M1 - yield)),\n",
    "    mae.rf_tot = mean(abs(rf - yield_tot)),\n",
    "    mae.M1_tot = mean(abs(M1 - yield_tot))\n",
    ") %>%\n",
    "    select(-a) %>%\n",
    "    colMeans() %>%\n",
    "    as.data.frame() %>%\n",
    "    round(2)"
   ]
  }
 ],
 "metadata": {
  "interpreter": {
   "hash": "5a40b18730a27594916193f0b4659dff13587e082df533fa7f8fdb614adeca79"
  },
  "kernelspec": {
   "display_name": "R",
   "language": "R",
   "name": "ir"
  },
  "language_info": {
   "codemirror_mode": "r",
   "file_extension": ".r",
   "mimetype": "text/x-r-source",
   "name": "R",
   "pygments_lexer": "r",
   "version": "4.1.1"
  }
 },
 "nbformat": 4,
 "nbformat_minor": 5
}
