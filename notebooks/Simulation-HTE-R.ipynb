{
 "cells": [
  {
   "cell_type": "code",
   "execution_count": 360,
   "id": "f6ef4209",
   "metadata": {
    "vscode": {
     "languageId": "r"
    }
   },
   "outputs": [],
   "source": [
    "# libraries\n",
    "library(tidyverse)\n",
    "library(caret)\n",
    "library(ggprism)\n",
    "library(gtools)\n",
    "library(patchwork)\n",
    "\n",
    "# parallel registration\n",
    "library(doParallel)\n",
    "cl <- makePSOCKcluster(detectCores() - 1)\n",
    "registerDoParallel(cl)\n",
    "\n",
    "## select some colours from a palette\n",
    "agd_palette = c(\"#0864BF\", \"#188F9C\", \"#525996\",\n",
    "                \"#C3ADA3\", \"#CA7D86\", \"#CC4E70\", \"#A9A9A9\")"
   ]
  },
  {
   "cell_type": "code",
   "execution_count": 361,
   "id": "8adee4ee",
   "metadata": {
    "vscode": {
     "languageId": "r"
    }
   },
   "outputs": [],
   "source": [
    "# Analytical function to model\n",
    "func <- function(x) sin(2 * 3.14 * x - 3.14)\n",
    "\n",
    "# data to plot the function if needed\n",
    "func_data <- data.frame(x = seq(0, 1, length = 501)) %>% mutate(y = func(x))"
   ]
  },
  {
   "cell_type": "code",
   "execution_count": 362,
   "id": "24ea6a1d",
   "metadata": {
    "vscode": {
     "languageId": "r"
    }
   },
   "outputs": [],
   "source": [
    "make_data <- function(scenario, n_sub, n_extra_var, noise_sd, ratio) {\n",
    "\n",
    "    # generate substrate features\n",
    "    extra_features <- matrix(runif(n_sub * n_extra_var), ncol = n_extra_var)\n",
    "    colnames(extra_features) <- paste(\"extra_var\", 1:n_extra_var, sep = \"_\")\n",
    "    sub <- cbind(data.frame(var = runif(n_sub)), extra_features)\n",
    "\n",
    "    if (scenario == \"0\") {\n",
    "        # main effect only, no conditions\n",
    "        data <- rbind(sub %>% mutate(cond = \"A\", target = func(var)),\n",
    "                     sub %>% mutate(cond = \"B\", target = func(var)))\n",
    "    } else if (scenario == \"1\") {\n",
    "        # main effect, non-interacting conditions\n",
    "        data <- rbind(sub %>% mutate(cond = \"A\",\n",
    "          target = ratio * (runif(n_sub) - 0.5)),\n",
    "         sub %>% mutate(cond = \"B\",\n",
    "          target = ratio * (runif(n_sub) - 0.5) + 0.5 * func(var)),\n",
    "          sub %>% mutate(cond = \"C\",\n",
    "          target = ratio * (runif(n_sub) - 0.5) - var + 0.5)\n",
    "                    )\n",
    "    } else if (scenario == \"2\") {\n",
    "        # interaction conditions\n",
    "        main <- ratio * (runif(n_sub) - 0.5)\n",
    "        data <- rbind(sub %>% mutate(cond = \"A\", target = main),\n",
    "                sub %>% mutate(cond = \"B\", target = main + 0.5 * func(var)),\n",
    "                sub %>% mutate(cond = \"C\", target = main - var + 0.5)\n",
    "                    )\n",
    "    } else {\n",
    "        print (\"unsuporrted scenario\")\n",
    "    }\n",
    "\n",
    "    data <- data %>%\n",
    "        rowwise() %>%\n",
    "        mutate(target = target + rnorm(1, sd = noise_sd)) %>%\n",
    "        as.data.frame()\n",
    "}"
   ]
  },
  {
   "cell_type": "code",
   "execution_count": 363,
   "id": "d9e04dc3",
   "metadata": {
    "vscode": {
     "languageId": "r"
    }
   },
   "outputs": [],
   "source": [
    "# helper function to fetch a subset of data including additional features\n",
    "fetch_data <- function(data, n_extra_vars) {\n",
    "    extra_data <- data %>% select(contains(\"extra\")) %>% select(0:n_extra_vars)\n",
    "    reg_data <- data %>%\n",
    "        select(var, target, cond) %>%\n",
    "        mutate(cond = as.factor(cond))\n",
    "    cbind(reg_data, extra_data)\n",
    "}"
   ]
  },
  {
   "cell_type": "code",
   "execution_count": 385,
   "id": "7035d377",
   "metadata": {
    "vscode": {
     "languageId": "r"
    }
   },
   "outputs": [],
   "source": [
    "t <- make_data(\"2\", 30, 50, 0, 1)\n",
    "\n",
    "# plot training data\n",
    "options(repr.plot.width = 6, repr.plot.height = 4)\n",
    "\n",
    "p1 <- t %>%\n",
    " filter(cond == \"A\") %>%\n",
    "ggplot(aes(x = var, y = target, color = cond)) +\n",
    "    geom_point(size = 0.9) +\n",
    "    geom_line(aes(linetype = cond)) +\n",
    "    scale_color_manual(values = agd_palette[c(1, 2, 6)]) +\n",
    "    scale_linetype_manual(values = c(1, 2, 3)) +\n",
    "    labs(color = \"solvent\", linetype = \"solvent\", y = expression(Yield[A]), x = expression(mu)) +\n",
    "    theme_prism(base_size = 6.3) +\n",
    "    theme(legend.position = \"top\", legend.title = element_text(),\n",
    "          text = element_text(face = \"plain\", family = \"sans\"))\n",
    "\n",
    "\n",
    "p2 <- t %>%\n",
    "    pivot_wider(id_cols = var, values_from = target, names_from = cond) %>%\n",
    "    mutate(\"B\" = B - A, \"C\" = C - A) %>%\n",
    "    select(var, \"B\", \"C\") %>%\n",
    "    pivot_longer(cols = c(\"B\", \"C\")) %>%\n",
    "ggplot(aes(x = var, y = value, color = factor(name))) +\n",
    "    geom_point(size = 0.9) +\n",
    "    geom_line(aes(linetype = factor(name))) +\n",
    "    scale_color_manual(values = agd_palette[c(2, 6)]) +\n",
    "    scale_linetype_manual(values = c(2, 3)) +\n",
    "    labs(color = \"solvent\", linetype = \"solvent\", y = expression(Yield - Yield[A]), x = expression(mu)) +\n",
    "    theme_prism(base_size = 6.3) +\n",
    "    theme(legend.position = \"top\", legend.title = element_text(),\n",
    "          text = element_text(face = \"plain\", family = \"sans\"))\n",
    "\n",
    "\n",
    "p3 <- t %>%\n",
    "ggplot(aes(x = var, y = target, col = factor(cond))) +\n",
    "    geom_line(aes(linetype = factor(cond))) +\n",
    "    geom_point(size = 0.9) +\n",
    "    scale_color_manual(values = agd_palette [c(1, 2, 6)]) +\n",
    "    scale_linetype_manual(values = c(1, 2, 3)) +\n",
    "    labs(col = \"solvent\", linetype = \"solvent\", y = expression(Yield), x = expression(mu)) +\n",
    "    theme_prism(base_size = 6.3) +\n",
    "    theme(legend.position = \"top\", legend.title = element_text(),\n",
    "          text = element_text(face = \"plain\", family = \"sans\"))"
   ]
  },
  {
   "cell_type": "code",
   "execution_count": 386,
   "id": "54bcc70b",
   "metadata": {
    "vscode": {
     "languageId": "r"
    }
   },
   "outputs": [
    {
     "data": {
      "image/png": "[encoded data removed]",
      "text/plain": [
       "plot without title"
      ]
     },
     "metadata": {
      "image/png": {
       "height": 240,
       "width": 360
      }
     },
     "output_type": "display_data"
    }
   ],
   "source": [
    "p1"
   ]
  },
  {
   "cell_type": "code",
   "execution_count": 387,
   "id": "44e990e4",
   "metadata": {
    "vscode": {
     "languageId": "r"
    }
   },
   "outputs": [
    {
     "name": "stderr",
     "output_type": "stream",
     "text": [
      "Warning message:\n",
      "\"Removed 1 rows containing missing values (geom_point).\"\n"
     ]
    },
    {
     "data": {
      "image/png": "[encoded data removed]",
      "text/plain": [
       "plot without title"
      ]
     },
     "metadata": {
      "image/png": {
       "height": 90,
       "width": 396
      }
     },
     "output_type": "display_data"
    }
   ],
   "source": [
    "options(repr.plot.width = 6.6, repr.plot.height = 1.5)\n",
    "pf1 <- ((p3 +\n",
    " theme(plot.margin = margin(r = 0.4, unit = \"in\")) +\n",
    " annotate(\"text\", label = \"=\", x = 1.2, y = 0, size = 7) +\n",
    " coord_cartesian(xlim = c(0, 1), clip = \"off\")) |\n",
    "(p1 +\n",
    " theme(plot.margin = margin(r = 0.4, unit = \"in\")) +\n",
    " annotate(\"text\", label = \"+\", x = 1.2, y = 0, size = 7) +\n",
    " coord_cartesian(xlim = c(0, 1), clip = \"off\")) |\n",
    " p2) & ylim(c(-1, 0.8))\n",
    "\n",
    "pf1"
   ]
  },
  {
   "cell_type": "code",
   "execution_count": 369,
   "id": "ae3b8fa7",
   "metadata": {
    "vscode": {
     "languageId": "r"
    }
   },
   "outputs": [],
   "source": [
    "# constants\n",
    "ctrl <- trainControl(method = \"lgocv\", p = 0.7, number = 10)\n",
    "xgb_grid <- expand.grid(nrounds = c(1, 2, 3, 5),  max_depth = 6,  eta = 0.3,\n",
    "    gamma = 0,  colsample_bytree = 1,  min_child_weight = 1,  subsample = 1)\n",
    "\n",
    "ps <- c(0, 1, 3, 5, 10, 20, 30, 40, 50)\n",
    "ratios <- c(0.1, 0.5, 1, 2)\n",
    "n_subs <- c(10, 20, 30, 40, 50)\n",
    "repeats <- 30"
   ]
  },
  {
   "cell_type": "code",
   "execution_count": 43,
   "id": "03712619",
   "metadata": {
    "scrolled": true,
    "vscode": {
     "languageId": "r"
    }
   },
   "outputs": [
    {
     "name": "stdout",
     "output_type": "stream",
     "text": [
      "[1]  0.1 10.0  1.0  0.0\n"
     ]
    },
    {
     "name": "stderr",
     "output_type": "stream",
     "text": [
      "Note: Using an external vector in selections is ambiguous.\n",
      "\u001b[34mi\u001b[39m Use `all_of(n_extra_vars)` instead of `n_extra_vars` to silence this message.\n",
      "\u001b[34mi\u001b[39m See <https://tidyselect.r-lib.org/reference/faq-external-vector.html>.\n",
      "\u001b[90mThis message is displayed once per session.\u001b[39m\n"
     ]
    },
    {
     "name": "stdout",
     "output_type": "stream",
     "text": [
      "note: only 2 unique complexity parameters in default grid. Truncating the grid to 2 .\n",
      "\n"
     ]
    },
    {
     "name": "stderr",
     "output_type": "stream",
     "text": [
      "Warning message in nominalTrainWorkflow(x = x, y = y, wts = weights, info = trainInfo, :\n",
      "\"There were missing values in resampled performance measures.\"\n"
     ]
    },
    {
     "name": "stdout",
     "output_type": "stream",
     "text": [
      "[1]  0.1 10.0  1.0  1.0\n",
      "note: only 3 unique complexity parameters in default grid. Truncating the grid to 3 .\n",
      "\n"
     ]
    },
    {
     "name": "stderr",
     "output_type": "stream",
     "text": [
      "Warning message in nominalTrainWorkflow(x = x, y = y, wts = weights, info = trainInfo, :\n",
      "\"There were missing values in resampled performance measures.\"\n"
     ]
    },
    {
     "name": "stdout",
     "output_type": "stream",
     "text": [
      "[1]  0.1 10.0  1.0  3.0\n"
     ]
    },
    {
     "name": "stderr",
     "output_type": "stream",
     "text": [
      "Warning message in nominalTrainWorkflow(x = x, y = y, wts = weights, info = trainInfo, :\n",
      "\"There were missing values in resampled performance measures.\"\n"
     ]
    },
    {
     "name": "stdout",
     "output_type": "stream",
     "text": [
      "[1]  0.1 10.0  1.0  5.0\n"
     ]
    },
    {
     "name": "stderr",
     "output_type": "stream",
     "text": [
      "Warning message in nominalTrainWorkflow(x = x, y = y, wts = weights, info = trainInfo, :\n",
      "\"There were missing values in resampled performance measures.\"\n"
     ]
    },
    {
     "name": "stdout",
     "output_type": "stream",
     "text": [
      "[1]  0.1 10.0  1.0 10.0\n"
     ]
    },
    {
     "name": "stderr",
     "output_type": "stream",
     "text": [
      "Warning message in nominalTrainWorkflow(x = x, y = y, wts = weights, info = trainInfo, :\n",
      "\"There were missing values in resampled performance measures.\"\n"
     ]
    },
    {
     "name": "stdout",
     "output_type": "stream",
     "text": [
      "[1]  0.1 10.0  1.0 20.0\n"
     ]
    },
    {
     "name": "stderr",
     "output_type": "stream",
     "text": [
      "Warning message in nominalTrainWorkflow(x = x, y = y, wts = weights, info = trainInfo, :\n",
      "\"There were missing values in resampled performance measures.\"\n"
     ]
    },
    {
     "name": "stdout",
     "output_type": "stream",
     "text": [
      "[1]  0.1 10.0  1.0 30.0\n"
     ]
    },
    {
     "name": "stderr",
     "output_type": "stream",
     "text": [
      "Warning message in nominalTrainWorkflow(x = x, y = y, wts = weights, info = trainInfo, :\n",
      "\"There were missing values in resampled performance measures.\"\n"
     ]
    },
    {
     "name": "stdout",
     "output_type": "stream",
     "text": [
      "[1]  0.1 10.0  1.0 40.0\n"
     ]
    },
    {
     "name": "stderr",
     "output_type": "stream",
     "text": [
      "Warning message in nominalTrainWorkflow(x = x, y = y, wts = weights, info = trainInfo, :\n",
      "\"There were missing values in resampled performance measures.\"\n"
     ]
    },
    {
     "name": "stdout",
     "output_type": "stream",
     "text": [
      "[1]  0.1 10.0  1.0 50.0\n"
     ]
    },
    {
     "name": "stderr",
     "output_type": "stream",
     "text": [
      "Warning message in nominalTrainWorkflow(x = x, y = y, wts = weights, info = trainInfo, :\n",
      "\"There were missing values in resampled performance measures.\"\n"
     ]
    },
    {
     "name": "stdout",
     "output_type": "stream",
     "text": [
      "[1]  0.1 10.0  2.0  0.0\n",
      "note: only 2 unique complexity parameters in default grid. Truncating the grid to 2 .\n",
      "\n"
     ]
    },
    {
     "name": "stderr",
     "output_type": "stream",
     "text": [
      "Warning message in nominalTrainWorkflow(x = x, y = y, wts = weights, info = trainInfo, :\n",
      "\"There were missing values in resampled performance measures.\"\n"
     ]
    },
    {
     "name": "stdout",
     "output_type": "stream",
     "text": [
      "[1]  0.1 10.0  2.0  1.0\n",
      "note: only 3 unique complexity parameters in default grid. Truncating the grid to 3 .\n",
      "\n"
     ]
    },
    {
     "name": "stderr",
     "output_type": "stream",
     "text": [
      "Warning message in nominalTrainWorkflow(x = x, y = y, wts = weights, info = trainInfo, :\n",
      "\"There were missing values in resampled performance measures.\"\n"
     ]
    },
    {
     "name": "stdout",
     "output_type": "stream",
     "text": [
      "[1]  0.1 10.0  2.0  3.0\n"
     ]
    },
    {
     "name": "stderr",
     "output_type": "stream",
     "text": [
      "Warning message in nominalTrainWorkflow(x = x, y = y, wts = weights, info = trainInfo, :\n",
      "\"There were missing values in resampled performance measures.\"\n"
     ]
    },
    {
     "name": "stdout",
     "output_type": "stream",
     "text": [
      "[1]  0.1 10.0  2.0  5.0\n"
     ]
    },
    {
     "name": "stderr",
     "output_type": "stream",
     "text": [
      "Warning message in nominalTrainWorkflow(x = x, y = y, wts = weights, info = trainInfo, :\n",
      "\"There were missing values in resampled performance measures.\"\n"
     ]
    },
    {
     "name": "stdout",
     "output_type": "stream",
     "text": [
      "[1]  0.1 10.0  2.0 10.0\n"
     ]
    },
    {
     "name": "stderr",
     "output_type": "stream",
     "text": [
      "Warning message in nominalTrainWorkflow(x = x, y = y, wts = weights, info = trainInfo, :\n",
      "\"There were missing values in resampled performance measures.\"\n"
     ]
    },
    {
     "name": "stdout",
     "output_type": "stream",
     "text": [
      "[1]  0.1 10.0  2.0 20.0\n",
      "[1]  0.1 10.0  2.0 30.0\n"
     ]
    },
    {
     "name": "stderr",
     "output_type": "stream",
     "text": [
      "Warning message in nominalTrainWorkflow(x = x, y = y, wts = weights, info = trainInfo, :\n",
      "\"There were missing values in resampled performance measures.\"\n"
     ]
    },
    {
     "name": "stdout",
     "output_type": "stream",
     "text": [
      "[1]  0.1 10.0  2.0 40.0\n"
     ]
    },
    {
     "name": "stderr",
     "output_type": "stream",
     "text": [
      "Warning message in nominalTrainWorkflow(x = x, y = y, wts = weights, info = trainInfo, :\n",
      "\"There were missing values in resampled performance measures.\"\n"
     ]
    },
    {
     "name": "stdout",
     "output_type": "stream",
     "text": [
      "[1]  0.1 10.0  2.0 50.0\n"
     ]
    },
    {
     "name": "stderr",
     "output_type": "stream",
     "text": [
      "Warning message in nominalTrainWorkflow(x = x, y = y, wts = weights, info = trainInfo, :\n",
      "\"There were missing values in resampled performance measures.\"\n"
     ]
    },
    {
     "name": "stdout",
     "output_type": "stream",
     "text": [
      "[1]  0.1 10.0  3.0  0.0\n",
      "note: only 2 unique complexity parameters in default grid. Truncating the grid to 2 .\n",
      "\n"
     ]
    },
    {
     "name": "stderr",
     "output_type": "stream",
     "text": [
      "Warning message in nominalTrainWorkflow(x = x, y = y, wts = weights, info = trainInfo, :\n",
      "\"There were missing values in resampled performance measures.\"\n"
     ]
    },
    {
     "name": "stdout",
     "output_type": "stream",
     "text": [
      "[1]  0.1 10.0  3.0  1.0\n",
      "note: only 3 unique complexity parameters in default grid. Truncating the grid to 3 .\n",
      "\n"
     ]
    },
    {
     "name": "stderr",
     "output_type": "stream",
     "text": [
      "Warning message in nominalTrainWorkflow(x = x, y = y, wts = weights, info = trainInfo, :\n",
      "\"There were missing values in resampled performance measures.\"\n"
     ]
    },
    {
     "name": "stdout",
     "output_type": "stream",
     "text": [
      "[1]  0.1 10.0  3.0  3.0\n"
     ]
    },
    {
     "name": "stderr",
     "output_type": "stream",
     "text": [
      "Warning message in nominalTrainWorkflow(x = x, y = y, wts = weights, info = trainInfo, :\n",
      "\"There were missing values in resampled performance measures.\"\n"
     ]
    },
    {
     "name": "stdout",
     "output_type": "stream",
     "text": [
      "[1]  0.1 10.0  3.0  5.0\n"
     ]
    },
    {
     "name": "stderr",
     "output_type": "stream",
     "text": [
      "Warning message in nominalTrainWorkflow(x = x, y = y, wts = weights, info = trainInfo, :\n",
      "\"There were missing values in resampled performance measures.\"\n"
     ]
    },
    {
     "name": "stdout",
     "output_type": "stream",
     "text": [
      "[1]  0.1 10.0  3.0 10.0\n"
     ]
    },
    {
     "name": "stderr",
     "output_type": "stream",
     "text": [
      "Warning message in nominalTrainWorkflow(x = x, y = y, wts = weights, info = trainInfo, :\n",
      "\"There were missing values in resampled performance measures.\"\n"
     ]
    },
    {
     "name": "stdout",
     "output_type": "stream",
     "text": [
      "[1]  0.1 10.0  3.0 20.0\n"
     ]
    },
    {
     "name": "stderr",
     "output_type": "stream",
     "text": [
      "Warning message in nominalTrainWorkflow(x = x, y = y, wts = weights, info = trainInfo, :\n",
      "\"There were missing values in resampled performance measures.\"\n"
     ]
    },
    {
     "name": "stdout",
     "output_type": "stream",
     "text": [
      "[1]  0.1 10.0  3.0 30.0\n"
     ]
    },
    {
     "name": "stderr",
     "output_type": "stream",
     "text": [
      "Warning message in nominalTrainWorkflow(x = x, y = y, wts = weights, info = trainInfo, :\n",
      "\"There were missing values in resampled performance measures.\"\n"
     ]
    },
    {
     "name": "stdout",
     "output_type": "stream",
     "text": [
      "[1]  0.1 10.0  3.0 40.0\n"
     ]
    },
    {
     "name": "stderr",
     "output_type": "stream",
     "text": [
      "Warning message in nominalTrainWorkflow(x = x, y = y, wts = weights, info = trainInfo, :\n",
      "\"There were missing values in resampled performance measures.\"\n"
     ]
    },
    {
     "name": "stdout",
     "output_type": "stream",
     "text": [
      "[1]  0.1 10.0  3.0 50.0\n"
     ]
    },
    {
     "name": "stderr",
     "output_type": "stream",
     "text": [
      "Warning message in nominalTrainWorkflow(x = x, y = y, wts = weights, info = trainInfo, :\n",
      "\"There were missing values in resampled performance measures.\"\n"
     ]
    },
    {
     "name": "stdout",
     "output_type": "stream",
     "text": [
      "[1]  0.1 10.0  4.0  0.0\n",
      "note: only 2 unique complexity parameters in default grid. Truncating the grid to 2 .\n",
      "\n",
      "[1]  0.1 10.0  4.0  1.0\n",
      "note: only 3 unique complexity parameters in default grid. Truncating the grid to 3 .\n",
      "\n"
     ]
    },
    {
     "name": "stderr",
     "output_type": "stream",
     "text": [
      "Warning message in nominalTrainWorkflow(x = x, y = y, wts = weights, info = trainInfo, :\n",
      "\"There were missing values in resampled performance measures.\"\n"
     ]
    },
    {
     "name": "stdout",
     "output_type": "stream",
     "text": [
      "[1]  0.1 10.0  4.0  3.0\n"
     ]
    },
    {
     "name": "stderr",
     "output_type": "stream",
     "text": [
      "Warning message in nominalTrainWorkflow(x = x, y = y, wts = weights, info = trainInfo, :\n",
      "\"There were missing values in resampled performance measures.\"\n"
     ]
    },
    {
     "name": "stdout",
     "output_type": "stream",
     "text": [
      "[1]  0.1 10.0  4.0  5.0\n"
     ]
    },
    {
     "name": "stderr",
     "output_type": "stream",
     "text": [
      "Warning message in nominalTrainWorkflow(x = x, y = y, wts = weights, info = trainInfo, :\n",
      "\"There were missing values in resampled performance measures.\"\n"
     ]
    },
    {
     "name": "stdout",
     "output_type": "stream",
     "text": [
      "[1]  0.1 10.0  4.0 10.0\n"
     ]
    },
    {
     "name": "stderr",
     "output_type": "stream",
     "text": [
      "Warning message in nominalTrainWorkflow(x = x, y = y, wts = weights, info = trainInfo, :\n",
      "\"There were missing values in resampled performance measures.\"\n"
     ]
    },
    {
     "name": "stdout",
     "output_type": "stream",
     "text": [
      "[1]  0.1 10.0  4.0 20.0\n"
     ]
    },
    {
     "name": "stderr",
     "output_type": "stream",
     "text": [
      "Warning message in nominalTrainWorkflow(x = x, y = y, wts = weights, info = trainInfo, :\n",
      "\"There were missing values in resampled performance measures.\"\n"
     ]
    },
    {
     "name": "stdout",
     "output_type": "stream",
     "text": [
      "[1]  0.1 10.0  4.0 30.0\n",
      "[1]  0.1 10.0  4.0 40.0\n"
     ]
    },
    {
     "name": "stderr",
     "output_type": "stream",
     "text": [
      "Warning message in nominalTrainWorkflow(x = x, y = y, wts = weights, info = trainInfo, :\n",
      "\"There were missing values in resampled performance measures.\"\n"
     ]
    },
    {
     "name": "stdout",
     "output_type": "stream",
     "text": [
      "[1]  0.1 10.0  4.0 50.0\n"
     ]
    },
    {
     "name": "stderr",
     "output_type": "stream",
     "text": [
      "Warning message in nominalTrainWorkflow(x = x, y = y, wts = weights, info = trainInfo, :\n",
      "\"There were missing values in resampled performance measures.\"\n"
     ]
    },
    {
     "name": "stdout",
     "output_type": "stream",
     "text": [
      "[1]  0.1 10.0  5.0  0.0\n",
      "note: only 2 unique complexity parameters in default grid. Truncating the grid to 2 .\n",
      "\n"
     ]
    },
    {
     "name": "stderr",
     "output_type": "stream",
     "text": [
      "Warning message in nominalTrainWorkflow(x = x, y = y, wts = weights, info = trainInfo, :\n",
      "\"There were missing values in resampled performance measures.\"\n"
     ]
    },
    {
     "name": "stdout",
     "output_type": "stream",
     "text": [
      "[1]  0.1 10.0  5.0  1.0\n",
      "note: only 3 unique complexity parameters in default grid. Truncating the grid to 3 .\n",
      "\n"
     ]
    },
    {
     "name": "stderr",
     "output_type": "stream",
     "text": [
      "Warning message in nominalTrainWorkflow(x = x, y = y, wts = weights, info = trainInfo, :\n",
      "\"There were missing values in resampled performance measures.\"\n"
     ]
    },
    {
     "name": "stdout",
     "output_type": "stream",
     "text": [
      "[1]  0.1 10.0  5.0  3.0\n"
     ]
    },
    {
     "name": "stderr",
     "output_type": "stream",
     "text": [
      "Warning message in nominalTrainWorkflow(x = x, y = y, wts = weights, info = trainInfo, :\n",
      "\"There were missing values in resampled performance measures.\"\n"
     ]
    },
    {
     "name": "stdout",
     "output_type": "stream",
     "text": [
      "[1]  0.1 10.0  5.0  5.0\n"
     ]
    },
    {
     "name": "stderr",
     "output_type": "stream",
     "text": [
      "Warning message in nominalTrainWorkflow(x = x, y = y, wts = weights, info = trainInfo, :\n",
      "\"There were missing values in resampled performance measures.\"\n"
     ]
    },
    {
     "name": "stdout",
     "output_type": "stream",
     "text": [
      "[1]  0.1 10.0  5.0 10.0\n"
     ]
    },
    {
     "name": "stderr",
     "output_type": "stream",
     "text": [
      "Warning message in nominalTrainWorkflow(x = x, y = y, wts = weights, info = trainInfo, :\n",
      "\"There were missing values in resampled performance measures.\"\n"
     ]
    },
    {
     "name": "stdout",
     "output_type": "stream",
     "text": [
      "[1]  0.1 10.0  5.0 20.0\n",
      "[1]  0.1 10.0  5.0 30.0\n"
     ]
    },
    {
     "name": "stderr",
     "output_type": "stream",
     "text": [
      "Warning message in nominalTrainWorkflow(x = x, y = y, wts = weights, info = trainInfo, :\n",
      "\"There were missing values in resampled performance measures.\"\n"
     ]
    },
    {
     "name": "stdout",
     "output_type": "stream",
     "text": [
      "[1]  0.1 10.0  5.0 40.0\n"
     ]
    },
    {
     "name": "stderr",
     "output_type": "stream",
     "text": [
      "Warning message in nominalTrainWorkflow(x = x, y = y, wts = weights, info = trainInfo, :\n",
      "\"There were missing values in resampled performance measures.\"\n"
     ]
    },
    {
     "name": "stdout",
     "output_type": "stream",
     "text": [
      "[1]  0.1 10.0  5.0 50.0\n"
     ]
    },
    {
     "name": "stderr",
     "output_type": "stream",
     "text": [
      "Warning message in nominalTrainWorkflow(x = x, y = y, wts = weights, info = trainInfo, :\n",
      "\"There were missing values in resampled performance measures.\"\n"
     ]
    },
    {
     "name": "stdout",
     "output_type": "stream",
     "text": [
      "[1]  0.1 10.0  6.0  0.0\n",
      "note: only 2 unique complexity parameters in default grid. Truncating the grid to 2 .\n",
      "\n",
      "[1]  0.1 10.0  6.0  1.0\n",
      "note: only 3 unique complexity parameters in default grid. Truncating the grid to 3 .\n",
      "\n"
     ]
    },
    {
     "name": "stderr",
     "output_type": "stream",
     "text": [
      "Warning message in nominalTrainWorkflow(x = x, y = y, wts = weights, info = trainInfo, :\n",
      "\"There were missing values in resampled performance measures.\"\n"
     ]
    },
    {
     "name": "stdout",
     "output_type": "stream",
     "text": [
      "[1]  0.1 10.0  6.0  3.0\n"
     ]
    },
    {
     "name": "stderr",
     "output_type": "stream",
     "text": [
      "Warning message in nominalTrainWorkflow(x = x, y = y, wts = weights, info = trainInfo, :\n",
      "\"There were missing values in resampled performance measures.\"\n"
     ]
    },
    {
     "name": "stdout",
     "output_type": "stream",
     "text": [
      "[1]  0.1 10.0  6.0  5.0\n"
     ]
    },
    {
     "name": "stderr",
     "output_type": "stream",
     "text": [
      "Warning message in nominalTrainWorkflow(x = x, y = y, wts = weights, info = trainInfo, :\n",
      "\"There were missing values in resampled performance measures.\"\n"
     ]
    },
    {
     "name": "stdout",
     "output_type": "stream",
     "text": [
      "[1]  0.1 10.0  6.0 10.0\n"
     ]
    },
    {
     "name": "stderr",
     "output_type": "stream",
     "text": [
      "Warning message in nominalTrainWorkflow(x = x, y = y, wts = weights, info = trainInfo, :\n",
      "\"There were missing values in resampled performance measures.\"\n"
     ]
    },
    {
     "name": "stdout",
     "output_type": "stream",
     "text": [
      "[1]  0.1 10.0  6.0 20.0\n",
      "[1]  0.1 10.0  6.0 30.0\n"
     ]
    },
    {
     "name": "stderr",
     "output_type": "stream",
     "text": [
      "Warning message in nominalTrainWorkflow(x = x, y = y, wts = weights, info = trainInfo, :\n",
      "\"There were missing values in resampled performance measures.\"\n"
     ]
    },
    {
     "name": "stdout",
     "output_type": "stream",
     "text": [
      "[1]  0.1 10.0  6.0 40.0\n"
     ]
    },
    {
     "name": "stderr",
     "output_type": "stream",
     "text": [
      "Warning message in nominalTrainWorkflow(x = x, y = y, wts = weights, info = trainInfo, :\n",
      "\"There were missing values in resampled performance measures.\"\n"
     ]
    },
    {
     "name": "stdout",
     "output_type": "stream",
     "text": [
      "[1]  0.1 10.0  6.0 50.0\n"
     ]
    },
    {
     "name": "stderr",
     "output_type": "stream",
     "text": [
      "Warning message in nominalTrainWorkflow(x = x, y = y, wts = weights, info = trainInfo, :\n",
      "\"There were missing values in resampled performance measures.\"\n"
     ]
    },
    {
     "name": "stdout",
     "output_type": "stream",
     "text": [
      "[1]  0.1 10.0  7.0  0.0\n",
      "note: only 2 unique complexity parameters in default grid. Truncating the grid to 2 .\n",
      "\n",
      "[1]  0.1 10.0  7.0  1.0\n",
      "note: only 3 unique complexity parameters in default grid. Truncating the grid to 3 .\n",
      "\n",
      "[1]  0.1 10.0  7.0  3.0\n",
      "[1]  0.1 10.0  7.0  5.0\n",
      "[1]  0.1 10.0  7.0 10.0\n",
      "[1]  0.1 10.0  7.0 20.0\n",
      "[1]  0.1 10.0  7.0 30.0\n",
      "[1]  0.1 10.0  7.0 40.0\n",
      "[1]  0.1 10.0  7.0 50.0\n",
      "[1]  0.1 10.0  8.0  0.0\n",
      "note: only 2 unique complexity parameters in default grid. Truncating the grid to 2 .\n",
      "\n"
     ]
    },
    {
     "name": "stderr",
     "output_type": "stream",
     "text": [
      "Warning message in nominalTrainWorkflow(x = x, y = y, wts = weights, info = trainInfo, :\n",
      "\"There were missing values in resampled performance measures.\"\n"
     ]
    },
    {
     "name": "stdout",
     "output_type": "stream",
     "text": [
      "[1]  0.1 10.0  8.0  1.0\n",
      "note: only 3 unique complexity parameters in default grid. Truncating the grid to 3 .\n",
      "\n"
     ]
    },
    {
     "name": "stderr",
     "output_type": "stream",
     "text": [
      "Warning message in nominalTrainWorkflow(x = x, y = y, wts = weights, info = trainInfo, :\n",
      "\"There were missing values in resampled performance measures.\"\n"
     ]
    },
    {
     "name": "stdout",
     "output_type": "stream",
     "text": [
      "[1]  0.1 10.0  8.0  3.0\n"
     ]
    },
    {
     "name": "stderr",
     "output_type": "stream",
     "text": [
      "Warning message in nominalTrainWorkflow(x = x, y = y, wts = weights, info = trainInfo, :\n",
      "\"There were missing values in resampled performance measures.\"\n"
     ]
    },
    {
     "name": "stdout",
     "output_type": "stream",
     "text": [
      "[1]  0.1 10.0  8.0  5.0\n"
     ]
    },
    {
     "name": "stderr",
     "output_type": "stream",
     "text": [
      "Warning message in nominalTrainWorkflow(x = x, y = y, wts = weights, info = trainInfo, :\n",
      "\"There were missing values in resampled performance measures.\"\n"
     ]
    },
    {
     "name": "stdout",
     "output_type": "stream",
     "text": [
      "[1]  0.1 10.0  8.0 10.0\n"
     ]
    },
    {
     "name": "stderr",
     "output_type": "stream",
     "text": [
      "Warning message in nominalTrainWorkflow(x = x, y = y, wts = weights, info = trainInfo, :\n",
      "\"There were missing values in resampled performance measures.\"\n"
     ]
    },
    {
     "name": "stdout",
     "output_type": "stream",
     "text": [
      "[1]  0.1 10.0  8.0 20.0\n"
     ]
    },
    {
     "name": "stderr",
     "output_type": "stream",
     "text": [
      "Warning message in nominalTrainWorkflow(x = x, y = y, wts = weights, info = trainInfo, :\n",
      "\"There were missing values in resampled performance measures.\"\n"
     ]
    },
    {
     "name": "stdout",
     "output_type": "stream",
     "text": [
      "[1]  0.1 10.0  8.0 30.0\n"
     ]
    },
    {
     "name": "stderr",
     "output_type": "stream",
     "text": [
      "Warning message in nominalTrainWorkflow(x = x, y = y, wts = weights, info = trainInfo, :\n",
      "\"There were missing values in resampled performance measures.\"\n"
     ]
    },
    {
     "name": "stdout",
     "output_type": "stream",
     "text": [
      "[1]  0.1 10.0  8.0 40.0\n"
     ]
    },
    {
     "name": "stderr",
     "output_type": "stream",
     "text": [
      "Warning message in nominalTrainWorkflow(x = x, y = y, wts = weights, info = trainInfo, :\n",
      "\"There were missing values in resampled performance measures.\"\n"
     ]
    },
    {
     "name": "stdout",
     "output_type": "stream",
     "text": [
      "[1]  0.1 10.0  8.0 50.0\n"
     ]
    },
    {
     "name": "stderr",
     "output_type": "stream",
     "text": [
      "Warning message in nominalTrainWorkflow(x = x, y = y, wts = weights, info = trainInfo, :\n",
      "\"There were missing values in resampled performance measures.\"\n"
     ]
    },
    {
     "name": "stdout",
     "output_type": "stream",
     "text": [
      "[1]  0.1 10.0  9.0  0.0\n",
      "note: only 2 unique complexity parameters in default grid. Truncating the grid to 2 .\n",
      "\n"
     ]
    },
    {
     "name": "stderr",
     "output_type": "stream",
     "text": [
      "Warning message in nominalTrainWorkflow(x = x, y = y, wts = weights, info = trainInfo, :\n",
      "\"There were missing values in resampled performance measures.\"\n"
     ]
    },
    {
     "name": "stdout",
     "output_type": "stream",
     "text": [
      "[1]  0.1 10.0  9.0  1.0\n",
      "note: only 3 unique complexity parameters in default grid. Truncating the grid to 3 .\n",
      "\n"
     ]
    },
    {
     "name": "stderr",
     "output_type": "stream",
     "text": [
      "Warning message in nominalTrainWorkflow(x = x, y = y, wts = weights, info = trainInfo, :\n",
      "\"There were missing values in resampled performance measures.\"\n"
     ]
    },
    {
     "name": "stdout",
     "output_type": "stream",
     "text": [
      "[1]  0.1 10.0  9.0  3.0\n"
     ]
    },
    {
     "name": "stderr",
     "output_type": "stream",
     "text": [
      "Warning message in nominalTrainWorkflow(x = x, y = y, wts = weights, info = trainInfo, :\n",
      "\"There were missing values in resampled performance measures.\"\n"
     ]
    },
    {
     "name": "stdout",
     "output_type": "stream",
     "text": [
      "[1]  0.1 10.0  9.0  5.0\n"
     ]
    },
    {
     "name": "stderr",
     "output_type": "stream",
     "text": [
      "Warning message in nominalTrainWorkflow(x = x, y = y, wts = weights, info = trainInfo, :\n",
      "\"There were missing values in resampled performance measures.\"\n"
     ]
    },
    {
     "name": "stdout",
     "output_type": "stream",
     "text": [
      "[1]  0.1 10.0  9.0 10.0\n"
     ]
    },
    {
     "name": "stderr",
     "output_type": "stream",
     "text": [
      "Warning message in nominalTrainWorkflow(x = x, y = y, wts = weights, info = trainInfo, :\n",
      "\"There were missing values in resampled performance measures.\"\n"
     ]
    },
    {
     "name": "stdout",
     "output_type": "stream",
     "text": [
      "[1]  0.1 10.0  9.0 20.0\n"
     ]
    },
    {
     "name": "stderr",
     "output_type": "stream",
     "text": [
      "Warning message in nominalTrainWorkflow(x = x, y = y, wts = weights, info = trainInfo, :\n",
      "\"There were missing values in resampled performance measures.\"\n"
     ]
    },
    {
     "name": "stdout",
     "output_type": "stream",
     "text": [
      "[1]  0.1 10.0  9.0 30.0\n"
     ]
    },
    {
     "name": "stderr",
     "output_type": "stream",
     "text": [
      "Warning message in nominalTrainWorkflow(x = x, y = y, wts = weights, info = trainInfo, :\n",
      "\"There were missing values in resampled performance measures.\"\n"
     ]
    },
    {
     "name": "stdout",
     "output_type": "stream",
     "text": [
      "[1]  0.1 10.0  9.0 40.0\n"
     ]
    },
    {
     "name": "stderr",
     "output_type": "stream",
     "text": [
      "Warning message in nominalTrainWorkflow(x = x, y = y, wts = weights, info = trainInfo, :\n",
      "\"There were missing values in resampled performance measures.\"\n"
     ]
    },
    {
     "name": "stdout",
     "output_type": "stream",
     "text": [
      "[1]  0.1 10.0  9.0 50.0\n"
     ]
    },
    {
     "name": "stderr",
     "output_type": "stream",
     "text": [
      "Warning message in nominalTrainWorkflow(x = x, y = y, wts = weights, info = trainInfo, :\n",
      "\"There were missing values in resampled performance measures.\"\n"
     ]
    },
    {
     "name": "stdout",
     "output_type": "stream",
     "text": [
      "[1]  0.1 10.0 10.0  0.0\n",
      "note: only 2 unique complexity parameters in default grid. Truncating the grid to 2 .\n",
      "\n"
     ]
    },
    {
     "name": "stderr",
     "output_type": "stream",
     "text": [
      "Warning message in nominalTrainWorkflow(x = x, y = y, wts = weights, info = trainInfo, :\n",
      "\"There were missing values in resampled performance measures.\"\n"
     ]
    },
    {
     "name": "stdout",
     "output_type": "stream",
     "text": [
      "[1]  0.1 10.0 10.0  1.0\n",
      "note: only 3 unique complexity parameters in default grid. Truncating the grid to 3 .\n",
      "\n"
     ]
    },
    {
     "name": "stderr",
     "output_type": "stream",
     "text": [
      "Warning message in nominalTrainWorkflow(x = x, y = y, wts = weights, info = trainInfo, :\n",
      "\"There were missing values in resampled performance measures.\"\n"
     ]
    },
    {
     "name": "stdout",
     "output_type": "stream",
     "text": [
      "[1]  0.1 10.0 10.0  3.0\n"
     ]
    },
    {
     "name": "stderr",
     "output_type": "stream",
     "text": [
      "Warning message in nominalTrainWorkflow(x = x, y = y, wts = weights, info = trainInfo, :\n",
      "\"There were missing values in resampled performance measures.\"\n"
     ]
    },
    {
     "name": "stdout",
     "output_type": "stream",
     "text": [
      "[1]  0.1 10.0 10.0  5.0\n",
      "[1]  0.1 10.0 10.0 10.0\n",
      "[1]  0.1 10.0 10.0 20.0\n"
     ]
    },
    {
     "name": "stderr",
     "output_type": "stream",
     "text": [
      "Warning message in nominalTrainWorkflow(x = x, y = y, wts = weights, info = trainInfo, :\n",
      "\"There were missing values in resampled performance measures.\"\n"
     ]
    },
    {
     "name": "stdout",
     "output_type": "stream",
     "text": [
      "[1]  0.1 10.0 10.0 30.0\n"
     ]
    },
    {
     "name": "stderr",
     "output_type": "stream",
     "text": [
      "Warning message in nominalTrainWorkflow(x = x, y = y, wts = weights, info = trainInfo, :\n",
      "\"There were missing values in resampled performance measures.\"\n"
     ]
    },
    {
     "name": "stdout",
     "output_type": "stream",
     "text": [
      "[1]  0.1 10.0 10.0 40.0\n"
     ]
    },
    {
     "name": "stderr",
     "output_type": "stream",
     "text": [
      "Warning message in nominalTrainWorkflow(x = x, y = y, wts = weights, info = trainInfo, :\n",
      "\"There were missing values in resampled performance measures.\"\n"
     ]
    },
    {
     "name": "stdout",
     "output_type": "stream",
     "text": [
      "[1]  0.1 10.0 10.0 50.0\n"
     ]
    },
    {
     "name": "stderr",
     "output_type": "stream",
     "text": [
      "Warning message in nominalTrainWorkflow(x = x, y = y, wts = weights, info = trainInfo, :\n",
      "\"There were missing values in resampled performance measures.\"\n"
     ]
    },
    {
     "name": "stdout",
     "output_type": "stream",
     "text": [
      "[1]  0.1 10.0 11.0  0.0\n",
      "note: only 2 unique complexity parameters in default grid. Truncating the grid to 2 .\n",
      "\n"
     ]
    },
    {
     "name": "stderr",
     "output_type": "stream",
     "text": [
      "Warning message in nominalTrainWorkflow(x = x, y = y, wts = weights, info = trainInfo, :\n",
      "\"There were missing values in resampled performance measures.\"\n"
     ]
    },
    {
     "name": "stdout",
     "output_type": "stream",
     "text": [
      "[1]  0.1 10.0 11.0  1.0\n",
      "note: only 3 unique complexity parameters in default grid. Truncating the grid to 3 .\n",
      "\n"
     ]
    },
    {
     "name": "stderr",
     "output_type": "stream",
     "text": [
      "Warning message in nominalTrainWorkflow(x = x, y = y, wts = weights, info = trainInfo, :\n",
      "\"There were missing values in resampled performance measures.\"\n"
     ]
    },
    {
     "name": "stdout",
     "output_type": "stream",
     "text": [
      "[1]  0.1 10.0 11.0  3.0\n"
     ]
    },
    {
     "name": "stderr",
     "output_type": "stream",
     "text": [
      "Warning message in nominalTrainWorkflow(x = x, y = y, wts = weights, info = trainInfo, :\n",
      "\"There were missing values in resampled performance measures.\"\n"
     ]
    },
    {
     "name": "stdout",
     "output_type": "stream",
     "text": [
      "[1]  0.1 10.0 11.0  5.0\n",
      "[1]  0.1 10.0 11.0 10.0\n"
     ]
    },
    {
     "name": "stderr",
     "output_type": "stream",
     "text": [
      "Warning message in nominalTrainWorkflow(x = x, y = y, wts = weights, info = trainInfo, :\n",
      "\"There were missing values in resampled performance measures.\"\n"
     ]
    },
    {
     "name": "stdout",
     "output_type": "stream",
     "text": [
      "[1]  0.1 10.0 11.0 20.0\n"
     ]
    },
    {
     "name": "stderr",
     "output_type": "stream",
     "text": [
      "Warning message in nominalTrainWorkflow(x = x, y = y, wts = weights, info = trainInfo, :\n",
      "\"There were missing values in resampled performance measures.\"\n"
     ]
    },
    {
     "name": "stdout",
     "output_type": "stream",
     "text": [
      "[1]  0.1 10.0 11.0 30.0\n"
     ]
    },
    {
     "name": "stderr",
     "output_type": "stream",
     "text": [
      "Warning message in nominalTrainWorkflow(x = x, y = y, wts = weights, info = trainInfo, :\n",
      "\"There were missing values in resampled performance measures.\"\n"
     ]
    },
    {
     "name": "stdout",
     "output_type": "stream",
     "text": [
      "[1]  0.1 10.0 11.0 40.0\n"
     ]
    },
    {
     "name": "stderr",
     "output_type": "stream",
     "text": [
      "Warning message in nominalTrainWorkflow(x = x, y = y, wts = weights, info = trainInfo, :\n",
      "\"There were missing values in resampled performance measures.\"\n"
     ]
    },
    {
     "name": "stdout",
     "output_type": "stream",
     "text": [
      "[1]  0.1 10.0 11.0 50.0\n"
     ]
    },
    {
     "name": "stderr",
     "output_type": "stream",
     "text": [
      "Warning message in nominalTrainWorkflow(x = x, y = y, wts = weights, info = trainInfo, :\n",
      "\"There were missing values in resampled performance measures.\"\n"
     ]
    },
    {
     "name": "stdout",
     "output_type": "stream",
     "text": [
      "[1]  0.1 10.0 12.0  0.0\n",
      "note: only 2 unique complexity parameters in default grid. Truncating the grid to 2 .\n",
      "\n"
     ]
    },
    {
     "name": "stderr",
     "output_type": "stream",
     "text": [
      "Warning message in nominalTrainWorkflow(x = x, y = y, wts = weights, info = trainInfo, :\n",
      "\"There were missing values in resampled performance measures.\"\n"
     ]
    },
    {
     "name": "stdout",
     "output_type": "stream",
     "text": [
      "[1]  0.1 10.0 12.0  1.0\n",
      "note: only 3 unique complexity parameters in default grid. Truncating the grid to 3 .\n",
      "\n"
     ]
    },
    {
     "name": "stderr",
     "output_type": "stream",
     "text": [
      "Warning message in nominalTrainWorkflow(x = x, y = y, wts = weights, info = trainInfo, :\n",
      "\"There were missing values in resampled performance measures.\"\n"
     ]
    },
    {
     "name": "stdout",
     "output_type": "stream",
     "text": [
      "[1]  0.1 10.0 12.0  3.0\n"
     ]
    },
    {
     "name": "stderr",
     "output_type": "stream",
     "text": [
      "Warning message in nominalTrainWorkflow(x = x, y = y, wts = weights, info = trainInfo, :\n",
      "\"There were missing values in resampled performance measures.\"\n"
     ]
    },
    {
     "name": "stdout",
     "output_type": "stream",
     "text": [
      "[1]  0.1 10.0 12.0  5.0\n",
      "[1]  0.1 10.0 12.0 10.0\n"
     ]
    },
    {
     "name": "stderr",
     "output_type": "stream",
     "text": [
      "Warning message in nominalTrainWorkflow(x = x, y = y, wts = weights, info = trainInfo, :\n",
      "\"There were missing values in resampled performance measures.\"\n"
     ]
    },
    {
     "name": "stdout",
     "output_type": "stream",
     "text": [
      "[1]  0.1 10.0 12.0 20.0\n"
     ]
    },
    {
     "name": "stderr",
     "output_type": "stream",
     "text": [
      "Warning message in nominalTrainWorkflow(x = x, y = y, wts = weights, info = trainInfo, :\n",
      "\"There were missing values in resampled performance measures.\"\n"
     ]
    },
    {
     "name": "stdout",
     "output_type": "stream",
     "text": [
      "[1]  0.1 10.0 12.0 30.0\n",
      "[1]  0.1 10.0 12.0 40.0\n",
      "[1]  0.1 10.0 12.0 50.0\n",
      "[1]  0.1 10.0 13.0  0.0\n",
      "note: only 2 unique complexity parameters in default grid. Truncating the grid to 2 .\n",
      "\n"
     ]
    },
    {
     "name": "stderr",
     "output_type": "stream",
     "text": [
      "Warning message in nominalTrainWorkflow(x = x, y = y, wts = weights, info = trainInfo, :\n",
      "\"There were missing values in resampled performance measures.\"\n"
     ]
    },
    {
     "name": "stdout",
     "output_type": "stream",
     "text": [
      "[1]  0.1 10.0 13.0  1.0\n",
      "note: only 3 unique complexity parameters in default grid. Truncating the grid to 3 .\n",
      "\n"
     ]
    },
    {
     "name": "stderr",
     "output_type": "stream",
     "text": [
      "Warning message in nominalTrainWorkflow(x = x, y = y, wts = weights, info = trainInfo, :\n",
      "\"There were missing values in resampled performance measures.\"\n"
     ]
    },
    {
     "name": "stdout",
     "output_type": "stream",
     "text": [
      "[1]  0.1 10.0 13.0  3.0\n"
     ]
    },
    {
     "name": "stderr",
     "output_type": "stream",
     "text": [
      "Warning message in nominalTrainWorkflow(x = x, y = y, wts = weights, info = trainInfo, :\n",
      "\"There were missing values in resampled performance measures.\"\n"
     ]
    },
    {
     "name": "stdout",
     "output_type": "stream",
     "text": [
      "[1]  0.1 10.0 13.0  5.0\n"
     ]
    },
    {
     "name": "stderr",
     "output_type": "stream",
     "text": [
      "Warning message in nominalTrainWorkflow(x = x, y = y, wts = weights, info = trainInfo, :\n",
      "\"There were missing values in resampled performance measures.\"\n"
     ]
    },
    {
     "name": "stdout",
     "output_type": "stream",
     "text": [
      "[1]  0.1 10.0 13.0 10.0\n"
     ]
    },
    {
     "name": "stderr",
     "output_type": "stream",
     "text": [
      "Warning message in nominalTrainWorkflow(x = x, y = y, wts = weights, info = trainInfo, :\n",
      "\"There were missing values in resampled performance measures.\"\n"
     ]
    },
    {
     "name": "stdout",
     "output_type": "stream",
     "text": [
      "[1]  0.1 10.0 13.0 20.0\n",
      "[1]  0.1 10.0 13.0 30.0\n"
     ]
    },
    {
     "name": "stderr",
     "output_type": "stream",
     "text": [
      "Warning message in nominalTrainWorkflow(x = x, y = y, wts = weights, info = trainInfo, :\n",
      "\"There were missing values in resampled performance measures.\"\n"
     ]
    },
    {
     "name": "stdout",
     "output_type": "stream",
     "text": [
      "[1]  0.1 10.0 13.0 40.0\n",
      "[1]  0.1 10.0 13.0 50.0\n"
     ]
    },
    {
     "name": "stderr",
     "output_type": "stream",
     "text": [
      "Warning message in nominalTrainWorkflow(x = x, y = y, wts = weights, info = trainInfo, :\n",
      "\"There were missing values in resampled performance measures.\"\n"
     ]
    },
    {
     "name": "stdout",
     "output_type": "stream",
     "text": [
      "[1]  0.1 10.0 14.0  0.0\n",
      "note: only 2 unique complexity parameters in default grid. Truncating the grid to 2 .\n",
      "\n"
     ]
    },
    {
     "name": "stderr",
     "output_type": "stream",
     "text": [
      "Warning message in nominalTrainWorkflow(x = x, y = y, wts = weights, info = trainInfo, :\n",
      "\"There were missing values in resampled performance measures.\"\n"
     ]
    },
    {
     "name": "stdout",
     "output_type": "stream",
     "text": [
      "[1]  0.1 10.0 14.0  1.0\n",
      "note: only 3 unique complexity parameters in default grid. Truncating the grid to 3 .\n",
      "\n"
     ]
    },
    {
     "name": "stderr",
     "output_type": "stream",
     "text": [
      "Warning message in nominalTrainWorkflow(x = x, y = y, wts = weights, info = trainInfo, :\n",
      "\"There were missing values in resampled performance measures.\"\n"
     ]
    },
    {
     "name": "stdout",
     "output_type": "stream",
     "text": [
      "[1]  0.1 10.0 14.0  3.0\n"
     ]
    },
    {
     "name": "stderr",
     "output_type": "stream",
     "text": [
      "Warning message in nominalTrainWorkflow(x = x, y = y, wts = weights, info = trainInfo, :\n",
      "\"There were missing values in resampled performance measures.\"\n"
     ]
    },
    {
     "name": "stdout",
     "output_type": "stream",
     "text": [
      "[1]  0.1 10.0 14.0  5.0\n"
     ]
    },
    {
     "name": "stderr",
     "output_type": "stream",
     "text": [
      "Warning message in nominalTrainWorkflow(x = x, y = y, wts = weights, info = trainInfo, :\n",
      "\"There were missing values in resampled performance measures.\"\n"
     ]
    },
    {
     "name": "stdout",
     "output_type": "stream",
     "text": [
      "[1]  0.1 10.0 14.0 10.0\n"
     ]
    },
    {
     "name": "stderr",
     "output_type": "stream",
     "text": [
      "Warning message in nominalTrainWorkflow(x = x, y = y, wts = weights, info = trainInfo, :\n",
      "\"There were missing values in resampled performance measures.\"\n"
     ]
    },
    {
     "name": "stdout",
     "output_type": "stream",
     "text": [
      "[1]  0.1 10.0 14.0 20.0\n"
     ]
    },
    {
     "name": "stderr",
     "output_type": "stream",
     "text": [
      "Warning message in nominalTrainWorkflow(x = x, y = y, wts = weights, info = trainInfo, :\n",
      "\"There were missing values in resampled performance measures.\"\n"
     ]
    },
    {
     "name": "stdout",
     "output_type": "stream",
     "text": [
      "[1]  0.1 10.0 14.0 30.0\n"
     ]
    },
    {
     "name": "stderr",
     "output_type": "stream",
     "text": [
      "Warning message in nominalTrainWorkflow(x = x, y = y, wts = weights, info = trainInfo, :\n",
      "\"There were missing values in resampled performance measures.\"\n"
     ]
    },
    {
     "name": "stdout",
     "output_type": "stream",
     "text": [
      "[1]  0.1 10.0 14.0 40.0\n"
     ]
    },
    {
     "name": "stderr",
     "output_type": "stream",
     "text": [
      "Warning message in nominalTrainWorkflow(x = x, y = y, wts = weights, info = trainInfo, :\n",
      "\"There were missing values in resampled performance measures.\"\n"
     ]
    },
    {
     "name": "stdout",
     "output_type": "stream",
     "text": [
      "[1]  0.1 10.0 14.0 50.0\n"
     ]
    },
    {
     "name": "stderr",
     "output_type": "stream",
     "text": [
      "Warning message in nominalTrainWorkflow(x = x, y = y, wts = weights, info = trainInfo, :\n",
      "\"There were missing values in resampled performance measures.\"\n"
     ]
    },
    {
     "name": "stdout",
     "output_type": "stream",
     "text": [
      "[1]  0.1 10.0 15.0  0.0\n",
      "note: only 2 unique complexity parameters in default grid. Truncating the grid to 2 .\n",
      "\n"
     ]
    },
    {
     "name": "stderr",
     "output_type": "stream",
     "text": [
      "Warning message in nominalTrainWorkflow(x = x, y = y, wts = weights, info = trainInfo, :\n",
      "\"There were missing values in resampled performance measures.\"\n"
     ]
    },
    {
     "name": "stdout",
     "output_type": "stream",
     "text": [
      "[1]  0.1 10.0 15.0  1.0\n",
      "note: only 3 unique complexity parameters in default grid. Truncating the grid to 3 .\n",
      "\n"
     ]
    },
    {
     "name": "stderr",
     "output_type": "stream",
     "text": [
      "Warning message in nominalTrainWorkflow(x = x, y = y, wts = weights, info = trainInfo, :\n",
      "\"There were missing values in resampled performance measures.\"\n"
     ]
    },
    {
     "name": "stdout",
     "output_type": "stream",
     "text": [
      "[1]  0.1 10.0 15.0  3.0\n"
     ]
    },
    {
     "name": "stderr",
     "output_type": "stream",
     "text": [
      "Warning message in nominalTrainWorkflow(x = x, y = y, wts = weights, info = trainInfo, :\n",
      "\"There were missing values in resampled performance measures.\"\n"
     ]
    },
    {
     "name": "stdout",
     "output_type": "stream",
     "text": [
      "[1]  0.1 10.0 15.0  5.0\n"
     ]
    },
    {
     "name": "stderr",
     "output_type": "stream",
     "text": [
      "Warning message in nominalTrainWorkflow(x = x, y = y, wts = weights, info = trainInfo, :\n",
      "\"There were missing values in resampled performance measures.\"\n"
     ]
    },
    {
     "name": "stdout",
     "output_type": "stream",
     "text": [
      "[1]  0.1 10.0 15.0 10.0\n"
     ]
    },
    {
     "name": "stderr",
     "output_type": "stream",
     "text": [
      "Warning message in nominalTrainWorkflow(x = x, y = y, wts = weights, info = trainInfo, :\n",
      "\"There were missing values in resampled performance measures.\"\n"
     ]
    },
    {
     "name": "stdout",
     "output_type": "stream",
     "text": [
      "[1]  0.1 10.0 15.0 20.0\n"
     ]
    },
    {
     "name": "stderr",
     "output_type": "stream",
     "text": [
      "Warning message in nominalTrainWorkflow(x = x, y = y, wts = weights, info = trainInfo, :\n",
      "\"There were missing values in resampled performance measures.\"\n"
     ]
    },
    {
     "name": "stdout",
     "output_type": "stream",
     "text": [
      "[1]  0.1 10.0 15.0 30.0\n"
     ]
    },
    {
     "name": "stderr",
     "output_type": "stream",
     "text": [
      "Warning message in nominalTrainWorkflow(x = x, y = y, wts = weights, info = trainInfo, :\n",
      "\"There were missing values in resampled performance measures.\"\n"
     ]
    },
    {
     "name": "stdout",
     "output_type": "stream",
     "text": [
      "[1]  0.1 10.0 15.0 40.0\n"
     ]
    },
    {
     "name": "stderr",
     "output_type": "stream",
     "text": [
      "Warning message in nominalTrainWorkflow(x = x, y = y, wts = weights, info = trainInfo, :\n",
      "\"There were missing values in resampled performance measures.\"\n"
     ]
    },
    {
     "name": "stdout",
     "output_type": "stream",
     "text": [
      "[1]  0.1 10.0 15.0 50.0\n"
     ]
    },
    {
     "name": "stderr",
     "output_type": "stream",
     "text": [
      "Warning message in nominalTrainWorkflow(x = x, y = y, wts = weights, info = trainInfo, :\n",
      "\"There were missing values in resampled performance measures.\"\n"
     ]
    },
    {
     "name": "stdout",
     "output_type": "stream",
     "text": [
      "[1]  0.1 10.0 16.0  0.0\n",
      "note: only 2 unique complexity parameters in default grid. Truncating the grid to 2 .\n",
      "\n"
     ]
    },
    {
     "name": "stderr",
     "output_type": "stream",
     "text": [
      "Warning message in nominalTrainWorkflow(x = x, y = y, wts = weights, info = trainInfo, :\n",
      "\"There were missing values in resampled performance measures.\"\n"
     ]
    },
    {
     "name": "stdout",
     "output_type": "stream",
     "text": [
      "[1]  0.1 10.0 16.0  1.0\n",
      "note: only 3 unique complexity parameters in default grid. Truncating the grid to 3 .\n",
      "\n"
     ]
    },
    {
     "name": "stderr",
     "output_type": "stream",
     "text": [
      "Warning message in nominalTrainWorkflow(x = x, y = y, wts = weights, info = trainInfo, :\n",
      "\"There were missing values in resampled performance measures.\"\n"
     ]
    },
    {
     "name": "stdout",
     "output_type": "stream",
     "text": [
      "[1]  0.1 10.0 16.0  3.0\n"
     ]
    },
    {
     "name": "stderr",
     "output_type": "stream",
     "text": [
      "Warning message in nominalTrainWorkflow(x = x, y = y, wts = weights, info = trainInfo, :\n",
      "\"There were missing values in resampled performance measures.\"\n"
     ]
    },
    {
     "name": "stdout",
     "output_type": "stream",
     "text": [
      "[1]  0.1 10.0 16.0  5.0\n"
     ]
    },
    {
     "name": "stderr",
     "output_type": "stream",
     "text": [
      "Warning message in nominalTrainWorkflow(x = x, y = y, wts = weights, info = trainInfo, :\n",
      "\"There were missing values in resampled performance measures.\"\n"
     ]
    },
    {
     "name": "stdout",
     "output_type": "stream",
     "text": [
      "[1]  0.1 10.0 16.0 10.0\n"
     ]
    },
    {
     "name": "stderr",
     "output_type": "stream",
     "text": [
      "Warning message in nominalTrainWorkflow(x = x, y = y, wts = weights, info = trainInfo, :\n",
      "\"There were missing values in resampled performance measures.\"\n"
     ]
    },
    {
     "name": "stdout",
     "output_type": "stream",
     "text": [
      "[1]  0.1 10.0 16.0 20.0\n"
     ]
    },
    {
     "name": "stderr",
     "output_type": "stream",
     "text": [
      "Warning message in nominalTrainWorkflow(x = x, y = y, wts = weights, info = trainInfo, :\n",
      "\"There were missing values in resampled performance measures.\"\n"
     ]
    },
    {
     "name": "stdout",
     "output_type": "stream",
     "text": [
      "[1]  0.1 10.0 16.0 30.0\n"
     ]
    },
    {
     "name": "stderr",
     "output_type": "stream",
     "text": [
      "Warning message in nominalTrainWorkflow(x = x, y = y, wts = weights, info = trainInfo, :\n",
      "\"There were missing values in resampled performance measures.\"\n"
     ]
    },
    {
     "name": "stdout",
     "output_type": "stream",
     "text": [
      "[1]  0.1 10.0 16.0 40.0\n"
     ]
    },
    {
     "name": "stderr",
     "output_type": "stream",
     "text": [
      "Warning message in nominalTrainWorkflow(x = x, y = y, wts = weights, info = trainInfo, :\n",
      "\"There were missing values in resampled performance measures.\"\n"
     ]
    },
    {
     "name": "stdout",
     "output_type": "stream",
     "text": [
      "[1]  0.1 10.0 16.0 50.0\n"
     ]
    },
    {
     "name": "stderr",
     "output_type": "stream",
     "text": [
      "Warning message in nominalTrainWorkflow(x = x, y = y, wts = weights, info = trainInfo, :\n",
      "\"There were missing values in resampled performance measures.\"\n"
     ]
    },
    {
     "name": "stdout",
     "output_type": "stream",
     "text": [
      "[1]  0.1 10.0 17.0  0.0\n",
      "note: only 2 unique complexity parameters in default grid. Truncating the grid to 2 .\n",
      "\n"
     ]
    },
    {
     "name": "stderr",
     "output_type": "stream",
     "text": [
      "Warning message in nominalTrainWorkflow(x = x, y = y, wts = weights, info = trainInfo, :\n",
      "\"There were missing values in resampled performance measures.\"\n"
     ]
    },
    {
     "name": "stdout",
     "output_type": "stream",
     "text": [
      "[1]  0.1 10.0 17.0  1.0\n",
      "note: only 3 unique complexity parameters in default grid. Truncating the grid to 3 .\n",
      "\n"
     ]
    },
    {
     "name": "stderr",
     "output_type": "stream",
     "text": [
      "Warning message in nominalTrainWorkflow(x = x, y = y, wts = weights, info = trainInfo, :\n",
      "\"There were missing values in resampled performance measures.\"\n"
     ]
    },
    {
     "name": "stdout",
     "output_type": "stream",
     "text": [
      "[1]  0.1 10.0 17.0  3.0\n"
     ]
    },
    {
     "name": "stderr",
     "output_type": "stream",
     "text": [
      "Warning message in nominalTrainWorkflow(x = x, y = y, wts = weights, info = trainInfo, :\n",
      "\"There were missing values in resampled performance measures.\"\n"
     ]
    },
    {
     "name": "stdout",
     "output_type": "stream",
     "text": [
      "[1]  0.1 10.0 17.0  5.0\n"
     ]
    },
    {
     "name": "stderr",
     "output_type": "stream",
     "text": [
      "Warning message in nominalTrainWorkflow(x = x, y = y, wts = weights, info = trainInfo, :\n",
      "\"There were missing values in resampled performance measures.\"\n"
     ]
    },
    {
     "name": "stdout",
     "output_type": "stream",
     "text": [
      "[1]  0.1 10.0 17.0 10.0\n"
     ]
    },
    {
     "name": "stderr",
     "output_type": "stream",
     "text": [
      "Warning message in nominalTrainWorkflow(x = x, y = y, wts = weights, info = trainInfo, :\n",
      "\"There were missing values in resampled performance measures.\"\n"
     ]
    },
    {
     "name": "stdout",
     "output_type": "stream",
     "text": [
      "[1]  0.1 10.0 17.0 20.0\n"
     ]
    },
    {
     "name": "stderr",
     "output_type": "stream",
     "text": [
      "Warning message in nominalTrainWorkflow(x = x, y = y, wts = weights, info = trainInfo, :\n",
      "\"There were missing values in resampled performance measures.\"\n"
     ]
    },
    {
     "name": "stdout",
     "output_type": "stream",
     "text": [
      "[1]  0.1 10.0 17.0 30.0\n"
     ]
    },
    {
     "name": "stderr",
     "output_type": "stream",
     "text": [
      "Warning message in nominalTrainWorkflow(x = x, y = y, wts = weights, info = trainInfo, :\n",
      "\"There were missing values in resampled performance measures.\"\n"
     ]
    },
    {
     "name": "stdout",
     "output_type": "stream",
     "text": [
      "[1]  0.1 10.0 17.0 40.0\n"
     ]
    },
    {
     "name": "stderr",
     "output_type": "stream",
     "text": [
      "Warning message in nominalTrainWorkflow(x = x, y = y, wts = weights, info = trainInfo, :\n",
      "\"There were missing values in resampled performance measures.\"\n"
     ]
    },
    {
     "name": "stdout",
     "output_type": "stream",
     "text": [
      "[1]  0.1 10.0 17.0 50.0\n"
     ]
    },
    {
     "name": "stderr",
     "output_type": "stream",
     "text": [
      "Warning message in nominalTrainWorkflow(x = x, y = y, wts = weights, info = trainInfo, :\n",
      "\"There were missing values in resampled performance measures.\"\n"
     ]
    },
    {
     "name": "stdout",
     "output_type": "stream",
     "text": [
      "[1]  0.1 10.0 18.0  0.0\n",
      "note: only 2 unique complexity parameters in default grid. Truncating the grid to 2 .\n",
      "\n"
     ]
    },
    {
     "name": "stderr",
     "output_type": "stream",
     "text": [
      "Warning message in nominalTrainWorkflow(x = x, y = y, wts = weights, info = trainInfo, :\n",
      "\"There were missing values in resampled performance measures.\"\n"
     ]
    },
    {
     "name": "stdout",
     "output_type": "stream",
     "text": [
      "[1]  0.1 10.0 18.0  1.0\n",
      "note: only 3 unique complexity parameters in default grid. Truncating the grid to 3 .\n",
      "\n"
     ]
    },
    {
     "name": "stderr",
     "output_type": "stream",
     "text": [
      "Warning message in nominalTrainWorkflow(x = x, y = y, wts = weights, info = trainInfo, :\n",
      "\"There were missing values in resampled performance measures.\"\n"
     ]
    },
    {
     "name": "stdout",
     "output_type": "stream",
     "text": [
      "[1]  0.1 10.0 18.0  3.0\n"
     ]
    },
    {
     "name": "stderr",
     "output_type": "stream",
     "text": [
      "Warning message in nominalTrainWorkflow(x = x, y = y, wts = weights, info = trainInfo, :\n",
      "\"There were missing values in resampled performance measures.\"\n"
     ]
    },
    {
     "name": "stdout",
     "output_type": "stream",
     "text": [
      "[1]  0.1 10.0 18.0  5.0\n"
     ]
    },
    {
     "name": "stderr",
     "output_type": "stream",
     "text": [
      "Warning message in nominalTrainWorkflow(x = x, y = y, wts = weights, info = trainInfo, :\n",
      "\"There were missing values in resampled performance measures.\"\n"
     ]
    },
    {
     "name": "stdout",
     "output_type": "stream",
     "text": [
      "[1]  0.1 10.0 18.0 10.0\n"
     ]
    },
    {
     "name": "stderr",
     "output_type": "stream",
     "text": [
      "Warning message in nominalTrainWorkflow(x = x, y = y, wts = weights, info = trainInfo, :\n",
      "\"There were missing values in resampled performance measures.\"\n"
     ]
    },
    {
     "name": "stdout",
     "output_type": "stream",
     "text": [
      "[1]  0.1 10.0 18.0 20.0\n"
     ]
    },
    {
     "name": "stderr",
     "output_type": "stream",
     "text": [
      "Warning message in nominalTrainWorkflow(x = x, y = y, wts = weights, info = trainInfo, :\n",
      "\"There were missing values in resampled performance measures.\"\n"
     ]
    },
    {
     "name": "stdout",
     "output_type": "stream",
     "text": [
      "[1]  0.1 10.0 18.0 30.0\n"
     ]
    },
    {
     "name": "stderr",
     "output_type": "stream",
     "text": [
      "Warning message in nominalTrainWorkflow(x = x, y = y, wts = weights, info = trainInfo, :\n",
      "\"There were missing values in resampled performance measures.\"\n"
     ]
    },
    {
     "name": "stdout",
     "output_type": "stream",
     "text": [
      "[1]  0.1 10.0 18.0 40.0\n"
     ]
    },
    {
     "name": "stderr",
     "output_type": "stream",
     "text": [
      "Warning message in nominalTrainWorkflow(x = x, y = y, wts = weights, info = trainInfo, :\n",
      "\"There were missing values in resampled performance measures.\"\n"
     ]
    },
    {
     "name": "stdout",
     "output_type": "stream",
     "text": [
      "[1]  0.1 10.0 18.0 50.0\n"
     ]
    },
    {
     "name": "stderr",
     "output_type": "stream",
     "text": [
      "Warning message in nominalTrainWorkflow(x = x, y = y, wts = weights, info = trainInfo, :\n",
      "\"There were missing values in resampled performance measures.\"\n"
     ]
    },
    {
     "name": "stdout",
     "output_type": "stream",
     "text": [
      "[1]  0.1 10.0 19.0  0.0\n",
      "note: only 2 unique complexity parameters in default grid. Truncating the grid to 2 .\n",
      "\n"
     ]
    },
    {
     "name": "stderr",
     "output_type": "stream",
     "text": [
      "Warning message in nominalTrainWorkflow(x = x, y = y, wts = weights, info = trainInfo, :\n",
      "\"There were missing values in resampled performance measures.\"\n"
     ]
    },
    {
     "name": "stdout",
     "output_type": "stream",
     "text": [
      "[1]  0.1 10.0 19.0  1.0\n",
      "note: only 3 unique complexity parameters in default grid. Truncating the grid to 3 .\n",
      "\n"
     ]
    },
    {
     "name": "stderr",
     "output_type": "stream",
     "text": [
      "Warning message in nominalTrainWorkflow(x = x, y = y, wts = weights, info = trainInfo, :\n",
      "\"There were missing values in resampled performance measures.\"\n"
     ]
    },
    {
     "name": "stdout",
     "output_type": "stream",
     "text": [
      "[1]  0.1 10.0 19.0  3.0\n"
     ]
    },
    {
     "name": "stderr",
     "output_type": "stream",
     "text": [
      "Warning message in nominalTrainWorkflow(x = x, y = y, wts = weights, info = trainInfo, :\n",
      "\"There were missing values in resampled performance measures.\"\n"
     ]
    },
    {
     "name": "stdout",
     "output_type": "stream",
     "text": [
      "[1]  0.1 10.0 19.0  5.0\n"
     ]
    },
    {
     "name": "stderr",
     "output_type": "stream",
     "text": [
      "Warning message in nominalTrainWorkflow(x = x, y = y, wts = weights, info = trainInfo, :\n",
      "\"There were missing values in resampled performance measures.\"\n"
     ]
    },
    {
     "name": "stdout",
     "output_type": "stream",
     "text": [
      "[1]  0.1 10.0 19.0 10.0\n"
     ]
    },
    {
     "name": "stderr",
     "output_type": "stream",
     "text": [
      "Warning message in nominalTrainWorkflow(x = x, y = y, wts = weights, info = trainInfo, :\n",
      "\"There were missing values in resampled performance measures.\"\n"
     ]
    },
    {
     "name": "stdout",
     "output_type": "stream",
     "text": [
      "[1]  0.1 10.0 19.0 20.0\n"
     ]
    },
    {
     "name": "stderr",
     "output_type": "stream",
     "text": [
      "Warning message in nominalTrainWorkflow(x = x, y = y, wts = weights, info = trainInfo, :\n",
      "\"There were missing values in resampled performance measures.\"\n"
     ]
    },
    {
     "name": "stdout",
     "output_type": "stream",
     "text": [
      "[1]  0.1 10.0 19.0 30.0\n"
     ]
    },
    {
     "name": "stderr",
     "output_type": "stream",
     "text": [
      "Warning message in nominalTrainWorkflow(x = x, y = y, wts = weights, info = trainInfo, :\n",
      "\"There were missing values in resampled performance measures.\"\n"
     ]
    },
    {
     "name": "stdout",
     "output_type": "stream",
     "text": [
      "[1]  0.1 10.0 19.0 40.0\n"
     ]
    },
    {
     "name": "stderr",
     "output_type": "stream",
     "text": [
      "Warning message in nominalTrainWorkflow(x = x, y = y, wts = weights, info = trainInfo, :\n",
      "\"There were missing values in resampled performance measures.\"\n"
     ]
    },
    {
     "name": "stdout",
     "output_type": "stream",
     "text": [
      "[1]  0.1 10.0 19.0 50.0\n"
     ]
    },
    {
     "name": "stderr",
     "output_type": "stream",
     "text": [
      "Warning message in nominalTrainWorkflow(x = x, y = y, wts = weights, info = trainInfo, :\n",
      "\"There were missing values in resampled performance measures.\"\n"
     ]
    },
    {
     "name": "stdout",
     "output_type": "stream",
     "text": [
      "[1]  0.1 10.0 20.0  0.0\n",
      "note: only 2 unique complexity parameters in default grid. Truncating the grid to 2 .\n",
      "\n"
     ]
    },
    {
     "name": "stderr",
     "output_type": "stream",
     "text": [
      "Warning message in nominalTrainWorkflow(x = x, y = y, wts = weights, info = trainInfo, :\n",
      "\"There were missing values in resampled performance measures.\"\n"
     ]
    },
    {
     "name": "stdout",
     "output_type": "stream",
     "text": [
      "[1]  0.1 10.0 20.0  1.0\n",
      "note: only 3 unique complexity parameters in default grid. Truncating the grid to 3 .\n",
      "\n"
     ]
    },
    {
     "name": "stderr",
     "output_type": "stream",
     "text": [
      "Warning message in nominalTrainWorkflow(x = x, y = y, wts = weights, info = trainInfo, :\n",
      "\"There were missing values in resampled performance measures.\"\n"
     ]
    },
    {
     "name": "stdout",
     "output_type": "stream",
     "text": [
      "[1]  0.1 10.0 20.0  3.0\n"
     ]
    },
    {
     "name": "stderr",
     "output_type": "stream",
     "text": [
      "Warning message in nominalTrainWorkflow(x = x, y = y, wts = weights, info = trainInfo, :\n",
      "\"There were missing values in resampled performance measures.\"\n"
     ]
    },
    {
     "name": "stdout",
     "output_type": "stream",
     "text": [
      "[1]  0.1 10.0 20.0  5.0\n"
     ]
    },
    {
     "name": "stderr",
     "output_type": "stream",
     "text": [
      "Warning message in nominalTrainWorkflow(x = x, y = y, wts = weights, info = trainInfo, :\n",
      "\"There were missing values in resampled performance measures.\"\n"
     ]
    },
    {
     "name": "stdout",
     "output_type": "stream",
     "text": [
      "[1]  0.1 10.0 20.0 10.0\n"
     ]
    },
    {
     "name": "stderr",
     "output_type": "stream",
     "text": [
      "Warning message in nominalTrainWorkflow(x = x, y = y, wts = weights, info = trainInfo, :\n",
      "\"There were missing values in resampled performance measures.\"\n"
     ]
    },
    {
     "name": "stdout",
     "output_type": "stream",
     "text": [
      "[1]  0.1 10.0 20.0 20.0\n",
      "[1]  0.1 10.0 20.0 30.0\n",
      "[1]  0.1 10.0 20.0 40.0\n"
     ]
    },
    {
     "name": "stderr",
     "output_type": "stream",
     "text": [
      "Warning message in nominalTrainWorkflow(x = x, y = y, wts = weights, info = trainInfo, :\n",
      "\"There were missing values in resampled performance measures.\"\n"
     ]
    },
    {
     "name": "stdout",
     "output_type": "stream",
     "text": [
      "[1]  0.1 10.0 20.0 50.0\n"
     ]
    },
    {
     "name": "stderr",
     "output_type": "stream",
     "text": [
      "Warning message in nominalTrainWorkflow(x = x, y = y, wts = weights, info = trainInfo, :\n",
      "\"There were missing values in resampled performance measures.\"\n"
     ]
    },
    {
     "name": "stdout",
     "output_type": "stream",
     "text": [
      "[1]  0.1 10.0 21.0  0.0\n",
      "note: only 2 unique complexity parameters in default grid. Truncating the grid to 2 .\n",
      "\n"
     ]
    },
    {
     "name": "stderr",
     "output_type": "stream",
     "text": [
      "Warning message in nominalTrainWorkflow(x = x, y = y, wts = weights, info = trainInfo, :\n",
      "\"There were missing values in resampled performance measures.\"\n"
     ]
    },
    {
     "name": "stdout",
     "output_type": "stream",
     "text": [
      "[1]  0.1 10.0 21.0  1.0\n",
      "note: only 3 unique complexity parameters in default grid. Truncating the grid to 3 .\n",
      "\n"
     ]
    },
    {
     "name": "stderr",
     "output_type": "stream",
     "text": [
      "Warning message in nominalTrainWorkflow(x = x, y = y, wts = weights, info = trainInfo, :\n",
      "\"There were missing values in resampled performance measures.\"\n"
     ]
    },
    {
     "name": "stdout",
     "output_type": "stream",
     "text": [
      "[1]  0.1 10.0 21.0  3.0\n"
     ]
    },
    {
     "name": "stderr",
     "output_type": "stream",
     "text": [
      "Warning message in nominalTrainWorkflow(x = x, y = y, wts = weights, info = trainInfo, :\n",
      "\"There were missing values in resampled performance measures.\"\n"
     ]
    },
    {
     "name": "stdout",
     "output_type": "stream",
     "text": [
      "[1]  0.1 10.0 21.0  5.0\n"
     ]
    },
    {
     "name": "stderr",
     "output_type": "stream",
     "text": [
      "Warning message in nominalTrainWorkflow(x = x, y = y, wts = weights, info = trainInfo, :\n",
      "\"There were missing values in resampled performance measures.\"\n"
     ]
    },
    {
     "name": "stdout",
     "output_type": "stream",
     "text": [
      "[1]  0.1 10.0 21.0 10.0\n"
     ]
    },
    {
     "name": "stderr",
     "output_type": "stream",
     "text": [
      "Warning message in nominalTrainWorkflow(x = x, y = y, wts = weights, info = trainInfo, :\n",
      "\"There were missing values in resampled performance measures.\"\n"
     ]
    },
    {
     "name": "stdout",
     "output_type": "stream",
     "text": [
      "[1]  0.1 10.0 21.0 20.0\n"
     ]
    },
    {
     "name": "stderr",
     "output_type": "stream",
     "text": [
      "Warning message in nominalTrainWorkflow(x = x, y = y, wts = weights, info = trainInfo, :\n",
      "\"There were missing values in resampled performance measures.\"\n"
     ]
    },
    {
     "name": "stdout",
     "output_type": "stream",
     "text": [
      "[1]  0.1 10.0 21.0 30.0\n"
     ]
    },
    {
     "name": "stderr",
     "output_type": "stream",
     "text": [
      "Warning message in nominalTrainWorkflow(x = x, y = y, wts = weights, info = trainInfo, :\n",
      "\"There were missing values in resampled performance measures.\"\n"
     ]
    },
    {
     "name": "stdout",
     "output_type": "stream",
     "text": [
      "[1]  0.1 10.0 21.0 40.0\n"
     ]
    },
    {
     "name": "stderr",
     "output_type": "stream",
     "text": [
      "Warning message in nominalTrainWorkflow(x = x, y = y, wts = weights, info = trainInfo, :\n",
      "\"There were missing values in resampled performance measures.\"\n"
     ]
    },
    {
     "name": "stdout",
     "output_type": "stream",
     "text": [
      "[1]  0.1 10.0 21.0 50.0\n"
     ]
    },
    {
     "name": "stderr",
     "output_type": "stream",
     "text": [
      "Warning message in nominalTrainWorkflow(x = x, y = y, wts = weights, info = trainInfo, :\n",
      "\"There were missing values in resampled performance measures.\"\n"
     ]
    },
    {
     "name": "stdout",
     "output_type": "stream",
     "text": [
      "[1]  0.1 10.0 22.0  0.0\n",
      "note: only 2 unique complexity parameters in default grid. Truncating the grid to 2 .\n",
      "\n",
      "[1]  0.1 10.0 22.0  1.0\n",
      "note: only 3 unique complexity parameters in default grid. Truncating the grid to 3 .\n",
      "\n",
      "[1]  0.1 10.0 22.0  3.0\n",
      "[1]  0.1 10.0 22.0  5.0\n",
      "[1]  0.1 10.0 22.0 10.0\n",
      "[1]  0.1 10.0 22.0 20.0\n",
      "[1]  0.1 10.0 22.0 30.0\n"
     ]
    },
    {
     "name": "stderr",
     "output_type": "stream",
     "text": [
      "Warning message in nominalTrainWorkflow(x = x, y = y, wts = weights, info = trainInfo, :\n",
      "\"There were missing values in resampled performance measures.\"\n"
     ]
    },
    {
     "name": "stdout",
     "output_type": "stream",
     "text": [
      "[1]  0.1 10.0 22.0 40.0\n",
      "[1]  0.1 10.0 22.0 50.0\n",
      "[1]  0.1 10.0 23.0  0.0\n",
      "note: only 2 unique complexity parameters in default grid. Truncating the grid to 2 .\n",
      "\n"
     ]
    },
    {
     "name": "stderr",
     "output_type": "stream",
     "text": [
      "Warning message in nominalTrainWorkflow(x = x, y = y, wts = weights, info = trainInfo, :\n",
      "\"There were missing values in resampled performance measures.\"\n"
     ]
    },
    {
     "name": "stdout",
     "output_type": "stream",
     "text": [
      "[1]  0.1 10.0 23.0  1.0\n",
      "note: only 3 unique complexity parameters in default grid. Truncating the grid to 3 .\n",
      "\n"
     ]
    },
    {
     "name": "stderr",
     "output_type": "stream",
     "text": [
      "Warning message in nominalTrainWorkflow(x = x, y = y, wts = weights, info = trainInfo, :\n",
      "\"There were missing values in resampled performance measures.\"\n"
     ]
    },
    {
     "name": "stdout",
     "output_type": "stream",
     "text": [
      "[1]  0.1 10.0 23.0  3.0\n"
     ]
    },
    {
     "name": "stderr",
     "output_type": "stream",
     "text": [
      "Warning message in nominalTrainWorkflow(x = x, y = y, wts = weights, info = trainInfo, :\n",
      "\"There were missing values in resampled performance measures.\"\n"
     ]
    },
    {
     "name": "stdout",
     "output_type": "stream",
     "text": [
      "[1]  0.1 10.0 23.0  5.0\n",
      "[1]  0.1 10.0 23.0 10.0\n"
     ]
    },
    {
     "name": "stderr",
     "output_type": "stream",
     "text": [
      "Warning message in nominalTrainWorkflow(x = x, y = y, wts = weights, info = trainInfo, :\n",
      "\"There were missing values in resampled performance measures.\"\n"
     ]
    },
    {
     "name": "stdout",
     "output_type": "stream",
     "text": [
      "[1]  0.1 10.0 23.0 20.0\n",
      "[1]  0.1 10.0 23.0 30.0\n",
      "[1]  0.1 10.0 23.0 40.0\n",
      "[1]  0.1 10.0 23.0 50.0\n",
      "[1]  0.1 10.0 24.0  0.0\n",
      "note: only 2 unique complexity parameters in default grid. Truncating the grid to 2 .\n",
      "\n"
     ]
    },
    {
     "name": "stderr",
     "output_type": "stream",
     "text": [
      "Warning message in nominalTrainWorkflow(x = x, y = y, wts = weights, info = trainInfo, :\n",
      "\"There were missing values in resampled performance measures.\"\n"
     ]
    },
    {
     "name": "stdout",
     "output_type": "stream",
     "text": [
      "[1]  0.1 10.0 24.0  1.0\n",
      "note: only 3 unique complexity parameters in default grid. Truncating the grid to 3 .\n",
      "\n"
     ]
    },
    {
     "name": "stderr",
     "output_type": "stream",
     "text": [
      "Warning message in nominalTrainWorkflow(x = x, y = y, wts = weights, info = trainInfo, :\n",
      "\"There were missing values in resampled performance measures.\"\n"
     ]
    },
    {
     "name": "stdout",
     "output_type": "stream",
     "text": [
      "[1]  0.1 10.0 24.0  3.0\n"
     ]
    },
    {
     "name": "stderr",
     "output_type": "stream",
     "text": [
      "Warning message in nominalTrainWorkflow(x = x, y = y, wts = weights, info = trainInfo, :\n",
      "\"There were missing values in resampled performance measures.\"\n"
     ]
    },
    {
     "name": "stdout",
     "output_type": "stream",
     "text": [
      "[1]  0.1 10.0 24.0  5.0\n"
     ]
    },
    {
     "name": "stderr",
     "output_type": "stream",
     "text": [
      "Warning message in nominalTrainWorkflow(x = x, y = y, wts = weights, info = trainInfo, :\n",
      "\"There were missing values in resampled performance measures.\"\n"
     ]
    },
    {
     "name": "stdout",
     "output_type": "stream",
     "text": [
      "[1]  0.1 10.0 24.0 10.0\n"
     ]
    },
    {
     "name": "stderr",
     "output_type": "stream",
     "text": [
      "Warning message in nominalTrainWorkflow(x = x, y = y, wts = weights, info = trainInfo, :\n",
      "\"There were missing values in resampled performance measures.\"\n"
     ]
    },
    {
     "name": "stdout",
     "output_type": "stream",
     "text": [
      "[1]  0.1 10.0 24.0 20.0\n"
     ]
    },
    {
     "name": "stderr",
     "output_type": "stream",
     "text": [
      "Warning message in nominalTrainWorkflow(x = x, y = y, wts = weights, info = trainInfo, :\n",
      "\"There were missing values in resampled performance measures.\"\n"
     ]
    },
    {
     "name": "stdout",
     "output_type": "stream",
     "text": [
      "[1]  0.1 10.0 24.0 30.0\n"
     ]
    },
    {
     "name": "stderr",
     "output_type": "stream",
     "text": [
      "Warning message in nominalTrainWorkflow(x = x, y = y, wts = weights, info = trainInfo, :\n",
      "\"There were missing values in resampled performance measures.\"\n"
     ]
    },
    {
     "name": "stdout",
     "output_type": "stream",
     "text": [
      "[1]  0.1 10.0 24.0 40.0\n"
     ]
    },
    {
     "name": "stderr",
     "output_type": "stream",
     "text": [
      "Warning message in nominalTrainWorkflow(x = x, y = y, wts = weights, info = trainInfo, :\n",
      "\"There were missing values in resampled performance measures.\"\n"
     ]
    },
    {
     "name": "stdout",
     "output_type": "stream",
     "text": [
      "[1]  0.1 10.0 24.0 50.0\n",
      "[1]  0.1 10.0 25.0  0.0\n",
      "note: only 2 unique complexity parameters in default grid. Truncating the grid to 2 .\n",
      "\n"
     ]
    },
    {
     "name": "stderr",
     "output_type": "stream",
     "text": [
      "Warning message in nominalTrainWorkflow(x = x, y = y, wts = weights, info = trainInfo, :\n",
      "\"There were missing values in resampled performance measures.\"\n"
     ]
    },
    {
     "name": "stdout",
     "output_type": "stream",
     "text": [
      "[1]  0.1 10.0 25.0  1.0\n",
      "note: only 3 unique complexity parameters in default grid. Truncating the grid to 3 .\n",
      "\n"
     ]
    },
    {
     "name": "stderr",
     "output_type": "stream",
     "text": [
      "Warning message in nominalTrainWorkflow(x = x, y = y, wts = weights, info = trainInfo, :\n",
      "\"There were missing values in resampled performance measures.\"\n"
     ]
    },
    {
     "name": "stdout",
     "output_type": "stream",
     "text": [
      "[1]  0.1 10.0 25.0  3.0\n"
     ]
    },
    {
     "name": "stderr",
     "output_type": "stream",
     "text": [
      "Warning message in nominalTrainWorkflow(x = x, y = y, wts = weights, info = trainInfo, :\n",
      "\"There were missing values in resampled performance measures.\"\n"
     ]
    },
    {
     "name": "stdout",
     "output_type": "stream",
     "text": [
      "[1]  0.1 10.0 25.0  5.0\n"
     ]
    },
    {
     "name": "stderr",
     "output_type": "stream",
     "text": [
      "Warning message in nominalTrainWorkflow(x = x, y = y, wts = weights, info = trainInfo, :\n",
      "\"There were missing values in resampled performance measures.\"\n"
     ]
    },
    {
     "name": "stdout",
     "output_type": "stream",
     "text": [
      "[1]  0.1 10.0 25.0 10.0\n"
     ]
    },
    {
     "name": "stderr",
     "output_type": "stream",
     "text": [
      "Warning message in nominalTrainWorkflow(x = x, y = y, wts = weights, info = trainInfo, :\n",
      "\"There were missing values in resampled performance measures.\"\n"
     ]
    },
    {
     "name": "stdout",
     "output_type": "stream",
     "text": [
      "[1]  0.1 10.0 25.0 20.0\n",
      "[1]  0.1 10.0 25.0 30.0\n"
     ]
    },
    {
     "name": "stderr",
     "output_type": "stream",
     "text": [
      "Warning message in nominalTrainWorkflow(x = x, y = y, wts = weights, info = trainInfo, :\n",
      "\"There were missing values in resampled performance measures.\"\n"
     ]
    },
    {
     "name": "stdout",
     "output_type": "stream",
     "text": [
      "[1]  0.1 10.0 25.0 40.0\n"
     ]
    },
    {
     "name": "stderr",
     "output_type": "stream",
     "text": [
      "Warning message in nominalTrainWorkflow(x = x, y = y, wts = weights, info = trainInfo, :\n",
      "\"There were missing values in resampled performance measures.\"\n"
     ]
    },
    {
     "name": "stdout",
     "output_type": "stream",
     "text": [
      "[1]  0.1 10.0 25.0 50.0\n"
     ]
    },
    {
     "name": "stderr",
     "output_type": "stream",
     "text": [
      "Warning message in nominalTrainWorkflow(x = x, y = y, wts = weights, info = trainInfo, :\n",
      "\"There were missing values in resampled performance measures.\"\n"
     ]
    },
    {
     "name": "stdout",
     "output_type": "stream",
     "text": [
      "[1]  0.1 10.0 26.0  0.0\n",
      "note: only 2 unique complexity parameters in default grid. Truncating the grid to 2 .\n",
      "\n"
     ]
    },
    {
     "name": "stderr",
     "output_type": "stream",
     "text": [
      "Warning message in nominalTrainWorkflow(x = x, y = y, wts = weights, info = trainInfo, :\n",
      "\"There were missing values in resampled performance measures.\"\n"
     ]
    },
    {
     "name": "stdout",
     "output_type": "stream",
     "text": [
      "[1]  0.1 10.0 26.0  1.0\n",
      "note: only 3 unique complexity parameters in default grid. Truncating the grid to 3 .\n",
      "\n"
     ]
    },
    {
     "name": "stderr",
     "output_type": "stream",
     "text": [
      "Warning message in nominalTrainWorkflow(x = x, y = y, wts = weights, info = trainInfo, :\n",
      "\"There were missing values in resampled performance measures.\"\n"
     ]
    },
    {
     "name": "stdout",
     "output_type": "stream",
     "text": [
      "[1]  0.1 10.0 26.0  3.0\n"
     ]
    },
    {
     "name": "stderr",
     "output_type": "stream",
     "text": [
      "Warning message in nominalTrainWorkflow(x = x, y = y, wts = weights, info = trainInfo, :\n",
      "\"There were missing values in resampled performance measures.\"\n"
     ]
    },
    {
     "name": "stdout",
     "output_type": "stream",
     "text": [
      "[1]  0.1 10.0 26.0  5.0\n"
     ]
    },
    {
     "name": "stderr",
     "output_type": "stream",
     "text": [
      "Warning message in nominalTrainWorkflow(x = x, y = y, wts = weights, info = trainInfo, :\n",
      "\"There were missing values in resampled performance measures.\"\n"
     ]
    },
    {
     "name": "stdout",
     "output_type": "stream",
     "text": [
      "[1]  0.1 10.0 26.0 10.0\n"
     ]
    },
    {
     "name": "stderr",
     "output_type": "stream",
     "text": [
      "Warning message in nominalTrainWorkflow(x = x, y = y, wts = weights, info = trainInfo, :\n",
      "\"There were missing values in resampled performance measures.\"\n"
     ]
    },
    {
     "name": "stdout",
     "output_type": "stream",
     "text": [
      "[1]  0.1 10.0 26.0 20.0\n"
     ]
    },
    {
     "name": "stderr",
     "output_type": "stream",
     "text": [
      "Warning message in nominalTrainWorkflow(x = x, y = y, wts = weights, info = trainInfo, :\n",
      "\"There were missing values in resampled performance measures.\"\n"
     ]
    },
    {
     "name": "stdout",
     "output_type": "stream",
     "text": [
      "[1]  0.1 10.0 26.0 30.0\n"
     ]
    },
    {
     "name": "stderr",
     "output_type": "stream",
     "text": [
      "Warning message in nominalTrainWorkflow(x = x, y = y, wts = weights, info = trainInfo, :\n",
      "\"There were missing values in resampled performance measures.\"\n"
     ]
    },
    {
     "name": "stdout",
     "output_type": "stream",
     "text": [
      "[1]  0.1 10.0 26.0 40.0\n"
     ]
    },
    {
     "name": "stderr",
     "output_type": "stream",
     "text": [
      "Warning message in nominalTrainWorkflow(x = x, y = y, wts = weights, info = trainInfo, :\n",
      "\"There were missing values in resampled performance measures.\"\n"
     ]
    },
    {
     "name": "stdout",
     "output_type": "stream",
     "text": [
      "[1]  0.1 10.0 26.0 50.0\n"
     ]
    },
    {
     "name": "stderr",
     "output_type": "stream",
     "text": [
      "Warning message in nominalTrainWorkflow(x = x, y = y, wts = weights, info = trainInfo, :\n",
      "\"There were missing values in resampled performance measures.\"\n"
     ]
    },
    {
     "name": "stdout",
     "output_type": "stream",
     "text": [
      "[1]  0.1 10.0 27.0  0.0\n",
      "note: only 2 unique complexity parameters in default grid. Truncating the grid to 2 .\n",
      "\n"
     ]
    },
    {
     "name": "stderr",
     "output_type": "stream",
     "text": [
      "Warning message in nominalTrainWorkflow(x = x, y = y, wts = weights, info = trainInfo, :\n",
      "\"There were missing values in resampled performance measures.\"\n"
     ]
    },
    {
     "name": "stdout",
     "output_type": "stream",
     "text": [
      "[1]  0.1 10.0 27.0  1.0\n",
      "note: only 3 unique complexity parameters in default grid. Truncating the grid to 3 .\n",
      "\n"
     ]
    },
    {
     "name": "stderr",
     "output_type": "stream",
     "text": [
      "Warning message in nominalTrainWorkflow(x = x, y = y, wts = weights, info = trainInfo, :\n",
      "\"There were missing values in resampled performance measures.\"\n"
     ]
    },
    {
     "name": "stdout",
     "output_type": "stream",
     "text": [
      "[1]  0.1 10.0 27.0  3.0\n"
     ]
    },
    {
     "name": "stderr",
     "output_type": "stream",
     "text": [
      "Warning message in nominalTrainWorkflow(x = x, y = y, wts = weights, info = trainInfo, :\n",
      "\"There were missing values in resampled performance measures.\"\n"
     ]
    },
    {
     "name": "stdout",
     "output_type": "stream",
     "text": [
      "[1]  0.1 10.0 27.0  5.0\n"
     ]
    },
    {
     "name": "stderr",
     "output_type": "stream",
     "text": [
      "Warning message in nominalTrainWorkflow(x = x, y = y, wts = weights, info = trainInfo, :\n",
      "\"There were missing values in resampled performance measures.\"\n"
     ]
    },
    {
     "name": "stdout",
     "output_type": "stream",
     "text": [
      "[1]  0.1 10.0 27.0 10.0\n"
     ]
    },
    {
     "name": "stderr",
     "output_type": "stream",
     "text": [
      "Warning message in nominalTrainWorkflow(x = x, y = y, wts = weights, info = trainInfo, :\n",
      "\"There were missing values in resampled performance measures.\"\n"
     ]
    },
    {
     "name": "stdout",
     "output_type": "stream",
     "text": [
      "[1]  0.1 10.0 27.0 20.0\n"
     ]
    },
    {
     "name": "stderr",
     "output_type": "stream",
     "text": [
      "Warning message in nominalTrainWorkflow(x = x, y = y, wts = weights, info = trainInfo, :\n",
      "\"There were missing values in resampled performance measures.\"\n"
     ]
    },
    {
     "name": "stdout",
     "output_type": "stream",
     "text": [
      "[1]  0.1 10.0 27.0 30.0\n"
     ]
    },
    {
     "name": "stderr",
     "output_type": "stream",
     "text": [
      "Warning message in nominalTrainWorkflow(x = x, y = y, wts = weights, info = trainInfo, :\n",
      "\"There were missing values in resampled performance measures.\"\n"
     ]
    },
    {
     "name": "stdout",
     "output_type": "stream",
     "text": [
      "[1]  0.1 10.0 27.0 40.0\n"
     ]
    },
    {
     "name": "stderr",
     "output_type": "stream",
     "text": [
      "Warning message in nominalTrainWorkflow(x = x, y = y, wts = weights, info = trainInfo, :\n",
      "\"There were missing values in resampled performance measures.\"\n"
     ]
    },
    {
     "name": "stdout",
     "output_type": "stream",
     "text": [
      "[1]  0.1 10.0 27.0 50.0\n"
     ]
    },
    {
     "name": "stderr",
     "output_type": "stream",
     "text": [
      "Warning message in nominalTrainWorkflow(x = x, y = y, wts = weights, info = trainInfo, :\n",
      "\"There were missing values in resampled performance measures.\"\n"
     ]
    },
    {
     "name": "stdout",
     "output_type": "stream",
     "text": [
      "[1]  0.1 10.0 28.0  0.0\n",
      "note: only 2 unique complexity parameters in default grid. Truncating the grid to 2 .\n",
      "\n"
     ]
    },
    {
     "name": "stderr",
     "output_type": "stream",
     "text": [
      "Warning message in nominalTrainWorkflow(x = x, y = y, wts = weights, info = trainInfo, :\n",
      "\"There were missing values in resampled performance measures.\"\n"
     ]
    },
    {
     "name": "stdout",
     "output_type": "stream",
     "text": [
      "[1]  0.1 10.0 28.0  1.0\n",
      "note: only 3 unique complexity parameters in default grid. Truncating the grid to 3 .\n",
      "\n"
     ]
    },
    {
     "name": "stderr",
     "output_type": "stream",
     "text": [
      "Warning message in nominalTrainWorkflow(x = x, y = y, wts = weights, info = trainInfo, :\n",
      "\"There were missing values in resampled performance measures.\"\n"
     ]
    },
    {
     "name": "stdout",
     "output_type": "stream",
     "text": [
      "[1]  0.1 10.0 28.0  3.0\n"
     ]
    },
    {
     "name": "stderr",
     "output_type": "stream",
     "text": [
      "Warning message in nominalTrainWorkflow(x = x, y = y, wts = weights, info = trainInfo, :\n",
      "\"There were missing values in resampled performance measures.\"\n"
     ]
    },
    {
     "name": "stdout",
     "output_type": "stream",
     "text": [
      "[1]  0.1 10.0 28.0  5.0\n"
     ]
    },
    {
     "name": "stderr",
     "output_type": "stream",
     "text": [
      "Warning message in nominalTrainWorkflow(x = x, y = y, wts = weights, info = trainInfo, :\n",
      "\"There were missing values in resampled performance measures.\"\n"
     ]
    },
    {
     "name": "stdout",
     "output_type": "stream",
     "text": [
      "[1]  0.1 10.0 28.0 10.0\n"
     ]
    },
    {
     "name": "stderr",
     "output_type": "stream",
     "text": [
      "Warning message in nominalTrainWorkflow(x = x, y = y, wts = weights, info = trainInfo, :\n",
      "\"There were missing values in resampled performance measures.\"\n"
     ]
    },
    {
     "name": "stdout",
     "output_type": "stream",
     "text": [
      "[1]  0.1 10.0 28.0 20.0\n"
     ]
    },
    {
     "name": "stderr",
     "output_type": "stream",
     "text": [
      "Warning message in nominalTrainWorkflow(x = x, y = y, wts = weights, info = trainInfo, :\n",
      "\"There were missing values in resampled performance measures.\"\n"
     ]
    },
    {
     "name": "stdout",
     "output_type": "stream",
     "text": [
      "[1]  0.1 10.0 28.0 30.0\n"
     ]
    },
    {
     "name": "stderr",
     "output_type": "stream",
     "text": [
      "Warning message in nominalTrainWorkflow(x = x, y = y, wts = weights, info = trainInfo, :\n",
      "\"There were missing values in resampled performance measures.\"\n"
     ]
    },
    {
     "name": "stdout",
     "output_type": "stream",
     "text": [
      "[1]  0.1 10.0 28.0 40.0\n"
     ]
    },
    {
     "name": "stderr",
     "output_type": "stream",
     "text": [
      "Warning message in nominalTrainWorkflow(x = x, y = y, wts = weights, info = trainInfo, :\n",
      "\"There were missing values in resampled performance measures.\"\n"
     ]
    },
    {
     "name": "stdout",
     "output_type": "stream",
     "text": [
      "[1]  0.1 10.0 28.0 50.0\n"
     ]
    },
    {
     "name": "stderr",
     "output_type": "stream",
     "text": [
      "Warning message in nominalTrainWorkflow(x = x, y = y, wts = weights, info = trainInfo, :\n",
      "\"There were missing values in resampled performance measures.\"\n"
     ]
    },
    {
     "name": "stdout",
     "output_type": "stream",
     "text": [
      "[1]  0.1 10.0 29.0  0.0\n",
      "note: only 2 unique complexity parameters in default grid. Truncating the grid to 2 .\n",
      "\n"
     ]
    },
    {
     "name": "stderr",
     "output_type": "stream",
     "text": [
      "Warning message in nominalTrainWorkflow(x = x, y = y, wts = weights, info = trainInfo, :\n",
      "\"There were missing values in resampled performance measures.\"\n"
     ]
    },
    {
     "name": "stdout",
     "output_type": "stream",
     "text": [
      "[1]  0.1 10.0 29.0  1.0\n",
      "note: only 3 unique complexity parameters in default grid. Truncating the grid to 3 .\n",
      "\n"
     ]
    },
    {
     "name": "stderr",
     "output_type": "stream",
     "text": [
      "Warning message in nominalTrainWorkflow(x = x, y = y, wts = weights, info = trainInfo, :\n",
      "\"There were missing values in resampled performance measures.\"\n"
     ]
    },
    {
     "name": "stdout",
     "output_type": "stream",
     "text": [
      "[1]  0.1 10.0 29.0  3.0\n"
     ]
    },
    {
     "name": "stderr",
     "output_type": "stream",
     "text": [
      "Warning message in nominalTrainWorkflow(x = x, y = y, wts = weights, info = trainInfo, :\n",
      "\"There were missing values in resampled performance measures.\"\n"
     ]
    },
    {
     "name": "stdout",
     "output_type": "stream",
     "text": [
      "[1]  0.1 10.0 29.0  5.0\n"
     ]
    },
    {
     "name": "stderr",
     "output_type": "stream",
     "text": [
      "Warning message in nominalTrainWorkflow(x = x, y = y, wts = weights, info = trainInfo, :\n",
      "\"There were missing values in resampled performance measures.\"\n"
     ]
    },
    {
     "name": "stdout",
     "output_type": "stream",
     "text": [
      "[1]  0.1 10.0 29.0 10.0\n"
     ]
    },
    {
     "name": "stderr",
     "output_type": "stream",
     "text": [
      "Warning message in nominalTrainWorkflow(x = x, y = y, wts = weights, info = trainInfo, :\n",
      "\"There were missing values in resampled performance measures.\"\n"
     ]
    },
    {
     "name": "stdout",
     "output_type": "stream",
     "text": [
      "[1]  0.1 10.0 29.0 20.0\n"
     ]
    },
    {
     "name": "stderr",
     "output_type": "stream",
     "text": [
      "Warning message in nominalTrainWorkflow(x = x, y = y, wts = weights, info = trainInfo, :\n",
      "\"There were missing values in resampled performance measures.\"\n"
     ]
    },
    {
     "name": "stdout",
     "output_type": "stream",
     "text": [
      "[1]  0.1 10.0 29.0 30.0\n"
     ]
    },
    {
     "name": "stderr",
     "output_type": "stream",
     "text": [
      "Warning message in nominalTrainWorkflow(x = x, y = y, wts = weights, info = trainInfo, :\n",
      "\"There were missing values in resampled performance measures.\"\n"
     ]
    },
    {
     "name": "stdout",
     "output_type": "stream",
     "text": [
      "[1]  0.1 10.0 29.0 40.0\n"
     ]
    },
    {
     "name": "stderr",
     "output_type": "stream",
     "text": [
      "Warning message in nominalTrainWorkflow(x = x, y = y, wts = weights, info = trainInfo, :\n",
      "\"There were missing values in resampled performance measures.\"\n"
     ]
    },
    {
     "name": "stdout",
     "output_type": "stream",
     "text": [
      "[1]  0.1 10.0 29.0 50.0\n"
     ]
    },
    {
     "name": "stderr",
     "output_type": "stream",
     "text": [
      "Warning message in nominalTrainWorkflow(x = x, y = y, wts = weights, info = trainInfo, :\n",
      "\"There were missing values in resampled performance measures.\"\n"
     ]
    },
    {
     "name": "stdout",
     "output_type": "stream",
     "text": [
      "[1]  0.1 10.0 30.0  0.0\n",
      "note: only 2 unique complexity parameters in default grid. Truncating the grid to 2 .\n",
      "\n"
     ]
    },
    {
     "name": "stderr",
     "output_type": "stream",
     "text": [
      "Warning message in nominalTrainWorkflow(x = x, y = y, wts = weights, info = trainInfo, :\n",
      "\"There were missing values in resampled performance measures.\"\n"
     ]
    },
    {
     "name": "stdout",
     "output_type": "stream",
     "text": [
      "[1]  0.1 10.0 30.0  1.0\n",
      "note: only 3 unique complexity parameters in default grid. Truncating the grid to 3 .\n",
      "\n"
     ]
    },
    {
     "name": "stderr",
     "output_type": "stream",
     "text": [
      "Warning message in nominalTrainWorkflow(x = x, y = y, wts = weights, info = trainInfo, :\n",
      "\"There were missing values in resampled performance measures.\"\n"
     ]
    },
    {
     "name": "stdout",
     "output_type": "stream",
     "text": [
      "[1]  0.1 10.0 30.0  3.0\n"
     ]
    },
    {
     "name": "stderr",
     "output_type": "stream",
     "text": [
      "Warning message in nominalTrainWorkflow(x = x, y = y, wts = weights, info = trainInfo, :\n",
      "\"There were missing values in resampled performance measures.\"\n"
     ]
    },
    {
     "name": "stdout",
     "output_type": "stream",
     "text": [
      "[1]  0.1 10.0 30.0  5.0\n"
     ]
    },
    {
     "name": "stderr",
     "output_type": "stream",
     "text": [
      "Warning message in nominalTrainWorkflow(x = x, y = y, wts = weights, info = trainInfo, :\n",
      "\"There were missing values in resampled performance measures.\"\n"
     ]
    },
    {
     "name": "stdout",
     "output_type": "stream",
     "text": [
      "[1]  0.1 10.0 30.0 10.0\n"
     ]
    },
    {
     "name": "stderr",
     "output_type": "stream",
     "text": [
      "Warning message in nominalTrainWorkflow(x = x, y = y, wts = weights, info = trainInfo, :\n",
      "\"There were missing values in resampled performance measures.\"\n"
     ]
    },
    {
     "name": "stdout",
     "output_type": "stream",
     "text": [
      "[1]  0.1 10.0 30.0 20.0\n"
     ]
    },
    {
     "name": "stderr",
     "output_type": "stream",
     "text": [
      "Warning message in nominalTrainWorkflow(x = x, y = y, wts = weights, info = trainInfo, :\n",
      "\"There were missing values in resampled performance measures.\"\n"
     ]
    },
    {
     "name": "stdout",
     "output_type": "stream",
     "text": [
      "[1]  0.1 10.0 30.0 30.0\n"
     ]
    },
    {
     "name": "stderr",
     "output_type": "stream",
     "text": [
      "Warning message in nominalTrainWorkflow(x = x, y = y, wts = weights, info = trainInfo, :\n",
      "\"There were missing values in resampled performance measures.\"\n"
     ]
    },
    {
     "name": "stdout",
     "output_type": "stream",
     "text": [
      "[1]  0.1 10.0 30.0 40.0\n"
     ]
    },
    {
     "name": "stderr",
     "output_type": "stream",
     "text": [
      "Warning message in nominalTrainWorkflow(x = x, y = y, wts = weights, info = trainInfo, :\n",
      "\"There were missing values in resampled performance measures.\"\n"
     ]
    },
    {
     "name": "stdout",
     "output_type": "stream",
     "text": [
      "[1]  0.1 10.0 30.0 50.0\n"
     ]
    },
    {
     "name": "stderr",
     "output_type": "stream",
     "text": [
      "Warning message in nominalTrainWorkflow(x = x, y = y, wts = weights, info = trainInfo, :\n",
      "\"There were missing values in resampled performance measures.\"\n"
     ]
    },
    {
     "name": "stdout",
     "output_type": "stream",
     "text": [
      "[1]  0.1 20.0  1.0  0.0\n",
      "note: only 2 unique complexity parameters in default grid. Truncating the grid to 2 .\n",
      "\n",
      "[1]  0.1 20.0  1.0  1.0\n",
      "note: only 3 unique complexity parameters in default grid. Truncating the grid to 3 .\n",
      "\n",
      "[1]  0.1 20.0  1.0  3.0\n",
      "[1]  0.1 20.0  1.0  5.0\n",
      "[1]  0.1 20.0  1.0 10.0\n",
      "[1]  0.1 20.0  1.0 20.0\n",
      "[1]  0.1 20.0  1.0 30.0\n",
      "[1]  0.1 20.0  1.0 40.0\n",
      "[1]  0.1 20.0  1.0 50.0\n",
      "[1]  0.1 20.0  2.0  0.0\n",
      "note: only 2 unique complexity parameters in default grid. Truncating the grid to 2 .\n",
      "\n"
     ]
    },
    {
     "name": "stderr",
     "output_type": "stream",
     "text": [
      "Warning message in nominalTrainWorkflow(x = x, y = y, wts = weights, info = trainInfo, :\n",
      "\"There were missing values in resampled performance measures.\"\n"
     ]
    },
    {
     "name": "stdout",
     "output_type": "stream",
     "text": [
      "[1]  0.1 20.0  2.0  1.0\n",
      "note: only 3 unique complexity parameters in default grid. Truncating the grid to 3 .\n",
      "\n"
     ]
    },
    {
     "name": "stderr",
     "output_type": "stream",
     "text": [
      "Warning message in nominalTrainWorkflow(x = x, y = y, wts = weights, info = trainInfo, :\n",
      "\"There were missing values in resampled performance measures.\"\n"
     ]
    },
    {
     "name": "stdout",
     "output_type": "stream",
     "text": [
      "[1]  0.1 20.0  2.0  3.0\n"
     ]
    },
    {
     "name": "stderr",
     "output_type": "stream",
     "text": [
      "Warning message in nominalTrainWorkflow(x = x, y = y, wts = weights, info = trainInfo, :\n",
      "\"There were missing values in resampled performance measures.\"\n"
     ]
    },
    {
     "name": "stdout",
     "output_type": "stream",
     "text": [
      "[1]  0.1 20.0  2.0  5.0\n",
      "[1]  0.1 20.0  2.0 10.0\n"
     ]
    },
    {
     "name": "stderr",
     "output_type": "stream",
     "text": [
      "Warning message in nominalTrainWorkflow(x = x, y = y, wts = weights, info = trainInfo, :\n",
      "\"There were missing values in resampled performance measures.\"\n"
     ]
    },
    {
     "name": "stdout",
     "output_type": "stream",
     "text": [
      "[1]  0.1 20.0  2.0 20.0\n",
      "[1]  0.1 20.0  2.0 30.0\n",
      "[1]  0.1 20.0  2.0 40.0\n"
     ]
    },
    {
     "name": "stderr",
     "output_type": "stream",
     "text": [
      "Warning message in nominalTrainWorkflow(x = x, y = y, wts = weights, info = trainInfo, :\n",
      "\"There were missing values in resampled performance measures.\"\n"
     ]
    },
    {
     "name": "stdout",
     "output_type": "stream",
     "text": [
      "[1]  0.1 20.0  2.0 50.0\n",
      "[1]  0.1 20.0  3.0  0.0\n",
      "note: only 2 unique complexity parameters in default grid. Truncating the grid to 2 .\n",
      "\n"
     ]
    },
    {
     "name": "stderr",
     "output_type": "stream",
     "text": [
      "Warning message in nominalTrainWorkflow(x = x, y = y, wts = weights, info = trainInfo, :\n",
      "\"There were missing values in resampled performance measures.\"\n"
     ]
    },
    {
     "name": "stdout",
     "output_type": "stream",
     "text": [
      "[1]  0.1 20.0  3.0  1.0\n",
      "note: only 3 unique complexity parameters in default grid. Truncating the grid to 3 .\n",
      "\n"
     ]
    },
    {
     "name": "stderr",
     "output_type": "stream",
     "text": [
      "Warning message in nominalTrainWorkflow(x = x, y = y, wts = weights, info = trainInfo, :\n",
      "\"There were missing values in resampled performance measures.\"\n"
     ]
    },
    {
     "name": "stdout",
     "output_type": "stream",
     "text": [
      "[1]  0.1 20.0  3.0  3.0\n"
     ]
    },
    {
     "name": "stderr",
     "output_type": "stream",
     "text": [
      "Warning message in nominalTrainWorkflow(x = x, y = y, wts = weights, info = trainInfo, :\n",
      "\"There were missing values in resampled performance measures.\"\n"
     ]
    },
    {
     "name": "stdout",
     "output_type": "stream",
     "text": [
      "[1]  0.1 20.0  3.0  5.0\n"
     ]
    },
    {
     "name": "stderr",
     "output_type": "stream",
     "text": [
      "Warning message in nominalTrainWorkflow(x = x, y = y, wts = weights, info = trainInfo, :\n",
      "\"There were missing values in resampled performance measures.\"\n"
     ]
    },
    {
     "name": "stdout",
     "output_type": "stream",
     "text": [
      "[1]  0.1 20.0  3.0 10.0\n",
      "[1]  0.1 20.0  3.0 20.0\n",
      "[1]  0.1 20.0  3.0 30.0\n",
      "[1]  0.1 20.0  3.0 40.0\n",
      "[1]  0.1 20.0  3.0 50.0\n",
      "[1]  0.1 20.0  4.0  0.0\n",
      "note: only 2 unique complexity parameters in default grid. Truncating the grid to 2 .\n",
      "\n"
     ]
    },
    {
     "name": "stderr",
     "output_type": "stream",
     "text": [
      "Warning message in nominalTrainWorkflow(x = x, y = y, wts = weights, info = trainInfo, :\n",
      "\"There were missing values in resampled performance measures.\"\n"
     ]
    },
    {
     "name": "stdout",
     "output_type": "stream",
     "text": [
      "[1]  0.1 20.0  4.0  1.0\n",
      "note: only 3 unique complexity parameters in default grid. Truncating the grid to 3 .\n",
      "\n"
     ]
    },
    {
     "name": "stderr",
     "output_type": "stream",
     "text": [
      "Warning message in nominalTrainWorkflow(x = x, y = y, wts = weights, info = trainInfo, :\n",
      "\"There were missing values in resampled performance measures.\"\n"
     ]
    },
    {
     "name": "stdout",
     "output_type": "stream",
     "text": [
      "[1]  0.1 20.0  4.0  3.0\n",
      "[1]  0.1 20.0  4.0  5.0\n"
     ]
    },
    {
     "name": "stderr",
     "output_type": "stream",
     "text": [
      "Warning message in nominalTrainWorkflow(x = x, y = y, wts = weights, info = trainInfo, :\n",
      "\"There were missing values in resampled performance measures.\"\n"
     ]
    },
    {
     "name": "stdout",
     "output_type": "stream",
     "text": [
      "[1]  0.1 20.0  4.0 10.0\n",
      "[1]  0.1 20.0  4.0 20.0\n"
     ]
    },
    {
     "name": "stderr",
     "output_type": "stream",
     "text": [
      "Warning message in nominalTrainWorkflow(x = x, y = y, wts = weights, info = trainInfo, :\n",
      "\"There were missing values in resampled performance measures.\"\n"
     ]
    },
    {
     "name": "stdout",
     "output_type": "stream",
     "text": [
      "[1]  0.1 20.0  4.0 30.0\n",
      "[1]  0.1 20.0  4.0 40.0\n",
      "[1]  0.1 20.0  4.0 50.0\n",
      "[1]  0.1 20.0  5.0  0.0\n",
      "note: only 2 unique complexity parameters in default grid. Truncating the grid to 2 .\n",
      "\n"
     ]
    },
    {
     "name": "stderr",
     "output_type": "stream",
     "text": [
      "Warning message in nominalTrainWorkflow(x = x, y = y, wts = weights, info = trainInfo, :\n",
      "\"There were missing values in resampled performance measures.\"\n"
     ]
    },
    {
     "name": "stdout",
     "output_type": "stream",
     "text": [
      "[1]  0.1 20.0  5.0  1.0\n",
      "note: only 3 unique complexity parameters in default grid. Truncating the grid to 3 .\n",
      "\n"
     ]
    },
    {
     "name": "stderr",
     "output_type": "stream",
     "text": [
      "Warning message in nominalTrainWorkflow(x = x, y = y, wts = weights, info = trainInfo, :\n",
      "\"There were missing values in resampled performance measures.\"\n"
     ]
    },
    {
     "name": "stdout",
     "output_type": "stream",
     "text": [
      "[1]  0.1 20.0  5.0  3.0\n"
     ]
    },
    {
     "name": "stderr",
     "output_type": "stream",
     "text": [
      "Warning message in nominalTrainWorkflow(x = x, y = y, wts = weights, info = trainInfo, :\n",
      "\"There were missing values in resampled performance measures.\"\n"
     ]
    },
    {
     "name": "stdout",
     "output_type": "stream",
     "text": [
      "[1]  0.1 20.0  5.0  5.0\n"
     ]
    },
    {
     "name": "stderr",
     "output_type": "stream",
     "text": [
      "Warning message in nominalTrainWorkflow(x = x, y = y, wts = weights, info = trainInfo, :\n",
      "\"There were missing values in resampled performance measures.\"\n"
     ]
    },
    {
     "name": "stdout",
     "output_type": "stream",
     "text": [
      "[1]  0.1 20.0  5.0 10.0\n"
     ]
    },
    {
     "name": "stderr",
     "output_type": "stream",
     "text": [
      "Warning message in nominalTrainWorkflow(x = x, y = y, wts = weights, info = trainInfo, :\n",
      "\"There were missing values in resampled performance measures.\"\n"
     ]
    },
    {
     "name": "stdout",
     "output_type": "stream",
     "text": [
      "[1]  0.1 20.0  5.0 20.0\n"
     ]
    },
    {
     "name": "stderr",
     "output_type": "stream",
     "text": [
      "Warning message in nominalTrainWorkflow(x = x, y = y, wts = weights, info = trainInfo, :\n",
      "\"There were missing values in resampled performance measures.\"\n"
     ]
    },
    {
     "name": "stdout",
     "output_type": "stream",
     "text": [
      "[1]  0.1 20.0  5.0 30.0\n"
     ]
    },
    {
     "name": "stderr",
     "output_type": "stream",
     "text": [
      "Warning message in nominalTrainWorkflow(x = x, y = y, wts = weights, info = trainInfo, :\n",
      "\"There were missing values in resampled performance measures.\"\n"
     ]
    },
    {
     "name": "stdout",
     "output_type": "stream",
     "text": [
      "[1]  0.1 20.0  5.0 40.0\n"
     ]
    },
    {
     "name": "stderr",
     "output_type": "stream",
     "text": [
      "Warning message in nominalTrainWorkflow(x = x, y = y, wts = weights, info = trainInfo, :\n",
      "\"There were missing values in resampled performance measures.\"\n"
     ]
    },
    {
     "name": "stdout",
     "output_type": "stream",
     "text": [
      "[1]  0.1 20.0  5.0 50.0\n"
     ]
    },
    {
     "name": "stderr",
     "output_type": "stream",
     "text": [
      "Warning message in nominalTrainWorkflow(x = x, y = y, wts = weights, info = trainInfo, :\n",
      "\"There were missing values in resampled performance measures.\"\n"
     ]
    },
    {
     "name": "stdout",
     "output_type": "stream",
     "text": [
      "[1]  0.1 20.0  6.0  0.0\n",
      "note: only 2 unique complexity parameters in default grid. Truncating the grid to 2 .\n",
      "\n"
     ]
    },
    {
     "name": "stderr",
     "output_type": "stream",
     "text": [
      "Warning message in nominalTrainWorkflow(x = x, y = y, wts = weights, info = trainInfo, :\n",
      "\"There were missing values in resampled performance measures.\"\n"
     ]
    },
    {
     "name": "stdout",
     "output_type": "stream",
     "text": [
      "[1]  0.1 20.0  6.0  1.0\n",
      "note: only 3 unique complexity parameters in default grid. Truncating the grid to 3 .\n",
      "\n"
     ]
    },
    {
     "name": "stderr",
     "output_type": "stream",
     "text": [
      "Warning message in nominalTrainWorkflow(x = x, y = y, wts = weights, info = trainInfo, :\n",
      "\"There were missing values in resampled performance measures.\"\n"
     ]
    },
    {
     "name": "stdout",
     "output_type": "stream",
     "text": [
      "[1]  0.1 20.0  6.0  3.0\n"
     ]
    },
    {
     "name": "stderr",
     "output_type": "stream",
     "text": [
      "Warning message in nominalTrainWorkflow(x = x, y = y, wts = weights, info = trainInfo, :\n",
      "\"There were missing values in resampled performance measures.\"\n"
     ]
    },
    {
     "name": "stdout",
     "output_type": "stream",
     "text": [
      "[1]  0.1 20.0  6.0  5.0\n"
     ]
    },
    {
     "name": "stderr",
     "output_type": "stream",
     "text": [
      "Warning message in nominalTrainWorkflow(x = x, y = y, wts = weights, info = trainInfo, :\n",
      "\"There were missing values in resampled performance measures.\"\n"
     ]
    },
    {
     "name": "stdout",
     "output_type": "stream",
     "text": [
      "[1]  0.1 20.0  6.0 10.0\n"
     ]
    },
    {
     "name": "stderr",
     "output_type": "stream",
     "text": [
      "Warning message in nominalTrainWorkflow(x = x, y = y, wts = weights, info = trainInfo, :\n",
      "\"There were missing values in resampled performance measures.\"\n"
     ]
    },
    {
     "name": "stdout",
     "output_type": "stream",
     "text": [
      "[1]  0.1 20.0  6.0 20.0\n",
      "[1]  0.1 20.0  6.0 30.0\n"
     ]
    },
    {
     "name": "stderr",
     "output_type": "stream",
     "text": [
      "Warning message in nominalTrainWorkflow(x = x, y = y, wts = weights, info = trainInfo, :\n",
      "\"There were missing values in resampled performance measures.\"\n"
     ]
    },
    {
     "name": "stdout",
     "output_type": "stream",
     "text": [
      "[1]  0.1 20.0  6.0 40.0\n",
      "[1]  0.1 20.0  6.0 50.0\n",
      "[1]  0.1 20.0  7.0  0.0\n",
      "note: only 2 unique complexity parameters in default grid. Truncating the grid to 2 .\n",
      "\n"
     ]
    },
    {
     "name": "stderr",
     "output_type": "stream",
     "text": [
      "Warning message in nominalTrainWorkflow(x = x, y = y, wts = weights, info = trainInfo, :\n",
      "\"There were missing values in resampled performance measures.\"\n"
     ]
    },
    {
     "name": "stdout",
     "output_type": "stream",
     "text": [
      "[1]  0.1 20.0  7.0  1.0\n",
      "note: only 3 unique complexity parameters in default grid. Truncating the grid to 3 .\n",
      "\n"
     ]
    },
    {
     "name": "stderr",
     "output_type": "stream",
     "text": [
      "Warning message in nominalTrainWorkflow(x = x, y = y, wts = weights, info = trainInfo, :\n",
      "\"There were missing values in resampled performance measures.\"\n"
     ]
    },
    {
     "name": "stdout",
     "output_type": "stream",
     "text": [
      "[1]  0.1 20.0  7.0  3.0\n"
     ]
    },
    {
     "name": "stderr",
     "output_type": "stream",
     "text": [
      "Warning message in nominalTrainWorkflow(x = x, y = y, wts = weights, info = trainInfo, :\n",
      "\"There were missing values in resampled performance measures.\"\n"
     ]
    },
    {
     "name": "stdout",
     "output_type": "stream",
     "text": [
      "[1]  0.1 20.0  7.0  5.0\n"
     ]
    },
    {
     "name": "stderr",
     "output_type": "stream",
     "text": [
      "Warning message in nominalTrainWorkflow(x = x, y = y, wts = weights, info = trainInfo, :\n",
      "\"There were missing values in resampled performance measures.\"\n"
     ]
    },
    {
     "name": "stdout",
     "output_type": "stream",
     "text": [
      "[1]  0.1 20.0  7.0 10.0\n",
      "[1]  0.1 20.0  7.0 20.0\n",
      "[1]  0.1 20.0  7.0 30.0\n",
      "[1]  0.1 20.0  7.0 40.0\n",
      "[1]  0.1 20.0  7.0 50.0\n",
      "[1]  0.1 20.0  8.0  0.0\n",
      "note: only 2 unique complexity parameters in default grid. Truncating the grid to 2 .\n",
      "\n"
     ]
    },
    {
     "name": "stderr",
     "output_type": "stream",
     "text": [
      "Warning message in nominalTrainWorkflow(x = x, y = y, wts = weights, info = trainInfo, :\n",
      "\"There were missing values in resampled performance measures.\"\n"
     ]
    },
    {
     "name": "stdout",
     "output_type": "stream",
     "text": [
      "[1]  0.1 20.0  8.0  1.0\n",
      "note: only 3 unique complexity parameters in default grid. Truncating the grid to 3 .\n",
      "\n"
     ]
    },
    {
     "name": "stderr",
     "output_type": "stream",
     "text": [
      "Warning message in nominalTrainWorkflow(x = x, y = y, wts = weights, info = trainInfo, :\n",
      "\"There were missing values in resampled performance measures.\"\n"
     ]
    },
    {
     "name": "stdout",
     "output_type": "stream",
     "text": [
      "[1]  0.1 20.0  8.0  3.0\n",
      "[1]  0.1 20.0  8.0  5.0\n",
      "[1]  0.1 20.0  8.0 10.0\n",
      "[1]  0.1 20.0  8.0 20.0\n",
      "[1]  0.1 20.0  8.0 30.0\n",
      "[1]  0.1 20.0  8.0 40.0\n",
      "[1]  0.1 20.0  8.0 50.0\n",
      "[1]  0.1 20.0  9.0  0.0\n",
      "note: only 2 unique complexity parameters in default grid. Truncating the grid to 2 .\n",
      "\n"
     ]
    },
    {
     "name": "stderr",
     "output_type": "stream",
     "text": [
      "Warning message in nominalTrainWorkflow(x = x, y = y, wts = weights, info = trainInfo, :\n",
      "\"There were missing values in resampled performance measures.\"\n"
     ]
    },
    {
     "name": "stdout",
     "output_type": "stream",
     "text": [
      "[1]  0.1 20.0  9.0  1.0\n",
      "note: only 3 unique complexity parameters in default grid. Truncating the grid to 3 .\n",
      "\n"
     ]
    },
    {
     "name": "stderr",
     "output_type": "stream",
     "text": [
      "Warning message in nominalTrainWorkflow(x = x, y = y, wts = weights, info = trainInfo, :\n",
      "\"There were missing values in resampled performance measures.\"\n"
     ]
    },
    {
     "name": "stdout",
     "output_type": "stream",
     "text": [
      "[1]  0.1 20.0  9.0  3.0\n"
     ]
    },
    {
     "name": "stderr",
     "output_type": "stream",
     "text": [
      "Warning message in nominalTrainWorkflow(x = x, y = y, wts = weights, info = trainInfo, :\n",
      "\"There were missing values in resampled performance measures.\"\n"
     ]
    },
    {
     "name": "stdout",
     "output_type": "stream",
     "text": [
      "[1]  0.1 20.0  9.0  5.0\n",
      "[1]  0.1 20.0  9.0 10.0\n",
      "[1]  0.1 20.0  9.0 20.0\n",
      "[1]  0.1 20.0  9.0 30.0\n"
     ]
    },
    {
     "name": "stderr",
     "output_type": "stream",
     "text": [
      "Warning message in nominalTrainWorkflow(x = x, y = y, wts = weights, info = trainInfo, :\n",
      "\"There were missing values in resampled performance measures.\"\n"
     ]
    },
    {
     "name": "stdout",
     "output_type": "stream",
     "text": [
      "[1]  0.1 20.0  9.0 40.0\n"
     ]
    },
    {
     "name": "stderr",
     "output_type": "stream",
     "text": [
      "Warning message in nominalTrainWorkflow(x = x, y = y, wts = weights, info = trainInfo, :\n",
      "\"There were missing values in resampled performance measures.\"\n"
     ]
    },
    {
     "name": "stdout",
     "output_type": "stream",
     "text": [
      "[1]  0.1 20.0  9.0 50.0\n",
      "[1]  0.1 20.0 10.0  0.0\n",
      "note: only 2 unique complexity parameters in default grid. Truncating the grid to 2 .\n",
      "\n"
     ]
    },
    {
     "name": "stderr",
     "output_type": "stream",
     "text": [
      "Warning message in nominalTrainWorkflow(x = x, y = y, wts = weights, info = trainInfo, :\n",
      "\"There were missing values in resampled performance measures.\"\n"
     ]
    },
    {
     "name": "stdout",
     "output_type": "stream",
     "text": [
      "[1]  0.1 20.0 10.0  1.0\n",
      "note: only 3 unique complexity parameters in default grid. Truncating the grid to 3 .\n",
      "\n"
     ]
    },
    {
     "name": "stderr",
     "output_type": "stream",
     "text": [
      "Warning message in nominalTrainWorkflow(x = x, y = y, wts = weights, info = trainInfo, :\n",
      "\"There were missing values in resampled performance measures.\"\n"
     ]
    },
    {
     "name": "stdout",
     "output_type": "stream",
     "text": [
      "[1]  0.1 20.0 10.0  3.0\n"
     ]
    },
    {
     "name": "stderr",
     "output_type": "stream",
     "text": [
      "Warning message in nominalTrainWorkflow(x = x, y = y, wts = weights, info = trainInfo, :\n",
      "\"There were missing values in resampled performance measures.\"\n"
     ]
    },
    {
     "name": "stdout",
     "output_type": "stream",
     "text": [
      "[1]  0.1 20.0 10.0  5.0\n"
     ]
    },
    {
     "name": "stderr",
     "output_type": "stream",
     "text": [
      "Warning message in nominalTrainWorkflow(x = x, y = y, wts = weights, info = trainInfo, :\n",
      "\"There were missing values in resampled performance measures.\"\n"
     ]
    },
    {
     "name": "stdout",
     "output_type": "stream",
     "text": [
      "[1]  0.1 20.0 10.0 10.0\n"
     ]
    },
    {
     "name": "stderr",
     "output_type": "stream",
     "text": [
      "Warning message in nominalTrainWorkflow(x = x, y = y, wts = weights, info = trainInfo, :\n",
      "\"There were missing values in resampled performance measures.\"\n"
     ]
    },
    {
     "name": "stdout",
     "output_type": "stream",
     "text": [
      "[1]  0.1 20.0 10.0 20.0\n",
      "[1]  0.1 20.0 10.0 30.0\n",
      "[1]  0.1 20.0 10.0 40.0\n"
     ]
    },
    {
     "name": "stderr",
     "output_type": "stream",
     "text": [
      "Warning message in nominalTrainWorkflow(x = x, y = y, wts = weights, info = trainInfo, :\n",
      "\"There were missing values in resampled performance measures.\"\n"
     ]
    },
    {
     "name": "stdout",
     "output_type": "stream",
     "text": [
      "[1]  0.1 20.0 10.0 50.0\n"
     ]
    },
    {
     "name": "stderr",
     "output_type": "stream",
     "text": [
      "Warning message in nominalTrainWorkflow(x = x, y = y, wts = weights, info = trainInfo, :\n",
      "\"There were missing values in resampled performance measures.\"\n"
     ]
    },
    {
     "name": "stdout",
     "output_type": "stream",
     "text": [
      "[1]  0.1 20.0 11.0  0.0\n",
      "note: only 2 unique complexity parameters in default grid. Truncating the grid to 2 .\n",
      "\n"
     ]
    },
    {
     "name": "stderr",
     "output_type": "stream",
     "text": [
      "Warning message in nominalTrainWorkflow(x = x, y = y, wts = weights, info = trainInfo, :\n",
      "\"There were missing values in resampled performance measures.\"\n"
     ]
    },
    {
     "name": "stdout",
     "output_type": "stream",
     "text": [
      "[1]  0.1 20.0 11.0  1.0\n",
      "note: only 3 unique complexity parameters in default grid. Truncating the grid to 3 .\n",
      "\n"
     ]
    },
    {
     "name": "stderr",
     "output_type": "stream",
     "text": [
      "Warning message in nominalTrainWorkflow(x = x, y = y, wts = weights, info = trainInfo, :\n",
      "\"There were missing values in resampled performance measures.\"\n"
     ]
    },
    {
     "name": "stdout",
     "output_type": "stream",
     "text": [
      "[1]  0.1 20.0 11.0  3.0\n",
      "[1]  0.1 20.0 11.0  5.0\n",
      "[1]  0.1 20.0 11.0 10.0\n",
      "[1]  0.1 20.0 11.0 20.0\n",
      "[1]  0.1 20.0 11.0 30.0\n",
      "[1]  0.1 20.0 11.0 40.0\n",
      "[1]  0.1 20.0 11.0 50.0\n",
      "[1]  0.1 20.0 12.0  0.0\n",
      "note: only 2 unique complexity parameters in default grid. Truncating the grid to 2 .\n",
      "\n"
     ]
    },
    {
     "name": "stderr",
     "output_type": "stream",
     "text": [
      "Warning message in nominalTrainWorkflow(x = x, y = y, wts = weights, info = trainInfo, :\n",
      "\"There were missing values in resampled performance measures.\"\n"
     ]
    },
    {
     "name": "stdout",
     "output_type": "stream",
     "text": [
      "[1]  0.1 20.0 12.0  1.0\n",
      "note: only 3 unique complexity parameters in default grid. Truncating the grid to 3 .\n",
      "\n"
     ]
    },
    {
     "name": "stderr",
     "output_type": "stream",
     "text": [
      "Warning message in nominalTrainWorkflow(x = x, y = y, wts = weights, info = trainInfo, :\n",
      "\"There were missing values in resampled performance measures.\"\n"
     ]
    },
    {
     "name": "stdout",
     "output_type": "stream",
     "text": [
      "[1]  0.1 20.0 12.0  3.0\n"
     ]
    },
    {
     "name": "stderr",
     "output_type": "stream",
     "text": [
      "Warning message in nominalTrainWorkflow(x = x, y = y, wts = weights, info = trainInfo, :\n",
      "\"There were missing values in resampled performance measures.\"\n"
     ]
    },
    {
     "name": "stdout",
     "output_type": "stream",
     "text": [
      "[1]  0.1 20.0 12.0  5.0\n",
      "[1]  0.1 20.0 12.0 10.0\n"
     ]
    },
    {
     "name": "stderr",
     "output_type": "stream",
     "text": [
      "Warning message in nominalTrainWorkflow(x = x, y = y, wts = weights, info = trainInfo, :\n",
      "\"There were missing values in resampled performance measures.\"\n"
     ]
    },
    {
     "name": "stdout",
     "output_type": "stream",
     "text": [
      "[1]  0.1 20.0 12.0 20.0\n",
      "[1]  0.1 20.0 12.0 30.0\n"
     ]
    },
    {
     "name": "stderr",
     "output_type": "stream",
     "text": [
      "Warning message in nominalTrainWorkflow(x = x, y = y, wts = weights, info = trainInfo, :\n",
      "\"There were missing values in resampled performance measures.\"\n"
     ]
    },
    {
     "name": "stdout",
     "output_type": "stream",
     "text": [
      "[1]  0.1 20.0 12.0 40.0\n"
     ]
    },
    {
     "name": "stderr",
     "output_type": "stream",
     "text": [
      "Warning message in nominalTrainWorkflow(x = x, y = y, wts = weights, info = trainInfo, :\n",
      "\"There were missing values in resampled performance measures.\"\n"
     ]
    },
    {
     "name": "stdout",
     "output_type": "stream",
     "text": [
      "[1]  0.1 20.0 12.0 50.0\n",
      "[1]  0.1 20.0 13.0  0.0\n",
      "note: only 2 unique complexity parameters in default grid. Truncating the grid to 2 .\n",
      "\n"
     ]
    },
    {
     "name": "stderr",
     "output_type": "stream",
     "text": [
      "Warning message in nominalTrainWorkflow(x = x, y = y, wts = weights, info = trainInfo, :\n",
      "\"There were missing values in resampled performance measures.\"\n"
     ]
    },
    {
     "name": "stdout",
     "output_type": "stream",
     "text": [
      "[1]  0.1 20.0 13.0  1.0\n",
      "note: only 3 unique complexity parameters in default grid. Truncating the grid to 3 .\n",
      "\n"
     ]
    },
    {
     "name": "stderr",
     "output_type": "stream",
     "text": [
      "Warning message in nominalTrainWorkflow(x = x, y = y, wts = weights, info = trainInfo, :\n",
      "\"There were missing values in resampled performance measures.\"\n"
     ]
    },
    {
     "name": "stdout",
     "output_type": "stream",
     "text": [
      "[1]  0.1 20.0 13.0  3.0\n"
     ]
    },
    {
     "name": "stderr",
     "output_type": "stream",
     "text": [
      "Warning message in nominalTrainWorkflow(x = x, y = y, wts = weights, info = trainInfo, :\n",
      "\"There were missing values in resampled performance measures.\"\n"
     ]
    },
    {
     "name": "stdout",
     "output_type": "stream",
     "text": [
      "[1]  0.1 20.0 13.0  5.0\n"
     ]
    },
    {
     "name": "stderr",
     "output_type": "stream",
     "text": [
      "Warning message in nominalTrainWorkflow(x = x, y = y, wts = weights, info = trainInfo, :\n",
      "\"There were missing values in resampled performance measures.\"\n"
     ]
    },
    {
     "name": "stdout",
     "output_type": "stream",
     "text": [
      "[1]  0.1 20.0 13.0 10.0\n"
     ]
    },
    {
     "name": "stderr",
     "output_type": "stream",
     "text": [
      "Warning message in nominalTrainWorkflow(x = x, y = y, wts = weights, info = trainInfo, :\n",
      "\"There were missing values in resampled performance measures.\"\n"
     ]
    },
    {
     "name": "stdout",
     "output_type": "stream",
     "text": [
      "[1]  0.1 20.0 13.0 20.0\n"
     ]
    },
    {
     "name": "stderr",
     "output_type": "stream",
     "text": [
      "Warning message in nominalTrainWorkflow(x = x, y = y, wts = weights, info = trainInfo, :\n",
      "\"There were missing values in resampled performance measures.\"\n"
     ]
    },
    {
     "name": "stdout",
     "output_type": "stream",
     "text": [
      "[1]  0.1 20.0 13.0 30.0\n"
     ]
    },
    {
     "name": "stderr",
     "output_type": "stream",
     "text": [
      "Warning message in nominalTrainWorkflow(x = x, y = y, wts = weights, info = trainInfo, :\n",
      "\"There were missing values in resampled performance measures.\"\n"
     ]
    },
    {
     "name": "stdout",
     "output_type": "stream",
     "text": [
      "[1]  0.1 20.0 13.0 40.0\n",
      "[1]  0.1 20.0 13.0 50.0\n",
      "[1]  0.1 20.0 14.0  0.0\n",
      "note: only 2 unique complexity parameters in default grid. Truncating the grid to 2 .\n",
      "\n"
     ]
    },
    {
     "name": "stderr",
     "output_type": "stream",
     "text": [
      "Warning message in nominalTrainWorkflow(x = x, y = y, wts = weights, info = trainInfo, :\n",
      "\"There were missing values in resampled performance measures.\"\n"
     ]
    },
    {
     "name": "stdout",
     "output_type": "stream",
     "text": [
      "[1]  0.1 20.0 14.0  1.0\n",
      "note: only 3 unique complexity parameters in default grid. Truncating the grid to 3 .\n",
      "\n"
     ]
    },
    {
     "name": "stderr",
     "output_type": "stream",
     "text": [
      "Warning message in nominalTrainWorkflow(x = x, y = y, wts = weights, info = trainInfo, :\n",
      "\"There were missing values in resampled performance measures.\"\n"
     ]
    },
    {
     "name": "stdout",
     "output_type": "stream",
     "text": [
      "[1]  0.1 20.0 14.0  3.0\n"
     ]
    },
    {
     "name": "stderr",
     "output_type": "stream",
     "text": [
      "Warning message in nominalTrainWorkflow(x = x, y = y, wts = weights, info = trainInfo, :\n",
      "\"There were missing values in resampled performance measures.\"\n"
     ]
    },
    {
     "name": "stdout",
     "output_type": "stream",
     "text": [
      "[1]  0.1 20.0 14.0  5.0\n",
      "[1]  0.1 20.0 14.0 10.0\n"
     ]
    },
    {
     "name": "stderr",
     "output_type": "stream",
     "text": [
      "Warning message in nominalTrainWorkflow(x = x, y = y, wts = weights, info = trainInfo, :\n",
      "\"There were missing values in resampled performance measures.\"\n"
     ]
    },
    {
     "name": "stdout",
     "output_type": "stream",
     "text": [
      "[1]  0.1 20.0 14.0 20.0\n"
     ]
    },
    {
     "name": "stderr",
     "output_type": "stream",
     "text": [
      "Warning message in nominalTrainWorkflow(x = x, y = y, wts = weights, info = trainInfo, :\n",
      "\"There were missing values in resampled performance measures.\"\n"
     ]
    },
    {
     "name": "stdout",
     "output_type": "stream",
     "text": [
      "[1]  0.1 20.0 14.0 30.0\n"
     ]
    },
    {
     "name": "stderr",
     "output_type": "stream",
     "text": [
      "Warning message in nominalTrainWorkflow(x = x, y = y, wts = weights, info = trainInfo, :\n",
      "\"There were missing values in resampled performance measures.\"\n"
     ]
    },
    {
     "name": "stdout",
     "output_type": "stream",
     "text": [
      "[1]  0.1 20.0 14.0 40.0\n"
     ]
    },
    {
     "name": "stderr",
     "output_type": "stream",
     "text": [
      "Warning message in nominalTrainWorkflow(x = x, y = y, wts = weights, info = trainInfo, :\n",
      "\"There were missing values in resampled performance measures.\"\n"
     ]
    },
    {
     "name": "stdout",
     "output_type": "stream",
     "text": [
      "[1]  0.1 20.0 14.0 50.0\n"
     ]
    },
    {
     "name": "stderr",
     "output_type": "stream",
     "text": [
      "Warning message in nominalTrainWorkflow(x = x, y = y, wts = weights, info = trainInfo, :\n",
      "\"There were missing values in resampled performance measures.\"\n"
     ]
    },
    {
     "name": "stdout",
     "output_type": "stream",
     "text": [
      "[1]  0.1 20.0 15.0  0.0\n",
      "note: only 2 unique complexity parameters in default grid. Truncating the grid to 2 .\n",
      "\n"
     ]
    },
    {
     "name": "stderr",
     "output_type": "stream",
     "text": [
      "Warning message in nominalTrainWorkflow(x = x, y = y, wts = weights, info = trainInfo, :\n",
      "\"There were missing values in resampled performance measures.\"\n"
     ]
    },
    {
     "name": "stdout",
     "output_type": "stream",
     "text": [
      "[1]  0.1 20.0 15.0  1.0\n",
      "note: only 3 unique complexity parameters in default grid. Truncating the grid to 3 .\n",
      "\n"
     ]
    },
    {
     "name": "stderr",
     "output_type": "stream",
     "text": [
      "Warning message in nominalTrainWorkflow(x = x, y = y, wts = weights, info = trainInfo, :\n",
      "\"There were missing values in resampled performance measures.\"\n"
     ]
    },
    {
     "name": "stdout",
     "output_type": "stream",
     "text": [
      "[1]  0.1 20.0 15.0  3.0\n"
     ]
    },
    {
     "name": "stderr",
     "output_type": "stream",
     "text": [
      "Warning message in nominalTrainWorkflow(x = x, y = y, wts = weights, info = trainInfo, :\n",
      "\"There were missing values in resampled performance measures.\"\n"
     ]
    },
    {
     "name": "stdout",
     "output_type": "stream",
     "text": [
      "[1]  0.1 20.0 15.0  5.0\n",
      "[1]  0.1 20.0 15.0 10.0\n",
      "[1]  0.1 20.0 15.0 20.0\n",
      "[1]  0.1 20.0 15.0 30.0\n",
      "[1]  0.1 20.0 15.0 40.0\n",
      "[1]  0.1 20.0 15.0 50.0\n",
      "[1]  0.1 20.0 16.0  0.0\n",
      "note: only 2 unique complexity parameters in default grid. Truncating the grid to 2 .\n",
      "\n"
     ]
    },
    {
     "name": "stderr",
     "output_type": "stream",
     "text": [
      "Warning message in nominalTrainWorkflow(x = x, y = y, wts = weights, info = trainInfo, :\n",
      "\"There were missing values in resampled performance measures.\"\n"
     ]
    },
    {
     "name": "stdout",
     "output_type": "stream",
     "text": [
      "[1]  0.1 20.0 16.0  1.0\n",
      "note: only 3 unique complexity parameters in default grid. Truncating the grid to 3 .\n",
      "\n"
     ]
    },
    {
     "name": "stderr",
     "output_type": "stream",
     "text": [
      "Warning message in nominalTrainWorkflow(x = x, y = y, wts = weights, info = trainInfo, :\n",
      "\"There were missing values in resampled performance measures.\"\n"
     ]
    },
    {
     "name": "stdout",
     "output_type": "stream",
     "text": [
      "[1]  0.1 20.0 16.0  3.0\n"
     ]
    },
    {
     "name": "stderr",
     "output_type": "stream",
     "text": [
      "Warning message in nominalTrainWorkflow(x = x, y = y, wts = weights, info = trainInfo, :\n",
      "\"There were missing values in resampled performance measures.\"\n"
     ]
    },
    {
     "name": "stdout",
     "output_type": "stream",
     "text": [
      "[1]  0.1 20.0 16.0  5.0\n"
     ]
    },
    {
     "name": "stderr",
     "output_type": "stream",
     "text": [
      "Warning message in nominalTrainWorkflow(x = x, y = y, wts = weights, info = trainInfo, :\n",
      "\"There were missing values in resampled performance measures.\"\n"
     ]
    },
    {
     "name": "stdout",
     "output_type": "stream",
     "text": [
      "[1]  0.1 20.0 16.0 10.0\n"
     ]
    },
    {
     "name": "stderr",
     "output_type": "stream",
     "text": [
      "Warning message in nominalTrainWorkflow(x = x, y = y, wts = weights, info = trainInfo, :\n",
      "\"There were missing values in resampled performance measures.\"\n"
     ]
    },
    {
     "name": "stdout",
     "output_type": "stream",
     "text": [
      "[1]  0.1 20.0 16.0 20.0\n",
      "[1]  0.1 20.0 16.0 30.0\n",
      "[1]  0.1 20.0 16.0 40.0\n"
     ]
    },
    {
     "name": "stderr",
     "output_type": "stream",
     "text": [
      "Warning message in nominalTrainWorkflow(x = x, y = y, wts = weights, info = trainInfo, :\n",
      "\"There were missing values in resampled performance measures.\"\n"
     ]
    },
    {
     "name": "stdout",
     "output_type": "stream",
     "text": [
      "[1]  0.1 20.0 16.0 50.0\n",
      "[1]  0.1 20.0 17.0  0.0\n",
      "note: only 2 unique complexity parameters in default grid. Truncating the grid to 2 .\n",
      "\n"
     ]
    },
    {
     "name": "stderr",
     "output_type": "stream",
     "text": [
      "Warning message in nominalTrainWorkflow(x = x, y = y, wts = weights, info = trainInfo, :\n",
      "\"There were missing values in resampled performance measures.\"\n"
     ]
    },
    {
     "name": "stdout",
     "output_type": "stream",
     "text": [
      "[1]  0.1 20.0 17.0  1.0\n",
      "note: only 3 unique complexity parameters in default grid. Truncating the grid to 3 .\n",
      "\n"
     ]
    },
    {
     "name": "stderr",
     "output_type": "stream",
     "text": [
      "Warning message in nominalTrainWorkflow(x = x, y = y, wts = weights, info = trainInfo, :\n",
      "\"There were missing values in resampled performance measures.\"\n"
     ]
    },
    {
     "name": "stdout",
     "output_type": "stream",
     "text": [
      "[1]  0.1 20.0 17.0  3.0\n"
     ]
    },
    {
     "name": "stderr",
     "output_type": "stream",
     "text": [
      "Warning message in nominalTrainWorkflow(x = x, y = y, wts = weights, info = trainInfo, :\n",
      "\"There were missing values in resampled performance measures.\"\n"
     ]
    },
    {
     "name": "stdout",
     "output_type": "stream",
     "text": [
      "[1]  0.1 20.0 17.0  5.0\n"
     ]
    },
    {
     "name": "stderr",
     "output_type": "stream",
     "text": [
      "Warning message in nominalTrainWorkflow(x = x, y = y, wts = weights, info = trainInfo, :\n",
      "\"There were missing values in resampled performance measures.\"\n"
     ]
    },
    {
     "name": "stdout",
     "output_type": "stream",
     "text": [
      "[1]  0.1 20.0 17.0 10.0\n"
     ]
    },
    {
     "name": "stderr",
     "output_type": "stream",
     "text": [
      "Warning message in nominalTrainWorkflow(x = x, y = y, wts = weights, info = trainInfo, :\n",
      "\"There were missing values in resampled performance measures.\"\n"
     ]
    },
    {
     "name": "stdout",
     "output_type": "stream",
     "text": [
      "[1]  0.1 20.0 17.0 20.0\n"
     ]
    },
    {
     "name": "stderr",
     "output_type": "stream",
     "text": [
      "Warning message in nominalTrainWorkflow(x = x, y = y, wts = weights, info = trainInfo, :\n",
      "\"There were missing values in resampled performance measures.\"\n"
     ]
    },
    {
     "name": "stdout",
     "output_type": "stream",
     "text": [
      "[1]  0.1 20.0 17.0 30.0\n",
      "[1]  0.1 20.0 17.0 40.0\n",
      "[1]  0.1 20.0 17.0 50.0\n",
      "[1]  0.1 20.0 18.0  0.0\n",
      "note: only 2 unique complexity parameters in default grid. Truncating the grid to 2 .\n",
      "\n"
     ]
    },
    {
     "name": "stderr",
     "output_type": "stream",
     "text": [
      "Warning message in nominalTrainWorkflow(x = x, y = y, wts = weights, info = trainInfo, :\n",
      "\"There were missing values in resampled performance measures.\"\n"
     ]
    },
    {
     "name": "stdout",
     "output_type": "stream",
     "text": [
      "[1]  0.1 20.0 18.0  1.0\n",
      "note: only 3 unique complexity parameters in default grid. Truncating the grid to 3 .\n",
      "\n"
     ]
    },
    {
     "name": "stderr",
     "output_type": "stream",
     "text": [
      "Warning message in nominalTrainWorkflow(x = x, y = y, wts = weights, info = trainInfo, :\n",
      "\"There were missing values in resampled performance measures.\"\n"
     ]
    },
    {
     "name": "stdout",
     "output_type": "stream",
     "text": [
      "[1]  0.1 20.0 18.0  3.0\n"
     ]
    },
    {
     "name": "stderr",
     "output_type": "stream",
     "text": [
      "Warning message in nominalTrainWorkflow(x = x, y = y, wts = weights, info = trainInfo, :\n",
      "\"There were missing values in resampled performance measures.\"\n"
     ]
    },
    {
     "name": "stdout",
     "output_type": "stream",
     "text": [
      "[1]  0.1 20.0 18.0  5.0\n"
     ]
    },
    {
     "name": "stderr",
     "output_type": "stream",
     "text": [
      "Warning message in nominalTrainWorkflow(x = x, y = y, wts = weights, info = trainInfo, :\n",
      "\"There were missing values in resampled performance measures.\"\n"
     ]
    },
    {
     "name": "stdout",
     "output_type": "stream",
     "text": [
      "[1]  0.1 20.0 18.0 10.0\n",
      "[1]  0.1 20.0 18.0 20.0\n"
     ]
    },
    {
     "name": "stderr",
     "output_type": "stream",
     "text": [
      "Warning message in nominalTrainWorkflow(x = x, y = y, wts = weights, info = trainInfo, :\n",
      "\"There were missing values in resampled performance measures.\"\n"
     ]
    },
    {
     "name": "stdout",
     "output_type": "stream",
     "text": [
      "[1]  0.1 20.0 18.0 30.0\n"
     ]
    },
    {
     "name": "stderr",
     "output_type": "stream",
     "text": [
      "Warning message in nominalTrainWorkflow(x = x, y = y, wts = weights, info = trainInfo, :\n",
      "\"There were missing values in resampled performance measures.\"\n"
     ]
    },
    {
     "name": "stdout",
     "output_type": "stream",
     "text": [
      "[1]  0.1 20.0 18.0 40.0\n",
      "[1]  0.1 20.0 18.0 50.0\n"
     ]
    },
    {
     "name": "stderr",
     "output_type": "stream",
     "text": [
      "Warning message in nominalTrainWorkflow(x = x, y = y, wts = weights, info = trainInfo, :\n",
      "\"There were missing values in resampled performance measures.\"\n"
     ]
    },
    {
     "name": "stdout",
     "output_type": "stream",
     "text": [
      "[1]  0.1 20.0 19.0  0.0\n",
      "note: only 2 unique complexity parameters in default grid. Truncating the grid to 2 .\n",
      "\n"
     ]
    },
    {
     "name": "stderr",
     "output_type": "stream",
     "text": [
      "Warning message in nominalTrainWorkflow(x = x, y = y, wts = weights, info = trainInfo, :\n",
      "\"There were missing values in resampled performance measures.\"\n"
     ]
    },
    {
     "name": "stdout",
     "output_type": "stream",
     "text": [
      "[1]  0.1 20.0 19.0  1.0\n",
      "note: only 3 unique complexity parameters in default grid. Truncating the grid to 3 .\n",
      "\n"
     ]
    },
    {
     "name": "stderr",
     "output_type": "stream",
     "text": [
      "Warning message in nominalTrainWorkflow(x = x, y = y, wts = weights, info = trainInfo, :\n",
      "\"There were missing values in resampled performance measures.\"\n"
     ]
    },
    {
     "name": "stdout",
     "output_type": "stream",
     "text": [
      "[1]  0.1 20.0 19.0  3.0\n"
     ]
    },
    {
     "name": "stderr",
     "output_type": "stream",
     "text": [
      "Warning message in nominalTrainWorkflow(x = x, y = y, wts = weights, info = trainInfo, :\n",
      "\"There were missing values in resampled performance measures.\"\n"
     ]
    },
    {
     "name": "stdout",
     "output_type": "stream",
     "text": [
      "[1]  0.1 20.0 19.0  5.0\n"
     ]
    },
    {
     "name": "stderr",
     "output_type": "stream",
     "text": [
      "Warning message in nominalTrainWorkflow(x = x, y = y, wts = weights, info = trainInfo, :\n",
      "\"There were missing values in resampled performance measures.\"\n"
     ]
    },
    {
     "name": "stdout",
     "output_type": "stream",
     "text": [
      "[1]  0.1 20.0 19.0 10.0\n"
     ]
    },
    {
     "name": "stderr",
     "output_type": "stream",
     "text": [
      "Warning message in nominalTrainWorkflow(x = x, y = y, wts = weights, info = trainInfo, :\n",
      "\"There were missing values in resampled performance measures.\"\n"
     ]
    },
    {
     "name": "stdout",
     "output_type": "stream",
     "text": [
      "[1]  0.1 20.0 19.0 20.0\n",
      "[1]  0.1 20.0 19.0 30.0\n"
     ]
    },
    {
     "name": "stderr",
     "output_type": "stream",
     "text": [
      "Warning message in nominalTrainWorkflow(x = x, y = y, wts = weights, info = trainInfo, :\n",
      "\"There were missing values in resampled performance measures.\"\n"
     ]
    },
    {
     "name": "stdout",
     "output_type": "stream",
     "text": [
      "[1]  0.1 20.0 19.0 40.0\n",
      "[1]  0.1 20.0 19.0 50.0\n",
      "[1]  0.1 20.0 20.0  0.0\n",
      "note: only 2 unique complexity parameters in default grid. Truncating the grid to 2 .\n",
      "\n"
     ]
    },
    {
     "name": "stderr",
     "output_type": "stream",
     "text": [
      "Warning message in nominalTrainWorkflow(x = x, y = y, wts = weights, info = trainInfo, :\n",
      "\"There were missing values in resampled performance measures.\"\n"
     ]
    },
    {
     "name": "stdout",
     "output_type": "stream",
     "text": [
      "[1]  0.1 20.0 20.0  1.0\n",
      "note: only 3 unique complexity parameters in default grid. Truncating the grid to 3 .\n",
      "\n"
     ]
    },
    {
     "name": "stderr",
     "output_type": "stream",
     "text": [
      "Warning message in nominalTrainWorkflow(x = x, y = y, wts = weights, info = trainInfo, :\n",
      "\"There were missing values in resampled performance measures.\"\n"
     ]
    },
    {
     "name": "stdout",
     "output_type": "stream",
     "text": [
      "[1]  0.1 20.0 20.0  3.0\n",
      "[1]  0.1 20.0 20.0  5.0\n",
      "[1]  0.1 20.0 20.0 10.0\n",
      "[1]  0.1 20.0 20.0 20.0\n",
      "[1]  0.1 20.0 20.0 30.0\n",
      "[1]  0.1 20.0 20.0 40.0\n",
      "[1]  0.1 20.0 20.0 50.0\n",
      "[1]  0.1 20.0 21.0  0.0\n",
      "note: only 2 unique complexity parameters in default grid. Truncating the grid to 2 .\n",
      "\n"
     ]
    },
    {
     "name": "stderr",
     "output_type": "stream",
     "text": [
      "Warning message in nominalTrainWorkflow(x = x, y = y, wts = weights, info = trainInfo, :\n",
      "\"There were missing values in resampled performance measures.\"\n"
     ]
    },
    {
     "name": "stdout",
     "output_type": "stream",
     "text": [
      "[1]  0.1 20.0 21.0  1.0\n",
      "note: only 3 unique complexity parameters in default grid. Truncating the grid to 3 .\n",
      "\n"
     ]
    },
    {
     "name": "stderr",
     "output_type": "stream",
     "text": [
      "Warning message in nominalTrainWorkflow(x = x, y = y, wts = weights, info = trainInfo, :\n",
      "\"There were missing values in resampled performance measures.\"\n"
     ]
    },
    {
     "name": "stdout",
     "output_type": "stream",
     "text": [
      "[1]  0.1 20.0 21.0  3.0\n"
     ]
    },
    {
     "name": "stderr",
     "output_type": "stream",
     "text": [
      "Warning message in nominalTrainWorkflow(x = x, y = y, wts = weights, info = trainInfo, :\n",
      "\"There were missing values in resampled performance measures.\"\n"
     ]
    },
    {
     "name": "stdout",
     "output_type": "stream",
     "text": [
      "[1]  0.1 20.0 21.0  5.0\n"
     ]
    },
    {
     "name": "stderr",
     "output_type": "stream",
     "text": [
      "Warning message in nominalTrainWorkflow(x = x, y = y, wts = weights, info = trainInfo, :\n",
      "\"There were missing values in resampled performance measures.\"\n"
     ]
    },
    {
     "name": "stdout",
     "output_type": "stream",
     "text": [
      "[1]  0.1 20.0 21.0 10.0\n",
      "[1]  0.1 20.0 21.0 20.0\n"
     ]
    },
    {
     "name": "stderr",
     "output_type": "stream",
     "text": [
      "Warning message in nominalTrainWorkflow(x = x, y = y, wts = weights, info = trainInfo, :\n",
      "\"There were missing values in resampled performance measures.\"\n"
     ]
    },
    {
     "name": "stdout",
     "output_type": "stream",
     "text": [
      "[1]  0.1 20.0 21.0 30.0\n",
      "[1]  0.1 20.0 21.0 40.0\n",
      "[1]  0.1 20.0 21.0 50.0\n"
     ]
    },
    {
     "name": "stderr",
     "output_type": "stream",
     "text": [
      "Warning message in nominalTrainWorkflow(x = x, y = y, wts = weights, info = trainInfo, :\n",
      "\"There were missing values in resampled performance measures.\"\n"
     ]
    },
    {
     "name": "stdout",
     "output_type": "stream",
     "text": [
      "[1]  0.1 20.0 22.0  0.0\n",
      "note: only 2 unique complexity parameters in default grid. Truncating the grid to 2 .\n",
      "\n"
     ]
    },
    {
     "name": "stderr",
     "output_type": "stream",
     "text": [
      "Warning message in nominalTrainWorkflow(x = x, y = y, wts = weights, info = trainInfo, :\n",
      "\"There were missing values in resampled performance measures.\"\n"
     ]
    },
    {
     "name": "stdout",
     "output_type": "stream",
     "text": [
      "[1]  0.1 20.0 22.0  1.0\n",
      "note: only 3 unique complexity parameters in default grid. Truncating the grid to 3 .\n",
      "\n"
     ]
    },
    {
     "name": "stderr",
     "output_type": "stream",
     "text": [
      "Warning message in nominalTrainWorkflow(x = x, y = y, wts = weights, info = trainInfo, :\n",
      "\"There were missing values in resampled performance measures.\"\n"
     ]
    },
    {
     "name": "stdout",
     "output_type": "stream",
     "text": [
      "[1]  0.1 20.0 22.0  3.0\n"
     ]
    },
    {
     "name": "stderr",
     "output_type": "stream",
     "text": [
      "Warning message in nominalTrainWorkflow(x = x, y = y, wts = weights, info = trainInfo, :\n",
      "\"There were missing values in resampled performance measures.\"\n"
     ]
    },
    {
     "name": "stdout",
     "output_type": "stream",
     "text": [
      "[1]  0.1 20.0 22.0  5.0\n"
     ]
    },
    {
     "name": "stderr",
     "output_type": "stream",
     "text": [
      "Warning message in nominalTrainWorkflow(x = x, y = y, wts = weights, info = trainInfo, :\n",
      "\"There were missing values in resampled performance measures.\"\n"
     ]
    },
    {
     "name": "stdout",
     "output_type": "stream",
     "text": [
      "[1]  0.1 20.0 22.0 10.0\n"
     ]
    },
    {
     "name": "stderr",
     "output_type": "stream",
     "text": [
      "Warning message in nominalTrainWorkflow(x = x, y = y, wts = weights, info = trainInfo, :\n",
      "\"There were missing values in resampled performance measures.\"\n"
     ]
    },
    {
     "name": "stdout",
     "output_type": "stream",
     "text": [
      "[1]  0.1 20.0 22.0 20.0\n",
      "[1]  0.1 20.0 22.0 30.0\n"
     ]
    },
    {
     "name": "stderr",
     "output_type": "stream",
     "text": [
      "Warning message in nominalTrainWorkflow(x = x, y = y, wts = weights, info = trainInfo, :\n",
      "\"There were missing values in resampled performance measures.\"\n"
     ]
    },
    {
     "name": "stdout",
     "output_type": "stream",
     "text": [
      "[1]  0.1 20.0 22.0 40.0\n",
      "[1]  0.1 20.0 22.0 50.0\n"
     ]
    },
    {
     "name": "stderr",
     "output_type": "stream",
     "text": [
      "Warning message in nominalTrainWorkflow(x = x, y = y, wts = weights, info = trainInfo, :\n",
      "\"There were missing values in resampled performance measures.\"\n"
     ]
    },
    {
     "name": "stdout",
     "output_type": "stream",
     "text": [
      "[1]  0.1 20.0 23.0  0.0\n",
      "note: only 2 unique complexity parameters in default grid. Truncating the grid to 2 .\n",
      "\n"
     ]
    },
    {
     "name": "stderr",
     "output_type": "stream",
     "text": [
      "Warning message in nominalTrainWorkflow(x = x, y = y, wts = weights, info = trainInfo, :\n",
      "\"There were missing values in resampled performance measures.\"\n"
     ]
    },
    {
     "name": "stdout",
     "output_type": "stream",
     "text": [
      "[1]  0.1 20.0 23.0  1.0\n",
      "note: only 3 unique complexity parameters in default grid. Truncating the grid to 3 .\n",
      "\n"
     ]
    },
    {
     "name": "stderr",
     "output_type": "stream",
     "text": [
      "Warning message in nominalTrainWorkflow(x = x, y = y, wts = weights, info = trainInfo, :\n",
      "\"There were missing values in resampled performance measures.\"\n"
     ]
    },
    {
     "name": "stdout",
     "output_type": "stream",
     "text": [
      "[1]  0.1 20.0 23.0  3.0\n",
      "[1]  0.1 20.0 23.0  5.0\n"
     ]
    },
    {
     "name": "stderr",
     "output_type": "stream",
     "text": [
      "Warning message in nominalTrainWorkflow(x = x, y = y, wts = weights, info = trainInfo, :\n",
      "\"There were missing values in resampled performance measures.\"\n"
     ]
    },
    {
     "name": "stdout",
     "output_type": "stream",
     "text": [
      "[1]  0.1 20.0 23.0 10.0\n"
     ]
    },
    {
     "name": "stderr",
     "output_type": "stream",
     "text": [
      "Warning message in nominalTrainWorkflow(x = x, y = y, wts = weights, info = trainInfo, :\n",
      "\"There were missing values in resampled performance measures.\"\n"
     ]
    },
    {
     "name": "stdout",
     "output_type": "stream",
     "text": [
      "[1]  0.1 20.0 23.0 20.0\n",
      "[1]  0.1 20.0 23.0 30.0\n"
     ]
    },
    {
     "name": "stderr",
     "output_type": "stream",
     "text": [
      "Warning message in nominalTrainWorkflow(x = x, y = y, wts = weights, info = trainInfo, :\n",
      "\"There were missing values in resampled performance measures.\"\n"
     ]
    },
    {
     "name": "stdout",
     "output_type": "stream",
     "text": [
      "[1]  0.1 20.0 23.0 40.0\n"
     ]
    },
    {
     "name": "stderr",
     "output_type": "stream",
     "text": [
      "Warning message in nominalTrainWorkflow(x = x, y = y, wts = weights, info = trainInfo, :\n",
      "\"There were missing values in resampled performance measures.\"\n"
     ]
    },
    {
     "name": "stdout",
     "output_type": "stream",
     "text": [
      "[1]  0.1 20.0 23.0 50.0\n",
      "[1]  0.1 20.0 24.0  0.0\n",
      "note: only 2 unique complexity parameters in default grid. Truncating the grid to 2 .\n",
      "\n"
     ]
    },
    {
     "name": "stderr",
     "output_type": "stream",
     "text": [
      "Warning message in nominalTrainWorkflow(x = x, y = y, wts = weights, info = trainInfo, :\n",
      "\"There were missing values in resampled performance measures.\"\n"
     ]
    },
    {
     "name": "stdout",
     "output_type": "stream",
     "text": [
      "[1]  0.1 20.0 24.0  1.0\n",
      "note: only 3 unique complexity parameters in default grid. Truncating the grid to 3 .\n",
      "\n"
     ]
    },
    {
     "name": "stderr",
     "output_type": "stream",
     "text": [
      "Warning message in nominalTrainWorkflow(x = x, y = y, wts = weights, info = trainInfo, :\n",
      "\"There were missing values in resampled performance measures.\"\n"
     ]
    },
    {
     "name": "stdout",
     "output_type": "stream",
     "text": [
      "[1]  0.1 20.0 24.0  3.0\n"
     ]
    },
    {
     "name": "stderr",
     "output_type": "stream",
     "text": [
      "Warning message in nominalTrainWorkflow(x = x, y = y, wts = weights, info = trainInfo, :\n",
      "\"There were missing values in resampled performance measures.\"\n"
     ]
    },
    {
     "name": "stdout",
     "output_type": "stream",
     "text": [
      "[1]  0.1 20.0 24.0  5.0\n"
     ]
    },
    {
     "name": "stderr",
     "output_type": "stream",
     "text": [
      "Warning message in nominalTrainWorkflow(x = x, y = y, wts = weights, info = trainInfo, :\n",
      "\"There were missing values in resampled performance measures.\"\n"
     ]
    },
    {
     "name": "stdout",
     "output_type": "stream",
     "text": [
      "[1]  0.1 20.0 24.0 10.0\n"
     ]
    },
    {
     "name": "stderr",
     "output_type": "stream",
     "text": [
      "Warning message in nominalTrainWorkflow(x = x, y = y, wts = weights, info = trainInfo, :\n",
      "\"There were missing values in resampled performance measures.\"\n"
     ]
    },
    {
     "name": "stdout",
     "output_type": "stream",
     "text": [
      "[1]  0.1 20.0 24.0 20.0\n",
      "[1]  0.1 20.0 24.0 30.0\n",
      "[1]  0.1 20.0 24.0 40.0\n",
      "[1]  0.1 20.0 24.0 50.0\n"
     ]
    },
    {
     "name": "stderr",
     "output_type": "stream",
     "text": [
      "Warning message in nominalTrainWorkflow(x = x, y = y, wts = weights, info = trainInfo, :\n",
      "\"There were missing values in resampled performance measures.\"\n"
     ]
    },
    {
     "name": "stdout",
     "output_type": "stream",
     "text": [
      "[1]  0.1 20.0 25.0  0.0\n",
      "note: only 2 unique complexity parameters in default grid. Truncating the grid to 2 .\n",
      "\n"
     ]
    },
    {
     "name": "stderr",
     "output_type": "stream",
     "text": [
      "Warning message in nominalTrainWorkflow(x = x, y = y, wts = weights, info = trainInfo, :\n",
      "\"There were missing values in resampled performance measures.\"\n"
     ]
    },
    {
     "name": "stdout",
     "output_type": "stream",
     "text": [
      "[1]  0.1 20.0 25.0  1.0\n",
      "note: only 3 unique complexity parameters in default grid. Truncating the grid to 3 .\n",
      "\n"
     ]
    },
    {
     "name": "stderr",
     "output_type": "stream",
     "text": [
      "Warning message in nominalTrainWorkflow(x = x, y = y, wts = weights, info = trainInfo, :\n",
      "\"There were missing values in resampled performance measures.\"\n"
     ]
    },
    {
     "name": "stdout",
     "output_type": "stream",
     "text": [
      "[1]  0.1 20.0 25.0  3.0\n"
     ]
    },
    {
     "name": "stderr",
     "output_type": "stream",
     "text": [
      "Warning message in nominalTrainWorkflow(x = x, y = y, wts = weights, info = trainInfo, :\n",
      "\"There were missing values in resampled performance measures.\"\n"
     ]
    },
    {
     "name": "stdout",
     "output_type": "stream",
     "text": [
      "[1]  0.1 20.0 25.0  5.0\n"
     ]
    },
    {
     "name": "stderr",
     "output_type": "stream",
     "text": [
      "Warning message in nominalTrainWorkflow(x = x, y = y, wts = weights, info = trainInfo, :\n",
      "\"There were missing values in resampled performance measures.\"\n"
     ]
    },
    {
     "name": "stdout",
     "output_type": "stream",
     "text": [
      "[1]  0.1 20.0 25.0 10.0\n",
      "[1]  0.1 20.0 25.0 20.0\n"
     ]
    },
    {
     "name": "stderr",
     "output_type": "stream",
     "text": [
      "Warning message in nominalTrainWorkflow(x = x, y = y, wts = weights, info = trainInfo, :\n",
      "\"There were missing values in resampled performance measures.\"\n"
     ]
    },
    {
     "name": "stdout",
     "output_type": "stream",
     "text": [
      "[1]  0.1 20.0 25.0 30.0\n"
     ]
    },
    {
     "name": "stderr",
     "output_type": "stream",
     "text": [
      "Warning message in nominalTrainWorkflow(x = x, y = y, wts = weights, info = trainInfo, :\n",
      "\"There were missing values in resampled performance measures.\"\n"
     ]
    },
    {
     "name": "stdout",
     "output_type": "stream",
     "text": [
      "[1]  0.1 20.0 25.0 40.0\n"
     ]
    },
    {
     "name": "stderr",
     "output_type": "stream",
     "text": [
      "Warning message in nominalTrainWorkflow(x = x, y = y, wts = weights, info = trainInfo, :\n",
      "\"There were missing values in resampled performance measures.\"\n"
     ]
    },
    {
     "name": "stdout",
     "output_type": "stream",
     "text": [
      "[1]  0.1 20.0 25.0 50.0\n",
      "[1]  0.1 20.0 26.0  0.0\n",
      "note: only 2 unique complexity parameters in default grid. Truncating the grid to 2 .\n",
      "\n"
     ]
    },
    {
     "name": "stderr",
     "output_type": "stream",
     "text": [
      "Warning message in nominalTrainWorkflow(x = x, y = y, wts = weights, info = trainInfo, :\n",
      "\"There were missing values in resampled performance measures.\"\n"
     ]
    },
    {
     "name": "stdout",
     "output_type": "stream",
     "text": [
      "[1]  0.1 20.0 26.0  1.0\n",
      "note: only 3 unique complexity parameters in default grid. Truncating the grid to 3 .\n",
      "\n"
     ]
    },
    {
     "name": "stderr",
     "output_type": "stream",
     "text": [
      "Warning message in nominalTrainWorkflow(x = x, y = y, wts = weights, info = trainInfo, :\n",
      "\"There were missing values in resampled performance measures.\"\n"
     ]
    },
    {
     "name": "stdout",
     "output_type": "stream",
     "text": [
      "[1]  0.1 20.0 26.0  3.0\n"
     ]
    },
    {
     "name": "stderr",
     "output_type": "stream",
     "text": [
      "Warning message in nominalTrainWorkflow(x = x, y = y, wts = weights, info = trainInfo, :\n",
      "\"There were missing values in resampled performance measures.\"\n"
     ]
    },
    {
     "name": "stdout",
     "output_type": "stream",
     "text": [
      "[1]  0.1 20.0 26.0  5.0\n"
     ]
    },
    {
     "name": "stderr",
     "output_type": "stream",
     "text": [
      "Warning message in nominalTrainWorkflow(x = x, y = y, wts = weights, info = trainInfo, :\n",
      "\"There were missing values in resampled performance measures.\"\n"
     ]
    },
    {
     "name": "stdout",
     "output_type": "stream",
     "text": [
      "[1]  0.1 20.0 26.0 10.0\n"
     ]
    },
    {
     "name": "stderr",
     "output_type": "stream",
     "text": [
      "Warning message in nominalTrainWorkflow(x = x, y = y, wts = weights, info = trainInfo, :\n",
      "\"There were missing values in resampled performance measures.\"\n"
     ]
    },
    {
     "name": "stdout",
     "output_type": "stream",
     "text": [
      "[1]  0.1 20.0 26.0 20.0\n"
     ]
    },
    {
     "name": "stderr",
     "output_type": "stream",
     "text": [
      "Warning message in nominalTrainWorkflow(x = x, y = y, wts = weights, info = trainInfo, :\n",
      "\"There were missing values in resampled performance measures.\"\n"
     ]
    },
    {
     "name": "stdout",
     "output_type": "stream",
     "text": [
      "[1]  0.1 20.0 26.0 30.0\n"
     ]
    },
    {
     "name": "stderr",
     "output_type": "stream",
     "text": [
      "Warning message in nominalTrainWorkflow(x = x, y = y, wts = weights, info = trainInfo, :\n",
      "\"There were missing values in resampled performance measures.\"\n"
     ]
    },
    {
     "name": "stdout",
     "output_type": "stream",
     "text": [
      "[1]  0.1 20.0 26.0 40.0\n"
     ]
    },
    {
     "name": "stderr",
     "output_type": "stream",
     "text": [
      "Warning message in nominalTrainWorkflow(x = x, y = y, wts = weights, info = trainInfo, :\n",
      "\"There were missing values in resampled performance measures.\"\n"
     ]
    },
    {
     "name": "stdout",
     "output_type": "stream",
     "text": [
      "[1]  0.1 20.0 26.0 50.0\n",
      "[1]  0.1 20.0 27.0  0.0\n",
      "note: only 2 unique complexity parameters in default grid. Truncating the grid to 2 .\n",
      "\n"
     ]
    },
    {
     "name": "stderr",
     "output_type": "stream",
     "text": [
      "Warning message in nominalTrainWorkflow(x = x, y = y, wts = weights, info = trainInfo, :\n",
      "\"There were missing values in resampled performance measures.\"\n"
     ]
    },
    {
     "name": "stdout",
     "output_type": "stream",
     "text": [
      "[1]  0.1 20.0 27.0  1.0\n",
      "note: only 3 unique complexity parameters in default grid. Truncating the grid to 3 .\n",
      "\n"
     ]
    },
    {
     "name": "stderr",
     "output_type": "stream",
     "text": [
      "Warning message in nominalTrainWorkflow(x = x, y = y, wts = weights, info = trainInfo, :\n",
      "\"There were missing values in resampled performance measures.\"\n"
     ]
    },
    {
     "name": "stdout",
     "output_type": "stream",
     "text": [
      "[1]  0.1 20.0 27.0  3.0\n"
     ]
    },
    {
     "name": "stderr",
     "output_type": "stream",
     "text": [
      "Warning message in nominalTrainWorkflow(x = x, y = y, wts = weights, info = trainInfo, :\n",
      "\"There were missing values in resampled performance measures.\"\n"
     ]
    },
    {
     "name": "stdout",
     "output_type": "stream",
     "text": [
      "[1]  0.1 20.0 27.0  5.0\n"
     ]
    },
    {
     "name": "stderr",
     "output_type": "stream",
     "text": [
      "Warning message in nominalTrainWorkflow(x = x, y = y, wts = weights, info = trainInfo, :\n",
      "\"There were missing values in resampled performance measures.\"\n"
     ]
    },
    {
     "name": "stdout",
     "output_type": "stream",
     "text": [
      "[1]  0.1 20.0 27.0 10.0\n"
     ]
    },
    {
     "name": "stderr",
     "output_type": "stream",
     "text": [
      "Warning message in nominalTrainWorkflow(x = x, y = y, wts = weights, info = trainInfo, :\n",
      "\"There were missing values in resampled performance measures.\"\n"
     ]
    },
    {
     "name": "stdout",
     "output_type": "stream",
     "text": [
      "[1]  0.1 20.0 27.0 20.0\n"
     ]
    },
    {
     "name": "stderr",
     "output_type": "stream",
     "text": [
      "Warning message in nominalTrainWorkflow(x = x, y = y, wts = weights, info = trainInfo, :\n",
      "\"There were missing values in resampled performance measures.\"\n"
     ]
    },
    {
     "name": "stdout",
     "output_type": "stream",
     "text": [
      "[1]  0.1 20.0 27.0 30.0\n",
      "[1]  0.1 20.0 27.0 40.0\n"
     ]
    },
    {
     "name": "stderr",
     "output_type": "stream",
     "text": [
      "Warning message in nominalTrainWorkflow(x = x, y = y, wts = weights, info = trainInfo, :\n",
      "\"There were missing values in resampled performance measures.\"\n"
     ]
    },
    {
     "name": "stdout",
     "output_type": "stream",
     "text": [
      "[1]  0.1 20.0 27.0 50.0\n",
      "[1]  0.1 20.0 28.0  0.0\n",
      "note: only 2 unique complexity parameters in default grid. Truncating the grid to 2 .\n",
      "\n"
     ]
    },
    {
     "name": "stderr",
     "output_type": "stream",
     "text": [
      "Warning message in nominalTrainWorkflow(x = x, y = y, wts = weights, info = trainInfo, :\n",
      "\"There were missing values in resampled performance measures.\"\n"
     ]
    },
    {
     "name": "stdout",
     "output_type": "stream",
     "text": [
      "[1]  0.1 20.0 28.0  1.0\n",
      "note: only 3 unique complexity parameters in default grid. Truncating the grid to 3 .\n",
      "\n"
     ]
    },
    {
     "name": "stderr",
     "output_type": "stream",
     "text": [
      "Warning message in nominalTrainWorkflow(x = x, y = y, wts = weights, info = trainInfo, :\n",
      "\"There were missing values in resampled performance measures.\"\n"
     ]
    },
    {
     "name": "stdout",
     "output_type": "stream",
     "text": [
      "[1]  0.1 20.0 28.0  3.0\n"
     ]
    },
    {
     "name": "stderr",
     "output_type": "stream",
     "text": [
      "Warning message in nominalTrainWorkflow(x = x, y = y, wts = weights, info = trainInfo, :\n",
      "\"There were missing values in resampled performance measures.\"\n"
     ]
    },
    {
     "name": "stdout",
     "output_type": "stream",
     "text": [
      "[1]  0.1 20.0 28.0  5.0\n",
      "[1]  0.1 20.0 28.0 10.0\n",
      "[1]  0.1 20.0 28.0 20.0\n",
      "[1]  0.1 20.0 28.0 30.0\n"
     ]
    },
    {
     "name": "stderr",
     "output_type": "stream",
     "text": [
      "Warning message in nominalTrainWorkflow(x = x, y = y, wts = weights, info = trainInfo, :\n",
      "\"There were missing values in resampled performance measures.\"\n"
     ]
    },
    {
     "name": "stdout",
     "output_type": "stream",
     "text": [
      "[1]  0.1 20.0 28.0 40.0\n",
      "[1]  0.1 20.0 28.0 50.0\n",
      "[1]  0.1 20.0 29.0  0.0\n",
      "note: only 2 unique complexity parameters in default grid. Truncating the grid to 2 .\n",
      "\n"
     ]
    },
    {
     "name": "stderr",
     "output_type": "stream",
     "text": [
      "Warning message in nominalTrainWorkflow(x = x, y = y, wts = weights, info = trainInfo, :\n",
      "\"There were missing values in resampled performance measures.\"\n"
     ]
    },
    {
     "name": "stdout",
     "output_type": "stream",
     "text": [
      "[1]  0.1 20.0 29.0  1.0\n",
      "note: only 3 unique complexity parameters in default grid. Truncating the grid to 3 .\n",
      "\n"
     ]
    },
    {
     "name": "stderr",
     "output_type": "stream",
     "text": [
      "Warning message in nominalTrainWorkflow(x = x, y = y, wts = weights, info = trainInfo, :\n",
      "\"There were missing values in resampled performance measures.\"\n"
     ]
    },
    {
     "name": "stdout",
     "output_type": "stream",
     "text": [
      "[1]  0.1 20.0 29.0  3.0\n"
     ]
    },
    {
     "name": "stderr",
     "output_type": "stream",
     "text": [
      "Warning message in nominalTrainWorkflow(x = x, y = y, wts = weights, info = trainInfo, :\n",
      "\"There were missing values in resampled performance measures.\"\n"
     ]
    },
    {
     "name": "stdout",
     "output_type": "stream",
     "text": [
      "[1]  0.1 20.0 29.0  5.0\n"
     ]
    },
    {
     "name": "stderr",
     "output_type": "stream",
     "text": [
      "Warning message in nominalTrainWorkflow(x = x, y = y, wts = weights, info = trainInfo, :\n",
      "\"There were missing values in resampled performance measures.\"\n"
     ]
    },
    {
     "name": "stdout",
     "output_type": "stream",
     "text": [
      "[1]  0.1 20.0 29.0 10.0\n",
      "[1]  0.1 20.0 29.0 20.0\n",
      "[1]  0.1 20.0 29.0 30.0\n",
      "[1]  0.1 20.0 29.0 40.0\n",
      "[1]  0.1 20.0 29.0 50.0\n"
     ]
    },
    {
     "name": "stderr",
     "output_type": "stream",
     "text": [
      "Warning message in nominalTrainWorkflow(x = x, y = y, wts = weights, info = trainInfo, :\n",
      "\"There were missing values in resampled performance measures.\"\n"
     ]
    },
    {
     "name": "stdout",
     "output_type": "stream",
     "text": [
      "[1]  0.1 20.0 30.0  0.0\n",
      "note: only 2 unique complexity parameters in default grid. Truncating the grid to 2 .\n",
      "\n"
     ]
    },
    {
     "name": "stderr",
     "output_type": "stream",
     "text": [
      "Warning message in nominalTrainWorkflow(x = x, y = y, wts = weights, info = trainInfo, :\n",
      "\"There were missing values in resampled performance measures.\"\n"
     ]
    },
    {
     "name": "stdout",
     "output_type": "stream",
     "text": [
      "[1]  0.1 20.0 30.0  1.0\n",
      "note: only 3 unique complexity parameters in default grid. Truncating the grid to 3 .\n",
      "\n"
     ]
    },
    {
     "name": "stderr",
     "output_type": "stream",
     "text": [
      "Warning message in nominalTrainWorkflow(x = x, y = y, wts = weights, info = trainInfo, :\n",
      "\"There were missing values in resampled performance measures.\"\n"
     ]
    },
    {
     "name": "stdout",
     "output_type": "stream",
     "text": [
      "[1]  0.1 20.0 30.0  3.0\n"
     ]
    },
    {
     "name": "stderr",
     "output_type": "stream",
     "text": [
      "Warning message in nominalTrainWorkflow(x = x, y = y, wts = weights, info = trainInfo, :\n",
      "\"There were missing values in resampled performance measures.\"\n"
     ]
    },
    {
     "name": "stdout",
     "output_type": "stream",
     "text": [
      "[1]  0.1 20.0 30.0  5.0\n"
     ]
    },
    {
     "name": "stderr",
     "output_type": "stream",
     "text": [
      "Warning message in nominalTrainWorkflow(x = x, y = y, wts = weights, info = trainInfo, :\n",
      "\"There were missing values in resampled performance measures.\"\n"
     ]
    },
    {
     "name": "stdout",
     "output_type": "stream",
     "text": [
      "[1]  0.1 20.0 30.0 10.0\n",
      "[1]  0.1 20.0 30.0 20.0\n"
     ]
    },
    {
     "name": "stderr",
     "output_type": "stream",
     "text": [
      "Warning message in nominalTrainWorkflow(x = x, y = y, wts = weights, info = trainInfo, :\n",
      "\"There were missing values in resampled performance measures.\"\n"
     ]
    },
    {
     "name": "stdout",
     "output_type": "stream",
     "text": [
      "[1]  0.1 20.0 30.0 30.0\n",
      "[1]  0.1 20.0 30.0 40.0\n",
      "[1]  0.1 20.0 30.0 50.0\n",
      "[1]  0.1 30.0  1.0  0.0\n",
      "note: only 2 unique complexity parameters in default grid. Truncating the grid to 2 .\n",
      "\n"
     ]
    },
    {
     "name": "stderr",
     "output_type": "stream",
     "text": [
      "Warning message in nominalTrainWorkflow(x = x, y = y, wts = weights, info = trainInfo, :\n",
      "\"There were missing values in resampled performance measures.\"\n"
     ]
    },
    {
     "name": "stdout",
     "output_type": "stream",
     "text": [
      "[1]  0.1 30.0  1.0  1.0\n",
      "note: only 3 unique complexity parameters in default grid. Truncating the grid to 3 .\n",
      "\n"
     ]
    },
    {
     "name": "stderr",
     "output_type": "stream",
     "text": [
      "Warning message in nominalTrainWorkflow(x = x, y = y, wts = weights, info = trainInfo, :\n",
      "\"There were missing values in resampled performance measures.\"\n"
     ]
    },
    {
     "name": "stdout",
     "output_type": "stream",
     "text": [
      "[1]  0.1 30.0  1.0  3.0\n",
      "[1]  0.1 30.0  1.0  5.0\n",
      "[1]  0.1 30.0  1.0 10.0\n"
     ]
    },
    {
     "name": "stderr",
     "output_type": "stream",
     "text": [
      "Warning message in nominalTrainWorkflow(x = x, y = y, wts = weights, info = trainInfo, :\n",
      "\"There were missing values in resampled performance measures.\"\n"
     ]
    },
    {
     "name": "stdout",
     "output_type": "stream",
     "text": [
      "[1]  0.1 30.0  1.0 20.0\n",
      "[1]  0.1 30.0  1.0 30.0\n",
      "[1]  0.1 30.0  1.0 40.0\n",
      "[1]  0.1 30.0  1.0 50.0\n"
     ]
    },
    {
     "name": "stderr",
     "output_type": "stream",
     "text": [
      "Warning message in nominalTrainWorkflow(x = x, y = y, wts = weights, info = trainInfo, :\n",
      "\"There were missing values in resampled performance measures.\"\n"
     ]
    },
    {
     "name": "stdout",
     "output_type": "stream",
     "text": [
      "[1]  0.1 30.0  2.0  0.0\n",
      "note: only 2 unique complexity parameters in default grid. Truncating the grid to 2 .\n",
      "\n",
      "[1]  0.1 30.0  2.0  1.0\n",
      "note: only 3 unique complexity parameters in default grid. Truncating the grid to 3 .\n",
      "\n",
      "[1]  0.1 30.0  2.0  3.0\n",
      "[1]  0.1 30.0  2.0  5.0\n",
      "[1]  0.1 30.0  2.0 10.0\n",
      "[1]  0.1 30.0  2.0 20.0\n",
      "[1]  0.1 30.0  2.0 30.0\n",
      "[1]  0.1 30.0  2.0 40.0\n",
      "[1]  0.1 30.0  2.0 50.0\n",
      "[1]  0.1 30.0  3.0  0.0\n",
      "note: only 2 unique complexity parameters in default grid. Truncating the grid to 2 .\n",
      "\n",
      "[1]  0.1 30.0  3.0  1.0\n",
      "note: only 3 unique complexity parameters in default grid. Truncating the grid to 3 .\n",
      "\n"
     ]
    },
    {
     "name": "stderr",
     "output_type": "stream",
     "text": [
      "Warning message in nominalTrainWorkflow(x = x, y = y, wts = weights, info = trainInfo, :\n",
      "\"There were missing values in resampled performance measures.\"\n"
     ]
    },
    {
     "name": "stdout",
     "output_type": "stream",
     "text": [
      "[1]  0.1 30.0  3.0  3.0\n"
     ]
    },
    {
     "name": "stderr",
     "output_type": "stream",
     "text": [
      "Warning message in nominalTrainWorkflow(x = x, y = y, wts = weights, info = trainInfo, :\n",
      "\"There were missing values in resampled performance measures.\"\n"
     ]
    },
    {
     "name": "stdout",
     "output_type": "stream",
     "text": [
      "[1]  0.1 30.0  3.0  5.0\n"
     ]
    },
    {
     "name": "stderr",
     "output_type": "stream",
     "text": [
      "Warning message in nominalTrainWorkflow(x = x, y = y, wts = weights, info = trainInfo, :\n",
      "\"There were missing values in resampled performance measures.\"\n"
     ]
    },
    {
     "name": "stdout",
     "output_type": "stream",
     "text": [
      "[1]  0.1 30.0  3.0 10.0\n",
      "[1]  0.1 30.0  3.0 20.0\n",
      "[1]  0.1 30.0  3.0 30.0\n",
      "[1]  0.1 30.0  3.0 40.0\n",
      "[1]  0.1 30.0  3.0 50.0\n",
      "[1]  0.1 30.0  4.0  0.0\n",
      "note: only 2 unique complexity parameters in default grid. Truncating the grid to 2 .\n",
      "\n"
     ]
    },
    {
     "name": "stderr",
     "output_type": "stream",
     "text": [
      "Warning message in nominalTrainWorkflow(x = x, y = y, wts = weights, info = trainInfo, :\n",
      "\"There were missing values in resampled performance measures.\"\n"
     ]
    },
    {
     "name": "stdout",
     "output_type": "stream",
     "text": [
      "[1]  0.1 30.0  4.0  1.0\n",
      "note: only 3 unique complexity parameters in default grid. Truncating the grid to 3 .\n",
      "\n"
     ]
    },
    {
     "name": "stderr",
     "output_type": "stream",
     "text": [
      "Warning message in nominalTrainWorkflow(x = x, y = y, wts = weights, info = trainInfo, :\n",
      "\"There were missing values in resampled performance measures.\"\n"
     ]
    },
    {
     "name": "stdout",
     "output_type": "stream",
     "text": [
      "[1]  0.1 30.0  4.0  3.0\n",
      "[1]  0.1 30.0  4.0  5.0\n"
     ]
    },
    {
     "name": "stderr",
     "output_type": "stream",
     "text": [
      "Warning message in nominalTrainWorkflow(x = x, y = y, wts = weights, info = trainInfo, :\n",
      "\"There were missing values in resampled performance measures.\"\n"
     ]
    },
    {
     "name": "stdout",
     "output_type": "stream",
     "text": [
      "[1]  0.1 30.0  4.0 10.0\n",
      "[1]  0.1 30.0  4.0 20.0\n",
      "[1]  0.1 30.0  4.0 30.0\n",
      "[1]  0.1 30.0  4.0 40.0\n",
      "[1]  0.1 30.0  4.0 50.0\n",
      "[1]  0.1 30.0  5.0  0.0\n",
      "note: only 2 unique complexity parameters in default grid. Truncating the grid to 2 .\n",
      "\n"
     ]
    },
    {
     "name": "stderr",
     "output_type": "stream",
     "text": [
      "Warning message in nominalTrainWorkflow(x = x, y = y, wts = weights, info = trainInfo, :\n",
      "\"There were missing values in resampled performance measures.\"\n"
     ]
    },
    {
     "name": "stdout",
     "output_type": "stream",
     "text": [
      "[1]  0.1 30.0  5.0  1.0\n",
      "note: only 3 unique complexity parameters in default grid. Truncating the grid to 3 .\n",
      "\n"
     ]
    },
    {
     "name": "stderr",
     "output_type": "stream",
     "text": [
      "Warning message in nominalTrainWorkflow(x = x, y = y, wts = weights, info = trainInfo, :\n",
      "\"There were missing values in resampled performance measures.\"\n"
     ]
    },
    {
     "name": "stdout",
     "output_type": "stream",
     "text": [
      "[1]  0.1 30.0  5.0  3.0\n"
     ]
    },
    {
     "name": "stderr",
     "output_type": "stream",
     "text": [
      "Warning message in nominalTrainWorkflow(x = x, y = y, wts = weights, info = trainInfo, :\n",
      "\"There were missing values in resampled performance measures.\"\n"
     ]
    },
    {
     "name": "stdout",
     "output_type": "stream",
     "text": [
      "[1]  0.1 30.0  5.0  5.0\n",
      "[1]  0.1 30.0  5.0 10.0\n"
     ]
    },
    {
     "name": "stderr",
     "output_type": "stream",
     "text": [
      "Warning message in nominalTrainWorkflow(x = x, y = y, wts = weights, info = trainInfo, :\n",
      "\"There were missing values in resampled performance measures.\"\n"
     ]
    },
    {
     "name": "stdout",
     "output_type": "stream",
     "text": [
      "[1]  0.1 30.0  5.0 20.0\n"
     ]
    },
    {
     "name": "stderr",
     "output_type": "stream",
     "text": [
      "Warning message in nominalTrainWorkflow(x = x, y = y, wts = weights, info = trainInfo, :\n",
      "\"There were missing values in resampled performance measures.\"\n"
     ]
    },
    {
     "name": "stdout",
     "output_type": "stream",
     "text": [
      "[1]  0.1 30.0  5.0 30.0\n",
      "[1]  0.1 30.0  5.0 40.0\n",
      "[1]  0.1 30.0  5.0 50.0\n"
     ]
    },
    {
     "name": "stderr",
     "output_type": "stream",
     "text": [
      "Warning message in nominalTrainWorkflow(x = x, y = y, wts = weights, info = trainInfo, :\n",
      "\"There were missing values in resampled performance measures.\"\n"
     ]
    },
    {
     "name": "stdout",
     "output_type": "stream",
     "text": [
      "[1]  0.1 30.0  6.0  0.0\n",
      "note: only 2 unique complexity parameters in default grid. Truncating the grid to 2 .\n",
      "\n",
      "[1]  0.1 30.0  6.0  1.0\n",
      "note: only 3 unique complexity parameters in default grid. Truncating the grid to 3 .\n",
      "\n"
     ]
    },
    {
     "name": "stderr",
     "output_type": "stream",
     "text": [
      "Warning message in nominalTrainWorkflow(x = x, y = y, wts = weights, info = trainInfo, :\n",
      "\"There were missing values in resampled performance measures.\"\n"
     ]
    },
    {
     "name": "stdout",
     "output_type": "stream",
     "text": [
      "[1]  0.1 30.0  6.0  3.0\n"
     ]
    },
    {
     "name": "stderr",
     "output_type": "stream",
     "text": [
      "Warning message in nominalTrainWorkflow(x = x, y = y, wts = weights, info = trainInfo, :\n",
      "\"There were missing values in resampled performance measures.\"\n"
     ]
    },
    {
     "name": "stdout",
     "output_type": "stream",
     "text": [
      "[1]  0.1 30.0  6.0  5.0\n",
      "[1]  0.1 30.0  6.0 10.0\n",
      "[1]  0.1 30.0  6.0 20.0\n",
      "[1]  0.1 30.0  6.0 30.0\n",
      "[1]  0.1 30.0  6.0 40.0\n",
      "[1]  0.1 30.0  6.0 50.0\n",
      "[1]  0.1 30.0  7.0  0.0\n",
      "note: only 2 unique complexity parameters in default grid. Truncating the grid to 2 .\n",
      "\n"
     ]
    },
    {
     "name": "stderr",
     "output_type": "stream",
     "text": [
      "Warning message in nominalTrainWorkflow(x = x, y = y, wts = weights, info = trainInfo, :\n",
      "\"There were missing values in resampled performance measures.\"\n"
     ]
    },
    {
     "name": "stdout",
     "output_type": "stream",
     "text": [
      "[1]  0.1 30.0  7.0  1.0\n",
      "note: only 3 unique complexity parameters in default grid. Truncating the grid to 3 .\n",
      "\n"
     ]
    },
    {
     "name": "stderr",
     "output_type": "stream",
     "text": [
      "Warning message in nominalTrainWorkflow(x = x, y = y, wts = weights, info = trainInfo, :\n",
      "\"There were missing values in resampled performance measures.\"\n"
     ]
    },
    {
     "name": "stdout",
     "output_type": "stream",
     "text": [
      "[1]  0.1 30.0  7.0  3.0\n"
     ]
    },
    {
     "name": "stderr",
     "output_type": "stream",
     "text": [
      "Warning message in nominalTrainWorkflow(x = x, y = y, wts = weights, info = trainInfo, :\n",
      "\"There were missing values in resampled performance measures.\"\n"
     ]
    },
    {
     "name": "stdout",
     "output_type": "stream",
     "text": [
      "[1]  0.1 30.0  7.0  5.0\n"
     ]
    },
    {
     "name": "stderr",
     "output_type": "stream",
     "text": [
      "Warning message in nominalTrainWorkflow(x = x, y = y, wts = weights, info = trainInfo, :\n",
      "\"There were missing values in resampled performance measures.\"\n"
     ]
    },
    {
     "name": "stdout",
     "output_type": "stream",
     "text": [
      "[1]  0.1 30.0  7.0 10.0\n"
     ]
    },
    {
     "name": "stderr",
     "output_type": "stream",
     "text": [
      "Warning message in nominalTrainWorkflow(x = x, y = y, wts = weights, info = trainInfo, :\n",
      "\"There were missing values in resampled performance measures.\"\n"
     ]
    },
    {
     "name": "stdout",
     "output_type": "stream",
     "text": [
      "[1]  0.1 30.0  7.0 20.0\n"
     ]
    },
    {
     "name": "stderr",
     "output_type": "stream",
     "text": [
      "Warning message in nominalTrainWorkflow(x = x, y = y, wts = weights, info = trainInfo, :\n",
      "\"There were missing values in resampled performance measures.\"\n"
     ]
    },
    {
     "name": "stdout",
     "output_type": "stream",
     "text": [
      "[1]  0.1 30.0  7.0 30.0\n",
      "[1]  0.1 30.0  7.0 40.0\n",
      "[1]  0.1 30.0  7.0 50.0\n",
      "[1]  0.1 30.0  8.0  0.0\n",
      "note: only 2 unique complexity parameters in default grid. Truncating the grid to 2 .\n",
      "\n"
     ]
    },
    {
     "name": "stderr",
     "output_type": "stream",
     "text": [
      "Warning message in nominalTrainWorkflow(x = x, y = y, wts = weights, info = trainInfo, :\n",
      "\"There were missing values in resampled performance measures.\"\n"
     ]
    },
    {
     "name": "stdout",
     "output_type": "stream",
     "text": [
      "[1]  0.1 30.0  8.0  1.0\n",
      "note: only 3 unique complexity parameters in default grid. Truncating the grid to 3 .\n",
      "\n"
     ]
    },
    {
     "name": "stderr",
     "output_type": "stream",
     "text": [
      "Warning message in nominalTrainWorkflow(x = x, y = y, wts = weights, info = trainInfo, :\n",
      "\"There were missing values in resampled performance measures.\"\n"
     ]
    },
    {
     "name": "stdout",
     "output_type": "stream",
     "text": [
      "[1]  0.1 30.0  8.0  3.0\n"
     ]
    },
    {
     "name": "stderr",
     "output_type": "stream",
     "text": [
      "Warning message in nominalTrainWorkflow(x = x, y = y, wts = weights, info = trainInfo, :\n",
      "\"There were missing values in resampled performance measures.\"\n"
     ]
    },
    {
     "name": "stdout",
     "output_type": "stream",
     "text": [
      "[1]  0.1 30.0  8.0  5.0\n",
      "[1]  0.1 30.0  8.0 10.0\n",
      "[1]  0.1 30.0  8.0 20.0\n",
      "[1]  0.1 30.0  8.0 30.0\n"
     ]
    },
    {
     "name": "stderr",
     "output_type": "stream",
     "text": [
      "Warning message in nominalTrainWorkflow(x = x, y = y, wts = weights, info = trainInfo, :\n",
      "\"There were missing values in resampled performance measures.\"\n"
     ]
    },
    {
     "name": "stdout",
     "output_type": "stream",
     "text": [
      "[1]  0.1 30.0  8.0 40.0\n",
      "[1]  0.1 30.0  8.0 50.0\n",
      "[1]  0.1 30.0  9.0  0.0\n",
      "note: only 2 unique complexity parameters in default grid. Truncating the grid to 2 .\n",
      "\n"
     ]
    },
    {
     "name": "stderr",
     "output_type": "stream",
     "text": [
      "Warning message in nominalTrainWorkflow(x = x, y = y, wts = weights, info = trainInfo, :\n",
      "\"There were missing values in resampled performance measures.\"\n"
     ]
    },
    {
     "name": "stdout",
     "output_type": "stream",
     "text": [
      "[1]  0.1 30.0  9.0  1.0\n",
      "note: only 3 unique complexity parameters in default grid. Truncating the grid to 3 .\n",
      "\n"
     ]
    },
    {
     "name": "stderr",
     "output_type": "stream",
     "text": [
      "Warning message in nominalTrainWorkflow(x = x, y = y, wts = weights, info = trainInfo, :\n",
      "\"There were missing values in resampled performance measures.\"\n"
     ]
    },
    {
     "name": "stdout",
     "output_type": "stream",
     "text": [
      "[1]  0.1 30.0  9.0  3.0\n"
     ]
    },
    {
     "name": "stderr",
     "output_type": "stream",
     "text": [
      "Warning message in nominalTrainWorkflow(x = x, y = y, wts = weights, info = trainInfo, :\n",
      "\"There were missing values in resampled performance measures.\"\n"
     ]
    },
    {
     "name": "stdout",
     "output_type": "stream",
     "text": [
      "[1]  0.1 30.0  9.0  5.0\n"
     ]
    },
    {
     "name": "stderr",
     "output_type": "stream",
     "text": [
      "Warning message in nominalTrainWorkflow(x = x, y = y, wts = weights, info = trainInfo, :\n",
      "\"There were missing values in resampled performance measures.\"\n"
     ]
    },
    {
     "name": "stdout",
     "output_type": "stream",
     "text": [
      "[1]  0.1 30.0  9.0 10.0\n"
     ]
    },
    {
     "name": "stderr",
     "output_type": "stream",
     "text": [
      "Warning message in nominalTrainWorkflow(x = x, y = y, wts = weights, info = trainInfo, :\n",
      "\"There were missing values in resampled performance measures.\"\n"
     ]
    },
    {
     "name": "stdout",
     "output_type": "stream",
     "text": [
      "[1]  0.1 30.0  9.0 20.0\n",
      "[1]  0.1 30.0  9.0 30.0\n",
      "[1]  0.1 30.0  9.0 40.0\n",
      "[1]  0.1 30.0  9.0 50.0\n",
      "[1]  0.1 30.0 10.0  0.0\n",
      "note: only 2 unique complexity parameters in default grid. Truncating the grid to 2 .\n",
      "\n"
     ]
    },
    {
     "name": "stderr",
     "output_type": "stream",
     "text": [
      "Warning message in nominalTrainWorkflow(x = x, y = y, wts = weights, info = trainInfo, :\n",
      "\"There were missing values in resampled performance measures.\"\n"
     ]
    },
    {
     "name": "stdout",
     "output_type": "stream",
     "text": [
      "[1]  0.1 30.0 10.0  1.0\n",
      "note: only 3 unique complexity parameters in default grid. Truncating the grid to 3 .\n",
      "\n"
     ]
    },
    {
     "name": "stderr",
     "output_type": "stream",
     "text": [
      "Warning message in nominalTrainWorkflow(x = x, y = y, wts = weights, info = trainInfo, :\n",
      "\"There were missing values in resampled performance measures.\"\n"
     ]
    },
    {
     "name": "stdout",
     "output_type": "stream",
     "text": [
      "[1]  0.1 30.0 10.0  3.0\n"
     ]
    },
    {
     "name": "stderr",
     "output_type": "stream",
     "text": [
      "Warning message in nominalTrainWorkflow(x = x, y = y, wts = weights, info = trainInfo, :\n",
      "\"There were missing values in resampled performance measures.\"\n"
     ]
    },
    {
     "name": "stdout",
     "output_type": "stream",
     "text": [
      "[1]  0.1 30.0 10.0  5.0\n"
     ]
    },
    {
     "name": "stderr",
     "output_type": "stream",
     "text": [
      "Warning message in nominalTrainWorkflow(x = x, y = y, wts = weights, info = trainInfo, :\n",
      "\"There were missing values in resampled performance measures.\"\n"
     ]
    },
    {
     "name": "stdout",
     "output_type": "stream",
     "text": [
      "[1]  0.1 30.0 10.0 10.0\n"
     ]
    },
    {
     "name": "stderr",
     "output_type": "stream",
     "text": [
      "Warning message in nominalTrainWorkflow(x = x, y = y, wts = weights, info = trainInfo, :\n",
      "\"There were missing values in resampled performance measures.\"\n"
     ]
    },
    {
     "name": "stdout",
     "output_type": "stream",
     "text": [
      "[1]  0.1 30.0 10.0 20.0\n",
      "[1]  0.1 30.0 10.0 30.0\n",
      "[1]  0.1 30.0 10.0 40.0\n",
      "[1]  0.1 30.0 10.0 50.0\n",
      "[1]  0.1 30.0 11.0  0.0\n",
      "note: only 2 unique complexity parameters in default grid. Truncating the grid to 2 .\n",
      "\n"
     ]
    },
    {
     "name": "stderr",
     "output_type": "stream",
     "text": [
      "Warning message in nominalTrainWorkflow(x = x, y = y, wts = weights, info = trainInfo, :\n",
      "\"There were missing values in resampled performance measures.\"\n"
     ]
    },
    {
     "name": "stdout",
     "output_type": "stream",
     "text": [
      "[1]  0.1 30.0 11.0  1.0\n",
      "note: only 3 unique complexity parameters in default grid. Truncating the grid to 3 .\n",
      "\n"
     ]
    },
    {
     "name": "stderr",
     "output_type": "stream",
     "text": [
      "Warning message in nominalTrainWorkflow(x = x, y = y, wts = weights, info = trainInfo, :\n",
      "\"There were missing values in resampled performance measures.\"\n"
     ]
    },
    {
     "name": "stdout",
     "output_type": "stream",
     "text": [
      "[1]  0.1 30.0 11.0  3.0\n"
     ]
    },
    {
     "name": "stderr",
     "output_type": "stream",
     "text": [
      "Warning message in nominalTrainWorkflow(x = x, y = y, wts = weights, info = trainInfo, :\n",
      "\"There were missing values in resampled performance measures.\"\n"
     ]
    },
    {
     "name": "stdout",
     "output_type": "stream",
     "text": [
      "[1]  0.1 30.0 11.0  5.0\n"
     ]
    },
    {
     "name": "stderr",
     "output_type": "stream",
     "text": [
      "Warning message in nominalTrainWorkflow(x = x, y = y, wts = weights, info = trainInfo, :\n",
      "\"There were missing values in resampled performance measures.\"\n"
     ]
    },
    {
     "name": "stdout",
     "output_type": "stream",
     "text": [
      "[1]  0.1 30.0 11.0 10.0\n"
     ]
    },
    {
     "name": "stderr",
     "output_type": "stream",
     "text": [
      "Warning message in nominalTrainWorkflow(x = x, y = y, wts = weights, info = trainInfo, :\n",
      "\"There were missing values in resampled performance measures.\"\n"
     ]
    },
    {
     "name": "stdout",
     "output_type": "stream",
     "text": [
      "[1]  0.1 30.0 11.0 20.0\n",
      "[1]  0.1 30.0 11.0 30.0\n",
      "[1]  0.1 30.0 11.0 40.0\n",
      "[1]  0.1 30.0 11.0 50.0\n",
      "[1]  0.1 30.0 12.0  0.0\n",
      "note: only 2 unique complexity parameters in default grid. Truncating the grid to 2 .\n",
      "\n"
     ]
    },
    {
     "name": "stderr",
     "output_type": "stream",
     "text": [
      "Warning message in nominalTrainWorkflow(x = x, y = y, wts = weights, info = trainInfo, :\n",
      "\"There were missing values in resampled performance measures.\"\n"
     ]
    },
    {
     "name": "stdout",
     "output_type": "stream",
     "text": [
      "[1]  0.1 30.0 12.0  1.0\n",
      "note: only 3 unique complexity parameters in default grid. Truncating the grid to 3 .\n",
      "\n"
     ]
    },
    {
     "name": "stderr",
     "output_type": "stream",
     "text": [
      "Warning message in nominalTrainWorkflow(x = x, y = y, wts = weights, info = trainInfo, :\n",
      "\"There were missing values in resampled performance measures.\"\n"
     ]
    },
    {
     "name": "stdout",
     "output_type": "stream",
     "text": [
      "[1]  0.1 30.0 12.0  3.0\n"
     ]
    },
    {
     "name": "stderr",
     "output_type": "stream",
     "text": [
      "Warning message in nominalTrainWorkflow(x = x, y = y, wts = weights, info = trainInfo, :\n",
      "\"There were missing values in resampled performance measures.\"\n"
     ]
    },
    {
     "name": "stdout",
     "output_type": "stream",
     "text": [
      "[1]  0.1 30.0 12.0  5.0\n"
     ]
    },
    {
     "name": "stderr",
     "output_type": "stream",
     "text": [
      "Warning message in nominalTrainWorkflow(x = x, y = y, wts = weights, info = trainInfo, :\n",
      "\"There were missing values in resampled performance measures.\"\n"
     ]
    },
    {
     "name": "stdout",
     "output_type": "stream",
     "text": [
      "[1]  0.1 30.0 12.0 10.0\n"
     ]
    },
    {
     "name": "stderr",
     "output_type": "stream",
     "text": [
      "Warning message in nominalTrainWorkflow(x = x, y = y, wts = weights, info = trainInfo, :\n",
      "\"There were missing values in resampled performance measures.\"\n"
     ]
    },
    {
     "name": "stdout",
     "output_type": "stream",
     "text": [
      "[1]  0.1 30.0 12.0 20.0\n"
     ]
    },
    {
     "name": "stderr",
     "output_type": "stream",
     "text": [
      "Warning message in nominalTrainWorkflow(x = x, y = y, wts = weights, info = trainInfo, :\n",
      "\"There were missing values in resampled performance measures.\"\n"
     ]
    },
    {
     "name": "stdout",
     "output_type": "stream",
     "text": [
      "[1]  0.1 30.0 12.0 30.0\n",
      "[1]  0.1 30.0 12.0 40.0\n",
      "[1]  0.1 30.0 12.0 50.0\n",
      "[1]  0.1 30.0 13.0  0.0\n",
      "note: only 2 unique complexity parameters in default grid. Truncating the grid to 2 .\n",
      "\n"
     ]
    },
    {
     "name": "stderr",
     "output_type": "stream",
     "text": [
      "Warning message in nominalTrainWorkflow(x = x, y = y, wts = weights, info = trainInfo, :\n",
      "\"There were missing values in resampled performance measures.\"\n"
     ]
    },
    {
     "name": "stdout",
     "output_type": "stream",
     "text": [
      "[1]  0.1 30.0 13.0  1.0\n",
      "note: only 3 unique complexity parameters in default grid. Truncating the grid to 3 .\n",
      "\n"
     ]
    },
    {
     "name": "stderr",
     "output_type": "stream",
     "text": [
      "Warning message in nominalTrainWorkflow(x = x, y = y, wts = weights, info = trainInfo, :\n",
      "\"There were missing values in resampled performance measures.\"\n"
     ]
    },
    {
     "name": "stdout",
     "output_type": "stream",
     "text": [
      "[1]  0.1 30.0 13.0  3.0\n"
     ]
    },
    {
     "name": "stderr",
     "output_type": "stream",
     "text": [
      "Warning message in nominalTrainWorkflow(x = x, y = y, wts = weights, info = trainInfo, :\n",
      "\"There were missing values in resampled performance measures.\"\n"
     ]
    },
    {
     "name": "stdout",
     "output_type": "stream",
     "text": [
      "[1]  0.1 30.0 13.0  5.0\n"
     ]
    },
    {
     "name": "stderr",
     "output_type": "stream",
     "text": [
      "Warning message in nominalTrainWorkflow(x = x, y = y, wts = weights, info = trainInfo, :\n",
      "\"There were missing values in resampled performance measures.\"\n"
     ]
    },
    {
     "name": "stdout",
     "output_type": "stream",
     "text": [
      "[1]  0.1 30.0 13.0 10.0\n"
     ]
    },
    {
     "name": "stderr",
     "output_type": "stream",
     "text": [
      "Warning message in nominalTrainWorkflow(x = x, y = y, wts = weights, info = trainInfo, :\n",
      "\"There were missing values in resampled performance measures.\"\n"
     ]
    },
    {
     "name": "stdout",
     "output_type": "stream",
     "text": [
      "[1]  0.1 30.0 13.0 20.0\n",
      "[1]  0.1 30.0 13.0 30.0\n",
      "[1]  0.1 30.0 13.0 40.0\n",
      "[1]  0.1 30.0 13.0 50.0\n",
      "[1]  0.1 30.0 14.0  0.0\n",
      "note: only 2 unique complexity parameters in default grid. Truncating the grid to 2 .\n",
      "\n"
     ]
    },
    {
     "name": "stderr",
     "output_type": "stream",
     "text": [
      "Warning message in nominalTrainWorkflow(x = x, y = y, wts = weights, info = trainInfo, :\n",
      "\"There were missing values in resampled performance measures.\"\n"
     ]
    },
    {
     "name": "stdout",
     "output_type": "stream",
     "text": [
      "[1]  0.1 30.0 14.0  1.0\n",
      "note: only 3 unique complexity parameters in default grid. Truncating the grid to 3 .\n",
      "\n",
      "[1]  0.1 30.0 14.0  3.0\n",
      "[1]  0.1 30.0 14.0  5.0\n",
      "[1]  0.1 30.0 14.0 10.0\n",
      "[1]  0.1 30.0 14.0 20.0\n",
      "[1]  0.1 30.0 14.0 30.0\n",
      "[1]  0.1 30.0 14.0 40.0\n",
      "[1]  0.1 30.0 14.0 50.0\n",
      "[1]  0.1 30.0 15.0  0.0\n",
      "note: only 2 unique complexity parameters in default grid. Truncating the grid to 2 .\n",
      "\n"
     ]
    },
    {
     "name": "stderr",
     "output_type": "stream",
     "text": [
      "Warning message in nominalTrainWorkflow(x = x, y = y, wts = weights, info = trainInfo, :\n",
      "\"There were missing values in resampled performance measures.\"\n"
     ]
    },
    {
     "name": "stdout",
     "output_type": "stream",
     "text": [
      "[1]  0.1 30.0 15.0  1.0\n",
      "note: only 3 unique complexity parameters in default grid. Truncating the grid to 3 .\n",
      "\n"
     ]
    },
    {
     "name": "stderr",
     "output_type": "stream",
     "text": [
      "Warning message in nominalTrainWorkflow(x = x, y = y, wts = weights, info = trainInfo, :\n",
      "\"There were missing values in resampled performance measures.\"\n"
     ]
    },
    {
     "name": "stdout",
     "output_type": "stream",
     "text": [
      "[1]  0.1 30.0 15.0  3.0\n"
     ]
    },
    {
     "name": "stderr",
     "output_type": "stream",
     "text": [
      "Warning message in nominalTrainWorkflow(x = x, y = y, wts = weights, info = trainInfo, :\n",
      "\"There were missing values in resampled performance measures.\"\n"
     ]
    },
    {
     "name": "stdout",
     "output_type": "stream",
     "text": [
      "[1]  0.1 30.0 15.0  5.0\n",
      "[1]  0.1 30.0 15.0 10.0\n"
     ]
    },
    {
     "name": "stderr",
     "output_type": "stream",
     "text": [
      "Warning message in nominalTrainWorkflow(x = x, y = y, wts = weights, info = trainInfo, :\n",
      "\"There were missing values in resampled performance measures.\"\n"
     ]
    },
    {
     "name": "stdout",
     "output_type": "stream",
     "text": [
      "[1]  0.1 30.0 15.0 20.0\n",
      "[1]  0.1 30.0 15.0 30.0\n"
     ]
    },
    {
     "name": "stderr",
     "output_type": "stream",
     "text": [
      "Warning message in nominalTrainWorkflow(x = x, y = y, wts = weights, info = trainInfo, :\n",
      "\"There were missing values in resampled performance measures.\"\n"
     ]
    },
    {
     "name": "stdout",
     "output_type": "stream",
     "text": [
      "[1]  0.1 30.0 15.0 40.0\n",
      "[1]  0.1 30.0 15.0 50.0\n",
      "[1]  0.1 30.0 16.0  0.0\n",
      "note: only 2 unique complexity parameters in default grid. Truncating the grid to 2 .\n",
      "\n"
     ]
    },
    {
     "name": "stderr",
     "output_type": "stream",
     "text": [
      "Warning message in nominalTrainWorkflow(x = x, y = y, wts = weights, info = trainInfo, :\n",
      "\"There were missing values in resampled performance measures.\"\n"
     ]
    },
    {
     "name": "stdout",
     "output_type": "stream",
     "text": [
      "[1]  0.1 30.0 16.0  1.0\n",
      "note: only 3 unique complexity parameters in default grid. Truncating the grid to 3 .\n",
      "\n",
      "[1]  0.1 30.0 16.0  3.0\n",
      "[1]  0.1 30.0 16.0  5.0\n",
      "[1]  0.1 30.0 16.0 10.0\n",
      "[1]  0.1 30.0 16.0 20.0\n",
      "[1]  0.1 30.0 16.0 30.0\n",
      "[1]  0.1 30.0 16.0 40.0\n",
      "[1]  0.1 30.0 16.0 50.0\n",
      "[1]  0.1 30.0 17.0  0.0\n",
      "note: only 2 unique complexity parameters in default grid. Truncating the grid to 2 .\n",
      "\n"
     ]
    },
    {
     "name": "stderr",
     "output_type": "stream",
     "text": [
      "Warning message in nominalTrainWorkflow(x = x, y = y, wts = weights, info = trainInfo, :\n",
      "\"There were missing values in resampled performance measures.\"\n"
     ]
    },
    {
     "name": "stdout",
     "output_type": "stream",
     "text": [
      "[1]  0.1 30.0 17.0  1.0\n",
      "note: only 3 unique complexity parameters in default grid. Truncating the grid to 3 .\n",
      "\n"
     ]
    },
    {
     "name": "stderr",
     "output_type": "stream",
     "text": [
      "Warning message in nominalTrainWorkflow(x = x, y = y, wts = weights, info = trainInfo, :\n",
      "\"There were missing values in resampled performance measures.\"\n"
     ]
    },
    {
     "name": "stdout",
     "output_type": "stream",
     "text": [
      "[1]  0.1 30.0 17.0  3.0\n"
     ]
    },
    {
     "name": "stderr",
     "output_type": "stream",
     "text": [
      "Warning message in nominalTrainWorkflow(x = x, y = y, wts = weights, info = trainInfo, :\n",
      "\"There were missing values in resampled performance measures.\"\n"
     ]
    },
    {
     "name": "stdout",
     "output_type": "stream",
     "text": [
      "[1]  0.1 30.0 17.0  5.0\n"
     ]
    },
    {
     "name": "stderr",
     "output_type": "stream",
     "text": [
      "Warning message in nominalTrainWorkflow(x = x, y = y, wts = weights, info = trainInfo, :\n",
      "\"There were missing values in resampled performance measures.\"\n"
     ]
    },
    {
     "name": "stdout",
     "output_type": "stream",
     "text": [
      "[1]  0.1 30.0 17.0 10.0\n",
      "[1]  0.1 30.0 17.0 20.0\n"
     ]
    },
    {
     "name": "stderr",
     "output_type": "stream",
     "text": [
      "Warning message in nominalTrainWorkflow(x = x, y = y, wts = weights, info = trainInfo, :\n",
      "\"There were missing values in resampled performance measures.\"\n"
     ]
    },
    {
     "name": "stdout",
     "output_type": "stream",
     "text": [
      "[1]  0.1 30.0 17.0 30.0\n",
      "[1]  0.1 30.0 17.0 40.0\n"
     ]
    },
    {
     "name": "stderr",
     "output_type": "stream",
     "text": [
      "Warning message in nominalTrainWorkflow(x = x, y = y, wts = weights, info = trainInfo, :\n",
      "\"There were missing values in resampled performance measures.\"\n"
     ]
    },
    {
     "name": "stdout",
     "output_type": "stream",
     "text": [
      "[1]  0.1 30.0 17.0 50.0\n",
      "[1]  0.1 30.0 18.0  0.0\n",
      "note: only 2 unique complexity parameters in default grid. Truncating the grid to 2 .\n",
      "\n"
     ]
    },
    {
     "name": "stderr",
     "output_type": "stream",
     "text": [
      "Warning message in nominalTrainWorkflow(x = x, y = y, wts = weights, info = trainInfo, :\n",
      "\"There were missing values in resampled performance measures.\"\n"
     ]
    },
    {
     "name": "stdout",
     "output_type": "stream",
     "text": [
      "[1]  0.1 30.0 18.0  1.0\n",
      "note: only 3 unique complexity parameters in default grid. Truncating the grid to 3 .\n",
      "\n"
     ]
    },
    {
     "name": "stderr",
     "output_type": "stream",
     "text": [
      "Warning message in nominalTrainWorkflow(x = x, y = y, wts = weights, info = trainInfo, :\n",
      "\"There were missing values in resampled performance measures.\"\n"
     ]
    },
    {
     "name": "stdout",
     "output_type": "stream",
     "text": [
      "[1]  0.1 30.0 18.0  3.0\n",
      "[1]  0.1 30.0 18.0  5.0\n",
      "[1]  0.1 30.0 18.0 10.0\n",
      "[1]  0.1 30.0 18.0 20.0\n"
     ]
    },
    {
     "name": "stderr",
     "output_type": "stream",
     "text": [
      "Warning message in nominalTrainWorkflow(x = x, y = y, wts = weights, info = trainInfo, :\n",
      "\"There were missing values in resampled performance measures.\"\n"
     ]
    },
    {
     "name": "stdout",
     "output_type": "stream",
     "text": [
      "[1]  0.1 30.0 18.0 30.0\n",
      "[1]  0.1 30.0 18.0 40.0\n",
      "[1]  0.1 30.0 18.0 50.0\n",
      "[1]  0.1 30.0 19.0  0.0\n",
      "note: only 2 unique complexity parameters in default grid. Truncating the grid to 2 .\n",
      "\n"
     ]
    },
    {
     "name": "stderr",
     "output_type": "stream",
     "text": [
      "Warning message in nominalTrainWorkflow(x = x, y = y, wts = weights, info = trainInfo, :\n",
      "\"There were missing values in resampled performance measures.\"\n"
     ]
    },
    {
     "name": "stdout",
     "output_type": "stream",
     "text": [
      "[1]  0.1 30.0 19.0  1.0\n",
      "note: only 3 unique complexity parameters in default grid. Truncating the grid to 3 .\n",
      "\n"
     ]
    },
    {
     "name": "stderr",
     "output_type": "stream",
     "text": [
      "Warning message in nominalTrainWorkflow(x = x, y = y, wts = weights, info = trainInfo, :\n",
      "\"There were missing values in resampled performance measures.\"\n"
     ]
    },
    {
     "name": "stdout",
     "output_type": "stream",
     "text": [
      "[1]  0.1 30.0 19.0  3.0\n"
     ]
    },
    {
     "name": "stderr",
     "output_type": "stream",
     "text": [
      "Warning message in nominalTrainWorkflow(x = x, y = y, wts = weights, info = trainInfo, :\n",
      "\"There were missing values in resampled performance measures.\"\n"
     ]
    },
    {
     "name": "stdout",
     "output_type": "stream",
     "text": [
      "[1]  0.1 30.0 19.0  5.0\n",
      "[1]  0.1 30.0 19.0 10.0\n",
      "[1]  0.1 30.0 19.0 20.0\n",
      "[1]  0.1 30.0 19.0 30.0\n",
      "[1]  0.1 30.0 19.0 40.0\n",
      "[1]  0.1 30.0 19.0 50.0\n",
      "[1]  0.1 30.0 20.0  0.0\n",
      "note: only 2 unique complexity parameters in default grid. Truncating the grid to 2 .\n",
      "\n"
     ]
    },
    {
     "name": "stderr",
     "output_type": "stream",
     "text": [
      "Warning message in nominalTrainWorkflow(x = x, y = y, wts = weights, info = trainInfo, :\n",
      "\"There were missing values in resampled performance measures.\"\n"
     ]
    },
    {
     "name": "stdout",
     "output_type": "stream",
     "text": [
      "[1]  0.1 30.0 20.0  1.0\n",
      "note: only 3 unique complexity parameters in default grid. Truncating the grid to 3 .\n",
      "\n"
     ]
    },
    {
     "name": "stderr",
     "output_type": "stream",
     "text": [
      "Warning message in nominalTrainWorkflow(x = x, y = y, wts = weights, info = trainInfo, :\n",
      "\"There were missing values in resampled performance measures.\"\n"
     ]
    },
    {
     "name": "stdout",
     "output_type": "stream",
     "text": [
      "[1]  0.1 30.0 20.0  3.0\n"
     ]
    },
    {
     "name": "stderr",
     "output_type": "stream",
     "text": [
      "Warning message in nominalTrainWorkflow(x = x, y = y, wts = weights, info = trainInfo, :\n",
      "\"There were missing values in resampled performance measures.\"\n"
     ]
    },
    {
     "name": "stdout",
     "output_type": "stream",
     "text": [
      "[1]  0.1 30.0 20.0  5.0\n"
     ]
    },
    {
     "name": "stderr",
     "output_type": "stream",
     "text": [
      "Warning message in nominalTrainWorkflow(x = x, y = y, wts = weights, info = trainInfo, :\n",
      "\"There were missing values in resampled performance measures.\"\n"
     ]
    },
    {
     "name": "stdout",
     "output_type": "stream",
     "text": [
      "[1]  0.1 30.0 20.0 10.0\n"
     ]
    },
    {
     "name": "stderr",
     "output_type": "stream",
     "text": [
      "Warning message in nominalTrainWorkflow(x = x, y = y, wts = weights, info = trainInfo, :\n",
      "\"There were missing values in resampled performance measures.\"\n"
     ]
    },
    {
     "name": "stdout",
     "output_type": "stream",
     "text": [
      "[1]  0.1 30.0 20.0 20.0\n"
     ]
    },
    {
     "name": "stderr",
     "output_type": "stream",
     "text": [
      "Warning message in nominalTrainWorkflow(x = x, y = y, wts = weights, info = trainInfo, :\n",
      "\"There were missing values in resampled performance measures.\"\n"
     ]
    },
    {
     "name": "stdout",
     "output_type": "stream",
     "text": [
      "[1]  0.1 30.0 20.0 30.0\n",
      "[1]  0.1 30.0 20.0 40.0\n"
     ]
    },
    {
     "name": "stderr",
     "output_type": "stream",
     "text": [
      "Warning message in nominalTrainWorkflow(x = x, y = y, wts = weights, info = trainInfo, :\n",
      "\"There were missing values in resampled performance measures.\"\n"
     ]
    },
    {
     "name": "stdout",
     "output_type": "stream",
     "text": [
      "[1]  0.1 30.0 20.0 50.0\n",
      "[1]  0.1 30.0 21.0  0.0\n",
      "note: only 2 unique complexity parameters in default grid. Truncating the grid to 2 .\n",
      "\n"
     ]
    },
    {
     "name": "stderr",
     "output_type": "stream",
     "text": [
      "Warning message in nominalTrainWorkflow(x = x, y = y, wts = weights, info = trainInfo, :\n",
      "\"There were missing values in resampled performance measures.\"\n"
     ]
    },
    {
     "name": "stdout",
     "output_type": "stream",
     "text": [
      "[1]  0.1 30.0 21.0  1.0\n",
      "note: only 3 unique complexity parameters in default grid. Truncating the grid to 3 .\n",
      "\n"
     ]
    },
    {
     "name": "stderr",
     "output_type": "stream",
     "text": [
      "Warning message in nominalTrainWorkflow(x = x, y = y, wts = weights, info = trainInfo, :\n",
      "\"There were missing values in resampled performance measures.\"\n"
     ]
    },
    {
     "name": "stdout",
     "output_type": "stream",
     "text": [
      "[1]  0.1 30.0 21.0  3.0\n"
     ]
    },
    {
     "name": "stderr",
     "output_type": "stream",
     "text": [
      "Warning message in nominalTrainWorkflow(x = x, y = y, wts = weights, info = trainInfo, :\n",
      "\"There were missing values in resampled performance measures.\"\n"
     ]
    },
    {
     "name": "stdout",
     "output_type": "stream",
     "text": [
      "[1]  0.1 30.0 21.0  5.0\n"
     ]
    },
    {
     "name": "stderr",
     "output_type": "stream",
     "text": [
      "Warning message in nominalTrainWorkflow(x = x, y = y, wts = weights, info = trainInfo, :\n",
      "\"There were missing values in resampled performance measures.\"\n"
     ]
    },
    {
     "name": "stdout",
     "output_type": "stream",
     "text": [
      "[1]  0.1 30.0 21.0 10.0\n"
     ]
    },
    {
     "name": "stderr",
     "output_type": "stream",
     "text": [
      "Warning message in nominalTrainWorkflow(x = x, y = y, wts = weights, info = trainInfo, :\n",
      "\"There were missing values in resampled performance measures.\"\n"
     ]
    },
    {
     "name": "stdout",
     "output_type": "stream",
     "text": [
      "[1]  0.1 30.0 21.0 20.0\n",
      "[1]  0.1 30.0 21.0 30.0\n"
     ]
    },
    {
     "name": "stderr",
     "output_type": "stream",
     "text": [
      "Warning message in nominalTrainWorkflow(x = x, y = y, wts = weights, info = trainInfo, :\n",
      "\"There were missing values in resampled performance measures.\"\n"
     ]
    },
    {
     "name": "stdout",
     "output_type": "stream",
     "text": [
      "[1]  0.1 30.0 21.0 40.0\n"
     ]
    },
    {
     "name": "stderr",
     "output_type": "stream",
     "text": [
      "Warning message in nominalTrainWorkflow(x = x, y = y, wts = weights, info = trainInfo, :\n",
      "\"There were missing values in resampled performance measures.\"\n"
     ]
    },
    {
     "name": "stdout",
     "output_type": "stream",
     "text": [
      "[1]  0.1 30.0 21.0 50.0\n",
      "[1]  0.1 30.0 22.0  0.0\n",
      "note: only 2 unique complexity parameters in default grid. Truncating the grid to 2 .\n",
      "\n"
     ]
    },
    {
     "name": "stderr",
     "output_type": "stream",
     "text": [
      "Warning message in nominalTrainWorkflow(x = x, y = y, wts = weights, info = trainInfo, :\n",
      "\"There were missing values in resampled performance measures.\"\n"
     ]
    },
    {
     "name": "stdout",
     "output_type": "stream",
     "text": [
      "[1]  0.1 30.0 22.0  1.0\n",
      "note: only 3 unique complexity parameters in default grid. Truncating the grid to 3 .\n",
      "\n"
     ]
    },
    {
     "name": "stderr",
     "output_type": "stream",
     "text": [
      "Warning message in nominalTrainWorkflow(x = x, y = y, wts = weights, info = trainInfo, :\n",
      "\"There were missing values in resampled performance measures.\"\n"
     ]
    },
    {
     "name": "stdout",
     "output_type": "stream",
     "text": [
      "[1]  0.1 30.0 22.0  3.0\n"
     ]
    },
    {
     "name": "stderr",
     "output_type": "stream",
     "text": [
      "Warning message in nominalTrainWorkflow(x = x, y = y, wts = weights, info = trainInfo, :\n",
      "\"There were missing values in resampled performance measures.\"\n"
     ]
    },
    {
     "name": "stdout",
     "output_type": "stream",
     "text": [
      "[1]  0.1 30.0 22.0  5.0\n"
     ]
    },
    {
     "name": "stderr",
     "output_type": "stream",
     "text": [
      "Warning message in nominalTrainWorkflow(x = x, y = y, wts = weights, info = trainInfo, :\n",
      "\"There were missing values in resampled performance measures.\"\n"
     ]
    },
    {
     "name": "stdout",
     "output_type": "stream",
     "text": [
      "[1]  0.1 30.0 22.0 10.0\n"
     ]
    },
    {
     "name": "stderr",
     "output_type": "stream",
     "text": [
      "Warning message in nominalTrainWorkflow(x = x, y = y, wts = weights, info = trainInfo, :\n",
      "\"There were missing values in resampled performance measures.\"\n"
     ]
    },
    {
     "name": "stdout",
     "output_type": "stream",
     "text": [
      "[1]  0.1 30.0 22.0 20.0\n",
      "[1]  0.1 30.0 22.0 30.0\n",
      "[1]  0.1 30.0 22.0 40.0\n",
      "[1]  0.1 30.0 22.0 50.0\n",
      "[1]  0.1 30.0 23.0  0.0\n",
      "note: only 2 unique complexity parameters in default grid. Truncating the grid to 2 .\n",
      "\n"
     ]
    },
    {
     "name": "stderr",
     "output_type": "stream",
     "text": [
      "Warning message in nominalTrainWorkflow(x = x, y = y, wts = weights, info = trainInfo, :\n",
      "\"There were missing values in resampled performance measures.\"\n"
     ]
    },
    {
     "name": "stdout",
     "output_type": "stream",
     "text": [
      "[1]  0.1 30.0 23.0  1.0\n",
      "note: only 3 unique complexity parameters in default grid. Truncating the grid to 3 .\n",
      "\n"
     ]
    },
    {
     "name": "stderr",
     "output_type": "stream",
     "text": [
      "Warning message in nominalTrainWorkflow(x = x, y = y, wts = weights, info = trainInfo, :\n",
      "\"There were missing values in resampled performance measures.\"\n"
     ]
    },
    {
     "name": "stdout",
     "output_type": "stream",
     "text": [
      "[1]  0.1 30.0 23.0  3.0\n",
      "[1]  0.1 30.0 23.0  5.0\n"
     ]
    },
    {
     "name": "stderr",
     "output_type": "stream",
     "text": [
      "Warning message in nominalTrainWorkflow(x = x, y = y, wts = weights, info = trainInfo, :\n",
      "\"There were missing values in resampled performance measures.\"\n"
     ]
    },
    {
     "name": "stdout",
     "output_type": "stream",
     "text": [
      "[1]  0.1 30.0 23.0 10.0\n",
      "[1]  0.1 30.0 23.0 20.0\n"
     ]
    },
    {
     "name": "stderr",
     "output_type": "stream",
     "text": [
      "Warning message in nominalTrainWorkflow(x = x, y = y, wts = weights, info = trainInfo, :\n",
      "\"There were missing values in resampled performance measures.\"\n"
     ]
    },
    {
     "name": "stdout",
     "output_type": "stream",
     "text": [
      "[1]  0.1 30.0 23.0 30.0\n",
      "[1]  0.1 30.0 23.0 40.0\n",
      "[1]  0.1 30.0 23.0 50.0\n",
      "[1]  0.1 30.0 24.0  0.0\n",
      "note: only 2 unique complexity parameters in default grid. Truncating the grid to 2 .\n",
      "\n"
     ]
    },
    {
     "name": "stderr",
     "output_type": "stream",
     "text": [
      "Warning message in nominalTrainWorkflow(x = x, y = y, wts = weights, info = trainInfo, :\n",
      "\"There were missing values in resampled performance measures.\"\n"
     ]
    },
    {
     "name": "stdout",
     "output_type": "stream",
     "text": [
      "[1]  0.1 30.0 24.0  1.0\n",
      "note: only 3 unique complexity parameters in default grid. Truncating the grid to 3 .\n",
      "\n"
     ]
    },
    {
     "name": "stderr",
     "output_type": "stream",
     "text": [
      "Warning message in nominalTrainWorkflow(x = x, y = y, wts = weights, info = trainInfo, :\n",
      "\"There were missing values in resampled performance measures.\"\n"
     ]
    },
    {
     "name": "stdout",
     "output_type": "stream",
     "text": [
      "[1]  0.1 30.0 24.0  3.0\n"
     ]
    },
    {
     "name": "stderr",
     "output_type": "stream",
     "text": [
      "Warning message in nominalTrainWorkflow(x = x, y = y, wts = weights, info = trainInfo, :\n",
      "\"There were missing values in resampled performance measures.\"\n"
     ]
    },
    {
     "name": "stdout",
     "output_type": "stream",
     "text": [
      "[1]  0.1 30.0 24.0  5.0\n"
     ]
    },
    {
     "name": "stderr",
     "output_type": "stream",
     "text": [
      "Warning message in nominalTrainWorkflow(x = x, y = y, wts = weights, info = trainInfo, :\n",
      "\"There were missing values in resampled performance measures.\"\n"
     ]
    },
    {
     "name": "stdout",
     "output_type": "stream",
     "text": [
      "[1]  0.1 30.0 24.0 10.0\n"
     ]
    },
    {
     "name": "stderr",
     "output_type": "stream",
     "text": [
      "Warning message in nominalTrainWorkflow(x = x, y = y, wts = weights, info = trainInfo, :\n",
      "\"There were missing values in resampled performance measures.\"\n"
     ]
    },
    {
     "name": "stdout",
     "output_type": "stream",
     "text": [
      "[1]  0.1 30.0 24.0 20.0\n"
     ]
    },
    {
     "name": "stderr",
     "output_type": "stream",
     "text": [
      "Warning message in nominalTrainWorkflow(x = x, y = y, wts = weights, info = trainInfo, :\n",
      "\"There were missing values in resampled performance measures.\"\n"
     ]
    },
    {
     "name": "stdout",
     "output_type": "stream",
     "text": [
      "[1]  0.1 30.0 24.0 30.0\n",
      "[1]  0.1 30.0 24.0 40.0\n",
      "[1]  0.1 30.0 24.0 50.0\n",
      "[1]  0.1 30.0 25.0  0.0\n",
      "note: only 2 unique complexity parameters in default grid. Truncating the grid to 2 .\n",
      "\n"
     ]
    },
    {
     "name": "stderr",
     "output_type": "stream",
     "text": [
      "Warning message in nominalTrainWorkflow(x = x, y = y, wts = weights, info = trainInfo, :\n",
      "\"There were missing values in resampled performance measures.\"\n"
     ]
    },
    {
     "name": "stdout",
     "output_type": "stream",
     "text": [
      "[1]  0.1 30.0 25.0  1.0\n",
      "note: only 3 unique complexity parameters in default grid. Truncating the grid to 3 .\n",
      "\n"
     ]
    },
    {
     "name": "stderr",
     "output_type": "stream",
     "text": [
      "Warning message in nominalTrainWorkflow(x = x, y = y, wts = weights, info = trainInfo, :\n",
      "\"There were missing values in resampled performance measures.\"\n"
     ]
    },
    {
     "name": "stdout",
     "output_type": "stream",
     "text": [
      "[1]  0.1 30.0 25.0  3.0\n"
     ]
    },
    {
     "name": "stderr",
     "output_type": "stream",
     "text": [
      "Warning message in nominalTrainWorkflow(x = x, y = y, wts = weights, info = trainInfo, :\n",
      "\"There were missing values in resampled performance measures.\"\n"
     ]
    },
    {
     "name": "stdout",
     "output_type": "stream",
     "text": [
      "[1]  0.1 30.0 25.0  5.0\n"
     ]
    },
    {
     "name": "stderr",
     "output_type": "stream",
     "text": [
      "Warning message in nominalTrainWorkflow(x = x, y = y, wts = weights, info = trainInfo, :\n",
      "\"There were missing values in resampled performance measures.\"\n"
     ]
    },
    {
     "name": "stdout",
     "output_type": "stream",
     "text": [
      "[1]  0.1 30.0 25.0 10.0\n"
     ]
    },
    {
     "name": "stderr",
     "output_type": "stream",
     "text": [
      "Warning message in nominalTrainWorkflow(x = x, y = y, wts = weights, info = trainInfo, :\n",
      "\"There were missing values in resampled performance measures.\"\n"
     ]
    },
    {
     "name": "stdout",
     "output_type": "stream",
     "text": [
      "[1]  0.1 30.0 25.0 20.0\n"
     ]
    },
    {
     "name": "stderr",
     "output_type": "stream",
     "text": [
      "Warning message in nominalTrainWorkflow(x = x, y = y, wts = weights, info = trainInfo, :\n",
      "\"There were missing values in resampled performance measures.\"\n"
     ]
    },
    {
     "name": "stdout",
     "output_type": "stream",
     "text": [
      "[1]  0.1 30.0 25.0 30.0\n"
     ]
    },
    {
     "name": "stderr",
     "output_type": "stream",
     "text": [
      "Warning message in nominalTrainWorkflow(x = x, y = y, wts = weights, info = trainInfo, :\n",
      "\"There were missing values in resampled performance measures.\"\n"
     ]
    },
    {
     "name": "stdout",
     "output_type": "stream",
     "text": [
      "[1]  0.1 30.0 25.0 40.0\n",
      "[1]  0.1 30.0 25.0 50.0\n",
      "[1]  0.1 30.0 26.0  0.0\n",
      "note: only 2 unique complexity parameters in default grid. Truncating the grid to 2 .\n",
      "\n"
     ]
    },
    {
     "name": "stderr",
     "output_type": "stream",
     "text": [
      "Warning message in nominalTrainWorkflow(x = x, y = y, wts = weights, info = trainInfo, :\n",
      "\"There were missing values in resampled performance measures.\"\n"
     ]
    },
    {
     "name": "stdout",
     "output_type": "stream",
     "text": [
      "[1]  0.1 30.0 26.0  1.0\n",
      "note: only 3 unique complexity parameters in default grid. Truncating the grid to 3 .\n",
      "\n"
     ]
    },
    {
     "name": "stderr",
     "output_type": "stream",
     "text": [
      "Warning message in nominalTrainWorkflow(x = x, y = y, wts = weights, info = trainInfo, :\n",
      "\"There were missing values in resampled performance measures.\"\n"
     ]
    },
    {
     "name": "stdout",
     "output_type": "stream",
     "text": [
      "[1]  0.1 30.0 26.0  3.0\n"
     ]
    },
    {
     "name": "stderr",
     "output_type": "stream",
     "text": [
      "Warning message in nominalTrainWorkflow(x = x, y = y, wts = weights, info = trainInfo, :\n",
      "\"There were missing values in resampled performance measures.\"\n"
     ]
    },
    {
     "name": "stdout",
     "output_type": "stream",
     "text": [
      "[1]  0.1 30.0 26.0  5.0\n"
     ]
    },
    {
     "name": "stderr",
     "output_type": "stream",
     "text": [
      "Warning message in nominalTrainWorkflow(x = x, y = y, wts = weights, info = trainInfo, :\n",
      "\"There were missing values in resampled performance measures.\"\n"
     ]
    },
    {
     "name": "stdout",
     "output_type": "stream",
     "text": [
      "[1]  0.1 30.0 26.0 10.0\n",
      "[1]  0.1 30.0 26.0 20.0\n",
      "[1]  0.1 30.0 26.0 30.0\n",
      "[1]  0.1 30.0 26.0 40.0\n",
      "[1]  0.1 30.0 26.0 50.0\n",
      "[1]  0.1 30.0 27.0  0.0\n",
      "note: only 2 unique complexity parameters in default grid. Truncating the grid to 2 .\n",
      "\n"
     ]
    },
    {
     "name": "stderr",
     "output_type": "stream",
     "text": [
      "Warning message in nominalTrainWorkflow(x = x, y = y, wts = weights, info = trainInfo, :\n",
      "\"There were missing values in resampled performance measures.\"\n"
     ]
    },
    {
     "name": "stdout",
     "output_type": "stream",
     "text": [
      "[1]  0.1 30.0 27.0  1.0\n",
      "note: only 3 unique complexity parameters in default grid. Truncating the grid to 3 .\n",
      "\n"
     ]
    },
    {
     "name": "stderr",
     "output_type": "stream",
     "text": [
      "Warning message in nominalTrainWorkflow(x = x, y = y, wts = weights, info = trainInfo, :\n",
      "\"There were missing values in resampled performance measures.\"\n"
     ]
    },
    {
     "name": "stdout",
     "output_type": "stream",
     "text": [
      "[1]  0.1 30.0 27.0  3.0\n"
     ]
    },
    {
     "name": "stderr",
     "output_type": "stream",
     "text": [
      "Warning message in nominalTrainWorkflow(x = x, y = y, wts = weights, info = trainInfo, :\n",
      "\"There were missing values in resampled performance measures.\"\n"
     ]
    },
    {
     "name": "stdout",
     "output_type": "stream",
     "text": [
      "[1]  0.1 30.0 27.0  5.0\n"
     ]
    },
    {
     "name": "stderr",
     "output_type": "stream",
     "text": [
      "Warning message in nominalTrainWorkflow(x = x, y = y, wts = weights, info = trainInfo, :\n",
      "\"There were missing values in resampled performance measures.\"\n"
     ]
    },
    {
     "name": "stdout",
     "output_type": "stream",
     "text": [
      "[1]  0.1 30.0 27.0 10.0\n",
      "[1]  0.1 30.0 27.0 20.0\n",
      "[1]  0.1 30.0 27.0 30.0\n",
      "[1]  0.1 30.0 27.0 40.0\n",
      "[1]  0.1 30.0 27.0 50.0\n",
      "[1]  0.1 30.0 28.0  0.0\n",
      "note: only 2 unique complexity parameters in default grid. Truncating the grid to 2 .\n",
      "\n"
     ]
    },
    {
     "name": "stderr",
     "output_type": "stream",
     "text": [
      "Warning message in nominalTrainWorkflow(x = x, y = y, wts = weights, info = trainInfo, :\n",
      "\"There were missing values in resampled performance measures.\"\n"
     ]
    },
    {
     "name": "stdout",
     "output_type": "stream",
     "text": [
      "[1]  0.1 30.0 28.0  1.0\n",
      "note: only 3 unique complexity parameters in default grid. Truncating the grid to 3 .\n",
      "\n"
     ]
    },
    {
     "name": "stderr",
     "output_type": "stream",
     "text": [
      "Warning message in nominalTrainWorkflow(x = x, y = y, wts = weights, info = trainInfo, :\n",
      "\"There were missing values in resampled performance measures.\"\n"
     ]
    },
    {
     "name": "stdout",
     "output_type": "stream",
     "text": [
      "[1]  0.1 30.0 28.0  3.0\n"
     ]
    },
    {
     "name": "stderr",
     "output_type": "stream",
     "text": [
      "Warning message in nominalTrainWorkflow(x = x, y = y, wts = weights, info = trainInfo, :\n",
      "\"There were missing values in resampled performance measures.\"\n"
     ]
    },
    {
     "name": "stdout",
     "output_type": "stream",
     "text": [
      "[1]  0.1 30.0 28.0  5.0\n",
      "[1]  0.1 30.0 28.0 10.0\n",
      "[1]  0.1 30.0 28.0 20.0\n",
      "[1]  0.1 30.0 28.0 30.0\n",
      "[1]  0.1 30.0 28.0 40.0\n",
      "[1]  0.1 30.0 28.0 50.0\n",
      "[1]  0.1 30.0 29.0  0.0\n",
      "note: only 2 unique complexity parameters in default grid. Truncating the grid to 2 .\n",
      "\n"
     ]
    },
    {
     "name": "stderr",
     "output_type": "stream",
     "text": [
      "Warning message in nominalTrainWorkflow(x = x, y = y, wts = weights, info = trainInfo, :\n",
      "\"There were missing values in resampled performance measures.\"\n"
     ]
    },
    {
     "name": "stdout",
     "output_type": "stream",
     "text": [
      "[1]  0.1 30.0 29.0  1.0\n",
      "note: only 3 unique complexity parameters in default grid. Truncating the grid to 3 .\n",
      "\n"
     ]
    },
    {
     "name": "stderr",
     "output_type": "stream",
     "text": [
      "Warning message in nominalTrainWorkflow(x = x, y = y, wts = weights, info = trainInfo, :\n",
      "\"There were missing values in resampled performance measures.\"\n"
     ]
    },
    {
     "name": "stdout",
     "output_type": "stream",
     "text": [
      "[1]  0.1 30.0 29.0  3.0\n"
     ]
    },
    {
     "name": "stderr",
     "output_type": "stream",
     "text": [
      "Warning message in nominalTrainWorkflow(x = x, y = y, wts = weights, info = trainInfo, :\n",
      "\"There were missing values in resampled performance measures.\"\n"
     ]
    },
    {
     "name": "stdout",
     "output_type": "stream",
     "text": [
      "[1]  0.1 30.0 29.0  5.0\n"
     ]
    },
    {
     "name": "stderr",
     "output_type": "stream",
     "text": [
      "Warning message in nominalTrainWorkflow(x = x, y = y, wts = weights, info = trainInfo, :\n",
      "\"There were missing values in resampled performance measures.\"\n"
     ]
    },
    {
     "name": "stdout",
     "output_type": "stream",
     "text": [
      "[1]  0.1 30.0 29.0 10.0\n",
      "[1]  0.1 30.0 29.0 20.0\n",
      "[1]  0.1 30.0 29.0 30.0\n",
      "[1]  0.1 30.0 29.0 40.0\n",
      "[1]  0.1 30.0 29.0 50.0\n",
      "[1]  0.1 30.0 30.0  0.0\n",
      "note: only 2 unique complexity parameters in default grid. Truncating the grid to 2 .\n",
      "\n"
     ]
    },
    {
     "name": "stderr",
     "output_type": "stream",
     "text": [
      "Warning message in nominalTrainWorkflow(x = x, y = y, wts = weights, info = trainInfo, :\n",
      "\"There were missing values in resampled performance measures.\"\n"
     ]
    },
    {
     "name": "stdout",
     "output_type": "stream",
     "text": [
      "[1]  0.1 30.0 30.0  1.0\n",
      "note: only 3 unique complexity parameters in default grid. Truncating the grid to 3 .\n",
      "\n"
     ]
    },
    {
     "name": "stderr",
     "output_type": "stream",
     "text": [
      "Warning message in nominalTrainWorkflow(x = x, y = y, wts = weights, info = trainInfo, :\n",
      "\"There were missing values in resampled performance measures.\"\n"
     ]
    },
    {
     "name": "stdout",
     "output_type": "stream",
     "text": [
      "[1]  0.1 30.0 30.0  3.0\n"
     ]
    },
    {
     "name": "stderr",
     "output_type": "stream",
     "text": [
      "Warning message in nominalTrainWorkflow(x = x, y = y, wts = weights, info = trainInfo, :\n",
      "\"There were missing values in resampled performance measures.\"\n"
     ]
    },
    {
     "name": "stdout",
     "output_type": "stream",
     "text": [
      "[1]  0.1 30.0 30.0  5.0\n"
     ]
    },
    {
     "name": "stderr",
     "output_type": "stream",
     "text": [
      "Warning message in nominalTrainWorkflow(x = x, y = y, wts = weights, info = trainInfo, :\n",
      "\"There were missing values in resampled performance measures.\"\n"
     ]
    },
    {
     "name": "stdout",
     "output_type": "stream",
     "text": [
      "[1]  0.1 30.0 30.0 10.0\n"
     ]
    },
    {
     "name": "stderr",
     "output_type": "stream",
     "text": [
      "Warning message in nominalTrainWorkflow(x = x, y = y, wts = weights, info = trainInfo, :\n",
      "\"There were missing values in resampled performance measures.\"\n"
     ]
    },
    {
     "name": "stdout",
     "output_type": "stream",
     "text": [
      "[1]  0.1 30.0 30.0 20.0\n",
      "[1]  0.1 30.0 30.0 30.0\n",
      "[1]  0.1 30.0 30.0 40.0\n",
      "[1]  0.1 30.0 30.0 50.0\n",
      "[1]  0.1 40.0  1.0  0.0\n",
      "note: only 2 unique complexity parameters in default grid. Truncating the grid to 2 .\n",
      "\n"
     ]
    },
    {
     "name": "stderr",
     "output_type": "stream",
     "text": [
      "Warning message in nominalTrainWorkflow(x = x, y = y, wts = weights, info = trainInfo, :\n",
      "\"There were missing values in resampled performance measures.\"\n"
     ]
    },
    {
     "name": "stdout",
     "output_type": "stream",
     "text": [
      "[1]  0.1 40.0  1.0  1.0\n",
      "note: only 3 unique complexity parameters in default grid. Truncating the grid to 3 .\n",
      "\n"
     ]
    },
    {
     "name": "stderr",
     "output_type": "stream",
     "text": [
      "Warning message in nominalTrainWorkflow(x = x, y = y, wts = weights, info = trainInfo, :\n",
      "\"There were missing values in resampled performance measures.\"\n"
     ]
    },
    {
     "name": "stdout",
     "output_type": "stream",
     "text": [
      "[1]  0.1 40.0  1.0  3.0\n"
     ]
    },
    {
     "name": "stderr",
     "output_type": "stream",
     "text": [
      "Warning message in nominalTrainWorkflow(x = x, y = y, wts = weights, info = trainInfo, :\n",
      "\"There were missing values in resampled performance measures.\"\n"
     ]
    },
    {
     "name": "stdout",
     "output_type": "stream",
     "text": [
      "[1]  0.1 40.0  1.0  5.0\n",
      "[1]  0.1 40.0  1.0 10.0\n",
      "[1]  0.1 40.0  1.0 20.0\n"
     ]
    },
    {
     "name": "stderr",
     "output_type": "stream",
     "text": [
      "Warning message in nominalTrainWorkflow(x = x, y = y, wts = weights, info = trainInfo, :\n",
      "\"There were missing values in resampled performance measures.\"\n"
     ]
    },
    {
     "name": "stdout",
     "output_type": "stream",
     "text": [
      "[1]  0.1 40.0  1.0 30.0\n",
      "[1]  0.1 40.0  1.0 40.0\n",
      "[1]  0.1 40.0  1.0 50.0\n",
      "[1]  0.1 40.0  2.0  0.0\n",
      "note: only 2 unique complexity parameters in default grid. Truncating the grid to 2 .\n",
      "\n"
     ]
    },
    {
     "name": "stderr",
     "output_type": "stream",
     "text": [
      "Warning message in nominalTrainWorkflow(x = x, y = y, wts = weights, info = trainInfo, :\n",
      "\"There were missing values in resampled performance measures.\"\n"
     ]
    },
    {
     "name": "stdout",
     "output_type": "stream",
     "text": [
      "[1]  0.1 40.0  2.0  1.0\n",
      "note: only 3 unique complexity parameters in default grid. Truncating the grid to 3 .\n",
      "\n"
     ]
    },
    {
     "name": "stderr",
     "output_type": "stream",
     "text": [
      "Warning message in nominalTrainWorkflow(x = x, y = y, wts = weights, info = trainInfo, :\n",
      "\"There were missing values in resampled performance measures.\"\n"
     ]
    },
    {
     "name": "stdout",
     "output_type": "stream",
     "text": [
      "[1]  0.1 40.0  2.0  3.0\n"
     ]
    },
    {
     "name": "stderr",
     "output_type": "stream",
     "text": [
      "Warning message in nominalTrainWorkflow(x = x, y = y, wts = weights, info = trainInfo, :\n",
      "\"There were missing values in resampled performance measures.\"\n"
     ]
    },
    {
     "name": "stdout",
     "output_type": "stream",
     "text": [
      "[1]  0.1 40.0  2.0  5.0\n",
      "[1]  0.1 40.0  2.0 10.0\n"
     ]
    },
    {
     "name": "stderr",
     "output_type": "stream",
     "text": [
      "Warning message in nominalTrainWorkflow(x = x, y = y, wts = weights, info = trainInfo, :\n",
      "\"There were missing values in resampled performance measures.\"\n"
     ]
    },
    {
     "name": "stdout",
     "output_type": "stream",
     "text": [
      "[1]  0.1 40.0  2.0 20.0\n",
      "[1]  0.1 40.0  2.0 30.0\n",
      "[1]  0.1 40.0  2.0 40.0\n",
      "[1]  0.1 40.0  2.0 50.0\n",
      "[1]  0.1 40.0  3.0  0.0\n",
      "note: only 2 unique complexity parameters in default grid. Truncating the grid to 2 .\n",
      "\n"
     ]
    },
    {
     "name": "stderr",
     "output_type": "stream",
     "text": [
      "Warning message in nominalTrainWorkflow(x = x, y = y, wts = weights, info = trainInfo, :\n",
      "\"There were missing values in resampled performance measures.\"\n"
     ]
    },
    {
     "name": "stdout",
     "output_type": "stream",
     "text": [
      "[1]  0.1 40.0  3.0  1.0\n",
      "note: only 3 unique complexity parameters in default grid. Truncating the grid to 3 .\n",
      "\n"
     ]
    },
    {
     "name": "stderr",
     "output_type": "stream",
     "text": [
      "Warning message in nominalTrainWorkflow(x = x, y = y, wts = weights, info = trainInfo, :\n",
      "\"There were missing values in resampled performance measures.\"\n"
     ]
    },
    {
     "name": "stdout",
     "output_type": "stream",
     "text": [
      "[1]  0.1 40.0  3.0  3.0\n",
      "[1]  0.1 40.0  3.0  5.0\n",
      "[1]  0.1 40.0  3.0 10.0\n",
      "[1]  0.1 40.0  3.0 20.0\n",
      "[1]  0.1 40.0  3.0 30.0\n",
      "[1]  0.1 40.0  3.0 40.0\n",
      "[1]  0.1 40.0  3.0 50.0\n",
      "[1]  0.1 40.0  4.0  0.0\n",
      "note: only 2 unique complexity parameters in default grid. Truncating the grid to 2 .\n",
      "\n"
     ]
    },
    {
     "name": "stderr",
     "output_type": "stream",
     "text": [
      "Warning message in nominalTrainWorkflow(x = x, y = y, wts = weights, info = trainInfo, :\n",
      "\"There were missing values in resampled performance measures.\"\n"
     ]
    },
    {
     "name": "stdout",
     "output_type": "stream",
     "text": [
      "[1]  0.1 40.0  4.0  1.0\n",
      "note: only 3 unique complexity parameters in default grid. Truncating the grid to 3 .\n",
      "\n"
     ]
    },
    {
     "name": "stderr",
     "output_type": "stream",
     "text": [
      "Warning message in nominalTrainWorkflow(x = x, y = y, wts = weights, info = trainInfo, :\n",
      "\"There were missing values in resampled performance measures.\"\n"
     ]
    },
    {
     "name": "stdout",
     "output_type": "stream",
     "text": [
      "[1]  0.1 40.0  4.0  3.0\n"
     ]
    },
    {
     "name": "stderr",
     "output_type": "stream",
     "text": [
      "Warning message in nominalTrainWorkflow(x = x, y = y, wts = weights, info = trainInfo, :\n",
      "\"There were missing values in resampled performance measures.\"\n"
     ]
    },
    {
     "name": "stdout",
     "output_type": "stream",
     "text": [
      "[1]  0.1 40.0  4.0  5.0\n"
     ]
    },
    {
     "name": "stderr",
     "output_type": "stream",
     "text": [
      "Warning message in nominalTrainWorkflow(x = x, y = y, wts = weights, info = trainInfo, :\n",
      "\"There were missing values in resampled performance measures.\"\n"
     ]
    },
    {
     "name": "stdout",
     "output_type": "stream",
     "text": [
      "[1]  0.1 40.0  4.0 10.0\n"
     ]
    },
    {
     "name": "stderr",
     "output_type": "stream",
     "text": [
      "Warning message in nominalTrainWorkflow(x = x, y = y, wts = weights, info = trainInfo, :\n",
      "\"There were missing values in resampled performance measures.\"\n"
     ]
    },
    {
     "name": "stdout",
     "output_type": "stream",
     "text": [
      "[1]  0.1 40.0  4.0 20.0\n",
      "[1]  0.1 40.0  4.0 30.0\n",
      "[1]  0.1 40.0  4.0 40.0\n",
      "[1]  0.1 40.0  4.0 50.0\n",
      "[1]  0.1 40.0  5.0  0.0\n",
      "note: only 2 unique complexity parameters in default grid. Truncating the grid to 2 .\n",
      "\n",
      "[1]  0.1 40.0  5.0  1.0\n",
      "note: only 3 unique complexity parameters in default grid. Truncating the grid to 3 .\n",
      "\n",
      "[1]  0.1 40.0  5.0  3.0\n"
     ]
    },
    {
     "name": "stderr",
     "output_type": "stream",
     "text": [
      "Warning message in nominalTrainWorkflow(x = x, y = y, wts = weights, info = trainInfo, :\n",
      "\"There were missing values in resampled performance measures.\"\n"
     ]
    },
    {
     "name": "stdout",
     "output_type": "stream",
     "text": [
      "[1]  0.1 40.0  5.0  5.0\n"
     ]
    },
    {
     "name": "stderr",
     "output_type": "stream",
     "text": [
      "Warning message in nominalTrainWorkflow(x = x, y = y, wts = weights, info = trainInfo, :\n",
      "\"There were missing values in resampled performance measures.\"\n"
     ]
    },
    {
     "name": "stdout",
     "output_type": "stream",
     "text": [
      "[1]  0.1 40.0  5.0 10.0\n",
      "[1]  0.1 40.0  5.0 20.0\n",
      "[1]  0.1 40.0  5.0 30.0\n",
      "[1]  0.1 40.0  5.0 40.0\n",
      "[1]  0.1 40.0  5.0 50.0\n",
      "[1]  0.1 40.0  6.0  0.0\n",
      "note: only 2 unique complexity parameters in default grid. Truncating the grid to 2 .\n",
      "\n",
      "[1]  0.1 40.0  6.0  1.0\n",
      "note: only 3 unique complexity parameters in default grid. Truncating the grid to 3 .\n",
      "\n"
     ]
    },
    {
     "name": "stderr",
     "output_type": "stream",
     "text": [
      "Warning message in nominalTrainWorkflow(x = x, y = y, wts = weights, info = trainInfo, :\n",
      "\"There were missing values in resampled performance measures.\"\n"
     ]
    },
    {
     "name": "stdout",
     "output_type": "stream",
     "text": [
      "[1]  0.1 40.0  6.0  3.0\n",
      "[1]  0.1 40.0  6.0  5.0\n",
      "[1]  0.1 40.0  6.0 10.0\n",
      "[1]  0.1 40.0  6.0 20.0\n",
      "[1]  0.1 40.0  6.0 30.0\n",
      "[1]  0.1 40.0  6.0 40.0\n",
      "[1]  0.1 40.0  6.0 50.0\n",
      "[1]  0.1 40.0  7.0  0.0\n",
      "note: only 2 unique complexity parameters in default grid. Truncating the grid to 2 .\n",
      "\n"
     ]
    },
    {
     "name": "stderr",
     "output_type": "stream",
     "text": [
      "Warning message in nominalTrainWorkflow(x = x, y = y, wts = weights, info = trainInfo, :\n",
      "\"There were missing values in resampled performance measures.\"\n"
     ]
    },
    {
     "name": "stdout",
     "output_type": "stream",
     "text": [
      "[1]  0.1 40.0  7.0  1.0\n",
      "note: only 3 unique complexity parameters in default grid. Truncating the grid to 3 .\n",
      "\n"
     ]
    },
    {
     "name": "stderr",
     "output_type": "stream",
     "text": [
      "Warning message in nominalTrainWorkflow(x = x, y = y, wts = weights, info = trainInfo, :\n",
      "\"There were missing values in resampled performance measures.\"\n"
     ]
    },
    {
     "name": "stdout",
     "output_type": "stream",
     "text": [
      "[1]  0.1 40.0  7.0  3.0\n",
      "[1]  0.1 40.0  7.0  5.0\n"
     ]
    },
    {
     "name": "stderr",
     "output_type": "stream",
     "text": [
      "Warning message in nominalTrainWorkflow(x = x, y = y, wts = weights, info = trainInfo, :\n",
      "\"There were missing values in resampled performance measures.\"\n"
     ]
    },
    {
     "name": "stdout",
     "output_type": "stream",
     "text": [
      "[1]  0.1 40.0  7.0 10.0\n",
      "[1]  0.1 40.0  7.0 20.0\n",
      "[1]  0.1 40.0  7.0 30.0\n",
      "[1]  0.1 40.0  7.0 40.0\n",
      "[1]  0.1 40.0  7.0 50.0\n",
      "[1]  0.1 40.0  8.0  0.0\n",
      "note: only 2 unique complexity parameters in default grid. Truncating the grid to 2 .\n",
      "\n"
     ]
    },
    {
     "name": "stderr",
     "output_type": "stream",
     "text": [
      "Warning message in nominalTrainWorkflow(x = x, y = y, wts = weights, info = trainInfo, :\n",
      "\"There were missing values in resampled performance measures.\"\n"
     ]
    },
    {
     "name": "stdout",
     "output_type": "stream",
     "text": [
      "[1]  0.1 40.0  8.0  1.0\n",
      "note: only 3 unique complexity parameters in default grid. Truncating the grid to 3 .\n",
      "\n"
     ]
    },
    {
     "name": "stderr",
     "output_type": "stream",
     "text": [
      "Warning message in nominalTrainWorkflow(x = x, y = y, wts = weights, info = trainInfo, :\n",
      "\"There were missing values in resampled performance measures.\"\n"
     ]
    },
    {
     "name": "stdout",
     "output_type": "stream",
     "text": [
      "[1]  0.1 40.0  8.0  3.0\n",
      "[1]  0.1 40.0  8.0  5.0\n"
     ]
    },
    {
     "name": "stderr",
     "output_type": "stream",
     "text": [
      "Warning message in nominalTrainWorkflow(x = x, y = y, wts = weights, info = trainInfo, :\n",
      "\"There were missing values in resampled performance measures.\"\n"
     ]
    },
    {
     "name": "stdout",
     "output_type": "stream",
     "text": [
      "[1]  0.1 40.0  8.0 10.0\n"
     ]
    },
    {
     "name": "stderr",
     "output_type": "stream",
     "text": [
      "Warning message in nominalTrainWorkflow(x = x, y = y, wts = weights, info = trainInfo, :\n",
      "\"There were missing values in resampled performance measures.\"\n"
     ]
    },
    {
     "name": "stdout",
     "output_type": "stream",
     "text": [
      "[1]  0.1 40.0  8.0 20.0\n",
      "[1]  0.1 40.0  8.0 30.0\n",
      "[1]  0.1 40.0  8.0 40.0\n",
      "[1]  0.1 40.0  8.0 50.0\n",
      "[1]  0.1 40.0  9.0  0.0\n",
      "note: only 2 unique complexity parameters in default grid. Truncating the grid to 2 .\n",
      "\n",
      "[1]  0.1 40.0  9.0  1.0\n",
      "note: only 3 unique complexity parameters in default grid. Truncating the grid to 3 .\n",
      "\n",
      "[1]  0.1 40.0  9.0  3.0\n",
      "[1]  0.1 40.0  9.0  5.0\n"
     ]
    },
    {
     "name": "stderr",
     "output_type": "stream",
     "text": [
      "Warning message in nominalTrainWorkflow(x = x, y = y, wts = weights, info = trainInfo, :\n",
      "\"There were missing values in resampled performance measures.\"\n"
     ]
    },
    {
     "name": "stdout",
     "output_type": "stream",
     "text": [
      "[1]  0.1 40.0  9.0 10.0\n",
      "[1]  0.1 40.0  9.0 20.0\n",
      "[1]  0.1 40.0  9.0 30.0\n",
      "[1]  0.1 40.0  9.0 40.0\n",
      "[1]  0.1 40.0  9.0 50.0\n",
      "[1]  0.1 40.0 10.0  0.0\n",
      "note: only 2 unique complexity parameters in default grid. Truncating the grid to 2 .\n",
      "\n"
     ]
    },
    {
     "name": "stderr",
     "output_type": "stream",
     "text": [
      "Warning message in nominalTrainWorkflow(x = x, y = y, wts = weights, info = trainInfo, :\n",
      "\"There were missing values in resampled performance measures.\"\n"
     ]
    },
    {
     "name": "stdout",
     "output_type": "stream",
     "text": [
      "[1]  0.1 40.0 10.0  1.0\n",
      "note: only 3 unique complexity parameters in default grid. Truncating the grid to 3 .\n",
      "\n"
     ]
    },
    {
     "name": "stderr",
     "output_type": "stream",
     "text": [
      "Warning message in nominalTrainWorkflow(x = x, y = y, wts = weights, info = trainInfo, :\n",
      "\"There were missing values in resampled performance measures.\"\n"
     ]
    },
    {
     "name": "stdout",
     "output_type": "stream",
     "text": [
      "[1]  0.1 40.0 10.0  3.0\n"
     ]
    },
    {
     "name": "stderr",
     "output_type": "stream",
     "text": [
      "Warning message in nominalTrainWorkflow(x = x, y = y, wts = weights, info = trainInfo, :\n",
      "\"There were missing values in resampled performance measures.\"\n"
     ]
    },
    {
     "name": "stdout",
     "output_type": "stream",
     "text": [
      "[1]  0.1 40.0 10.0  5.0\n"
     ]
    },
    {
     "name": "stderr",
     "output_type": "stream",
     "text": [
      "Warning message in nominalTrainWorkflow(x = x, y = y, wts = weights, info = trainInfo, :\n",
      "\"There were missing values in resampled performance measures.\"\n"
     ]
    },
    {
     "name": "stdout",
     "output_type": "stream",
     "text": [
      "[1]  0.1 40.0 10.0 10.0\n",
      "[1]  0.1 40.0 10.0 20.0\n",
      "[1]  0.1 40.0 10.0 30.0\n",
      "[1]  0.1 40.0 10.0 40.0\n",
      "[1]  0.1 40.0 10.0 50.0\n",
      "[1]  0.1 40.0 11.0  0.0\n",
      "note: only 2 unique complexity parameters in default grid. Truncating the grid to 2 .\n",
      "\n"
     ]
    },
    {
     "name": "stderr",
     "output_type": "stream",
     "text": [
      "Warning message in nominalTrainWorkflow(x = x, y = y, wts = weights, info = trainInfo, :\n",
      "\"There were missing values in resampled performance measures.\"\n"
     ]
    },
    {
     "name": "stdout",
     "output_type": "stream",
     "text": [
      "[1]  0.1 40.0 11.0  1.0\n",
      "note: only 3 unique complexity parameters in default grid. Truncating the grid to 3 .\n",
      "\n"
     ]
    },
    {
     "name": "stderr",
     "output_type": "stream",
     "text": [
      "Warning message in nominalTrainWorkflow(x = x, y = y, wts = weights, info = trainInfo, :\n",
      "\"There were missing values in resampled performance measures.\"\n"
     ]
    },
    {
     "name": "stdout",
     "output_type": "stream",
     "text": [
      "[1]  0.1 40.0 11.0  3.0\n"
     ]
    },
    {
     "name": "stderr",
     "output_type": "stream",
     "text": [
      "Warning message in nominalTrainWorkflow(x = x, y = y, wts = weights, info = trainInfo, :\n",
      "\"There were missing values in resampled performance measures.\"\n"
     ]
    },
    {
     "name": "stdout",
     "output_type": "stream",
     "text": [
      "[1]  0.1 40.0 11.0  5.0\n"
     ]
    },
    {
     "name": "stderr",
     "output_type": "stream",
     "text": [
      "Warning message in nominalTrainWorkflow(x = x, y = y, wts = weights, info = trainInfo, :\n",
      "\"There were missing values in resampled performance measures.\"\n"
     ]
    },
    {
     "name": "stdout",
     "output_type": "stream",
     "text": [
      "[1]  0.1 40.0 11.0 10.0\n",
      "[1]  0.1 40.0 11.0 20.0\n",
      "[1]  0.1 40.0 11.0 30.0\n",
      "[1]  0.1 40.0 11.0 40.0\n",
      "[1]  0.1 40.0 11.0 50.0\n",
      "[1]  0.1 40.0 12.0  0.0\n",
      "note: only 2 unique complexity parameters in default grid. Truncating the grid to 2 .\n",
      "\n"
     ]
    },
    {
     "name": "stderr",
     "output_type": "stream",
     "text": [
      "Warning message in nominalTrainWorkflow(x = x, y = y, wts = weights, info = trainInfo, :\n",
      "\"There were missing values in resampled performance measures.\"\n"
     ]
    },
    {
     "name": "stdout",
     "output_type": "stream",
     "text": [
      "[1]  0.1 40.0 12.0  1.0\n",
      "note: only 3 unique complexity parameters in default grid. Truncating the grid to 3 .\n",
      "\n"
     ]
    },
    {
     "name": "stderr",
     "output_type": "stream",
     "text": [
      "Warning message in nominalTrainWorkflow(x = x, y = y, wts = weights, info = trainInfo, :\n",
      "\"There were missing values in resampled performance measures.\"\n"
     ]
    },
    {
     "name": "stdout",
     "output_type": "stream",
     "text": [
      "[1]  0.1 40.0 12.0  3.0\n"
     ]
    },
    {
     "name": "stderr",
     "output_type": "stream",
     "text": [
      "Warning message in nominalTrainWorkflow(x = x, y = y, wts = weights, info = trainInfo, :\n",
      "\"There were missing values in resampled performance measures.\"\n"
     ]
    },
    {
     "name": "stdout",
     "output_type": "stream",
     "text": [
      "[1]  0.1 40.0 12.0  5.0\n"
     ]
    },
    {
     "name": "stderr",
     "output_type": "stream",
     "text": [
      "Warning message in nominalTrainWorkflow(x = x, y = y, wts = weights, info = trainInfo, :\n",
      "\"There were missing values in resampled performance measures.\"\n"
     ]
    },
    {
     "name": "stdout",
     "output_type": "stream",
     "text": [
      "[1]  0.1 40.0 12.0 10.0\n"
     ]
    },
    {
     "name": "stderr",
     "output_type": "stream",
     "text": [
      "Warning message in nominalTrainWorkflow(x = x, y = y, wts = weights, info = trainInfo, :\n",
      "\"There were missing values in resampled performance measures.\"\n"
     ]
    },
    {
     "name": "stdout",
     "output_type": "stream",
     "text": [
      "[1]  0.1 40.0 12.0 20.0\n",
      "[1]  0.1 40.0 12.0 30.0\n",
      "[1]  0.1 40.0 12.0 40.0\n",
      "[1]  0.1 40.0 12.0 50.0\n",
      "[1]  0.1 40.0 13.0  0.0\n",
      "note: only 2 unique complexity parameters in default grid. Truncating the grid to 2 .\n",
      "\n"
     ]
    },
    {
     "name": "stderr",
     "output_type": "stream",
     "text": [
      "Warning message in nominalTrainWorkflow(x = x, y = y, wts = weights, info = trainInfo, :\n",
      "\"There were missing values in resampled performance measures.\"\n"
     ]
    },
    {
     "name": "stdout",
     "output_type": "stream",
     "text": [
      "[1]  0.1 40.0 13.0  1.0\n",
      "note: only 3 unique complexity parameters in default grid. Truncating the grid to 3 .\n",
      "\n"
     ]
    },
    {
     "name": "stderr",
     "output_type": "stream",
     "text": [
      "Warning message in nominalTrainWorkflow(x = x, y = y, wts = weights, info = trainInfo, :\n",
      "\"There were missing values in resampled performance measures.\"\n"
     ]
    },
    {
     "name": "stdout",
     "output_type": "stream",
     "text": [
      "[1]  0.1 40.0 13.0  3.0\n"
     ]
    },
    {
     "name": "stderr",
     "output_type": "stream",
     "text": [
      "Warning message in nominalTrainWorkflow(x = x, y = y, wts = weights, info = trainInfo, :\n",
      "\"There were missing values in resampled performance measures.\"\n"
     ]
    },
    {
     "name": "stdout",
     "output_type": "stream",
     "text": [
      "[1]  0.1 40.0 13.0  5.0\n"
     ]
    },
    {
     "name": "stderr",
     "output_type": "stream",
     "text": [
      "Warning message in nominalTrainWorkflow(x = x, y = y, wts = weights, info = trainInfo, :\n",
      "\"There were missing values in resampled performance measures.\"\n"
     ]
    },
    {
     "name": "stdout",
     "output_type": "stream",
     "text": [
      "[1]  0.1 40.0 13.0 10.0\n",
      "[1]  0.1 40.0 13.0 20.0\n",
      "[1]  0.1 40.0 13.0 30.0\n",
      "[1]  0.1 40.0 13.0 40.0\n",
      "[1]  0.1 40.0 13.0 50.0\n",
      "[1]  0.1 40.0 14.0  0.0\n",
      "note: only 2 unique complexity parameters in default grid. Truncating the grid to 2 .\n",
      "\n"
     ]
    },
    {
     "name": "stderr",
     "output_type": "stream",
     "text": [
      "Warning message in nominalTrainWorkflow(x = x, y = y, wts = weights, info = trainInfo, :\n",
      "\"There were missing values in resampled performance measures.\"\n"
     ]
    },
    {
     "name": "stdout",
     "output_type": "stream",
     "text": [
      "[1]  0.1 40.0 14.0  1.0\n",
      "note: only 3 unique complexity parameters in default grid. Truncating the grid to 3 .\n",
      "\n"
     ]
    },
    {
     "name": "stderr",
     "output_type": "stream",
     "text": [
      "Warning message in nominalTrainWorkflow(x = x, y = y, wts = weights, info = trainInfo, :\n",
      "\"There were missing values in resampled performance measures.\"\n"
     ]
    },
    {
     "name": "stdout",
     "output_type": "stream",
     "text": [
      "[1]  0.1 40.0 14.0  3.0\n",
      "[1]  0.1 40.0 14.0  5.0\n"
     ]
    },
    {
     "name": "stderr",
     "output_type": "stream",
     "text": [
      "Warning message in nominalTrainWorkflow(x = x, y = y, wts = weights, info = trainInfo, :\n",
      "\"There were missing values in resampled performance measures.\"\n"
     ]
    },
    {
     "name": "stdout",
     "output_type": "stream",
     "text": [
      "[1]  0.1 40.0 14.0 10.0\n",
      "[1]  0.1 40.0 14.0 20.0\n",
      "[1]  0.1 40.0 14.0 30.0\n",
      "[1]  0.1 40.0 14.0 40.0\n",
      "[1]  0.1 40.0 14.0 50.0\n",
      "[1]  0.1 40.0 15.0  0.0\n",
      "note: only 2 unique complexity parameters in default grid. Truncating the grid to 2 .\n",
      "\n"
     ]
    },
    {
     "name": "stderr",
     "output_type": "stream",
     "text": [
      "Warning message in nominalTrainWorkflow(x = x, y = y, wts = weights, info = trainInfo, :\n",
      "\"There were missing values in resampled performance measures.\"\n"
     ]
    },
    {
     "name": "stdout",
     "output_type": "stream",
     "text": [
      "[1]  0.1 40.0 15.0  1.0\n",
      "note: only 3 unique complexity parameters in default grid. Truncating the grid to 3 .\n",
      "\n"
     ]
    },
    {
     "name": "stderr",
     "output_type": "stream",
     "text": [
      "Warning message in nominalTrainWorkflow(x = x, y = y, wts = weights, info = trainInfo, :\n",
      "\"There were missing values in resampled performance measures.\"\n"
     ]
    },
    {
     "name": "stdout",
     "output_type": "stream",
     "text": [
      "[1]  0.1 40.0 15.0  3.0\n",
      "[1]  0.1 40.0 15.0  5.0\n"
     ]
    },
    {
     "name": "stderr",
     "output_type": "stream",
     "text": [
      "Warning message in nominalTrainWorkflow(x = x, y = y, wts = weights, info = trainInfo, :\n",
      "\"There were missing values in resampled performance measures.\"\n"
     ]
    },
    {
     "name": "stdout",
     "output_type": "stream",
     "text": [
      "[1]  0.1 40.0 15.0 10.0\n",
      "[1]  0.1 40.0 15.0 20.0\n"
     ]
    },
    {
     "name": "stderr",
     "output_type": "stream",
     "text": [
      "Warning message in nominalTrainWorkflow(x = x, y = y, wts = weights, info = trainInfo, :\n",
      "\"There were missing values in resampled performance measures.\"\n"
     ]
    },
    {
     "name": "stdout",
     "output_type": "stream",
     "text": [
      "[1]  0.1 40.0 15.0 30.0\n",
      "[1]  0.1 40.0 15.0 40.0\n",
      "[1]  0.1 40.0 15.0 50.0\n",
      "[1]  0.1 40.0 16.0  0.0\n",
      "note: only 2 unique complexity parameters in default grid. Truncating the grid to 2 .\n",
      "\n"
     ]
    },
    {
     "name": "stderr",
     "output_type": "stream",
     "text": [
      "Warning message in nominalTrainWorkflow(x = x, y = y, wts = weights, info = trainInfo, :\n",
      "\"There were missing values in resampled performance measures.\"\n"
     ]
    },
    {
     "name": "stdout",
     "output_type": "stream",
     "text": [
      "[1]  0.1 40.0 16.0  1.0\n",
      "note: only 3 unique complexity parameters in default grid. Truncating the grid to 3 .\n",
      "\n"
     ]
    },
    {
     "name": "stderr",
     "output_type": "stream",
     "text": [
      "Warning message in nominalTrainWorkflow(x = x, y = y, wts = weights, info = trainInfo, :\n",
      "\"There were missing values in resampled performance measures.\"\n"
     ]
    },
    {
     "name": "stdout",
     "output_type": "stream",
     "text": [
      "[1]  0.1 40.0 16.0  3.0\n",
      "[1]  0.1 40.0 16.0  5.0\n",
      "[1]  0.1 40.0 16.0 10.0\n",
      "[1]  0.1 40.0 16.0 20.0\n",
      "[1]  0.1 40.0 16.0 30.0\n",
      "[1]  0.1 40.0 16.0 40.0\n",
      "[1]  0.1 40.0 16.0 50.0\n",
      "[1]  0.1 40.0 17.0  0.0\n",
      "note: only 2 unique complexity parameters in default grid. Truncating the grid to 2 .\n",
      "\n"
     ]
    },
    {
     "name": "stderr",
     "output_type": "stream",
     "text": [
      "Warning message in nominalTrainWorkflow(x = x, y = y, wts = weights, info = trainInfo, :\n",
      "\"There were missing values in resampled performance measures.\"\n"
     ]
    },
    {
     "name": "stdout",
     "output_type": "stream",
     "text": [
      "[1]  0.1 40.0 17.0  1.0\n",
      "note: only 3 unique complexity parameters in default grid. Truncating the grid to 3 .\n",
      "\n"
     ]
    },
    {
     "name": "stderr",
     "output_type": "stream",
     "text": [
      "Warning message in nominalTrainWorkflow(x = x, y = y, wts = weights, info = trainInfo, :\n",
      "\"There were missing values in resampled performance measures.\"\n"
     ]
    },
    {
     "name": "stdout",
     "output_type": "stream",
     "text": [
      "[1]  0.1 40.0 17.0  3.0\n"
     ]
    },
    {
     "name": "stderr",
     "output_type": "stream",
     "text": [
      "Warning message in nominalTrainWorkflow(x = x, y = y, wts = weights, info = trainInfo, :\n",
      "\"There were missing values in resampled performance measures.\"\n"
     ]
    },
    {
     "name": "stdout",
     "output_type": "stream",
     "text": [
      "[1]  0.1 40.0 17.0  5.0\n"
     ]
    },
    {
     "name": "stderr",
     "output_type": "stream",
     "text": [
      "Warning message in nominalTrainWorkflow(x = x, y = y, wts = weights, info = trainInfo, :\n",
      "\"There were missing values in resampled performance measures.\"\n"
     ]
    },
    {
     "name": "stdout",
     "output_type": "stream",
     "text": [
      "[1]  0.1 40.0 17.0 10.0\n"
     ]
    },
    {
     "name": "stderr",
     "output_type": "stream",
     "text": [
      "Warning message in nominalTrainWorkflow(x = x, y = y, wts = weights, info = trainInfo, :\n",
      "\"There were missing values in resampled performance measures.\"\n"
     ]
    },
    {
     "name": "stdout",
     "output_type": "stream",
     "text": [
      "[1]  0.1 40.0 17.0 20.0\n",
      "[1]  0.1 40.0 17.0 30.0\n",
      "[1]  0.1 40.0 17.0 40.0\n",
      "[1]  0.1 40.0 17.0 50.0\n"
     ]
    },
    {
     "name": "stderr",
     "output_type": "stream",
     "text": [
      "Warning message in nominalTrainWorkflow(x = x, y = y, wts = weights, info = trainInfo, :\n",
      "\"There were missing values in resampled performance measures.\"\n"
     ]
    },
    {
     "name": "stdout",
     "output_type": "stream",
     "text": [
      "[1]  0.1 40.0 18.0  0.0\n",
      "note: only 2 unique complexity parameters in default grid. Truncating the grid to 2 .\n",
      "\n"
     ]
    },
    {
     "name": "stderr",
     "output_type": "stream",
     "text": [
      "Warning message in nominalTrainWorkflow(x = x, y = y, wts = weights, info = trainInfo, :\n",
      "\"There were missing values in resampled performance measures.\"\n"
     ]
    },
    {
     "name": "stdout",
     "output_type": "stream",
     "text": [
      "[1]  0.1 40.0 18.0  1.0\n",
      "note: only 3 unique complexity parameters in default grid. Truncating the grid to 3 .\n",
      "\n"
     ]
    },
    {
     "name": "stderr",
     "output_type": "stream",
     "text": [
      "Warning message in nominalTrainWorkflow(x = x, y = y, wts = weights, info = trainInfo, :\n",
      "\"There were missing values in resampled performance measures.\"\n"
     ]
    },
    {
     "name": "stdout",
     "output_type": "stream",
     "text": [
      "[1]  0.1 40.0 18.0  3.0\n"
     ]
    },
    {
     "name": "stderr",
     "output_type": "stream",
     "text": [
      "Warning message in nominalTrainWorkflow(x = x, y = y, wts = weights, info = trainInfo, :\n",
      "\"There were missing values in resampled performance measures.\"\n"
     ]
    },
    {
     "name": "stdout",
     "output_type": "stream",
     "text": [
      "[1]  0.1 40.0 18.0  5.0\n"
     ]
    },
    {
     "name": "stderr",
     "output_type": "stream",
     "text": [
      "Warning message in nominalTrainWorkflow(x = x, y = y, wts = weights, info = trainInfo, :\n",
      "\"There were missing values in resampled performance measures.\"\n"
     ]
    },
    {
     "name": "stdout",
     "output_type": "stream",
     "text": [
      "[1]  0.1 40.0 18.0 10.0\n",
      "[1]  0.1 40.0 18.0 20.0\n",
      "[1]  0.1 40.0 18.0 30.0\n",
      "[1]  0.1 40.0 18.0 40.0\n",
      "[1]  0.1 40.0 18.0 50.0\n",
      "[1]  0.1 40.0 19.0  0.0\n",
      "note: only 2 unique complexity parameters in default grid. Truncating the grid to 2 .\n",
      "\n",
      "[1]  0.1 40.0 19.0  1.0\n",
      "note: only 3 unique complexity parameters in default grid. Truncating the grid to 3 .\n",
      "\n",
      "[1]  0.1 40.0 19.0  3.0\n",
      "[1]  0.1 40.0 19.0  5.0\n",
      "[1]  0.1 40.0 19.0 10.0\n",
      "[1]  0.1 40.0 19.0 20.0\n",
      "[1]  0.1 40.0 19.0 30.0\n",
      "[1]  0.1 40.0 19.0 40.0\n",
      "[1]  0.1 40.0 19.0 50.0\n",
      "[1]  0.1 40.0 20.0  0.0\n",
      "note: only 2 unique complexity parameters in default grid. Truncating the grid to 2 .\n",
      "\n",
      "[1]  0.1 40.0 20.0  1.0\n",
      "note: only 3 unique complexity parameters in default grid. Truncating the grid to 3 .\n",
      "\n",
      "[1]  0.1 40.0 20.0  3.0\n",
      "[1]  0.1 40.0 20.0  5.0\n"
     ]
    },
    {
     "name": "stderr",
     "output_type": "stream",
     "text": [
      "Warning message in nominalTrainWorkflow(x = x, y = y, wts = weights, info = trainInfo, :\n",
      "\"There were missing values in resampled performance measures.\"\n"
     ]
    },
    {
     "name": "stdout",
     "output_type": "stream",
     "text": [
      "[1]  0.1 40.0 20.0 10.0\n",
      "[1]  0.1 40.0 20.0 20.0\n",
      "[1]  0.1 40.0 20.0 30.0\n",
      "[1]  0.1 40.0 20.0 40.0\n",
      "[1]  0.1 40.0 20.0 50.0\n",
      "[1]  0.1 40.0 21.0  0.0\n",
      "note: only 2 unique complexity parameters in default grid. Truncating the grid to 2 .\n",
      "\n"
     ]
    },
    {
     "name": "stderr",
     "output_type": "stream",
     "text": [
      "Warning message in nominalTrainWorkflow(x = x, y = y, wts = weights, info = trainInfo, :\n",
      "\"There were missing values in resampled performance measures.\"\n"
     ]
    },
    {
     "name": "stdout",
     "output_type": "stream",
     "text": [
      "[1]  0.1 40.0 21.0  1.0\n",
      "note: only 3 unique complexity parameters in default grid. Truncating the grid to 3 .\n",
      "\n"
     ]
    },
    {
     "name": "stderr",
     "output_type": "stream",
     "text": [
      "Warning message in nominalTrainWorkflow(x = x, y = y, wts = weights, info = trainInfo, :\n",
      "\"There were missing values in resampled performance measures.\"\n"
     ]
    },
    {
     "name": "stdout",
     "output_type": "stream",
     "text": [
      "[1]  0.1 40.0 21.0  3.0\n"
     ]
    },
    {
     "name": "stderr",
     "output_type": "stream",
     "text": [
      "Warning message in nominalTrainWorkflow(x = x, y = y, wts = weights, info = trainInfo, :\n",
      "\"There were missing values in resampled performance measures.\"\n"
     ]
    },
    {
     "name": "stdout",
     "output_type": "stream",
     "text": [
      "[1]  0.1 40.0 21.0  5.0\n"
     ]
    },
    {
     "name": "stderr",
     "output_type": "stream",
     "text": [
      "Warning message in nominalTrainWorkflow(x = x, y = y, wts = weights, info = trainInfo, :\n",
      "\"There were missing values in resampled performance measures.\"\n"
     ]
    },
    {
     "name": "stdout",
     "output_type": "stream",
     "text": [
      "[1]  0.1 40.0 21.0 10.0\n",
      "[1]  0.1 40.0 21.0 20.0\n",
      "[1]  0.1 40.0 21.0 30.0\n",
      "[1]  0.1 40.0 21.0 40.0\n",
      "[1]  0.1 40.0 21.0 50.0\n",
      "[1]  0.1 40.0 22.0  0.0\n",
      "note: only 2 unique complexity parameters in default grid. Truncating the grid to 2 .\n",
      "\n"
     ]
    },
    {
     "name": "stderr",
     "output_type": "stream",
     "text": [
      "Warning message in nominalTrainWorkflow(x = x, y = y, wts = weights, info = trainInfo, :\n",
      "\"There were missing values in resampled performance measures.\"\n"
     ]
    },
    {
     "name": "stdout",
     "output_type": "stream",
     "text": [
      "[1]  0.1 40.0 22.0  1.0\n",
      "note: only 3 unique complexity parameters in default grid. Truncating the grid to 3 .\n",
      "\n"
     ]
    },
    {
     "name": "stderr",
     "output_type": "stream",
     "text": [
      "Warning message in nominalTrainWorkflow(x = x, y = y, wts = weights, info = trainInfo, :\n",
      "\"There were missing values in resampled performance measures.\"\n"
     ]
    },
    {
     "name": "stdout",
     "output_type": "stream",
     "text": [
      "[1]  0.1 40.0 22.0  3.0\n"
     ]
    },
    {
     "name": "stderr",
     "output_type": "stream",
     "text": [
      "Warning message in nominalTrainWorkflow(x = x, y = y, wts = weights, info = trainInfo, :\n",
      "\"There were missing values in resampled performance measures.\"\n"
     ]
    },
    {
     "name": "stdout",
     "output_type": "stream",
     "text": [
      "[1]  0.1 40.0 22.0  5.0\n"
     ]
    },
    {
     "name": "stderr",
     "output_type": "stream",
     "text": [
      "Warning message in nominalTrainWorkflow(x = x, y = y, wts = weights, info = trainInfo, :\n",
      "\"There were missing values in resampled performance measures.\"\n"
     ]
    },
    {
     "name": "stdout",
     "output_type": "stream",
     "text": [
      "[1]  0.1 40.0 22.0 10.0\n",
      "[1]  0.1 40.0 22.0 20.0\n",
      "[1]  0.1 40.0 22.0 30.0\n",
      "[1]  0.1 40.0 22.0 40.0\n",
      "[1]  0.1 40.0 22.0 50.0\n",
      "[1]  0.1 40.0 23.0  0.0\n",
      "note: only 2 unique complexity parameters in default grid. Truncating the grid to 2 .\n",
      "\n"
     ]
    },
    {
     "name": "stderr",
     "output_type": "stream",
     "text": [
      "Warning message in nominalTrainWorkflow(x = x, y = y, wts = weights, info = trainInfo, :\n",
      "\"There were missing values in resampled performance measures.\"\n"
     ]
    },
    {
     "name": "stdout",
     "output_type": "stream",
     "text": [
      "[1]  0.1 40.0 23.0  1.0\n",
      "note: only 3 unique complexity parameters in default grid. Truncating the grid to 3 .\n",
      "\n",
      "[1]  0.1 40.0 23.0  3.0\n"
     ]
    },
    {
     "name": "stderr",
     "output_type": "stream",
     "text": [
      "Warning message in nominalTrainWorkflow(x = x, y = y, wts = weights, info = trainInfo, :\n",
      "\"There were missing values in resampled performance measures.\"\n"
     ]
    },
    {
     "name": "stdout",
     "output_type": "stream",
     "text": [
      "[1]  0.1 40.0 23.0  5.0\n"
     ]
    },
    {
     "name": "stderr",
     "output_type": "stream",
     "text": [
      "Warning message in nominalTrainWorkflow(x = x, y = y, wts = weights, info = trainInfo, :\n",
      "\"There were missing values in resampled performance measures.\"\n"
     ]
    },
    {
     "name": "stdout",
     "output_type": "stream",
     "text": [
      "[1]  0.1 40.0 23.0 10.0\n",
      "[1]  0.1 40.0 23.0 20.0\n",
      "[1]  0.1 40.0 23.0 30.0\n",
      "[1]  0.1 40.0 23.0 40.0\n",
      "[1]  0.1 40.0 23.0 50.0\n",
      "[1]  0.1 40.0 24.0  0.0\n",
      "note: only 2 unique complexity parameters in default grid. Truncating the grid to 2 .\n",
      "\n"
     ]
    },
    {
     "name": "stderr",
     "output_type": "stream",
     "text": [
      "Warning message in nominalTrainWorkflow(x = x, y = y, wts = weights, info = trainInfo, :\n",
      "\"There were missing values in resampled performance measures.\"\n"
     ]
    },
    {
     "name": "stdout",
     "output_type": "stream",
     "text": [
      "[1]  0.1 40.0 24.0  1.0\n",
      "note: only 3 unique complexity parameters in default grid. Truncating the grid to 3 .\n",
      "\n"
     ]
    },
    {
     "name": "stderr",
     "output_type": "stream",
     "text": [
      "Warning message in nominalTrainWorkflow(x = x, y = y, wts = weights, info = trainInfo, :\n",
      "\"There were missing values in resampled performance measures.\"\n"
     ]
    },
    {
     "name": "stdout",
     "output_type": "stream",
     "text": [
      "[1]  0.1 40.0 24.0  3.0\n"
     ]
    },
    {
     "name": "stderr",
     "output_type": "stream",
     "text": [
      "Warning message in nominalTrainWorkflow(x = x, y = y, wts = weights, info = trainInfo, :\n",
      "\"There were missing values in resampled performance measures.\"\n"
     ]
    },
    {
     "name": "stdout",
     "output_type": "stream",
     "text": [
      "[1]  0.1 40.0 24.0  5.0\n",
      "[1]  0.1 40.0 24.0 10.0\n",
      "[1]  0.1 40.0 24.0 20.0\n",
      "[1]  0.1 40.0 24.0 30.0\n",
      "[1]  0.1 40.0 24.0 40.0\n",
      "[1]  0.1 40.0 24.0 50.0\n",
      "[1]  0.1 40.0 25.0  0.0\n",
      "note: only 2 unique complexity parameters in default grid. Truncating the grid to 2 .\n",
      "\n"
     ]
    },
    {
     "name": "stderr",
     "output_type": "stream",
     "text": [
      "Warning message in nominalTrainWorkflow(x = x, y = y, wts = weights, info = trainInfo, :\n",
      "\"There were missing values in resampled performance measures.\"\n"
     ]
    },
    {
     "name": "stdout",
     "output_type": "stream",
     "text": [
      "[1]  0.1 40.0 25.0  1.0\n",
      "note: only 3 unique complexity parameters in default grid. Truncating the grid to 3 .\n",
      "\n"
     ]
    },
    {
     "name": "stderr",
     "output_type": "stream",
     "text": [
      "Warning message in nominalTrainWorkflow(x = x, y = y, wts = weights, info = trainInfo, :\n",
      "\"There were missing values in resampled performance measures.\"\n"
     ]
    },
    {
     "name": "stdout",
     "output_type": "stream",
     "text": [
      "[1]  0.1 40.0 25.0  3.0\n"
     ]
    },
    {
     "name": "stderr",
     "output_type": "stream",
     "text": [
      "Warning message in nominalTrainWorkflow(x = x, y = y, wts = weights, info = trainInfo, :\n",
      "\"There were missing values in resampled performance measures.\"\n"
     ]
    },
    {
     "name": "stdout",
     "output_type": "stream",
     "text": [
      "[1]  0.1 40.0 25.0  5.0\n",
      "[1]  0.1 40.0 25.0 10.0\n",
      "[1]  0.1 40.0 25.0 20.0\n",
      "[1]  0.1 40.0 25.0 30.0\n",
      "[1]  0.1 40.0 25.0 40.0\n",
      "[1]  0.1 40.0 25.0 50.0\n",
      "[1]  0.1 40.0 26.0  0.0\n",
      "note: only 2 unique complexity parameters in default grid. Truncating the grid to 2 .\n",
      "\n"
     ]
    },
    {
     "name": "stderr",
     "output_type": "stream",
     "text": [
      "Warning message in nominalTrainWorkflow(x = x, y = y, wts = weights, info = trainInfo, :\n",
      "\"There were missing values in resampled performance measures.\"\n"
     ]
    },
    {
     "name": "stdout",
     "output_type": "stream",
     "text": [
      "[1]  0.1 40.0 26.0  1.0\n",
      "note: only 3 unique complexity parameters in default grid. Truncating the grid to 3 .\n",
      "\n"
     ]
    },
    {
     "name": "stderr",
     "output_type": "stream",
     "text": [
      "Warning message in nominalTrainWorkflow(x = x, y = y, wts = weights, info = trainInfo, :\n",
      "\"There were missing values in resampled performance measures.\"\n"
     ]
    },
    {
     "name": "stdout",
     "output_type": "stream",
     "text": [
      "[1]  0.1 40.0 26.0  3.0\n",
      "[1]  0.1 40.0 26.0  5.0\n",
      "[1]  0.1 40.0 26.0 10.0\n",
      "[1]  0.1 40.0 26.0 20.0\n",
      "[1]  0.1 40.0 26.0 30.0\n",
      "[1]  0.1 40.0 26.0 40.0\n",
      "[1]  0.1 40.0 26.0 50.0\n",
      "[1]  0.1 40.0 27.0  0.0\n",
      "note: only 2 unique complexity parameters in default grid. Truncating the grid to 2 .\n",
      "\n",
      "[1]  0.1 40.0 27.0  1.0\n",
      "note: only 3 unique complexity parameters in default grid. Truncating the grid to 3 .\n",
      "\n"
     ]
    },
    {
     "name": "stderr",
     "output_type": "stream",
     "text": [
      "Warning message in nominalTrainWorkflow(x = x, y = y, wts = weights, info = trainInfo, :\n",
      "\"There were missing values in resampled performance measures.\"\n"
     ]
    },
    {
     "name": "stdout",
     "output_type": "stream",
     "text": [
      "[1]  0.1 40.0 27.0  3.0\n",
      "[1]  0.1 40.0 27.0  5.0\n",
      "[1]  0.1 40.0 27.0 10.0\n",
      "[1]  0.1 40.0 27.0 20.0\n",
      "[1]  0.1 40.0 27.0 30.0\n",
      "[1]  0.1 40.0 27.0 40.0\n",
      "[1]  0.1 40.0 27.0 50.0\n",
      "[1]  0.1 40.0 28.0  0.0\n",
      "note: only 2 unique complexity parameters in default grid. Truncating the grid to 2 .\n",
      "\n"
     ]
    },
    {
     "name": "stderr",
     "output_type": "stream",
     "text": [
      "Warning message in nominalTrainWorkflow(x = x, y = y, wts = weights, info = trainInfo, :\n",
      "\"There were missing values in resampled performance measures.\"\n"
     ]
    },
    {
     "name": "stdout",
     "output_type": "stream",
     "text": [
      "[1]  0.1 40.0 28.0  1.0\n",
      "note: only 3 unique complexity parameters in default grid. Truncating the grid to 3 .\n",
      "\n",
      "[1]  0.1 40.0 28.0  3.0\n",
      "[1]  0.1 40.0 28.0  5.0\n",
      "[1]  0.1 40.0 28.0 10.0\n",
      "[1]  0.1 40.0 28.0 20.0\n",
      "[1]  0.1 40.0 28.0 30.0\n",
      "[1]  0.1 40.0 28.0 40.0\n",
      "[1]  0.1 40.0 28.0 50.0\n",
      "[1]  0.1 40.0 29.0  0.0\n",
      "note: only 2 unique complexity parameters in default grid. Truncating the grid to 2 .\n",
      "\n"
     ]
    },
    {
     "name": "stderr",
     "output_type": "stream",
     "text": [
      "Warning message in nominalTrainWorkflow(x = x, y = y, wts = weights, info = trainInfo, :\n",
      "\"There were missing values in resampled performance measures.\"\n"
     ]
    },
    {
     "name": "stdout",
     "output_type": "stream",
     "text": [
      "[1]  0.1 40.0 29.0  1.0\n",
      "note: only 3 unique complexity parameters in default grid. Truncating the grid to 3 .\n",
      "\n"
     ]
    },
    {
     "name": "stderr",
     "output_type": "stream",
     "text": [
      "Warning message in nominalTrainWorkflow(x = x, y = y, wts = weights, info = trainInfo, :\n",
      "\"There were missing values in resampled performance measures.\"\n"
     ]
    },
    {
     "name": "stdout",
     "output_type": "stream",
     "text": [
      "[1]  0.1 40.0 29.0  3.0\n"
     ]
    },
    {
     "name": "stderr",
     "output_type": "stream",
     "text": [
      "Warning message in nominalTrainWorkflow(x = x, y = y, wts = weights, info = trainInfo, :\n",
      "\"There were missing values in resampled performance measures.\"\n"
     ]
    },
    {
     "name": "stdout",
     "output_type": "stream",
     "text": [
      "[1]  0.1 40.0 29.0  5.0\n",
      "[1]  0.1 40.0 29.0 10.0\n"
     ]
    },
    {
     "name": "stderr",
     "output_type": "stream",
     "text": [
      "Warning message in nominalTrainWorkflow(x = x, y = y, wts = weights, info = trainInfo, :\n",
      "\"There were missing values in resampled performance measures.\"\n"
     ]
    },
    {
     "name": "stdout",
     "output_type": "stream",
     "text": [
      "[1]  0.1 40.0 29.0 20.0\n",
      "[1]  0.1 40.0 29.0 30.0\n",
      "[1]  0.1 40.0 29.0 40.0\n",
      "[1]  0.1 40.0 29.0 50.0\n",
      "[1]  0.1 40.0 30.0  0.0\n",
      "note: only 2 unique complexity parameters in default grid. Truncating the grid to 2 .\n",
      "\n"
     ]
    },
    {
     "name": "stderr",
     "output_type": "stream",
     "text": [
      "Warning message in nominalTrainWorkflow(x = x, y = y, wts = weights, info = trainInfo, :\n",
      "\"There were missing values in resampled performance measures.\"\n"
     ]
    },
    {
     "name": "stdout",
     "output_type": "stream",
     "text": [
      "[1]  0.1 40.0 30.0  1.0\n",
      "note: only 3 unique complexity parameters in default grid. Truncating the grid to 3 .\n",
      "\n"
     ]
    },
    {
     "name": "stderr",
     "output_type": "stream",
     "text": [
      "Warning message in nominalTrainWorkflow(x = x, y = y, wts = weights, info = trainInfo, :\n",
      "\"There were missing values in resampled performance measures.\"\n"
     ]
    },
    {
     "name": "stdout",
     "output_type": "stream",
     "text": [
      "[1]  0.1 40.0 30.0  3.0\n"
     ]
    },
    {
     "name": "stderr",
     "output_type": "stream",
     "text": [
      "Warning message in nominalTrainWorkflow(x = x, y = y, wts = weights, info = trainInfo, :\n",
      "\"There were missing values in resampled performance measures.\"\n"
     ]
    },
    {
     "name": "stdout",
     "output_type": "stream",
     "text": [
      "[1]  0.1 40.0 30.0  5.0\n"
     ]
    },
    {
     "name": "stderr",
     "output_type": "stream",
     "text": [
      "Warning message in nominalTrainWorkflow(x = x, y = y, wts = weights, info = trainInfo, :\n",
      "\"There were missing values in resampled performance measures.\"\n"
     ]
    },
    {
     "name": "stdout",
     "output_type": "stream",
     "text": [
      "[1]  0.1 40.0 30.0 10.0\n",
      "[1]  0.1 40.0 30.0 20.0\n",
      "[1]  0.1 40.0 30.0 30.0\n",
      "[1]  0.1 40.0 30.0 40.0\n",
      "[1]  0.1 40.0 30.0 50.0\n",
      "[1]  0.1 50.0  1.0  0.0\n",
      "note: only 2 unique complexity parameters in default grid. Truncating the grid to 2 .\n",
      "\n"
     ]
    },
    {
     "name": "stderr",
     "output_type": "stream",
     "text": [
      "Warning message in nominalTrainWorkflow(x = x, y = y, wts = weights, info = trainInfo, :\n",
      "\"There were missing values in resampled performance measures.\"\n"
     ]
    },
    {
     "name": "stdout",
     "output_type": "stream",
     "text": [
      "[1]  0.1 50.0  1.0  1.0\n",
      "note: only 3 unique complexity parameters in default grid. Truncating the grid to 3 .\n",
      "\n"
     ]
    },
    {
     "name": "stderr",
     "output_type": "stream",
     "text": [
      "Warning message in nominalTrainWorkflow(x = x, y = y, wts = weights, info = trainInfo, :\n",
      "\"There were missing values in resampled performance measures.\"\n"
     ]
    },
    {
     "name": "stdout",
     "output_type": "stream",
     "text": [
      "[1]  0.1 50.0  1.0  3.0\n"
     ]
    },
    {
     "name": "stderr",
     "output_type": "stream",
     "text": [
      "Warning message in nominalTrainWorkflow(x = x, y = y, wts = weights, info = trainInfo, :\n",
      "\"There were missing values in resampled performance measures.\"\n"
     ]
    },
    {
     "name": "stdout",
     "output_type": "stream",
     "text": [
      "[1]  0.1 50.0  1.0  5.0\n"
     ]
    },
    {
     "name": "stderr",
     "output_type": "stream",
     "text": [
      "Warning message in nominalTrainWorkflow(x = x, y = y, wts = weights, info = trainInfo, :\n",
      "\"There were missing values in resampled performance measures.\"\n"
     ]
    },
    {
     "name": "stdout",
     "output_type": "stream",
     "text": [
      "[1]  0.1 50.0  1.0 10.0\n",
      "[1]  0.1 50.0  1.0 20.0\n",
      "[1]  0.1 50.0  1.0 30.0\n",
      "[1]  0.1 50.0  1.0 40.0\n",
      "[1]  0.1 50.0  1.0 50.0\n",
      "[1]  0.1 50.0  2.0  0.0\n",
      "note: only 2 unique complexity parameters in default grid. Truncating the grid to 2 .\n",
      "\n",
      "[1]  0.1 50.0  2.0  1.0\n",
      "note: only 3 unique complexity parameters in default grid. Truncating the grid to 3 .\n",
      "\n"
     ]
    },
    {
     "name": "stderr",
     "output_type": "stream",
     "text": [
      "Warning message in nominalTrainWorkflow(x = x, y = y, wts = weights, info = trainInfo, :\n",
      "\"There were missing values in resampled performance measures.\"\n"
     ]
    },
    {
     "name": "stdout",
     "output_type": "stream",
     "text": [
      "[1]  0.1 50.0  2.0  3.0\n"
     ]
    },
    {
     "name": "stderr",
     "output_type": "stream",
     "text": [
      "Warning message in nominalTrainWorkflow(x = x, y = y, wts = weights, info = trainInfo, :\n",
      "\"There were missing values in resampled performance measures.\"\n"
     ]
    },
    {
     "name": "stdout",
     "output_type": "stream",
     "text": [
      "[1]  0.1 50.0  2.0  5.0\n",
      "[1]  0.1 50.0  2.0 10.0\n",
      "[1]  0.1 50.0  2.0 20.0\n",
      "[1]  0.1 50.0  2.0 30.0\n",
      "[1]  0.1 50.0  2.0 40.0\n",
      "[1]  0.1 50.0  2.0 50.0\n",
      "[1]  0.1 50.0  3.0  0.0\n",
      "note: only 2 unique complexity parameters in default grid. Truncating the grid to 2 .\n",
      "\n"
     ]
    },
    {
     "name": "stderr",
     "output_type": "stream",
     "text": [
      "Warning message in nominalTrainWorkflow(x = x, y = y, wts = weights, info = trainInfo, :\n",
      "\"There were missing values in resampled performance measures.\"\n"
     ]
    },
    {
     "name": "stdout",
     "output_type": "stream",
     "text": [
      "[1]  0.1 50.0  3.0  1.0\n",
      "note: only 3 unique complexity parameters in default grid. Truncating the grid to 3 .\n",
      "\n"
     ]
    },
    {
     "name": "stderr",
     "output_type": "stream",
     "text": [
      "Warning message in nominalTrainWorkflow(x = x, y = y, wts = weights, info = trainInfo, :\n",
      "\"There were missing values in resampled performance measures.\"\n"
     ]
    },
    {
     "name": "stdout",
     "output_type": "stream",
     "text": [
      "[1]  0.1 50.0  3.0  3.0\n"
     ]
    },
    {
     "name": "stderr",
     "output_type": "stream",
     "text": [
      "Warning message in nominalTrainWorkflow(x = x, y = y, wts = weights, info = trainInfo, :\n",
      "\"There were missing values in resampled performance measures.\"\n"
     ]
    },
    {
     "name": "stdout",
     "output_type": "stream",
     "text": [
      "[1]  0.1 50.0  3.0  5.0\n"
     ]
    },
    {
     "name": "stderr",
     "output_type": "stream",
     "text": [
      "Warning message in nominalTrainWorkflow(x = x, y = y, wts = weights, info = trainInfo, :\n",
      "\"There were missing values in resampled performance measures.\"\n"
     ]
    },
    {
     "name": "stdout",
     "output_type": "stream",
     "text": [
      "[1]  0.1 50.0  3.0 10.0\n"
     ]
    },
    {
     "name": "stderr",
     "output_type": "stream",
     "text": [
      "Warning message in nominalTrainWorkflow(x = x, y = y, wts = weights, info = trainInfo, :\n",
      "\"There were missing values in resampled performance measures.\"\n"
     ]
    },
    {
     "name": "stdout",
     "output_type": "stream",
     "text": [
      "[1]  0.1 50.0  3.0 20.0\n",
      "[1]  0.1 50.0  3.0 30.0\n",
      "[1]  0.1 50.0  3.0 40.0\n",
      "[1]  0.1 50.0  3.0 50.0\n",
      "[1]  0.1 50.0  4.0  0.0\n",
      "note: only 2 unique complexity parameters in default grid. Truncating the grid to 2 .\n",
      "\n",
      "[1]  0.1 50.0  4.0  1.0\n",
      "note: only 3 unique complexity parameters in default grid. Truncating the grid to 3 .\n",
      "\n"
     ]
    },
    {
     "name": "stderr",
     "output_type": "stream",
     "text": [
      "Warning message in nominalTrainWorkflow(x = x, y = y, wts = weights, info = trainInfo, :\n",
      "\"There were missing values in resampled performance measures.\"\n"
     ]
    },
    {
     "name": "stdout",
     "output_type": "stream",
     "text": [
      "[1]  0.1 50.0  4.0  3.0\n"
     ]
    },
    {
     "name": "stderr",
     "output_type": "stream",
     "text": [
      "Warning message in nominalTrainWorkflow(x = x, y = y, wts = weights, info = trainInfo, :\n",
      "\"There were missing values in resampled performance measures.\"\n"
     ]
    },
    {
     "name": "stdout",
     "output_type": "stream",
     "text": [
      "[1]  0.1 50.0  4.0  5.0\n",
      "[1]  0.1 50.0  4.0 10.0\n",
      "[1]  0.1 50.0  4.0 20.0\n",
      "[1]  0.1 50.0  4.0 30.0\n",
      "[1]  0.1 50.0  4.0 40.0\n",
      "[1]  0.1 50.0  4.0 50.0\n",
      "[1]  0.1 50.0  5.0  0.0\n",
      "note: only 2 unique complexity parameters in default grid. Truncating the grid to 2 .\n",
      "\n"
     ]
    },
    {
     "name": "stderr",
     "output_type": "stream",
     "text": [
      "Warning message in nominalTrainWorkflow(x = x, y = y, wts = weights, info = trainInfo, :\n",
      "\"There were missing values in resampled performance measures.\"\n"
     ]
    },
    {
     "name": "stdout",
     "output_type": "stream",
     "text": [
      "[1]  0.1 50.0  5.0  1.0\n",
      "note: only 3 unique complexity parameters in default grid. Truncating the grid to 3 .\n",
      "\n"
     ]
    },
    {
     "name": "stderr",
     "output_type": "stream",
     "text": [
      "Warning message in nominalTrainWorkflow(x = x, y = y, wts = weights, info = trainInfo, :\n",
      "\"There were missing values in resampled performance measures.\"\n"
     ]
    },
    {
     "name": "stdout",
     "output_type": "stream",
     "text": [
      "[1]  0.1 50.0  5.0  3.0\n"
     ]
    },
    {
     "name": "stderr",
     "output_type": "stream",
     "text": [
      "Warning message in nominalTrainWorkflow(x = x, y = y, wts = weights, info = trainInfo, :\n",
      "\"There were missing values in resampled performance measures.\"\n"
     ]
    },
    {
     "name": "stdout",
     "output_type": "stream",
     "text": [
      "[1]  0.1 50.0  5.0  5.0\n"
     ]
    },
    {
     "name": "stderr",
     "output_type": "stream",
     "text": [
      "Warning message in nominalTrainWorkflow(x = x, y = y, wts = weights, info = trainInfo, :\n",
      "\"There were missing values in resampled performance measures.\"\n"
     ]
    },
    {
     "name": "stdout",
     "output_type": "stream",
     "text": [
      "[1]  0.1 50.0  5.0 10.0\n"
     ]
    },
    {
     "name": "stderr",
     "output_type": "stream",
     "text": [
      "Warning message in nominalTrainWorkflow(x = x, y = y, wts = weights, info = trainInfo, :\n",
      "\"There were missing values in resampled performance measures.\"\n"
     ]
    },
    {
     "name": "stdout",
     "output_type": "stream",
     "text": [
      "[1]  0.1 50.0  5.0 20.0\n",
      "[1]  0.1 50.0  5.0 30.0\n",
      "[1]  0.1 50.0  5.0 40.0\n"
     ]
    },
    {
     "name": "stderr",
     "output_type": "stream",
     "text": [
      "Warning message in nominalTrainWorkflow(x = x, y = y, wts = weights, info = trainInfo, :\n",
      "\"There were missing values in resampled performance measures.\"\n"
     ]
    },
    {
     "name": "stdout",
     "output_type": "stream",
     "text": [
      "[1]  0.1 50.0  5.0 50.0\n",
      "[1]  0.1 50.0  6.0  0.0\n",
      "note: only 2 unique complexity parameters in default grid. Truncating the grid to 2 .\n",
      "\n"
     ]
    },
    {
     "name": "stderr",
     "output_type": "stream",
     "text": [
      "Warning message in nominalTrainWorkflow(x = x, y = y, wts = weights, info = trainInfo, :\n",
      "\"There were missing values in resampled performance measures.\"\n"
     ]
    },
    {
     "name": "stdout",
     "output_type": "stream",
     "text": [
      "[1]  0.1 50.0  6.0  1.0\n",
      "note: only 3 unique complexity parameters in default grid. Truncating the grid to 3 .\n",
      "\n"
     ]
    },
    {
     "name": "stderr",
     "output_type": "stream",
     "text": [
      "Warning message in nominalTrainWorkflow(x = x, y = y, wts = weights, info = trainInfo, :\n",
      "\"There were missing values in resampled performance measures.\"\n"
     ]
    },
    {
     "name": "stdout",
     "output_type": "stream",
     "text": [
      "[1]  0.1 50.0  6.0  3.0\n",
      "[1]  0.1 50.0  6.0  5.0\n",
      "[1]  0.1 50.0  6.0 10.0\n",
      "[1]  0.1 50.0  6.0 20.0\n",
      "[1]  0.1 50.0  6.0 30.0\n",
      "[1]  0.1 50.0  6.0 40.0\n",
      "[1]  0.1 50.0  6.0 50.0\n",
      "[1]  0.1 50.0  7.0  0.0\n",
      "note: only 2 unique complexity parameters in default grid. Truncating the grid to 2 .\n",
      "\n"
     ]
    },
    {
     "name": "stderr",
     "output_type": "stream",
     "text": [
      "Warning message in nominalTrainWorkflow(x = x, y = y, wts = weights, info = trainInfo, :\n",
      "\"There were missing values in resampled performance measures.\"\n"
     ]
    },
    {
     "name": "stdout",
     "output_type": "stream",
     "text": [
      "[1]  0.1 50.0  7.0  1.0\n",
      "note: only 3 unique complexity parameters in default grid. Truncating the grid to 3 .\n",
      "\n"
     ]
    },
    {
     "name": "stderr",
     "output_type": "stream",
     "text": [
      "Warning message in nominalTrainWorkflow(x = x, y = y, wts = weights, info = trainInfo, :\n",
      "\"There were missing values in resampled performance measures.\"\n"
     ]
    },
    {
     "name": "stdout",
     "output_type": "stream",
     "text": [
      "[1]  0.1 50.0  7.0  3.0\n"
     ]
    },
    {
     "name": "stderr",
     "output_type": "stream",
     "text": [
      "Warning message in nominalTrainWorkflow(x = x, y = y, wts = weights, info = trainInfo, :\n",
      "\"There were missing values in resampled performance measures.\"\n"
     ]
    },
    {
     "name": "stdout",
     "output_type": "stream",
     "text": [
      "[1]  0.1 50.0  7.0  5.0\n",
      "[1]  0.1 50.0  7.0 10.0\n",
      "[1]  0.1 50.0  7.0 20.0\n",
      "[1]  0.1 50.0  7.0 30.0\n",
      "[1]  0.1 50.0  7.0 40.0\n",
      "[1]  0.1 50.0  7.0 50.0\n",
      "[1]  0.1 50.0  8.0  0.0\n",
      "note: only 2 unique complexity parameters in default grid. Truncating the grid to 2 .\n",
      "\n"
     ]
    },
    {
     "name": "stderr",
     "output_type": "stream",
     "text": [
      "Warning message in nominalTrainWorkflow(x = x, y = y, wts = weights, info = trainInfo, :\n",
      "\"There were missing values in resampled performance measures.\"\n"
     ]
    },
    {
     "name": "stdout",
     "output_type": "stream",
     "text": [
      "[1]  0.1 50.0  8.0  1.0\n",
      "note: only 3 unique complexity parameters in default grid. Truncating the grid to 3 .\n",
      "\n",
      "[1]  0.1 50.0  8.0  3.0\n"
     ]
    },
    {
     "name": "stderr",
     "output_type": "stream",
     "text": [
      "Warning message in nominalTrainWorkflow(x = x, y = y, wts = weights, info = trainInfo, :\n",
      "\"There were missing values in resampled performance measures.\"\n"
     ]
    },
    {
     "name": "stdout",
     "output_type": "stream",
     "text": [
      "[1]  0.1 50.0  8.0  5.0\n",
      "[1]  0.1 50.0  8.0 10.0\n"
     ]
    },
    {
     "name": "stderr",
     "output_type": "stream",
     "text": [
      "Warning message in nominalTrainWorkflow(x = x, y = y, wts = weights, info = trainInfo, :\n",
      "\"There were missing values in resampled performance measures.\"\n"
     ]
    },
    {
     "name": "stdout",
     "output_type": "stream",
     "text": [
      "[1]  0.1 50.0  8.0 20.0\n",
      "[1]  0.1 50.0  8.0 30.0\n",
      "[1]  0.1 50.0  8.0 40.0\n",
      "[1]  0.1 50.0  8.0 50.0\n",
      "[1]  0.1 50.0  9.0  0.0\n",
      "note: only 2 unique complexity parameters in default grid. Truncating the grid to 2 .\n",
      "\n"
     ]
    },
    {
     "name": "stderr",
     "output_type": "stream",
     "text": [
      "Warning message in nominalTrainWorkflow(x = x, y = y, wts = weights, info = trainInfo, :\n",
      "\"There were missing values in resampled performance measures.\"\n"
     ]
    },
    {
     "name": "stdout",
     "output_type": "stream",
     "text": [
      "[1]  0.1 50.0  9.0  1.0\n",
      "note: only 3 unique complexity parameters in default grid. Truncating the grid to 3 .\n",
      "\n"
     ]
    },
    {
     "name": "stderr",
     "output_type": "stream",
     "text": [
      "Warning message in nominalTrainWorkflow(x = x, y = y, wts = weights, info = trainInfo, :\n",
      "\"There were missing values in resampled performance measures.\"\n"
     ]
    },
    {
     "name": "stdout",
     "output_type": "stream",
     "text": [
      "[1]  0.1 50.0  9.0  3.0\n",
      "[1]  0.1 50.0  9.0  5.0\n"
     ]
    },
    {
     "name": "stderr",
     "output_type": "stream",
     "text": [
      "Warning message in nominalTrainWorkflow(x = x, y = y, wts = weights, info = trainInfo, :\n",
      "\"There were missing values in resampled performance measures.\"\n"
     ]
    },
    {
     "name": "stdout",
     "output_type": "stream",
     "text": [
      "[1]  0.1 50.0  9.0 10.0\n"
     ]
    },
    {
     "name": "stderr",
     "output_type": "stream",
     "text": [
      "Warning message in nominalTrainWorkflow(x = x, y = y, wts = weights, info = trainInfo, :\n",
      "\"There were missing values in resampled performance measures.\"\n"
     ]
    },
    {
     "name": "stdout",
     "output_type": "stream",
     "text": [
      "[1]  0.1 50.0  9.0 20.0\n",
      "[1]  0.1 50.0  9.0 30.0\n",
      "[1]  0.1 50.0  9.0 40.0\n",
      "[1]  0.1 50.0  9.0 50.0\n",
      "[1]  0.1 50.0 10.0  0.0\n",
      "note: only 2 unique complexity parameters in default grid. Truncating the grid to 2 .\n",
      "\n",
      "[1]  0.1 50.0 10.0  1.0\n",
      "note: only 3 unique complexity parameters in default grid. Truncating the grid to 3 .\n",
      "\n"
     ]
    },
    {
     "name": "stderr",
     "output_type": "stream",
     "text": [
      "Warning message in nominalTrainWorkflow(x = x, y = y, wts = weights, info = trainInfo, :\n",
      "\"There were missing values in resampled performance measures.\"\n"
     ]
    },
    {
     "name": "stdout",
     "output_type": "stream",
     "text": [
      "[1]  0.1 50.0 10.0  3.0\n",
      "[1]  0.1 50.0 10.0  5.0\n",
      "[1]  0.1 50.0 10.0 10.0\n",
      "[1]  0.1 50.0 10.0 20.0\n",
      "[1]  0.1 50.0 10.0 30.0\n",
      "[1]  0.1 50.0 10.0 40.0\n",
      "[1]  0.1 50.0 10.0 50.0\n",
      "[1]  0.1 50.0 11.0  0.0\n",
      "note: only 2 unique complexity parameters in default grid. Truncating the grid to 2 .\n",
      "\n"
     ]
    },
    {
     "name": "stderr",
     "output_type": "stream",
     "text": [
      "Warning message in nominalTrainWorkflow(x = x, y = y, wts = weights, info = trainInfo, :\n",
      "\"There were missing values in resampled performance measures.\"\n"
     ]
    },
    {
     "name": "stdout",
     "output_type": "stream",
     "text": [
      "[1]  0.1 50.0 11.0  1.0\n",
      "note: only 3 unique complexity parameters in default grid. Truncating the grid to 3 .\n",
      "\n",
      "[1]  0.1 50.0 11.0  3.0\n"
     ]
    },
    {
     "name": "stderr",
     "output_type": "stream",
     "text": [
      "Warning message in nominalTrainWorkflow(x = x, y = y, wts = weights, info = trainInfo, :\n",
      "\"There were missing values in resampled performance measures.\"\n"
     ]
    },
    {
     "name": "stdout",
     "output_type": "stream",
     "text": [
      "[1]  0.1 50.0 11.0  5.0\n",
      "[1]  0.1 50.0 11.0 10.0\n",
      "[1]  0.1 50.0 11.0 20.0\n",
      "[1]  0.1 50.0 11.0 30.0\n",
      "[1]  0.1 50.0 11.0 40.0\n",
      "[1]  0.1 50.0 11.0 50.0\n",
      "[1]  0.1 50.0 12.0  0.0\n",
      "note: only 2 unique complexity parameters in default grid. Truncating the grid to 2 .\n",
      "\n"
     ]
    },
    {
     "name": "stderr",
     "output_type": "stream",
     "text": [
      "Warning message in nominalTrainWorkflow(x = x, y = y, wts = weights, info = trainInfo, :\n",
      "\"There were missing values in resampled performance measures.\"\n"
     ]
    },
    {
     "name": "stdout",
     "output_type": "stream",
     "text": [
      "[1]  0.1 50.0 12.0  1.0\n",
      "note: only 3 unique complexity parameters in default grid. Truncating the grid to 3 .\n",
      "\n"
     ]
    },
    {
     "name": "stderr",
     "output_type": "stream",
     "text": [
      "Warning message in nominalTrainWorkflow(x = x, y = y, wts = weights, info = trainInfo, :\n",
      "\"There were missing values in resampled performance measures.\"\n"
     ]
    },
    {
     "name": "stdout",
     "output_type": "stream",
     "text": [
      "[1]  0.1 50.0 12.0  3.0\n",
      "[1]  0.1 50.0 12.0  5.0\n",
      "[1]  0.1 50.0 12.0 10.0\n",
      "[1]  0.1 50.0 12.0 20.0\n",
      "[1]  0.1 50.0 12.0 30.0\n",
      "[1]  0.1 50.0 12.0 40.0\n",
      "[1]  0.1 50.0 12.0 50.0\n",
      "[1]  0.1 50.0 13.0  0.0\n",
      "note: only 2 unique complexity parameters in default grid. Truncating the grid to 2 .\n",
      "\n",
      "[1]  0.1 50.0 13.0  1.0\n",
      "note: only 3 unique complexity parameters in default grid. Truncating the grid to 3 .\n",
      "\n",
      "[1]  0.1 50.0 13.0  3.0\n",
      "[1]  0.1 50.0 13.0  5.0\n",
      "[1]  0.1 50.0 13.0 10.0\n",
      "[1]  0.1 50.0 13.0 20.0\n",
      "[1]  0.1 50.0 13.0 30.0\n",
      "[1]  0.1 50.0 13.0 40.0\n",
      "[1]  0.1 50.0 13.0 50.0\n",
      "[1]  0.1 50.0 14.0  0.0\n",
      "note: only 2 unique complexity parameters in default grid. Truncating the grid to 2 .\n",
      "\n"
     ]
    },
    {
     "name": "stderr",
     "output_type": "stream",
     "text": [
      "Warning message in nominalTrainWorkflow(x = x, y = y, wts = weights, info = trainInfo, :\n",
      "\"There were missing values in resampled performance measures.\"\n"
     ]
    },
    {
     "name": "stdout",
     "output_type": "stream",
     "text": [
      "[1]  0.1 50.0 14.0  1.0\n",
      "note: only 3 unique complexity parameters in default grid. Truncating the grid to 3 .\n",
      "\n",
      "[1]  0.1 50.0 14.0  3.0\n"
     ]
    },
    {
     "name": "stderr",
     "output_type": "stream",
     "text": [
      "Warning message in nominalTrainWorkflow(x = x, y = y, wts = weights, info = trainInfo, :\n",
      "\"There were missing values in resampled performance measures.\"\n"
     ]
    },
    {
     "name": "stdout",
     "output_type": "stream",
     "text": [
      "[1]  0.1 50.0 14.0  5.0\n"
     ]
    },
    {
     "name": "stderr",
     "output_type": "stream",
     "text": [
      "Warning message in nominalTrainWorkflow(x = x, y = y, wts = weights, info = trainInfo, :\n",
      "\"There were missing values in resampled performance measures.\"\n"
     ]
    },
    {
     "name": "stdout",
     "output_type": "stream",
     "text": [
      "[1]  0.1 50.0 14.0 10.0\n",
      "[1]  0.1 50.0 14.0 20.0\n",
      "[1]  0.1 50.0 14.0 30.0\n",
      "[1]  0.1 50.0 14.0 40.0\n",
      "[1]  0.1 50.0 14.0 50.0\n",
      "[1]  0.1 50.0 15.0  0.0\n",
      "note: only 2 unique complexity parameters in default grid. Truncating the grid to 2 .\n",
      "\n"
     ]
    },
    {
     "name": "stderr",
     "output_type": "stream",
     "text": [
      "Warning message in nominalTrainWorkflow(x = x, y = y, wts = weights, info = trainInfo, :\n",
      "\"There were missing values in resampled performance measures.\"\n"
     ]
    },
    {
     "name": "stdout",
     "output_type": "stream",
     "text": [
      "[1]  0.1 50.0 15.0  1.0\n",
      "note: only 3 unique complexity parameters in default grid. Truncating the grid to 3 .\n",
      "\n",
      "[1]  0.1 50.0 15.0  3.0\n"
     ]
    },
    {
     "name": "stderr",
     "output_type": "stream",
     "text": [
      "Warning message in nominalTrainWorkflow(x = x, y = y, wts = weights, info = trainInfo, :\n",
      "\"There were missing values in resampled performance measures.\"\n"
     ]
    },
    {
     "name": "stdout",
     "output_type": "stream",
     "text": [
      "[1]  0.1 50.0 15.0  5.0\n",
      "[1]  0.1 50.0 15.0 10.0\n",
      "[1]  0.1 50.0 15.0 20.0\n",
      "[1]  0.1 50.0 15.0 30.0\n",
      "[1]  0.1 50.0 15.0 40.0\n",
      "[1]  0.1 50.0 15.0 50.0\n",
      "[1]  0.1 50.0 16.0  0.0\n",
      "note: only 2 unique complexity parameters in default grid. Truncating the grid to 2 .\n",
      "\n"
     ]
    },
    {
     "name": "stderr",
     "output_type": "stream",
     "text": [
      "Warning message in nominalTrainWorkflow(x = x, y = y, wts = weights, info = trainInfo, :\n",
      "\"There were missing values in resampled performance measures.\"\n"
     ]
    },
    {
     "name": "stdout",
     "output_type": "stream",
     "text": [
      "[1]  0.1 50.0 16.0  1.0\n",
      "note: only 3 unique complexity parameters in default grid. Truncating the grid to 3 .\n",
      "\n"
     ]
    },
    {
     "name": "stderr",
     "output_type": "stream",
     "text": [
      "Warning message in nominalTrainWorkflow(x = x, y = y, wts = weights, info = trainInfo, :\n",
      "\"There were missing values in resampled performance measures.\"\n"
     ]
    },
    {
     "name": "stdout",
     "output_type": "stream",
     "text": [
      "[1]  0.1 50.0 16.0  3.0\n",
      "[1]  0.1 50.0 16.0  5.0\n",
      "[1]  0.1 50.0 16.0 10.0\n",
      "[1]  0.1 50.0 16.0 20.0\n",
      "[1]  0.1 50.0 16.0 30.0\n",
      "[1]  0.1 50.0 16.0 40.0\n",
      "[1]  0.1 50.0 16.0 50.0\n",
      "[1]  0.1 50.0 17.0  0.0\n",
      "note: only 2 unique complexity parameters in default grid. Truncating the grid to 2 .\n",
      "\n"
     ]
    },
    {
     "name": "stderr",
     "output_type": "stream",
     "text": [
      "Warning message in nominalTrainWorkflow(x = x, y = y, wts = weights, info = trainInfo, :\n",
      "\"There were missing values in resampled performance measures.\"\n"
     ]
    },
    {
     "name": "stdout",
     "output_type": "stream",
     "text": [
      "[1]  0.1 50.0 17.0  1.0\n",
      "note: only 3 unique complexity parameters in default grid. Truncating the grid to 3 .\n",
      "\n"
     ]
    },
    {
     "name": "stderr",
     "output_type": "stream",
     "text": [
      "Warning message in nominalTrainWorkflow(x = x, y = y, wts = weights, info = trainInfo, :\n",
      "\"There were missing values in resampled performance measures.\"\n"
     ]
    },
    {
     "name": "stdout",
     "output_type": "stream",
     "text": [
      "[1]  0.1 50.0 17.0  3.0\n"
     ]
    },
    {
     "name": "stderr",
     "output_type": "stream",
     "text": [
      "Warning message in nominalTrainWorkflow(x = x, y = y, wts = weights, info = trainInfo, :\n",
      "\"There were missing values in resampled performance measures.\"\n"
     ]
    },
    {
     "name": "stdout",
     "output_type": "stream",
     "text": [
      "[1]  0.1 50.0 17.0  5.0\n",
      "[1]  0.1 50.0 17.0 10.0\n",
      "[1]  0.1 50.0 17.0 20.0\n",
      "[1]  0.1 50.0 17.0 30.0\n",
      "[1]  0.1 50.0 17.0 40.0\n",
      "[1]  0.1 50.0 17.0 50.0\n",
      "[1]  0.1 50.0 18.0  0.0\n",
      "note: only 2 unique complexity parameters in default grid. Truncating the grid to 2 .\n",
      "\n"
     ]
    },
    {
     "name": "stderr",
     "output_type": "stream",
     "text": [
      "Warning message in nominalTrainWorkflow(x = x, y = y, wts = weights, info = trainInfo, :\n",
      "\"There were missing values in resampled performance measures.\"\n"
     ]
    },
    {
     "name": "stdout",
     "output_type": "stream",
     "text": [
      "[1]  0.1 50.0 18.0  1.0\n",
      "note: only 3 unique complexity parameters in default grid. Truncating the grid to 3 .\n",
      "\n"
     ]
    },
    {
     "name": "stderr",
     "output_type": "stream",
     "text": [
      "Warning message in nominalTrainWorkflow(x = x, y = y, wts = weights, info = trainInfo, :\n",
      "\"There were missing values in resampled performance measures.\"\n"
     ]
    },
    {
     "name": "stdout",
     "output_type": "stream",
     "text": [
      "[1]  0.1 50.0 18.0  3.0\n"
     ]
    },
    {
     "name": "stderr",
     "output_type": "stream",
     "text": [
      "Warning message in nominalTrainWorkflow(x = x, y = y, wts = weights, info = trainInfo, :\n",
      "\"There were missing values in resampled performance measures.\"\n"
     ]
    },
    {
     "name": "stdout",
     "output_type": "stream",
     "text": [
      "[1]  0.1 50.0 18.0  5.0\n"
     ]
    },
    {
     "name": "stderr",
     "output_type": "stream",
     "text": [
      "Warning message in nominalTrainWorkflow(x = x, y = y, wts = weights, info = trainInfo, :\n",
      "\"There were missing values in resampled performance measures.\"\n"
     ]
    },
    {
     "name": "stdout",
     "output_type": "stream",
     "text": [
      "[1]  0.1 50.0 18.0 10.0\n"
     ]
    },
    {
     "name": "stderr",
     "output_type": "stream",
     "text": [
      "Warning message in nominalTrainWorkflow(x = x, y = y, wts = weights, info = trainInfo, :\n",
      "\"There were missing values in resampled performance measures.\"\n"
     ]
    },
    {
     "name": "stdout",
     "output_type": "stream",
     "text": [
      "[1]  0.1 50.0 18.0 20.0\n",
      "[1]  0.1 50.0 18.0 30.0\n",
      "[1]  0.1 50.0 18.0 40.0\n",
      "[1]  0.1 50.0 18.0 50.0\n",
      "[1]  0.1 50.0 19.0  0.0\n",
      "note: only 2 unique complexity parameters in default grid. Truncating the grid to 2 .\n",
      "\n"
     ]
    },
    {
     "name": "stderr",
     "output_type": "stream",
     "text": [
      "Warning message in nominalTrainWorkflow(x = x, y = y, wts = weights, info = trainInfo, :\n",
      "\"There were missing values in resampled performance measures.\"\n"
     ]
    },
    {
     "name": "stdout",
     "output_type": "stream",
     "text": [
      "[1]  0.1 50.0 19.0  1.0\n",
      "note: only 3 unique complexity parameters in default grid. Truncating the grid to 3 .\n",
      "\n"
     ]
    },
    {
     "name": "stderr",
     "output_type": "stream",
     "text": [
      "Warning message in nominalTrainWorkflow(x = x, y = y, wts = weights, info = trainInfo, :\n",
      "\"There were missing values in resampled performance measures.\"\n"
     ]
    },
    {
     "name": "stdout",
     "output_type": "stream",
     "text": [
      "[1]  0.1 50.0 19.0  3.0\n",
      "[1]  0.1 50.0 19.0  5.0\n",
      "[1]  0.1 50.0 19.0 10.0\n",
      "[1]  0.1 50.0 19.0 20.0\n",
      "[1]  0.1 50.0 19.0 30.0\n",
      "[1]  0.1 50.0 19.0 40.0\n",
      "[1]  0.1 50.0 19.0 50.0\n",
      "[1]  0.1 50.0 20.0  0.0\n",
      "note: only 2 unique complexity parameters in default grid. Truncating the grid to 2 .\n",
      "\n"
     ]
    },
    {
     "name": "stderr",
     "output_type": "stream",
     "text": [
      "Warning message in nominalTrainWorkflow(x = x, y = y, wts = weights, info = trainInfo, :\n",
      "\"There were missing values in resampled performance measures.\"\n"
     ]
    },
    {
     "name": "stdout",
     "output_type": "stream",
     "text": [
      "[1]  0.1 50.0 20.0  1.0\n",
      "note: only 3 unique complexity parameters in default grid. Truncating the grid to 3 .\n",
      "\n"
     ]
    },
    {
     "name": "stderr",
     "output_type": "stream",
     "text": [
      "Warning message in nominalTrainWorkflow(x = x, y = y, wts = weights, info = trainInfo, :\n",
      "\"There were missing values in resampled performance measures.\"\n"
     ]
    },
    {
     "name": "stdout",
     "output_type": "stream",
     "text": [
      "[1]  0.1 50.0 20.0  3.0\n"
     ]
    },
    {
     "name": "stderr",
     "output_type": "stream",
     "text": [
      "Warning message in nominalTrainWorkflow(x = x, y = y, wts = weights, info = trainInfo, :\n",
      "\"There were missing values in resampled performance measures.\"\n"
     ]
    },
    {
     "name": "stdout",
     "output_type": "stream",
     "text": [
      "[1]  0.1 50.0 20.0  5.0\n",
      "[1]  0.1 50.0 20.0 10.0\n",
      "[1]  0.1 50.0 20.0 20.0\n",
      "[1]  0.1 50.0 20.0 30.0\n",
      "[1]  0.1 50.0 20.0 40.0\n",
      "[1]  0.1 50.0 20.0 50.0\n",
      "[1]  0.1 50.0 21.0  0.0\n",
      "note: only 2 unique complexity parameters in default grid. Truncating the grid to 2 .\n",
      "\n"
     ]
    },
    {
     "name": "stderr",
     "output_type": "stream",
     "text": [
      "Warning message in nominalTrainWorkflow(x = x, y = y, wts = weights, info = trainInfo, :\n",
      "\"There were missing values in resampled performance measures.\"\n"
     ]
    },
    {
     "name": "stdout",
     "output_type": "stream",
     "text": [
      "[1]  0.1 50.0 21.0  1.0\n",
      "note: only 3 unique complexity parameters in default grid. Truncating the grid to 3 .\n",
      "\n",
      "[1]  0.1 50.0 21.0  3.0\n"
     ]
    },
    {
     "name": "stderr",
     "output_type": "stream",
     "text": [
      "Warning message in nominalTrainWorkflow(x = x, y = y, wts = weights, info = trainInfo, :\n",
      "\"There were missing values in resampled performance measures.\"\n"
     ]
    },
    {
     "name": "stdout",
     "output_type": "stream",
     "text": [
      "[1]  0.1 50.0 21.0  5.0\n",
      "[1]  0.1 50.0 21.0 10.0\n",
      "[1]  0.1 50.0 21.0 20.0\n",
      "[1]  0.1 50.0 21.0 30.0\n",
      "[1]  0.1 50.0 21.0 40.0\n",
      "[1]  0.1 50.0 21.0 50.0\n",
      "[1]  0.1 50.0 22.0  0.0\n",
      "note: only 2 unique complexity parameters in default grid. Truncating the grid to 2 .\n",
      "\n"
     ]
    },
    {
     "name": "stderr",
     "output_type": "stream",
     "text": [
      "Warning message in nominalTrainWorkflow(x = x, y = y, wts = weights, info = trainInfo, :\n",
      "\"There were missing values in resampled performance measures.\"\n"
     ]
    },
    {
     "name": "stdout",
     "output_type": "stream",
     "text": [
      "[1]  0.1 50.0 22.0  1.0\n",
      "note: only 3 unique complexity parameters in default grid. Truncating the grid to 3 .\n",
      "\n"
     ]
    },
    {
     "name": "stderr",
     "output_type": "stream",
     "text": [
      "Warning message in nominalTrainWorkflow(x = x, y = y, wts = weights, info = trainInfo, :\n",
      "\"There were missing values in resampled performance measures.\"\n"
     ]
    },
    {
     "name": "stdout",
     "output_type": "stream",
     "text": [
      "[1]  0.1 50.0 22.0  3.0\n"
     ]
    },
    {
     "name": "stderr",
     "output_type": "stream",
     "text": [
      "Warning message in nominalTrainWorkflow(x = x, y = y, wts = weights, info = trainInfo, :\n",
      "\"There were missing values in resampled performance measures.\"\n"
     ]
    },
    {
     "name": "stdout",
     "output_type": "stream",
     "text": [
      "[1]  0.1 50.0 22.0  5.0\n"
     ]
    },
    {
     "name": "stderr",
     "output_type": "stream",
     "text": [
      "Warning message in nominalTrainWorkflow(x = x, y = y, wts = weights, info = trainInfo, :\n",
      "\"There were missing values in resampled performance measures.\"\n"
     ]
    },
    {
     "name": "stdout",
     "output_type": "stream",
     "text": [
      "[1]  0.1 50.0 22.0 10.0\n"
     ]
    },
    {
     "name": "stderr",
     "output_type": "stream",
     "text": [
      "Warning message in nominalTrainWorkflow(x = x, y = y, wts = weights, info = trainInfo, :\n",
      "\"There were missing values in resampled performance measures.\"\n"
     ]
    },
    {
     "name": "stdout",
     "output_type": "stream",
     "text": [
      "[1]  0.1 50.0 22.0 20.0\n",
      "[1]  0.1 50.0 22.0 30.0\n",
      "[1]  0.1 50.0 22.0 40.0\n",
      "[1]  0.1 50.0 22.0 50.0\n",
      "[1]  0.1 50.0 23.0  0.0\n",
      "note: only 2 unique complexity parameters in default grid. Truncating the grid to 2 .\n",
      "\n"
     ]
    },
    {
     "name": "stderr",
     "output_type": "stream",
     "text": [
      "Warning message in nominalTrainWorkflow(x = x, y = y, wts = weights, info = trainInfo, :\n",
      "\"There were missing values in resampled performance measures.\"\n"
     ]
    },
    {
     "name": "stdout",
     "output_type": "stream",
     "text": [
      "[1]  0.1 50.0 23.0  1.0\n",
      "note: only 3 unique complexity parameters in default grid. Truncating the grid to 3 .\n",
      "\n"
     ]
    },
    {
     "name": "stderr",
     "output_type": "stream",
     "text": [
      "Warning message in nominalTrainWorkflow(x = x, y = y, wts = weights, info = trainInfo, :\n",
      "\"There were missing values in resampled performance measures.\"\n"
     ]
    },
    {
     "name": "stdout",
     "output_type": "stream",
     "text": [
      "[1]  0.1 50.0 23.0  3.0\n",
      "[1]  0.1 50.0 23.0  5.0\n",
      "[1]  0.1 50.0 23.0 10.0\n",
      "[1]  0.1 50.0 23.0 20.0\n",
      "[1]  0.1 50.0 23.0 30.0\n",
      "[1]  0.1 50.0 23.0 40.0\n",
      "[1]  0.1 50.0 23.0 50.0\n",
      "[1]  0.1 50.0 24.0  0.0\n",
      "note: only 2 unique complexity parameters in default grid. Truncating the grid to 2 .\n",
      "\n"
     ]
    },
    {
     "name": "stderr",
     "output_type": "stream",
     "text": [
      "Warning message in nominalTrainWorkflow(x = x, y = y, wts = weights, info = trainInfo, :\n",
      "\"There were missing values in resampled performance measures.\"\n"
     ]
    },
    {
     "name": "stdout",
     "output_type": "stream",
     "text": [
      "[1]  0.1 50.0 24.0  1.0\n",
      "note: only 3 unique complexity parameters in default grid. Truncating the grid to 3 .\n",
      "\n"
     ]
    },
    {
     "name": "stderr",
     "output_type": "stream",
     "text": [
      "Warning message in nominalTrainWorkflow(x = x, y = y, wts = weights, info = trainInfo, :\n",
      "\"There were missing values in resampled performance measures.\"\n"
     ]
    },
    {
     "name": "stdout",
     "output_type": "stream",
     "text": [
      "[1]  0.1 50.0 24.0  3.0\n",
      "[1]  0.1 50.0 24.0  5.0\n",
      "[1]  0.1 50.0 24.0 10.0\n",
      "[1]  0.1 50.0 24.0 20.0\n",
      "[1]  0.1 50.0 24.0 30.0\n",
      "[1]  0.1 50.0 24.0 40.0\n",
      "[1]  0.1 50.0 24.0 50.0\n",
      "[1]  0.1 50.0 25.0  0.0\n",
      "note: only 2 unique complexity parameters in default grid. Truncating the grid to 2 .\n",
      "\n"
     ]
    },
    {
     "name": "stderr",
     "output_type": "stream",
     "text": [
      "Warning message in nominalTrainWorkflow(x = x, y = y, wts = weights, info = trainInfo, :\n",
      "\"There were missing values in resampled performance measures.\"\n"
     ]
    },
    {
     "name": "stdout",
     "output_type": "stream",
     "text": [
      "[1]  0.1 50.0 25.0  1.0\n",
      "note: only 3 unique complexity parameters in default grid. Truncating the grid to 3 .\n",
      "\n"
     ]
    },
    {
     "name": "stderr",
     "output_type": "stream",
     "text": [
      "Warning message in nominalTrainWorkflow(x = x, y = y, wts = weights, info = trainInfo, :\n",
      "\"There were missing values in resampled performance measures.\"\n"
     ]
    },
    {
     "name": "stdout",
     "output_type": "stream",
     "text": [
      "[1]  0.1 50.0 25.0  3.0\n"
     ]
    },
    {
     "name": "stderr",
     "output_type": "stream",
     "text": [
      "Warning message in nominalTrainWorkflow(x = x, y = y, wts = weights, info = trainInfo, :\n",
      "\"There were missing values in resampled performance measures.\"\n"
     ]
    },
    {
     "name": "stdout",
     "output_type": "stream",
     "text": [
      "[1]  0.1 50.0 25.0  5.0\n",
      "[1]  0.1 50.0 25.0 10.0\n",
      "[1]  0.1 50.0 25.0 20.0\n",
      "[1]  0.1 50.0 25.0 30.0\n",
      "[1]  0.1 50.0 25.0 40.0\n",
      "[1]  0.1 50.0 25.0 50.0\n",
      "[1]  0.1 50.0 26.0  0.0\n",
      "note: only 2 unique complexity parameters in default grid. Truncating the grid to 2 .\n",
      "\n",
      "[1]  0.1 50.0 26.0  1.0\n",
      "note: only 3 unique complexity parameters in default grid. Truncating the grid to 3 .\n",
      "\n",
      "[1]  0.1 50.0 26.0  3.0\n",
      "[1]  0.1 50.0 26.0  5.0\n",
      "[1]  0.1 50.0 26.0 10.0\n",
      "[1]  0.1 50.0 26.0 20.0\n",
      "[1]  0.1 50.0 26.0 30.0\n",
      "[1]  0.1 50.0 26.0 40.0\n",
      "[1]  0.1 50.0 26.0 50.0\n",
      "[1]  0.1 50.0 27.0  0.0\n",
      "note: only 2 unique complexity parameters in default grid. Truncating the grid to 2 .\n",
      "\n"
     ]
    },
    {
     "name": "stderr",
     "output_type": "stream",
     "text": [
      "Warning message in nominalTrainWorkflow(x = x, y = y, wts = weights, info = trainInfo, :\n",
      "\"There were missing values in resampled performance measures.\"\n"
     ]
    },
    {
     "name": "stdout",
     "output_type": "stream",
     "text": [
      "[1]  0.1 50.0 27.0  1.0\n",
      "note: only 3 unique complexity parameters in default grid. Truncating the grid to 3 .\n",
      "\n"
     ]
    },
    {
     "name": "stderr",
     "output_type": "stream",
     "text": [
      "Warning message in nominalTrainWorkflow(x = x, y = y, wts = weights, info = trainInfo, :\n",
      "\"There were missing values in resampled performance measures.\"\n"
     ]
    },
    {
     "name": "stdout",
     "output_type": "stream",
     "text": [
      "[1]  0.1 50.0 27.0  3.0\n"
     ]
    },
    {
     "name": "stderr",
     "output_type": "stream",
     "text": [
      "Warning message in nominalTrainWorkflow(x = x, y = y, wts = weights, info = trainInfo, :\n",
      "\"There were missing values in resampled performance measures.\"\n"
     ]
    },
    {
     "name": "stdout",
     "output_type": "stream",
     "text": [
      "[1]  0.1 50.0 27.0  5.0\n"
     ]
    },
    {
     "name": "stderr",
     "output_type": "stream",
     "text": [
      "Warning message in nominalTrainWorkflow(x = x, y = y, wts = weights, info = trainInfo, :\n",
      "\"There were missing values in resampled performance measures.\"\n"
     ]
    },
    {
     "name": "stdout",
     "output_type": "stream",
     "text": [
      "[1]  0.1 50.0 27.0 10.0\n",
      "[1]  0.1 50.0 27.0 20.0\n",
      "[1]  0.1 50.0 27.0 30.0\n",
      "[1]  0.1 50.0 27.0 40.0\n",
      "[1]  0.1 50.0 27.0 50.0\n",
      "[1]  0.1 50.0 28.0  0.0\n",
      "note: only 2 unique complexity parameters in default grid. Truncating the grid to 2 .\n",
      "\n"
     ]
    },
    {
     "name": "stderr",
     "output_type": "stream",
     "text": [
      "Warning message in nominalTrainWorkflow(x = x, y = y, wts = weights, info = trainInfo, :\n",
      "\"There were missing values in resampled performance measures.\"\n"
     ]
    },
    {
     "name": "stdout",
     "output_type": "stream",
     "text": [
      "[1]  0.1 50.0 28.0  1.0\n",
      "note: only 3 unique complexity parameters in default grid. Truncating the grid to 3 .\n",
      "\n"
     ]
    },
    {
     "name": "stderr",
     "output_type": "stream",
     "text": [
      "Warning message in nominalTrainWorkflow(x = x, y = y, wts = weights, info = trainInfo, :\n",
      "\"There were missing values in resampled performance measures.\"\n"
     ]
    },
    {
     "name": "stdout",
     "output_type": "stream",
     "text": [
      "[1]  0.1 50.0 28.0  3.0\n"
     ]
    },
    {
     "name": "stderr",
     "output_type": "stream",
     "text": [
      "Warning message in nominalTrainWorkflow(x = x, y = y, wts = weights, info = trainInfo, :\n",
      "\"There were missing values in resampled performance measures.\"\n"
     ]
    },
    {
     "name": "stdout",
     "output_type": "stream",
     "text": [
      "[1]  0.1 50.0 28.0  5.0\n"
     ]
    },
    {
     "name": "stderr",
     "output_type": "stream",
     "text": [
      "Warning message in nominalTrainWorkflow(x = x, y = y, wts = weights, info = trainInfo, :\n",
      "\"There were missing values in resampled performance measures.\"\n"
     ]
    },
    {
     "name": "stdout",
     "output_type": "stream",
     "text": [
      "[1]  0.1 50.0 28.0 10.0\n"
     ]
    },
    {
     "name": "stderr",
     "output_type": "stream",
     "text": [
      "Warning message in nominalTrainWorkflow(x = x, y = y, wts = weights, info = trainInfo, :\n",
      "\"There were missing values in resampled performance measures.\"\n"
     ]
    },
    {
     "name": "stdout",
     "output_type": "stream",
     "text": [
      "[1]  0.1 50.0 28.0 20.0\n",
      "[1]  0.1 50.0 28.0 30.0\n",
      "[1]  0.1 50.0 28.0 40.0\n",
      "[1]  0.1 50.0 28.0 50.0\n",
      "[1]  0.1 50.0 29.0  0.0\n",
      "note: only 2 unique complexity parameters in default grid. Truncating the grid to 2 .\n",
      "\n"
     ]
    },
    {
     "name": "stderr",
     "output_type": "stream",
     "text": [
      "Warning message in nominalTrainWorkflow(x = x, y = y, wts = weights, info = trainInfo, :\n",
      "\"There were missing values in resampled performance measures.\"\n"
     ]
    },
    {
     "name": "stdout",
     "output_type": "stream",
     "text": [
      "[1]  0.1 50.0 29.0  1.0\n",
      "note: only 3 unique complexity parameters in default grid. Truncating the grid to 3 .\n",
      "\n"
     ]
    },
    {
     "name": "stderr",
     "output_type": "stream",
     "text": [
      "Warning message in nominalTrainWorkflow(x = x, y = y, wts = weights, info = trainInfo, :\n",
      "\"There were missing values in resampled performance measures.\"\n"
     ]
    },
    {
     "name": "stdout",
     "output_type": "stream",
     "text": [
      "[1]  0.1 50.0 29.0  3.0\n"
     ]
    },
    {
     "name": "stderr",
     "output_type": "stream",
     "text": [
      "Warning message in nominalTrainWorkflow(x = x, y = y, wts = weights, info = trainInfo, :\n",
      "\"There were missing values in resampled performance measures.\"\n"
     ]
    },
    {
     "name": "stdout",
     "output_type": "stream",
     "text": [
      "[1]  0.1 50.0 29.0  5.0\n",
      "[1]  0.1 50.0 29.0 10.0\n",
      "[1]  0.1 50.0 29.0 20.0\n",
      "[1]  0.1 50.0 29.0 30.0\n",
      "[1]  0.1 50.0 29.0 40.0\n",
      "[1]  0.1 50.0 29.0 50.0\n",
      "[1]  0.1 50.0 30.0  0.0\n",
      "note: only 2 unique complexity parameters in default grid. Truncating the grid to 2 .\n",
      "\n"
     ]
    },
    {
     "name": "stderr",
     "output_type": "stream",
     "text": [
      "Warning message in nominalTrainWorkflow(x = x, y = y, wts = weights, info = trainInfo, :\n",
      "\"There were missing values in resampled performance measures.\"\n"
     ]
    },
    {
     "name": "stdout",
     "output_type": "stream",
     "text": [
      "[1]  0.1 50.0 30.0  1.0\n",
      "note: only 3 unique complexity parameters in default grid. Truncating the grid to 3 .\n",
      "\n"
     ]
    },
    {
     "name": "stderr",
     "output_type": "stream",
     "text": [
      "Warning message in nominalTrainWorkflow(x = x, y = y, wts = weights, info = trainInfo, :\n",
      "\"There were missing values in resampled performance measures.\"\n"
     ]
    },
    {
     "name": "stdout",
     "output_type": "stream",
     "text": [
      "[1]  0.1 50.0 30.0  3.0\n"
     ]
    },
    {
     "name": "stderr",
     "output_type": "stream",
     "text": [
      "Warning message in nominalTrainWorkflow(x = x, y = y, wts = weights, info = trainInfo, :\n",
      "\"There were missing values in resampled performance measures.\"\n"
     ]
    },
    {
     "name": "stdout",
     "output_type": "stream",
     "text": [
      "[1]  0.1 50.0 30.0  5.0\n"
     ]
    },
    {
     "name": "stderr",
     "output_type": "stream",
     "text": [
      "Warning message in nominalTrainWorkflow(x = x, y = y, wts = weights, info = trainInfo, :\n",
      "\"There were missing values in resampled performance measures.\"\n"
     ]
    },
    {
     "name": "stdout",
     "output_type": "stream",
     "text": [
      "[1]  0.1 50.0 30.0 10.0\n",
      "[1]  0.1 50.0 30.0 20.0\n",
      "[1]  0.1 50.0 30.0 30.0\n",
      "[1]  0.1 50.0 30.0 40.0\n",
      "[1]  0.1 50.0 30.0 50.0\n",
      "[1]  0.5 10.0  1.0  0.0\n",
      "note: only 2 unique complexity parameters in default grid. Truncating the grid to 2 .\n",
      "\n"
     ]
    },
    {
     "name": "stderr",
     "output_type": "stream",
     "text": [
      "Warning message in nominalTrainWorkflow(x = x, y = y, wts = weights, info = trainInfo, :\n",
      "\"There were missing values in resampled performance measures.\"\n"
     ]
    },
    {
     "name": "stdout",
     "output_type": "stream",
     "text": [
      "[1]  0.5 10.0  1.0  1.0\n",
      "note: only 3 unique complexity parameters in default grid. Truncating the grid to 3 .\n",
      "\n",
      "[1]  0.5 10.0  1.0  3.0\n"
     ]
    },
    {
     "name": "stderr",
     "output_type": "stream",
     "text": [
      "Warning message in nominalTrainWorkflow(x = x, y = y, wts = weights, info = trainInfo, :\n",
      "\"There were missing values in resampled performance measures.\"\n"
     ]
    },
    {
     "name": "stdout",
     "output_type": "stream",
     "text": [
      "[1]  0.5 10.0  1.0  5.0\n"
     ]
    },
    {
     "name": "stderr",
     "output_type": "stream",
     "text": [
      "Warning message in nominalTrainWorkflow(x = x, y = y, wts = weights, info = trainInfo, :\n",
      "\"There were missing values in resampled performance measures.\"\n"
     ]
    },
    {
     "name": "stdout",
     "output_type": "stream",
     "text": [
      "[1]  0.5 10.0  1.0 10.0\n"
     ]
    },
    {
     "name": "stderr",
     "output_type": "stream",
     "text": [
      "Warning message in nominalTrainWorkflow(x = x, y = y, wts = weights, info = trainInfo, :\n",
      "\"There were missing values in resampled performance measures.\"\n"
     ]
    },
    {
     "name": "stdout",
     "output_type": "stream",
     "text": [
      "[1]  0.5 10.0  1.0 20.0\n",
      "[1]  0.5 10.0  1.0 30.0\n",
      "[1]  0.5 10.0  1.0 40.0\n",
      "[1]  0.5 10.0  1.0 50.0\n",
      "[1]  0.5 10.0  2.0  0.0\n",
      "note: only 2 unique complexity parameters in default grid. Truncating the grid to 2 .\n",
      "\n"
     ]
    },
    {
     "name": "stderr",
     "output_type": "stream",
     "text": [
      "Warning message in nominalTrainWorkflow(x = x, y = y, wts = weights, info = trainInfo, :\n",
      "\"There were missing values in resampled performance measures.\"\n"
     ]
    },
    {
     "name": "stdout",
     "output_type": "stream",
     "text": [
      "[1]  0.5 10.0  2.0  1.0\n",
      "note: only 3 unique complexity parameters in default grid. Truncating the grid to 3 .\n",
      "\n",
      "[1]  0.5 10.0  2.0  3.0\n"
     ]
    },
    {
     "name": "stderr",
     "output_type": "stream",
     "text": [
      "Warning message in nominalTrainWorkflow(x = x, y = y, wts = weights, info = trainInfo, :\n",
      "\"There were missing values in resampled performance measures.\"\n"
     ]
    },
    {
     "name": "stdout",
     "output_type": "stream",
     "text": [
      "[1]  0.5 10.0  2.0  5.0\n",
      "[1]  0.5 10.0  2.0 10.0\n",
      "[1]  0.5 10.0  2.0 20.0\n",
      "[1]  0.5 10.0  2.0 30.0\n",
      "[1]  0.5 10.0  2.0 40.0\n",
      "[1]  0.5 10.0  2.0 50.0\n",
      "[1]  0.5 10.0  3.0  0.0\n",
      "note: only 2 unique complexity parameters in default grid. Truncating the grid to 2 .\n",
      "\n"
     ]
    },
    {
     "name": "stderr",
     "output_type": "stream",
     "text": [
      "Warning message in nominalTrainWorkflow(x = x, y = y, wts = weights, info = trainInfo, :\n",
      "\"There were missing values in resampled performance measures.\"\n"
     ]
    },
    {
     "name": "stdout",
     "output_type": "stream",
     "text": [
      "[1]  0.5 10.0  3.0  1.0\n",
      "note: only 3 unique complexity parameters in default grid. Truncating the grid to 3 .\n",
      "\n"
     ]
    },
    {
     "name": "stderr",
     "output_type": "stream",
     "text": [
      "Warning message in nominalTrainWorkflow(x = x, y = y, wts = weights, info = trainInfo, :\n",
      "\"There were missing values in resampled performance measures.\"\n"
     ]
    },
    {
     "name": "stdout",
     "output_type": "stream",
     "text": [
      "[1]  0.5 10.0  3.0  3.0\n"
     ]
    },
    {
     "name": "stderr",
     "output_type": "stream",
     "text": [
      "Warning message in nominalTrainWorkflow(x = x, y = y, wts = weights, info = trainInfo, :\n",
      "\"There were missing values in resampled performance measures.\"\n"
     ]
    },
    {
     "name": "stdout",
     "output_type": "stream",
     "text": [
      "[1]  0.5 10.0  3.0  5.0\n",
      "[1]  0.5 10.0  3.0 10.0\n"
     ]
    },
    {
     "name": "stderr",
     "output_type": "stream",
     "text": [
      "Warning message in nominalTrainWorkflow(x = x, y = y, wts = weights, info = trainInfo, :\n",
      "\"There were missing values in resampled performance measures.\"\n"
     ]
    },
    {
     "name": "stdout",
     "output_type": "stream",
     "text": [
      "[1]  0.5 10.0  3.0 20.0\n"
     ]
    },
    {
     "name": "stderr",
     "output_type": "stream",
     "text": [
      "Warning message in nominalTrainWorkflow(x = x, y = y, wts = weights, info = trainInfo, :\n",
      "\"There were missing values in resampled performance measures.\"\n"
     ]
    },
    {
     "name": "stdout",
     "output_type": "stream",
     "text": [
      "[1]  0.5 10.0  3.0 30.0\n"
     ]
    },
    {
     "name": "stderr",
     "output_type": "stream",
     "text": [
      "Warning message in nominalTrainWorkflow(x = x, y = y, wts = weights, info = trainInfo, :\n",
      "\"There were missing values in resampled performance measures.\"\n"
     ]
    },
    {
     "name": "stdout",
     "output_type": "stream",
     "text": [
      "[1]  0.5 10.0  3.0 40.0\n"
     ]
    },
    {
     "name": "stderr",
     "output_type": "stream",
     "text": [
      "Warning message in nominalTrainWorkflow(x = x, y = y, wts = weights, info = trainInfo, :\n",
      "\"There were missing values in resampled performance measures.\"\n"
     ]
    },
    {
     "name": "stdout",
     "output_type": "stream",
     "text": [
      "[1]  0.5 10.0  3.0 50.0\n"
     ]
    },
    {
     "name": "stderr",
     "output_type": "stream",
     "text": [
      "Warning message in nominalTrainWorkflow(x = x, y = y, wts = weights, info = trainInfo, :\n",
      "\"There were missing values in resampled performance measures.\"\n"
     ]
    },
    {
     "name": "stdout",
     "output_type": "stream",
     "text": [
      "[1]  0.5 10.0  4.0  0.0\n",
      "note: only 2 unique complexity parameters in default grid. Truncating the grid to 2 .\n",
      "\n"
     ]
    },
    {
     "name": "stderr",
     "output_type": "stream",
     "text": [
      "Warning message in nominalTrainWorkflow(x = x, y = y, wts = weights, info = trainInfo, :\n",
      "\"There were missing values in resampled performance measures.\"\n"
     ]
    },
    {
     "name": "stdout",
     "output_type": "stream",
     "text": [
      "[1]  0.5 10.0  4.0  1.0\n",
      "note: only 3 unique complexity parameters in default grid. Truncating the grid to 3 .\n",
      "\n"
     ]
    },
    {
     "name": "stderr",
     "output_type": "stream",
     "text": [
      "Warning message in nominalTrainWorkflow(x = x, y = y, wts = weights, info = trainInfo, :\n",
      "\"There were missing values in resampled performance measures.\"\n"
     ]
    },
    {
     "name": "stdout",
     "output_type": "stream",
     "text": [
      "[1]  0.5 10.0  4.0  3.0\n"
     ]
    },
    {
     "name": "stderr",
     "output_type": "stream",
     "text": [
      "Warning message in nominalTrainWorkflow(x = x, y = y, wts = weights, info = trainInfo, :\n",
      "\"There were missing values in resampled performance measures.\"\n"
     ]
    },
    {
     "name": "stdout",
     "output_type": "stream",
     "text": [
      "[1]  0.5 10.0  4.0  5.0\n"
     ]
    },
    {
     "name": "stderr",
     "output_type": "stream",
     "text": [
      "Warning message in nominalTrainWorkflow(x = x, y = y, wts = weights, info = trainInfo, :\n",
      "\"There were missing values in resampled performance measures.\"\n"
     ]
    },
    {
     "name": "stdout",
     "output_type": "stream",
     "text": [
      "[1]  0.5 10.0  4.0 10.0\n"
     ]
    },
    {
     "name": "stderr",
     "output_type": "stream",
     "text": [
      "Warning message in nominalTrainWorkflow(x = x, y = y, wts = weights, info = trainInfo, :\n",
      "\"There were missing values in resampled performance measures.\"\n"
     ]
    },
    {
     "name": "stdout",
     "output_type": "stream",
     "text": [
      "[1]  0.5 10.0  4.0 20.0\n"
     ]
    },
    {
     "name": "stderr",
     "output_type": "stream",
     "text": [
      "Warning message in nominalTrainWorkflow(x = x, y = y, wts = weights, info = trainInfo, :\n",
      "\"There were missing values in resampled performance measures.\"\n"
     ]
    },
    {
     "name": "stdout",
     "output_type": "stream",
     "text": [
      "[1]  0.5 10.0  4.0 30.0\n"
     ]
    },
    {
     "name": "stderr",
     "output_type": "stream",
     "text": [
      "Warning message in nominalTrainWorkflow(x = x, y = y, wts = weights, info = trainInfo, :\n",
      "\"There were missing values in resampled performance measures.\"\n"
     ]
    },
    {
     "name": "stdout",
     "output_type": "stream",
     "text": [
      "[1]  0.5 10.0  4.0 40.0\n"
     ]
    },
    {
     "name": "stderr",
     "output_type": "stream",
     "text": [
      "Warning message in nominalTrainWorkflow(x = x, y = y, wts = weights, info = trainInfo, :\n",
      "\"There were missing values in resampled performance measures.\"\n"
     ]
    },
    {
     "name": "stdout",
     "output_type": "stream",
     "text": [
      "[1]  0.5 10.0  4.0 50.0\n"
     ]
    },
    {
     "name": "stderr",
     "output_type": "stream",
     "text": [
      "Warning message in nominalTrainWorkflow(x = x, y = y, wts = weights, info = trainInfo, :\n",
      "\"There were missing values in resampled performance measures.\"\n"
     ]
    },
    {
     "name": "stdout",
     "output_type": "stream",
     "text": [
      "[1]  0.5 10.0  5.0  0.0\n",
      "note: only 2 unique complexity parameters in default grid. Truncating the grid to 2 .\n",
      "\n"
     ]
    },
    {
     "name": "stderr",
     "output_type": "stream",
     "text": [
      "Warning message in nominalTrainWorkflow(x = x, y = y, wts = weights, info = trainInfo, :\n",
      "\"There were missing values in resampled performance measures.\"\n"
     ]
    },
    {
     "name": "stdout",
     "output_type": "stream",
     "text": [
      "[1]  0.5 10.0  5.0  1.0\n",
      "note: only 3 unique complexity parameters in default grid. Truncating the grid to 3 .\n",
      "\n"
     ]
    },
    {
     "name": "stderr",
     "output_type": "stream",
     "text": [
      "Warning message in nominalTrainWorkflow(x = x, y = y, wts = weights, info = trainInfo, :\n",
      "\"There were missing values in resampled performance measures.\"\n"
     ]
    },
    {
     "name": "stdout",
     "output_type": "stream",
     "text": [
      "[1]  0.5 10.0  5.0  3.0\n"
     ]
    },
    {
     "name": "stderr",
     "output_type": "stream",
     "text": [
      "Warning message in nominalTrainWorkflow(x = x, y = y, wts = weights, info = trainInfo, :\n",
      "\"There were missing values in resampled performance measures.\"\n"
     ]
    },
    {
     "name": "stdout",
     "output_type": "stream",
     "text": [
      "[1]  0.5 10.0  5.0  5.0\n"
     ]
    },
    {
     "name": "stderr",
     "output_type": "stream",
     "text": [
      "Warning message in nominalTrainWorkflow(x = x, y = y, wts = weights, info = trainInfo, :\n",
      "\"There were missing values in resampled performance measures.\"\n"
     ]
    },
    {
     "name": "stdout",
     "output_type": "stream",
     "text": [
      "[1]  0.5 10.0  5.0 10.0\n",
      "[1]  0.5 10.0  5.0 20.0\n",
      "[1]  0.5 10.0  5.0 30.0\n"
     ]
    },
    {
     "name": "stderr",
     "output_type": "stream",
     "text": [
      "Warning message in nominalTrainWorkflow(x = x, y = y, wts = weights, info = trainInfo, :\n",
      "\"There were missing values in resampled performance measures.\"\n"
     ]
    },
    {
     "name": "stdout",
     "output_type": "stream",
     "text": [
      "[1]  0.5 10.0  5.0 40.0\n",
      "[1]  0.5 10.0  5.0 50.0\n"
     ]
    },
    {
     "name": "stderr",
     "output_type": "stream",
     "text": [
      "Warning message in nominalTrainWorkflow(x = x, y = y, wts = weights, info = trainInfo, :\n",
      "\"There were missing values in resampled performance measures.\"\n"
     ]
    },
    {
     "name": "stdout",
     "output_type": "stream",
     "text": [
      "[1]  0.5 10.0  6.0  0.0\n",
      "note: only 2 unique complexity parameters in default grid. Truncating the grid to 2 .\n",
      "\n"
     ]
    },
    {
     "name": "stderr",
     "output_type": "stream",
     "text": [
      "Warning message in nominalTrainWorkflow(x = x, y = y, wts = weights, info = trainInfo, :\n",
      "\"There were missing values in resampled performance measures.\"\n"
     ]
    },
    {
     "name": "stdout",
     "output_type": "stream",
     "text": [
      "[1]  0.5 10.0  6.0  1.0\n",
      "note: only 3 unique complexity parameters in default grid. Truncating the grid to 3 .\n",
      "\n"
     ]
    },
    {
     "name": "stderr",
     "output_type": "stream",
     "text": [
      "Warning message in nominalTrainWorkflow(x = x, y = y, wts = weights, info = trainInfo, :\n",
      "\"There were missing values in resampled performance measures.\"\n"
     ]
    },
    {
     "name": "stdout",
     "output_type": "stream",
     "text": [
      "[1]  0.5 10.0  6.0  3.0\n"
     ]
    },
    {
     "name": "stderr",
     "output_type": "stream",
     "text": [
      "Warning message in nominalTrainWorkflow(x = x, y = y, wts = weights, info = trainInfo, :\n",
      "\"There were missing values in resampled performance measures.\"\n"
     ]
    },
    {
     "name": "stdout",
     "output_type": "stream",
     "text": [
      "[1]  0.5 10.0  6.0  5.0\n"
     ]
    },
    {
     "name": "stderr",
     "output_type": "stream",
     "text": [
      "Warning message in nominalTrainWorkflow(x = x, y = y, wts = weights, info = trainInfo, :\n",
      "\"There were missing values in resampled performance measures.\"\n"
     ]
    },
    {
     "name": "stdout",
     "output_type": "stream",
     "text": [
      "[1]  0.5 10.0  6.0 10.0\n"
     ]
    },
    {
     "name": "stderr",
     "output_type": "stream",
     "text": [
      "Warning message in nominalTrainWorkflow(x = x, y = y, wts = weights, info = trainInfo, :\n",
      "\"There were missing values in resampled performance measures.\"\n"
     ]
    },
    {
     "name": "stdout",
     "output_type": "stream",
     "text": [
      "[1]  0.5 10.0  6.0 20.0\n"
     ]
    },
    {
     "name": "stderr",
     "output_type": "stream",
     "text": [
      "Warning message in nominalTrainWorkflow(x = x, y = y, wts = weights, info = trainInfo, :\n",
      "\"There were missing values in resampled performance measures.\"\n"
     ]
    },
    {
     "name": "stdout",
     "output_type": "stream",
     "text": [
      "[1]  0.5 10.0  6.0 30.0\n"
     ]
    },
    {
     "name": "stderr",
     "output_type": "stream",
     "text": [
      "Warning message in nominalTrainWorkflow(x = x, y = y, wts = weights, info = trainInfo, :\n",
      "\"There were missing values in resampled performance measures.\"\n"
     ]
    },
    {
     "name": "stdout",
     "output_type": "stream",
     "text": [
      "[1]  0.5 10.0  6.0 40.0\n"
     ]
    },
    {
     "name": "stderr",
     "output_type": "stream",
     "text": [
      "Warning message in nominalTrainWorkflow(x = x, y = y, wts = weights, info = trainInfo, :\n",
      "\"There were missing values in resampled performance measures.\"\n"
     ]
    },
    {
     "name": "stdout",
     "output_type": "stream",
     "text": [
      "[1]  0.5 10.0  6.0 50.0\n"
     ]
    },
    {
     "name": "stderr",
     "output_type": "stream",
     "text": [
      "Warning message in nominalTrainWorkflow(x = x, y = y, wts = weights, info = trainInfo, :\n",
      "\"There were missing values in resampled performance measures.\"\n"
     ]
    },
    {
     "name": "stdout",
     "output_type": "stream",
     "text": [
      "[1]  0.5 10.0  7.0  0.0\n",
      "note: only 2 unique complexity parameters in default grid. Truncating the grid to 2 .\n",
      "\n"
     ]
    },
    {
     "name": "stderr",
     "output_type": "stream",
     "text": [
      "Warning message in nominalTrainWorkflow(x = x, y = y, wts = weights, info = trainInfo, :\n",
      "\"There were missing values in resampled performance measures.\"\n"
     ]
    },
    {
     "name": "stdout",
     "output_type": "stream",
     "text": [
      "[1]  0.5 10.0  7.0  1.0\n",
      "note: only 3 unique complexity parameters in default grid. Truncating the grid to 3 .\n",
      "\n"
     ]
    },
    {
     "name": "stderr",
     "output_type": "stream",
     "text": [
      "Warning message in nominalTrainWorkflow(x = x, y = y, wts = weights, info = trainInfo, :\n",
      "\"There were missing values in resampled performance measures.\"\n"
     ]
    },
    {
     "name": "stdout",
     "output_type": "stream",
     "text": [
      "[1]  0.5 10.0  7.0  3.0\n"
     ]
    },
    {
     "name": "stderr",
     "output_type": "stream",
     "text": [
      "Warning message in nominalTrainWorkflow(x = x, y = y, wts = weights, info = trainInfo, :\n",
      "\"There were missing values in resampled performance measures.\"\n"
     ]
    },
    {
     "name": "stdout",
     "output_type": "stream",
     "text": [
      "[1]  0.5 10.0  7.0  5.0\n"
     ]
    },
    {
     "name": "stderr",
     "output_type": "stream",
     "text": [
      "Warning message in nominalTrainWorkflow(x = x, y = y, wts = weights, info = trainInfo, :\n",
      "\"There were missing values in resampled performance measures.\"\n"
     ]
    },
    {
     "name": "stdout",
     "output_type": "stream",
     "text": [
      "[1]  0.5 10.0  7.0 10.0\n"
     ]
    },
    {
     "name": "stderr",
     "output_type": "stream",
     "text": [
      "Warning message in nominalTrainWorkflow(x = x, y = y, wts = weights, info = trainInfo, :\n",
      "\"There were missing values in resampled performance measures.\"\n"
     ]
    },
    {
     "name": "stdout",
     "output_type": "stream",
     "text": [
      "[1]  0.5 10.0  7.0 20.0\n",
      "[1]  0.5 10.0  7.0 30.0\n"
     ]
    },
    {
     "name": "stderr",
     "output_type": "stream",
     "text": [
      "Warning message in nominalTrainWorkflow(x = x, y = y, wts = weights, info = trainInfo, :\n",
      "\"There were missing values in resampled performance measures.\"\n"
     ]
    },
    {
     "name": "stdout",
     "output_type": "stream",
     "text": [
      "[1]  0.5 10.0  7.0 40.0\n",
      "[1]  0.5 10.0  7.0 50.0\n",
      "[1]  0.5 10.0  8.0  0.0\n",
      "note: only 2 unique complexity parameters in default grid. Truncating the grid to 2 .\n",
      "\n"
     ]
    },
    {
     "name": "stderr",
     "output_type": "stream",
     "text": [
      "Warning message in nominalTrainWorkflow(x = x, y = y, wts = weights, info = trainInfo, :\n",
      "\"There were missing values in resampled performance measures.\"\n"
     ]
    },
    {
     "name": "stdout",
     "output_type": "stream",
     "text": [
      "[1]  0.5 10.0  8.0  1.0\n",
      "note: only 3 unique complexity parameters in default grid. Truncating the grid to 3 .\n",
      "\n"
     ]
    },
    {
     "name": "stderr",
     "output_type": "stream",
     "text": [
      "Warning message in nominalTrainWorkflow(x = x, y = y, wts = weights, info = trainInfo, :\n",
      "\"There were missing values in resampled performance measures.\"\n"
     ]
    },
    {
     "name": "stdout",
     "output_type": "stream",
     "text": [
      "[1]  0.5 10.0  8.0  3.0\n"
     ]
    },
    {
     "name": "stderr",
     "output_type": "stream",
     "text": [
      "Warning message in nominalTrainWorkflow(x = x, y = y, wts = weights, info = trainInfo, :\n",
      "\"There were missing values in resampled performance measures.\"\n"
     ]
    },
    {
     "name": "stdout",
     "output_type": "stream",
     "text": [
      "[1]  0.5 10.0  8.0  5.0\n"
     ]
    },
    {
     "name": "stderr",
     "output_type": "stream",
     "text": [
      "Warning message in nominalTrainWorkflow(x = x, y = y, wts = weights, info = trainInfo, :\n",
      "\"There were missing values in resampled performance measures.\"\n"
     ]
    },
    {
     "name": "stdout",
     "output_type": "stream",
     "text": [
      "[1]  0.5 10.0  8.0 10.0\n"
     ]
    },
    {
     "name": "stderr",
     "output_type": "stream",
     "text": [
      "Warning message in nominalTrainWorkflow(x = x, y = y, wts = weights, info = trainInfo, :\n",
      "\"There were missing values in resampled performance measures.\"\n"
     ]
    },
    {
     "name": "stdout",
     "output_type": "stream",
     "text": [
      "[1]  0.5 10.0  8.0 20.0\n"
     ]
    },
    {
     "name": "stderr",
     "output_type": "stream",
     "text": [
      "Warning message in nominalTrainWorkflow(x = x, y = y, wts = weights, info = trainInfo, :\n",
      "\"There were missing values in resampled performance measures.\"\n"
     ]
    },
    {
     "name": "stdout",
     "output_type": "stream",
     "text": [
      "[1]  0.5 10.0  8.0 30.0\n"
     ]
    },
    {
     "name": "stderr",
     "output_type": "stream",
     "text": [
      "Warning message in nominalTrainWorkflow(x = x, y = y, wts = weights, info = trainInfo, :\n",
      "\"There were missing values in resampled performance measures.\"\n"
     ]
    },
    {
     "name": "stdout",
     "output_type": "stream",
     "text": [
      "[1]  0.5 10.0  8.0 40.0\n"
     ]
    },
    {
     "name": "stderr",
     "output_type": "stream",
     "text": [
      "Warning message in nominalTrainWorkflow(x = x, y = y, wts = weights, info = trainInfo, :\n",
      "\"There were missing values in resampled performance measures.\"\n"
     ]
    },
    {
     "name": "stdout",
     "output_type": "stream",
     "text": [
      "[1]  0.5 10.0  8.0 50.0\n"
     ]
    },
    {
     "name": "stderr",
     "output_type": "stream",
     "text": [
      "Warning message in nominalTrainWorkflow(x = x, y = y, wts = weights, info = trainInfo, :\n",
      "\"There were missing values in resampled performance measures.\"\n"
     ]
    },
    {
     "name": "stdout",
     "output_type": "stream",
     "text": [
      "[1]  0.5 10.0  9.0  0.0\n",
      "note: only 2 unique complexity parameters in default grid. Truncating the grid to 2 .\n",
      "\n"
     ]
    },
    {
     "name": "stderr",
     "output_type": "stream",
     "text": [
      "Warning message in nominalTrainWorkflow(x = x, y = y, wts = weights, info = trainInfo, :\n",
      "\"There were missing values in resampled performance measures.\"\n"
     ]
    },
    {
     "name": "stdout",
     "output_type": "stream",
     "text": [
      "[1]  0.5 10.0  9.0  1.0\n",
      "note: only 3 unique complexity parameters in default grid. Truncating the grid to 3 .\n",
      "\n"
     ]
    },
    {
     "name": "stderr",
     "output_type": "stream",
     "text": [
      "Warning message in nominalTrainWorkflow(x = x, y = y, wts = weights, info = trainInfo, :\n",
      "\"There were missing values in resampled performance measures.\"\n"
     ]
    },
    {
     "name": "stdout",
     "output_type": "stream",
     "text": [
      "[1]  0.5 10.0  9.0  3.0\n"
     ]
    },
    {
     "name": "stderr",
     "output_type": "stream",
     "text": [
      "Warning message in nominalTrainWorkflow(x = x, y = y, wts = weights, info = trainInfo, :\n",
      "\"There were missing values in resampled performance measures.\"\n"
     ]
    },
    {
     "name": "stdout",
     "output_type": "stream",
     "text": [
      "[1]  0.5 10.0  9.0  5.0\n",
      "[1]  0.5 10.0  9.0 10.0\n",
      "[1]  0.5 10.0  9.0 20.0\n",
      "[1]  0.5 10.0  9.0 30.0\n",
      "[1]  0.5 10.0  9.0 40.0\n",
      "[1]  0.5 10.0  9.0 50.0\n",
      "[1]  0.5 10.0 10.0  0.0\n",
      "note: only 2 unique complexity parameters in default grid. Truncating the grid to 2 .\n",
      "\n"
     ]
    },
    {
     "name": "stderr",
     "output_type": "stream",
     "text": [
      "Warning message in nominalTrainWorkflow(x = x, y = y, wts = weights, info = trainInfo, :\n",
      "\"There were missing values in resampled performance measures.\"\n"
     ]
    },
    {
     "name": "stdout",
     "output_type": "stream",
     "text": [
      "[1]  0.5 10.0 10.0  1.0\n",
      "note: only 3 unique complexity parameters in default grid. Truncating the grid to 3 .\n",
      "\n"
     ]
    },
    {
     "name": "stderr",
     "output_type": "stream",
     "text": [
      "Warning message in nominalTrainWorkflow(x = x, y = y, wts = weights, info = trainInfo, :\n",
      "\"There were missing values in resampled performance measures.\"\n"
     ]
    },
    {
     "name": "stdout",
     "output_type": "stream",
     "text": [
      "[1]  0.5 10.0 10.0  3.0\n"
     ]
    },
    {
     "name": "stderr",
     "output_type": "stream",
     "text": [
      "Warning message in nominalTrainWorkflow(x = x, y = y, wts = weights, info = trainInfo, :\n",
      "\"There were missing values in resampled performance measures.\"\n"
     ]
    },
    {
     "name": "stdout",
     "output_type": "stream",
     "text": [
      "[1]  0.5 10.0 10.0  5.0\n"
     ]
    },
    {
     "name": "stderr",
     "output_type": "stream",
     "text": [
      "Warning message in nominalTrainWorkflow(x = x, y = y, wts = weights, info = trainInfo, :\n",
      "\"There were missing values in resampled performance measures.\"\n"
     ]
    },
    {
     "name": "stdout",
     "output_type": "stream",
     "text": [
      "[1]  0.5 10.0 10.0 10.0\n"
     ]
    },
    {
     "name": "stderr",
     "output_type": "stream",
     "text": [
      "Warning message in nominalTrainWorkflow(x = x, y = y, wts = weights, info = trainInfo, :\n",
      "\"There were missing values in resampled performance measures.\"\n"
     ]
    },
    {
     "name": "stdout",
     "output_type": "stream",
     "text": [
      "[1]  0.5 10.0 10.0 20.0\n",
      "[1]  0.5 10.0 10.0 30.0\n"
     ]
    },
    {
     "name": "stderr",
     "output_type": "stream",
     "text": [
      "Warning message in nominalTrainWorkflow(x = x, y = y, wts = weights, info = trainInfo, :\n",
      "\"There were missing values in resampled performance measures.\"\n"
     ]
    },
    {
     "name": "stdout",
     "output_type": "stream",
     "text": [
      "[1]  0.5 10.0 10.0 40.0\n"
     ]
    },
    {
     "name": "stderr",
     "output_type": "stream",
     "text": [
      "Warning message in nominalTrainWorkflow(x = x, y = y, wts = weights, info = trainInfo, :\n",
      "\"There were missing values in resampled performance measures.\"\n"
     ]
    },
    {
     "name": "stdout",
     "output_type": "stream",
     "text": [
      "[1]  0.5 10.0 10.0 50.0\n"
     ]
    },
    {
     "name": "stderr",
     "output_type": "stream",
     "text": [
      "Warning message in nominalTrainWorkflow(x = x, y = y, wts = weights, info = trainInfo, :\n",
      "\"There were missing values in resampled performance measures.\"\n"
     ]
    },
    {
     "name": "stdout",
     "output_type": "stream",
     "text": [
      "[1]  0.5 10.0 11.0  0.0\n",
      "note: only 2 unique complexity parameters in default grid. Truncating the grid to 2 .\n",
      "\n"
     ]
    },
    {
     "name": "stderr",
     "output_type": "stream",
     "text": [
      "Warning message in nominalTrainWorkflow(x = x, y = y, wts = weights, info = trainInfo, :\n",
      "\"There were missing values in resampled performance measures.\"\n"
     ]
    },
    {
     "name": "stdout",
     "output_type": "stream",
     "text": [
      "[1]  0.5 10.0 11.0  1.0\n",
      "note: only 3 unique complexity parameters in default grid. Truncating the grid to 3 .\n",
      "\n",
      "[1]  0.5 10.0 11.0  3.0\n",
      "[1]  0.5 10.0 11.0  5.0\n",
      "[1]  0.5 10.0 11.0 10.0\n"
     ]
    },
    {
     "name": "stderr",
     "output_type": "stream",
     "text": [
      "Warning message in nominalTrainWorkflow(x = x, y = y, wts = weights, info = trainInfo, :\n",
      "\"There were missing values in resampled performance measures.\"\n"
     ]
    },
    {
     "name": "stdout",
     "output_type": "stream",
     "text": [
      "[1]  0.5 10.0 11.0 20.0\n",
      "[1]  0.5 10.0 11.0 30.0\n",
      "[1]  0.5 10.0 11.0 40.0\n",
      "[1]  0.5 10.0 11.0 50.0\n",
      "[1]  0.5 10.0 12.0  0.0\n",
      "note: only 2 unique complexity parameters in default grid. Truncating the grid to 2 .\n",
      "\n"
     ]
    },
    {
     "name": "stderr",
     "output_type": "stream",
     "text": [
      "Warning message in nominalTrainWorkflow(x = x, y = y, wts = weights, info = trainInfo, :\n",
      "\"There were missing values in resampled performance measures.\"\n"
     ]
    },
    {
     "name": "stdout",
     "output_type": "stream",
     "text": [
      "[1]  0.5 10.0 12.0  1.0\n",
      "note: only 3 unique complexity parameters in default grid. Truncating the grid to 3 .\n",
      "\n"
     ]
    },
    {
     "name": "stderr",
     "output_type": "stream",
     "text": [
      "Warning message in nominalTrainWorkflow(x = x, y = y, wts = weights, info = trainInfo, :\n",
      "\"There were missing values in resampled performance measures.\"\n"
     ]
    },
    {
     "name": "stdout",
     "output_type": "stream",
     "text": [
      "[1]  0.5 10.0 12.0  3.0\n"
     ]
    },
    {
     "name": "stderr",
     "output_type": "stream",
     "text": [
      "Warning message in nominalTrainWorkflow(x = x, y = y, wts = weights, info = trainInfo, :\n",
      "\"There were missing values in resampled performance measures.\"\n"
     ]
    },
    {
     "name": "stdout",
     "output_type": "stream",
     "text": [
      "[1]  0.5 10.0 12.0  5.0\n",
      "[1]  0.5 10.0 12.0 10.0\n"
     ]
    },
    {
     "name": "stderr",
     "output_type": "stream",
     "text": [
      "Warning message in nominalTrainWorkflow(x = x, y = y, wts = weights, info = trainInfo, :\n",
      "\"There were missing values in resampled performance measures.\"\n"
     ]
    },
    {
     "name": "stdout",
     "output_type": "stream",
     "text": [
      "[1]  0.5 10.0 12.0 20.0\n",
      "[1]  0.5 10.0 12.0 30.0\n"
     ]
    },
    {
     "name": "stderr",
     "output_type": "stream",
     "text": [
      "Warning message in nominalTrainWorkflow(x = x, y = y, wts = weights, info = trainInfo, :\n",
      "\"There were missing values in resampled performance measures.\"\n"
     ]
    },
    {
     "name": "stdout",
     "output_type": "stream",
     "text": [
      "[1]  0.5 10.0 12.0 40.0\n",
      "[1]  0.5 10.0 12.0 50.0\n",
      "[1]  0.5 10.0 13.0  0.0\n",
      "note: only 2 unique complexity parameters in default grid. Truncating the grid to 2 .\n",
      "\n"
     ]
    },
    {
     "name": "stderr",
     "output_type": "stream",
     "text": [
      "Warning message in nominalTrainWorkflow(x = x, y = y, wts = weights, info = trainInfo, :\n",
      "\"There were missing values in resampled performance measures.\"\n"
     ]
    },
    {
     "name": "stdout",
     "output_type": "stream",
     "text": [
      "[1]  0.5 10.0 13.0  1.0\n",
      "note: only 3 unique complexity parameters in default grid. Truncating the grid to 3 .\n",
      "\n"
     ]
    },
    {
     "name": "stderr",
     "output_type": "stream",
     "text": [
      "Warning message in nominalTrainWorkflow(x = x, y = y, wts = weights, info = trainInfo, :\n",
      "\"There were missing values in resampled performance measures.\"\n"
     ]
    },
    {
     "name": "stdout",
     "output_type": "stream",
     "text": [
      "[1]  0.5 10.0 13.0  3.0\n"
     ]
    },
    {
     "name": "stderr",
     "output_type": "stream",
     "text": [
      "Warning message in nominalTrainWorkflow(x = x, y = y, wts = weights, info = trainInfo, :\n",
      "\"There were missing values in resampled performance measures.\"\n"
     ]
    },
    {
     "name": "stdout",
     "output_type": "stream",
     "text": [
      "[1]  0.5 10.0 13.0  5.0\n"
     ]
    },
    {
     "name": "stderr",
     "output_type": "stream",
     "text": [
      "Warning message in nominalTrainWorkflow(x = x, y = y, wts = weights, info = trainInfo, :\n",
      "\"There were missing values in resampled performance measures.\"\n"
     ]
    },
    {
     "name": "stdout",
     "output_type": "stream",
     "text": [
      "[1]  0.5 10.0 13.0 10.0\n"
     ]
    },
    {
     "name": "stderr",
     "output_type": "stream",
     "text": [
      "Warning message in nominalTrainWorkflow(x = x, y = y, wts = weights, info = trainInfo, :\n",
      "\"There were missing values in resampled performance measures.\"\n"
     ]
    },
    {
     "name": "stdout",
     "output_type": "stream",
     "text": [
      "[1]  0.5 10.0 13.0 20.0\n"
     ]
    },
    {
     "name": "stderr",
     "output_type": "stream",
     "text": [
      "Warning message in nominalTrainWorkflow(x = x, y = y, wts = weights, info = trainInfo, :\n",
      "\"There were missing values in resampled performance measures.\"\n"
     ]
    },
    {
     "name": "stdout",
     "output_type": "stream",
     "text": [
      "[1]  0.5 10.0 13.0 30.0\n"
     ]
    },
    {
     "name": "stderr",
     "output_type": "stream",
     "text": [
      "Warning message in nominalTrainWorkflow(x = x, y = y, wts = weights, info = trainInfo, :\n",
      "\"There were missing values in resampled performance measures.\"\n"
     ]
    },
    {
     "name": "stdout",
     "output_type": "stream",
     "text": [
      "[1]  0.5 10.0 13.0 40.0\n"
     ]
    },
    {
     "name": "stderr",
     "output_type": "stream",
     "text": [
      "Warning message in nominalTrainWorkflow(x = x, y = y, wts = weights, info = trainInfo, :\n",
      "\"There were missing values in resampled performance measures.\"\n"
     ]
    },
    {
     "name": "stdout",
     "output_type": "stream",
     "text": [
      "[1]  0.5 10.0 13.0 50.0\n"
     ]
    },
    {
     "name": "stderr",
     "output_type": "stream",
     "text": [
      "Warning message in nominalTrainWorkflow(x = x, y = y, wts = weights, info = trainInfo, :\n",
      "\"There were missing values in resampled performance measures.\"\n"
     ]
    },
    {
     "name": "stdout",
     "output_type": "stream",
     "text": [
      "[1]  0.5 10.0 14.0  0.0\n",
      "note: only 2 unique complexity parameters in default grid. Truncating the grid to 2 .\n",
      "\n"
     ]
    },
    {
     "name": "stderr",
     "output_type": "stream",
     "text": [
      "Warning message in nominalTrainWorkflow(x = x, y = y, wts = weights, info = trainInfo, :\n",
      "\"There were missing values in resampled performance measures.\"\n"
     ]
    },
    {
     "name": "stdout",
     "output_type": "stream",
     "text": [
      "[1]  0.5 10.0 14.0  1.0\n",
      "note: only 3 unique complexity parameters in default grid. Truncating the grid to 3 .\n",
      "\n"
     ]
    },
    {
     "name": "stderr",
     "output_type": "stream",
     "text": [
      "Warning message in nominalTrainWorkflow(x = x, y = y, wts = weights, info = trainInfo, :\n",
      "\"There were missing values in resampled performance measures.\"\n"
     ]
    },
    {
     "name": "stdout",
     "output_type": "stream",
     "text": [
      "[1]  0.5 10.0 14.0  3.0\n"
     ]
    },
    {
     "name": "stderr",
     "output_type": "stream",
     "text": [
      "Warning message in nominalTrainWorkflow(x = x, y = y, wts = weights, info = trainInfo, :\n",
      "\"There were missing values in resampled performance measures.\"\n"
     ]
    },
    {
     "name": "stdout",
     "output_type": "stream",
     "text": [
      "[1]  0.5 10.0 14.0  5.0\n"
     ]
    },
    {
     "name": "stderr",
     "output_type": "stream",
     "text": [
      "Warning message in nominalTrainWorkflow(x = x, y = y, wts = weights, info = trainInfo, :\n",
      "\"There were missing values in resampled performance measures.\"\n"
     ]
    },
    {
     "name": "stdout",
     "output_type": "stream",
     "text": [
      "[1]  0.5 10.0 14.0 10.0\n"
     ]
    },
    {
     "name": "stderr",
     "output_type": "stream",
     "text": [
      "Warning message in nominalTrainWorkflow(x = x, y = y, wts = weights, info = trainInfo, :\n",
      "\"There were missing values in resampled performance measures.\"\n"
     ]
    },
    {
     "name": "stdout",
     "output_type": "stream",
     "text": [
      "[1]  0.5 10.0 14.0 20.0\n"
     ]
    },
    {
     "name": "stderr",
     "output_type": "stream",
     "text": [
      "Warning message in nominalTrainWorkflow(x = x, y = y, wts = weights, info = trainInfo, :\n",
      "\"There were missing values in resampled performance measures.\"\n"
     ]
    },
    {
     "name": "stdout",
     "output_type": "stream",
     "text": [
      "[1]  0.5 10.0 14.0 30.0\n"
     ]
    },
    {
     "name": "stderr",
     "output_type": "stream",
     "text": [
      "Warning message in nominalTrainWorkflow(x = x, y = y, wts = weights, info = trainInfo, :\n",
      "\"There were missing values in resampled performance measures.\"\n"
     ]
    },
    {
     "name": "stdout",
     "output_type": "stream",
     "text": [
      "[1]  0.5 10.0 14.0 40.0\n"
     ]
    },
    {
     "name": "stderr",
     "output_type": "stream",
     "text": [
      "Warning message in nominalTrainWorkflow(x = x, y = y, wts = weights, info = trainInfo, :\n",
      "\"There were missing values in resampled performance measures.\"\n"
     ]
    },
    {
     "name": "stdout",
     "output_type": "stream",
     "text": [
      "[1]  0.5 10.0 14.0 50.0\n"
     ]
    },
    {
     "name": "stderr",
     "output_type": "stream",
     "text": [
      "Warning message in nominalTrainWorkflow(x = x, y = y, wts = weights, info = trainInfo, :\n",
      "\"There were missing values in resampled performance measures.\"\n"
     ]
    },
    {
     "name": "stdout",
     "output_type": "stream",
     "text": [
      "[1]  0.5 10.0 15.0  0.0\n",
      "note: only 2 unique complexity parameters in default grid. Truncating the grid to 2 .\n",
      "\n"
     ]
    },
    {
     "name": "stderr",
     "output_type": "stream",
     "text": [
      "Warning message in nominalTrainWorkflow(x = x, y = y, wts = weights, info = trainInfo, :\n",
      "\"There were missing values in resampled performance measures.\"\n"
     ]
    },
    {
     "name": "stdout",
     "output_type": "stream",
     "text": [
      "[1]  0.5 10.0 15.0  1.0\n",
      "note: only 3 unique complexity parameters in default grid. Truncating the grid to 3 .\n",
      "\n"
     ]
    },
    {
     "name": "stderr",
     "output_type": "stream",
     "text": [
      "Warning message in nominalTrainWorkflow(x = x, y = y, wts = weights, info = trainInfo, :\n",
      "\"There were missing values in resampled performance measures.\"\n"
     ]
    },
    {
     "name": "stdout",
     "output_type": "stream",
     "text": [
      "[1]  0.5 10.0 15.0  3.0\n"
     ]
    },
    {
     "name": "stderr",
     "output_type": "stream",
     "text": [
      "Warning message in nominalTrainWorkflow(x = x, y = y, wts = weights, info = trainInfo, :\n",
      "\"There were missing values in resampled performance measures.\"\n"
     ]
    },
    {
     "name": "stdout",
     "output_type": "stream",
     "text": [
      "[1]  0.5 10.0 15.0  5.0\n"
     ]
    },
    {
     "name": "stderr",
     "output_type": "stream",
     "text": [
      "Warning message in nominalTrainWorkflow(x = x, y = y, wts = weights, info = trainInfo, :\n",
      "\"There were missing values in resampled performance measures.\"\n"
     ]
    },
    {
     "name": "stdout",
     "output_type": "stream",
     "text": [
      "[1]  0.5 10.0 15.0 10.0\n"
     ]
    },
    {
     "name": "stderr",
     "output_type": "stream",
     "text": [
      "Warning message in nominalTrainWorkflow(x = x, y = y, wts = weights, info = trainInfo, :\n",
      "\"There were missing values in resampled performance measures.\"\n"
     ]
    },
    {
     "name": "stdout",
     "output_type": "stream",
     "text": [
      "[1]  0.5 10.0 15.0 20.0\n"
     ]
    },
    {
     "name": "stderr",
     "output_type": "stream",
     "text": [
      "Warning message in nominalTrainWorkflow(x = x, y = y, wts = weights, info = trainInfo, :\n",
      "\"There were missing values in resampled performance measures.\"\n"
     ]
    },
    {
     "name": "stdout",
     "output_type": "stream",
     "text": [
      "[1]  0.5 10.0 15.0 30.0\n"
     ]
    },
    {
     "name": "stderr",
     "output_type": "stream",
     "text": [
      "Warning message in nominalTrainWorkflow(x = x, y = y, wts = weights, info = trainInfo, :\n",
      "\"There were missing values in resampled performance measures.\"\n"
     ]
    },
    {
     "name": "stdout",
     "output_type": "stream",
     "text": [
      "[1]  0.5 10.0 15.0 40.0\n",
      "[1]  0.5 10.0 15.0 50.0\n",
      "[1]  0.5 10.0 16.0  0.0\n",
      "note: only 2 unique complexity parameters in default grid. Truncating the grid to 2 .\n",
      "\n"
     ]
    },
    {
     "name": "stderr",
     "output_type": "stream",
     "text": [
      "Warning message in nominalTrainWorkflow(x = x, y = y, wts = weights, info = trainInfo, :\n",
      "\"There were missing values in resampled performance measures.\"\n"
     ]
    },
    {
     "name": "stdout",
     "output_type": "stream",
     "text": [
      "[1]  0.5 10.0 16.0  1.0\n",
      "note: only 3 unique complexity parameters in default grid. Truncating the grid to 3 .\n",
      "\n"
     ]
    },
    {
     "name": "stderr",
     "output_type": "stream",
     "text": [
      "Warning message in nominalTrainWorkflow(x = x, y = y, wts = weights, info = trainInfo, :\n",
      "\"There were missing values in resampled performance measures.\"\n"
     ]
    },
    {
     "name": "stdout",
     "output_type": "stream",
     "text": [
      "[1]  0.5 10.0 16.0  3.0\n"
     ]
    },
    {
     "name": "stderr",
     "output_type": "stream",
     "text": [
      "Warning message in nominalTrainWorkflow(x = x, y = y, wts = weights, info = trainInfo, :\n",
      "\"There were missing values in resampled performance measures.\"\n"
     ]
    },
    {
     "name": "stdout",
     "output_type": "stream",
     "text": [
      "[1]  0.5 10.0 16.0  5.0\n"
     ]
    },
    {
     "name": "stderr",
     "output_type": "stream",
     "text": [
      "Warning message in nominalTrainWorkflow(x = x, y = y, wts = weights, info = trainInfo, :\n",
      "\"There were missing values in resampled performance measures.\"\n"
     ]
    },
    {
     "name": "stdout",
     "output_type": "stream",
     "text": [
      "[1]  0.5 10.0 16.0 10.0\n"
     ]
    },
    {
     "name": "stderr",
     "output_type": "stream",
     "text": [
      "Warning message in nominalTrainWorkflow(x = x, y = y, wts = weights, info = trainInfo, :\n",
      "\"There were missing values in resampled performance measures.\"\n"
     ]
    },
    {
     "name": "stdout",
     "output_type": "stream",
     "text": [
      "[1]  0.5 10.0 16.0 20.0\n"
     ]
    },
    {
     "name": "stderr",
     "output_type": "stream",
     "text": [
      "Warning message in nominalTrainWorkflow(x = x, y = y, wts = weights, info = trainInfo, :\n",
      "\"There were missing values in resampled performance measures.\"\n"
     ]
    },
    {
     "name": "stdout",
     "output_type": "stream",
     "text": [
      "[1]  0.5 10.0 16.0 30.0\n",
      "[1]  0.5 10.0 16.0 40.0\n",
      "[1]  0.5 10.0 16.0 50.0\n",
      "[1]  0.5 10.0 17.0  0.0\n",
      "note: only 2 unique complexity parameters in default grid. Truncating the grid to 2 .\n",
      "\n"
     ]
    },
    {
     "name": "stderr",
     "output_type": "stream",
     "text": [
      "Warning message in nominalTrainWorkflow(x = x, y = y, wts = weights, info = trainInfo, :\n",
      "\"There were missing values in resampled performance measures.\"\n"
     ]
    },
    {
     "name": "stdout",
     "output_type": "stream",
     "text": [
      "[1]  0.5 10.0 17.0  1.0\n",
      "note: only 3 unique complexity parameters in default grid. Truncating the grid to 3 .\n",
      "\n"
     ]
    },
    {
     "name": "stderr",
     "output_type": "stream",
     "text": [
      "Warning message in nominalTrainWorkflow(x = x, y = y, wts = weights, info = trainInfo, :\n",
      "\"There were missing values in resampled performance measures.\"\n"
     ]
    },
    {
     "name": "stdout",
     "output_type": "stream",
     "text": [
      "[1]  0.5 10.0 17.0  3.0\n",
      "[1]  0.5 10.0 17.0  5.0\n",
      "[1]  0.5 10.0 17.0 10.0\n",
      "[1]  0.5 10.0 17.0 20.0\n"
     ]
    },
    {
     "name": "stderr",
     "output_type": "stream",
     "text": [
      "Warning message in nominalTrainWorkflow(x = x, y = y, wts = weights, info = trainInfo, :\n",
      "\"There were missing values in resampled performance measures.\"\n"
     ]
    },
    {
     "name": "stdout",
     "output_type": "stream",
     "text": [
      "[1]  0.5 10.0 17.0 30.0\n"
     ]
    },
    {
     "name": "stderr",
     "output_type": "stream",
     "text": [
      "Warning message in nominalTrainWorkflow(x = x, y = y, wts = weights, info = trainInfo, :\n",
      "\"There were missing values in resampled performance measures.\"\n"
     ]
    },
    {
     "name": "stdout",
     "output_type": "stream",
     "text": [
      "[1]  0.5 10.0 17.0 40.0\n",
      "[1]  0.5 10.0 17.0 50.0\n",
      "[1]  0.5 10.0 18.0  0.0\n",
      "note: only 2 unique complexity parameters in default grid. Truncating the grid to 2 .\n",
      "\n"
     ]
    },
    {
     "name": "stderr",
     "output_type": "stream",
     "text": [
      "Warning message in nominalTrainWorkflow(x = x, y = y, wts = weights, info = trainInfo, :\n",
      "\"There were missing values in resampled performance measures.\"\n"
     ]
    },
    {
     "name": "stdout",
     "output_type": "stream",
     "text": [
      "[1]  0.5 10.0 18.0  1.0\n",
      "note: only 3 unique complexity parameters in default grid. Truncating the grid to 3 .\n",
      "\n"
     ]
    },
    {
     "name": "stderr",
     "output_type": "stream",
     "text": [
      "Warning message in nominalTrainWorkflow(x = x, y = y, wts = weights, info = trainInfo, :\n",
      "\"There were missing values in resampled performance measures.\"\n"
     ]
    },
    {
     "name": "stdout",
     "output_type": "stream",
     "text": [
      "[1]  0.5 10.0 18.0  3.0\n"
     ]
    },
    {
     "name": "stderr",
     "output_type": "stream",
     "text": [
      "Warning message in nominalTrainWorkflow(x = x, y = y, wts = weights, info = trainInfo, :\n",
      "\"There were missing values in resampled performance measures.\"\n"
     ]
    },
    {
     "name": "stdout",
     "output_type": "stream",
     "text": [
      "[1]  0.5 10.0 18.0  5.0\n"
     ]
    },
    {
     "name": "stderr",
     "output_type": "stream",
     "text": [
      "Warning message in nominalTrainWorkflow(x = x, y = y, wts = weights, info = trainInfo, :\n",
      "\"There were missing values in resampled performance measures.\"\n"
     ]
    },
    {
     "name": "stdout",
     "output_type": "stream",
     "text": [
      "[1]  0.5 10.0 18.0 10.0\n"
     ]
    },
    {
     "name": "stderr",
     "output_type": "stream",
     "text": [
      "Warning message in nominalTrainWorkflow(x = x, y = y, wts = weights, info = trainInfo, :\n",
      "\"There were missing values in resampled performance measures.\"\n"
     ]
    },
    {
     "name": "stdout",
     "output_type": "stream",
     "text": [
      "[1]  0.5 10.0 18.0 20.0\n",
      "[1]  0.5 10.0 18.0 30.0\n"
     ]
    },
    {
     "name": "stderr",
     "output_type": "stream",
     "text": [
      "Warning message in nominalTrainWorkflow(x = x, y = y, wts = weights, info = trainInfo, :\n",
      "\"There were missing values in resampled performance measures.\"\n"
     ]
    },
    {
     "name": "stdout",
     "output_type": "stream",
     "text": [
      "[1]  0.5 10.0 18.0 40.0\n",
      "[1]  0.5 10.0 18.0 50.0\n",
      "[1]  0.5 10.0 19.0  0.0\n",
      "note: only 2 unique complexity parameters in default grid. Truncating the grid to 2 .\n",
      "\n"
     ]
    },
    {
     "name": "stderr",
     "output_type": "stream",
     "text": [
      "Warning message in nominalTrainWorkflow(x = x, y = y, wts = weights, info = trainInfo, :\n",
      "\"There were missing values in resampled performance measures.\"\n"
     ]
    },
    {
     "name": "stdout",
     "output_type": "stream",
     "text": [
      "[1]  0.5 10.0 19.0  1.0\n",
      "note: only 3 unique complexity parameters in default grid. Truncating the grid to 3 .\n",
      "\n"
     ]
    },
    {
     "name": "stderr",
     "output_type": "stream",
     "text": [
      "Warning message in nominalTrainWorkflow(x = x, y = y, wts = weights, info = trainInfo, :\n",
      "\"There were missing values in resampled performance measures.\"\n"
     ]
    },
    {
     "name": "stdout",
     "output_type": "stream",
     "text": [
      "[1]  0.5 10.0 19.0  3.0\n"
     ]
    },
    {
     "name": "stderr",
     "output_type": "stream",
     "text": [
      "Warning message in nominalTrainWorkflow(x = x, y = y, wts = weights, info = trainInfo, :\n",
      "\"There were missing values in resampled performance measures.\"\n"
     ]
    },
    {
     "name": "stdout",
     "output_type": "stream",
     "text": [
      "[1]  0.5 10.0 19.0  5.0\n",
      "[1]  0.5 10.0 19.0 10.0\n"
     ]
    },
    {
     "name": "stderr",
     "output_type": "stream",
     "text": [
      "Warning message in nominalTrainWorkflow(x = x, y = y, wts = weights, info = trainInfo, :\n",
      "\"There were missing values in resampled performance measures.\"\n"
     ]
    },
    {
     "name": "stdout",
     "output_type": "stream",
     "text": [
      "[1]  0.5 10.0 19.0 20.0\n",
      "[1]  0.5 10.0 19.0 30.0\n",
      "[1]  0.5 10.0 19.0 40.0\n"
     ]
    },
    {
     "name": "stderr",
     "output_type": "stream",
     "text": [
      "Warning message in nominalTrainWorkflow(x = x, y = y, wts = weights, info = trainInfo, :\n",
      "\"There were missing values in resampled performance measures.\"\n"
     ]
    },
    {
     "name": "stdout",
     "output_type": "stream",
     "text": [
      "[1]  0.5 10.0 19.0 50.0\n",
      "[1]  0.5 10.0 20.0  0.0\n",
      "note: only 2 unique complexity parameters in default grid. Truncating the grid to 2 .\n",
      "\n",
      "[1]  0.5 10.0 20.0  1.0\n",
      "note: only 3 unique complexity parameters in default grid. Truncating the grid to 3 .\n",
      "\n"
     ]
    },
    {
     "name": "stderr",
     "output_type": "stream",
     "text": [
      "Warning message in nominalTrainWorkflow(x = x, y = y, wts = weights, info = trainInfo, :\n",
      "\"There were missing values in resampled performance measures.\"\n"
     ]
    },
    {
     "name": "stdout",
     "output_type": "stream",
     "text": [
      "[1]  0.5 10.0 20.0  3.0\n"
     ]
    },
    {
     "name": "stderr",
     "output_type": "stream",
     "text": [
      "Warning message in nominalTrainWorkflow(x = x, y = y, wts = weights, info = trainInfo, :\n",
      "\"There were missing values in resampled performance measures.\"\n"
     ]
    },
    {
     "name": "stdout",
     "output_type": "stream",
     "text": [
      "[1]  0.5 10.0 20.0  5.0\n"
     ]
    },
    {
     "name": "stderr",
     "output_type": "stream",
     "text": [
      "Warning message in nominalTrainWorkflow(x = x, y = y, wts = weights, info = trainInfo, :\n",
      "\"There were missing values in resampled performance measures.\"\n"
     ]
    },
    {
     "name": "stdout",
     "output_type": "stream",
     "text": [
      "[1]  0.5 10.0 20.0 10.0\n"
     ]
    },
    {
     "name": "stderr",
     "output_type": "stream",
     "text": [
      "Warning message in nominalTrainWorkflow(x = x, y = y, wts = weights, info = trainInfo, :\n",
      "\"There were missing values in resampled performance measures.\"\n"
     ]
    },
    {
     "name": "stdout",
     "output_type": "stream",
     "text": [
      "[1]  0.5 10.0 20.0 20.0\n",
      "[1]  0.5 10.0 20.0 30.0\n",
      "[1]  0.5 10.0 20.0 40.0\n",
      "[1]  0.5 10.0 20.0 50.0\n"
     ]
    },
    {
     "name": "stderr",
     "output_type": "stream",
     "text": [
      "Warning message in nominalTrainWorkflow(x = x, y = y, wts = weights, info = trainInfo, :\n",
      "\"There were missing values in resampled performance measures.\"\n"
     ]
    },
    {
     "name": "stdout",
     "output_type": "stream",
     "text": [
      "[1]  0.5 10.0 21.0  0.0\n",
      "note: only 2 unique complexity parameters in default grid. Truncating the grid to 2 .\n",
      "\n"
     ]
    },
    {
     "name": "stderr",
     "output_type": "stream",
     "text": [
      "Warning message in nominalTrainWorkflow(x = x, y = y, wts = weights, info = trainInfo, :\n",
      "\"There were missing values in resampled performance measures.\"\n"
     ]
    },
    {
     "name": "stdout",
     "output_type": "stream",
     "text": [
      "[1]  0.5 10.0 21.0  1.0\n",
      "note: only 3 unique complexity parameters in default grid. Truncating the grid to 3 .\n",
      "\n"
     ]
    },
    {
     "name": "stderr",
     "output_type": "stream",
     "text": [
      "Warning message in nominalTrainWorkflow(x = x, y = y, wts = weights, info = trainInfo, :\n",
      "\"There were missing values in resampled performance measures.\"\n"
     ]
    },
    {
     "name": "stdout",
     "output_type": "stream",
     "text": [
      "[1]  0.5 10.0 21.0  3.0\n"
     ]
    },
    {
     "name": "stderr",
     "output_type": "stream",
     "text": [
      "Warning message in nominalTrainWorkflow(x = x, y = y, wts = weights, info = trainInfo, :\n",
      "\"There were missing values in resampled performance measures.\"\n"
     ]
    },
    {
     "name": "stdout",
     "output_type": "stream",
     "text": [
      "[1]  0.5 10.0 21.0  5.0\n",
      "[1]  0.5 10.0 21.0 10.0\n",
      "[1]  0.5 10.0 21.0 20.0\n"
     ]
    },
    {
     "name": "stderr",
     "output_type": "stream",
     "text": [
      "Warning message in nominalTrainWorkflow(x = x, y = y, wts = weights, info = trainInfo, :\n",
      "\"There were missing values in resampled performance measures.\"\n"
     ]
    },
    {
     "name": "stdout",
     "output_type": "stream",
     "text": [
      "[1]  0.5 10.0 21.0 30.0\n"
     ]
    },
    {
     "name": "stderr",
     "output_type": "stream",
     "text": [
      "Warning message in nominalTrainWorkflow(x = x, y = y, wts = weights, info = trainInfo, :\n",
      "\"There were missing values in resampled performance measures.\"\n"
     ]
    },
    {
     "name": "stdout",
     "output_type": "stream",
     "text": [
      "[1]  0.5 10.0 21.0 40.0\n"
     ]
    },
    {
     "name": "stderr",
     "output_type": "stream",
     "text": [
      "Warning message in nominalTrainWorkflow(x = x, y = y, wts = weights, info = trainInfo, :\n",
      "\"There were missing values in resampled performance measures.\"\n"
     ]
    },
    {
     "name": "stdout",
     "output_type": "stream",
     "text": [
      "[1]  0.5 10.0 21.0 50.0\n",
      "[1]  0.5 10.0 22.0  0.0\n",
      "note: only 2 unique complexity parameters in default grid. Truncating the grid to 2 .\n",
      "\n",
      "[1]  0.5 10.0 22.0  1.0\n",
      "note: only 3 unique complexity parameters in default grid. Truncating the grid to 3 .\n",
      "\n"
     ]
    },
    {
     "name": "stderr",
     "output_type": "stream",
     "text": [
      "Warning message in nominalTrainWorkflow(x = x, y = y, wts = weights, info = trainInfo, :\n",
      "\"There were missing values in resampled performance measures.\"\n"
     ]
    },
    {
     "name": "stdout",
     "output_type": "stream",
     "text": [
      "[1]  0.5 10.0 22.0  3.0\n",
      "[1]  0.5 10.0 22.0  5.0\n",
      "[1]  0.5 10.0 22.0 10.0\n",
      "[1]  0.5 10.0 22.0 20.0\n"
     ]
    },
    {
     "name": "stderr",
     "output_type": "stream",
     "text": [
      "Warning message in nominalTrainWorkflow(x = x, y = y, wts = weights, info = trainInfo, :\n",
      "\"There were missing values in resampled performance measures.\"\n"
     ]
    },
    {
     "name": "stdout",
     "output_type": "stream",
     "text": [
      "[1]  0.5 10.0 22.0 30.0\n",
      "[1]  0.5 10.0 22.0 40.0\n",
      "[1]  0.5 10.0 22.0 50.0\n",
      "[1]  0.5 10.0 23.0  0.0\n",
      "note: only 2 unique complexity parameters in default grid. Truncating the grid to 2 .\n",
      "\n"
     ]
    },
    {
     "name": "stderr",
     "output_type": "stream",
     "text": [
      "Warning message in nominalTrainWorkflow(x = x, y = y, wts = weights, info = trainInfo, :\n",
      "\"There were missing values in resampled performance measures.\"\n"
     ]
    },
    {
     "name": "stdout",
     "output_type": "stream",
     "text": [
      "[1]  0.5 10.0 23.0  1.0\n",
      "note: only 3 unique complexity parameters in default grid. Truncating the grid to 3 .\n",
      "\n"
     ]
    },
    {
     "name": "stderr",
     "output_type": "stream",
     "text": [
      "Warning message in nominalTrainWorkflow(x = x, y = y, wts = weights, info = trainInfo, :\n",
      "\"There were missing values in resampled performance measures.\"\n"
     ]
    },
    {
     "name": "stdout",
     "output_type": "stream",
     "text": [
      "[1]  0.5 10.0 23.0  3.0\n"
     ]
    },
    {
     "name": "stderr",
     "output_type": "stream",
     "text": [
      "Warning message in nominalTrainWorkflow(x = x, y = y, wts = weights, info = trainInfo, :\n",
      "\"There were missing values in resampled performance measures.\"\n"
     ]
    },
    {
     "name": "stdout",
     "output_type": "stream",
     "text": [
      "[1]  0.5 10.0 23.0  5.0\n"
     ]
    },
    {
     "name": "stderr",
     "output_type": "stream",
     "text": [
      "Warning message in nominalTrainWorkflow(x = x, y = y, wts = weights, info = trainInfo, :\n",
      "\"There were missing values in resampled performance measures.\"\n"
     ]
    },
    {
     "name": "stdout",
     "output_type": "stream",
     "text": [
      "[1]  0.5 10.0 23.0 10.0\n",
      "[1]  0.5 10.0 23.0 20.0\n",
      "[1]  0.5 10.0 23.0 30.0\n",
      "[1]  0.5 10.0 23.0 40.0\n"
     ]
    },
    {
     "name": "stderr",
     "output_type": "stream",
     "text": [
      "Warning message in nominalTrainWorkflow(x = x, y = y, wts = weights, info = trainInfo, :\n",
      "\"There were missing values in resampled performance measures.\"\n"
     ]
    },
    {
     "name": "stdout",
     "output_type": "stream",
     "text": [
      "[1]  0.5 10.0 23.0 50.0\n",
      "[1]  0.5 10.0 24.0  0.0\n",
      "note: only 2 unique complexity parameters in default grid. Truncating the grid to 2 .\n",
      "\n"
     ]
    },
    {
     "name": "stderr",
     "output_type": "stream",
     "text": [
      "Warning message in nominalTrainWorkflow(x = x, y = y, wts = weights, info = trainInfo, :\n",
      "\"There were missing values in resampled performance measures.\"\n"
     ]
    },
    {
     "name": "stdout",
     "output_type": "stream",
     "text": [
      "[1]  0.5 10.0 24.0  1.0\n",
      "note: only 3 unique complexity parameters in default grid. Truncating the grid to 3 .\n",
      "\n"
     ]
    },
    {
     "name": "stderr",
     "output_type": "stream",
     "text": [
      "Warning message in nominalTrainWorkflow(x = x, y = y, wts = weights, info = trainInfo, :\n",
      "\"There were missing values in resampled performance measures.\"\n"
     ]
    },
    {
     "name": "stdout",
     "output_type": "stream",
     "text": [
      "[1]  0.5 10.0 24.0  3.0\n"
     ]
    },
    {
     "name": "stderr",
     "output_type": "stream",
     "text": [
      "Warning message in nominalTrainWorkflow(x = x, y = y, wts = weights, info = trainInfo, :\n",
      "\"There were missing values in resampled performance measures.\"\n"
     ]
    },
    {
     "name": "stdout",
     "output_type": "stream",
     "text": [
      "[1]  0.5 10.0 24.0  5.0\n"
     ]
    },
    {
     "name": "stderr",
     "output_type": "stream",
     "text": [
      "Warning message in nominalTrainWorkflow(x = x, y = y, wts = weights, info = trainInfo, :\n",
      "\"There were missing values in resampled performance measures.\"\n"
     ]
    },
    {
     "name": "stdout",
     "output_type": "stream",
     "text": [
      "[1]  0.5 10.0 24.0 10.0\n"
     ]
    },
    {
     "name": "stderr",
     "output_type": "stream",
     "text": [
      "Warning message in nominalTrainWorkflow(x = x, y = y, wts = weights, info = trainInfo, :\n",
      "\"There were missing values in resampled performance measures.\"\n"
     ]
    },
    {
     "name": "stdout",
     "output_type": "stream",
     "text": [
      "[1]  0.5 10.0 24.0 20.0\n",
      "[1]  0.5 10.0 24.0 30.0\n"
     ]
    },
    {
     "name": "stderr",
     "output_type": "stream",
     "text": [
      "Warning message in nominalTrainWorkflow(x = x, y = y, wts = weights, info = trainInfo, :\n",
      "\"There were missing values in resampled performance measures.\"\n"
     ]
    },
    {
     "name": "stdout",
     "output_type": "stream",
     "text": [
      "[1]  0.5 10.0 24.0 40.0\n",
      "[1]  0.5 10.0 24.0 50.0\n",
      "[1]  0.5 10.0 25.0  0.0\n",
      "note: only 2 unique complexity parameters in default grid. Truncating the grid to 2 .\n",
      "\n"
     ]
    },
    {
     "name": "stderr",
     "output_type": "stream",
     "text": [
      "Warning message in nominalTrainWorkflow(x = x, y = y, wts = weights, info = trainInfo, :\n",
      "\"There were missing values in resampled performance measures.\"\n"
     ]
    },
    {
     "name": "stdout",
     "output_type": "stream",
     "text": [
      "[1]  0.5 10.0 25.0  1.0\n",
      "note: only 3 unique complexity parameters in default grid. Truncating the grid to 3 .\n",
      "\n"
     ]
    },
    {
     "name": "stderr",
     "output_type": "stream",
     "text": [
      "Warning message in nominalTrainWorkflow(x = x, y = y, wts = weights, info = trainInfo, :\n",
      "\"There were missing values in resampled performance measures.\"\n"
     ]
    },
    {
     "name": "stdout",
     "output_type": "stream",
     "text": [
      "[1]  0.5 10.0 25.0  3.0\n"
     ]
    },
    {
     "name": "stderr",
     "output_type": "stream",
     "text": [
      "Warning message in nominalTrainWorkflow(x = x, y = y, wts = weights, info = trainInfo, :\n",
      "\"There were missing values in resampled performance measures.\"\n"
     ]
    },
    {
     "name": "stdout",
     "output_type": "stream",
     "text": [
      "[1]  0.5 10.0 25.0  5.0\n"
     ]
    },
    {
     "name": "stderr",
     "output_type": "stream",
     "text": [
      "Warning message in nominalTrainWorkflow(x = x, y = y, wts = weights, info = trainInfo, :\n",
      "\"There were missing values in resampled performance measures.\"\n"
     ]
    },
    {
     "name": "stdout",
     "output_type": "stream",
     "text": [
      "[1]  0.5 10.0 25.0 10.0\n"
     ]
    },
    {
     "name": "stderr",
     "output_type": "stream",
     "text": [
      "Warning message in nominalTrainWorkflow(x = x, y = y, wts = weights, info = trainInfo, :\n",
      "\"There were missing values in resampled performance measures.\"\n"
     ]
    },
    {
     "name": "stdout",
     "output_type": "stream",
     "text": [
      "[1]  0.5 10.0 25.0 20.0\n"
     ]
    },
    {
     "name": "stderr",
     "output_type": "stream",
     "text": [
      "Warning message in nominalTrainWorkflow(x = x, y = y, wts = weights, info = trainInfo, :\n",
      "\"There were missing values in resampled performance measures.\"\n"
     ]
    },
    {
     "name": "stdout",
     "output_type": "stream",
     "text": [
      "[1]  0.5 10.0 25.0 30.0\n"
     ]
    },
    {
     "name": "stderr",
     "output_type": "stream",
     "text": [
      "Warning message in nominalTrainWorkflow(x = x, y = y, wts = weights, info = trainInfo, :\n",
      "\"There were missing values in resampled performance measures.\"\n"
     ]
    },
    {
     "name": "stdout",
     "output_type": "stream",
     "text": [
      "[1]  0.5 10.0 25.0 40.0\n"
     ]
    },
    {
     "name": "stderr",
     "output_type": "stream",
     "text": [
      "Warning message in nominalTrainWorkflow(x = x, y = y, wts = weights, info = trainInfo, :\n",
      "\"There were missing values in resampled performance measures.\"\n"
     ]
    },
    {
     "name": "stdout",
     "output_type": "stream",
     "text": [
      "[1]  0.5 10.0 25.0 50.0\n"
     ]
    },
    {
     "name": "stderr",
     "output_type": "stream",
     "text": [
      "Warning message in nominalTrainWorkflow(x = x, y = y, wts = weights, info = trainInfo, :\n",
      "\"There were missing values in resampled performance measures.\"\n"
     ]
    },
    {
     "name": "stdout",
     "output_type": "stream",
     "text": [
      "[1]  0.5 10.0 26.0  0.0\n",
      "note: only 2 unique complexity parameters in default grid. Truncating the grid to 2 .\n",
      "\n"
     ]
    },
    {
     "name": "stderr",
     "output_type": "stream",
     "text": [
      "Warning message in nominalTrainWorkflow(x = x, y = y, wts = weights, info = trainInfo, :\n",
      "\"There were missing values in resampled performance measures.\"\n"
     ]
    },
    {
     "name": "stdout",
     "output_type": "stream",
     "text": [
      "[1]  0.5 10.0 26.0  1.0\n",
      "note: only 3 unique complexity parameters in default grid. Truncating the grid to 3 .\n",
      "\n"
     ]
    },
    {
     "name": "stderr",
     "output_type": "stream",
     "text": [
      "Warning message in nominalTrainWorkflow(x = x, y = y, wts = weights, info = trainInfo, :\n",
      "\"There were missing values in resampled performance measures.\"\n"
     ]
    },
    {
     "name": "stdout",
     "output_type": "stream",
     "text": [
      "[1]  0.5 10.0 26.0  3.0\n"
     ]
    },
    {
     "name": "stderr",
     "output_type": "stream",
     "text": [
      "Warning message in nominalTrainWorkflow(x = x, y = y, wts = weights, info = trainInfo, :\n",
      "\"There were missing values in resampled performance measures.\"\n"
     ]
    },
    {
     "name": "stdout",
     "output_type": "stream",
     "text": [
      "[1]  0.5 10.0 26.0  5.0\n"
     ]
    },
    {
     "name": "stderr",
     "output_type": "stream",
     "text": [
      "Warning message in nominalTrainWorkflow(x = x, y = y, wts = weights, info = trainInfo, :\n",
      "\"There were missing values in resampled performance measures.\"\n"
     ]
    },
    {
     "name": "stdout",
     "output_type": "stream",
     "text": [
      "[1]  0.5 10.0 26.0 10.0\n"
     ]
    },
    {
     "name": "stderr",
     "output_type": "stream",
     "text": [
      "Warning message in nominalTrainWorkflow(x = x, y = y, wts = weights, info = trainInfo, :\n",
      "\"There were missing values in resampled performance measures.\"\n"
     ]
    },
    {
     "name": "stdout",
     "output_type": "stream",
     "text": [
      "[1]  0.5 10.0 26.0 20.0\n",
      "[1]  0.5 10.0 26.0 30.0\n",
      "[1]  0.5 10.0 26.0 40.0\n"
     ]
    },
    {
     "name": "stderr",
     "output_type": "stream",
     "text": [
      "Warning message in nominalTrainWorkflow(x = x, y = y, wts = weights, info = trainInfo, :\n",
      "\"There were missing values in resampled performance measures.\"\n"
     ]
    },
    {
     "name": "stdout",
     "output_type": "stream",
     "text": [
      "[1]  0.5 10.0 26.0 50.0\n"
     ]
    },
    {
     "name": "stderr",
     "output_type": "stream",
     "text": [
      "Warning message in nominalTrainWorkflow(x = x, y = y, wts = weights, info = trainInfo, :\n",
      "\"There were missing values in resampled performance measures.\"\n"
     ]
    },
    {
     "name": "stdout",
     "output_type": "stream",
     "text": [
      "[1]  0.5 10.0 27.0  0.0\n",
      "note: only 2 unique complexity parameters in default grid. Truncating the grid to 2 .\n",
      "\n"
     ]
    },
    {
     "name": "stderr",
     "output_type": "stream",
     "text": [
      "Warning message in nominalTrainWorkflow(x = x, y = y, wts = weights, info = trainInfo, :\n",
      "\"There were missing values in resampled performance measures.\"\n"
     ]
    },
    {
     "name": "stdout",
     "output_type": "stream",
     "text": [
      "[1]  0.5 10.0 27.0  1.0\n",
      "note: only 3 unique complexity parameters in default grid. Truncating the grid to 3 .\n",
      "\n"
     ]
    },
    {
     "name": "stderr",
     "output_type": "stream",
     "text": [
      "Warning message in nominalTrainWorkflow(x = x, y = y, wts = weights, info = trainInfo, :\n",
      "\"There were missing values in resampled performance measures.\"\n"
     ]
    },
    {
     "name": "stdout",
     "output_type": "stream",
     "text": [
      "[1]  0.5 10.0 27.0  3.0\n"
     ]
    },
    {
     "name": "stderr",
     "output_type": "stream",
     "text": [
      "Warning message in nominalTrainWorkflow(x = x, y = y, wts = weights, info = trainInfo, :\n",
      "\"There were missing values in resampled performance measures.\"\n"
     ]
    },
    {
     "name": "stdout",
     "output_type": "stream",
     "text": [
      "[1]  0.5 10.0 27.0  5.0\n"
     ]
    },
    {
     "name": "stderr",
     "output_type": "stream",
     "text": [
      "Warning message in nominalTrainWorkflow(x = x, y = y, wts = weights, info = trainInfo, :\n",
      "\"There were missing values in resampled performance measures.\"\n"
     ]
    },
    {
     "name": "stdout",
     "output_type": "stream",
     "text": [
      "[1]  0.5 10.0 27.0 10.0\n"
     ]
    },
    {
     "name": "stderr",
     "output_type": "stream",
     "text": [
      "Warning message in nominalTrainWorkflow(x = x, y = y, wts = weights, info = trainInfo, :\n",
      "\"There were missing values in resampled performance measures.\"\n"
     ]
    },
    {
     "name": "stdout",
     "output_type": "stream",
     "text": [
      "[1]  0.5 10.0 27.0 20.0\n",
      "[1]  0.5 10.0 27.0 30.0\n"
     ]
    },
    {
     "name": "stderr",
     "output_type": "stream",
     "text": [
      "Warning message in nominalTrainWorkflow(x = x, y = y, wts = weights, info = trainInfo, :\n",
      "\"There were missing values in resampled performance measures.\"\n"
     ]
    },
    {
     "name": "stdout",
     "output_type": "stream",
     "text": [
      "[1]  0.5 10.0 27.0 40.0\n"
     ]
    },
    {
     "name": "stderr",
     "output_type": "stream",
     "text": [
      "Warning message in nominalTrainWorkflow(x = x, y = y, wts = weights, info = trainInfo, :\n",
      "\"There were missing values in resampled performance measures.\"\n"
     ]
    },
    {
     "name": "stdout",
     "output_type": "stream",
     "text": [
      "[1]  0.5 10.0 27.0 50.0\n",
      "[1]  0.5 10.0 28.0  0.0\n",
      "note: only 2 unique complexity parameters in default grid. Truncating the grid to 2 .\n",
      "\n"
     ]
    },
    {
     "name": "stderr",
     "output_type": "stream",
     "text": [
      "Warning message in nominalTrainWorkflow(x = x, y = y, wts = weights, info = trainInfo, :\n",
      "\"There were missing values in resampled performance measures.\"\n"
     ]
    },
    {
     "name": "stdout",
     "output_type": "stream",
     "text": [
      "[1]  0.5 10.0 28.0  1.0\n",
      "note: only 3 unique complexity parameters in default grid. Truncating the grid to 3 .\n",
      "\n"
     ]
    },
    {
     "name": "stderr",
     "output_type": "stream",
     "text": [
      "Warning message in nominalTrainWorkflow(x = x, y = y, wts = weights, info = trainInfo, :\n",
      "\"There were missing values in resampled performance measures.\"\n"
     ]
    },
    {
     "name": "stdout",
     "output_type": "stream",
     "text": [
      "[1]  0.5 10.0 28.0  3.0\n"
     ]
    },
    {
     "name": "stderr",
     "output_type": "stream",
     "text": [
      "Warning message in nominalTrainWorkflow(x = x, y = y, wts = weights, info = trainInfo, :\n",
      "\"There were missing values in resampled performance measures.\"\n"
     ]
    },
    {
     "name": "stdout",
     "output_type": "stream",
     "text": [
      "[1]  0.5 10.0 28.0  5.0\n"
     ]
    },
    {
     "name": "stderr",
     "output_type": "stream",
     "text": [
      "Warning message in nominalTrainWorkflow(x = x, y = y, wts = weights, info = trainInfo, :\n",
      "\"There were missing values in resampled performance measures.\"\n"
     ]
    },
    {
     "name": "stdout",
     "output_type": "stream",
     "text": [
      "[1]  0.5 10.0 28.0 10.0\n",
      "[1]  0.5 10.0 28.0 20.0\n",
      "[1]  0.5 10.0 28.0 30.0\n",
      "[1]  0.5 10.0 28.0 40.0\n"
     ]
    },
    {
     "name": "stderr",
     "output_type": "stream",
     "text": [
      "Warning message in nominalTrainWorkflow(x = x, y = y, wts = weights, info = trainInfo, :\n",
      "\"There were missing values in resampled performance measures.\"\n"
     ]
    },
    {
     "name": "stdout",
     "output_type": "stream",
     "text": [
      "[1]  0.5 10.0 28.0 50.0\n"
     ]
    },
    {
     "name": "stderr",
     "output_type": "stream",
     "text": [
      "Warning message in nominalTrainWorkflow(x = x, y = y, wts = weights, info = trainInfo, :\n",
      "\"There were missing values in resampled performance measures.\"\n"
     ]
    },
    {
     "name": "stdout",
     "output_type": "stream",
     "text": [
      "[1]  0.5 10.0 29.0  0.0\n",
      "note: only 2 unique complexity parameters in default grid. Truncating the grid to 2 .\n",
      "\n"
     ]
    },
    {
     "name": "stderr",
     "output_type": "stream",
     "text": [
      "Warning message in nominalTrainWorkflow(x = x, y = y, wts = weights, info = trainInfo, :\n",
      "\"There were missing values in resampled performance measures.\"\n"
     ]
    },
    {
     "name": "stdout",
     "output_type": "stream",
     "text": [
      "[1]  0.5 10.0 29.0  1.0\n",
      "note: only 3 unique complexity parameters in default grid. Truncating the grid to 3 .\n",
      "\n"
     ]
    },
    {
     "name": "stderr",
     "output_type": "stream",
     "text": [
      "Warning message in nominalTrainWorkflow(x = x, y = y, wts = weights, info = trainInfo, :\n",
      "\"There were missing values in resampled performance measures.\"\n"
     ]
    },
    {
     "name": "stdout",
     "output_type": "stream",
     "text": [
      "[1]  0.5 10.0 29.0  3.0\n"
     ]
    },
    {
     "name": "stderr",
     "output_type": "stream",
     "text": [
      "Warning message in nominalTrainWorkflow(x = x, y = y, wts = weights, info = trainInfo, :\n",
      "\"There were missing values in resampled performance measures.\"\n"
     ]
    },
    {
     "name": "stdout",
     "output_type": "stream",
     "text": [
      "[1]  0.5 10.0 29.0  5.0\n"
     ]
    },
    {
     "name": "stderr",
     "output_type": "stream",
     "text": [
      "Warning message in nominalTrainWorkflow(x = x, y = y, wts = weights, info = trainInfo, :\n",
      "\"There were missing values in resampled performance measures.\"\n"
     ]
    },
    {
     "name": "stdout",
     "output_type": "stream",
     "text": [
      "[1]  0.5 10.0 29.0 10.0\n"
     ]
    },
    {
     "name": "stderr",
     "output_type": "stream",
     "text": [
      "Warning message in nominalTrainWorkflow(x = x, y = y, wts = weights, info = trainInfo, :\n",
      "\"There were missing values in resampled performance measures.\"\n"
     ]
    },
    {
     "name": "stdout",
     "output_type": "stream",
     "text": [
      "[1]  0.5 10.0 29.0 20.0\n"
     ]
    },
    {
     "name": "stderr",
     "output_type": "stream",
     "text": [
      "Warning message in nominalTrainWorkflow(x = x, y = y, wts = weights, info = trainInfo, :\n",
      "\"There were missing values in resampled performance measures.\"\n"
     ]
    },
    {
     "name": "stdout",
     "output_type": "stream",
     "text": [
      "[1]  0.5 10.0 29.0 30.0\n"
     ]
    },
    {
     "name": "stderr",
     "output_type": "stream",
     "text": [
      "Warning message in nominalTrainWorkflow(x = x, y = y, wts = weights, info = trainInfo, :\n",
      "\"There were missing values in resampled performance measures.\"\n"
     ]
    },
    {
     "name": "stdout",
     "output_type": "stream",
     "text": [
      "[1]  0.5 10.0 29.0 40.0\n"
     ]
    },
    {
     "name": "stderr",
     "output_type": "stream",
     "text": [
      "Warning message in nominalTrainWorkflow(x = x, y = y, wts = weights, info = trainInfo, :\n",
      "\"There were missing values in resampled performance measures.\"\n"
     ]
    },
    {
     "name": "stdout",
     "output_type": "stream",
     "text": [
      "[1]  0.5 10.0 29.0 50.0\n",
      "[1]  0.5 10.0 30.0  0.0\n",
      "note: only 2 unique complexity parameters in default grid. Truncating the grid to 2 .\n",
      "\n"
     ]
    },
    {
     "name": "stderr",
     "output_type": "stream",
     "text": [
      "Warning message in nominalTrainWorkflow(x = x, y = y, wts = weights, info = trainInfo, :\n",
      "\"There were missing values in resampled performance measures.\"\n"
     ]
    },
    {
     "name": "stdout",
     "output_type": "stream",
     "text": [
      "[1]  0.5 10.0 30.0  1.0\n",
      "note: only 3 unique complexity parameters in default grid. Truncating the grid to 3 .\n",
      "\n",
      "[1]  0.5 10.0 30.0  3.0\n",
      "[1]  0.5 10.0 30.0  5.0\n",
      "[1]  0.5 10.0 30.0 10.0\n",
      "[1]  0.5 10.0 30.0 20.0\n",
      "[1]  0.5 10.0 30.0 30.0\n"
     ]
    },
    {
     "name": "stderr",
     "output_type": "stream",
     "text": [
      "Warning message in nominalTrainWorkflow(x = x, y = y, wts = weights, info = trainInfo, :\n",
      "\"There were missing values in resampled performance measures.\"\n"
     ]
    },
    {
     "name": "stdout",
     "output_type": "stream",
     "text": [
      "[1]  0.5 10.0 30.0 40.0\n",
      "[1]  0.5 10.0 30.0 50.0\n",
      "[1]  0.5 20.0  1.0  0.0\n",
      "note: only 2 unique complexity parameters in default grid. Truncating the grid to 2 .\n",
      "\n"
     ]
    },
    {
     "name": "stderr",
     "output_type": "stream",
     "text": [
      "Warning message in nominalTrainWorkflow(x = x, y = y, wts = weights, info = trainInfo, :\n",
      "\"There were missing values in resampled performance measures.\"\n"
     ]
    },
    {
     "name": "stdout",
     "output_type": "stream",
     "text": [
      "[1]  0.5 20.0  1.0  1.0\n",
      "note: only 3 unique complexity parameters in default grid. Truncating the grid to 3 .\n",
      "\n"
     ]
    },
    {
     "name": "stderr",
     "output_type": "stream",
     "text": [
      "Warning message in nominalTrainWorkflow(x = x, y = y, wts = weights, info = trainInfo, :\n",
      "\"There were missing values in resampled performance measures.\"\n"
     ]
    },
    {
     "name": "stdout",
     "output_type": "stream",
     "text": [
      "[1]  0.5 20.0  1.0  3.0\n",
      "[1]  0.5 20.0  1.0  5.0\n",
      "[1]  0.5 20.0  1.0 10.0\n",
      "[1]  0.5 20.0  1.0 20.0\n",
      "[1]  0.5 20.0  1.0 30.0\n",
      "[1]  0.5 20.0  1.0 40.0\n",
      "[1]  0.5 20.0  1.0 50.0\n",
      "[1]  0.5 20.0  2.0  0.0\n",
      "note: only 2 unique complexity parameters in default grid. Truncating the grid to 2 .\n",
      "\n",
      "[1]  0.5 20.0  2.0  1.0\n",
      "note: only 3 unique complexity parameters in default grid. Truncating the grid to 3 .\n",
      "\n",
      "[1]  0.5 20.0  2.0  3.0\n",
      "[1]  0.5 20.0  2.0  5.0\n",
      "[1]  0.5 20.0  2.0 10.0\n",
      "[1]  0.5 20.0  2.0 20.0\n",
      "[1]  0.5 20.0  2.0 30.0\n",
      "[1]  0.5 20.0  2.0 40.0\n",
      "[1]  0.5 20.0  2.0 50.0\n",
      "[1]  0.5 20.0  3.0  0.0\n",
      "note: only 2 unique complexity parameters in default grid. Truncating the grid to 2 .\n",
      "\n",
      "[1]  0.5 20.0  3.0  1.0\n",
      "note: only 3 unique complexity parameters in default grid. Truncating the grid to 3 .\n",
      "\n",
      "[1]  0.5 20.0  3.0  3.0\n",
      "[1]  0.5 20.0  3.0  5.0\n",
      "[1]  0.5 20.0  3.0 10.0\n",
      "[1]  0.5 20.0  3.0 20.0\n",
      "[1]  0.5 20.0  3.0 30.0\n",
      "[1]  0.5 20.0  3.0 40.0\n",
      "[1]  0.5 20.0  3.0 50.0\n",
      "[1]  0.5 20.0  4.0  0.0\n",
      "note: only 2 unique complexity parameters in default grid. Truncating the grid to 2 .\n",
      "\n"
     ]
    },
    {
     "name": "stderr",
     "output_type": "stream",
     "text": [
      "Warning message in nominalTrainWorkflow(x = x, y = y, wts = weights, info = trainInfo, :\n",
      "\"There were missing values in resampled performance measures.\"\n"
     ]
    },
    {
     "name": "stdout",
     "output_type": "stream",
     "text": [
      "[1]  0.5 20.0  4.0  1.0\n",
      "note: only 3 unique complexity parameters in default grid. Truncating the grid to 3 .\n",
      "\n"
     ]
    },
    {
     "name": "stderr",
     "output_type": "stream",
     "text": [
      "Warning message in nominalTrainWorkflow(x = x, y = y, wts = weights, info = trainInfo, :\n",
      "\"There were missing values in resampled performance measures.\"\n"
     ]
    },
    {
     "name": "stdout",
     "output_type": "stream",
     "text": [
      "[1]  0.5 20.0  4.0  3.0\n",
      "[1]  0.5 20.0  4.0  5.0\n",
      "[1]  0.5 20.0  4.0 10.0\n",
      "[1]  0.5 20.0  4.0 20.0\n",
      "[1]  0.5 20.0  4.0 30.0\n",
      "[1]  0.5 20.0  4.0 40.0\n",
      "[1]  0.5 20.0  4.0 50.0\n",
      "[1]  0.5 20.0  5.0  0.0\n",
      "note: only 2 unique complexity parameters in default grid. Truncating the grid to 2 .\n",
      "\n"
     ]
    },
    {
     "name": "stderr",
     "output_type": "stream",
     "text": [
      "Warning message in nominalTrainWorkflow(x = x, y = y, wts = weights, info = trainInfo, :\n",
      "\"There were missing values in resampled performance measures.\"\n"
     ]
    },
    {
     "name": "stdout",
     "output_type": "stream",
     "text": [
      "[1]  0.5 20.0  5.0  1.0\n",
      "note: only 3 unique complexity parameters in default grid. Truncating the grid to 3 .\n",
      "\n",
      "[1]  0.5 20.0  5.0  3.0\n",
      "[1]  0.5 20.0  5.0  5.0\n"
     ]
    },
    {
     "name": "stderr",
     "output_type": "stream",
     "text": [
      "Warning message in nominalTrainWorkflow(x = x, y = y, wts = weights, info = trainInfo, :\n",
      "\"There were missing values in resampled performance measures.\"\n"
     ]
    },
    {
     "name": "stdout",
     "output_type": "stream",
     "text": [
      "[1]  0.5 20.0  5.0 10.0\n"
     ]
    },
    {
     "name": "stderr",
     "output_type": "stream",
     "text": [
      "Warning message in nominalTrainWorkflow(x = x, y = y, wts = weights, info = trainInfo, :\n",
      "\"There were missing values in resampled performance measures.\"\n"
     ]
    },
    {
     "name": "stdout",
     "output_type": "stream",
     "text": [
      "[1]  0.5 20.0  5.0 20.0\n",
      "[1]  0.5 20.0  5.0 30.0\n"
     ]
    },
    {
     "name": "stderr",
     "output_type": "stream",
     "text": [
      "Warning message in nominalTrainWorkflow(x = x, y = y, wts = weights, info = trainInfo, :\n",
      "\"There were missing values in resampled performance measures.\"\n"
     ]
    },
    {
     "name": "stdout",
     "output_type": "stream",
     "text": [
      "[1]  0.5 20.0  5.0 40.0\n",
      "[1]  0.5 20.0  5.0 50.0\n",
      "[1]  0.5 20.0  6.0  0.0\n",
      "note: only 2 unique complexity parameters in default grid. Truncating the grid to 2 .\n",
      "\n"
     ]
    },
    {
     "name": "stderr",
     "output_type": "stream",
     "text": [
      "Warning message in nominalTrainWorkflow(x = x, y = y, wts = weights, info = trainInfo, :\n",
      "\"There were missing values in resampled performance measures.\"\n"
     ]
    },
    {
     "name": "stdout",
     "output_type": "stream",
     "text": [
      "[1]  0.5 20.0  6.0  1.0\n",
      "note: only 3 unique complexity parameters in default grid. Truncating the grid to 3 .\n",
      "\n",
      "[1]  0.5 20.0  6.0  3.0\n",
      "[1]  0.5 20.0  6.0  5.0\n",
      "[1]  0.5 20.0  6.0 10.0\n",
      "[1]  0.5 20.0  6.0 20.0\n",
      "[1]  0.5 20.0  6.0 30.0\n",
      "[1]  0.5 20.0  6.0 40.0\n",
      "[1]  0.5 20.0  6.0 50.0\n",
      "[1]  0.5 20.0  7.0  0.0\n",
      "note: only 2 unique complexity parameters in default grid. Truncating the grid to 2 .\n",
      "\n"
     ]
    },
    {
     "name": "stderr",
     "output_type": "stream",
     "text": [
      "Warning message in nominalTrainWorkflow(x = x, y = y, wts = weights, info = trainInfo, :\n",
      "\"There were missing values in resampled performance measures.\"\n"
     ]
    },
    {
     "name": "stdout",
     "output_type": "stream",
     "text": [
      "[1]  0.5 20.0  7.0  1.0\n",
      "note: only 3 unique complexity parameters in default grid. Truncating the grid to 3 .\n",
      "\n"
     ]
    },
    {
     "name": "stderr",
     "output_type": "stream",
     "text": [
      "Warning message in nominalTrainWorkflow(x = x, y = y, wts = weights, info = trainInfo, :\n",
      "\"There were missing values in resampled performance measures.\"\n"
     ]
    },
    {
     "name": "stdout",
     "output_type": "stream",
     "text": [
      "[1]  0.5 20.0  7.0  3.0\n"
     ]
    },
    {
     "name": "stderr",
     "output_type": "stream",
     "text": [
      "Warning message in nominalTrainWorkflow(x = x, y = y, wts = weights, info = trainInfo, :\n",
      "\"There were missing values in resampled performance measures.\"\n"
     ]
    },
    {
     "name": "stdout",
     "output_type": "stream",
     "text": [
      "[1]  0.5 20.0  7.0  5.0\n"
     ]
    },
    {
     "name": "stderr",
     "output_type": "stream",
     "text": [
      "Warning message in nominalTrainWorkflow(x = x, y = y, wts = weights, info = trainInfo, :\n",
      "\"There were missing values in resampled performance measures.\"\n"
     ]
    },
    {
     "name": "stdout",
     "output_type": "stream",
     "text": [
      "[1]  0.5 20.0  7.0 10.0\n",
      "[1]  0.5 20.0  7.0 20.0\n",
      "[1]  0.5 20.0  7.0 30.0\n",
      "[1]  0.5 20.0  7.0 40.0\n",
      "[1]  0.5 20.0  7.0 50.0\n",
      "[1]  0.5 20.0  8.0  0.0\n",
      "note: only 2 unique complexity parameters in default grid. Truncating the grid to 2 .\n",
      "\n"
     ]
    },
    {
     "name": "stderr",
     "output_type": "stream",
     "text": [
      "Warning message in nominalTrainWorkflow(x = x, y = y, wts = weights, info = trainInfo, :\n",
      "\"There were missing values in resampled performance measures.\"\n"
     ]
    },
    {
     "name": "stdout",
     "output_type": "stream",
     "text": [
      "[1]  0.5 20.0  8.0  1.0\n",
      "note: only 3 unique complexity parameters in default grid. Truncating the grid to 3 .\n",
      "\n"
     ]
    },
    {
     "name": "stderr",
     "output_type": "stream",
     "text": [
      "Warning message in nominalTrainWorkflow(x = x, y = y, wts = weights, info = trainInfo, :\n",
      "\"There were missing values in resampled performance measures.\"\n"
     ]
    },
    {
     "name": "stdout",
     "output_type": "stream",
     "text": [
      "[1]  0.5 20.0  8.0  3.0\n",
      "[1]  0.5 20.0  8.0  5.0\n"
     ]
    },
    {
     "name": "stderr",
     "output_type": "stream",
     "text": [
      "Warning message in nominalTrainWorkflow(x = x, y = y, wts = weights, info = trainInfo, :\n",
      "\"There were missing values in resampled performance measures.\"\n"
     ]
    },
    {
     "name": "stdout",
     "output_type": "stream",
     "text": [
      "[1]  0.5 20.0  8.0 10.0\n",
      "[1]  0.5 20.0  8.0 20.0\n",
      "[1]  0.5 20.0  8.0 30.0\n",
      "[1]  0.5 20.0  8.0 40.0\n",
      "[1]  0.5 20.0  8.0 50.0\n",
      "[1]  0.5 20.0  9.0  0.0\n",
      "note: only 2 unique complexity parameters in default grid. Truncating the grid to 2 .\n",
      "\n"
     ]
    },
    {
     "name": "stderr",
     "output_type": "stream",
     "text": [
      "Warning message in nominalTrainWorkflow(x = x, y = y, wts = weights, info = trainInfo, :\n",
      "\"There were missing values in resampled performance measures.\"\n"
     ]
    },
    {
     "name": "stdout",
     "output_type": "stream",
     "text": [
      "[1]  0.5 20.0  9.0  1.0\n",
      "note: only 3 unique complexity parameters in default grid. Truncating the grid to 3 .\n",
      "\n"
     ]
    },
    {
     "name": "stderr",
     "output_type": "stream",
     "text": [
      "Warning message in nominalTrainWorkflow(x = x, y = y, wts = weights, info = trainInfo, :\n",
      "\"There were missing values in resampled performance measures.\"\n"
     ]
    },
    {
     "name": "stdout",
     "output_type": "stream",
     "text": [
      "[1]  0.5 20.0  9.0  3.0\n",
      "[1]  0.5 20.0  9.0  5.0\n",
      "[1]  0.5 20.0  9.0 10.0\n"
     ]
    },
    {
     "name": "stderr",
     "output_type": "stream",
     "text": [
      "Warning message in nominalTrainWorkflow(x = x, y = y, wts = weights, info = trainInfo, :\n",
      "\"There were missing values in resampled performance measures.\"\n"
     ]
    },
    {
     "name": "stdout",
     "output_type": "stream",
     "text": [
      "[1]  0.5 20.0  9.0 20.0\n",
      "[1]  0.5 20.0  9.0 30.0\n",
      "[1]  0.5 20.0  9.0 40.0\n",
      "[1]  0.5 20.0  9.0 50.0\n",
      "[1]  0.5 20.0 10.0  0.0\n",
      "note: only 2 unique complexity parameters in default grid. Truncating the grid to 2 .\n",
      "\n"
     ]
    },
    {
     "name": "stderr",
     "output_type": "stream",
     "text": [
      "Warning message in nominalTrainWorkflow(x = x, y = y, wts = weights, info = trainInfo, :\n",
      "\"There were missing values in resampled performance measures.\"\n"
     ]
    },
    {
     "name": "stdout",
     "output_type": "stream",
     "text": [
      "[1]  0.5 20.0 10.0  1.0\n",
      "note: only 3 unique complexity parameters in default grid. Truncating the grid to 3 .\n",
      "\n",
      "[1]  0.5 20.0 10.0  3.0\n",
      "[1]  0.5 20.0 10.0  5.0\n",
      "[1]  0.5 20.0 10.0 10.0\n",
      "[1]  0.5 20.0 10.0 20.0\n",
      "[1]  0.5 20.0 10.0 30.0\n",
      "[1]  0.5 20.0 10.0 40.0\n",
      "[1]  0.5 20.0 10.0 50.0\n",
      "[1]  0.5 20.0 11.0  0.0\n",
      "note: only 2 unique complexity parameters in default grid. Truncating the grid to 2 .\n",
      "\n",
      "[1]  0.5 20.0 11.0  1.0\n",
      "note: only 3 unique complexity parameters in default grid. Truncating the grid to 3 .\n",
      "\n",
      "[1]  0.5 20.0 11.0  3.0\n",
      "[1]  0.5 20.0 11.0  5.0\n",
      "[1]  0.5 20.0 11.0 10.0\n",
      "[1]  0.5 20.0 11.0 20.0\n",
      "[1]  0.5 20.0 11.0 30.0\n",
      "[1]  0.5 20.0 11.0 40.0\n",
      "[1]  0.5 20.0 11.0 50.0\n",
      "[1]  0.5 20.0 12.0  0.0\n",
      "note: only 2 unique complexity parameters in default grid. Truncating the grid to 2 .\n",
      "\n"
     ]
    },
    {
     "name": "stderr",
     "output_type": "stream",
     "text": [
      "Warning message in nominalTrainWorkflow(x = x, y = y, wts = weights, info = trainInfo, :\n",
      "\"There were missing values in resampled performance measures.\"\n"
     ]
    },
    {
     "name": "stdout",
     "output_type": "stream",
     "text": [
      "[1]  0.5 20.0 12.0  1.0\n",
      "note: only 3 unique complexity parameters in default grid. Truncating the grid to 3 .\n",
      "\n",
      "[1]  0.5 20.0 12.0  3.0\n",
      "[1]  0.5 20.0 12.0  5.0\n",
      "[1]  0.5 20.0 12.0 10.0\n",
      "[1]  0.5 20.0 12.0 20.0\n",
      "[1]  0.5 20.0 12.0 30.0\n",
      "[1]  0.5 20.0 12.0 40.0\n",
      "[1]  0.5 20.0 12.0 50.0\n",
      "[1]  0.5 20.0 13.0  0.0\n",
      "note: only 2 unique complexity parameters in default grid. Truncating the grid to 2 .\n",
      "\n",
      "[1]  0.5 20.0 13.0  1.0\n",
      "note: only 3 unique complexity parameters in default grid. Truncating the grid to 3 .\n",
      "\n",
      "[1]  0.5 20.0 13.0  3.0\n",
      "[1]  0.5 20.0 13.0  5.0\n",
      "[1]  0.5 20.0 13.0 10.0\n"
     ]
    },
    {
     "name": "stderr",
     "output_type": "stream",
     "text": [
      "Warning message in nominalTrainWorkflow(x = x, y = y, wts = weights, info = trainInfo, :\n",
      "\"There were missing values in resampled performance measures.\"\n"
     ]
    },
    {
     "name": "stdout",
     "output_type": "stream",
     "text": [
      "[1]  0.5 20.0 13.0 20.0\n",
      "[1]  0.5 20.0 13.0 30.0\n",
      "[1]  0.5 20.0 13.0 40.0\n",
      "[1]  0.5 20.0 13.0 50.0\n",
      "[1]  0.5 20.0 14.0  0.0\n",
      "note: only 2 unique complexity parameters in default grid. Truncating the grid to 2 .\n",
      "\n"
     ]
    },
    {
     "name": "stderr",
     "output_type": "stream",
     "text": [
      "Warning message in nominalTrainWorkflow(x = x, y = y, wts = weights, info = trainInfo, :\n",
      "\"There were missing values in resampled performance measures.\"\n"
     ]
    },
    {
     "name": "stdout",
     "output_type": "stream",
     "text": [
      "[1]  0.5 20.0 14.0  1.0\n",
      "note: only 3 unique complexity parameters in default grid. Truncating the grid to 3 .\n",
      "\n"
     ]
    },
    {
     "name": "stderr",
     "output_type": "stream",
     "text": [
      "Warning message in nominalTrainWorkflow(x = x, y = y, wts = weights, info = trainInfo, :\n",
      "\"There were missing values in resampled performance measures.\"\n"
     ]
    },
    {
     "name": "stdout",
     "output_type": "stream",
     "text": [
      "[1]  0.5 20.0 14.0  3.0\n"
     ]
    },
    {
     "name": "stderr",
     "output_type": "stream",
     "text": [
      "Warning message in nominalTrainWorkflow(x = x, y = y, wts = weights, info = trainInfo, :\n",
      "\"There were missing values in resampled performance measures.\"\n"
     ]
    },
    {
     "name": "stdout",
     "output_type": "stream",
     "text": [
      "[1]  0.5 20.0 14.0  5.0\n",
      "[1]  0.5 20.0 14.0 10.0\n"
     ]
    },
    {
     "name": "stderr",
     "output_type": "stream",
     "text": [
      "Warning message in nominalTrainWorkflow(x = x, y = y, wts = weights, info = trainInfo, :\n",
      "\"There were missing values in resampled performance measures.\"\n"
     ]
    },
    {
     "name": "stdout",
     "output_type": "stream",
     "text": [
      "[1]  0.5 20.0 14.0 20.0\n",
      "[1]  0.5 20.0 14.0 30.0\n",
      "[1]  0.5 20.0 14.0 40.0\n",
      "[1]  0.5 20.0 14.0 50.0\n",
      "[1]  0.5 20.0 15.0  0.0\n",
      "note: only 2 unique complexity parameters in default grid. Truncating the grid to 2 .\n",
      "\n",
      "[1]  0.5 20.0 15.0  1.0\n",
      "note: only 3 unique complexity parameters in default grid. Truncating the grid to 3 .\n",
      "\n",
      "[1]  0.5 20.0 15.0  3.0\n",
      "[1]  0.5 20.0 15.0  5.0\n",
      "[1]  0.5 20.0 15.0 10.0\n",
      "[1]  0.5 20.0 15.0 20.0\n",
      "[1]  0.5 20.0 15.0 30.0\n",
      "[1]  0.5 20.0 15.0 40.0\n",
      "[1]  0.5 20.0 15.0 50.0\n",
      "[1]  0.5 20.0 16.0  0.0\n",
      "note: only 2 unique complexity parameters in default grid. Truncating the grid to 2 .\n",
      "\n"
     ]
    },
    {
     "name": "stderr",
     "output_type": "stream",
     "text": [
      "Warning message in nominalTrainWorkflow(x = x, y = y, wts = weights, info = trainInfo, :\n",
      "\"There were missing values in resampled performance measures.\"\n"
     ]
    },
    {
     "name": "stdout",
     "output_type": "stream",
     "text": [
      "[1]  0.5 20.0 16.0  1.0\n",
      "note: only 3 unique complexity parameters in default grid. Truncating the grid to 3 .\n",
      "\n",
      "[1]  0.5 20.0 16.0  3.0\n",
      "[1]  0.5 20.0 16.0  5.0\n",
      "[1]  0.5 20.0 16.0 10.0\n",
      "[1]  0.5 20.0 16.0 20.0\n",
      "[1]  0.5 20.0 16.0 30.0\n",
      "[1]  0.5 20.0 16.0 40.0\n",
      "[1]  0.5 20.0 16.0 50.0\n",
      "[1]  0.5 20.0 17.0  0.0\n",
      "note: only 2 unique complexity parameters in default grid. Truncating the grid to 2 .\n",
      "\n"
     ]
    },
    {
     "name": "stderr",
     "output_type": "stream",
     "text": [
      "Warning message in nominalTrainWorkflow(x = x, y = y, wts = weights, info = trainInfo, :\n",
      "\"There were missing values in resampled performance measures.\"\n"
     ]
    },
    {
     "name": "stdout",
     "output_type": "stream",
     "text": [
      "[1]  0.5 20.0 17.0  1.0\n",
      "note: only 3 unique complexity parameters in default grid. Truncating the grid to 3 .\n",
      "\n"
     ]
    },
    {
     "name": "stderr",
     "output_type": "stream",
     "text": [
      "Warning message in nominalTrainWorkflow(x = x, y = y, wts = weights, info = trainInfo, :\n",
      "\"There were missing values in resampled performance measures.\"\n"
     ]
    },
    {
     "name": "stdout",
     "output_type": "stream",
     "text": [
      "[1]  0.5 20.0 17.0  3.0\n",
      "[1]  0.5 20.0 17.0  5.0\n",
      "[1]  0.5 20.0 17.0 10.0\n",
      "[1]  0.5 20.0 17.0 20.0\n",
      "[1]  0.5 20.0 17.0 30.0\n",
      "[1]  0.5 20.0 17.0 40.0\n",
      "[1]  0.5 20.0 17.0 50.0\n",
      "[1]  0.5 20.0 18.0  0.0\n",
      "note: only 2 unique complexity parameters in default grid. Truncating the grid to 2 .\n",
      "\n",
      "[1]  0.5 20.0 18.0  1.0\n",
      "note: only 3 unique complexity parameters in default grid. Truncating the grid to 3 .\n",
      "\n",
      "[1]  0.5 20.0 18.0  3.0\n",
      "[1]  0.5 20.0 18.0  5.0\n",
      "[1]  0.5 20.0 18.0 10.0\n",
      "[1]  0.5 20.0 18.0 20.0\n",
      "[1]  0.5 20.0 18.0 30.0\n",
      "[1]  0.5 20.0 18.0 40.0\n",
      "[1]  0.5 20.0 18.0 50.0\n",
      "[1]  0.5 20.0 19.0  0.0\n",
      "note: only 2 unique complexity parameters in default grid. Truncating the grid to 2 .\n",
      "\n"
     ]
    },
    {
     "name": "stderr",
     "output_type": "stream",
     "text": [
      "Warning message in nominalTrainWorkflow(x = x, y = y, wts = weights, info = trainInfo, :\n",
      "\"There were missing values in resampled performance measures.\"\n"
     ]
    },
    {
     "name": "stdout",
     "output_type": "stream",
     "text": [
      "[1]  0.5 20.0 19.0  1.0\n",
      "note: only 3 unique complexity parameters in default grid. Truncating the grid to 3 .\n",
      "\n"
     ]
    },
    {
     "name": "stderr",
     "output_type": "stream",
     "text": [
      "Warning message in nominalTrainWorkflow(x = x, y = y, wts = weights, info = trainInfo, :\n",
      "\"There were missing values in resampled performance measures.\"\n"
     ]
    },
    {
     "name": "stdout",
     "output_type": "stream",
     "text": [
      "[1]  0.5 20.0 19.0  3.0\n",
      "[1]  0.5 20.0 19.0  5.0\n"
     ]
    },
    {
     "name": "stderr",
     "output_type": "stream",
     "text": [
      "Warning message in nominalTrainWorkflow(x = x, y = y, wts = weights, info = trainInfo, :\n",
      "\"There were missing values in resampled performance measures.\"\n"
     ]
    },
    {
     "name": "stdout",
     "output_type": "stream",
     "text": [
      "[1]  0.5 20.0 19.0 10.0\n",
      "[1]  0.5 20.0 19.0 20.0\n",
      "[1]  0.5 20.0 19.0 30.0\n",
      "[1]  0.5 20.0 19.0 40.0\n",
      "[1]  0.5 20.0 19.0 50.0\n",
      "[1]  0.5 20.0 20.0  0.0\n",
      "note: only 2 unique complexity parameters in default grid. Truncating the grid to 2 .\n",
      "\n",
      "[1]  0.5 20.0 20.0  1.0\n",
      "note: only 3 unique complexity parameters in default grid. Truncating the grid to 3 .\n",
      "\n",
      "[1]  0.5 20.0 20.0  3.0\n",
      "[1]  0.5 20.0 20.0  5.0\n",
      "[1]  0.5 20.0 20.0 10.0\n",
      "[1]  0.5 20.0 20.0 20.0\n",
      "[1]  0.5 20.0 20.0 30.0\n",
      "[1]  0.5 20.0 20.0 40.0\n",
      "[1]  0.5 20.0 20.0 50.0\n",
      "[1]  0.5 20.0 21.0  0.0\n",
      "note: only 2 unique complexity parameters in default grid. Truncating the grid to 2 .\n",
      "\n",
      "[1]  0.5 20.0 21.0  1.0\n",
      "note: only 3 unique complexity parameters in default grid. Truncating the grid to 3 .\n",
      "\n",
      "[1]  0.5 20.0 21.0  3.0\n",
      "[1]  0.5 20.0 21.0  5.0\n",
      "[1]  0.5 20.0 21.0 10.0\n",
      "[1]  0.5 20.0 21.0 20.0\n",
      "[1]  0.5 20.0 21.0 30.0\n",
      "[1]  0.5 20.0 21.0 40.0\n",
      "[1]  0.5 20.0 21.0 50.0\n",
      "[1]  0.5 20.0 22.0  0.0\n",
      "note: only 2 unique complexity parameters in default grid. Truncating the grid to 2 .\n",
      "\n"
     ]
    },
    {
     "name": "stderr",
     "output_type": "stream",
     "text": [
      "Warning message in nominalTrainWorkflow(x = x, y = y, wts = weights, info = trainInfo, :\n",
      "\"There were missing values in resampled performance measures.\"\n"
     ]
    },
    {
     "name": "stdout",
     "output_type": "stream",
     "text": [
      "[1]  0.5 20.0 22.0  1.0\n",
      "note: only 3 unique complexity parameters in default grid. Truncating the grid to 3 .\n",
      "\n"
     ]
    },
    {
     "name": "stderr",
     "output_type": "stream",
     "text": [
      "Warning message in nominalTrainWorkflow(x = x, y = y, wts = weights, info = trainInfo, :\n",
      "\"There were missing values in resampled performance measures.\"\n"
     ]
    },
    {
     "name": "stdout",
     "output_type": "stream",
     "text": [
      "[1]  0.5 20.0 22.0  3.0\n",
      "[1]  0.5 20.0 22.0  5.0\n",
      "[1]  0.5 20.0 22.0 10.0\n",
      "[1]  0.5 20.0 22.0 20.0\n",
      "[1]  0.5 20.0 22.0 30.0\n",
      "[1]  0.5 20.0 22.0 40.0\n",
      "[1]  0.5 20.0 22.0 50.0\n",
      "[1]  0.5 20.0 23.0  0.0\n",
      "note: only 2 unique complexity parameters in default grid. Truncating the grid to 2 .\n",
      "\n"
     ]
    },
    {
     "name": "stderr",
     "output_type": "stream",
     "text": [
      "Warning message in nominalTrainWorkflow(x = x, y = y, wts = weights, info = trainInfo, :\n",
      "\"There were missing values in resampled performance measures.\"\n"
     ]
    },
    {
     "name": "stdout",
     "output_type": "stream",
     "text": [
      "[1]  0.5 20.0 23.0  1.0\n",
      "note: only 3 unique complexity parameters in default grid. Truncating the grid to 3 .\n",
      "\n"
     ]
    },
    {
     "name": "stderr",
     "output_type": "stream",
     "text": [
      "Warning message in nominalTrainWorkflow(x = x, y = y, wts = weights, info = trainInfo, :\n",
      "\"There were missing values in resampled performance measures.\"\n"
     ]
    },
    {
     "name": "stdout",
     "output_type": "stream",
     "text": [
      "[1]  0.5 20.0 23.0  3.0\n"
     ]
    },
    {
     "name": "stderr",
     "output_type": "stream",
     "text": [
      "Warning message in nominalTrainWorkflow(x = x, y = y, wts = weights, info = trainInfo, :\n",
      "\"There were missing values in resampled performance measures.\"\n"
     ]
    },
    {
     "name": "stdout",
     "output_type": "stream",
     "text": [
      "[1]  0.5 20.0 23.0  5.0\n",
      "[1]  0.5 20.0 23.0 10.0\n"
     ]
    },
    {
     "name": "stderr",
     "output_type": "stream",
     "text": [
      "Warning message in nominalTrainWorkflow(x = x, y = y, wts = weights, info = trainInfo, :\n",
      "\"There were missing values in resampled performance measures.\"\n"
     ]
    },
    {
     "name": "stdout",
     "output_type": "stream",
     "text": [
      "[1]  0.5 20.0 23.0 20.0\n",
      "[1]  0.5 20.0 23.0 30.0\n",
      "[1]  0.5 20.0 23.0 40.0\n",
      "[1]  0.5 20.0 23.0 50.0\n",
      "[1]  0.5 20.0 24.0  0.0\n",
      "note: only 2 unique complexity parameters in default grid. Truncating the grid to 2 .\n",
      "\n"
     ]
    },
    {
     "name": "stderr",
     "output_type": "stream",
     "text": [
      "Warning message in nominalTrainWorkflow(x = x, y = y, wts = weights, info = trainInfo, :\n",
      "\"There were missing values in resampled performance measures.\"\n"
     ]
    },
    {
     "name": "stdout",
     "output_type": "stream",
     "text": [
      "[1]  0.5 20.0 24.0  1.0\n",
      "note: only 3 unique complexity parameters in default grid. Truncating the grid to 3 .\n",
      "\n"
     ]
    },
    {
     "name": "stderr",
     "output_type": "stream",
     "text": [
      "Warning message in nominalTrainWorkflow(x = x, y = y, wts = weights, info = trainInfo, :\n",
      "\"There were missing values in resampled performance measures.\"\n"
     ]
    },
    {
     "name": "stdout",
     "output_type": "stream",
     "text": [
      "[1]  0.5 20.0 24.0  3.0\n",
      "[1]  0.5 20.0 24.0  5.0\n"
     ]
    },
    {
     "name": "stderr",
     "output_type": "stream",
     "text": [
      "Warning message in nominalTrainWorkflow(x = x, y = y, wts = weights, info = trainInfo, :\n",
      "\"There were missing values in resampled performance measures.\"\n"
     ]
    },
    {
     "name": "stdout",
     "output_type": "stream",
     "text": [
      "[1]  0.5 20.0 24.0 10.0\n",
      "[1]  0.5 20.0 24.0 20.0\n",
      "[1]  0.5 20.0 24.0 30.0\n",
      "[1]  0.5 20.0 24.0 40.0\n",
      "[1]  0.5 20.0 24.0 50.0\n",
      "[1]  0.5 20.0 25.0  0.0\n",
      "note: only 2 unique complexity parameters in default grid. Truncating the grid to 2 .\n",
      "\n"
     ]
    },
    {
     "name": "stderr",
     "output_type": "stream",
     "text": [
      "Warning message in nominalTrainWorkflow(x = x, y = y, wts = weights, info = trainInfo, :\n",
      "\"There were missing values in resampled performance measures.\"\n"
     ]
    },
    {
     "name": "stdout",
     "output_type": "stream",
     "text": [
      "[1]  0.5 20.0 25.0  1.0\n",
      "note: only 3 unique complexity parameters in default grid. Truncating the grid to 3 .\n",
      "\n"
     ]
    },
    {
     "name": "stderr",
     "output_type": "stream",
     "text": [
      "Warning message in nominalTrainWorkflow(x = x, y = y, wts = weights, info = trainInfo, :\n",
      "\"There were missing values in resampled performance measures.\"\n"
     ]
    },
    {
     "name": "stdout",
     "output_type": "stream",
     "text": [
      "[1]  0.5 20.0 25.0  3.0\n",
      "[1]  0.5 20.0 25.0  5.0\n",
      "[1]  0.5 20.0 25.0 10.0\n",
      "[1]  0.5 20.0 25.0 20.0\n",
      "[1]  0.5 20.0 25.0 30.0\n",
      "[1]  0.5 20.0 25.0 40.0\n",
      "[1]  0.5 20.0 25.0 50.0\n",
      "[1]  0.5 20.0 26.0  0.0\n",
      "note: only 2 unique complexity parameters in default grid. Truncating the grid to 2 .\n",
      "\n",
      "[1]  0.5 20.0 26.0  1.0\n",
      "note: only 3 unique complexity parameters in default grid. Truncating the grid to 3 .\n",
      "\n"
     ]
    },
    {
     "name": "stderr",
     "output_type": "stream",
     "text": [
      "Warning message in nominalTrainWorkflow(x = x, y = y, wts = weights, info = trainInfo, :\n",
      "\"There were missing values in resampled performance measures.\"\n"
     ]
    },
    {
     "name": "stdout",
     "output_type": "stream",
     "text": [
      "[1]  0.5 20.0 26.0  3.0\n",
      "[1]  0.5 20.0 26.0  5.0\n",
      "[1]  0.5 20.0 26.0 10.0\n",
      "[1]  0.5 20.0 26.0 20.0\n",
      "[1]  0.5 20.0 26.0 30.0\n",
      "[1]  0.5 20.0 26.0 40.0\n",
      "[1]  0.5 20.0 26.0 50.0\n",
      "[1]  0.5 20.0 27.0  0.0\n",
      "note: only 2 unique complexity parameters in default grid. Truncating the grid to 2 .\n",
      "\n",
      "[1]  0.5 20.0 27.0  1.0\n",
      "note: only 3 unique complexity parameters in default grid. Truncating the grid to 3 .\n",
      "\n",
      "[1]  0.5 20.0 27.0  3.0\n",
      "[1]  0.5 20.0 27.0  5.0\n",
      "[1]  0.5 20.0 27.0 10.0\n",
      "[1]  0.5 20.0 27.0 20.0\n",
      "[1]  0.5 20.0 27.0 30.0\n",
      "[1]  0.5 20.0 27.0 40.0\n",
      "[1]  0.5 20.0 27.0 50.0\n",
      "[1]  0.5 20.0 28.0  0.0\n",
      "note: only 2 unique complexity parameters in default grid. Truncating the grid to 2 .\n",
      "\n"
     ]
    },
    {
     "name": "stderr",
     "output_type": "stream",
     "text": [
      "Warning message in nominalTrainWorkflow(x = x, y = y, wts = weights, info = trainInfo, :\n",
      "\"There were missing values in resampled performance measures.\"\n"
     ]
    },
    {
     "name": "stdout",
     "output_type": "stream",
     "text": [
      "[1]  0.5 20.0 28.0  1.0\n",
      "note: only 3 unique complexity parameters in default grid. Truncating the grid to 3 .\n",
      "\n",
      "[1]  0.5 20.0 28.0  3.0\n"
     ]
    },
    {
     "name": "stderr",
     "output_type": "stream",
     "text": [
      "Warning message in nominalTrainWorkflow(x = x, y = y, wts = weights, info = trainInfo, :\n",
      "\"There were missing values in resampled performance measures.\"\n"
     ]
    },
    {
     "name": "stdout",
     "output_type": "stream",
     "text": [
      "[1]  0.5 20.0 28.0  5.0\n",
      "[1]  0.5 20.0 28.0 10.0\n",
      "[1]  0.5 20.0 28.0 20.0\n",
      "[1]  0.5 20.0 28.0 30.0\n",
      "[1]  0.5 20.0 28.0 40.0\n",
      "[1]  0.5 20.0 28.0 50.0\n",
      "[1]  0.5 20.0 29.0  0.0\n",
      "note: only 2 unique complexity parameters in default grid. Truncating the grid to 2 .\n",
      "\n"
     ]
    },
    {
     "name": "stderr",
     "output_type": "stream",
     "text": [
      "Warning message in nominalTrainWorkflow(x = x, y = y, wts = weights, info = trainInfo, :\n",
      "\"There were missing values in resampled performance measures.\"\n"
     ]
    },
    {
     "name": "stdout",
     "output_type": "stream",
     "text": [
      "[1]  0.5 20.0 29.0  1.0\n",
      "note: only 3 unique complexity parameters in default grid. Truncating the grid to 3 .\n",
      "\n",
      "[1]  0.5 20.0 29.0  3.0\n"
     ]
    },
    {
     "name": "stderr",
     "output_type": "stream",
     "text": [
      "Warning message in nominalTrainWorkflow(x = x, y = y, wts = weights, info = trainInfo, :\n",
      "\"There were missing values in resampled performance measures.\"\n"
     ]
    },
    {
     "name": "stdout",
     "output_type": "stream",
     "text": [
      "[1]  0.5 20.0 29.0  5.0\n",
      "[1]  0.5 20.0 29.0 10.0\n",
      "[1]  0.5 20.0 29.0 20.0\n",
      "[1]  0.5 20.0 29.0 30.0\n",
      "[1]  0.5 20.0 29.0 40.0\n",
      "[1]  0.5 20.0 29.0 50.0\n",
      "[1]  0.5 20.0 30.0  0.0\n",
      "note: only 2 unique complexity parameters in default grid. Truncating the grid to 2 .\n",
      "\n"
     ]
    },
    {
     "name": "stderr",
     "output_type": "stream",
     "text": [
      "Warning message in nominalTrainWorkflow(x = x, y = y, wts = weights, info = trainInfo, :\n",
      "\"There were missing values in resampled performance measures.\"\n"
     ]
    },
    {
     "name": "stdout",
     "output_type": "stream",
     "text": [
      "[1]  0.5 20.0 30.0  1.0\n",
      "note: only 3 unique complexity parameters in default grid. Truncating the grid to 3 .\n",
      "\n"
     ]
    },
    {
     "name": "stderr",
     "output_type": "stream",
     "text": [
      "Warning message in nominalTrainWorkflow(x = x, y = y, wts = weights, info = trainInfo, :\n",
      "\"There were missing values in resampled performance measures.\"\n"
     ]
    },
    {
     "name": "stdout",
     "output_type": "stream",
     "text": [
      "[1]  0.5 20.0 30.0  3.0\n",
      "[1]  0.5 20.0 30.0  5.0\n",
      "[1]  0.5 20.0 30.0 10.0\n",
      "[1]  0.5 20.0 30.0 20.0\n",
      "[1]  0.5 20.0 30.0 30.0\n",
      "[1]  0.5 20.0 30.0 40.0\n",
      "[1]  0.5 20.0 30.0 50.0\n",
      "[1]  0.5 30.0  1.0  0.0\n",
      "note: only 2 unique complexity parameters in default grid. Truncating the grid to 2 .\n",
      "\n",
      "[1]  0.5 30.0  1.0  1.0\n",
      "note: only 3 unique complexity parameters in default grid. Truncating the grid to 3 .\n",
      "\n",
      "[1]  0.5 30.0  1.0  3.0\n",
      "[1]  0.5 30.0  1.0  5.0\n",
      "[1]  0.5 30.0  1.0 10.0\n",
      "[1]  0.5 30.0  1.0 20.0\n",
      "[1]  0.5 30.0  1.0 30.0\n",
      "[1]  0.5 30.0  1.0 40.0\n",
      "[1]  0.5 30.0  1.0 50.0\n",
      "[1]  0.5 30.0  2.0  0.0\n",
      "note: only 2 unique complexity parameters in default grid. Truncating the grid to 2 .\n",
      "\n"
     ]
    },
    {
     "name": "stderr",
     "output_type": "stream",
     "text": [
      "Warning message in nominalTrainWorkflow(x = x, y = y, wts = weights, info = trainInfo, :\n",
      "\"There were missing values in resampled performance measures.\"\n"
     ]
    },
    {
     "name": "stdout",
     "output_type": "stream",
     "text": [
      "[1]  0.5 30.0  2.0  1.0\n",
      "note: only 3 unique complexity parameters in default grid. Truncating the grid to 3 .\n",
      "\n",
      "[1]  0.5 30.0  2.0  3.0\n",
      "[1]  0.5 30.0  2.0  5.0\n",
      "[1]  0.5 30.0  2.0 10.0\n",
      "[1]  0.5 30.0  2.0 20.0\n",
      "[1]  0.5 30.0  2.0 30.0\n",
      "[1]  0.5 30.0  2.0 40.0\n",
      "[1]  0.5 30.0  2.0 50.0\n",
      "[1]  0.5 30.0  3.0  0.0\n",
      "note: only 2 unique complexity parameters in default grid. Truncating the grid to 2 .\n",
      "\n"
     ]
    },
    {
     "name": "stderr",
     "output_type": "stream",
     "text": [
      "Warning message in nominalTrainWorkflow(x = x, y = y, wts = weights, info = trainInfo, :\n",
      "\"There were missing values in resampled performance measures.\"\n"
     ]
    },
    {
     "name": "stdout",
     "output_type": "stream",
     "text": [
      "[1]  0.5 30.0  3.0  1.0\n",
      "note: only 3 unique complexity parameters in default grid. Truncating the grid to 3 .\n",
      "\n"
     ]
    },
    {
     "name": "stderr",
     "output_type": "stream",
     "text": [
      "Warning message in nominalTrainWorkflow(x = x, y = y, wts = weights, info = trainInfo, :\n",
      "\"There were missing values in resampled performance measures.\"\n"
     ]
    },
    {
     "name": "stdout",
     "output_type": "stream",
     "text": [
      "[1]  0.5 30.0  3.0  3.0\n",
      "[1]  0.5 30.0  3.0  5.0\n",
      "[1]  0.5 30.0  3.0 10.0\n",
      "[1]  0.5 30.0  3.0 20.0\n",
      "[1]  0.5 30.0  3.0 30.0\n",
      "[1]  0.5 30.0  3.0 40.0\n",
      "[1]  0.5 30.0  3.0 50.0\n",
      "[1]  0.5 30.0  4.0  0.0\n",
      "note: only 2 unique complexity parameters in default grid. Truncating the grid to 2 .\n",
      "\n"
     ]
    },
    {
     "name": "stderr",
     "output_type": "stream",
     "text": [
      "Warning message in nominalTrainWorkflow(x = x, y = y, wts = weights, info = trainInfo, :\n",
      "\"There were missing values in resampled performance measures.\"\n"
     ]
    },
    {
     "name": "stdout",
     "output_type": "stream",
     "text": [
      "[1]  0.5 30.0  4.0  1.0\n",
      "note: only 3 unique complexity parameters in default grid. Truncating the grid to 3 .\n",
      "\n"
     ]
    },
    {
     "name": "stderr",
     "output_type": "stream",
     "text": [
      "Warning message in nominalTrainWorkflow(x = x, y = y, wts = weights, info = trainInfo, :\n",
      "\"There were missing values in resampled performance measures.\"\n"
     ]
    },
    {
     "name": "stdout",
     "output_type": "stream",
     "text": [
      "[1]  0.5 30.0  4.0  3.0\n"
     ]
    },
    {
     "name": "stderr",
     "output_type": "stream",
     "text": [
      "Warning message in nominalTrainWorkflow(x = x, y = y, wts = weights, info = trainInfo, :\n",
      "\"There were missing values in resampled performance measures.\"\n"
     ]
    },
    {
     "name": "stdout",
     "output_type": "stream",
     "text": [
      "[1]  0.5 30.0  4.0  5.0\n"
     ]
    },
    {
     "name": "stderr",
     "output_type": "stream",
     "text": [
      "Warning message in nominalTrainWorkflow(x = x, y = y, wts = weights, info = trainInfo, :\n",
      "\"There were missing values in resampled performance measures.\"\n"
     ]
    },
    {
     "name": "stdout",
     "output_type": "stream",
     "text": [
      "[1]  0.5 30.0  4.0 10.0\n",
      "[1]  0.5 30.0  4.0 20.0\n"
     ]
    },
    {
     "name": "stderr",
     "output_type": "stream",
     "text": [
      "Warning message in nominalTrainWorkflow(x = x, y = y, wts = weights, info = trainInfo, :\n",
      "\"There were missing values in resampled performance measures.\"\n"
     ]
    },
    {
     "name": "stdout",
     "output_type": "stream",
     "text": [
      "[1]  0.5 30.0  4.0 30.0\n",
      "[1]  0.5 30.0  4.0 40.0\n",
      "[1]  0.5 30.0  4.0 50.0\n",
      "[1]  0.5 30.0  5.0  0.0\n",
      "note: only 2 unique complexity parameters in default grid. Truncating the grid to 2 .\n",
      "\n",
      "[1]  0.5 30.0  5.0  1.0\n",
      "note: only 3 unique complexity parameters in default grid. Truncating the grid to 3 .\n",
      "\n",
      "[1]  0.5 30.0  5.0  3.0\n",
      "[1]  0.5 30.0  5.0  5.0\n",
      "[1]  0.5 30.0  5.0 10.0\n",
      "[1]  0.5 30.0  5.0 20.0\n",
      "[1]  0.5 30.0  5.0 30.0\n",
      "[1]  0.5 30.0  5.0 40.0\n",
      "[1]  0.5 30.0  5.0 50.0\n",
      "[1]  0.5 30.0  6.0  0.0\n",
      "note: only 2 unique complexity parameters in default grid. Truncating the grid to 2 .\n",
      "\n"
     ]
    },
    {
     "name": "stderr",
     "output_type": "stream",
     "text": [
      "Warning message in nominalTrainWorkflow(x = x, y = y, wts = weights, info = trainInfo, :\n",
      "\"There were missing values in resampled performance measures.\"\n"
     ]
    },
    {
     "name": "stdout",
     "output_type": "stream",
     "text": [
      "[1]  0.5 30.0  6.0  1.0\n",
      "note: only 3 unique complexity parameters in default grid. Truncating the grid to 3 .\n",
      "\n",
      "[1]  0.5 30.0  6.0  3.0\n",
      "[1]  0.5 30.0  6.0  5.0\n",
      "[1]  0.5 30.0  6.0 10.0\n",
      "[1]  0.5 30.0  6.0 20.0\n",
      "[1]  0.5 30.0  6.0 30.0\n",
      "[1]  0.5 30.0  6.0 40.0\n",
      "[1]  0.5 30.0  6.0 50.0\n",
      "[1]  0.5 30.0  7.0  0.0\n",
      "note: only 2 unique complexity parameters in default grid. Truncating the grid to 2 .\n",
      "\n"
     ]
    },
    {
     "name": "stderr",
     "output_type": "stream",
     "text": [
      "Warning message in nominalTrainWorkflow(x = x, y = y, wts = weights, info = trainInfo, :\n",
      "\"There were missing values in resampled performance measures.\"\n"
     ]
    },
    {
     "name": "stdout",
     "output_type": "stream",
     "text": [
      "[1]  0.5 30.0  7.0  1.0\n",
      "note: only 3 unique complexity parameters in default grid. Truncating the grid to 3 .\n",
      "\n",
      "[1]  0.5 30.0  7.0  3.0\n",
      "[1]  0.5 30.0  7.0  5.0\n",
      "[1]  0.5 30.0  7.0 10.0\n",
      "[1]  0.5 30.0  7.0 20.0\n",
      "[1]  0.5 30.0  7.0 30.0\n",
      "[1]  0.5 30.0  7.0 40.0\n",
      "[1]  0.5 30.0  7.0 50.0\n",
      "[1]  0.5 30.0  8.0  0.0\n",
      "note: only 2 unique complexity parameters in default grid. Truncating the grid to 2 .\n",
      "\n"
     ]
    },
    {
     "name": "stderr",
     "output_type": "stream",
     "text": [
      "Warning message in nominalTrainWorkflow(x = x, y = y, wts = weights, info = trainInfo, :\n",
      "\"There were missing values in resampled performance measures.\"\n"
     ]
    },
    {
     "name": "stdout",
     "output_type": "stream",
     "text": [
      "[1]  0.5 30.0  8.0  1.0\n",
      "note: only 3 unique complexity parameters in default grid. Truncating the grid to 3 .\n",
      "\n",
      "[1]  0.5 30.0  8.0  3.0\n",
      "[1]  0.5 30.0  8.0  5.0\n",
      "[1]  0.5 30.0  8.0 10.0\n",
      "[1]  0.5 30.0  8.0 20.0\n",
      "[1]  0.5 30.0  8.0 30.0\n",
      "[1]  0.5 30.0  8.0 40.0\n",
      "[1]  0.5 30.0  8.0 50.0\n",
      "[1]  0.5 30.0  9.0  0.0\n",
      "note: only 2 unique complexity parameters in default grid. Truncating the grid to 2 .\n",
      "\n",
      "[1]  0.5 30.0  9.0  1.0\n",
      "note: only 3 unique complexity parameters in default grid. Truncating the grid to 3 .\n",
      "\n",
      "[1]  0.5 30.0  9.0  3.0\n",
      "[1]  0.5 30.0  9.0  5.0\n",
      "[1]  0.5 30.0  9.0 10.0\n",
      "[1]  0.5 30.0  9.0 20.0\n",
      "[1]  0.5 30.0  9.0 30.0\n",
      "[1]  0.5 30.0  9.0 40.0\n",
      "[1]  0.5 30.0  9.0 50.0\n",
      "[1]  0.5 30.0 10.0  0.0\n",
      "note: only 2 unique complexity parameters in default grid. Truncating the grid to 2 .\n",
      "\n",
      "[1]  0.5 30.0 10.0  1.0\n",
      "note: only 3 unique complexity parameters in default grid. Truncating the grid to 3 .\n",
      "\n",
      "[1]  0.5 30.0 10.0  3.0\n",
      "[1]  0.5 30.0 10.0  5.0\n",
      "[1]  0.5 30.0 10.0 10.0\n",
      "[1]  0.5 30.0 10.0 20.0\n",
      "[1]  0.5 30.0 10.0 30.0\n",
      "[1]  0.5 30.0 10.0 40.0\n",
      "[1]  0.5 30.0 10.0 50.0\n",
      "[1]  0.5 30.0 11.0  0.0\n",
      "note: only 2 unique complexity parameters in default grid. Truncating the grid to 2 .\n",
      "\n"
     ]
    },
    {
     "name": "stderr",
     "output_type": "stream",
     "text": [
      "Warning message in nominalTrainWorkflow(x = x, y = y, wts = weights, info = trainInfo, :\n",
      "\"There were missing values in resampled performance measures.\"\n"
     ]
    },
    {
     "name": "stdout",
     "output_type": "stream",
     "text": [
      "[1]  0.5 30.0 11.0  1.0\n",
      "note: only 3 unique complexity parameters in default grid. Truncating the grid to 3 .\n",
      "\n"
     ]
    },
    {
     "name": "stderr",
     "output_type": "stream",
     "text": [
      "Warning message in nominalTrainWorkflow(x = x, y = y, wts = weights, info = trainInfo, :\n",
      "\"There were missing values in resampled performance measures.\"\n"
     ]
    },
    {
     "name": "stdout",
     "output_type": "stream",
     "text": [
      "[1]  0.5 30.0 11.0  3.0\n",
      "[1]  0.5 30.0 11.0  5.0\n",
      "[1]  0.5 30.0 11.0 10.0\n",
      "[1]  0.5 30.0 11.0 20.0\n",
      "[1]  0.5 30.0 11.0 30.0\n",
      "[1]  0.5 30.0 11.0 40.0\n",
      "[1]  0.5 30.0 11.0 50.0\n",
      "[1]  0.5 30.0 12.0  0.0\n",
      "note: only 2 unique complexity parameters in default grid. Truncating the grid to 2 .\n",
      "\n",
      "[1]  0.5 30.0 12.0  1.0\n",
      "note: only 3 unique complexity parameters in default grid. Truncating the grid to 3 .\n",
      "\n",
      "[1]  0.5 30.0 12.0  3.0\n",
      "[1]  0.5 30.0 12.0  5.0\n",
      "[1]  0.5 30.0 12.0 10.0\n",
      "[1]  0.5 30.0 12.0 20.0\n",
      "[1]  0.5 30.0 12.0 30.0\n",
      "[1]  0.5 30.0 12.0 40.0\n",
      "[1]  0.5 30.0 12.0 50.0\n",
      "[1]  0.5 30.0 13.0  0.0\n",
      "note: only 2 unique complexity parameters in default grid. Truncating the grid to 2 .\n",
      "\n"
     ]
    },
    {
     "name": "stderr",
     "output_type": "stream",
     "text": [
      "Warning message in nominalTrainWorkflow(x = x, y = y, wts = weights, info = trainInfo, :\n",
      "\"There were missing values in resampled performance measures.\"\n"
     ]
    },
    {
     "name": "stdout",
     "output_type": "stream",
     "text": [
      "[1]  0.5 30.0 13.0  1.0\n",
      "note: only 3 unique complexity parameters in default grid. Truncating the grid to 3 .\n",
      "\n",
      "[1]  0.5 30.0 13.0  3.0\n",
      "[1]  0.5 30.0 13.0  5.0\n",
      "[1]  0.5 30.0 13.0 10.0\n",
      "[1]  0.5 30.0 13.0 20.0\n",
      "[1]  0.5 30.0 13.0 30.0\n",
      "[1]  0.5 30.0 13.0 40.0\n",
      "[1]  0.5 30.0 13.0 50.0\n",
      "[1]  0.5 30.0 14.0  0.0\n",
      "note: only 2 unique complexity parameters in default grid. Truncating the grid to 2 .\n",
      "\n"
     ]
    },
    {
     "name": "stderr",
     "output_type": "stream",
     "text": [
      "Warning message in nominalTrainWorkflow(x = x, y = y, wts = weights, info = trainInfo, :\n",
      "\"There were missing values in resampled performance measures.\"\n"
     ]
    },
    {
     "name": "stdout",
     "output_type": "stream",
     "text": [
      "[1]  0.5 30.0 14.0  1.0\n",
      "note: only 3 unique complexity parameters in default grid. Truncating the grid to 3 .\n",
      "\n",
      "[1]  0.5 30.0 14.0  3.0\n",
      "[1]  0.5 30.0 14.0  5.0\n",
      "[1]  0.5 30.0 14.0 10.0\n",
      "[1]  0.5 30.0 14.0 20.0\n",
      "[1]  0.5 30.0 14.0 30.0\n",
      "[1]  0.5 30.0 14.0 40.0\n",
      "[1]  0.5 30.0 14.0 50.0\n",
      "[1]  0.5 30.0 15.0  0.0\n",
      "note: only 2 unique complexity parameters in default grid. Truncating the grid to 2 .\n",
      "\n"
     ]
    },
    {
     "name": "stderr",
     "output_type": "stream",
     "text": [
      "Warning message in nominalTrainWorkflow(x = x, y = y, wts = weights, info = trainInfo, :\n",
      "\"There were missing values in resampled performance measures.\"\n"
     ]
    },
    {
     "name": "stdout",
     "output_type": "stream",
     "text": [
      "[1]  0.5 30.0 15.0  1.0\n",
      "note: only 3 unique complexity parameters in default grid. Truncating the grid to 3 .\n",
      "\n",
      "[1]  0.5 30.0 15.0  3.0\n",
      "[1]  0.5 30.0 15.0  5.0\n",
      "[1]  0.5 30.0 15.0 10.0\n",
      "[1]  0.5 30.0 15.0 20.0\n",
      "[1]  0.5 30.0 15.0 30.0\n",
      "[1]  0.5 30.0 15.0 40.0\n",
      "[1]  0.5 30.0 15.0 50.0\n",
      "[1]  0.5 30.0 16.0  0.0\n",
      "note: only 2 unique complexity parameters in default grid. Truncating the grid to 2 .\n",
      "\n",
      "[1]  0.5 30.0 16.0  1.0\n",
      "note: only 3 unique complexity parameters in default grid. Truncating the grid to 3 .\n",
      "\n",
      "[1]  0.5 30.0 16.0  3.0\n",
      "[1]  0.5 30.0 16.0  5.0\n",
      "[1]  0.5 30.0 16.0 10.0\n",
      "[1]  0.5 30.0 16.0 20.0\n",
      "[1]  0.5 30.0 16.0 30.0\n",
      "[1]  0.5 30.0 16.0 40.0\n",
      "[1]  0.5 30.0 16.0 50.0\n",
      "[1]  0.5 30.0 17.0  0.0\n",
      "note: only 2 unique complexity parameters in default grid. Truncating the grid to 2 .\n",
      "\n",
      "[1]  0.5 30.0 17.0  1.0\n",
      "note: only 3 unique complexity parameters in default grid. Truncating the grid to 3 .\n",
      "\n"
     ]
    },
    {
     "name": "stderr",
     "output_type": "stream",
     "text": [
      "Warning message in nominalTrainWorkflow(x = x, y = y, wts = weights, info = trainInfo, :\n",
      "\"There were missing values in resampled performance measures.\"\n"
     ]
    },
    {
     "name": "stdout",
     "output_type": "stream",
     "text": [
      "[1]  0.5 30.0 17.0  3.0\n",
      "[1]  0.5 30.0 17.0  5.0\n",
      "[1]  0.5 30.0 17.0 10.0\n",
      "[1]  0.5 30.0 17.0 20.0\n",
      "[1]  0.5 30.0 17.0 30.0\n",
      "[1]  0.5 30.0 17.0 40.0\n",
      "[1]  0.5 30.0 17.0 50.0\n",
      "[1]  0.5 30.0 18.0  0.0\n",
      "note: only 2 unique complexity parameters in default grid. Truncating the grid to 2 .\n",
      "\n"
     ]
    },
    {
     "name": "stderr",
     "output_type": "stream",
     "text": [
      "Warning message in nominalTrainWorkflow(x = x, y = y, wts = weights, info = trainInfo, :\n",
      "\"There were missing values in resampled performance measures.\"\n"
     ]
    },
    {
     "name": "stdout",
     "output_type": "stream",
     "text": [
      "[1]  0.5 30.0 18.0  1.0\n",
      "note: only 3 unique complexity parameters in default grid. Truncating the grid to 3 .\n",
      "\n"
     ]
    },
    {
     "name": "stderr",
     "output_type": "stream",
     "text": [
      "Warning message in nominalTrainWorkflow(x = x, y = y, wts = weights, info = trainInfo, :\n",
      "\"There were missing values in resampled performance measures.\"\n"
     ]
    },
    {
     "name": "stdout",
     "output_type": "stream",
     "text": [
      "[1]  0.5 30.0 18.0  3.0\n",
      "[1]  0.5 30.0 18.0  5.0\n",
      "[1]  0.5 30.0 18.0 10.0\n"
     ]
    },
    {
     "name": "stderr",
     "output_type": "stream",
     "text": [
      "Warning message in nominalTrainWorkflow(x = x, y = y, wts = weights, info = trainInfo, :\n",
      "\"There were missing values in resampled performance measures.\"\n"
     ]
    },
    {
     "name": "stdout",
     "output_type": "stream",
     "text": [
      "[1]  0.5 30.0 18.0 20.0\n",
      "[1]  0.5 30.0 18.0 30.0\n",
      "[1]  0.5 30.0 18.0 40.0\n",
      "[1]  0.5 30.0 18.0 50.0\n",
      "[1]  0.5 30.0 19.0  0.0\n",
      "note: only 2 unique complexity parameters in default grid. Truncating the grid to 2 .\n",
      "\n"
     ]
    },
    {
     "name": "stderr",
     "output_type": "stream",
     "text": [
      "Warning message in nominalTrainWorkflow(x = x, y = y, wts = weights, info = trainInfo, :\n",
      "\"There were missing values in resampled performance measures.\"\n"
     ]
    },
    {
     "name": "stdout",
     "output_type": "stream",
     "text": [
      "[1]  0.5 30.0 19.0  1.0\n",
      "note: only 3 unique complexity parameters in default grid. Truncating the grid to 3 .\n",
      "\n"
     ]
    },
    {
     "name": "stderr",
     "output_type": "stream",
     "text": [
      "Warning message in nominalTrainWorkflow(x = x, y = y, wts = weights, info = trainInfo, :\n",
      "\"There were missing values in resampled performance measures.\"\n"
     ]
    },
    {
     "name": "stdout",
     "output_type": "stream",
     "text": [
      "[1]  0.5 30.0 19.0  3.0\n",
      "[1]  0.5 30.0 19.0  5.0\n",
      "[1]  0.5 30.0 19.0 10.0\n",
      "[1]  0.5 30.0 19.0 20.0\n",
      "[1]  0.5 30.0 19.0 30.0\n",
      "[1]  0.5 30.0 19.0 40.0\n",
      "[1]  0.5 30.0 19.0 50.0\n",
      "[1]  0.5 30.0 20.0  0.0\n",
      "note: only 2 unique complexity parameters in default grid. Truncating the grid to 2 .\n",
      "\n"
     ]
    },
    {
     "name": "stderr",
     "output_type": "stream",
     "text": [
      "Warning message in nominalTrainWorkflow(x = x, y = y, wts = weights, info = trainInfo, :\n",
      "\"There were missing values in resampled performance measures.\"\n"
     ]
    },
    {
     "name": "stdout",
     "output_type": "stream",
     "text": [
      "[1]  0.5 30.0 20.0  1.0\n",
      "note: only 3 unique complexity parameters in default grid. Truncating the grid to 3 .\n",
      "\n"
     ]
    },
    {
     "name": "stderr",
     "output_type": "stream",
     "text": [
      "Warning message in nominalTrainWorkflow(x = x, y = y, wts = weights, info = trainInfo, :\n",
      "\"There were missing values in resampled performance measures.\"\n"
     ]
    },
    {
     "name": "stdout",
     "output_type": "stream",
     "text": [
      "[1]  0.5 30.0 20.0  3.0\n",
      "[1]  0.5 30.0 20.0  5.0\n"
     ]
    },
    {
     "name": "stderr",
     "output_type": "stream",
     "text": [
      "Warning message in nominalTrainWorkflow(x = x, y = y, wts = weights, info = trainInfo, :\n",
      "\"There were missing values in resampled performance measures.\"\n"
     ]
    },
    {
     "name": "stdout",
     "output_type": "stream",
     "text": [
      "[1]  0.5 30.0 20.0 10.0\n",
      "[1]  0.5 30.0 20.0 20.0\n",
      "[1]  0.5 30.0 20.0 30.0\n",
      "[1]  0.5 30.0 20.0 40.0\n",
      "[1]  0.5 30.0 20.0 50.0\n",
      "[1]  0.5 30.0 21.0  0.0\n",
      "note: only 2 unique complexity parameters in default grid. Truncating the grid to 2 .\n",
      "\n",
      "[1]  0.5 30.0 21.0  1.0\n",
      "note: only 3 unique complexity parameters in default grid. Truncating the grid to 3 .\n",
      "\n",
      "[1]  0.5 30.0 21.0  3.0\n",
      "[1]  0.5 30.0 21.0  5.0\n",
      "[1]  0.5 30.0 21.0 10.0\n",
      "[1]  0.5 30.0 21.0 20.0\n",
      "[1]  0.5 30.0 21.0 30.0\n",
      "[1]  0.5 30.0 21.0 40.0\n",
      "[1]  0.5 30.0 21.0 50.0\n",
      "[1]  0.5 30.0 22.0  0.0\n",
      "note: only 2 unique complexity parameters in default grid. Truncating the grid to 2 .\n",
      "\n"
     ]
    },
    {
     "name": "stderr",
     "output_type": "stream",
     "text": [
      "Warning message in nominalTrainWorkflow(x = x, y = y, wts = weights, info = trainInfo, :\n",
      "\"There were missing values in resampled performance measures.\"\n"
     ]
    },
    {
     "name": "stdout",
     "output_type": "stream",
     "text": [
      "[1]  0.5 30.0 22.0  1.0\n",
      "note: only 3 unique complexity parameters in default grid. Truncating the grid to 3 .\n",
      "\n",
      "[1]  0.5 30.0 22.0  3.0\n",
      "[1]  0.5 30.0 22.0  5.0\n",
      "[1]  0.5 30.0 22.0 10.0\n",
      "[1]  0.5 30.0 22.0 20.0\n",
      "[1]  0.5 30.0 22.0 30.0\n",
      "[1]  0.5 30.0 22.0 40.0\n",
      "[1]  0.5 30.0 22.0 50.0\n",
      "[1]  0.5 30.0 23.0  0.0\n",
      "note: only 2 unique complexity parameters in default grid. Truncating the grid to 2 .\n",
      "\n",
      "[1]  0.5 30.0 23.0  1.0\n",
      "note: only 3 unique complexity parameters in default grid. Truncating the grid to 3 .\n",
      "\n",
      "[1]  0.5 30.0 23.0  3.0\n",
      "[1]  0.5 30.0 23.0  5.0\n",
      "[1]  0.5 30.0 23.0 10.0\n",
      "[1]  0.5 30.0 23.0 20.0\n",
      "[1]  0.5 30.0 23.0 30.0\n",
      "[1]  0.5 30.0 23.0 40.0\n",
      "[1]  0.5 30.0 23.0 50.0\n",
      "[1]  0.5 30.0 24.0  0.0\n",
      "note: only 2 unique complexity parameters in default grid. Truncating the grid to 2 .\n",
      "\n"
     ]
    },
    {
     "name": "stderr",
     "output_type": "stream",
     "text": [
      "Warning message in nominalTrainWorkflow(x = x, y = y, wts = weights, info = trainInfo, :\n",
      "\"There were missing values in resampled performance measures.\"\n"
     ]
    },
    {
     "name": "stdout",
     "output_type": "stream",
     "text": [
      "[1]  0.5 30.0 24.0  1.0\n",
      "note: only 3 unique complexity parameters in default grid. Truncating the grid to 3 .\n",
      "\n"
     ]
    },
    {
     "name": "stderr",
     "output_type": "stream",
     "text": [
      "Warning message in nominalTrainWorkflow(x = x, y = y, wts = weights, info = trainInfo, :\n",
      "\"There were missing values in resampled performance measures.\"\n"
     ]
    },
    {
     "name": "stdout",
     "output_type": "stream",
     "text": [
      "[1]  0.5 30.0 24.0  3.0\n"
     ]
    },
    {
     "name": "stderr",
     "output_type": "stream",
     "text": [
      "Warning message in nominalTrainWorkflow(x = x, y = y, wts = weights, info = trainInfo, :\n",
      "\"There were missing values in resampled performance measures.\"\n"
     ]
    },
    {
     "name": "stdout",
     "output_type": "stream",
     "text": [
      "[1]  0.5 30.0 24.0  5.0\n"
     ]
    },
    {
     "name": "stderr",
     "output_type": "stream",
     "text": [
      "Warning message in nominalTrainWorkflow(x = x, y = y, wts = weights, info = trainInfo, :\n",
      "\"There were missing values in resampled performance measures.\"\n"
     ]
    },
    {
     "name": "stdout",
     "output_type": "stream",
     "text": [
      "[1]  0.5 30.0 24.0 10.0\n",
      "[1]  0.5 30.0 24.0 20.0\n",
      "[1]  0.5 30.0 24.0 30.0\n",
      "[1]  0.5 30.0 24.0 40.0\n",
      "[1]  0.5 30.0 24.0 50.0\n",
      "[1]  0.5 30.0 25.0  0.0\n",
      "note: only 2 unique complexity parameters in default grid. Truncating the grid to 2 .\n",
      "\n"
     ]
    },
    {
     "name": "stderr",
     "output_type": "stream",
     "text": [
      "Warning message in nominalTrainWorkflow(x = x, y = y, wts = weights, info = trainInfo, :\n",
      "\"There were missing values in resampled performance measures.\"\n"
     ]
    },
    {
     "name": "stdout",
     "output_type": "stream",
     "text": [
      "[1]  0.5 30.0 25.0  1.0\n",
      "note: only 3 unique complexity parameters in default grid. Truncating the grid to 3 .\n",
      "\n",
      "[1]  0.5 30.0 25.0  3.0\n",
      "[1]  0.5 30.0 25.0  5.0\n",
      "[1]  0.5 30.0 25.0 10.0\n",
      "[1]  0.5 30.0 25.0 20.0\n",
      "[1]  0.5 30.0 25.0 30.0\n",
      "[1]  0.5 30.0 25.0 40.0\n",
      "[1]  0.5 30.0 25.0 50.0\n",
      "[1]  0.5 30.0 26.0  0.0\n",
      "note: only 2 unique complexity parameters in default grid. Truncating the grid to 2 .\n",
      "\n",
      "[1]  0.5 30.0 26.0  1.0\n",
      "note: only 3 unique complexity parameters in default grid. Truncating the grid to 3 .\n",
      "\n",
      "[1]  0.5 30.0 26.0  3.0\n",
      "[1]  0.5 30.0 26.0  5.0\n",
      "[1]  0.5 30.0 26.0 10.0\n",
      "[1]  0.5 30.0 26.0 20.0\n",
      "[1]  0.5 30.0 26.0 30.0\n",
      "[1]  0.5 30.0 26.0 40.0\n",
      "[1]  0.5 30.0 26.0 50.0\n",
      "[1]  0.5 30.0 27.0  0.0\n",
      "note: only 2 unique complexity parameters in default grid. Truncating the grid to 2 .\n",
      "\n"
     ]
    },
    {
     "name": "stderr",
     "output_type": "stream",
     "text": [
      "Warning message in nominalTrainWorkflow(x = x, y = y, wts = weights, info = trainInfo, :\n",
      "\"There were missing values in resampled performance measures.\"\n"
     ]
    },
    {
     "name": "stdout",
     "output_type": "stream",
     "text": [
      "[1]  0.5 30.0 27.0  1.0\n",
      "note: only 3 unique complexity parameters in default grid. Truncating the grid to 3 .\n",
      "\n",
      "[1]  0.5 30.0 27.0  3.0\n",
      "[1]  0.5 30.0 27.0  5.0\n",
      "[1]  0.5 30.0 27.0 10.0\n",
      "[1]  0.5 30.0 27.0 20.0\n",
      "[1]  0.5 30.0 27.0 30.0\n",
      "[1]  0.5 30.0 27.0 40.0\n",
      "[1]  0.5 30.0 27.0 50.0\n",
      "[1]  0.5 30.0 28.0  0.0\n",
      "note: only 2 unique complexity parameters in default grid. Truncating the grid to 2 .\n",
      "\n",
      "[1]  0.5 30.0 28.0  1.0\n",
      "note: only 3 unique complexity parameters in default grid. Truncating the grid to 3 .\n",
      "\n",
      "[1]  0.5 30.0 28.0  3.0\n",
      "[1]  0.5 30.0 28.0  5.0\n",
      "[1]  0.5 30.0 28.0 10.0\n",
      "[1]  0.5 30.0 28.0 20.0\n",
      "[1]  0.5 30.0 28.0 30.0\n",
      "[1]  0.5 30.0 28.0 40.0\n",
      "[1]  0.5 30.0 28.0 50.0\n",
      "[1]  0.5 30.0 29.0  0.0\n",
      "note: only 2 unique complexity parameters in default grid. Truncating the grid to 2 .\n",
      "\n"
     ]
    },
    {
     "name": "stderr",
     "output_type": "stream",
     "text": [
      "Warning message in nominalTrainWorkflow(x = x, y = y, wts = weights, info = trainInfo, :\n",
      "\"There were missing values in resampled performance measures.\"\n"
     ]
    },
    {
     "name": "stdout",
     "output_type": "stream",
     "text": [
      "[1]  0.5 30.0 29.0  1.0\n",
      "note: only 3 unique complexity parameters in default grid. Truncating the grid to 3 .\n",
      "\n",
      "[1]  0.5 30.0 29.0  3.0\n",
      "[1]  0.5 30.0 29.0  5.0\n",
      "[1]  0.5 30.0 29.0 10.0\n",
      "[1]  0.5 30.0 29.0 20.0\n",
      "[1]  0.5 30.0 29.0 30.0\n",
      "[1]  0.5 30.0 29.0 40.0\n",
      "[1]  0.5 30.0 29.0 50.0\n",
      "[1]  0.5 30.0 30.0  0.0\n",
      "note: only 2 unique complexity parameters in default grid. Truncating the grid to 2 .\n",
      "\n",
      "[1]  0.5 30.0 30.0  1.0\n",
      "note: only 3 unique complexity parameters in default grid. Truncating the grid to 3 .\n",
      "\n",
      "[1]  0.5 30.0 30.0  3.0\n",
      "[1]  0.5 30.0 30.0  5.0\n",
      "[1]  0.5 30.0 30.0 10.0\n",
      "[1]  0.5 30.0 30.0 20.0\n",
      "[1]  0.5 30.0 30.0 30.0\n",
      "[1]  0.5 30.0 30.0 40.0\n",
      "[1]  0.5 30.0 30.0 50.0\n",
      "[1]  0.5 40.0  1.0  0.0\n",
      "note: only 2 unique complexity parameters in default grid. Truncating the grid to 2 .\n",
      "\n"
     ]
    },
    {
     "name": "stderr",
     "output_type": "stream",
     "text": [
      "Warning message in nominalTrainWorkflow(x = x, y = y, wts = weights, info = trainInfo, :\n",
      "\"There were missing values in resampled performance measures.\"\n"
     ]
    },
    {
     "name": "stdout",
     "output_type": "stream",
     "text": [
      "[1]  0.5 40.0  1.0  1.0\n",
      "note: only 3 unique complexity parameters in default grid. Truncating the grid to 3 .\n",
      "\n",
      "[1]  0.5 40.0  1.0  3.0\n",
      "[1]  0.5 40.0  1.0  5.0\n",
      "[1]  0.5 40.0  1.0 10.0\n",
      "[1]  0.5 40.0  1.0 20.0\n",
      "[1]  0.5 40.0  1.0 30.0\n",
      "[1]  0.5 40.0  1.0 40.0\n",
      "[1]  0.5 40.0  1.0 50.0\n",
      "[1]  0.5 40.0  2.0  0.0\n",
      "note: only 2 unique complexity parameters in default grid. Truncating the grid to 2 .\n",
      "\n"
     ]
    },
    {
     "name": "stderr",
     "output_type": "stream",
     "text": [
      "Warning message in nominalTrainWorkflow(x = x, y = y, wts = weights, info = trainInfo, :\n",
      "\"There were missing values in resampled performance measures.\"\n"
     ]
    },
    {
     "name": "stdout",
     "output_type": "stream",
     "text": [
      "[1]  0.5 40.0  2.0  1.0\n",
      "note: only 3 unique complexity parameters in default grid. Truncating the grid to 3 .\n",
      "\n",
      "[1]  0.5 40.0  2.0  3.0\n",
      "[1]  0.5 40.0  2.0  5.0\n",
      "[1]  0.5 40.0  2.0 10.0\n",
      "[1]  0.5 40.0  2.0 20.0\n",
      "[1]  0.5 40.0  2.0 30.0\n",
      "[1]  0.5 40.0  2.0 40.0\n",
      "[1]  0.5 40.0  2.0 50.0\n",
      "[1]  0.5 40.0  3.0  0.0\n",
      "note: only 2 unique complexity parameters in default grid. Truncating the grid to 2 .\n",
      "\n"
     ]
    },
    {
     "name": "stderr",
     "output_type": "stream",
     "text": [
      "Warning message in nominalTrainWorkflow(x = x, y = y, wts = weights, info = trainInfo, :\n",
      "\"There were missing values in resampled performance measures.\"\n"
     ]
    },
    {
     "name": "stdout",
     "output_type": "stream",
     "text": [
      "[1]  0.5 40.0  3.0  1.0\n",
      "note: only 3 unique complexity parameters in default grid. Truncating the grid to 3 .\n",
      "\n",
      "[1]  0.5 40.0  3.0  3.0\n",
      "[1]  0.5 40.0  3.0  5.0\n",
      "[1]  0.5 40.0  3.0 10.0\n",
      "[1]  0.5 40.0  3.0 20.0\n",
      "[1]  0.5 40.0  3.0 30.0\n",
      "[1]  0.5 40.0  3.0 40.0\n",
      "[1]  0.5 40.0  3.0 50.0\n",
      "[1]  0.5 40.0  4.0  0.0\n",
      "note: only 2 unique complexity parameters in default grid. Truncating the grid to 2 .\n",
      "\n",
      "[1]  0.5 40.0  4.0  1.0\n",
      "note: only 3 unique complexity parameters in default grid. Truncating the grid to 3 .\n",
      "\n",
      "[1]  0.5 40.0  4.0  3.0\n",
      "[1]  0.5 40.0  4.0  5.0\n",
      "[1]  0.5 40.0  4.0 10.0\n",
      "[1]  0.5 40.0  4.0 20.0\n",
      "[1]  0.5 40.0  4.0 30.0\n",
      "[1]  0.5 40.0  4.0 40.0\n",
      "[1]  0.5 40.0  4.0 50.0\n",
      "[1]  0.5 40.0  5.0  0.0\n",
      "note: only 2 unique complexity parameters in default grid. Truncating the grid to 2 .\n",
      "\n",
      "[1]  0.5 40.0  5.0  1.0\n",
      "note: only 3 unique complexity parameters in default grid. Truncating the grid to 3 .\n",
      "\n",
      "[1]  0.5 40.0  5.0  3.0\n",
      "[1]  0.5 40.0  5.0  5.0\n",
      "[1]  0.5 40.0  5.0 10.0\n",
      "[1]  0.5 40.0  5.0 20.0\n",
      "[1]  0.5 40.0  5.0 30.0\n",
      "[1]  0.5 40.0  5.0 40.0\n",
      "[1]  0.5 40.0  5.0 50.0\n",
      "[1]  0.5 40.0  6.0  0.0\n",
      "note: only 2 unique complexity parameters in default grid. Truncating the grid to 2 .\n",
      "\n",
      "[1]  0.5 40.0  6.0  1.0\n",
      "note: only 3 unique complexity parameters in default grid. Truncating the grid to 3 .\n",
      "\n",
      "[1]  0.5 40.0  6.0  3.0\n",
      "[1]  0.5 40.0  6.0  5.0\n",
      "[1]  0.5 40.0  6.0 10.0\n",
      "[1]  0.5 40.0  6.0 20.0\n",
      "[1]  0.5 40.0  6.0 30.0\n",
      "[1]  0.5 40.0  6.0 40.0\n",
      "[1]  0.5 40.0  6.0 50.0\n",
      "[1]  0.5 40.0  7.0  0.0\n",
      "note: only 2 unique complexity parameters in default grid. Truncating the grid to 2 .\n",
      "\n"
     ]
    },
    {
     "name": "stderr",
     "output_type": "stream",
     "text": [
      "Warning message in nominalTrainWorkflow(x = x, y = y, wts = weights, info = trainInfo, :\n",
      "\"There were missing values in resampled performance measures.\"\n"
     ]
    },
    {
     "name": "stdout",
     "output_type": "stream",
     "text": [
      "[1]  0.5 40.0  7.0  1.0\n",
      "note: only 3 unique complexity parameters in default grid. Truncating the grid to 3 .\n",
      "\n"
     ]
    },
    {
     "name": "stderr",
     "output_type": "stream",
     "text": [
      "Warning message in nominalTrainWorkflow(x = x, y = y, wts = weights, info = trainInfo, :\n",
      "\"There were missing values in resampled performance measures.\"\n"
     ]
    },
    {
     "name": "stdout",
     "output_type": "stream",
     "text": [
      "[1]  0.5 40.0  7.0  3.0\n",
      "[1]  0.5 40.0  7.0  5.0\n",
      "[1]  0.5 40.0  7.0 10.0\n",
      "[1]  0.5 40.0  7.0 20.0\n",
      "[1]  0.5 40.0  7.0 30.0\n",
      "[1]  0.5 40.0  7.0 40.0\n",
      "[1]  0.5 40.0  7.0 50.0\n",
      "[1]  0.5 40.0  8.0  0.0\n",
      "note: only 2 unique complexity parameters in default grid. Truncating the grid to 2 .\n",
      "\n"
     ]
    },
    {
     "name": "stderr",
     "output_type": "stream",
     "text": [
      "Warning message in nominalTrainWorkflow(x = x, y = y, wts = weights, info = trainInfo, :\n",
      "\"There were missing values in resampled performance measures.\"\n"
     ]
    },
    {
     "name": "stdout",
     "output_type": "stream",
     "text": [
      "[1]  0.5 40.0  8.0  1.0\n",
      "note: only 3 unique complexity parameters in default grid. Truncating the grid to 3 .\n",
      "\n"
     ]
    },
    {
     "name": "stderr",
     "output_type": "stream",
     "text": [
      "Warning message in nominalTrainWorkflow(x = x, y = y, wts = weights, info = trainInfo, :\n",
      "\"There were missing values in resampled performance measures.\"\n"
     ]
    },
    {
     "name": "stdout",
     "output_type": "stream",
     "text": [
      "[1]  0.5 40.0  8.0  3.0\n"
     ]
    },
    {
     "name": "stderr",
     "output_type": "stream",
     "text": [
      "Warning message in nominalTrainWorkflow(x = x, y = y, wts = weights, info = trainInfo, :\n",
      "\"There were missing values in resampled performance measures.\"\n"
     ]
    },
    {
     "name": "stdout",
     "output_type": "stream",
     "text": [
      "[1]  0.5 40.0  8.0  5.0\n"
     ]
    },
    {
     "name": "stderr",
     "output_type": "stream",
     "text": [
      "Warning message in nominalTrainWorkflow(x = x, y = y, wts = weights, info = trainInfo, :\n",
      "\"There were missing values in resampled performance measures.\"\n"
     ]
    },
    {
     "name": "stdout",
     "output_type": "stream",
     "text": [
      "[1]  0.5 40.0  8.0 10.0\n",
      "[1]  0.5 40.0  8.0 20.0\n",
      "[1]  0.5 40.0  8.0 30.0\n",
      "[1]  0.5 40.0  8.0 40.0\n",
      "[1]  0.5 40.0  8.0 50.0\n",
      "[1]  0.5 40.0  9.0  0.0\n",
      "note: only 2 unique complexity parameters in default grid. Truncating the grid to 2 .\n",
      "\n",
      "[1]  0.5 40.0  9.0  1.0\n",
      "note: only 3 unique complexity parameters in default grid. Truncating the grid to 3 .\n",
      "\n",
      "[1]  0.5 40.0  9.0  3.0\n",
      "[1]  0.5 40.0  9.0  5.0\n",
      "[1]  0.5 40.0  9.0 10.0\n",
      "[1]  0.5 40.0  9.0 20.0\n",
      "[1]  0.5 40.0  9.0 30.0\n",
      "[1]  0.5 40.0  9.0 40.0\n",
      "[1]  0.5 40.0  9.0 50.0\n",
      "[1]  0.5 40.0 10.0  0.0\n",
      "note: only 2 unique complexity parameters in default grid. Truncating the grid to 2 .\n",
      "\n"
     ]
    },
    {
     "name": "stderr",
     "output_type": "stream",
     "text": [
      "Warning message in nominalTrainWorkflow(x = x, y = y, wts = weights, info = trainInfo, :\n",
      "\"There were missing values in resampled performance measures.\"\n"
     ]
    },
    {
     "name": "stdout",
     "output_type": "stream",
     "text": [
      "[1]  0.5 40.0 10.0  1.0\n",
      "note: only 3 unique complexity parameters in default grid. Truncating the grid to 3 .\n",
      "\n"
     ]
    },
    {
     "name": "stderr",
     "output_type": "stream",
     "text": [
      "Warning message in nominalTrainWorkflow(x = x, y = y, wts = weights, info = trainInfo, :\n",
      "\"There were missing values in resampled performance measures.\"\n"
     ]
    },
    {
     "name": "stdout",
     "output_type": "stream",
     "text": [
      "[1]  0.5 40.0 10.0  3.0\n",
      "[1]  0.5 40.0 10.0  5.0\n"
     ]
    },
    {
     "name": "stderr",
     "output_type": "stream",
     "text": [
      "Warning message in nominalTrainWorkflow(x = x, y = y, wts = weights, info = trainInfo, :\n",
      "\"There were missing values in resampled performance measures.\"\n"
     ]
    },
    {
     "name": "stdout",
     "output_type": "stream",
     "text": [
      "[1]  0.5 40.0 10.0 10.0\n",
      "[1]  0.5 40.0 10.0 20.0\n",
      "[1]  0.5 40.0 10.0 30.0\n",
      "[1]  0.5 40.0 10.0 40.0\n",
      "[1]  0.5 40.0 10.0 50.0\n",
      "[1]  0.5 40.0 11.0  0.0\n",
      "note: only 2 unique complexity parameters in default grid. Truncating the grid to 2 .\n",
      "\n"
     ]
    },
    {
     "name": "stderr",
     "output_type": "stream",
     "text": [
      "Warning message in nominalTrainWorkflow(x = x, y = y, wts = weights, info = trainInfo, :\n",
      "\"There were missing values in resampled performance measures.\"\n"
     ]
    },
    {
     "name": "stdout",
     "output_type": "stream",
     "text": [
      "[1]  0.5 40.0 11.0  1.0\n",
      "note: only 3 unique complexity parameters in default grid. Truncating the grid to 3 .\n",
      "\n"
     ]
    },
    {
     "name": "stderr",
     "output_type": "stream",
     "text": [
      "Warning message in nominalTrainWorkflow(x = x, y = y, wts = weights, info = trainInfo, :\n",
      "\"There were missing values in resampled performance measures.\"\n"
     ]
    },
    {
     "name": "stdout",
     "output_type": "stream",
     "text": [
      "[1]  0.5 40.0 11.0  3.0\n",
      "[1]  0.5 40.0 11.0  5.0\n",
      "[1]  0.5 40.0 11.0 10.0\n",
      "[1]  0.5 40.0 11.0 20.0\n",
      "[1]  0.5 40.0 11.0 30.0\n",
      "[1]  0.5 40.0 11.0 40.0\n",
      "[1]  0.5 40.0 11.0 50.0\n",
      "[1]  0.5 40.0 12.0  0.0\n",
      "note: only 2 unique complexity parameters in default grid. Truncating the grid to 2 .\n",
      "\n",
      "[1]  0.5 40.0 12.0  1.0\n",
      "note: only 3 unique complexity parameters in default grid. Truncating the grid to 3 .\n",
      "\n",
      "[1]  0.5 40.0 12.0  3.0\n",
      "[1]  0.5 40.0 12.0  5.0\n",
      "[1]  0.5 40.0 12.0 10.0\n",
      "[1]  0.5 40.0 12.0 20.0\n",
      "[1]  0.5 40.0 12.0 30.0\n",
      "[1]  0.5 40.0 12.0 40.0\n",
      "[1]  0.5 40.0 12.0 50.0\n",
      "[1]  0.5 40.0 13.0  0.0\n",
      "note: only 2 unique complexity parameters in default grid. Truncating the grid to 2 .\n",
      "\n",
      "[1]  0.5 40.0 13.0  1.0\n",
      "note: only 3 unique complexity parameters in default grid. Truncating the grid to 3 .\n",
      "\n",
      "[1]  0.5 40.0 13.0  3.0\n",
      "[1]  0.5 40.0 13.0  5.0\n",
      "[1]  0.5 40.0 13.0 10.0\n",
      "[1]  0.5 40.0 13.0 20.0\n",
      "[1]  0.5 40.0 13.0 30.0\n",
      "[1]  0.5 40.0 13.0 40.0\n",
      "[1]  0.5 40.0 13.0 50.0\n",
      "[1]  0.5 40.0 14.0  0.0\n",
      "note: only 2 unique complexity parameters in default grid. Truncating the grid to 2 .\n",
      "\n",
      "[1]  0.5 40.0 14.0  1.0\n",
      "note: only 3 unique complexity parameters in default grid. Truncating the grid to 3 .\n",
      "\n"
     ]
    },
    {
     "name": "stderr",
     "output_type": "stream",
     "text": [
      "Warning message in nominalTrainWorkflow(x = x, y = y, wts = weights, info = trainInfo, :\n",
      "\"There were missing values in resampled performance measures.\"\n"
     ]
    },
    {
     "name": "stdout",
     "output_type": "stream",
     "text": [
      "[1]  0.5 40.0 14.0  3.0\n",
      "[1]  0.5 40.0 14.0  5.0\n",
      "[1]  0.5 40.0 14.0 10.0\n",
      "[1]  0.5 40.0 14.0 20.0\n",
      "[1]  0.5 40.0 14.0 30.0\n",
      "[1]  0.5 40.0 14.0 40.0\n",
      "[1]  0.5 40.0 14.0 50.0\n",
      "[1]  0.5 40.0 15.0  0.0\n",
      "note: only 2 unique complexity parameters in default grid. Truncating the grid to 2 .\n",
      "\n",
      "[1]  0.5 40.0 15.0  1.0\n",
      "note: only 3 unique complexity parameters in default grid. Truncating the grid to 3 .\n",
      "\n",
      "[1]  0.5 40.0 15.0  3.0\n",
      "[1]  0.5 40.0 15.0  5.0\n",
      "[1]  0.5 40.0 15.0 10.0\n",
      "[1]  0.5 40.0 15.0 20.0\n",
      "[1]  0.5 40.0 15.0 30.0\n",
      "[1]  0.5 40.0 15.0 40.0\n",
      "[1]  0.5 40.0 15.0 50.0\n",
      "[1]  0.5 40.0 16.0  0.0\n",
      "note: only 2 unique complexity parameters in default grid. Truncating the grid to 2 .\n",
      "\n",
      "[1]  0.5 40.0 16.0  1.0\n",
      "note: only 3 unique complexity parameters in default grid. Truncating the grid to 3 .\n",
      "\n",
      "[1]  0.5 40.0 16.0  3.0\n",
      "[1]  0.5 40.0 16.0  5.0\n",
      "[1]  0.5 40.0 16.0 10.0\n",
      "[1]  0.5 40.0 16.0 20.0\n",
      "[1]  0.5 40.0 16.0 30.0\n",
      "[1]  0.5 40.0 16.0 40.0\n",
      "[1]  0.5 40.0 16.0 50.0\n",
      "[1]  0.5 40.0 17.0  0.0\n",
      "note: only 2 unique complexity parameters in default grid. Truncating the grid to 2 .\n",
      "\n"
     ]
    },
    {
     "name": "stderr",
     "output_type": "stream",
     "text": [
      "Warning message in nominalTrainWorkflow(x = x, y = y, wts = weights, info = trainInfo, :\n",
      "\"There were missing values in resampled performance measures.\"\n"
     ]
    },
    {
     "name": "stdout",
     "output_type": "stream",
     "text": [
      "[1]  0.5 40.0 17.0  1.0\n",
      "note: only 3 unique complexity parameters in default grid. Truncating the grid to 3 .\n",
      "\n",
      "[1]  0.5 40.0 17.0  3.0\n",
      "[1]  0.5 40.0 17.0  5.0\n",
      "[1]  0.5 40.0 17.0 10.0\n",
      "[1]  0.5 40.0 17.0 20.0\n",
      "[1]  0.5 40.0 17.0 30.0\n",
      "[1]  0.5 40.0 17.0 40.0\n",
      "[1]  0.5 40.0 17.0 50.0\n",
      "[1]  0.5 40.0 18.0  0.0\n",
      "note: only 2 unique complexity parameters in default grid. Truncating the grid to 2 .\n",
      "\n"
     ]
    },
    {
     "name": "stderr",
     "output_type": "stream",
     "text": [
      "Warning message in nominalTrainWorkflow(x = x, y = y, wts = weights, info = trainInfo, :\n",
      "\"There were missing values in resampled performance measures.\"\n"
     ]
    },
    {
     "name": "stdout",
     "output_type": "stream",
     "text": [
      "[1]  0.5 40.0 18.0  1.0\n",
      "note: only 3 unique complexity parameters in default grid. Truncating the grid to 3 .\n",
      "\n",
      "[1]  0.5 40.0 18.0  3.0\n",
      "[1]  0.5 40.0 18.0  5.0\n",
      "[1]  0.5 40.0 18.0 10.0\n",
      "[1]  0.5 40.0 18.0 20.0\n",
      "[1]  0.5 40.0 18.0 30.0\n",
      "[1]  0.5 40.0 18.0 40.0\n",
      "[1]  0.5 40.0 18.0 50.0\n",
      "[1]  0.5 40.0 19.0  0.0\n",
      "note: only 2 unique complexity parameters in default grid. Truncating the grid to 2 .\n",
      "\n"
     ]
    },
    {
     "name": "stderr",
     "output_type": "stream",
     "text": [
      "Warning message in nominalTrainWorkflow(x = x, y = y, wts = weights, info = trainInfo, :\n",
      "\"There were missing values in resampled performance measures.\"\n"
     ]
    },
    {
     "name": "stdout",
     "output_type": "stream",
     "text": [
      "[1]  0.5 40.0 19.0  1.0\n",
      "note: only 3 unique complexity parameters in default grid. Truncating the grid to 3 .\n",
      "\n"
     ]
    },
    {
     "name": "stderr",
     "output_type": "stream",
     "text": [
      "Warning message in nominalTrainWorkflow(x = x, y = y, wts = weights, info = trainInfo, :\n",
      "\"There were missing values in resampled performance measures.\"\n"
     ]
    },
    {
     "name": "stdout",
     "output_type": "stream",
     "text": [
      "[1]  0.5 40.0 19.0  3.0\n",
      "[1]  0.5 40.0 19.0  5.0\n",
      "[1]  0.5 40.0 19.0 10.0\n",
      "[1]  0.5 40.0 19.0 20.0\n",
      "[1]  0.5 40.0 19.0 30.0\n",
      "[1]  0.5 40.0 19.0 40.0\n",
      "[1]  0.5 40.0 19.0 50.0\n",
      "[1]  0.5 40.0 20.0  0.0\n",
      "note: only 2 unique complexity parameters in default grid. Truncating the grid to 2 .\n",
      "\n"
     ]
    },
    {
     "name": "stderr",
     "output_type": "stream",
     "text": [
      "Warning message in nominalTrainWorkflow(x = x, y = y, wts = weights, info = trainInfo, :\n",
      "\"There were missing values in resampled performance measures.\"\n"
     ]
    },
    {
     "name": "stdout",
     "output_type": "stream",
     "text": [
      "[1]  0.5 40.0 20.0  1.0\n",
      "note: only 3 unique complexity parameters in default grid. Truncating the grid to 3 .\n",
      "\n",
      "[1]  0.5 40.0 20.0  3.0\n",
      "[1]  0.5 40.0 20.0  5.0\n",
      "[1]  0.5 40.0 20.0 10.0\n",
      "[1]  0.5 40.0 20.0 20.0\n",
      "[1]  0.5 40.0 20.0 30.0\n",
      "[1]  0.5 40.0 20.0 40.0\n",
      "[1]  0.5 40.0 20.0 50.0\n",
      "[1]  0.5 40.0 21.0  0.0\n",
      "note: only 2 unique complexity parameters in default grid. Truncating the grid to 2 .\n",
      "\n"
     ]
    },
    {
     "name": "stderr",
     "output_type": "stream",
     "text": [
      "Warning message in nominalTrainWorkflow(x = x, y = y, wts = weights, info = trainInfo, :\n",
      "\"There were missing values in resampled performance measures.\"\n"
     ]
    },
    {
     "name": "stdout",
     "output_type": "stream",
     "text": [
      "[1]  0.5 40.0 21.0  1.0\n",
      "note: only 3 unique complexity parameters in default grid. Truncating the grid to 3 .\n",
      "\n",
      "[1]  0.5 40.0 21.0  3.0\n",
      "[1]  0.5 40.0 21.0  5.0\n",
      "[1]  0.5 40.0 21.0 10.0\n",
      "[1]  0.5 40.0 21.0 20.0\n",
      "[1]  0.5 40.0 21.0 30.0\n",
      "[1]  0.5 40.0 21.0 40.0\n",
      "[1]  0.5 40.0 21.0 50.0\n",
      "[1]  0.5 40.0 22.0  0.0\n",
      "note: only 2 unique complexity parameters in default grid. Truncating the grid to 2 .\n",
      "\n",
      "[1]  0.5 40.0 22.0  1.0\n",
      "note: only 3 unique complexity parameters in default grid. Truncating the grid to 3 .\n",
      "\n",
      "[1]  0.5 40.0 22.0  3.0\n",
      "[1]  0.5 40.0 22.0  5.0\n",
      "[1]  0.5 40.0 22.0 10.0\n",
      "[1]  0.5 40.0 22.0 20.0\n",
      "[1]  0.5 40.0 22.0 30.0\n",
      "[1]  0.5 40.0 22.0 40.0\n",
      "[1]  0.5 40.0 22.0 50.0\n",
      "[1]  0.5 40.0 23.0  0.0\n",
      "note: only 2 unique complexity parameters in default grid. Truncating the grid to 2 .\n",
      "\n",
      "[1]  0.5 40.0 23.0  1.0\n",
      "note: only 3 unique complexity parameters in default grid. Truncating the grid to 3 .\n",
      "\n",
      "[1]  0.5 40.0 23.0  3.0\n",
      "[1]  0.5 40.0 23.0  5.0\n",
      "[1]  0.5 40.0 23.0 10.0\n",
      "[1]  0.5 40.0 23.0 20.0\n",
      "[1]  0.5 40.0 23.0 30.0\n",
      "[1]  0.5 40.0 23.0 40.0\n",
      "[1]  0.5 40.0 23.0 50.0\n",
      "[1]  0.5 40.0 24.0  0.0\n",
      "note: only 2 unique complexity parameters in default grid. Truncating the grid to 2 .\n",
      "\n"
     ]
    },
    {
     "name": "stderr",
     "output_type": "stream",
     "text": [
      "Warning message in nominalTrainWorkflow(x = x, y = y, wts = weights, info = trainInfo, :\n",
      "\"There were missing values in resampled performance measures.\"\n"
     ]
    },
    {
     "name": "stdout",
     "output_type": "stream",
     "text": [
      "[1]  0.5 40.0 24.0  1.0\n",
      "note: only 3 unique complexity parameters in default grid. Truncating the grid to 3 .\n",
      "\n",
      "[1]  0.5 40.0 24.0  3.0\n",
      "[1]  0.5 40.0 24.0  5.0\n",
      "[1]  0.5 40.0 24.0 10.0\n",
      "[1]  0.5 40.0 24.0 20.0\n",
      "[1]  0.5 40.0 24.0 30.0\n",
      "[1]  0.5 40.0 24.0 40.0\n",
      "[1]  0.5 40.0 24.0 50.0\n",
      "[1]  0.5 40.0 25.0  0.0\n",
      "note: only 2 unique complexity parameters in default grid. Truncating the grid to 2 .\n",
      "\n"
     ]
    },
    {
     "name": "stderr",
     "output_type": "stream",
     "text": [
      "Warning message in nominalTrainWorkflow(x = x, y = y, wts = weights, info = trainInfo, :\n",
      "\"There were missing values in resampled performance measures.\"\n"
     ]
    },
    {
     "name": "stdout",
     "output_type": "stream",
     "text": [
      "[1]  0.5 40.0 25.0  1.0\n",
      "note: only 3 unique complexity parameters in default grid. Truncating the grid to 3 .\n",
      "\n"
     ]
    },
    {
     "name": "stderr",
     "output_type": "stream",
     "text": [
      "Warning message in nominalTrainWorkflow(x = x, y = y, wts = weights, info = trainInfo, :\n",
      "\"There were missing values in resampled performance measures.\"\n"
     ]
    },
    {
     "name": "stdout",
     "output_type": "stream",
     "text": [
      "[1]  0.5 40.0 25.0  3.0\n",
      "[1]  0.5 40.0 25.0  5.0\n",
      "[1]  0.5 40.0 25.0 10.0\n",
      "[1]  0.5 40.0 25.0 20.0\n",
      "[1]  0.5 40.0 25.0 30.0\n",
      "[1]  0.5 40.0 25.0 40.0\n",
      "[1]  0.5 40.0 25.0 50.0\n",
      "[1]  0.5 40.0 26.0  0.0\n",
      "note: only 2 unique complexity parameters in default grid. Truncating the grid to 2 .\n",
      "\n"
     ]
    },
    {
     "name": "stderr",
     "output_type": "stream",
     "text": [
      "Warning message in nominalTrainWorkflow(x = x, y = y, wts = weights, info = trainInfo, :\n",
      "\"There were missing values in resampled performance measures.\"\n"
     ]
    },
    {
     "name": "stdout",
     "output_type": "stream",
     "text": [
      "[1]  0.5 40.0 26.0  1.0\n",
      "note: only 3 unique complexity parameters in default grid. Truncating the grid to 3 .\n",
      "\n"
     ]
    },
    {
     "name": "stderr",
     "output_type": "stream",
     "text": [
      "Warning message in nominalTrainWorkflow(x = x, y = y, wts = weights, info = trainInfo, :\n",
      "\"There were missing values in resampled performance measures.\"\n"
     ]
    },
    {
     "name": "stdout",
     "output_type": "stream",
     "text": [
      "[1]  0.5 40.0 26.0  3.0\n"
     ]
    },
    {
     "name": "stderr",
     "output_type": "stream",
     "text": [
      "Warning message in nominalTrainWorkflow(x = x, y = y, wts = weights, info = trainInfo, :\n",
      "\"There were missing values in resampled performance measures.\"\n"
     ]
    },
    {
     "name": "stdout",
     "output_type": "stream",
     "text": [
      "[1]  0.5 40.0 26.0  5.0\n",
      "[1]  0.5 40.0 26.0 10.0\n",
      "[1]  0.5 40.0 26.0 20.0\n",
      "[1]  0.5 40.0 26.0 30.0\n",
      "[1]  0.5 40.0 26.0 40.0\n",
      "[1]  0.5 40.0 26.0 50.0\n",
      "[1]  0.5 40.0 27.0  0.0\n",
      "note: only 2 unique complexity parameters in default grid. Truncating the grid to 2 .\n",
      "\n"
     ]
    },
    {
     "name": "stderr",
     "output_type": "stream",
     "text": [
      "Warning message in nominalTrainWorkflow(x = x, y = y, wts = weights, info = trainInfo, :\n",
      "\"There were missing values in resampled performance measures.\"\n"
     ]
    },
    {
     "name": "stdout",
     "output_type": "stream",
     "text": [
      "[1]  0.5 40.0 27.0  1.0\n",
      "note: only 3 unique complexity parameters in default grid. Truncating the grid to 3 .\n",
      "\n",
      "[1]  0.5 40.0 27.0  3.0\n",
      "[1]  0.5 40.0 27.0  5.0\n",
      "[1]  0.5 40.0 27.0 10.0\n",
      "[1]  0.5 40.0 27.0 20.0\n",
      "[1]  0.5 40.0 27.0 30.0\n",
      "[1]  0.5 40.0 27.0 40.0\n",
      "[1]  0.5 40.0 27.0 50.0\n",
      "[1]  0.5 40.0 28.0  0.0\n",
      "note: only 2 unique complexity parameters in default grid. Truncating the grid to 2 .\n",
      "\n"
     ]
    },
    {
     "name": "stderr",
     "output_type": "stream",
     "text": [
      "Warning message in nominalTrainWorkflow(x = x, y = y, wts = weights, info = trainInfo, :\n",
      "\"There were missing values in resampled performance measures.\"\n"
     ]
    },
    {
     "name": "stdout",
     "output_type": "stream",
     "text": [
      "[1]  0.5 40.0 28.0  1.0\n",
      "note: only 3 unique complexity parameters in default grid. Truncating the grid to 3 .\n",
      "\n"
     ]
    },
    {
     "name": "stderr",
     "output_type": "stream",
     "text": [
      "Warning message in nominalTrainWorkflow(x = x, y = y, wts = weights, info = trainInfo, :\n",
      "\"There were missing values in resampled performance measures.\"\n"
     ]
    },
    {
     "name": "stdout",
     "output_type": "stream",
     "text": [
      "[1]  0.5 40.0 28.0  3.0\n",
      "[1]  0.5 40.0 28.0  5.0\n",
      "[1]  0.5 40.0 28.0 10.0\n",
      "[1]  0.5 40.0 28.0 20.0\n",
      "[1]  0.5 40.0 28.0 30.0\n",
      "[1]  0.5 40.0 28.0 40.0\n",
      "[1]  0.5 40.0 28.0 50.0\n",
      "[1]  0.5 40.0 29.0  0.0\n",
      "note: only 2 unique complexity parameters in default grid. Truncating the grid to 2 .\n",
      "\n"
     ]
    },
    {
     "name": "stderr",
     "output_type": "stream",
     "text": [
      "Warning message in nominalTrainWorkflow(x = x, y = y, wts = weights, info = trainInfo, :\n",
      "\"There were missing values in resampled performance measures.\"\n"
     ]
    },
    {
     "name": "stdout",
     "output_type": "stream",
     "text": [
      "[1]  0.5 40.0 29.0  1.0\n",
      "note: only 3 unique complexity parameters in default grid. Truncating the grid to 3 .\n",
      "\n",
      "[1]  0.5 40.0 29.0  3.0\n",
      "[1]  0.5 40.0 29.0  5.0\n",
      "[1]  0.5 40.0 29.0 10.0\n",
      "[1]  0.5 40.0 29.0 20.0\n",
      "[1]  0.5 40.0 29.0 30.0\n",
      "[1]  0.5 40.0 29.0 40.0\n",
      "[1]  0.5 40.0 29.0 50.0\n",
      "[1]  0.5 40.0 30.0  0.0\n",
      "note: only 2 unique complexity parameters in default grid. Truncating the grid to 2 .\n",
      "\n"
     ]
    },
    {
     "name": "stderr",
     "output_type": "stream",
     "text": [
      "Warning message in nominalTrainWorkflow(x = x, y = y, wts = weights, info = trainInfo, :\n",
      "\"There were missing values in resampled performance measures.\"\n"
     ]
    },
    {
     "name": "stdout",
     "output_type": "stream",
     "text": [
      "[1]  0.5 40.0 30.0  1.0\n",
      "note: only 3 unique complexity parameters in default grid. Truncating the grid to 3 .\n",
      "\n",
      "[1]  0.5 40.0 30.0  3.0\n",
      "[1]  0.5 40.0 30.0  5.0\n",
      "[1]  0.5 40.0 30.0 10.0\n",
      "[1]  0.5 40.0 30.0 20.0\n",
      "[1]  0.5 40.0 30.0 30.0\n",
      "[1]  0.5 40.0 30.0 40.0\n",
      "[1]  0.5 40.0 30.0 50.0\n",
      "[1]  0.5 50.0  1.0  0.0\n",
      "note: only 2 unique complexity parameters in default grid. Truncating the grid to 2 .\n",
      "\n",
      "[1]  0.5 50.0  1.0  1.0\n",
      "note: only 3 unique complexity parameters in default grid. Truncating the grid to 3 .\n",
      "\n",
      "[1]  0.5 50.0  1.0  3.0\n",
      "[1]  0.5 50.0  1.0  5.0\n",
      "[1]  0.5 50.0  1.0 10.0\n",
      "[1]  0.5 50.0  1.0 20.0\n",
      "[1]  0.5 50.0  1.0 30.0\n",
      "[1]  0.5 50.0  1.0 40.0\n",
      "[1]  0.5 50.0  1.0 50.0\n",
      "[1]  0.5 50.0  2.0  0.0\n",
      "note: only 2 unique complexity parameters in default grid. Truncating the grid to 2 .\n",
      "\n"
     ]
    },
    {
     "name": "stderr",
     "output_type": "stream",
     "text": [
      "Warning message in nominalTrainWorkflow(x = x, y = y, wts = weights, info = trainInfo, :\n",
      "\"There were missing values in resampled performance measures.\"\n"
     ]
    },
    {
     "name": "stdout",
     "output_type": "stream",
     "text": [
      "[1]  0.5 50.0  2.0  1.0\n",
      "note: only 3 unique complexity parameters in default grid. Truncating the grid to 3 .\n",
      "\n"
     ]
    },
    {
     "name": "stderr",
     "output_type": "stream",
     "text": [
      "Warning message in nominalTrainWorkflow(x = x, y = y, wts = weights, info = trainInfo, :\n",
      "\"There were missing values in resampled performance measures.\"\n"
     ]
    },
    {
     "name": "stdout",
     "output_type": "stream",
     "text": [
      "[1]  0.5 50.0  2.0  3.0\n"
     ]
    },
    {
     "name": "stderr",
     "output_type": "stream",
     "text": [
      "Warning message in nominalTrainWorkflow(x = x, y = y, wts = weights, info = trainInfo, :\n",
      "\"There were missing values in resampled performance measures.\"\n"
     ]
    },
    {
     "name": "stdout",
     "output_type": "stream",
     "text": [
      "[1]  0.5 50.0  2.0  5.0\n",
      "[1]  0.5 50.0  2.0 10.0\n",
      "[1]  0.5 50.0  2.0 20.0\n",
      "[1]  0.5 50.0  2.0 30.0\n",
      "[1]  0.5 50.0  2.0 40.0\n",
      "[1]  0.5 50.0  2.0 50.0\n",
      "[1]  0.5 50.0  3.0  0.0\n",
      "note: only 2 unique complexity parameters in default grid. Truncating the grid to 2 .\n",
      "\n"
     ]
    },
    {
     "name": "stderr",
     "output_type": "stream",
     "text": [
      "Warning message in nominalTrainWorkflow(x = x, y = y, wts = weights, info = trainInfo, :\n",
      "\"There were missing values in resampled performance measures.\"\n"
     ]
    },
    {
     "name": "stdout",
     "output_type": "stream",
     "text": [
      "[1]  0.5 50.0  3.0  1.0\n",
      "note: only 3 unique complexity parameters in default grid. Truncating the grid to 3 .\n",
      "\n"
     ]
    },
    {
     "name": "stderr",
     "output_type": "stream",
     "text": [
      "Warning message in nominalTrainWorkflow(x = x, y = y, wts = weights, info = trainInfo, :\n",
      "\"There were missing values in resampled performance measures.\"\n"
     ]
    },
    {
     "name": "stdout",
     "output_type": "stream",
     "text": [
      "[1]  0.5 50.0  3.0  3.0\n"
     ]
    },
    {
     "name": "stderr",
     "output_type": "stream",
     "text": [
      "Warning message in nominalTrainWorkflow(x = x, y = y, wts = weights, info = trainInfo, :\n",
      "\"There were missing values in resampled performance measures.\"\n"
     ]
    },
    {
     "name": "stdout",
     "output_type": "stream",
     "text": [
      "[1]  0.5 50.0  3.0  5.0\n",
      "[1]  0.5 50.0  3.0 10.0\n",
      "[1]  0.5 50.0  3.0 20.0\n",
      "[1]  0.5 50.0  3.0 30.0\n",
      "[1]  0.5 50.0  3.0 40.0\n",
      "[1]  0.5 50.0  3.0 50.0\n",
      "[1]  0.5 50.0  4.0  0.0\n",
      "note: only 2 unique complexity parameters in default grid. Truncating the grid to 2 .\n",
      "\n",
      "[1]  0.5 50.0  4.0  1.0\n",
      "note: only 3 unique complexity parameters in default grid. Truncating the grid to 3 .\n",
      "\n",
      "[1]  0.5 50.0  4.0  3.0\n",
      "[1]  0.5 50.0  4.0  5.0\n",
      "[1]  0.5 50.0  4.0 10.0\n",
      "[1]  0.5 50.0  4.0 20.0\n",
      "[1]  0.5 50.0  4.0 30.0\n",
      "[1]  0.5 50.0  4.0 40.0\n",
      "[1]  0.5 50.0  4.0 50.0\n",
      "[1]  0.5 50.0  5.0  0.0\n",
      "note: only 2 unique complexity parameters in default grid. Truncating the grid to 2 .\n",
      "\n"
     ]
    },
    {
     "name": "stderr",
     "output_type": "stream",
     "text": [
      "Warning message in nominalTrainWorkflow(x = x, y = y, wts = weights, info = trainInfo, :\n",
      "\"There were missing values in resampled performance measures.\"\n"
     ]
    },
    {
     "name": "stdout",
     "output_type": "stream",
     "text": [
      "[1]  0.5 50.0  5.0  1.0\n",
      "note: only 3 unique complexity parameters in default grid. Truncating the grid to 3 .\n",
      "\n",
      "[1]  0.5 50.0  5.0  3.0\n",
      "[1]  0.5 50.0  5.0  5.0\n",
      "[1]  0.5 50.0  5.0 10.0\n",
      "[1]  0.5 50.0  5.0 20.0\n",
      "[1]  0.5 50.0  5.0 30.0\n",
      "[1]  0.5 50.0  5.0 40.0\n",
      "[1]  0.5 50.0  5.0 50.0\n",
      "[1]  0.5 50.0  6.0  0.0\n",
      "note: only 2 unique complexity parameters in default grid. Truncating the grid to 2 .\n",
      "\n",
      "[1]  0.5 50.0  6.0  1.0\n",
      "note: only 3 unique complexity parameters in default grid. Truncating the grid to 3 .\n",
      "\n",
      "[1]  0.5 50.0  6.0  3.0\n",
      "[1]  0.5 50.0  6.0  5.0\n",
      "[1]  0.5 50.0  6.0 10.0\n",
      "[1]  0.5 50.0  6.0 20.0\n",
      "[1]  0.5 50.0  6.0 30.0\n",
      "[1]  0.5 50.0  6.0 40.0\n",
      "[1]  0.5 50.0  6.0 50.0\n",
      "[1]  0.5 50.0  7.0  0.0\n",
      "note: only 2 unique complexity parameters in default grid. Truncating the grid to 2 .\n",
      "\n",
      "[1]  0.5 50.0  7.0  1.0\n",
      "note: only 3 unique complexity parameters in default grid. Truncating the grid to 3 .\n",
      "\n",
      "[1]  0.5 50.0  7.0  3.0\n",
      "[1]  0.5 50.0  7.0  5.0\n",
      "[1]  0.5 50.0  7.0 10.0\n",
      "[1]  0.5 50.0  7.0 20.0\n",
      "[1]  0.5 50.0  7.0 30.0\n",
      "[1]  0.5 50.0  7.0 40.0\n",
      "[1]  0.5 50.0  7.0 50.0\n",
      "[1]  0.5 50.0  8.0  0.0\n",
      "note: only 2 unique complexity parameters in default grid. Truncating the grid to 2 .\n",
      "\n",
      "[1]  0.5 50.0  8.0  1.0\n",
      "note: only 3 unique complexity parameters in default grid. Truncating the grid to 3 .\n",
      "\n",
      "[1]  0.5 50.0  8.0  3.0\n",
      "[1]  0.5 50.0  8.0  5.0\n",
      "[1]  0.5 50.0  8.0 10.0\n",
      "[1]  0.5 50.0  8.0 20.0\n",
      "[1]  0.5 50.0  8.0 30.0\n",
      "[1]  0.5 50.0  8.0 40.0\n",
      "[1]  0.5 50.0  8.0 50.0\n",
      "[1]  0.5 50.0  9.0  0.0\n",
      "note: only 2 unique complexity parameters in default grid. Truncating the grid to 2 .\n",
      "\n"
     ]
    },
    {
     "name": "stderr",
     "output_type": "stream",
     "text": [
      "Warning message in nominalTrainWorkflow(x = x, y = y, wts = weights, info = trainInfo, :\n",
      "\"There were missing values in resampled performance measures.\"\n"
     ]
    },
    {
     "name": "stdout",
     "output_type": "stream",
     "text": [
      "[1]  0.5 50.0  9.0  1.0\n",
      "note: only 3 unique complexity parameters in default grid. Truncating the grid to 3 .\n",
      "\n",
      "[1]  0.5 50.0  9.0  3.0\n",
      "[1]  0.5 50.0  9.0  5.0\n",
      "[1]  0.5 50.0  9.0 10.0\n",
      "[1]  0.5 50.0  9.0 20.0\n",
      "[1]  0.5 50.0  9.0 30.0\n",
      "[1]  0.5 50.0  9.0 40.0\n",
      "[1]  0.5 50.0  9.0 50.0\n",
      "[1]  0.5 50.0 10.0  0.0\n",
      "note: only 2 unique complexity parameters in default grid. Truncating the grid to 2 .\n",
      "\n"
     ]
    },
    {
     "name": "stderr",
     "output_type": "stream",
     "text": [
      "Warning message in nominalTrainWorkflow(x = x, y = y, wts = weights, info = trainInfo, :\n",
      "\"There were missing values in resampled performance measures.\"\n"
     ]
    },
    {
     "name": "stdout",
     "output_type": "stream",
     "text": [
      "[1]  0.5 50.0 10.0  1.0\n",
      "note: only 3 unique complexity parameters in default grid. Truncating the grid to 3 .\n",
      "\n"
     ]
    },
    {
     "name": "stderr",
     "output_type": "stream",
     "text": [
      "Warning message in nominalTrainWorkflow(x = x, y = y, wts = weights, info = trainInfo, :\n",
      "\"There were missing values in resampled performance measures.\"\n"
     ]
    },
    {
     "name": "stdout",
     "output_type": "stream",
     "text": [
      "[1]  0.5 50.0 10.0  3.0\n",
      "[1]  0.5 50.0 10.0  5.0\n",
      "[1]  0.5 50.0 10.0 10.0\n",
      "[1]  0.5 50.0 10.0 20.0\n",
      "[1]  0.5 50.0 10.0 30.0\n",
      "[1]  0.5 50.0 10.0 40.0\n",
      "[1]  0.5 50.0 10.0 50.0\n",
      "[1]  0.5 50.0 11.0  0.0\n",
      "note: only 2 unique complexity parameters in default grid. Truncating the grid to 2 .\n",
      "\n",
      "[1]  0.5 50.0 11.0  1.0\n",
      "note: only 3 unique complexity parameters in default grid. Truncating the grid to 3 .\n",
      "\n",
      "[1]  0.5 50.0 11.0  3.0\n",
      "[1]  0.5 50.0 11.0  5.0\n",
      "[1]  0.5 50.0 11.0 10.0\n",
      "[1]  0.5 50.0 11.0 20.0\n",
      "[1]  0.5 50.0 11.0 30.0\n",
      "[1]  0.5 50.0 11.0 40.0\n",
      "[1]  0.5 50.0 11.0 50.0\n",
      "[1]  0.5 50.0 12.0  0.0\n",
      "note: only 2 unique complexity parameters in default grid. Truncating the grid to 2 .\n",
      "\n"
     ]
    },
    {
     "name": "stderr",
     "output_type": "stream",
     "text": [
      "Warning message in nominalTrainWorkflow(x = x, y = y, wts = weights, info = trainInfo, :\n",
      "\"There were missing values in resampled performance measures.\"\n"
     ]
    },
    {
     "name": "stdout",
     "output_type": "stream",
     "text": [
      "[1]  0.5 50.0 12.0  1.0\n",
      "note: only 3 unique complexity parameters in default grid. Truncating the grid to 3 .\n",
      "\n",
      "[1]  0.5 50.0 12.0  3.0\n",
      "[1]  0.5 50.0 12.0  5.0\n",
      "[1]  0.5 50.0 12.0 10.0\n",
      "[1]  0.5 50.0 12.0 20.0\n",
      "[1]  0.5 50.0 12.0 30.0\n",
      "[1]  0.5 50.0 12.0 40.0\n",
      "[1]  0.5 50.0 12.0 50.0\n",
      "[1]  0.5 50.0 13.0  0.0\n",
      "note: only 2 unique complexity parameters in default grid. Truncating the grid to 2 .\n",
      "\n"
     ]
    },
    {
     "name": "stderr",
     "output_type": "stream",
     "text": [
      "Warning message in nominalTrainWorkflow(x = x, y = y, wts = weights, info = trainInfo, :\n",
      "\"There were missing values in resampled performance measures.\"\n"
     ]
    },
    {
     "name": "stdout",
     "output_type": "stream",
     "text": [
      "[1]  0.5 50.0 13.0  1.0\n",
      "note: only 3 unique complexity parameters in default grid. Truncating the grid to 3 .\n",
      "\n"
     ]
    },
    {
     "name": "stderr",
     "output_type": "stream",
     "text": [
      "Warning message in nominalTrainWorkflow(x = x, y = y, wts = weights, info = trainInfo, :\n",
      "\"There were missing values in resampled performance measures.\"\n"
     ]
    },
    {
     "name": "stdout",
     "output_type": "stream",
     "text": [
      "[1]  0.5 50.0 13.0  3.0\n",
      "[1]  0.5 50.0 13.0  5.0\n",
      "[1]  0.5 50.0 13.0 10.0\n",
      "[1]  0.5 50.0 13.0 20.0\n",
      "[1]  0.5 50.0 13.0 30.0\n",
      "[1]  0.5 50.0 13.0 40.0\n",
      "[1]  0.5 50.0 13.0 50.0\n",
      "[1]  0.5 50.0 14.0  0.0\n",
      "note: only 2 unique complexity parameters in default grid. Truncating the grid to 2 .\n",
      "\n",
      "[1]  0.5 50.0 14.0  1.0\n",
      "note: only 3 unique complexity parameters in default grid. Truncating the grid to 3 .\n",
      "\n",
      "[1]  0.5 50.0 14.0  3.0\n",
      "[1]  0.5 50.0 14.0  5.0\n",
      "[1]  0.5 50.0 14.0 10.0\n",
      "[1]  0.5 50.0 14.0 20.0\n",
      "[1]  0.5 50.0 14.0 30.0\n",
      "[1]  0.5 50.0 14.0 40.0\n",
      "[1]  0.5 50.0 14.0 50.0\n",
      "[1]  0.5 50.0 15.0  0.0\n",
      "note: only 2 unique complexity parameters in default grid. Truncating the grid to 2 .\n",
      "\n"
     ]
    },
    {
     "name": "stderr",
     "output_type": "stream",
     "text": [
      "Warning message in nominalTrainWorkflow(x = x, y = y, wts = weights, info = trainInfo, :\n",
      "\"There were missing values in resampled performance measures.\"\n"
     ]
    },
    {
     "name": "stdout",
     "output_type": "stream",
     "text": [
      "[1]  0.5 50.0 15.0  1.0\n",
      "note: only 3 unique complexity parameters in default grid. Truncating the grid to 3 .\n",
      "\n"
     ]
    },
    {
     "name": "stderr",
     "output_type": "stream",
     "text": [
      "Warning message in nominalTrainWorkflow(x = x, y = y, wts = weights, info = trainInfo, :\n",
      "\"There were missing values in resampled performance measures.\"\n"
     ]
    },
    {
     "name": "stdout",
     "output_type": "stream",
     "text": [
      "[1]  0.5 50.0 15.0  3.0\n",
      "[1]  0.5 50.0 15.0  5.0\n",
      "[1]  0.5 50.0 15.0 10.0\n",
      "[1]  0.5 50.0 15.0 20.0\n",
      "[1]  0.5 50.0 15.0 30.0\n",
      "[1]  0.5 50.0 15.0 40.0\n",
      "[1]  0.5 50.0 15.0 50.0\n",
      "[1]  0.5 50.0 16.0  0.0\n",
      "note: only 2 unique complexity parameters in default grid. Truncating the grid to 2 .\n",
      "\n",
      "[1]  0.5 50.0 16.0  1.0\n",
      "note: only 3 unique complexity parameters in default grid. Truncating the grid to 3 .\n",
      "\n",
      "[1]  0.5 50.0 16.0  3.0\n",
      "[1]  0.5 50.0 16.0  5.0\n",
      "[1]  0.5 50.0 16.0 10.0\n",
      "[1]  0.5 50.0 16.0 20.0\n",
      "[1]  0.5 50.0 16.0 30.0\n",
      "[1]  0.5 50.0 16.0 40.0\n",
      "[1]  0.5 50.0 16.0 50.0\n",
      "[1]  0.5 50.0 17.0  0.0\n",
      "note: only 2 unique complexity parameters in default grid. Truncating the grid to 2 .\n",
      "\n",
      "[1]  0.5 50.0 17.0  1.0\n",
      "note: only 3 unique complexity parameters in default grid. Truncating the grid to 3 .\n",
      "\n"
     ]
    },
    {
     "name": "stderr",
     "output_type": "stream",
     "text": [
      "Warning message in nominalTrainWorkflow(x = x, y = y, wts = weights, info = trainInfo, :\n",
      "\"There were missing values in resampled performance measures.\"\n"
     ]
    },
    {
     "name": "stdout",
     "output_type": "stream",
     "text": [
      "[1]  0.5 50.0 17.0  3.0\n",
      "[1]  0.5 50.0 17.0  5.0\n",
      "[1]  0.5 50.0 17.0 10.0\n",
      "[1]  0.5 50.0 17.0 20.0\n",
      "[1]  0.5 50.0 17.0 30.0\n",
      "[1]  0.5 50.0 17.0 40.0\n",
      "[1]  0.5 50.0 17.0 50.0\n",
      "[1]  0.5 50.0 18.0  0.0\n",
      "note: only 2 unique complexity parameters in default grid. Truncating the grid to 2 .\n",
      "\n",
      "[1]  0.5 50.0 18.0  1.0\n",
      "note: only 3 unique complexity parameters in default grid. Truncating the grid to 3 .\n",
      "\n",
      "[1]  0.5 50.0 18.0  3.0\n",
      "[1]  0.5 50.0 18.0  5.0\n",
      "[1]  0.5 50.0 18.0 10.0\n",
      "[1]  0.5 50.0 18.0 20.0\n",
      "[1]  0.5 50.0 18.0 30.0\n",
      "[1]  0.5 50.0 18.0 40.0\n",
      "[1]  0.5 50.0 18.0 50.0\n",
      "[1]  0.5 50.0 19.0  0.0\n",
      "note: only 2 unique complexity parameters in default grid. Truncating the grid to 2 .\n",
      "\n"
     ]
    },
    {
     "name": "stderr",
     "output_type": "stream",
     "text": [
      "Warning message in nominalTrainWorkflow(x = x, y = y, wts = weights, info = trainInfo, :\n",
      "\"There were missing values in resampled performance measures.\"\n"
     ]
    },
    {
     "name": "stdout",
     "output_type": "stream",
     "text": [
      "[1]  0.5 50.0 19.0  1.0\n",
      "note: only 3 unique complexity parameters in default grid. Truncating the grid to 3 .\n",
      "\n"
     ]
    },
    {
     "name": "stderr",
     "output_type": "stream",
     "text": [
      "Warning message in nominalTrainWorkflow(x = x, y = y, wts = weights, info = trainInfo, :\n",
      "\"There were missing values in resampled performance measures.\"\n"
     ]
    },
    {
     "name": "stdout",
     "output_type": "stream",
     "text": [
      "[1]  0.5 50.0 19.0  3.0\n",
      "[1]  0.5 50.0 19.0  5.0\n",
      "[1]  0.5 50.0 19.0 10.0\n",
      "[1]  0.5 50.0 19.0 20.0\n",
      "[1]  0.5 50.0 19.0 30.0\n",
      "[1]  0.5 50.0 19.0 40.0\n",
      "[1]  0.5 50.0 19.0 50.0\n",
      "[1]  0.5 50.0 20.0  0.0\n",
      "note: only 2 unique complexity parameters in default grid. Truncating the grid to 2 .\n",
      "\n"
     ]
    },
    {
     "name": "stderr",
     "output_type": "stream",
     "text": [
      "Warning message in nominalTrainWorkflow(x = x, y = y, wts = weights, info = trainInfo, :\n",
      "\"There were missing values in resampled performance measures.\"\n"
     ]
    },
    {
     "name": "stdout",
     "output_type": "stream",
     "text": [
      "[1]  0.5 50.0 20.0  1.0\n",
      "note: only 3 unique complexity parameters in default grid. Truncating the grid to 3 .\n",
      "\n",
      "[1]  0.5 50.0 20.0  3.0\n",
      "[1]  0.5 50.0 20.0  5.0\n",
      "[1]  0.5 50.0 20.0 10.0\n",
      "[1]  0.5 50.0 20.0 20.0\n",
      "[1]  0.5 50.0 20.0 30.0\n",
      "[1]  0.5 50.0 20.0 40.0\n",
      "[1]  0.5 50.0 20.0 50.0\n",
      "[1]  0.5 50.0 21.0  0.0\n",
      "note: only 2 unique complexity parameters in default grid. Truncating the grid to 2 .\n",
      "\n",
      "[1]  0.5 50.0 21.0  1.0\n",
      "note: only 3 unique complexity parameters in default grid. Truncating the grid to 3 .\n",
      "\n",
      "[1]  0.5 50.0 21.0  3.0\n"
     ]
    },
    {
     "name": "stderr",
     "output_type": "stream",
     "text": [
      "Warning message in nominalTrainWorkflow(x = x, y = y, wts = weights, info = trainInfo, :\n",
      "\"There were missing values in resampled performance measures.\"\n"
     ]
    },
    {
     "name": "stdout",
     "output_type": "stream",
     "text": [
      "[1]  0.5 50.0 21.0  5.0\n",
      "[1]  0.5 50.0 21.0 10.0\n",
      "[1]  0.5 50.0 21.0 20.0\n",
      "[1]  0.5 50.0 21.0 30.0\n",
      "[1]  0.5 50.0 21.0 40.0\n",
      "[1]  0.5 50.0 21.0 50.0\n",
      "[1]  0.5 50.0 22.0  0.0\n",
      "note: only 2 unique complexity parameters in default grid. Truncating the grid to 2 .\n",
      "\n",
      "[1]  0.5 50.0 22.0  1.0\n",
      "note: only 3 unique complexity parameters in default grid. Truncating the grid to 3 .\n",
      "\n",
      "[1]  0.5 50.0 22.0  3.0\n",
      "[1]  0.5 50.0 22.0  5.0\n",
      "[1]  0.5 50.0 22.0 10.0\n",
      "[1]  0.5 50.0 22.0 20.0\n",
      "[1]  0.5 50.0 22.0 30.0\n",
      "[1]  0.5 50.0 22.0 40.0\n",
      "[1]  0.5 50.0 22.0 50.0\n",
      "[1]  0.5 50.0 23.0  0.0\n",
      "note: only 2 unique complexity parameters in default grid. Truncating the grid to 2 .\n",
      "\n",
      "[1]  0.5 50.0 23.0  1.0\n",
      "note: only 3 unique complexity parameters in default grid. Truncating the grid to 3 .\n",
      "\n"
     ]
    },
    {
     "name": "stderr",
     "output_type": "stream",
     "text": [
      "Warning message in nominalTrainWorkflow(x = x, y = y, wts = weights, info = trainInfo, :\n",
      "\"There were missing values in resampled performance measures.\"\n"
     ]
    },
    {
     "name": "stdout",
     "output_type": "stream",
     "text": [
      "[1]  0.5 50.0 23.0  3.0\n",
      "[1]  0.5 50.0 23.0  5.0\n",
      "[1]  0.5 50.0 23.0 10.0\n",
      "[1]  0.5 50.0 23.0 20.0\n",
      "[1]  0.5 50.0 23.0 30.0\n",
      "[1]  0.5 50.0 23.0 40.0\n",
      "[1]  0.5 50.0 23.0 50.0\n",
      "[1]  0.5 50.0 24.0  0.0\n",
      "note: only 2 unique complexity parameters in default grid. Truncating the grid to 2 .\n",
      "\n",
      "[1]  0.5 50.0 24.0  1.0\n",
      "note: only 3 unique complexity parameters in default grid. Truncating the grid to 3 .\n",
      "\n",
      "[1]  0.5 50.0 24.0  3.0\n",
      "[1]  0.5 50.0 24.0  5.0\n",
      "[1]  0.5 50.0 24.0 10.0\n",
      "[1]  0.5 50.0 24.0 20.0\n",
      "[1]  0.5 50.0 24.0 30.0\n",
      "[1]  0.5 50.0 24.0 40.0\n",
      "[1]  0.5 50.0 24.0 50.0\n",
      "[1]  0.5 50.0 25.0  0.0\n",
      "note: only 2 unique complexity parameters in default grid. Truncating the grid to 2 .\n",
      "\n"
     ]
    },
    {
     "name": "stderr",
     "output_type": "stream",
     "text": [
      "Warning message in nominalTrainWorkflow(x = x, y = y, wts = weights, info = trainInfo, :\n",
      "\"There were missing values in resampled performance measures.\"\n"
     ]
    },
    {
     "name": "stdout",
     "output_type": "stream",
     "text": [
      "[1]  0.5 50.0 25.0  1.0\n",
      "note: only 3 unique complexity parameters in default grid. Truncating the grid to 3 .\n",
      "\n"
     ]
    },
    {
     "name": "stderr",
     "output_type": "stream",
     "text": [
      "Warning message in nominalTrainWorkflow(x = x, y = y, wts = weights, info = trainInfo, :\n",
      "\"There were missing values in resampled performance measures.\"\n"
     ]
    },
    {
     "name": "stdout",
     "output_type": "stream",
     "text": [
      "[1]  0.5 50.0 25.0  3.0\n"
     ]
    },
    {
     "name": "stderr",
     "output_type": "stream",
     "text": [
      "Warning message in nominalTrainWorkflow(x = x, y = y, wts = weights, info = trainInfo, :\n",
      "\"There were missing values in resampled performance measures.\"\n"
     ]
    },
    {
     "name": "stdout",
     "output_type": "stream",
     "text": [
      "[1]  0.5 50.0 25.0  5.0\n",
      "[1]  0.5 50.0 25.0 10.0\n",
      "[1]  0.5 50.0 25.0 20.0\n",
      "[1]  0.5 50.0 25.0 30.0\n",
      "[1]  0.5 50.0 25.0 40.0\n",
      "[1]  0.5 50.0 25.0 50.0\n",
      "[1]  0.5 50.0 26.0  0.0\n",
      "note: only 2 unique complexity parameters in default grid. Truncating the grid to 2 .\n",
      "\n"
     ]
    },
    {
     "name": "stderr",
     "output_type": "stream",
     "text": [
      "Warning message in nominalTrainWorkflow(x = x, y = y, wts = weights, info = trainInfo, :\n",
      "\"There were missing values in resampled performance measures.\"\n"
     ]
    },
    {
     "name": "stdout",
     "output_type": "stream",
     "text": [
      "[1]  0.5 50.0 26.0  1.0\n",
      "note: only 3 unique complexity parameters in default grid. Truncating the grid to 3 .\n",
      "\n"
     ]
    },
    {
     "name": "stderr",
     "output_type": "stream",
     "text": [
      "Warning message in nominalTrainWorkflow(x = x, y = y, wts = weights, info = trainInfo, :\n",
      "\"There were missing values in resampled performance measures.\"\n"
     ]
    },
    {
     "name": "stdout",
     "output_type": "stream",
     "text": [
      "[1]  0.5 50.0 26.0  3.0\n"
     ]
    },
    {
     "name": "stderr",
     "output_type": "stream",
     "text": [
      "Warning message in nominalTrainWorkflow(x = x, y = y, wts = weights, info = trainInfo, :\n",
      "\"There were missing values in resampled performance measures.\"\n"
     ]
    },
    {
     "name": "stdout",
     "output_type": "stream",
     "text": [
      "[1]  0.5 50.0 26.0  5.0\n",
      "[1]  0.5 50.0 26.0 10.0\n",
      "[1]  0.5 50.0 26.0 20.0\n",
      "[1]  0.5 50.0 26.0 30.0\n",
      "[1]  0.5 50.0 26.0 40.0\n",
      "[1]  0.5 50.0 26.0 50.0\n",
      "[1]  0.5 50.0 27.0  0.0\n",
      "note: only 2 unique complexity parameters in default grid. Truncating the grid to 2 .\n",
      "\n",
      "[1]  0.5 50.0 27.0  1.0\n",
      "note: only 3 unique complexity parameters in default grid. Truncating the grid to 3 .\n",
      "\n",
      "[1]  0.5 50.0 27.0  3.0\n",
      "[1]  0.5 50.0 27.0  5.0\n",
      "[1]  0.5 50.0 27.0 10.0\n",
      "[1]  0.5 50.0 27.0 20.0\n",
      "[1]  0.5 50.0 27.0 30.0\n",
      "[1]  0.5 50.0 27.0 40.0\n",
      "[1]  0.5 50.0 27.0 50.0\n",
      "[1]  0.5 50.0 28.0  0.0\n",
      "note: only 2 unique complexity parameters in default grid. Truncating the grid to 2 .\n",
      "\n",
      "[1]  0.5 50.0 28.0  1.0\n",
      "note: only 3 unique complexity parameters in default grid. Truncating the grid to 3 .\n",
      "\n",
      "[1]  0.5 50.0 28.0  3.0\n",
      "[1]  0.5 50.0 28.0  5.0\n",
      "[1]  0.5 50.0 28.0 10.0\n",
      "[1]  0.5 50.0 28.0 20.0\n",
      "[1]  0.5 50.0 28.0 30.0\n",
      "[1]  0.5 50.0 28.0 40.0\n",
      "[1]  0.5 50.0 28.0 50.0\n",
      "[1]  0.5 50.0 29.0  0.0\n",
      "note: only 2 unique complexity parameters in default grid. Truncating the grid to 2 .\n",
      "\n",
      "[1]  0.5 50.0 29.0  1.0\n",
      "note: only 3 unique complexity parameters in default grid. Truncating the grid to 3 .\n",
      "\n",
      "[1]  0.5 50.0 29.0  3.0\n",
      "[1]  0.5 50.0 29.0  5.0\n",
      "[1]  0.5 50.0 29.0 10.0\n",
      "[1]  0.5 50.0 29.0 20.0\n",
      "[1]  0.5 50.0 29.0 30.0\n",
      "[1]  0.5 50.0 29.0 40.0\n",
      "[1]  0.5 50.0 29.0 50.0\n",
      "[1]  0.5 50.0 30.0  0.0\n",
      "note: only 2 unique complexity parameters in default grid. Truncating the grid to 2 .\n",
      "\n"
     ]
    },
    {
     "name": "stderr",
     "output_type": "stream",
     "text": [
      "Warning message in nominalTrainWorkflow(x = x, y = y, wts = weights, info = trainInfo, :\n",
      "\"There were missing values in resampled performance measures.\"\n"
     ]
    },
    {
     "name": "stdout",
     "output_type": "stream",
     "text": [
      "[1]  0.5 50.0 30.0  1.0\n",
      "note: only 3 unique complexity parameters in default grid. Truncating the grid to 3 .\n",
      "\n",
      "[1]  0.5 50.0 30.0  3.0\n",
      "[1]  0.5 50.0 30.0  5.0\n",
      "[1]  0.5 50.0 30.0 10.0\n",
      "[1]  0.5 50.0 30.0 20.0\n",
      "[1]  0.5 50.0 30.0 30.0\n",
      "[1]  0.5 50.0 30.0 40.0\n",
      "[1]  0.5 50.0 30.0 50.0\n",
      "[1]  1 10  1  0\n",
      "note: only 2 unique complexity parameters in default grid. Truncating the grid to 2 .\n",
      "\n",
      "[1]  1 10  1  1\n",
      "note: only 3 unique complexity parameters in default grid. Truncating the grid to 3 .\n",
      "\n",
      "[1]  1 10  1  3\n",
      "[1]  1 10  1  5\n",
      "[1]  1 10  1 10\n",
      "[1]  1 10  1 20\n",
      "[1]  1 10  1 30\n",
      "[1]  1 10  1 40\n",
      "[1]  1 10  1 50\n",
      "[1]  1 10  2  0\n",
      "note: only 2 unique complexity parameters in default grid. Truncating the grid to 2 .\n",
      "\n",
      "[1]  1 10  2  1\n",
      "note: only 3 unique complexity parameters in default grid. Truncating the grid to 3 .\n",
      "\n",
      "[1]  1 10  2  3\n",
      "[1]  1 10  2  5\n",
      "[1]  1 10  2 10\n",
      "[1]  1 10  2 20\n",
      "[1]  1 10  2 30\n",
      "[1]  1 10  2 40\n",
      "[1]  1 10  2 50\n",
      "[1]  1 10  3  0\n",
      "note: only 2 unique complexity parameters in default grid. Truncating the grid to 2 .\n",
      "\n",
      "[1]  1 10  3  1\n",
      "note: only 3 unique complexity parameters in default grid. Truncating the grid to 3 .\n",
      "\n",
      "[1]  1 10  3  3\n",
      "[1]  1 10  3  5\n",
      "[1]  1 10  3 10\n",
      "[1]  1 10  3 20\n",
      "[1]  1 10  3 30\n"
     ]
    },
    {
     "name": "stderr",
     "output_type": "stream",
     "text": [
      "Warning message in nominalTrainWorkflow(x = x, y = y, wts = weights, info = trainInfo, :\n",
      "\"There were missing values in resampled performance measures.\"\n"
     ]
    },
    {
     "name": "stdout",
     "output_type": "stream",
     "text": [
      "[1]  1 10  3 40\n",
      "[1]  1 10  3 50\n",
      "[1]  1 10  4  0\n",
      "note: only 2 unique complexity parameters in default grid. Truncating the grid to 2 .\n",
      "\n",
      "[1]  1 10  4  1\n",
      "note: only 3 unique complexity parameters in default grid. Truncating the grid to 3 .\n",
      "\n",
      "[1]  1 10  4  3\n",
      "[1]  1 10  4  5\n",
      "[1]  1 10  4 10\n",
      "[1]  1 10  4 20\n",
      "[1]  1 10  4 30\n",
      "[1]  1 10  4 40\n",
      "[1]  1 10  4 50\n",
      "[1]  1 10  5  0\n",
      "note: only 2 unique complexity parameters in default grid. Truncating the grid to 2 .\n",
      "\n",
      "[1]  1 10  5  1\n",
      "note: only 3 unique complexity parameters in default grid. Truncating the grid to 3 .\n",
      "\n",
      "[1]  1 10  5  3\n",
      "[1]  1 10  5  5\n",
      "[1]  1 10  5 10\n",
      "[1]  1 10  5 20\n",
      "[1]  1 10  5 30\n"
     ]
    },
    {
     "name": "stderr",
     "output_type": "stream",
     "text": [
      "Warning message in nominalTrainWorkflow(x = x, y = y, wts = weights, info = trainInfo, :\n",
      "\"There were missing values in resampled performance measures.\"\n"
     ]
    },
    {
     "name": "stdout",
     "output_type": "stream",
     "text": [
      "[1]  1 10  5 40\n",
      "[1]  1 10  5 50\n"
     ]
    },
    {
     "name": "stderr",
     "output_type": "stream",
     "text": [
      "Warning message in nominalTrainWorkflow(x = x, y = y, wts = weights, info = trainInfo, :\n",
      "\"There were missing values in resampled performance measures.\"\n"
     ]
    },
    {
     "name": "stdout",
     "output_type": "stream",
     "text": [
      "[1]  1 10  6  0\n",
      "note: only 2 unique complexity parameters in default grid. Truncating the grid to 2 .\n",
      "\n",
      "[1]  1 10  6  1\n",
      "note: only 3 unique complexity parameters in default grid. Truncating the grid to 3 .\n",
      "\n",
      "[1]  1 10  6  3\n",
      "[1]  1 10  6  5\n",
      "[1]  1 10  6 10\n",
      "[1]  1 10  6 20\n",
      "[1]  1 10  6 30\n",
      "[1]  1 10  6 40\n",
      "[1]  1 10  6 50\n",
      "[1]  1 10  7  0\n",
      "note: only 2 unique complexity parameters in default grid. Truncating the grid to 2 .\n",
      "\n"
     ]
    },
    {
     "name": "stderr",
     "output_type": "stream",
     "text": [
      "Warning message in nominalTrainWorkflow(x = x, y = y, wts = weights, info = trainInfo, :\n",
      "\"There were missing values in resampled performance measures.\"\n"
     ]
    },
    {
     "name": "stdout",
     "output_type": "stream",
     "text": [
      "[1]  1 10  7  1\n",
      "note: only 3 unique complexity parameters in default grid. Truncating the grid to 3 .\n",
      "\n"
     ]
    },
    {
     "name": "stderr",
     "output_type": "stream",
     "text": [
      "Warning message in nominalTrainWorkflow(x = x, y = y, wts = weights, info = trainInfo, :\n",
      "\"There were missing values in resampled performance measures.\"\n"
     ]
    },
    {
     "name": "stdout",
     "output_type": "stream",
     "text": [
      "[1]  1 10  7  3\n",
      "[1]  1 10  7  5\n",
      "[1]  1 10  7 10\n",
      "[1]  1 10  7 20\n",
      "[1]  1 10  7 30\n",
      "[1]  1 10  7 40\n",
      "[1]  1 10  7 50\n",
      "[1]  1 10  8  0\n",
      "note: only 2 unique complexity parameters in default grid. Truncating the grid to 2 .\n",
      "\n",
      "[1]  1 10  8  1\n",
      "note: only 3 unique complexity parameters in default grid. Truncating the grid to 3 .\n",
      "\n"
     ]
    },
    {
     "name": "stderr",
     "output_type": "stream",
     "text": [
      "Warning message in nominalTrainWorkflow(x = x, y = y, wts = weights, info = trainInfo, :\n",
      "\"There were missing values in resampled performance measures.\"\n"
     ]
    },
    {
     "name": "stdout",
     "output_type": "stream",
     "text": [
      "[1]  1 10  8  3\n",
      "[1]  1 10  8  5\n"
     ]
    },
    {
     "name": "stderr",
     "output_type": "stream",
     "text": [
      "Warning message in nominalTrainWorkflow(x = x, y = y, wts = weights, info = trainInfo, :\n",
      "\"There were missing values in resampled performance measures.\"\n"
     ]
    },
    {
     "name": "stdout",
     "output_type": "stream",
     "text": [
      "[1]  1 10  8 10\n",
      "[1]  1 10  8 20\n",
      "[1]  1 10  8 30\n",
      "[1]  1 10  8 40\n",
      "[1]  1 10  8 50\n",
      "[1]  1 10  9  0\n",
      "note: only 2 unique complexity parameters in default grid. Truncating the grid to 2 .\n",
      "\n",
      "[1]  1 10  9  1\n",
      "note: only 3 unique complexity parameters in default grid. Truncating the grid to 3 .\n",
      "\n",
      "[1]  1 10  9  3\n",
      "[1]  1 10  9  5\n",
      "[1]  1 10  9 10\n",
      "[1]  1 10  9 20\n",
      "[1]  1 10  9 30\n",
      "[1]  1 10  9 40\n"
     ]
    },
    {
     "name": "stderr",
     "output_type": "stream",
     "text": [
      "Warning message in nominalTrainWorkflow(x = x, y = y, wts = weights, info = trainInfo, :\n",
      "\"There were missing values in resampled performance measures.\"\n"
     ]
    },
    {
     "name": "stdout",
     "output_type": "stream",
     "text": [
      "[1]  1 10  9 50\n",
      "[1]  1 10 10  0\n",
      "note: only 2 unique complexity parameters in default grid. Truncating the grid to 2 .\n",
      "\n"
     ]
    },
    {
     "name": "stderr",
     "output_type": "stream",
     "text": [
      "Warning message in nominalTrainWorkflow(x = x, y = y, wts = weights, info = trainInfo, :\n",
      "\"There were missing values in resampled performance measures.\"\n"
     ]
    },
    {
     "name": "stdout",
     "output_type": "stream",
     "text": [
      "[1]  1 10 10  1\n",
      "note: only 3 unique complexity parameters in default grid. Truncating the grid to 3 .\n",
      "\n",
      "[1]  1 10 10  3\n",
      "[1]  1 10 10  5\n",
      "[1]  1 10 10 10\n",
      "[1]  1 10 10 20\n",
      "[1]  1 10 10 30\n",
      "[1]  1 10 10 40\n",
      "[1]  1 10 10 50\n",
      "[1]  1 10 11  0\n",
      "note: only 2 unique complexity parameters in default grid. Truncating the grid to 2 .\n",
      "\n",
      "[1]  1 10 11  1\n",
      "note: only 3 unique complexity parameters in default grid. Truncating the grid to 3 .\n",
      "\n",
      "[1]  1 10 11  3\n",
      "[1]  1 10 11  5\n",
      "[1]  1 10 11 10\n",
      "[1]  1 10 11 20\n",
      "[1]  1 10 11 30\n",
      "[1]  1 10 11 40\n",
      "[1]  1 10 11 50\n",
      "[1]  1 10 12  0\n",
      "note: only 2 unique complexity parameters in default grid. Truncating the grid to 2 .\n",
      "\n",
      "[1]  1 10 12  1\n",
      "note: only 3 unique complexity parameters in default grid. Truncating the grid to 3 .\n",
      "\n",
      "[1]  1 10 12  3\n",
      "[1]  1 10 12  5\n",
      "[1]  1 10 12 10\n",
      "[1]  1 10 12 20\n",
      "[1]  1 10 12 30\n",
      "[1]  1 10 12 40\n",
      "[1]  1 10 12 50\n",
      "[1]  1 10 13  0\n",
      "note: only 2 unique complexity parameters in default grid. Truncating the grid to 2 .\n",
      "\n"
     ]
    },
    {
     "name": "stderr",
     "output_type": "stream",
     "text": [
      "Warning message in nominalTrainWorkflow(x = x, y = y, wts = weights, info = trainInfo, :\n",
      "\"There were missing values in resampled performance measures.\"\n"
     ]
    },
    {
     "name": "stdout",
     "output_type": "stream",
     "text": [
      "[1]  1 10 13  1\n",
      "note: only 3 unique complexity parameters in default grid. Truncating the grid to 3 .\n",
      "\n",
      "[1]  1 10 13  3\n",
      "[1]  1 10 13  5\n",
      "[1]  1 10 13 10\n",
      "[1]  1 10 13 20\n",
      "[1]  1 10 13 30\n",
      "[1]  1 10 13 40\n",
      "[1]  1 10 13 50\n",
      "[1]  1 10 14  0\n",
      "note: only 2 unique complexity parameters in default grid. Truncating the grid to 2 .\n",
      "\n"
     ]
    },
    {
     "name": "stderr",
     "output_type": "stream",
     "text": [
      "Warning message in nominalTrainWorkflow(x = x, y = y, wts = weights, info = trainInfo, :\n",
      "\"There were missing values in resampled performance measures.\"\n"
     ]
    },
    {
     "name": "stdout",
     "output_type": "stream",
     "text": [
      "[1]  1 10 14  1\n",
      "note: only 3 unique complexity parameters in default grid. Truncating the grid to 3 .\n",
      "\n",
      "[1]  1 10 14  3\n"
     ]
    },
    {
     "name": "stderr",
     "output_type": "stream",
     "text": [
      "Warning message in nominalTrainWorkflow(x = x, y = y, wts = weights, info = trainInfo, :\n",
      "\"There were missing values in resampled performance measures.\"\n"
     ]
    },
    {
     "name": "stdout",
     "output_type": "stream",
     "text": [
      "[1]  1 10 14  5\n",
      "[1]  1 10 14 10\n"
     ]
    },
    {
     "name": "stderr",
     "output_type": "stream",
     "text": [
      "Warning message in nominalTrainWorkflow(x = x, y = y, wts = weights, info = trainInfo, :\n",
      "\"There were missing values in resampled performance measures.\"\n"
     ]
    },
    {
     "name": "stdout",
     "output_type": "stream",
     "text": [
      "[1]  1 10 14 20\n"
     ]
    },
    {
     "name": "stderr",
     "output_type": "stream",
     "text": [
      "Warning message in nominalTrainWorkflow(x = x, y = y, wts = weights, info = trainInfo, :\n",
      "\"There were missing values in resampled performance measures.\"\n"
     ]
    },
    {
     "name": "stdout",
     "output_type": "stream",
     "text": [
      "[1]  1 10 14 30\n"
     ]
    },
    {
     "name": "stderr",
     "output_type": "stream",
     "text": [
      "Warning message in nominalTrainWorkflow(x = x, y = y, wts = weights, info = trainInfo, :\n",
      "\"There were missing values in resampled performance measures.\"\n"
     ]
    },
    {
     "name": "stdout",
     "output_type": "stream",
     "text": [
      "[1]  1 10 14 40\n",
      "[1]  1 10 14 50\n",
      "[1]  1 10 15  0\n",
      "note: only 2 unique complexity parameters in default grid. Truncating the grid to 2 .\n",
      "\n"
     ]
    },
    {
     "name": "stderr",
     "output_type": "stream",
     "text": [
      "Warning message in nominalTrainWorkflow(x = x, y = y, wts = weights, info = trainInfo, :\n",
      "\"There were missing values in resampled performance measures.\"\n"
     ]
    },
    {
     "name": "stdout",
     "output_type": "stream",
     "text": [
      "[1]  1 10 15  1\n",
      "note: only 3 unique complexity parameters in default grid. Truncating the grid to 3 .\n",
      "\n",
      "[1]  1 10 15  3\n",
      "[1]  1 10 15  5\n"
     ]
    },
    {
     "name": "stderr",
     "output_type": "stream",
     "text": [
      "Warning message in nominalTrainWorkflow(x = x, y = y, wts = weights, info = trainInfo, :\n",
      "\"There were missing values in resampled performance measures.\"\n"
     ]
    },
    {
     "name": "stdout",
     "output_type": "stream",
     "text": [
      "[1]  1 10 15 10\n",
      "[1]  1 10 15 20\n",
      "[1]  1 10 15 30\n"
     ]
    },
    {
     "name": "stderr",
     "output_type": "stream",
     "text": [
      "Warning message in nominalTrainWorkflow(x = x, y = y, wts = weights, info = trainInfo, :\n",
      "\"There were missing values in resampled performance measures.\"\n"
     ]
    },
    {
     "name": "stdout",
     "output_type": "stream",
     "text": [
      "[1]  1 10 15 40\n",
      "[1]  1 10 15 50\n",
      "[1]  1 10 16  0\n",
      "note: only 2 unique complexity parameters in default grid. Truncating the grid to 2 .\n",
      "\n",
      "[1]  1 10 16  1\n",
      "note: only 3 unique complexity parameters in default grid. Truncating the grid to 3 .\n",
      "\n",
      "[1]  1 10 16  3\n",
      "[1]  1 10 16  5\n",
      "[1]  1 10 16 10\n",
      "[1]  1 10 16 20\n",
      "[1]  1 10 16 30\n",
      "[1]  1 10 16 40\n",
      "[1]  1 10 16 50\n",
      "[1]  1 10 17  0\n",
      "note: only 2 unique complexity parameters in default grid. Truncating the grid to 2 .\n",
      "\n"
     ]
    },
    {
     "name": "stderr",
     "output_type": "stream",
     "text": [
      "Warning message in nominalTrainWorkflow(x = x, y = y, wts = weights, info = trainInfo, :\n",
      "\"There were missing values in resampled performance measures.\"\n"
     ]
    },
    {
     "name": "stdout",
     "output_type": "stream",
     "text": [
      "[1]  1 10 17  1\n",
      "note: only 3 unique complexity parameters in default grid. Truncating the grid to 3 .\n",
      "\n",
      "[1]  1 10 17  3\n",
      "[1]  1 10 17  5\n",
      "[1]  1 10 17 10\n",
      "[1]  1 10 17 20\n"
     ]
    },
    {
     "name": "stderr",
     "output_type": "stream",
     "text": [
      "Warning message in nominalTrainWorkflow(x = x, y = y, wts = weights, info = trainInfo, :\n",
      "\"There were missing values in resampled performance measures.\"\n"
     ]
    },
    {
     "name": "stdout",
     "output_type": "stream",
     "text": [
      "[1]  1 10 17 30\n",
      "[1]  1 10 17 40\n",
      "[1]  1 10 17 50\n",
      "[1]  1 10 18  0\n",
      "note: only 2 unique complexity parameters in default grid. Truncating the grid to 2 .\n",
      "\n"
     ]
    },
    {
     "name": "stderr",
     "output_type": "stream",
     "text": [
      "Warning message in nominalTrainWorkflow(x = x, y = y, wts = weights, info = trainInfo, :\n",
      "\"There were missing values in resampled performance measures.\"\n"
     ]
    },
    {
     "name": "stdout",
     "output_type": "stream",
     "text": [
      "[1]  1 10 18  1\n",
      "note: only 3 unique complexity parameters in default grid. Truncating the grid to 3 .\n",
      "\n"
     ]
    },
    {
     "name": "stderr",
     "output_type": "stream",
     "text": [
      "Warning message in nominalTrainWorkflow(x = x, y = y, wts = weights, info = trainInfo, :\n",
      "\"There were missing values in resampled performance measures.\"\n"
     ]
    },
    {
     "name": "stdout",
     "output_type": "stream",
     "text": [
      "[1]  1 10 18  3\n",
      "[1]  1 10 18  5\n",
      "[1]  1 10 18 10\n",
      "[1]  1 10 18 20\n",
      "[1]  1 10 18 30\n",
      "[1]  1 10 18 40\n",
      "[1]  1 10 18 50\n",
      "[1]  1 10 19  0\n",
      "note: only 2 unique complexity parameters in default grid. Truncating the grid to 2 .\n",
      "\n",
      "[1]  1 10 19  1\n",
      "note: only 3 unique complexity parameters in default grid. Truncating the grid to 3 .\n",
      "\n",
      "[1]  1 10 19  3\n",
      "[1]  1 10 19  5\n",
      "[1]  1 10 19 10\n",
      "[1]  1 10 19 20\n",
      "[1]  1 10 19 30\n",
      "[1]  1 10 19 40\n",
      "[1]  1 10 19 50\n",
      "[1]  1 10 20  0\n",
      "note: only 2 unique complexity parameters in default grid. Truncating the grid to 2 .\n",
      "\n",
      "[1]  1 10 20  1\n",
      "note: only 3 unique complexity parameters in default grid. Truncating the grid to 3 .\n",
      "\n",
      "[1]  1 10 20  3\n",
      "[1]  1 10 20  5\n",
      "[1]  1 10 20 10\n",
      "[1]  1 10 20 20\n",
      "[1]  1 10 20 30\n",
      "[1]  1 10 20 40\n",
      "[1]  1 10 20 50\n",
      "[1]  1 10 21  0\n",
      "note: only 2 unique complexity parameters in default grid. Truncating the grid to 2 .\n",
      "\n",
      "[1]  1 10 21  1\n",
      "note: only 3 unique complexity parameters in default grid. Truncating the grid to 3 .\n",
      "\n",
      "[1]  1 10 21  3\n",
      "[1]  1 10 21  5\n",
      "[1]  1 10 21 10\n",
      "[1]  1 10 21 20\n",
      "[1]  1 10 21 30\n",
      "[1]  1 10 21 40\n",
      "[1]  1 10 21 50\n",
      "[1]  1 10 22  0\n",
      "note: only 2 unique complexity parameters in default grid. Truncating the grid to 2 .\n",
      "\n",
      "[1]  1 10 22  1\n",
      "note: only 3 unique complexity parameters in default grid. Truncating the grid to 3 .\n",
      "\n",
      "[1]  1 10 22  3\n"
     ]
    },
    {
     "name": "stderr",
     "output_type": "stream",
     "text": [
      "Warning message in nominalTrainWorkflow(x = x, y = y, wts = weights, info = trainInfo, :\n",
      "\"There were missing values in resampled performance measures.\"\n"
     ]
    },
    {
     "name": "stdout",
     "output_type": "stream",
     "text": [
      "[1]  1 10 22  5\n",
      "[1]  1 10 22 10\n",
      "[1]  1 10 22 20\n"
     ]
    },
    {
     "name": "stderr",
     "output_type": "stream",
     "text": [
      "Warning message in nominalTrainWorkflow(x = x, y = y, wts = weights, info = trainInfo, :\n",
      "\"There were missing values in resampled performance measures.\"\n"
     ]
    },
    {
     "name": "stdout",
     "output_type": "stream",
     "text": [
      "[1]  1 10 22 30\n",
      "[1]  1 10 22 40\n",
      "[1]  1 10 22 50\n",
      "[1]  1 10 23  0\n",
      "note: only 2 unique complexity parameters in default grid. Truncating the grid to 2 .\n",
      "\n",
      "[1]  1 10 23  1\n",
      "note: only 3 unique complexity parameters in default grid. Truncating the grid to 3 .\n",
      "\n",
      "[1]  1 10 23  3\n",
      "[1]  1 10 23  5\n",
      "[1]  1 10 23 10\n",
      "[1]  1 10 23 20\n",
      "[1]  1 10 23 30\n",
      "[1]  1 10 23 40\n",
      "[1]  1 10 23 50\n",
      "[1]  1 10 24  0\n",
      "note: only 2 unique complexity parameters in default grid. Truncating the grid to 2 .\n",
      "\n"
     ]
    },
    {
     "name": "stderr",
     "output_type": "stream",
     "text": [
      "Warning message in nominalTrainWorkflow(x = x, y = y, wts = weights, info = trainInfo, :\n",
      "\"There were missing values in resampled performance measures.\"\n"
     ]
    },
    {
     "name": "stdout",
     "output_type": "stream",
     "text": [
      "[1]  1 10 24  1\n",
      "note: only 3 unique complexity parameters in default grid. Truncating the grid to 3 .\n",
      "\n",
      "[1]  1 10 24  3\n",
      "[1]  1 10 24  5\n",
      "[1]  1 10 24 10\n"
     ]
    },
    {
     "name": "stderr",
     "output_type": "stream",
     "text": [
      "Warning message in nominalTrainWorkflow(x = x, y = y, wts = weights, info = trainInfo, :\n",
      "\"There were missing values in resampled performance measures.\"\n"
     ]
    },
    {
     "name": "stdout",
     "output_type": "stream",
     "text": [
      "[1]  1 10 24 20\n",
      "[1]  1 10 24 30\n",
      "[1]  1 10 24 40\n",
      "[1]  1 10 24 50\n",
      "[1]  1 10 25  0\n",
      "note: only 2 unique complexity parameters in default grid. Truncating the grid to 2 .\n",
      "\n",
      "[1]  1 10 25  1\n",
      "note: only 3 unique complexity parameters in default grid. Truncating the grid to 3 .\n",
      "\n",
      "[1]  1 10 25  3\n",
      "[1]  1 10 25  5\n",
      "[1]  1 10 25 10\n"
     ]
    },
    {
     "name": "stderr",
     "output_type": "stream",
     "text": [
      "Warning message in nominalTrainWorkflow(x = x, y = y, wts = weights, info = trainInfo, :\n",
      "\"There were missing values in resampled performance measures.\"\n"
     ]
    },
    {
     "name": "stdout",
     "output_type": "stream",
     "text": [
      "[1]  1 10 25 20\n",
      "[1]  1 10 25 30\n",
      "[1]  1 10 25 40\n",
      "[1]  1 10 25 50\n",
      "[1]  1 10 26  0\n",
      "note: only 2 unique complexity parameters in default grid. Truncating the grid to 2 .\n",
      "\n",
      "[1]  1 10 26  1\n",
      "note: only 3 unique complexity parameters in default grid. Truncating the grid to 3 .\n",
      "\n",
      "[1]  1 10 26  3\n",
      "[1]  1 10 26  5\n",
      "[1]  1 10 26 10\n",
      "[1]  1 10 26 20\n",
      "[1]  1 10 26 30\n",
      "[1]  1 10 26 40\n",
      "[1]  1 10 26 50\n",
      "[1]  1 10 27  0\n",
      "note: only 2 unique complexity parameters in default grid. Truncating the grid to 2 .\n",
      "\n"
     ]
    },
    {
     "name": "stderr",
     "output_type": "stream",
     "text": [
      "Warning message in nominalTrainWorkflow(x = x, y = y, wts = weights, info = trainInfo, :\n",
      "\"There were missing values in resampled performance measures.\"\n"
     ]
    },
    {
     "name": "stdout",
     "output_type": "stream",
     "text": [
      "[1]  1 10 27  1\n",
      "note: only 3 unique complexity parameters in default grid. Truncating the grid to 3 .\n",
      "\n"
     ]
    },
    {
     "name": "stderr",
     "output_type": "stream",
     "text": [
      "Warning message in nominalTrainWorkflow(x = x, y = y, wts = weights, info = trainInfo, :\n",
      "\"There were missing values in resampled performance measures.\"\n"
     ]
    },
    {
     "name": "stdout",
     "output_type": "stream",
     "text": [
      "[1]  1 10 27  3\n",
      "[1]  1 10 27  5\n",
      "[1]  1 10 27 10\n",
      "[1]  1 10 27 20\n",
      "[1]  1 10 27 30\n",
      "[1]  1 10 27 40\n",
      "[1]  1 10 27 50\n",
      "[1]  1 10 28  0\n",
      "note: only 2 unique complexity parameters in default grid. Truncating the grid to 2 .\n",
      "\n"
     ]
    },
    {
     "name": "stderr",
     "output_type": "stream",
     "text": [
      "Warning message in nominalTrainWorkflow(x = x, y = y, wts = weights, info = trainInfo, :\n",
      "\"There were missing values in resampled performance measures.\"\n"
     ]
    },
    {
     "name": "stdout",
     "output_type": "stream",
     "text": [
      "[1]  1 10 28  1\n",
      "note: only 3 unique complexity parameters in default grid. Truncating the grid to 3 .\n",
      "\n"
     ]
    },
    {
     "name": "stderr",
     "output_type": "stream",
     "text": [
      "Warning message in nominalTrainWorkflow(x = x, y = y, wts = weights, info = trainInfo, :\n",
      "\"There were missing values in resampled performance measures.\"\n"
     ]
    },
    {
     "name": "stdout",
     "output_type": "stream",
     "text": [
      "[1]  1 10 28  3\n"
     ]
    },
    {
     "name": "stderr",
     "output_type": "stream",
     "text": [
      "Warning message in nominalTrainWorkflow(x = x, y = y, wts = weights, info = trainInfo, :\n",
      "\"There were missing values in resampled performance measures.\"\n"
     ]
    },
    {
     "name": "stdout",
     "output_type": "stream",
     "text": [
      "[1]  1 10 28  5\n",
      "[1]  1 10 28 10\n",
      "[1]  1 10 28 20\n",
      "[1]  1 10 28 30\n",
      "[1]  1 10 28 40\n",
      "[1]  1 10 28 50\n",
      "[1]  1 10 29  0\n",
      "note: only 2 unique complexity parameters in default grid. Truncating the grid to 2 .\n",
      "\n",
      "[1]  1 10 29  1\n",
      "note: only 3 unique complexity parameters in default grid. Truncating the grid to 3 .\n",
      "\n",
      "[1]  1 10 29  3\n",
      "[1]  1 10 29  5\n",
      "[1]  1 10 29 10\n",
      "[1]  1 10 29 20\n",
      "[1]  1 10 29 30\n",
      "[1]  1 10 29 40\n",
      "[1]  1 10 29 50\n",
      "[1]  1 10 30  0\n",
      "note: only 2 unique complexity parameters in default grid. Truncating the grid to 2 .\n",
      "\n"
     ]
    },
    {
     "name": "stderr",
     "output_type": "stream",
     "text": [
      "Warning message in nominalTrainWorkflow(x = x, y = y, wts = weights, info = trainInfo, :\n",
      "\"There were missing values in resampled performance measures.\"\n"
     ]
    },
    {
     "name": "stdout",
     "output_type": "stream",
     "text": [
      "[1]  1 10 30  1\n",
      "note: only 3 unique complexity parameters in default grid. Truncating the grid to 3 .\n",
      "\n"
     ]
    },
    {
     "name": "stderr",
     "output_type": "stream",
     "text": [
      "Warning message in nominalTrainWorkflow(x = x, y = y, wts = weights, info = trainInfo, :\n",
      "\"There were missing values in resampled performance measures.\"\n"
     ]
    },
    {
     "name": "stdout",
     "output_type": "stream",
     "text": [
      "[1]  1 10 30  3\n",
      "[1]  1 10 30  5\n"
     ]
    },
    {
     "name": "stderr",
     "output_type": "stream",
     "text": [
      "Warning message in nominalTrainWorkflow(x = x, y = y, wts = weights, info = trainInfo, :\n",
      "\"There were missing values in resampled performance measures.\"\n"
     ]
    },
    {
     "name": "stdout",
     "output_type": "stream",
     "text": [
      "[1]  1 10 30 10\n",
      "[1]  1 10 30 20\n"
     ]
    },
    {
     "name": "stderr",
     "output_type": "stream",
     "text": [
      "Warning message in nominalTrainWorkflow(x = x, y = y, wts = weights, info = trainInfo, :\n",
      "\"There were missing values in resampled performance measures.\"\n"
     ]
    },
    {
     "name": "stdout",
     "output_type": "stream",
     "text": [
      "[1]  1 10 30 30\n"
     ]
    },
    {
     "name": "stderr",
     "output_type": "stream",
     "text": [
      "Warning message in nominalTrainWorkflow(x = x, y = y, wts = weights, info = trainInfo, :\n",
      "\"There were missing values in resampled performance measures.\"\n"
     ]
    },
    {
     "name": "stdout",
     "output_type": "stream",
     "text": [
      "[1]  1 10 30 40\n"
     ]
    },
    {
     "name": "stderr",
     "output_type": "stream",
     "text": [
      "Warning message in nominalTrainWorkflow(x = x, y = y, wts = weights, info = trainInfo, :\n",
      "\"There were missing values in resampled performance measures.\"\n"
     ]
    },
    {
     "name": "stdout",
     "output_type": "stream",
     "text": [
      "[1]  1 10 30 50\n"
     ]
    },
    {
     "name": "stderr",
     "output_type": "stream",
     "text": [
      "Warning message in nominalTrainWorkflow(x = x, y = y, wts = weights, info = trainInfo, :\n",
      "\"There were missing values in resampled performance measures.\"\n"
     ]
    },
    {
     "name": "stdout",
     "output_type": "stream",
     "text": [
      "[1]  1 20  1  0\n",
      "note: only 2 unique complexity parameters in default grid. Truncating the grid to 2 .\n",
      "\n",
      "[1]  1 20  1  1\n",
      "note: only 3 unique complexity parameters in default grid. Truncating the grid to 3 .\n",
      "\n",
      "[1]  1 20  1  3\n",
      "[1]  1 20  1  5\n",
      "[1]  1 20  1 10\n",
      "[1]  1 20  1 20\n",
      "[1]  1 20  1 30\n",
      "[1]  1 20  1 40\n",
      "[1]  1 20  1 50\n",
      "[1]  1 20  2  0\n",
      "note: only 2 unique complexity parameters in default grid. Truncating the grid to 2 .\n",
      "\n",
      "[1]  1 20  2  1\n",
      "note: only 3 unique complexity parameters in default grid. Truncating the grid to 3 .\n",
      "\n",
      "[1]  1 20  2  3\n",
      "[1]  1 20  2  5\n",
      "[1]  1 20  2 10\n",
      "[1]  1 20  2 20\n",
      "[1]  1 20  2 30\n",
      "[1]  1 20  2 40\n",
      "[1]  1 20  2 50\n",
      "[1]  1 20  3  0\n",
      "note: only 2 unique complexity parameters in default grid. Truncating the grid to 2 .\n",
      "\n",
      "[1]  1 20  3  1\n",
      "note: only 3 unique complexity parameters in default grid. Truncating the grid to 3 .\n",
      "\n",
      "[1]  1 20  3  3\n",
      "[1]  1 20  3  5\n",
      "[1]  1 20  3 10\n",
      "[1]  1 20  3 20\n",
      "[1]  1 20  3 30\n",
      "[1]  1 20  3 40\n",
      "[1]  1 20  3 50\n",
      "[1]  1 20  4  0\n",
      "note: only 2 unique complexity parameters in default grid. Truncating the grid to 2 .\n",
      "\n",
      "[1]  1 20  4  1\n",
      "note: only 3 unique complexity parameters in default grid. Truncating the grid to 3 .\n",
      "\n",
      "[1]  1 20  4  3\n",
      "[1]  1 20  4  5\n",
      "[1]  1 20  4 10\n",
      "[1]  1 20  4 20\n",
      "[1]  1 20  4 30\n",
      "[1]  1 20  4 40\n",
      "[1]  1 20  4 50\n",
      "[1]  1 20  5  0\n",
      "note: only 2 unique complexity parameters in default grid. Truncating the grid to 2 .\n",
      "\n",
      "[1]  1 20  5  1\n",
      "note: only 3 unique complexity parameters in default grid. Truncating the grid to 3 .\n",
      "\n",
      "[1]  1 20  5  3\n",
      "[1]  1 20  5  5\n",
      "[1]  1 20  5 10\n",
      "[1]  1 20  5 20\n",
      "[1]  1 20  5 30\n",
      "[1]  1 20  5 40\n",
      "[1]  1 20  5 50\n",
      "[1]  1 20  6  0\n",
      "note: only 2 unique complexity parameters in default grid. Truncating the grid to 2 .\n",
      "\n"
     ]
    },
    {
     "name": "stderr",
     "output_type": "stream",
     "text": [
      "Warning message in nominalTrainWorkflow(x = x, y = y, wts = weights, info = trainInfo, :\n",
      "\"There were missing values in resampled performance measures.\"\n"
     ]
    },
    {
     "name": "stdout",
     "output_type": "stream",
     "text": [
      "[1]  1 20  6  1\n",
      "note: only 3 unique complexity parameters in default grid. Truncating the grid to 3 .\n",
      "\n",
      "[1]  1 20  6  3\n",
      "[1]  1 20  6  5\n",
      "[1]  1 20  6 10\n",
      "[1]  1 20  6 20\n",
      "[1]  1 20  6 30\n",
      "[1]  1 20  6 40\n",
      "[1]  1 20  6 50\n",
      "[1]  1 20  7  0\n",
      "note: only 2 unique complexity parameters in default grid. Truncating the grid to 2 .\n",
      "\n"
     ]
    },
    {
     "name": "stderr",
     "output_type": "stream",
     "text": [
      "Warning message in nominalTrainWorkflow(x = x, y = y, wts = weights, info = trainInfo, :\n",
      "\"There were missing values in resampled performance measures.\"\n"
     ]
    },
    {
     "name": "stdout",
     "output_type": "stream",
     "text": [
      "[1]  1 20  7  1\n",
      "note: only 3 unique complexity parameters in default grid. Truncating the grid to 3 .\n",
      "\n",
      "[1]  1 20  7  3\n",
      "[1]  1 20  7  5\n",
      "[1]  1 20  7 10\n",
      "[1]  1 20  7 20\n",
      "[1]  1 20  7 30\n",
      "[1]  1 20  7 40\n",
      "[1]  1 20  7 50\n",
      "[1]  1 20  8  0\n",
      "note: only 2 unique complexity parameters in default grid. Truncating the grid to 2 .\n",
      "\n",
      "[1]  1 20  8  1\n",
      "note: only 3 unique complexity parameters in default grid. Truncating the grid to 3 .\n",
      "\n",
      "[1]  1 20  8  3\n",
      "[1]  1 20  8  5\n",
      "[1]  1 20  8 10\n",
      "[1]  1 20  8 20\n",
      "[1]  1 20  8 30\n",
      "[1]  1 20  8 40\n",
      "[1]  1 20  8 50\n",
      "[1]  1 20  9  0\n",
      "note: only 2 unique complexity parameters in default grid. Truncating the grid to 2 .\n",
      "\n"
     ]
    },
    {
     "name": "stderr",
     "output_type": "stream",
     "text": [
      "Warning message in nominalTrainWorkflow(x = x, y = y, wts = weights, info = trainInfo, :\n",
      "\"There were missing values in resampled performance measures.\"\n"
     ]
    },
    {
     "name": "stdout",
     "output_type": "stream",
     "text": [
      "[1]  1 20  9  1\n",
      "note: only 3 unique complexity parameters in default grid. Truncating the grid to 3 .\n",
      "\n",
      "[1]  1 20  9  3\n",
      "[1]  1 20  9  5\n",
      "[1]  1 20  9 10\n",
      "[1]  1 20  9 20\n",
      "[1]  1 20  9 30\n",
      "[1]  1 20  9 40\n",
      "[1]  1 20  9 50\n",
      "[1]  1 20 10  0\n",
      "note: only 2 unique complexity parameters in default grid. Truncating the grid to 2 .\n",
      "\n",
      "[1]  1 20 10  1\n",
      "note: only 3 unique complexity parameters in default grid. Truncating the grid to 3 .\n",
      "\n",
      "[1]  1 20 10  3\n",
      "[1]  1 20 10  5\n",
      "[1]  1 20 10 10\n",
      "[1]  1 20 10 20\n",
      "[1]  1 20 10 30\n",
      "[1]  1 20 10 40\n",
      "[1]  1 20 10 50\n",
      "[1]  1 20 11  0\n",
      "note: only 2 unique complexity parameters in default grid. Truncating the grid to 2 .\n",
      "\n",
      "[1]  1 20 11  1\n",
      "note: only 3 unique complexity parameters in default grid. Truncating the grid to 3 .\n",
      "\n",
      "[1]  1 20 11  3\n",
      "[1]  1 20 11  5\n",
      "[1]  1 20 11 10\n",
      "[1]  1 20 11 20\n",
      "[1]  1 20 11 30\n",
      "[1]  1 20 11 40\n",
      "[1]  1 20 11 50\n",
      "[1]  1 20 12  0\n",
      "note: only 2 unique complexity parameters in default grid. Truncating the grid to 2 .\n",
      "\n",
      "[1]  1 20 12  1\n",
      "note: only 3 unique complexity parameters in default grid. Truncating the grid to 3 .\n",
      "\n",
      "[1]  1 20 12  3\n",
      "[1]  1 20 12  5\n",
      "[1]  1 20 12 10\n",
      "[1]  1 20 12 20\n",
      "[1]  1 20 12 30\n",
      "[1]  1 20 12 40\n",
      "[1]  1 20 12 50\n",
      "[1]  1 20 13  0\n",
      "note: only 2 unique complexity parameters in default grid. Truncating the grid to 2 .\n",
      "\n"
     ]
    },
    {
     "name": "stderr",
     "output_type": "stream",
     "text": [
      "Warning message in nominalTrainWorkflow(x = x, y = y, wts = weights, info = trainInfo, :\n",
      "\"There were missing values in resampled performance measures.\"\n"
     ]
    },
    {
     "name": "stdout",
     "output_type": "stream",
     "text": [
      "[1]  1 20 13  1\n",
      "note: only 3 unique complexity parameters in default grid. Truncating the grid to 3 .\n",
      "\n",
      "[1]  1 20 13  3\n",
      "[1]  1 20 13  5\n",
      "[1]  1 20 13 10\n",
      "[1]  1 20 13 20\n",
      "[1]  1 20 13 30\n",
      "[1]  1 20 13 40\n",
      "[1]  1 20 13 50\n",
      "[1]  1 20 14  0\n",
      "note: only 2 unique complexity parameters in default grid. Truncating the grid to 2 .\n",
      "\n"
     ]
    },
    {
     "name": "stderr",
     "output_type": "stream",
     "text": [
      "Warning message in nominalTrainWorkflow(x = x, y = y, wts = weights, info = trainInfo, :\n",
      "\"There were missing values in resampled performance measures.\"\n"
     ]
    },
    {
     "name": "stdout",
     "output_type": "stream",
     "text": [
      "[1]  1 20 14  1\n",
      "note: only 3 unique complexity parameters in default grid. Truncating the grid to 3 .\n",
      "\n",
      "[1]  1 20 14  3\n",
      "[1]  1 20 14  5\n",
      "[1]  1 20 14 10\n",
      "[1]  1 20 14 20\n",
      "[1]  1 20 14 30\n",
      "[1]  1 20 14 40\n",
      "[1]  1 20 14 50\n",
      "[1]  1 20 15  0\n",
      "note: only 2 unique complexity parameters in default grid. Truncating the grid to 2 .\n",
      "\n",
      "[1]  1 20 15  1\n",
      "note: only 3 unique complexity parameters in default grid. Truncating the grid to 3 .\n",
      "\n",
      "[1]  1 20 15  3\n",
      "[1]  1 20 15  5\n",
      "[1]  1 20 15 10\n",
      "[1]  1 20 15 20\n",
      "[1]  1 20 15 30\n",
      "[1]  1 20 15 40\n",
      "[1]  1 20 15 50\n",
      "[1]  1 20 16  0\n",
      "note: only 2 unique complexity parameters in default grid. Truncating the grid to 2 .\n",
      "\n",
      "[1]  1 20 16  1\n",
      "note: only 3 unique complexity parameters in default grid. Truncating the grid to 3 .\n",
      "\n",
      "[1]  1 20 16  3\n",
      "[1]  1 20 16  5\n",
      "[1]  1 20 16 10\n",
      "[1]  1 20 16 20\n",
      "[1]  1 20 16 30\n",
      "[1]  1 20 16 40\n",
      "[1]  1 20 16 50\n",
      "[1]  1 20 17  0\n",
      "note: only 2 unique complexity parameters in default grid. Truncating the grid to 2 .\n",
      "\n",
      "[1]  1 20 17  1\n",
      "note: only 3 unique complexity parameters in default grid. Truncating the grid to 3 .\n",
      "\n",
      "[1]  1 20 17  3\n",
      "[1]  1 20 17  5\n",
      "[1]  1 20 17 10\n",
      "[1]  1 20 17 20\n",
      "[1]  1 20 17 30\n",
      "[1]  1 20 17 40\n",
      "[1]  1 20 17 50\n",
      "[1]  1 20 18  0\n",
      "note: only 2 unique complexity parameters in default grid. Truncating the grid to 2 .\n",
      "\n",
      "[1]  1 20 18  1\n",
      "note: only 3 unique complexity parameters in default grid. Truncating the grid to 3 .\n",
      "\n",
      "[1]  1 20 18  3\n",
      "[1]  1 20 18  5\n",
      "[1]  1 20 18 10\n",
      "[1]  1 20 18 20\n",
      "[1]  1 20 18 30\n",
      "[1]  1 20 18 40\n",
      "[1]  1 20 18 50\n",
      "[1]  1 20 19  0\n",
      "note: only 2 unique complexity parameters in default grid. Truncating the grid to 2 .\n",
      "\n"
     ]
    },
    {
     "name": "stderr",
     "output_type": "stream",
     "text": [
      "Warning message in nominalTrainWorkflow(x = x, y = y, wts = weights, info = trainInfo, :\n",
      "\"There were missing values in resampled performance measures.\"\n"
     ]
    },
    {
     "name": "stdout",
     "output_type": "stream",
     "text": [
      "[1]  1 20 19  1\n",
      "note: only 3 unique complexity parameters in default grid. Truncating the grid to 3 .\n",
      "\n"
     ]
    },
    {
     "name": "stderr",
     "output_type": "stream",
     "text": [
      "Warning message in nominalTrainWorkflow(x = x, y = y, wts = weights, info = trainInfo, :\n",
      "\"There were missing values in resampled performance measures.\"\n"
     ]
    },
    {
     "name": "stdout",
     "output_type": "stream",
     "text": [
      "[1]  1 20 19  3\n",
      "[1]  1 20 19  5\n",
      "[1]  1 20 19 10\n",
      "[1]  1 20 19 20\n",
      "[1]  1 20 19 30\n",
      "[1]  1 20 19 40\n",
      "[1]  1 20 19 50\n",
      "[1]  1 20 20  0\n",
      "note: only 2 unique complexity parameters in default grid. Truncating the grid to 2 .\n",
      "\n",
      "[1]  1 20 20  1\n",
      "note: only 3 unique complexity parameters in default grid. Truncating the grid to 3 .\n",
      "\n",
      "[1]  1 20 20  3\n",
      "[1]  1 20 20  5\n",
      "[1]  1 20 20 10\n",
      "[1]  1 20 20 20\n",
      "[1]  1 20 20 30\n",
      "[1]  1 20 20 40\n",
      "[1]  1 20 20 50\n",
      "[1]  1 20 21  0\n",
      "note: only 2 unique complexity parameters in default grid. Truncating the grid to 2 .\n",
      "\n",
      "[1]  1 20 21  1\n",
      "note: only 3 unique complexity parameters in default grid. Truncating the grid to 3 .\n",
      "\n",
      "[1]  1 20 21  3\n",
      "[1]  1 20 21  5\n",
      "[1]  1 20 21 10\n",
      "[1]  1 20 21 20\n",
      "[1]  1 20 21 30\n",
      "[1]  1 20 21 40\n",
      "[1]  1 20 21 50\n",
      "[1]  1 20 22  0\n",
      "note: only 2 unique complexity parameters in default grid. Truncating the grid to 2 .\n",
      "\n"
     ]
    },
    {
     "name": "stderr",
     "output_type": "stream",
     "text": [
      "Warning message in nominalTrainWorkflow(x = x, y = y, wts = weights, info = trainInfo, :\n",
      "\"There were missing values in resampled performance measures.\"\n"
     ]
    },
    {
     "name": "stdout",
     "output_type": "stream",
     "text": [
      "[1]  1 20 22  1\n",
      "note: only 3 unique complexity parameters in default grid. Truncating the grid to 3 .\n",
      "\n"
     ]
    },
    {
     "name": "stderr",
     "output_type": "stream",
     "text": [
      "Warning message in nominalTrainWorkflow(x = x, y = y, wts = weights, info = trainInfo, :\n",
      "\"There were missing values in resampled performance measures.\"\n"
     ]
    },
    {
     "name": "stdout",
     "output_type": "stream",
     "text": [
      "[1]  1 20 22  3\n",
      "[1]  1 20 22  5\n",
      "[1]  1 20 22 10\n",
      "[1]  1 20 22 20\n",
      "[1]  1 20 22 30\n",
      "[1]  1 20 22 40\n",
      "[1]  1 20 22 50\n",
      "[1]  1 20 23  0\n",
      "note: only 2 unique complexity parameters in default grid. Truncating the grid to 2 .\n",
      "\n"
     ]
    },
    {
     "name": "stderr",
     "output_type": "stream",
     "text": [
      "Warning message in nominalTrainWorkflow(x = x, y = y, wts = weights, info = trainInfo, :\n",
      "\"There were missing values in resampled performance measures.\"\n"
     ]
    },
    {
     "name": "stdout",
     "output_type": "stream",
     "text": [
      "[1]  1 20 23  1\n",
      "note: only 3 unique complexity parameters in default grid. Truncating the grid to 3 .\n",
      "\n"
     ]
    },
    {
     "name": "stderr",
     "output_type": "stream",
     "text": [
      "Warning message in nominalTrainWorkflow(x = x, y = y, wts = weights, info = trainInfo, :\n",
      "\"There were missing values in resampled performance measures.\"\n"
     ]
    },
    {
     "name": "stdout",
     "output_type": "stream",
     "text": [
      "[1]  1 20 23  3\n",
      "[1]  1 20 23  5\n",
      "[1]  1 20 23 10\n",
      "[1]  1 20 23 20\n",
      "[1]  1 20 23 30\n",
      "[1]  1 20 23 40\n",
      "[1]  1 20 23 50\n",
      "[1]  1 20 24  0\n",
      "note: only 2 unique complexity parameters in default grid. Truncating the grid to 2 .\n",
      "\n",
      "[1]  1 20 24  1\n",
      "note: only 3 unique complexity parameters in default grid. Truncating the grid to 3 .\n",
      "\n",
      "[1]  1 20 24  3\n",
      "[1]  1 20 24  5\n",
      "[1]  1 20 24 10\n",
      "[1]  1 20 24 20\n",
      "[1]  1 20 24 30\n",
      "[1]  1 20 24 40\n",
      "[1]  1 20 24 50\n",
      "[1]  1 20 25  0\n",
      "note: only 2 unique complexity parameters in default grid. Truncating the grid to 2 .\n",
      "\n"
     ]
    },
    {
     "name": "stderr",
     "output_type": "stream",
     "text": [
      "Warning message in nominalTrainWorkflow(x = x, y = y, wts = weights, info = trainInfo, :\n",
      "\"There were missing values in resampled performance measures.\"\n"
     ]
    },
    {
     "name": "stdout",
     "output_type": "stream",
     "text": [
      "[1]  1 20 25  1\n",
      "note: only 3 unique complexity parameters in default grid. Truncating the grid to 3 .\n",
      "\n",
      "[1]  1 20 25  3\n",
      "[1]  1 20 25  5\n",
      "[1]  1 20 25 10\n",
      "[1]  1 20 25 20\n",
      "[1]  1 20 25 30\n",
      "[1]  1 20 25 40\n",
      "[1]  1 20 25 50\n",
      "[1]  1 20 26  0\n",
      "note: only 2 unique complexity parameters in default grid. Truncating the grid to 2 .\n",
      "\n",
      "[1]  1 20 26  1\n",
      "note: only 3 unique complexity parameters in default grid. Truncating the grid to 3 .\n",
      "\n",
      "[1]  1 20 26  3\n",
      "[1]  1 20 26  5\n",
      "[1]  1 20 26 10\n",
      "[1]  1 20 26 20\n",
      "[1]  1 20 26 30\n",
      "[1]  1 20 26 40\n",
      "[1]  1 20 26 50\n",
      "[1]  1 20 27  0\n",
      "note: only 2 unique complexity parameters in default grid. Truncating the grid to 2 .\n",
      "\n"
     ]
    },
    {
     "name": "stderr",
     "output_type": "stream",
     "text": [
      "Warning message in nominalTrainWorkflow(x = x, y = y, wts = weights, info = trainInfo, :\n",
      "\"There were missing values in resampled performance measures.\"\n"
     ]
    },
    {
     "name": "stdout",
     "output_type": "stream",
     "text": [
      "[1]  1 20 27  1\n",
      "note: only 3 unique complexity parameters in default grid. Truncating the grid to 3 .\n",
      "\n",
      "[1]  1 20 27  3\n",
      "[1]  1 20 27  5\n",
      "[1]  1 20 27 10\n",
      "[1]  1 20 27 20\n",
      "[1]  1 20 27 30\n",
      "[1]  1 20 27 40\n",
      "[1]  1 20 27 50\n",
      "[1]  1 20 28  0\n",
      "note: only 2 unique complexity parameters in default grid. Truncating the grid to 2 .\n",
      "\n",
      "[1]  1 20 28  1\n",
      "note: only 3 unique complexity parameters in default grid. Truncating the grid to 3 .\n",
      "\n"
     ]
    },
    {
     "name": "stderr",
     "output_type": "stream",
     "text": [
      "Warning message in nominalTrainWorkflow(x = x, y = y, wts = weights, info = trainInfo, :\n",
      "\"There were missing values in resampled performance measures.\"\n"
     ]
    },
    {
     "name": "stdout",
     "output_type": "stream",
     "text": [
      "[1]  1 20 28  3\n",
      "[1]  1 20 28  5\n",
      "[1]  1 20 28 10\n",
      "[1]  1 20 28 20\n",
      "[1]  1 20 28 30\n",
      "[1]  1 20 28 40\n",
      "[1]  1 20 28 50\n",
      "[1]  1 20 29  0\n",
      "note: only 2 unique complexity parameters in default grid. Truncating the grid to 2 .\n",
      "\n",
      "[1]  1 20 29  1\n",
      "note: only 3 unique complexity parameters in default grid. Truncating the grid to 3 .\n",
      "\n",
      "[1]  1 20 29  3\n",
      "[1]  1 20 29  5\n",
      "[1]  1 20 29 10\n",
      "[1]  1 20 29 20\n",
      "[1]  1 20 29 30\n",
      "[1]  1 20 29 40\n",
      "[1]  1 20 29 50\n",
      "[1]  1 20 30  0\n",
      "note: only 2 unique complexity parameters in default grid. Truncating the grid to 2 .\n",
      "\n"
     ]
    },
    {
     "name": "stderr",
     "output_type": "stream",
     "text": [
      "Warning message in nominalTrainWorkflow(x = x, y = y, wts = weights, info = trainInfo, :\n",
      "\"There were missing values in resampled performance measures.\"\n"
     ]
    },
    {
     "name": "stdout",
     "output_type": "stream",
     "text": [
      "[1]  1 20 30  1\n",
      "note: only 3 unique complexity parameters in default grid. Truncating the grid to 3 .\n",
      "\n",
      "[1]  1 20 30  3\n",
      "[1]  1 20 30  5\n",
      "[1]  1 20 30 10\n",
      "[1]  1 20 30 20\n",
      "[1]  1 20 30 30\n",
      "[1]  1 20 30 40\n",
      "[1]  1 20 30 50\n",
      "[1]  1 30  1  0\n",
      "note: only 2 unique complexity parameters in default grid. Truncating the grid to 2 .\n",
      "\n",
      "[1]  1 30  1  1\n",
      "note: only 3 unique complexity parameters in default grid. Truncating the grid to 3 .\n",
      "\n",
      "[1]  1 30  1  3\n",
      "[1]  1 30  1  5\n",
      "[1]  1 30  1 10\n",
      "[1]  1 30  1 20\n",
      "[1]  1 30  1 30\n",
      "[1]  1 30  1 40\n",
      "[1]  1 30  1 50\n",
      "[1]  1 30  2  0\n",
      "note: only 2 unique complexity parameters in default grid. Truncating the grid to 2 .\n",
      "\n"
     ]
    },
    {
     "name": "stderr",
     "output_type": "stream",
     "text": [
      "Warning message in nominalTrainWorkflow(x = x, y = y, wts = weights, info = trainInfo, :\n",
      "\"There were missing values in resampled performance measures.\"\n"
     ]
    },
    {
     "name": "stdout",
     "output_type": "stream",
     "text": [
      "[1]  1 30  2  1\n",
      "note: only 3 unique complexity parameters in default grid. Truncating the grid to 3 .\n",
      "\n"
     ]
    },
    {
     "name": "stderr",
     "output_type": "stream",
     "text": [
      "Warning message in nominalTrainWorkflow(x = x, y = y, wts = weights, info = trainInfo, :\n",
      "\"There were missing values in resampled performance measures.\"\n"
     ]
    },
    {
     "name": "stdout",
     "output_type": "stream",
     "text": [
      "[1]  1 30  2  3\n",
      "[1]  1 30  2  5\n",
      "[1]  1 30  2 10\n",
      "[1]  1 30  2 20\n",
      "[1]  1 30  2 30\n",
      "[1]  1 30  2 40\n",
      "[1]  1 30  2 50\n",
      "[1]  1 30  3  0\n",
      "note: only 2 unique complexity parameters in default grid. Truncating the grid to 2 .\n",
      "\n",
      "[1]  1 30  3  1\n",
      "note: only 3 unique complexity parameters in default grid. Truncating the grid to 3 .\n",
      "\n",
      "[1]  1 30  3  3\n",
      "[1]  1 30  3  5\n",
      "[1]  1 30  3 10\n",
      "[1]  1 30  3 20\n",
      "[1]  1 30  3 30\n",
      "[1]  1 30  3 40\n",
      "[1]  1 30  3 50\n",
      "[1]  1 30  4  0\n",
      "note: only 2 unique complexity parameters in default grid. Truncating the grid to 2 .\n",
      "\n",
      "[1]  1 30  4  1\n",
      "note: only 3 unique complexity parameters in default grid. Truncating the grid to 3 .\n",
      "\n",
      "[1]  1 30  4  3\n",
      "[1]  1 30  4  5\n",
      "[1]  1 30  4 10\n",
      "[1]  1 30  4 20\n",
      "[1]  1 30  4 30\n",
      "[1]  1 30  4 40\n",
      "[1]  1 30  4 50\n",
      "[1]  1 30  5  0\n",
      "note: only 2 unique complexity parameters in default grid. Truncating the grid to 2 .\n",
      "\n",
      "[1]  1 30  5  1\n",
      "note: only 3 unique complexity parameters in default grid. Truncating the grid to 3 .\n",
      "\n",
      "[1]  1 30  5  3\n",
      "[1]  1 30  5  5\n",
      "[1]  1 30  5 10\n",
      "[1]  1 30  5 20\n",
      "[1]  1 30  5 30\n",
      "[1]  1 30  5 40\n",
      "[1]  1 30  5 50\n",
      "[1]  1 30  6  0\n",
      "note: only 2 unique complexity parameters in default grid. Truncating the grid to 2 .\n",
      "\n",
      "[1]  1 30  6  1\n",
      "note: only 3 unique complexity parameters in default grid. Truncating the grid to 3 .\n",
      "\n",
      "[1]  1 30  6  3\n",
      "[1]  1 30  6  5\n",
      "[1]  1 30  6 10\n",
      "[1]  1 30  6 20\n",
      "[1]  1 30  6 30\n",
      "[1]  1 30  6 40\n",
      "[1]  1 30  6 50\n",
      "[1]  1 30  7  0\n",
      "note: only 2 unique complexity parameters in default grid. Truncating the grid to 2 .\n",
      "\n"
     ]
    },
    {
     "name": "stderr",
     "output_type": "stream",
     "text": [
      "Warning message in nominalTrainWorkflow(x = x, y = y, wts = weights, info = trainInfo, :\n",
      "\"There were missing values in resampled performance measures.\"\n"
     ]
    },
    {
     "name": "stdout",
     "output_type": "stream",
     "text": [
      "[1]  1 30  7  1\n",
      "note: only 3 unique complexity parameters in default grid. Truncating the grid to 3 .\n",
      "\n",
      "[1]  1 30  7  3\n",
      "[1]  1 30  7  5\n",
      "[1]  1 30  7 10\n",
      "[1]  1 30  7 20\n",
      "[1]  1 30  7 30\n",
      "[1]  1 30  7 40\n",
      "[1]  1 30  7 50\n",
      "[1]  1 30  8  0\n",
      "note: only 2 unique complexity parameters in default grid. Truncating the grid to 2 .\n",
      "\n",
      "[1]  1 30  8  1\n",
      "note: only 3 unique complexity parameters in default grid. Truncating the grid to 3 .\n",
      "\n",
      "[1]  1 30  8  3\n",
      "[1]  1 30  8  5\n",
      "[1]  1 30  8 10\n",
      "[1]  1 30  8 20\n",
      "[1]  1 30  8 30\n",
      "[1]  1 30  8 40\n",
      "[1]  1 30  8 50\n",
      "[1]  1 30  9  0\n",
      "note: only 2 unique complexity parameters in default grid. Truncating the grid to 2 .\n",
      "\n",
      "[1]  1 30  9  1\n",
      "note: only 3 unique complexity parameters in default grid. Truncating the grid to 3 .\n",
      "\n",
      "[1]  1 30  9  3\n",
      "[1]  1 30  9  5\n",
      "[1]  1 30  9 10\n",
      "[1]  1 30  9 20\n",
      "[1]  1 30  9 30\n",
      "[1]  1 30  9 40\n",
      "[1]  1 30  9 50\n",
      "[1]  1 30 10  0\n",
      "note: only 2 unique complexity parameters in default grid. Truncating the grid to 2 .\n",
      "\n",
      "[1]  1 30 10  1\n",
      "note: only 3 unique complexity parameters in default grid. Truncating the grid to 3 .\n",
      "\n",
      "[1]  1 30 10  3\n",
      "[1]  1 30 10  5\n",
      "[1]  1 30 10 10\n",
      "[1]  1 30 10 20\n",
      "[1]  1 30 10 30\n",
      "[1]  1 30 10 40\n",
      "[1]  1 30 10 50\n",
      "[1]  1 30 11  0\n",
      "note: only 2 unique complexity parameters in default grid. Truncating the grid to 2 .\n",
      "\n",
      "[1]  1 30 11  1\n",
      "note: only 3 unique complexity parameters in default grid. Truncating the grid to 3 .\n",
      "\n",
      "[1]  1 30 11  3\n",
      "[1]  1 30 11  5\n",
      "[1]  1 30 11 10\n",
      "[1]  1 30 11 20\n",
      "[1]  1 30 11 30\n",
      "[1]  1 30 11 40\n",
      "[1]  1 30 11 50\n",
      "[1]  1 30 12  0\n",
      "note: only 2 unique complexity parameters in default grid. Truncating the grid to 2 .\n",
      "\n",
      "[1]  1 30 12  1\n",
      "note: only 3 unique complexity parameters in default grid. Truncating the grid to 3 .\n",
      "\n",
      "[1]  1 30 12  3\n",
      "[1]  1 30 12  5\n",
      "[1]  1 30 12 10\n",
      "[1]  1 30 12 20\n",
      "[1]  1 30 12 30\n",
      "[1]  1 30 12 40\n",
      "[1]  1 30 12 50\n",
      "[1]  1 30 13  0\n",
      "note: only 2 unique complexity parameters in default grid. Truncating the grid to 2 .\n",
      "\n"
     ]
    },
    {
     "name": "stderr",
     "output_type": "stream",
     "text": [
      "Warning message in nominalTrainWorkflow(x = x, y = y, wts = weights, info = trainInfo, :\n",
      "\"There were missing values in resampled performance measures.\"\n"
     ]
    },
    {
     "name": "stdout",
     "output_type": "stream",
     "text": [
      "[1]  1 30 13  1\n",
      "note: only 3 unique complexity parameters in default grid. Truncating the grid to 3 .\n",
      "\n",
      "[1]  1 30 13  3\n",
      "[1]  1 30 13  5\n",
      "[1]  1 30 13 10\n",
      "[1]  1 30 13 20\n",
      "[1]  1 30 13 30\n",
      "[1]  1 30 13 40\n",
      "[1]  1 30 13 50\n",
      "[1]  1 30 14  0\n",
      "note: only 2 unique complexity parameters in default grid. Truncating the grid to 2 .\n",
      "\n",
      "[1]  1 30 14  1\n",
      "note: only 3 unique complexity parameters in default grid. Truncating the grid to 3 .\n",
      "\n",
      "[1]  1 30 14  3\n",
      "[1]  1 30 14  5\n",
      "[1]  1 30 14 10\n",
      "[1]  1 30 14 20\n",
      "[1]  1 30 14 30\n",
      "[1]  1 30 14 40\n",
      "[1]  1 30 14 50\n",
      "[1]  1 30 15  0\n",
      "note: only 2 unique complexity parameters in default grid. Truncating the grid to 2 .\n",
      "\n",
      "[1]  1 30 15  1\n",
      "note: only 3 unique complexity parameters in default grid. Truncating the grid to 3 .\n",
      "\n",
      "[1]  1 30 15  3\n",
      "[1]  1 30 15  5\n",
      "[1]  1 30 15 10\n",
      "[1]  1 30 15 20\n",
      "[1]  1 30 15 30\n",
      "[1]  1 30 15 40\n",
      "[1]  1 30 15 50\n",
      "[1]  1 30 16  0\n",
      "note: only 2 unique complexity parameters in default grid. Truncating the grid to 2 .\n",
      "\n",
      "[1]  1 30 16  1\n",
      "note: only 3 unique complexity parameters in default grid. Truncating the grid to 3 .\n",
      "\n",
      "[1]  1 30 16  3\n",
      "[1]  1 30 16  5\n",
      "[1]  1 30 16 10\n",
      "[1]  1 30 16 20\n",
      "[1]  1 30 16 30\n",
      "[1]  1 30 16 40\n",
      "[1]  1 30 16 50\n",
      "[1]  1 30 17  0\n",
      "note: only 2 unique complexity parameters in default grid. Truncating the grid to 2 .\n",
      "\n",
      "[1]  1 30 17  1\n",
      "note: only 3 unique complexity parameters in default grid. Truncating the grid to 3 .\n",
      "\n",
      "[1]  1 30 17  3\n",
      "[1]  1 30 17  5\n",
      "[1]  1 30 17 10\n",
      "[1]  1 30 17 20\n",
      "[1]  1 30 17 30\n",
      "[1]  1 30 17 40\n",
      "[1]  1 30 17 50\n",
      "[1]  1 30 18  0\n",
      "note: only 2 unique complexity parameters in default grid. Truncating the grid to 2 .\n",
      "\n",
      "[1]  1 30 18  1\n",
      "note: only 3 unique complexity parameters in default grid. Truncating the grid to 3 .\n",
      "\n",
      "[1]  1 30 18  3\n",
      "[1]  1 30 18  5\n",
      "[1]  1 30 18 10\n",
      "[1]  1 30 18 20\n",
      "[1]  1 30 18 30\n",
      "[1]  1 30 18 40\n",
      "[1]  1 30 18 50\n",
      "[1]  1 30 19  0\n",
      "note: only 2 unique complexity parameters in default grid. Truncating the grid to 2 .\n",
      "\n",
      "[1]  1 30 19  1\n",
      "note: only 3 unique complexity parameters in default grid. Truncating the grid to 3 .\n",
      "\n",
      "[1]  1 30 19  3\n",
      "[1]  1 30 19  5\n",
      "[1]  1 30 19 10\n",
      "[1]  1 30 19 20\n",
      "[1]  1 30 19 30\n",
      "[1]  1 30 19 40\n",
      "[1]  1 30 19 50\n",
      "[1]  1 30 20  0\n",
      "note: only 2 unique complexity parameters in default grid. Truncating the grid to 2 .\n",
      "\n",
      "[1]  1 30 20  1\n",
      "note: only 3 unique complexity parameters in default grid. Truncating the grid to 3 .\n",
      "\n",
      "[1]  1 30 20  3\n",
      "[1]  1 30 20  5\n",
      "[1]  1 30 20 10\n",
      "[1]  1 30 20 20\n",
      "[1]  1 30 20 30\n",
      "[1]  1 30 20 40\n",
      "[1]  1 30 20 50\n",
      "[1]  1 30 21  0\n",
      "note: only 2 unique complexity parameters in default grid. Truncating the grid to 2 .\n",
      "\n"
     ]
    },
    {
     "name": "stderr",
     "output_type": "stream",
     "text": [
      "Warning message in nominalTrainWorkflow(x = x, y = y, wts = weights, info = trainInfo, :\n",
      "\"There were missing values in resampled performance measures.\"\n"
     ]
    },
    {
     "name": "stdout",
     "output_type": "stream",
     "text": [
      "[1]  1 30 21  1\n",
      "note: only 3 unique complexity parameters in default grid. Truncating the grid to 3 .\n",
      "\n",
      "[1]  1 30 21  3\n",
      "[1]  1 30 21  5\n",
      "[1]  1 30 21 10\n",
      "[1]  1 30 21 20\n",
      "[1]  1 30 21 30\n",
      "[1]  1 30 21 40\n",
      "[1]  1 30 21 50\n",
      "[1]  1 30 22  0\n",
      "note: only 2 unique complexity parameters in default grid. Truncating the grid to 2 .\n",
      "\n",
      "[1]  1 30 22  1\n",
      "note: only 3 unique complexity parameters in default grid. Truncating the grid to 3 .\n",
      "\n",
      "[1]  1 30 22  3\n",
      "[1]  1 30 22  5\n",
      "[1]  1 30 22 10\n",
      "[1]  1 30 22 20\n",
      "[1]  1 30 22 30\n",
      "[1]  1 30 22 40\n",
      "[1]  1 30 22 50\n",
      "[1]  1 30 23  0\n",
      "note: only 2 unique complexity parameters in default grid. Truncating the grid to 2 .\n",
      "\n",
      "[1]  1 30 23  1\n",
      "note: only 3 unique complexity parameters in default grid. Truncating the grid to 3 .\n",
      "\n",
      "[1]  1 30 23  3\n",
      "[1]  1 30 23  5\n",
      "[1]  1 30 23 10\n",
      "[1]  1 30 23 20\n",
      "[1]  1 30 23 30\n",
      "[1]  1 30 23 40\n",
      "[1]  1 30 23 50\n",
      "[1]  1 30 24  0\n",
      "note: only 2 unique complexity parameters in default grid. Truncating the grid to 2 .\n",
      "\n",
      "[1]  1 30 24  1\n",
      "note: only 3 unique complexity parameters in default grid. Truncating the grid to 3 .\n",
      "\n",
      "[1]  1 30 24  3\n",
      "[1]  1 30 24  5\n",
      "[1]  1 30 24 10\n",
      "[1]  1 30 24 20\n",
      "[1]  1 30 24 30\n",
      "[1]  1 30 24 40\n",
      "[1]  1 30 24 50\n",
      "[1]  1 30 25  0\n",
      "note: only 2 unique complexity parameters in default grid. Truncating the grid to 2 .\n",
      "\n",
      "[1]  1 30 25  1\n",
      "note: only 3 unique complexity parameters in default grid. Truncating the grid to 3 .\n",
      "\n",
      "[1]  1 30 25  3\n",
      "[1]  1 30 25  5\n",
      "[1]  1 30 25 10\n",
      "[1]  1 30 25 20\n",
      "[1]  1 30 25 30\n",
      "[1]  1 30 25 40\n",
      "[1]  1 30 25 50\n",
      "[1]  1 30 26  0\n",
      "note: only 2 unique complexity parameters in default grid. Truncating the grid to 2 .\n",
      "\n",
      "[1]  1 30 26  1\n",
      "note: only 3 unique complexity parameters in default grid. Truncating the grid to 3 .\n",
      "\n",
      "[1]  1 30 26  3\n",
      "[1]  1 30 26  5\n",
      "[1]  1 30 26 10\n",
      "[1]  1 30 26 20\n",
      "[1]  1 30 26 30\n",
      "[1]  1 30 26 40\n",
      "[1]  1 30 26 50\n",
      "[1]  1 30 27  0\n",
      "note: only 2 unique complexity parameters in default grid. Truncating the grid to 2 .\n",
      "\n",
      "[1]  1 30 27  1\n",
      "note: only 3 unique complexity parameters in default grid. Truncating the grid to 3 .\n",
      "\n",
      "[1]  1 30 27  3\n",
      "[1]  1 30 27  5\n",
      "[1]  1 30 27 10\n",
      "[1]  1 30 27 20\n",
      "[1]  1 30 27 30\n",
      "[1]  1 30 27 40\n",
      "[1]  1 30 27 50\n",
      "[1]  1 30 28  0\n",
      "note: only 2 unique complexity parameters in default grid. Truncating the grid to 2 .\n",
      "\n"
     ]
    },
    {
     "name": "stderr",
     "output_type": "stream",
     "text": [
      "Warning message in nominalTrainWorkflow(x = x, y = y, wts = weights, info = trainInfo, :\n",
      "\"There were missing values in resampled performance measures.\"\n"
     ]
    },
    {
     "name": "stdout",
     "output_type": "stream",
     "text": [
      "[1]  1 30 28  1\n",
      "note: only 3 unique complexity parameters in default grid. Truncating the grid to 3 .\n",
      "\n",
      "[1]  1 30 28  3\n",
      "[1]  1 30 28  5\n",
      "[1]  1 30 28 10\n",
      "[1]  1 30 28 20\n",
      "[1]  1 30 28 30\n",
      "[1]  1 30 28 40\n",
      "[1]  1 30 28 50\n",
      "[1]  1 30 29  0\n",
      "note: only 2 unique complexity parameters in default grid. Truncating the grid to 2 .\n",
      "\n",
      "[1]  1 30 29  1\n",
      "note: only 3 unique complexity parameters in default grid. Truncating the grid to 3 .\n",
      "\n",
      "[1]  1 30 29  3\n",
      "[1]  1 30 29  5\n",
      "[1]  1 30 29 10\n",
      "[1]  1 30 29 20\n",
      "[1]  1 30 29 30\n",
      "[1]  1 30 29 40\n",
      "[1]  1 30 29 50\n",
      "[1]  1 30 30  0\n",
      "note: only 2 unique complexity parameters in default grid. Truncating the grid to 2 .\n",
      "\n",
      "[1]  1 30 30  1\n",
      "note: only 3 unique complexity parameters in default grid. Truncating the grid to 3 .\n",
      "\n",
      "[1]  1 30 30  3\n",
      "[1]  1 30 30  5\n",
      "[1]  1 30 30 10\n",
      "[1]  1 30 30 20\n",
      "[1]  1 30 30 30\n",
      "[1]  1 30 30 40\n",
      "[1]  1 30 30 50\n",
      "[1]  1 40  1  0\n",
      "note: only 2 unique complexity parameters in default grid. Truncating the grid to 2 .\n",
      "\n",
      "[1]  1 40  1  1\n",
      "note: only 3 unique complexity parameters in default grid. Truncating the grid to 3 .\n",
      "\n",
      "[1]  1 40  1  3\n",
      "[1]  1 40  1  5\n",
      "[1]  1 40  1 10\n",
      "[1]  1 40  1 20\n",
      "[1]  1 40  1 30\n",
      "[1]  1 40  1 40\n",
      "[1]  1 40  1 50\n",
      "[1]  1 40  2  0\n",
      "note: only 2 unique complexity parameters in default grid. Truncating the grid to 2 .\n",
      "\n",
      "[1]  1 40  2  1\n",
      "note: only 3 unique complexity parameters in default grid. Truncating the grid to 3 .\n",
      "\n",
      "[1]  1 40  2  3\n",
      "[1]  1 40  2  5\n",
      "[1]  1 40  2 10\n",
      "[1]  1 40  2 20\n",
      "[1]  1 40  2 30\n",
      "[1]  1 40  2 40\n",
      "[1]  1 40  2 50\n",
      "[1]  1 40  3  0\n",
      "note: only 2 unique complexity parameters in default grid. Truncating the grid to 2 .\n",
      "\n",
      "[1]  1 40  3  1\n",
      "note: only 3 unique complexity parameters in default grid. Truncating the grid to 3 .\n",
      "\n",
      "[1]  1 40  3  3\n",
      "[1]  1 40  3  5\n",
      "[1]  1 40  3 10\n",
      "[1]  1 40  3 20\n",
      "[1]  1 40  3 30\n",
      "[1]  1 40  3 40\n",
      "[1]  1 40  3 50\n",
      "[1]  1 40  4  0\n",
      "note: only 2 unique complexity parameters in default grid. Truncating the grid to 2 .\n",
      "\n",
      "[1]  1 40  4  1\n",
      "note: only 3 unique complexity parameters in default grid. Truncating the grid to 3 .\n",
      "\n",
      "[1]  1 40  4  3\n",
      "[1]  1 40  4  5\n",
      "[1]  1 40  4 10\n",
      "[1]  1 40  4 20\n",
      "[1]  1 40  4 30\n",
      "[1]  1 40  4 40\n",
      "[1]  1 40  4 50\n",
      "[1]  1 40  5  0\n",
      "note: only 2 unique complexity parameters in default grid. Truncating the grid to 2 .\n",
      "\n",
      "[1]  1 40  5  1\n",
      "note: only 3 unique complexity parameters in default grid. Truncating the grid to 3 .\n",
      "\n",
      "[1]  1 40  5  3\n",
      "[1]  1 40  5  5\n",
      "[1]  1 40  5 10\n",
      "[1]  1 40  5 20\n",
      "[1]  1 40  5 30\n",
      "[1]  1 40  5 40\n",
      "[1]  1 40  5 50\n",
      "[1]  1 40  6  0\n",
      "note: only 2 unique complexity parameters in default grid. Truncating the grid to 2 .\n",
      "\n"
     ]
    },
    {
     "name": "stderr",
     "output_type": "stream",
     "text": [
      "Warning message in nominalTrainWorkflow(x = x, y = y, wts = weights, info = trainInfo, :\n",
      "\"There were missing values in resampled performance measures.\"\n"
     ]
    },
    {
     "name": "stdout",
     "output_type": "stream",
     "text": [
      "[1]  1 40  6  1\n",
      "note: only 3 unique complexity parameters in default grid. Truncating the grid to 3 .\n",
      "\n",
      "[1]  1 40  6  3\n",
      "[1]  1 40  6  5\n",
      "[1]  1 40  6 10\n",
      "[1]  1 40  6 20\n",
      "[1]  1 40  6 30\n",
      "[1]  1 40  6 40\n",
      "[1]  1 40  6 50\n",
      "[1]  1 40  7  0\n",
      "note: only 2 unique complexity parameters in default grid. Truncating the grid to 2 .\n",
      "\n",
      "[1]  1 40  7  1\n",
      "note: only 3 unique complexity parameters in default grid. Truncating the grid to 3 .\n",
      "\n",
      "[1]  1 40  7  3\n",
      "[1]  1 40  7  5\n",
      "[1]  1 40  7 10\n",
      "[1]  1 40  7 20\n",
      "[1]  1 40  7 30\n",
      "[1]  1 40  7 40\n",
      "[1]  1 40  7 50\n",
      "[1]  1 40  8  0\n",
      "note: only 2 unique complexity parameters in default grid. Truncating the grid to 2 .\n",
      "\n",
      "[1]  1 40  8  1\n",
      "note: only 3 unique complexity parameters in default grid. Truncating the grid to 3 .\n",
      "\n",
      "[1]  1 40  8  3\n",
      "[1]  1 40  8  5\n",
      "[1]  1 40  8 10\n",
      "[1]  1 40  8 20\n",
      "[1]  1 40  8 30\n",
      "[1]  1 40  8 40\n",
      "[1]  1 40  8 50\n",
      "[1]  1 40  9  0\n",
      "note: only 2 unique complexity parameters in default grid. Truncating the grid to 2 .\n",
      "\n",
      "[1]  1 40  9  1\n",
      "note: only 3 unique complexity parameters in default grid. Truncating the grid to 3 .\n",
      "\n",
      "[1]  1 40  9  3\n",
      "[1]  1 40  9  5\n",
      "[1]  1 40  9 10\n",
      "[1]  1 40  9 20\n",
      "[1]  1 40  9 30\n",
      "[1]  1 40  9 40\n",
      "[1]  1 40  9 50\n",
      "[1]  1 40 10  0\n",
      "note: only 2 unique complexity parameters in default grid. Truncating the grid to 2 .\n",
      "\n",
      "[1]  1 40 10  1\n",
      "note: only 3 unique complexity parameters in default grid. Truncating the grid to 3 .\n",
      "\n",
      "[1]  1 40 10  3\n",
      "[1]  1 40 10  5\n",
      "[1]  1 40 10 10\n",
      "[1]  1 40 10 20\n",
      "[1]  1 40 10 30\n",
      "[1]  1 40 10 40\n",
      "[1]  1 40 10 50\n",
      "[1]  1 40 11  0\n",
      "note: only 2 unique complexity parameters in default grid. Truncating the grid to 2 .\n",
      "\n",
      "[1]  1 40 11  1\n",
      "note: only 3 unique complexity parameters in default grid. Truncating the grid to 3 .\n",
      "\n",
      "[1]  1 40 11  3\n",
      "[1]  1 40 11  5\n",
      "[1]  1 40 11 10\n",
      "[1]  1 40 11 20\n",
      "[1]  1 40 11 30\n",
      "[1]  1 40 11 40\n",
      "[1]  1 40 11 50\n",
      "[1]  1 40 12  0\n",
      "note: only 2 unique complexity parameters in default grid. Truncating the grid to 2 .\n",
      "\n",
      "[1]  1 40 12  1\n",
      "note: only 3 unique complexity parameters in default grid. Truncating the grid to 3 .\n",
      "\n",
      "[1]  1 40 12  3\n",
      "[1]  1 40 12  5\n",
      "[1]  1 40 12 10\n",
      "[1]  1 40 12 20\n",
      "[1]  1 40 12 30\n",
      "[1]  1 40 12 40\n",
      "[1]  1 40 12 50\n",
      "[1]  1 40 13  0\n",
      "note: only 2 unique complexity parameters in default grid. Truncating the grid to 2 .\n",
      "\n",
      "[1]  1 40 13  1\n",
      "note: only 3 unique complexity parameters in default grid. Truncating the grid to 3 .\n",
      "\n",
      "[1]  1 40 13  3\n",
      "[1]  1 40 13  5\n",
      "[1]  1 40 13 10\n",
      "[1]  1 40 13 20\n",
      "[1]  1 40 13 30\n",
      "[1]  1 40 13 40\n",
      "[1]  1 40 13 50\n",
      "[1]  1 40 14  0\n",
      "note: only 2 unique complexity parameters in default grid. Truncating the grid to 2 .\n",
      "\n",
      "[1]  1 40 14  1\n",
      "note: only 3 unique complexity parameters in default grid. Truncating the grid to 3 .\n",
      "\n",
      "[1]  1 40 14  3\n",
      "[1]  1 40 14  5\n",
      "[1]  1 40 14 10\n",
      "[1]  1 40 14 20\n",
      "[1]  1 40 14 30\n",
      "[1]  1 40 14 40\n",
      "[1]  1 40 14 50\n",
      "[1]  1 40 15  0\n",
      "note: only 2 unique complexity parameters in default grid. Truncating the grid to 2 .\n",
      "\n",
      "[1]  1 40 15  1\n",
      "note: only 3 unique complexity parameters in default grid. Truncating the grid to 3 .\n",
      "\n",
      "[1]  1 40 15  3\n",
      "[1]  1 40 15  5\n",
      "[1]  1 40 15 10\n",
      "[1]  1 40 15 20\n",
      "[1]  1 40 15 30\n",
      "[1]  1 40 15 40\n",
      "[1]  1 40 15 50\n",
      "[1]  1 40 16  0\n",
      "note: only 2 unique complexity parameters in default grid. Truncating the grid to 2 .\n",
      "\n",
      "[1]  1 40 16  1\n",
      "note: only 3 unique complexity parameters in default grid. Truncating the grid to 3 .\n",
      "\n",
      "[1]  1 40 16  3\n",
      "[1]  1 40 16  5\n",
      "[1]  1 40 16 10\n",
      "[1]  1 40 16 20\n",
      "[1]  1 40 16 30\n",
      "[1]  1 40 16 40\n",
      "[1]  1 40 16 50\n",
      "[1]  1 40 17  0\n",
      "note: only 2 unique complexity parameters in default grid. Truncating the grid to 2 .\n",
      "\n",
      "[1]  1 40 17  1\n",
      "note: only 3 unique complexity parameters in default grid. Truncating the grid to 3 .\n",
      "\n",
      "[1]  1 40 17  3\n",
      "[1]  1 40 17  5\n",
      "[1]  1 40 17 10\n",
      "[1]  1 40 17 20\n",
      "[1]  1 40 17 30\n",
      "[1]  1 40 17 40\n",
      "[1]  1 40 17 50\n",
      "[1]  1 40 18  0\n",
      "note: only 2 unique complexity parameters in default grid. Truncating the grid to 2 .\n",
      "\n",
      "[1]  1 40 18  1\n",
      "note: only 3 unique complexity parameters in default grid. Truncating the grid to 3 .\n",
      "\n",
      "[1]  1 40 18  3\n",
      "[1]  1 40 18  5\n",
      "[1]  1 40 18 10\n",
      "[1]  1 40 18 20\n",
      "[1]  1 40 18 30\n",
      "[1]  1 40 18 40\n",
      "[1]  1 40 18 50\n",
      "[1]  1 40 19  0\n",
      "note: only 2 unique complexity parameters in default grid. Truncating the grid to 2 .\n",
      "\n",
      "[1]  1 40 19  1\n",
      "note: only 3 unique complexity parameters in default grid. Truncating the grid to 3 .\n",
      "\n",
      "[1]  1 40 19  3\n",
      "[1]  1 40 19  5\n",
      "[1]  1 40 19 10\n",
      "[1]  1 40 19 20\n",
      "[1]  1 40 19 30\n",
      "[1]  1 40 19 40\n",
      "[1]  1 40 19 50\n",
      "[1]  1 40 20  0\n",
      "note: only 2 unique complexity parameters in default grid. Truncating the grid to 2 .\n",
      "\n",
      "[1]  1 40 20  1\n",
      "note: only 3 unique complexity parameters in default grid. Truncating the grid to 3 .\n",
      "\n",
      "[1]  1 40 20  3\n",
      "[1]  1 40 20  5\n",
      "[1]  1 40 20 10\n",
      "[1]  1 40 20 20\n",
      "[1]  1 40 20 30\n",
      "[1]  1 40 20 40\n",
      "[1]  1 40 20 50\n",
      "[1]  1 40 21  0\n",
      "note: only 2 unique complexity parameters in default grid. Truncating the grid to 2 .\n",
      "\n",
      "[1]  1 40 21  1\n",
      "note: only 3 unique complexity parameters in default grid. Truncating the grid to 3 .\n",
      "\n",
      "[1]  1 40 21  3\n",
      "[1]  1 40 21  5\n",
      "[1]  1 40 21 10\n",
      "[1]  1 40 21 20\n",
      "[1]  1 40 21 30\n",
      "[1]  1 40 21 40\n",
      "[1]  1 40 21 50\n",
      "[1]  1 40 22  0\n",
      "note: only 2 unique complexity parameters in default grid. Truncating the grid to 2 .\n",
      "\n",
      "[1]  1 40 22  1\n",
      "note: only 3 unique complexity parameters in default grid. Truncating the grid to 3 .\n",
      "\n",
      "[1]  1 40 22  3\n",
      "[1]  1 40 22  5\n",
      "[1]  1 40 22 10\n",
      "[1]  1 40 22 20\n",
      "[1]  1 40 22 30\n",
      "[1]  1 40 22 40\n",
      "[1]  1 40 22 50\n",
      "[1]  1 40 23  0\n",
      "note: only 2 unique complexity parameters in default grid. Truncating the grid to 2 .\n",
      "\n",
      "[1]  1 40 23  1\n",
      "note: only 3 unique complexity parameters in default grid. Truncating the grid to 3 .\n",
      "\n",
      "[1]  1 40 23  3\n",
      "[1]  1 40 23  5\n",
      "[1]  1 40 23 10\n",
      "[1]  1 40 23 20\n",
      "[1]  1 40 23 30\n",
      "[1]  1 40 23 40\n",
      "[1]  1 40 23 50\n",
      "[1]  1 40 24  0\n",
      "note: only 2 unique complexity parameters in default grid. Truncating the grid to 2 .\n",
      "\n"
     ]
    },
    {
     "name": "stderr",
     "output_type": "stream",
     "text": [
      "Warning message in nominalTrainWorkflow(x = x, y = y, wts = weights, info = trainInfo, :\n",
      "\"There were missing values in resampled performance measures.\"\n"
     ]
    },
    {
     "name": "stdout",
     "output_type": "stream",
     "text": [
      "[1]  1 40 24  1\n",
      "note: only 3 unique complexity parameters in default grid. Truncating the grid to 3 .\n",
      "\n",
      "[1]  1 40 24  3\n",
      "[1]  1 40 24  5\n",
      "[1]  1 40 24 10\n",
      "[1]  1 40 24 20\n",
      "[1]  1 40 24 30\n",
      "[1]  1 40 24 40\n",
      "[1]  1 40 24 50\n",
      "[1]  1 40 25  0\n",
      "note: only 2 unique complexity parameters in default grid. Truncating the grid to 2 .\n",
      "\n",
      "[1]  1 40 25  1\n",
      "note: only 3 unique complexity parameters in default grid. Truncating the grid to 3 .\n",
      "\n",
      "[1]  1 40 25  3\n",
      "[1]  1 40 25  5\n",
      "[1]  1 40 25 10\n",
      "[1]  1 40 25 20\n",
      "[1]  1 40 25 30\n",
      "[1]  1 40 25 40\n",
      "[1]  1 40 25 50\n",
      "[1]  1 40 26  0\n",
      "note: only 2 unique complexity parameters in default grid. Truncating the grid to 2 .\n",
      "\n",
      "[1]  1 40 26  1\n",
      "note: only 3 unique complexity parameters in default grid. Truncating the grid to 3 .\n",
      "\n",
      "[1]  1 40 26  3\n",
      "[1]  1 40 26  5\n",
      "[1]  1 40 26 10\n",
      "[1]  1 40 26 20\n",
      "[1]  1 40 26 30\n",
      "[1]  1 40 26 40\n",
      "[1]  1 40 26 50\n",
      "[1]  1 40 27  0\n",
      "note: only 2 unique complexity parameters in default grid. Truncating the grid to 2 .\n",
      "\n",
      "[1]  1 40 27  1\n",
      "note: only 3 unique complexity parameters in default grid. Truncating the grid to 3 .\n",
      "\n",
      "[1]  1 40 27  3\n",
      "[1]  1 40 27  5\n",
      "[1]  1 40 27 10\n",
      "[1]  1 40 27 20\n",
      "[1]  1 40 27 30\n",
      "[1]  1 40 27 40\n",
      "[1]  1 40 27 50\n",
      "[1]  1 40 28  0\n",
      "note: only 2 unique complexity parameters in default grid. Truncating the grid to 2 .\n",
      "\n",
      "[1]  1 40 28  1\n",
      "note: only 3 unique complexity parameters in default grid. Truncating the grid to 3 .\n",
      "\n",
      "[1]  1 40 28  3\n",
      "[1]  1 40 28  5\n",
      "[1]  1 40 28 10\n",
      "[1]  1 40 28 20\n",
      "[1]  1 40 28 30\n",
      "[1]  1 40 28 40\n",
      "[1]  1 40 28 50\n",
      "[1]  1 40 29  0\n",
      "note: only 2 unique complexity parameters in default grid. Truncating the grid to 2 .\n",
      "\n",
      "[1]  1 40 29  1\n",
      "note: only 3 unique complexity parameters in default grid. Truncating the grid to 3 .\n",
      "\n",
      "[1]  1 40 29  3\n",
      "[1]  1 40 29  5\n",
      "[1]  1 40 29 10\n",
      "[1]  1 40 29 20\n",
      "[1]  1 40 29 30\n",
      "[1]  1 40 29 40\n",
      "[1]  1 40 29 50\n",
      "[1]  1 40 30  0\n",
      "note: only 2 unique complexity parameters in default grid. Truncating the grid to 2 .\n",
      "\n",
      "[1]  1 40 30  1\n",
      "note: only 3 unique complexity parameters in default grid. Truncating the grid to 3 .\n",
      "\n",
      "[1]  1 40 30  3\n",
      "[1]  1 40 30  5\n",
      "[1]  1 40 30 10\n",
      "[1]  1 40 30 20\n",
      "[1]  1 40 30 30\n",
      "[1]  1 40 30 40\n",
      "[1]  1 40 30 50\n",
      "[1]  1 50  1  0\n",
      "note: only 2 unique complexity parameters in default grid. Truncating the grid to 2 .\n",
      "\n",
      "[1]  1 50  1  1\n",
      "note: only 3 unique complexity parameters in default grid. Truncating the grid to 3 .\n",
      "\n",
      "[1]  1 50  1  3\n",
      "[1]  1 50  1  5\n",
      "[1]  1 50  1 10\n",
      "[1]  1 50  1 20\n",
      "[1]  1 50  1 30\n",
      "[1]  1 50  1 40\n",
      "[1]  1 50  1 50\n",
      "[1]  1 50  2  0\n",
      "note: only 2 unique complexity parameters in default grid. Truncating the grid to 2 .\n",
      "\n",
      "[1]  1 50  2  1\n",
      "note: only 3 unique complexity parameters in default grid. Truncating the grid to 3 .\n",
      "\n",
      "[1]  1 50  2  3\n",
      "[1]  1 50  2  5\n",
      "[1]  1 50  2 10\n",
      "[1]  1 50  2 20\n",
      "[1]  1 50  2 30\n",
      "[1]  1 50  2 40\n",
      "[1]  1 50  2 50\n",
      "[1]  1 50  3  0\n",
      "note: only 2 unique complexity parameters in default grid. Truncating the grid to 2 .\n",
      "\n"
     ]
    },
    {
     "name": "stderr",
     "output_type": "stream",
     "text": [
      "Warning message in nominalTrainWorkflow(x = x, y = y, wts = weights, info = trainInfo, :\n",
      "\"There were missing values in resampled performance measures.\"\n"
     ]
    },
    {
     "name": "stdout",
     "output_type": "stream",
     "text": [
      "[1]  1 50  3  1\n",
      "note: only 3 unique complexity parameters in default grid. Truncating the grid to 3 .\n",
      "\n",
      "[1]  1 50  3  3\n",
      "[1]  1 50  3  5\n",
      "[1]  1 50  3 10\n",
      "[1]  1 50  3 20\n",
      "[1]  1 50  3 30\n",
      "[1]  1 50  3 40\n",
      "[1]  1 50  3 50\n",
      "[1]  1 50  4  0\n",
      "note: only 2 unique complexity parameters in default grid. Truncating the grid to 2 .\n",
      "\n",
      "[1]  1 50  4  1\n",
      "note: only 3 unique complexity parameters in default grid. Truncating the grid to 3 .\n",
      "\n",
      "[1]  1 50  4  3\n",
      "[1]  1 50  4  5\n",
      "[1]  1 50  4 10\n",
      "[1]  1 50  4 20\n",
      "[1]  1 50  4 30\n",
      "[1]  1 50  4 40\n",
      "[1]  1 50  4 50\n",
      "[1]  1 50  5  0\n",
      "note: only 2 unique complexity parameters in default grid. Truncating the grid to 2 .\n",
      "\n",
      "[1]  1 50  5  1\n",
      "note: only 3 unique complexity parameters in default grid. Truncating the grid to 3 .\n",
      "\n",
      "[1]  1 50  5  3\n",
      "[1]  1 50  5  5\n",
      "[1]  1 50  5 10\n",
      "[1]  1 50  5 20\n",
      "[1]  1 50  5 30\n",
      "[1]  1 50  5 40\n",
      "[1]  1 50  5 50\n",
      "[1]  1 50  6  0\n",
      "note: only 2 unique complexity parameters in default grid. Truncating the grid to 2 .\n",
      "\n",
      "[1]  1 50  6  1\n",
      "note: only 3 unique complexity parameters in default grid. Truncating the grid to 3 .\n",
      "\n",
      "[1]  1 50  6  3\n",
      "[1]  1 50  6  5\n",
      "[1]  1 50  6 10\n",
      "[1]  1 50  6 20\n",
      "[1]  1 50  6 30\n",
      "[1]  1 50  6 40\n",
      "[1]  1 50  6 50\n",
      "[1]  1 50  7  0\n",
      "note: only 2 unique complexity parameters in default grid. Truncating the grid to 2 .\n",
      "\n",
      "[1]  1 50  7  1\n",
      "note: only 3 unique complexity parameters in default grid. Truncating the grid to 3 .\n",
      "\n",
      "[1]  1 50  7  3\n",
      "[1]  1 50  7  5\n",
      "[1]  1 50  7 10\n",
      "[1]  1 50  7 20\n",
      "[1]  1 50  7 30\n",
      "[1]  1 50  7 40\n",
      "[1]  1 50  7 50\n",
      "[1]  1 50  8  0\n",
      "note: only 2 unique complexity parameters in default grid. Truncating the grid to 2 .\n",
      "\n",
      "[1]  1 50  8  1\n",
      "note: only 3 unique complexity parameters in default grid. Truncating the grid to 3 .\n",
      "\n",
      "[1]  1 50  8  3\n",
      "[1]  1 50  8  5\n",
      "[1]  1 50  8 10\n",
      "[1]  1 50  8 20\n",
      "[1]  1 50  8 30\n",
      "[1]  1 50  8 40\n",
      "[1]  1 50  8 50\n",
      "[1]  1 50  9  0\n",
      "note: only 2 unique complexity parameters in default grid. Truncating the grid to 2 .\n",
      "\n",
      "[1]  1 50  9  1\n",
      "note: only 3 unique complexity parameters in default grid. Truncating the grid to 3 .\n",
      "\n",
      "[1]  1 50  9  3\n",
      "[1]  1 50  9  5\n",
      "[1]  1 50  9 10\n",
      "[1]  1 50  9 20\n",
      "[1]  1 50  9 30\n",
      "[1]  1 50  9 40\n",
      "[1]  1 50  9 50\n",
      "[1]  1 50 10  0\n",
      "note: only 2 unique complexity parameters in default grid. Truncating the grid to 2 .\n",
      "\n",
      "[1]  1 50 10  1\n",
      "note: only 3 unique complexity parameters in default grid. Truncating the grid to 3 .\n",
      "\n",
      "[1]  1 50 10  3\n",
      "[1]  1 50 10  5\n",
      "[1]  1 50 10 10\n",
      "[1]  1 50 10 20\n",
      "[1]  1 50 10 30\n",
      "[1]  1 50 10 40\n",
      "[1]  1 50 10 50\n",
      "[1]  1 50 11  0\n",
      "note: only 2 unique complexity parameters in default grid. Truncating the grid to 2 .\n",
      "\n",
      "[1]  1 50 11  1\n",
      "note: only 3 unique complexity parameters in default grid. Truncating the grid to 3 .\n",
      "\n",
      "[1]  1 50 11  3\n",
      "[1]  1 50 11  5\n",
      "[1]  1 50 11 10\n",
      "[1]  1 50 11 20\n",
      "[1]  1 50 11 30\n",
      "[1]  1 50 11 40\n",
      "[1]  1 50 11 50\n",
      "[1]  1 50 12  0\n",
      "note: only 2 unique complexity parameters in default grid. Truncating the grid to 2 .\n",
      "\n",
      "[1]  1 50 12  1\n",
      "note: only 3 unique complexity parameters in default grid. Truncating the grid to 3 .\n",
      "\n",
      "[1]  1 50 12  3\n",
      "[1]  1 50 12  5\n",
      "[1]  1 50 12 10\n",
      "[1]  1 50 12 20\n",
      "[1]  1 50 12 30\n",
      "[1]  1 50 12 40\n",
      "[1]  1 50 12 50\n",
      "[1]  1 50 13  0\n",
      "note: only 2 unique complexity parameters in default grid. Truncating the grid to 2 .\n",
      "\n",
      "[1]  1 50 13  1\n",
      "note: only 3 unique complexity parameters in default grid. Truncating the grid to 3 .\n",
      "\n",
      "[1]  1 50 13  3\n",
      "[1]  1 50 13  5\n",
      "[1]  1 50 13 10\n",
      "[1]  1 50 13 20\n",
      "[1]  1 50 13 30\n",
      "[1]  1 50 13 40\n",
      "[1]  1 50 13 50\n",
      "[1]  1 50 14  0\n",
      "note: only 2 unique complexity parameters in default grid. Truncating the grid to 2 .\n",
      "\n",
      "[1]  1 50 14  1\n",
      "note: only 3 unique complexity parameters in default grid. Truncating the grid to 3 .\n",
      "\n",
      "[1]  1 50 14  3\n",
      "[1]  1 50 14  5\n",
      "[1]  1 50 14 10\n",
      "[1]  1 50 14 20\n",
      "[1]  1 50 14 30\n",
      "[1]  1 50 14 40\n",
      "[1]  1 50 14 50\n",
      "[1]  1 50 15  0\n",
      "note: only 2 unique complexity parameters in default grid. Truncating the grid to 2 .\n",
      "\n",
      "[1]  1 50 15  1\n",
      "note: only 3 unique complexity parameters in default grid. Truncating the grid to 3 .\n",
      "\n",
      "[1]  1 50 15  3\n",
      "[1]  1 50 15  5\n",
      "[1]  1 50 15 10\n",
      "[1]  1 50 15 20\n",
      "[1]  1 50 15 30\n",
      "[1]  1 50 15 40\n",
      "[1]  1 50 15 50\n",
      "[1]  1 50 16  0\n",
      "note: only 2 unique complexity parameters in default grid. Truncating the grid to 2 .\n",
      "\n",
      "[1]  1 50 16  1\n",
      "note: only 3 unique complexity parameters in default grid. Truncating the grid to 3 .\n",
      "\n",
      "[1]  1 50 16  3\n",
      "[1]  1 50 16  5\n",
      "[1]  1 50 16 10\n",
      "[1]  1 50 16 20\n",
      "[1]  1 50 16 30\n",
      "[1]  1 50 16 40\n",
      "[1]  1 50 16 50\n",
      "[1]  1 50 17  0\n",
      "note: only 2 unique complexity parameters in default grid. Truncating the grid to 2 .\n",
      "\n",
      "[1]  1 50 17  1\n",
      "note: only 3 unique complexity parameters in default grid. Truncating the grid to 3 .\n",
      "\n",
      "[1]  1 50 17  3\n",
      "[1]  1 50 17  5\n",
      "[1]  1 50 17 10\n",
      "[1]  1 50 17 20\n",
      "[1]  1 50 17 30\n",
      "[1]  1 50 17 40\n",
      "[1]  1 50 17 50\n",
      "[1]  1 50 18  0\n",
      "note: only 2 unique complexity parameters in default grid. Truncating the grid to 2 .\n",
      "\n",
      "[1]  1 50 18  1\n",
      "note: only 3 unique complexity parameters in default grid. Truncating the grid to 3 .\n",
      "\n",
      "[1]  1 50 18  3\n",
      "[1]  1 50 18  5\n",
      "[1]  1 50 18 10\n",
      "[1]  1 50 18 20\n",
      "[1]  1 50 18 30\n",
      "[1]  1 50 18 40\n",
      "[1]  1 50 18 50\n",
      "[1]  1 50 19  0\n",
      "note: only 2 unique complexity parameters in default grid. Truncating the grid to 2 .\n",
      "\n",
      "[1]  1 50 19  1\n",
      "note: only 3 unique complexity parameters in default grid. Truncating the grid to 3 .\n",
      "\n",
      "[1]  1 50 19  3\n",
      "[1]  1 50 19  5\n",
      "[1]  1 50 19 10\n",
      "[1]  1 50 19 20\n",
      "[1]  1 50 19 30\n",
      "[1]  1 50 19 40\n",
      "[1]  1 50 19 50\n",
      "[1]  1 50 20  0\n",
      "note: only 2 unique complexity parameters in default grid. Truncating the grid to 2 .\n",
      "\n",
      "[1]  1 50 20  1\n",
      "note: only 3 unique complexity parameters in default grid. Truncating the grid to 3 .\n",
      "\n",
      "[1]  1 50 20  3\n",
      "[1]  1 50 20  5\n",
      "[1]  1 50 20 10\n",
      "[1]  1 50 20 20\n",
      "[1]  1 50 20 30\n",
      "[1]  1 50 20 40\n",
      "[1]  1 50 20 50\n",
      "[1]  1 50 21  0\n",
      "note: only 2 unique complexity parameters in default grid. Truncating the grid to 2 .\n",
      "\n",
      "[1]  1 50 21  1\n",
      "note: only 3 unique complexity parameters in default grid. Truncating the grid to 3 .\n",
      "\n",
      "[1]  1 50 21  3\n",
      "[1]  1 50 21  5\n",
      "[1]  1 50 21 10\n",
      "[1]  1 50 21 20\n",
      "[1]  1 50 21 30\n",
      "[1]  1 50 21 40\n",
      "[1]  1 50 21 50\n",
      "[1]  1 50 22  0\n",
      "note: only 2 unique complexity parameters in default grid. Truncating the grid to 2 .\n",
      "\n",
      "[1]  1 50 22  1\n",
      "note: only 3 unique complexity parameters in default grid. Truncating the grid to 3 .\n",
      "\n",
      "[1]  1 50 22  3\n",
      "[1]  1 50 22  5\n",
      "[1]  1 50 22 10\n",
      "[1]  1 50 22 20\n",
      "[1]  1 50 22 30\n",
      "[1]  1 50 22 40\n",
      "[1]  1 50 22 50\n",
      "[1]  1 50 23  0\n",
      "note: only 2 unique complexity parameters in default grid. Truncating the grid to 2 .\n",
      "\n",
      "[1]  1 50 23  1\n",
      "note: only 3 unique complexity parameters in default grid. Truncating the grid to 3 .\n",
      "\n",
      "[1]  1 50 23  3\n",
      "[1]  1 50 23  5\n",
      "[1]  1 50 23 10\n",
      "[1]  1 50 23 20\n",
      "[1]  1 50 23 30\n",
      "[1]  1 50 23 40\n",
      "[1]  1 50 23 50\n",
      "[1]  1 50 24  0\n",
      "note: only 2 unique complexity parameters in default grid. Truncating the grid to 2 .\n",
      "\n",
      "[1]  1 50 24  1\n",
      "note: only 3 unique complexity parameters in default grid. Truncating the grid to 3 .\n",
      "\n",
      "[1]  1 50 24  3\n",
      "[1]  1 50 24  5\n",
      "[1]  1 50 24 10\n",
      "[1]  1 50 24 20\n",
      "[1]  1 50 24 30\n",
      "[1]  1 50 24 40\n",
      "[1]  1 50 24 50\n",
      "[1]  1 50 25  0\n",
      "note: only 2 unique complexity parameters in default grid. Truncating the grid to 2 .\n",
      "\n",
      "[1]  1 50 25  1\n",
      "note: only 3 unique complexity parameters in default grid. Truncating the grid to 3 .\n",
      "\n",
      "[1]  1 50 25  3\n",
      "[1]  1 50 25  5\n",
      "[1]  1 50 25 10\n",
      "[1]  1 50 25 20\n",
      "[1]  1 50 25 30\n",
      "[1]  1 50 25 40\n",
      "[1]  1 50 25 50\n",
      "[1]  1 50 26  0\n",
      "note: only 2 unique complexity parameters in default grid. Truncating the grid to 2 .\n",
      "\n",
      "[1]  1 50 26  1\n",
      "note: only 3 unique complexity parameters in default grid. Truncating the grid to 3 .\n",
      "\n",
      "[1]  1 50 26  3\n",
      "[1]  1 50 26  5\n",
      "[1]  1 50 26 10\n",
      "[1]  1 50 26 20\n",
      "[1]  1 50 26 30\n",
      "[1]  1 50 26 40\n",
      "[1]  1 50 26 50\n",
      "[1]  1 50 27  0\n",
      "note: only 2 unique complexity parameters in default grid. Truncating the grid to 2 .\n",
      "\n",
      "[1]  1 50 27  1\n",
      "note: only 3 unique complexity parameters in default grid. Truncating the grid to 3 .\n",
      "\n",
      "[1]  1 50 27  3\n",
      "[1]  1 50 27  5\n",
      "[1]  1 50 27 10\n",
      "[1]  1 50 27 20\n",
      "[1]  1 50 27 30\n",
      "[1]  1 50 27 40\n",
      "[1]  1 50 27 50\n",
      "[1]  1 50 28  0\n",
      "note: only 2 unique complexity parameters in default grid. Truncating the grid to 2 .\n",
      "\n",
      "[1]  1 50 28  1\n",
      "note: only 3 unique complexity parameters in default grid. Truncating the grid to 3 .\n",
      "\n",
      "[1]  1 50 28  3\n",
      "[1]  1 50 28  5\n",
      "[1]  1 50 28 10\n",
      "[1]  1 50 28 20\n",
      "[1]  1 50 28 30\n",
      "[1]  1 50 28 40\n",
      "[1]  1 50 28 50\n",
      "[1]  1 50 29  0\n",
      "note: only 2 unique complexity parameters in default grid. Truncating the grid to 2 .\n",
      "\n",
      "[1]  1 50 29  1\n",
      "note: only 3 unique complexity parameters in default grid. Truncating the grid to 3 .\n",
      "\n",
      "[1]  1 50 29  3\n",
      "[1]  1 50 29  5\n",
      "[1]  1 50 29 10\n",
      "[1]  1 50 29 20\n",
      "[1]  1 50 29 30\n",
      "[1]  1 50 29 40\n",
      "[1]  1 50 29 50\n",
      "[1]  1 50 30  0\n",
      "note: only 2 unique complexity parameters in default grid. Truncating the grid to 2 .\n",
      "\n",
      "[1]  1 50 30  1\n",
      "note: only 3 unique complexity parameters in default grid. Truncating the grid to 3 .\n",
      "\n",
      "[1]  1 50 30  3\n",
      "[1]  1 50 30  5\n",
      "[1]  1 50 30 10\n",
      "[1]  1 50 30 20\n",
      "[1]  1 50 30 30\n",
      "[1]  1 50 30 40\n",
      "[1]  1 50 30 50\n",
      "[1]  2 10  1  0\n",
      "note: only 2 unique complexity parameters in default grid. Truncating the grid to 2 .\n",
      "\n",
      "[1]  2 10  1  1\n",
      "note: only 3 unique complexity parameters in default grid. Truncating the grid to 3 .\n",
      "\n",
      "[1]  2 10  1  3\n",
      "[1]  2 10  1  5\n",
      "[1]  2 10  1 10\n",
      "[1]  2 10  1 20\n",
      "[1]  2 10  1 30\n",
      "[1]  2 10  1 40\n",
      "[1]  2 10  1 50\n",
      "[1]  2 10  2  0\n",
      "note: only 2 unique complexity parameters in default grid. Truncating the grid to 2 .\n",
      "\n",
      "[1]  2 10  2  1\n",
      "note: only 3 unique complexity parameters in default grid. Truncating the grid to 3 .\n",
      "\n"
     ]
    },
    {
     "name": "stderr",
     "output_type": "stream",
     "text": [
      "Warning message in nominalTrainWorkflow(x = x, y = y, wts = weights, info = trainInfo, :\n",
      "\"There were missing values in resampled performance measures.\"\n"
     ]
    },
    {
     "name": "stdout",
     "output_type": "stream",
     "text": [
      "[1]  2 10  2  3\n"
     ]
    },
    {
     "name": "stderr",
     "output_type": "stream",
     "text": [
      "Warning message in nominalTrainWorkflow(x = x, y = y, wts = weights, info = trainInfo, :\n",
      "\"There were missing values in resampled performance measures.\"\n"
     ]
    },
    {
     "name": "stdout",
     "output_type": "stream",
     "text": [
      "[1]  2 10  2  5\n",
      "[1]  2 10  2 10\n",
      "[1]  2 10  2 20\n",
      "[1]  2 10  2 30\n",
      "[1]  2 10  2 40\n",
      "[1]  2 10  2 50\n",
      "[1]  2 10  3  0\n",
      "note: only 2 unique complexity parameters in default grid. Truncating the grid to 2 .\n",
      "\n",
      "[1]  2 10  3  1\n",
      "note: only 3 unique complexity parameters in default grid. Truncating the grid to 3 .\n",
      "\n",
      "[1]  2 10  3  3\n",
      "[1]  2 10  3  5\n",
      "[1]  2 10  3 10\n",
      "[1]  2 10  3 20\n",
      "[1]  2 10  3 30\n",
      "[1]  2 10  3 40\n",
      "[1]  2 10  3 50\n",
      "[1]  2 10  4  0\n",
      "note: only 2 unique complexity parameters in default grid. Truncating the grid to 2 .\n",
      "\n",
      "[1]  2 10  4  1\n",
      "note: only 3 unique complexity parameters in default grid. Truncating the grid to 3 .\n",
      "\n",
      "[1]  2 10  4  3\n",
      "[1]  2 10  4  5\n",
      "[1]  2 10  4 10\n",
      "[1]  2 10  4 20\n",
      "[1]  2 10  4 30\n",
      "[1]  2 10  4 40\n",
      "[1]  2 10  4 50\n",
      "[1]  2 10  5  0\n",
      "note: only 2 unique complexity parameters in default grid. Truncating the grid to 2 .\n",
      "\n",
      "[1]  2 10  5  1\n",
      "note: only 3 unique complexity parameters in default grid. Truncating the grid to 3 .\n",
      "\n",
      "[1]  2 10  5  3\n",
      "[1]  2 10  5  5\n",
      "[1]  2 10  5 10\n",
      "[1]  2 10  5 20\n",
      "[1]  2 10  5 30\n",
      "[1]  2 10  5 40\n",
      "[1]  2 10  5 50\n",
      "[1]  2 10  6  0\n",
      "note: only 2 unique complexity parameters in default grid. Truncating the grid to 2 .\n",
      "\n",
      "[1]  2 10  6  1\n",
      "note: only 3 unique complexity parameters in default grid. Truncating the grid to 3 .\n",
      "\n",
      "[1]  2 10  6  3\n",
      "[1]  2 10  6  5\n",
      "[1]  2 10  6 10\n",
      "[1]  2 10  6 20\n",
      "[1]  2 10  6 30\n",
      "[1]  2 10  6 40\n",
      "[1]  2 10  6 50\n",
      "[1]  2 10  7  0\n",
      "note: only 2 unique complexity parameters in default grid. Truncating the grid to 2 .\n",
      "\n",
      "[1]  2 10  7  1\n",
      "note: only 3 unique complexity parameters in default grid. Truncating the grid to 3 .\n",
      "\n",
      "[1]  2 10  7  3\n",
      "[1]  2 10  7  5\n",
      "[1]  2 10  7 10\n",
      "[1]  2 10  7 20\n",
      "[1]  2 10  7 30\n",
      "[1]  2 10  7 40\n",
      "[1]  2 10  7 50\n"
     ]
    },
    {
     "name": "stderr",
     "output_type": "stream",
     "text": [
      "Warning message in nominalTrainWorkflow(x = x, y = y, wts = weights, info = trainInfo, :\n",
      "\"There were missing values in resampled performance measures.\"\n"
     ]
    },
    {
     "name": "stdout",
     "output_type": "stream",
     "text": [
      "[1]  2 10  8  0\n",
      "note: only 2 unique complexity parameters in default grid. Truncating the grid to 2 .\n",
      "\n",
      "[1]  2 10  8  1\n",
      "note: only 3 unique complexity parameters in default grid. Truncating the grid to 3 .\n",
      "\n",
      "[1]  2 10  8  3\n",
      "[1]  2 10  8  5\n",
      "[1]  2 10  8 10\n",
      "[1]  2 10  8 20\n",
      "[1]  2 10  8 30\n",
      "[1]  2 10  8 40\n",
      "[1]  2 10  8 50\n",
      "[1]  2 10  9  0\n",
      "note: only 2 unique complexity parameters in default grid. Truncating the grid to 2 .\n",
      "\n",
      "[1]  2 10  9  1\n",
      "note: only 3 unique complexity parameters in default grid. Truncating the grid to 3 .\n",
      "\n",
      "[1]  2 10  9  3\n",
      "[1]  2 10  9  5\n",
      "[1]  2 10  9 10\n",
      "[1]  2 10  9 20\n",
      "[1]  2 10  9 30\n",
      "[1]  2 10  9 40\n",
      "[1]  2 10  9 50\n",
      "[1]  2 10 10  0\n",
      "note: only 2 unique complexity parameters in default grid. Truncating the grid to 2 .\n",
      "\n",
      "[1]  2 10 10  1\n",
      "note: only 3 unique complexity parameters in default grid. Truncating the grid to 3 .\n",
      "\n",
      "[1]  2 10 10  3\n",
      "[1]  2 10 10  5\n",
      "[1]  2 10 10 10\n",
      "[1]  2 10 10 20\n",
      "[1]  2 10 10 30\n",
      "[1]  2 10 10 40\n",
      "[1]  2 10 10 50\n",
      "[1]  2 10 11  0\n",
      "note: only 2 unique complexity parameters in default grid. Truncating the grid to 2 .\n",
      "\n",
      "[1]  2 10 11  1\n",
      "note: only 3 unique complexity parameters in default grid. Truncating the grid to 3 .\n",
      "\n",
      "[1]  2 10 11  3\n",
      "[1]  2 10 11  5\n",
      "[1]  2 10 11 10\n",
      "[1]  2 10 11 20\n",
      "[1]  2 10 11 30\n",
      "[1]  2 10 11 40\n",
      "[1]  2 10 11 50\n",
      "[1]  2 10 12  0\n",
      "note: only 2 unique complexity parameters in default grid. Truncating the grid to 2 .\n",
      "\n",
      "[1]  2 10 12  1\n",
      "note: only 3 unique complexity parameters in default grid. Truncating the grid to 3 .\n",
      "\n",
      "[1]  2 10 12  3\n",
      "[1]  2 10 12  5\n",
      "[1]  2 10 12 10\n",
      "[1]  2 10 12 20\n",
      "[1]  2 10 12 30\n",
      "[1]  2 10 12 40\n",
      "[1]  2 10 12 50\n",
      "[1]  2 10 13  0\n",
      "note: only 2 unique complexity parameters in default grid. Truncating the grid to 2 .\n",
      "\n",
      "[1]  2 10 13  1\n",
      "note: only 3 unique complexity parameters in default grid. Truncating the grid to 3 .\n",
      "\n",
      "[1]  2 10 13  3\n",
      "[1]  2 10 13  5\n",
      "[1]  2 10 13 10\n",
      "[1]  2 10 13 20\n",
      "[1]  2 10 13 30\n",
      "[1]  2 10 13 40\n",
      "[1]  2 10 13 50\n",
      "[1]  2 10 14  0\n",
      "note: only 2 unique complexity parameters in default grid. Truncating the grid to 2 .\n",
      "\n",
      "[1]  2 10 14  1\n",
      "note: only 3 unique complexity parameters in default grid. Truncating the grid to 3 .\n",
      "\n",
      "[1]  2 10 14  3\n",
      "[1]  2 10 14  5\n",
      "[1]  2 10 14 10\n",
      "[1]  2 10 14 20\n",
      "[1]  2 10 14 30\n",
      "[1]  2 10 14 40\n",
      "[1]  2 10 14 50\n",
      "[1]  2 10 15  0\n",
      "note: only 2 unique complexity parameters in default grid. Truncating the grid to 2 .\n",
      "\n",
      "[1]  2 10 15  1\n",
      "note: only 3 unique complexity parameters in default grid. Truncating the grid to 3 .\n",
      "\n",
      "[1]  2 10 15  3\n",
      "[1]  2 10 15  5\n",
      "[1]  2 10 15 10\n",
      "[1]  2 10 15 20\n",
      "[1]  2 10 15 30\n",
      "[1]  2 10 15 40\n",
      "[1]  2 10 15 50\n",
      "[1]  2 10 16  0\n",
      "note: only 2 unique complexity parameters in default grid. Truncating the grid to 2 .\n",
      "\n",
      "[1]  2 10 16  1\n",
      "note: only 3 unique complexity parameters in default grid. Truncating the grid to 3 .\n",
      "\n",
      "[1]  2 10 16  3\n",
      "[1]  2 10 16  5\n",
      "[1]  2 10 16 10\n",
      "[1]  2 10 16 20\n",
      "[1]  2 10 16 30\n",
      "[1]  2 10 16 40\n",
      "[1]  2 10 16 50\n",
      "[1]  2 10 17  0\n",
      "note: only 2 unique complexity parameters in default grid. Truncating the grid to 2 .\n",
      "\n",
      "[1]  2 10 17  1\n",
      "note: only 3 unique complexity parameters in default grid. Truncating the grid to 3 .\n",
      "\n",
      "[1]  2 10 17  3\n",
      "[1]  2 10 17  5\n",
      "[1]  2 10 17 10\n",
      "[1]  2 10 17 20\n",
      "[1]  2 10 17 30\n",
      "[1]  2 10 17 40\n"
     ]
    },
    {
     "name": "stderr",
     "output_type": "stream",
     "text": [
      "Warning message in nominalTrainWorkflow(x = x, y = y, wts = weights, info = trainInfo, :\n",
      "\"There were missing values in resampled performance measures.\"\n"
     ]
    },
    {
     "name": "stdout",
     "output_type": "stream",
     "text": [
      "[1]  2 10 17 50\n",
      "[1]  2 10 18  0\n",
      "note: only 2 unique complexity parameters in default grid. Truncating the grid to 2 .\n",
      "\n",
      "[1]  2 10 18  1\n",
      "note: only 3 unique complexity parameters in default grid. Truncating the grid to 3 .\n",
      "\n",
      "[1]  2 10 18  3\n",
      "[1]  2 10 18  5\n",
      "[1]  2 10 18 10\n",
      "[1]  2 10 18 20\n",
      "[1]  2 10 18 30\n",
      "[1]  2 10 18 40\n",
      "[1]  2 10 18 50\n",
      "[1]  2 10 19  0\n",
      "note: only 2 unique complexity parameters in default grid. Truncating the grid to 2 .\n",
      "\n"
     ]
    },
    {
     "name": "stderr",
     "output_type": "stream",
     "text": [
      "Warning message in nominalTrainWorkflow(x = x, y = y, wts = weights, info = trainInfo, :\n",
      "\"There were missing values in resampled performance measures.\"\n"
     ]
    },
    {
     "name": "stdout",
     "output_type": "stream",
     "text": [
      "[1]  2 10 19  1\n",
      "note: only 3 unique complexity parameters in default grid. Truncating the grid to 3 .\n",
      "\n",
      "[1]  2 10 19  3\n"
     ]
    },
    {
     "name": "stderr",
     "output_type": "stream",
     "text": [
      "Warning message in nominalTrainWorkflow(x = x, y = y, wts = weights, info = trainInfo, :\n",
      "\"There were missing values in resampled performance measures.\"\n"
     ]
    },
    {
     "name": "stdout",
     "output_type": "stream",
     "text": [
      "[1]  2 10 19  5\n",
      "[1]  2 10 19 10\n",
      "[1]  2 10 19 20\n"
     ]
    },
    {
     "name": "stderr",
     "output_type": "stream",
     "text": [
      "Warning message in nominalTrainWorkflow(x = x, y = y, wts = weights, info = trainInfo, :\n",
      "\"There were missing values in resampled performance measures.\"\n"
     ]
    },
    {
     "name": "stdout",
     "output_type": "stream",
     "text": [
      "[1]  2 10 19 30\n",
      "[1]  2 10 19 40\n"
     ]
    },
    {
     "name": "stderr",
     "output_type": "stream",
     "text": [
      "Warning message in nominalTrainWorkflow(x = x, y = y, wts = weights, info = trainInfo, :\n",
      "\"There were missing values in resampled performance measures.\"\n"
     ]
    },
    {
     "name": "stdout",
     "output_type": "stream",
     "text": [
      "[1]  2 10 19 50\n"
     ]
    },
    {
     "name": "stderr",
     "output_type": "stream",
     "text": [
      "Warning message in nominalTrainWorkflow(x = x, y = y, wts = weights, info = trainInfo, :\n",
      "\"There were missing values in resampled performance measures.\"\n"
     ]
    },
    {
     "name": "stdout",
     "output_type": "stream",
     "text": [
      "[1]  2 10 20  0\n",
      "note: only 2 unique complexity parameters in default grid. Truncating the grid to 2 .\n",
      "\n",
      "[1]  2 10 20  1\n",
      "note: only 3 unique complexity parameters in default grid. Truncating the grid to 3 .\n",
      "\n",
      "[1]  2 10 20  3\n",
      "[1]  2 10 20  5\n",
      "[1]  2 10 20 10\n",
      "[1]  2 10 20 20\n",
      "[1]  2 10 20 30\n",
      "[1]  2 10 20 40\n",
      "[1]  2 10 20 50\n",
      "[1]  2 10 21  0\n",
      "note: only 2 unique complexity parameters in default grid. Truncating the grid to 2 .\n",
      "\n",
      "[1]  2 10 21  1\n",
      "note: only 3 unique complexity parameters in default grid. Truncating the grid to 3 .\n",
      "\n"
     ]
    },
    {
     "name": "stderr",
     "output_type": "stream",
     "text": [
      "Warning message in nominalTrainWorkflow(x = x, y = y, wts = weights, info = trainInfo, :\n",
      "\"There were missing values in resampled performance measures.\"\n"
     ]
    },
    {
     "name": "stdout",
     "output_type": "stream",
     "text": [
      "[1]  2 10 21  3\n",
      "[1]  2 10 21  5\n",
      "[1]  2 10 21 10\n",
      "[1]  2 10 21 20\n"
     ]
    },
    {
     "name": "stderr",
     "output_type": "stream",
     "text": [
      "Warning message in nominalTrainWorkflow(x = x, y = y, wts = weights, info = trainInfo, :\n",
      "\"There were missing values in resampled performance measures.\"\n"
     ]
    },
    {
     "name": "stdout",
     "output_type": "stream",
     "text": [
      "[1]  2 10 21 30\n",
      "[1]  2 10 21 40\n",
      "[1]  2 10 21 50\n",
      "[1]  2 10 22  0\n",
      "note: only 2 unique complexity parameters in default grid. Truncating the grid to 2 .\n",
      "\n"
     ]
    },
    {
     "name": "stderr",
     "output_type": "stream",
     "text": [
      "Warning message in nominalTrainWorkflow(x = x, y = y, wts = weights, info = trainInfo, :\n",
      "\"There were missing values in resampled performance measures.\"\n"
     ]
    },
    {
     "name": "stdout",
     "output_type": "stream",
     "text": [
      "[1]  2 10 22  1\n",
      "note: only 3 unique complexity parameters in default grid. Truncating the grid to 3 .\n",
      "\n",
      "[1]  2 10 22  3\n",
      "[1]  2 10 22  5\n",
      "[1]  2 10 22 10\n",
      "[1]  2 10 22 20\n",
      "[1]  2 10 22 30\n",
      "[1]  2 10 22 40\n",
      "[1]  2 10 22 50\n",
      "[1]  2 10 23  0\n",
      "note: only 2 unique complexity parameters in default grid. Truncating the grid to 2 .\n",
      "\n",
      "[1]  2 10 23  1\n",
      "note: only 3 unique complexity parameters in default grid. Truncating the grid to 3 .\n",
      "\n",
      "[1]  2 10 23  3\n",
      "[1]  2 10 23  5\n",
      "[1]  2 10 23 10\n",
      "[1]  2 10 23 20\n",
      "[1]  2 10 23 30\n",
      "[1]  2 10 23 40\n",
      "[1]  2 10 23 50\n",
      "[1]  2 10 24  0\n",
      "note: only 2 unique complexity parameters in default grid. Truncating the grid to 2 .\n",
      "\n",
      "[1]  2 10 24  1\n",
      "note: only 3 unique complexity parameters in default grid. Truncating the grid to 3 .\n",
      "\n",
      "[1]  2 10 24  3\n",
      "[1]  2 10 24  5\n",
      "[1]  2 10 24 10\n",
      "[1]  2 10 24 20\n",
      "[1]  2 10 24 30\n"
     ]
    },
    {
     "name": "stderr",
     "output_type": "stream",
     "text": [
      "Warning message in nominalTrainWorkflow(x = x, y = y, wts = weights, info = trainInfo, :\n",
      "\"There were missing values in resampled performance measures.\"\n"
     ]
    },
    {
     "name": "stdout",
     "output_type": "stream",
     "text": [
      "[1]  2 10 24 40\n",
      "[1]  2 10 24 50\n",
      "[1]  2 10 25  0\n",
      "note: only 2 unique complexity parameters in default grid. Truncating the grid to 2 .\n",
      "\n",
      "[1]  2 10 25  1\n",
      "note: only 3 unique complexity parameters in default grid. Truncating the grid to 3 .\n",
      "\n",
      "[1]  2 10 25  3\n",
      "[1]  2 10 25  5\n",
      "[1]  2 10 25 10\n",
      "[1]  2 10 25 20\n",
      "[1]  2 10 25 30\n",
      "[1]  2 10 25 40\n",
      "[1]  2 10 25 50\n",
      "[1]  2 10 26  0\n",
      "note: only 2 unique complexity parameters in default grid. Truncating the grid to 2 .\n",
      "\n",
      "[1]  2 10 26  1\n",
      "note: only 3 unique complexity parameters in default grid. Truncating the grid to 3 .\n",
      "\n",
      "[1]  2 10 26  3\n",
      "[1]  2 10 26  5\n",
      "[1]  2 10 26 10\n",
      "[1]  2 10 26 20\n",
      "[1]  2 10 26 30\n",
      "[1]  2 10 26 40\n",
      "[1]  2 10 26 50\n",
      "[1]  2 10 27  0\n",
      "note: only 2 unique complexity parameters in default grid. Truncating the grid to 2 .\n",
      "\n",
      "[1]  2 10 27  1\n",
      "note: only 3 unique complexity parameters in default grid. Truncating the grid to 3 .\n",
      "\n",
      "[1]  2 10 27  3\n",
      "[1]  2 10 27  5\n",
      "[1]  2 10 27 10\n",
      "[1]  2 10 27 20\n",
      "[1]  2 10 27 30\n",
      "[1]  2 10 27 40\n",
      "[1]  2 10 27 50\n",
      "[1]  2 10 28  0\n",
      "note: only 2 unique complexity parameters in default grid. Truncating the grid to 2 .\n",
      "\n"
     ]
    },
    {
     "name": "stderr",
     "output_type": "stream",
     "text": [
      "Warning message in nominalTrainWorkflow(x = x, y = y, wts = weights, info = trainInfo, :\n",
      "\"There were missing values in resampled performance measures.\"\n"
     ]
    },
    {
     "name": "stdout",
     "output_type": "stream",
     "text": [
      "[1]  2 10 28  1\n",
      "note: only 3 unique complexity parameters in default grid. Truncating the grid to 3 .\n",
      "\n",
      "[1]  2 10 28  3\n"
     ]
    },
    {
     "name": "stderr",
     "output_type": "stream",
     "text": [
      "Warning message in nominalTrainWorkflow(x = x, y = y, wts = weights, info = trainInfo, :\n",
      "\"There were missing values in resampled performance measures.\"\n"
     ]
    },
    {
     "name": "stdout",
     "output_type": "stream",
     "text": [
      "[1]  2 10 28  5\n"
     ]
    },
    {
     "name": "stderr",
     "output_type": "stream",
     "text": [
      "Warning message in nominalTrainWorkflow(x = x, y = y, wts = weights, info = trainInfo, :\n",
      "\"There were missing values in resampled performance measures.\"\n"
     ]
    },
    {
     "name": "stdout",
     "output_type": "stream",
     "text": [
      "[1]  2 10 28 10\n"
     ]
    },
    {
     "name": "stderr",
     "output_type": "stream",
     "text": [
      "Warning message in nominalTrainWorkflow(x = x, y = y, wts = weights, info = trainInfo, :\n",
      "\"There were missing values in resampled performance measures.\"\n"
     ]
    },
    {
     "name": "stdout",
     "output_type": "stream",
     "text": [
      "[1]  2 10 28 20\n",
      "[1]  2 10 28 30\n",
      "[1]  2 10 28 40\n",
      "[1]  2 10 28 50\n",
      "[1]  2 10 29  0\n",
      "note: only 2 unique complexity parameters in default grid. Truncating the grid to 2 .\n",
      "\n",
      "[1]  2 10 29  1\n",
      "note: only 3 unique complexity parameters in default grid. Truncating the grid to 3 .\n",
      "\n",
      "[1]  2 10 29  3\n",
      "[1]  2 10 29  5\n",
      "[1]  2 10 29 10\n",
      "[1]  2 10 29 20\n",
      "[1]  2 10 29 30\n",
      "[1]  2 10 29 40\n",
      "[1]  2 10 29 50\n",
      "[1]  2 10 30  0\n",
      "note: only 2 unique complexity parameters in default grid. Truncating the grid to 2 .\n",
      "\n",
      "[1]  2 10 30  1\n",
      "note: only 3 unique complexity parameters in default grid. Truncating the grid to 3 .\n",
      "\n",
      "[1]  2 10 30  3\n",
      "[1]  2 10 30  5\n",
      "[1]  2 10 30 10\n",
      "[1]  2 10 30 20\n",
      "[1]  2 10 30 30\n",
      "[1]  2 10 30 40\n",
      "[1]  2 10 30 50\n",
      "[1]  2 20  1  0\n",
      "note: only 2 unique complexity parameters in default grid. Truncating the grid to 2 .\n",
      "\n",
      "[1]  2 20  1  1\n",
      "note: only 3 unique complexity parameters in default grid. Truncating the grid to 3 .\n",
      "\n",
      "[1]  2 20  1  3\n",
      "[1]  2 20  1  5\n",
      "[1]  2 20  1 10\n",
      "[1]  2 20  1 20\n",
      "[1]  2 20  1 30\n",
      "[1]  2 20  1 40\n",
      "[1]  2 20  1 50\n",
      "[1]  2 20  2  0\n",
      "note: only 2 unique complexity parameters in default grid. Truncating the grid to 2 .\n",
      "\n",
      "[1]  2 20  2  1\n",
      "note: only 3 unique complexity parameters in default grid. Truncating the grid to 3 .\n",
      "\n",
      "[1]  2 20  2  3\n",
      "[1]  2 20  2  5\n",
      "[1]  2 20  2 10\n",
      "[1]  2 20  2 20\n",
      "[1]  2 20  2 30\n",
      "[1]  2 20  2 40\n",
      "[1]  2 20  2 50\n",
      "[1]  2 20  3  0\n",
      "note: only 2 unique complexity parameters in default grid. Truncating the grid to 2 .\n",
      "\n",
      "[1]  2 20  3  1\n",
      "note: only 3 unique complexity parameters in default grid. Truncating the grid to 3 .\n",
      "\n",
      "[1]  2 20  3  3\n",
      "[1]  2 20  3  5\n",
      "[1]  2 20  3 10\n",
      "[1]  2 20  3 20\n",
      "[1]  2 20  3 30\n",
      "[1]  2 20  3 40\n",
      "[1]  2 20  3 50\n",
      "[1]  2 20  4  0\n",
      "note: only 2 unique complexity parameters in default grid. Truncating the grid to 2 .\n",
      "\n",
      "[1]  2 20  4  1\n",
      "note: only 3 unique complexity parameters in default grid. Truncating the grid to 3 .\n",
      "\n",
      "[1]  2 20  4  3\n",
      "[1]  2 20  4  5\n",
      "[1]  2 20  4 10\n",
      "[1]  2 20  4 20\n",
      "[1]  2 20  4 30\n",
      "[1]  2 20  4 40\n",
      "[1]  2 20  4 50\n",
      "[1]  2 20  5  0\n",
      "note: only 2 unique complexity parameters in default grid. Truncating the grid to 2 .\n",
      "\n",
      "[1]  2 20  5  1\n",
      "note: only 3 unique complexity parameters in default grid. Truncating the grid to 3 .\n",
      "\n",
      "[1]  2 20  5  3\n",
      "[1]  2 20  5  5\n",
      "[1]  2 20  5 10\n",
      "[1]  2 20  5 20\n",
      "[1]  2 20  5 30\n",
      "[1]  2 20  5 40\n",
      "[1]  2 20  5 50\n",
      "[1]  2 20  6  0\n",
      "note: only 2 unique complexity parameters in default grid. Truncating the grid to 2 .\n",
      "\n",
      "[1]  2 20  6  1\n",
      "note: only 3 unique complexity parameters in default grid. Truncating the grid to 3 .\n",
      "\n",
      "[1]  2 20  6  3\n",
      "[1]  2 20  6  5\n",
      "[1]  2 20  6 10\n",
      "[1]  2 20  6 20\n",
      "[1]  2 20  6 30\n",
      "[1]  2 20  6 40\n",
      "[1]  2 20  6 50\n",
      "[1]  2 20  7  0\n",
      "note: only 2 unique complexity parameters in default grid. Truncating the grid to 2 .\n",
      "\n",
      "[1]  2 20  7  1\n",
      "note: only 3 unique complexity parameters in default grid. Truncating the grid to 3 .\n",
      "\n",
      "[1]  2 20  7  3\n",
      "[1]  2 20  7  5\n",
      "[1]  2 20  7 10\n",
      "[1]  2 20  7 20\n",
      "[1]  2 20  7 30\n",
      "[1]  2 20  7 40\n",
      "[1]  2 20  7 50\n",
      "[1]  2 20  8  0\n",
      "note: only 2 unique complexity parameters in default grid. Truncating the grid to 2 .\n",
      "\n",
      "[1]  2 20  8  1\n",
      "note: only 3 unique complexity parameters in default grid. Truncating the grid to 3 .\n",
      "\n",
      "[1]  2 20  8  3\n",
      "[1]  2 20  8  5\n",
      "[1]  2 20  8 10\n",
      "[1]  2 20  8 20\n",
      "[1]  2 20  8 30\n",
      "[1]  2 20  8 40\n",
      "[1]  2 20  8 50\n",
      "[1]  2 20  9  0\n",
      "note: only 2 unique complexity parameters in default grid. Truncating the grid to 2 .\n",
      "\n",
      "[1]  2 20  9  1\n",
      "note: only 3 unique complexity parameters in default grid. Truncating the grid to 3 .\n",
      "\n",
      "[1]  2 20  9  3\n",
      "[1]  2 20  9  5\n",
      "[1]  2 20  9 10\n",
      "[1]  2 20  9 20\n",
      "[1]  2 20  9 30\n",
      "[1]  2 20  9 40\n",
      "[1]  2 20  9 50\n",
      "[1]  2 20 10  0\n",
      "note: only 2 unique complexity parameters in default grid. Truncating the grid to 2 .\n",
      "\n",
      "[1]  2 20 10  1\n",
      "note: only 3 unique complexity parameters in default grid. Truncating the grid to 3 .\n",
      "\n",
      "[1]  2 20 10  3\n",
      "[1]  2 20 10  5\n",
      "[1]  2 20 10 10\n",
      "[1]  2 20 10 20\n",
      "[1]  2 20 10 30\n",
      "[1]  2 20 10 40\n",
      "[1]  2 20 10 50\n",
      "[1]  2 20 11  0\n",
      "note: only 2 unique complexity parameters in default grid. Truncating the grid to 2 .\n",
      "\n",
      "[1]  2 20 11  1\n",
      "note: only 3 unique complexity parameters in default grid. Truncating the grid to 3 .\n",
      "\n",
      "[1]  2 20 11  3\n",
      "[1]  2 20 11  5\n",
      "[1]  2 20 11 10\n",
      "[1]  2 20 11 20\n",
      "[1]  2 20 11 30\n",
      "[1]  2 20 11 40\n",
      "[1]  2 20 11 50\n",
      "[1]  2 20 12  0\n",
      "note: only 2 unique complexity parameters in default grid. Truncating the grid to 2 .\n",
      "\n",
      "[1]  2 20 12  1\n",
      "note: only 3 unique complexity parameters in default grid. Truncating the grid to 3 .\n",
      "\n",
      "[1]  2 20 12  3\n",
      "[1]  2 20 12  5\n",
      "[1]  2 20 12 10\n",
      "[1]  2 20 12 20\n",
      "[1]  2 20 12 30\n",
      "[1]  2 20 12 40\n",
      "[1]  2 20 12 50\n",
      "[1]  2 20 13  0\n",
      "note: only 2 unique complexity parameters in default grid. Truncating the grid to 2 .\n",
      "\n",
      "[1]  2 20 13  1\n",
      "note: only 3 unique complexity parameters in default grid. Truncating the grid to 3 .\n",
      "\n",
      "[1]  2 20 13  3\n",
      "[1]  2 20 13  5\n",
      "[1]  2 20 13 10\n",
      "[1]  2 20 13 20\n",
      "[1]  2 20 13 30\n",
      "[1]  2 20 13 40\n",
      "[1]  2 20 13 50\n",
      "[1]  2 20 14  0\n",
      "note: only 2 unique complexity parameters in default grid. Truncating the grid to 2 .\n",
      "\n",
      "[1]  2 20 14  1\n",
      "note: only 3 unique complexity parameters in default grid. Truncating the grid to 3 .\n",
      "\n",
      "[1]  2 20 14  3\n",
      "[1]  2 20 14  5\n",
      "[1]  2 20 14 10\n",
      "[1]  2 20 14 20\n",
      "[1]  2 20 14 30\n",
      "[1]  2 20 14 40\n",
      "[1]  2 20 14 50\n",
      "[1]  2 20 15  0\n",
      "note: only 2 unique complexity parameters in default grid. Truncating the grid to 2 .\n",
      "\n",
      "[1]  2 20 15  1\n",
      "note: only 3 unique complexity parameters in default grid. Truncating the grid to 3 .\n",
      "\n",
      "[1]  2 20 15  3\n",
      "[1]  2 20 15  5\n",
      "[1]  2 20 15 10\n",
      "[1]  2 20 15 20\n",
      "[1]  2 20 15 30\n",
      "[1]  2 20 15 40\n",
      "[1]  2 20 15 50\n",
      "[1]  2 20 16  0\n",
      "note: only 2 unique complexity parameters in default grid. Truncating the grid to 2 .\n",
      "\n",
      "[1]  2 20 16  1\n",
      "note: only 3 unique complexity parameters in default grid. Truncating the grid to 3 .\n",
      "\n",
      "[1]  2 20 16  3\n",
      "[1]  2 20 16  5\n",
      "[1]  2 20 16 10\n",
      "[1]  2 20 16 20\n",
      "[1]  2 20 16 30\n",
      "[1]  2 20 16 40\n",
      "[1]  2 20 16 50\n",
      "[1]  2 20 17  0\n",
      "note: only 2 unique complexity parameters in default grid. Truncating the grid to 2 .\n",
      "\n"
     ]
    },
    {
     "name": "stderr",
     "output_type": "stream",
     "text": [
      "Warning message in nominalTrainWorkflow(x = x, y = y, wts = weights, info = trainInfo, :\n",
      "\"There were missing values in resampled performance measures.\"\n"
     ]
    },
    {
     "name": "stdout",
     "output_type": "stream",
     "text": [
      "[1]  2 20 17  1\n",
      "note: only 3 unique complexity parameters in default grid. Truncating the grid to 3 .\n",
      "\n",
      "[1]  2 20 17  3\n",
      "[1]  2 20 17  5\n",
      "[1]  2 20 17 10\n",
      "[1]  2 20 17 20\n",
      "[1]  2 20 17 30\n",
      "[1]  2 20 17 40\n",
      "[1]  2 20 17 50\n",
      "[1]  2 20 18  0\n",
      "note: only 2 unique complexity parameters in default grid. Truncating the grid to 2 .\n",
      "\n",
      "[1]  2 20 18  1\n",
      "note: only 3 unique complexity parameters in default grid. Truncating the grid to 3 .\n",
      "\n",
      "[1]  2 20 18  3\n",
      "[1]  2 20 18  5\n",
      "[1]  2 20 18 10\n",
      "[1]  2 20 18 20\n",
      "[1]  2 20 18 30\n",
      "[1]  2 20 18 40\n",
      "[1]  2 20 18 50\n",
      "[1]  2 20 19  0\n",
      "note: only 2 unique complexity parameters in default grid. Truncating the grid to 2 .\n",
      "\n",
      "[1]  2 20 19  1\n",
      "note: only 3 unique complexity parameters in default grid. Truncating the grid to 3 .\n",
      "\n",
      "[1]  2 20 19  3\n",
      "[1]  2 20 19  5\n",
      "[1]  2 20 19 10\n",
      "[1]  2 20 19 20\n",
      "[1]  2 20 19 30\n",
      "[1]  2 20 19 40\n",
      "[1]  2 20 19 50\n",
      "[1]  2 20 20  0\n",
      "note: only 2 unique complexity parameters in default grid. Truncating the grid to 2 .\n",
      "\n",
      "[1]  2 20 20  1\n",
      "note: only 3 unique complexity parameters in default grid. Truncating the grid to 3 .\n",
      "\n",
      "[1]  2 20 20  3\n",
      "[1]  2 20 20  5\n",
      "[1]  2 20 20 10\n",
      "[1]  2 20 20 20\n",
      "[1]  2 20 20 30\n",
      "[1]  2 20 20 40\n",
      "[1]  2 20 20 50\n",
      "[1]  2 20 21  0\n",
      "note: only 2 unique complexity parameters in default grid. Truncating the grid to 2 .\n",
      "\n",
      "[1]  2 20 21  1\n",
      "note: only 3 unique complexity parameters in default grid. Truncating the grid to 3 .\n",
      "\n",
      "[1]  2 20 21  3\n",
      "[1]  2 20 21  5\n",
      "[1]  2 20 21 10\n",
      "[1]  2 20 21 20\n",
      "[1]  2 20 21 30\n",
      "[1]  2 20 21 40\n",
      "[1]  2 20 21 50\n",
      "[1]  2 20 22  0\n",
      "note: only 2 unique complexity parameters in default grid. Truncating the grid to 2 .\n",
      "\n",
      "[1]  2 20 22  1\n",
      "note: only 3 unique complexity parameters in default grid. Truncating the grid to 3 .\n",
      "\n",
      "[1]  2 20 22  3\n",
      "[1]  2 20 22  5\n",
      "[1]  2 20 22 10\n",
      "[1]  2 20 22 20\n",
      "[1]  2 20 22 30\n",
      "[1]  2 20 22 40\n",
      "[1]  2 20 22 50\n",
      "[1]  2 20 23  0\n",
      "note: only 2 unique complexity parameters in default grid. Truncating the grid to 2 .\n",
      "\n",
      "[1]  2 20 23  1\n",
      "note: only 3 unique complexity parameters in default grid. Truncating the grid to 3 .\n",
      "\n",
      "[1]  2 20 23  3\n",
      "[1]  2 20 23  5\n",
      "[1]  2 20 23 10\n",
      "[1]  2 20 23 20\n",
      "[1]  2 20 23 30\n",
      "[1]  2 20 23 40\n",
      "[1]  2 20 23 50\n",
      "[1]  2 20 24  0\n",
      "note: only 2 unique complexity parameters in default grid. Truncating the grid to 2 .\n",
      "\n",
      "[1]  2 20 24  1\n",
      "note: only 3 unique complexity parameters in default grid. Truncating the grid to 3 .\n",
      "\n",
      "[1]  2 20 24  3\n",
      "[1]  2 20 24  5\n",
      "[1]  2 20 24 10\n",
      "[1]  2 20 24 20\n",
      "[1]  2 20 24 30\n",
      "[1]  2 20 24 40\n",
      "[1]  2 20 24 50\n",
      "[1]  2 20 25  0\n",
      "note: only 2 unique complexity parameters in default grid. Truncating the grid to 2 .\n",
      "\n",
      "[1]  2 20 25  1\n",
      "note: only 3 unique complexity parameters in default grid. Truncating the grid to 3 .\n",
      "\n",
      "[1]  2 20 25  3\n",
      "[1]  2 20 25  5\n",
      "[1]  2 20 25 10\n",
      "[1]  2 20 25 20\n",
      "[1]  2 20 25 30\n",
      "[1]  2 20 25 40\n",
      "[1]  2 20 25 50\n",
      "[1]  2 20 26  0\n",
      "note: only 2 unique complexity parameters in default grid. Truncating the grid to 2 .\n",
      "\n",
      "[1]  2 20 26  1\n",
      "note: only 3 unique complexity parameters in default grid. Truncating the grid to 3 .\n",
      "\n",
      "[1]  2 20 26  3\n",
      "[1]  2 20 26  5\n",
      "[1]  2 20 26 10\n",
      "[1]  2 20 26 20\n",
      "[1]  2 20 26 30\n",
      "[1]  2 20 26 40\n",
      "[1]  2 20 26 50\n",
      "[1]  2 20 27  0\n",
      "note: only 2 unique complexity parameters in default grid. Truncating the grid to 2 .\n",
      "\n",
      "[1]  2 20 27  1\n",
      "note: only 3 unique complexity parameters in default grid. Truncating the grid to 3 .\n",
      "\n",
      "[1]  2 20 27  3\n",
      "[1]  2 20 27  5\n",
      "[1]  2 20 27 10\n",
      "[1]  2 20 27 20\n",
      "[1]  2 20 27 30\n",
      "[1]  2 20 27 40\n",
      "[1]  2 20 27 50\n",
      "[1]  2 20 28  0\n",
      "note: only 2 unique complexity parameters in default grid. Truncating the grid to 2 .\n",
      "\n",
      "[1]  2 20 28  1\n",
      "note: only 3 unique complexity parameters in default grid. Truncating the grid to 3 .\n",
      "\n",
      "[1]  2 20 28  3\n",
      "[1]  2 20 28  5\n",
      "[1]  2 20 28 10\n",
      "[1]  2 20 28 20\n",
      "[1]  2 20 28 30\n",
      "[1]  2 20 28 40\n",
      "[1]  2 20 28 50\n",
      "[1]  2 20 29  0\n",
      "note: only 2 unique complexity parameters in default grid. Truncating the grid to 2 .\n",
      "\n",
      "[1]  2 20 29  1\n",
      "note: only 3 unique complexity parameters in default grid. Truncating the grid to 3 .\n",
      "\n",
      "[1]  2 20 29  3\n",
      "[1]  2 20 29  5\n",
      "[1]  2 20 29 10\n",
      "[1]  2 20 29 20\n",
      "[1]  2 20 29 30\n",
      "[1]  2 20 29 40\n",
      "[1]  2 20 29 50\n",
      "[1]  2 20 30  0\n",
      "note: only 2 unique complexity parameters in default grid. Truncating the grid to 2 .\n",
      "\n",
      "[1]  2 20 30  1\n",
      "note: only 3 unique complexity parameters in default grid. Truncating the grid to 3 .\n",
      "\n",
      "[1]  2 20 30  3\n",
      "[1]  2 20 30  5\n",
      "[1]  2 20 30 10\n",
      "[1]  2 20 30 20\n",
      "[1]  2 20 30 30\n",
      "[1]  2 20 30 40\n",
      "[1]  2 20 30 50\n",
      "[1]  2 30  1  0\n",
      "note: only 2 unique complexity parameters in default grid. Truncating the grid to 2 .\n",
      "\n",
      "[1]  2 30  1  1\n",
      "note: only 3 unique complexity parameters in default grid. Truncating the grid to 3 .\n",
      "\n",
      "[1]  2 30  1  3\n",
      "[1]  2 30  1  5\n",
      "[1]  2 30  1 10\n",
      "[1]  2 30  1 20\n",
      "[1]  2 30  1 30\n",
      "[1]  2 30  1 40\n",
      "[1]  2 30  1 50\n",
      "[1]  2 30  2  0\n",
      "note: only 2 unique complexity parameters in default grid. Truncating the grid to 2 .\n",
      "\n",
      "[1]  2 30  2  1\n",
      "note: only 3 unique complexity parameters in default grid. Truncating the grid to 3 .\n",
      "\n",
      "[1]  2 30  2  3\n",
      "[1]  2 30  2  5\n",
      "[1]  2 30  2 10\n",
      "[1]  2 30  2 20\n",
      "[1]  2 30  2 30\n",
      "[1]  2 30  2 40\n",
      "[1]  2 30  2 50\n",
      "[1]  2 30  3  0\n",
      "note: only 2 unique complexity parameters in default grid. Truncating the grid to 2 .\n",
      "\n",
      "[1]  2 30  3  1\n",
      "note: only 3 unique complexity parameters in default grid. Truncating the grid to 3 .\n",
      "\n",
      "[1]  2 30  3  3\n",
      "[1]  2 30  3  5\n",
      "[1]  2 30  3 10\n",
      "[1]  2 30  3 20\n",
      "[1]  2 30  3 30\n",
      "[1]  2 30  3 40\n",
      "[1]  2 30  3 50\n",
      "[1]  2 30  4  0\n",
      "note: only 2 unique complexity parameters in default grid. Truncating the grid to 2 .\n",
      "\n",
      "[1]  2 30  4  1\n",
      "note: only 3 unique complexity parameters in default grid. Truncating the grid to 3 .\n",
      "\n",
      "[1]  2 30  4  3\n",
      "[1]  2 30  4  5\n",
      "[1]  2 30  4 10\n",
      "[1]  2 30  4 20\n",
      "[1]  2 30  4 30\n",
      "[1]  2 30  4 40\n",
      "[1]  2 30  4 50\n",
      "[1]  2 30  5  0\n",
      "note: only 2 unique complexity parameters in default grid. Truncating the grid to 2 .\n",
      "\n",
      "[1]  2 30  5  1\n",
      "note: only 3 unique complexity parameters in default grid. Truncating the grid to 3 .\n",
      "\n",
      "[1]  2 30  5  3\n",
      "[1]  2 30  5  5\n",
      "[1]  2 30  5 10\n",
      "[1]  2 30  5 20\n",
      "[1]  2 30  5 30\n",
      "[1]  2 30  5 40\n",
      "[1]  2 30  5 50\n",
      "[1]  2 30  6  0\n",
      "note: only 2 unique complexity parameters in default grid. Truncating the grid to 2 .\n",
      "\n",
      "[1]  2 30  6  1\n",
      "note: only 3 unique complexity parameters in default grid. Truncating the grid to 3 .\n",
      "\n",
      "[1]  2 30  6  3\n",
      "[1]  2 30  6  5\n",
      "[1]  2 30  6 10\n",
      "[1]  2 30  6 20\n",
      "[1]  2 30  6 30\n",
      "[1]  2 30  6 40\n",
      "[1]  2 30  6 50\n",
      "[1]  2 30  7  0\n",
      "note: only 2 unique complexity parameters in default grid. Truncating the grid to 2 .\n",
      "\n",
      "[1]  2 30  7  1\n",
      "note: only 3 unique complexity parameters in default grid. Truncating the grid to 3 .\n",
      "\n",
      "[1]  2 30  7  3\n",
      "[1]  2 30  7  5\n",
      "[1]  2 30  7 10\n",
      "[1]  2 30  7 20\n",
      "[1]  2 30  7 30\n",
      "[1]  2 30  7 40\n",
      "[1]  2 30  7 50\n",
      "[1]  2 30  8  0\n",
      "note: only 2 unique complexity parameters in default grid. Truncating the grid to 2 .\n",
      "\n",
      "[1]  2 30  8  1\n",
      "note: only 3 unique complexity parameters in default grid. Truncating the grid to 3 .\n",
      "\n",
      "[1]  2 30  8  3\n",
      "[1]  2 30  8  5\n",
      "[1]  2 30  8 10\n",
      "[1]  2 30  8 20\n",
      "[1]  2 30  8 30\n",
      "[1]  2 30  8 40\n",
      "[1]  2 30  8 50\n",
      "[1]  2 30  9  0\n",
      "note: only 2 unique complexity parameters in default grid. Truncating the grid to 2 .\n",
      "\n",
      "[1]  2 30  9  1\n",
      "note: only 3 unique complexity parameters in default grid. Truncating the grid to 3 .\n",
      "\n",
      "[1]  2 30  9  3\n",
      "[1]  2 30  9  5\n",
      "[1]  2 30  9 10\n",
      "[1]  2 30  9 20\n",
      "[1]  2 30  9 30\n",
      "[1]  2 30  9 40\n",
      "[1]  2 30  9 50\n",
      "[1]  2 30 10  0\n",
      "note: only 2 unique complexity parameters in default grid. Truncating the grid to 2 .\n",
      "\n",
      "[1]  2 30 10  1\n",
      "note: only 3 unique complexity parameters in default grid. Truncating the grid to 3 .\n",
      "\n",
      "[1]  2 30 10  3\n",
      "[1]  2 30 10  5\n",
      "[1]  2 30 10 10\n",
      "[1]  2 30 10 20\n",
      "[1]  2 30 10 30\n",
      "[1]  2 30 10 40\n",
      "[1]  2 30 10 50\n",
      "[1]  2 30 11  0\n",
      "note: only 2 unique complexity parameters in default grid. Truncating the grid to 2 .\n",
      "\n",
      "[1]  2 30 11  1\n",
      "note: only 3 unique complexity parameters in default grid. Truncating the grid to 3 .\n",
      "\n",
      "[1]  2 30 11  3\n",
      "[1]  2 30 11  5\n",
      "[1]  2 30 11 10\n",
      "[1]  2 30 11 20\n",
      "[1]  2 30 11 30\n",
      "[1]  2 30 11 40\n",
      "[1]  2 30 11 50\n",
      "[1]  2 30 12  0\n",
      "note: only 2 unique complexity parameters in default grid. Truncating the grid to 2 .\n",
      "\n",
      "[1]  2 30 12  1\n",
      "note: only 3 unique complexity parameters in default grid. Truncating the grid to 3 .\n",
      "\n",
      "[1]  2 30 12  3\n",
      "[1]  2 30 12  5\n",
      "[1]  2 30 12 10\n",
      "[1]  2 30 12 20\n",
      "[1]  2 30 12 30\n",
      "[1]  2 30 12 40\n",
      "[1]  2 30 12 50\n",
      "[1]  2 30 13  0\n",
      "note: only 2 unique complexity parameters in default grid. Truncating the grid to 2 .\n",
      "\n",
      "[1]  2 30 13  1\n",
      "note: only 3 unique complexity parameters in default grid. Truncating the grid to 3 .\n",
      "\n",
      "[1]  2 30 13  3\n",
      "[1]  2 30 13  5\n",
      "[1]  2 30 13 10\n",
      "[1]  2 30 13 20\n",
      "[1]  2 30 13 30\n",
      "[1]  2 30 13 40\n",
      "[1]  2 30 13 50\n",
      "[1]  2 30 14  0\n",
      "note: only 2 unique complexity parameters in default grid. Truncating the grid to 2 .\n",
      "\n",
      "[1]  2 30 14  1\n",
      "note: only 3 unique complexity parameters in default grid. Truncating the grid to 3 .\n",
      "\n",
      "[1]  2 30 14  3\n",
      "[1]  2 30 14  5\n",
      "[1]  2 30 14 10\n",
      "[1]  2 30 14 20\n",
      "[1]  2 30 14 30\n",
      "[1]  2 30 14 40\n",
      "[1]  2 30 14 50\n",
      "[1]  2 30 15  0\n",
      "note: only 2 unique complexity parameters in default grid. Truncating the grid to 2 .\n",
      "\n",
      "[1]  2 30 15  1\n",
      "note: only 3 unique complexity parameters in default grid. Truncating the grid to 3 .\n",
      "\n",
      "[1]  2 30 15  3\n",
      "[1]  2 30 15  5\n",
      "[1]  2 30 15 10\n",
      "[1]  2 30 15 20\n",
      "[1]  2 30 15 30\n",
      "[1]  2 30 15 40\n",
      "[1]  2 30 15 50\n",
      "[1]  2 30 16  0\n",
      "note: only 2 unique complexity parameters in default grid. Truncating the grid to 2 .\n",
      "\n",
      "[1]  2 30 16  1\n",
      "note: only 3 unique complexity parameters in default grid. Truncating the grid to 3 .\n",
      "\n",
      "[1]  2 30 16  3\n",
      "[1]  2 30 16  5\n",
      "[1]  2 30 16 10\n",
      "[1]  2 30 16 20\n",
      "[1]  2 30 16 30\n",
      "[1]  2 30 16 40\n",
      "[1]  2 30 16 50\n",
      "[1]  2 30 17  0\n",
      "note: only 2 unique complexity parameters in default grid. Truncating the grid to 2 .\n",
      "\n",
      "[1]  2 30 17  1\n",
      "note: only 3 unique complexity parameters in default grid. Truncating the grid to 3 .\n",
      "\n",
      "[1]  2 30 17  3\n",
      "[1]  2 30 17  5\n",
      "[1]  2 30 17 10\n",
      "[1]  2 30 17 20\n",
      "[1]  2 30 17 30\n",
      "[1]  2 30 17 40\n",
      "[1]  2 30 17 50\n",
      "[1]  2 30 18  0\n",
      "note: only 2 unique complexity parameters in default grid. Truncating the grid to 2 .\n",
      "\n",
      "[1]  2 30 18  1\n",
      "note: only 3 unique complexity parameters in default grid. Truncating the grid to 3 .\n",
      "\n",
      "[1]  2 30 18  3\n",
      "[1]  2 30 18  5\n",
      "[1]  2 30 18 10\n",
      "[1]  2 30 18 20\n",
      "[1]  2 30 18 30\n",
      "[1]  2 30 18 40\n",
      "[1]  2 30 18 50\n",
      "[1]  2 30 19  0\n",
      "note: only 2 unique complexity parameters in default grid. Truncating the grid to 2 .\n",
      "\n",
      "[1]  2 30 19  1\n",
      "note: only 3 unique complexity parameters in default grid. Truncating the grid to 3 .\n",
      "\n",
      "[1]  2 30 19  3\n",
      "[1]  2 30 19  5\n",
      "[1]  2 30 19 10\n",
      "[1]  2 30 19 20\n",
      "[1]  2 30 19 30\n",
      "[1]  2 30 19 40\n",
      "[1]  2 30 19 50\n",
      "[1]  2 30 20  0\n",
      "note: only 2 unique complexity parameters in default grid. Truncating the grid to 2 .\n",
      "\n",
      "[1]  2 30 20  1\n",
      "note: only 3 unique complexity parameters in default grid. Truncating the grid to 3 .\n",
      "\n",
      "[1]  2 30 20  3\n",
      "[1]  2 30 20  5\n",
      "[1]  2 30 20 10\n",
      "[1]  2 30 20 20\n",
      "[1]  2 30 20 30\n",
      "[1]  2 30 20 40\n",
      "[1]  2 30 20 50\n",
      "[1]  2 30 21  0\n",
      "note: only 2 unique complexity parameters in default grid. Truncating the grid to 2 .\n",
      "\n",
      "[1]  2 30 21  1\n",
      "note: only 3 unique complexity parameters in default grid. Truncating the grid to 3 .\n",
      "\n",
      "[1]  2 30 21  3\n",
      "[1]  2 30 21  5\n",
      "[1]  2 30 21 10\n",
      "[1]  2 30 21 20\n",
      "[1]  2 30 21 30\n",
      "[1]  2 30 21 40\n",
      "[1]  2 30 21 50\n",
      "[1]  2 30 22  0\n",
      "note: only 2 unique complexity parameters in default grid. Truncating the grid to 2 .\n",
      "\n",
      "[1]  2 30 22  1\n",
      "note: only 3 unique complexity parameters in default grid. Truncating the grid to 3 .\n",
      "\n",
      "[1]  2 30 22  3\n",
      "[1]  2 30 22  5\n",
      "[1]  2 30 22 10\n",
      "[1]  2 30 22 20\n",
      "[1]  2 30 22 30\n",
      "[1]  2 30 22 40\n",
      "[1]  2 30 22 50\n",
      "[1]  2 30 23  0\n",
      "note: only 2 unique complexity parameters in default grid. Truncating the grid to 2 .\n",
      "\n",
      "[1]  2 30 23  1\n",
      "note: only 3 unique complexity parameters in default grid. Truncating the grid to 3 .\n",
      "\n",
      "[1]  2 30 23  3\n",
      "[1]  2 30 23  5\n",
      "[1]  2 30 23 10\n",
      "[1]  2 30 23 20\n",
      "[1]  2 30 23 30\n",
      "[1]  2 30 23 40\n",
      "[1]  2 30 23 50\n",
      "[1]  2 30 24  0\n",
      "note: only 2 unique complexity parameters in default grid. Truncating the grid to 2 .\n",
      "\n",
      "[1]  2 30 24  1\n",
      "note: only 3 unique complexity parameters in default grid. Truncating the grid to 3 .\n",
      "\n",
      "[1]  2 30 24  3\n",
      "[1]  2 30 24  5\n",
      "[1]  2 30 24 10\n",
      "[1]  2 30 24 20\n",
      "[1]  2 30 24 30\n",
      "[1]  2 30 24 40\n",
      "[1]  2 30 24 50\n",
      "[1]  2 30 25  0\n",
      "note: only 2 unique complexity parameters in default grid. Truncating the grid to 2 .\n",
      "\n",
      "[1]  2 30 25  1\n",
      "note: only 3 unique complexity parameters in default grid. Truncating the grid to 3 .\n",
      "\n",
      "[1]  2 30 25  3\n",
      "[1]  2 30 25  5\n",
      "[1]  2 30 25 10\n",
      "[1]  2 30 25 20\n",
      "[1]  2 30 25 30\n",
      "[1]  2 30 25 40\n",
      "[1]  2 30 25 50\n",
      "[1]  2 30 26  0\n",
      "note: only 2 unique complexity parameters in default grid. Truncating the grid to 2 .\n",
      "\n",
      "[1]  2 30 26  1\n",
      "note: only 3 unique complexity parameters in default grid. Truncating the grid to 3 .\n",
      "\n",
      "[1]  2 30 26  3\n",
      "[1]  2 30 26  5\n",
      "[1]  2 30 26 10\n",
      "[1]  2 30 26 20\n",
      "[1]  2 30 26 30\n",
      "[1]  2 30 26 40\n",
      "[1]  2 30 26 50\n",
      "[1]  2 30 27  0\n",
      "note: only 2 unique complexity parameters in default grid. Truncating the grid to 2 .\n",
      "\n",
      "[1]  2 30 27  1\n",
      "note: only 3 unique complexity parameters in default grid. Truncating the grid to 3 .\n",
      "\n",
      "[1]  2 30 27  3\n",
      "[1]  2 30 27  5\n",
      "[1]  2 30 27 10\n",
      "[1]  2 30 27 20\n",
      "[1]  2 30 27 30\n",
      "[1]  2 30 27 40\n",
      "[1]  2 30 27 50\n",
      "[1]  2 30 28  0\n",
      "note: only 2 unique complexity parameters in default grid. Truncating the grid to 2 .\n",
      "\n",
      "[1]  2 30 28  1\n",
      "note: only 3 unique complexity parameters in default grid. Truncating the grid to 3 .\n",
      "\n",
      "[1]  2 30 28  3\n",
      "[1]  2 30 28  5\n",
      "[1]  2 30 28 10\n",
      "[1]  2 30 28 20\n",
      "[1]  2 30 28 30\n",
      "[1]  2 30 28 40\n",
      "[1]  2 30 28 50\n",
      "[1]  2 30 29  0\n",
      "note: only 2 unique complexity parameters in default grid. Truncating the grid to 2 .\n",
      "\n",
      "[1]  2 30 29  1\n",
      "note: only 3 unique complexity parameters in default grid. Truncating the grid to 3 .\n",
      "\n",
      "[1]  2 30 29  3\n",
      "[1]  2 30 29  5\n",
      "[1]  2 30 29 10\n",
      "[1]  2 30 29 20\n",
      "[1]  2 30 29 30\n",
      "[1]  2 30 29 40\n",
      "[1]  2 30 29 50\n",
      "[1]  2 30 30  0\n",
      "note: only 2 unique complexity parameters in default grid. Truncating the grid to 2 .\n",
      "\n",
      "[1]  2 30 30  1\n",
      "note: only 3 unique complexity parameters in default grid. Truncating the grid to 3 .\n",
      "\n",
      "[1]  2 30 30  3\n",
      "[1]  2 30 30  5\n",
      "[1]  2 30 30 10\n",
      "[1]  2 30 30 20\n",
      "[1]  2 30 30 30\n",
      "[1]  2 30 30 40\n",
      "[1]  2 30 30 50\n",
      "[1]  2 40  1  0\n",
      "note: only 2 unique complexity parameters in default grid. Truncating the grid to 2 .\n",
      "\n",
      "[1]  2 40  1  1\n",
      "note: only 3 unique complexity parameters in default grid. Truncating the grid to 3 .\n",
      "\n",
      "[1]  2 40  1  3\n",
      "[1]  2 40  1  5\n",
      "[1]  2 40  1 10\n",
      "[1]  2 40  1 20\n",
      "[1]  2 40  1 30\n",
      "[1]  2 40  1 40\n",
      "[1]  2 40  1 50\n",
      "[1]  2 40  2  0\n",
      "note: only 2 unique complexity parameters in default grid. Truncating the grid to 2 .\n",
      "\n",
      "[1]  2 40  2  1\n",
      "note: only 3 unique complexity parameters in default grid. Truncating the grid to 3 .\n",
      "\n",
      "[1]  2 40  2  3\n",
      "[1]  2 40  2  5\n",
      "[1]  2 40  2 10\n",
      "[1]  2 40  2 20\n",
      "[1]  2 40  2 30\n",
      "[1]  2 40  2 40\n",
      "[1]  2 40  2 50\n",
      "[1]  2 40  3  0\n",
      "note: only 2 unique complexity parameters in default grid. Truncating the grid to 2 .\n",
      "\n",
      "[1]  2 40  3  1\n",
      "note: only 3 unique complexity parameters in default grid. Truncating the grid to 3 .\n",
      "\n",
      "[1]  2 40  3  3\n",
      "[1]  2 40  3  5\n",
      "[1]  2 40  3 10\n",
      "[1]  2 40  3 20\n",
      "[1]  2 40  3 30\n",
      "[1]  2 40  3 40\n",
      "[1]  2 40  3 50\n",
      "[1]  2 40  4  0\n",
      "note: only 2 unique complexity parameters in default grid. Truncating the grid to 2 .\n",
      "\n",
      "[1]  2 40  4  1\n",
      "note: only 3 unique complexity parameters in default grid. Truncating the grid to 3 .\n",
      "\n",
      "[1]  2 40  4  3\n",
      "[1]  2 40  4  5\n",
      "[1]  2 40  4 10\n",
      "[1]  2 40  4 20\n",
      "[1]  2 40  4 30\n",
      "[1]  2 40  4 40\n",
      "[1]  2 40  4 50\n",
      "[1]  2 40  5  0\n",
      "note: only 2 unique complexity parameters in default grid. Truncating the grid to 2 .\n",
      "\n",
      "[1]  2 40  5  1\n",
      "note: only 3 unique complexity parameters in default grid. Truncating the grid to 3 .\n",
      "\n",
      "[1]  2 40  5  3\n",
      "[1]  2 40  5  5\n",
      "[1]  2 40  5 10\n",
      "[1]  2 40  5 20\n",
      "[1]  2 40  5 30\n",
      "[1]  2 40  5 40\n",
      "[1]  2 40  5 50\n",
      "[1]  2 40  6  0\n",
      "note: only 2 unique complexity parameters in default grid. Truncating the grid to 2 .\n",
      "\n",
      "[1]  2 40  6  1\n",
      "note: only 3 unique complexity parameters in default grid. Truncating the grid to 3 .\n",
      "\n",
      "[1]  2 40  6  3\n",
      "[1]  2 40  6  5\n",
      "[1]  2 40  6 10\n",
      "[1]  2 40  6 20\n",
      "[1]  2 40  6 30\n",
      "[1]  2 40  6 40\n",
      "[1]  2 40  6 50\n",
      "[1]  2 40  7  0\n",
      "note: only 2 unique complexity parameters in default grid. Truncating the grid to 2 .\n",
      "\n",
      "[1]  2 40  7  1\n",
      "note: only 3 unique complexity parameters in default grid. Truncating the grid to 3 .\n",
      "\n",
      "[1]  2 40  7  3\n",
      "[1]  2 40  7  5\n",
      "[1]  2 40  7 10\n",
      "[1]  2 40  7 20\n",
      "[1]  2 40  7 30\n",
      "[1]  2 40  7 40\n",
      "[1]  2 40  7 50\n",
      "[1]  2 40  8  0\n",
      "note: only 2 unique complexity parameters in default grid. Truncating the grid to 2 .\n",
      "\n",
      "[1]  2 40  8  1\n",
      "note: only 3 unique complexity parameters in default grid. Truncating the grid to 3 .\n",
      "\n",
      "[1]  2 40  8  3\n",
      "[1]  2 40  8  5\n",
      "[1]  2 40  8 10\n",
      "[1]  2 40  8 20\n",
      "[1]  2 40  8 30\n",
      "[1]  2 40  8 40\n",
      "[1]  2 40  8 50\n",
      "[1]  2 40  9  0\n",
      "note: only 2 unique complexity parameters in default grid. Truncating the grid to 2 .\n",
      "\n",
      "[1]  2 40  9  1\n",
      "note: only 3 unique complexity parameters in default grid. Truncating the grid to 3 .\n",
      "\n",
      "[1]  2 40  9  3\n",
      "[1]  2 40  9  5\n",
      "[1]  2 40  9 10\n",
      "[1]  2 40  9 20\n",
      "[1]  2 40  9 30\n",
      "[1]  2 40  9 40\n",
      "[1]  2 40  9 50\n",
      "[1]  2 40 10  0\n",
      "note: only 2 unique complexity parameters in default grid. Truncating the grid to 2 .\n",
      "\n",
      "[1]  2 40 10  1\n",
      "note: only 3 unique complexity parameters in default grid. Truncating the grid to 3 .\n",
      "\n",
      "[1]  2 40 10  3\n",
      "[1]  2 40 10  5\n",
      "[1]  2 40 10 10\n",
      "[1]  2 40 10 20\n",
      "[1]  2 40 10 30\n",
      "[1]  2 40 10 40\n",
      "[1]  2 40 10 50\n",
      "[1]  2 40 11  0\n",
      "note: only 2 unique complexity parameters in default grid. Truncating the grid to 2 .\n",
      "\n",
      "[1]  2 40 11  1\n",
      "note: only 3 unique complexity parameters in default grid. Truncating the grid to 3 .\n",
      "\n",
      "[1]  2 40 11  3\n",
      "[1]  2 40 11  5\n",
      "[1]  2 40 11 10\n",
      "[1]  2 40 11 20\n",
      "[1]  2 40 11 30\n",
      "[1]  2 40 11 40\n",
      "[1]  2 40 11 50\n",
      "[1]  2 40 12  0\n",
      "note: only 2 unique complexity parameters in default grid. Truncating the grid to 2 .\n",
      "\n",
      "[1]  2 40 12  1\n",
      "note: only 3 unique complexity parameters in default grid. Truncating the grid to 3 .\n",
      "\n",
      "[1]  2 40 12  3\n",
      "[1]  2 40 12  5\n",
      "[1]  2 40 12 10\n",
      "[1]  2 40 12 20\n",
      "[1]  2 40 12 30\n",
      "[1]  2 40 12 40\n",
      "[1]  2 40 12 50\n",
      "[1]  2 40 13  0\n",
      "note: only 2 unique complexity parameters in default grid. Truncating the grid to 2 .\n",
      "\n",
      "[1]  2 40 13  1\n",
      "note: only 3 unique complexity parameters in default grid. Truncating the grid to 3 .\n",
      "\n",
      "[1]  2 40 13  3\n",
      "[1]  2 40 13  5\n",
      "[1]  2 40 13 10\n",
      "[1]  2 40 13 20\n",
      "[1]  2 40 13 30\n",
      "[1]  2 40 13 40\n",
      "[1]  2 40 13 50\n",
      "[1]  2 40 14  0\n",
      "note: only 2 unique complexity parameters in default grid. Truncating the grid to 2 .\n",
      "\n",
      "[1]  2 40 14  1\n",
      "note: only 3 unique complexity parameters in default grid. Truncating the grid to 3 .\n",
      "\n",
      "[1]  2 40 14  3\n",
      "[1]  2 40 14  5\n",
      "[1]  2 40 14 10\n",
      "[1]  2 40 14 20\n",
      "[1]  2 40 14 30\n",
      "[1]  2 40 14 40\n",
      "[1]  2 40 14 50\n",
      "[1]  2 40 15  0\n",
      "note: only 2 unique complexity parameters in default grid. Truncating the grid to 2 .\n",
      "\n",
      "[1]  2 40 15  1\n",
      "note: only 3 unique complexity parameters in default grid. Truncating the grid to 3 .\n",
      "\n",
      "[1]  2 40 15  3\n",
      "[1]  2 40 15  5\n",
      "[1]  2 40 15 10\n",
      "[1]  2 40 15 20\n",
      "[1]  2 40 15 30\n",
      "[1]  2 40 15 40\n",
      "[1]  2 40 15 50\n",
      "[1]  2 40 16  0\n",
      "note: only 2 unique complexity parameters in default grid. Truncating the grid to 2 .\n",
      "\n",
      "[1]  2 40 16  1\n",
      "note: only 3 unique complexity parameters in default grid. Truncating the grid to 3 .\n",
      "\n",
      "[1]  2 40 16  3\n",
      "[1]  2 40 16  5\n",
      "[1]  2 40 16 10\n",
      "[1]  2 40 16 20\n",
      "[1]  2 40 16 30\n",
      "[1]  2 40 16 40\n",
      "[1]  2 40 16 50\n",
      "[1]  2 40 17  0\n",
      "note: only 2 unique complexity parameters in default grid. Truncating the grid to 2 .\n",
      "\n",
      "[1]  2 40 17  1\n",
      "note: only 3 unique complexity parameters in default grid. Truncating the grid to 3 .\n",
      "\n",
      "[1]  2 40 17  3\n",
      "[1]  2 40 17  5\n",
      "[1]  2 40 17 10\n",
      "[1]  2 40 17 20\n",
      "[1]  2 40 17 30\n",
      "[1]  2 40 17 40\n",
      "[1]  2 40 17 50\n",
      "[1]  2 40 18  0\n",
      "note: only 2 unique complexity parameters in default grid. Truncating the grid to 2 .\n",
      "\n",
      "[1]  2 40 18  1\n",
      "note: only 3 unique complexity parameters in default grid. Truncating the grid to 3 .\n",
      "\n",
      "[1]  2 40 18  3\n",
      "[1]  2 40 18  5\n",
      "[1]  2 40 18 10\n",
      "[1]  2 40 18 20\n",
      "[1]  2 40 18 30\n",
      "[1]  2 40 18 40\n",
      "[1]  2 40 18 50\n",
      "[1]  2 40 19  0\n",
      "note: only 2 unique complexity parameters in default grid. Truncating the grid to 2 .\n",
      "\n",
      "[1]  2 40 19  1\n",
      "note: only 3 unique complexity parameters in default grid. Truncating the grid to 3 .\n",
      "\n",
      "[1]  2 40 19  3\n",
      "[1]  2 40 19  5\n",
      "[1]  2 40 19 10\n",
      "[1]  2 40 19 20\n",
      "[1]  2 40 19 30\n",
      "[1]  2 40 19 40\n",
      "[1]  2 40 19 50\n",
      "[1]  2 40 20  0\n",
      "note: only 2 unique complexity parameters in default grid. Truncating the grid to 2 .\n",
      "\n",
      "[1]  2 40 20  1\n",
      "note: only 3 unique complexity parameters in default grid. Truncating the grid to 3 .\n",
      "\n",
      "[1]  2 40 20  3\n",
      "[1]  2 40 20  5\n",
      "[1]  2 40 20 10\n",
      "[1]  2 40 20 20\n",
      "[1]  2 40 20 30\n",
      "[1]  2 40 20 40\n",
      "[1]  2 40 20 50\n",
      "[1]  2 40 21  0\n",
      "note: only 2 unique complexity parameters in default grid. Truncating the grid to 2 .\n",
      "\n",
      "[1]  2 40 21  1\n",
      "note: only 3 unique complexity parameters in default grid. Truncating the grid to 3 .\n",
      "\n",
      "[1]  2 40 21  3\n",
      "[1]  2 40 21  5\n",
      "[1]  2 40 21 10\n",
      "[1]  2 40 21 20\n",
      "[1]  2 40 21 30\n",
      "[1]  2 40 21 40\n",
      "[1]  2 40 21 50\n",
      "[1]  2 40 22  0\n",
      "note: only 2 unique complexity parameters in default grid. Truncating the grid to 2 .\n",
      "\n",
      "[1]  2 40 22  1\n",
      "note: only 3 unique complexity parameters in default grid. Truncating the grid to 3 .\n",
      "\n",
      "[1]  2 40 22  3\n",
      "[1]  2 40 22  5\n",
      "[1]  2 40 22 10\n",
      "[1]  2 40 22 20\n",
      "[1]  2 40 22 30\n",
      "[1]  2 40 22 40\n",
      "[1]  2 40 22 50\n",
      "[1]  2 40 23  0\n",
      "note: only 2 unique complexity parameters in default grid. Truncating the grid to 2 .\n",
      "\n",
      "[1]  2 40 23  1\n",
      "note: only 3 unique complexity parameters in default grid. Truncating the grid to 3 .\n",
      "\n",
      "[1]  2 40 23  3\n",
      "[1]  2 40 23  5\n",
      "[1]  2 40 23 10\n",
      "[1]  2 40 23 20\n",
      "[1]  2 40 23 30\n",
      "[1]  2 40 23 40\n",
      "[1]  2 40 23 50\n",
      "[1]  2 40 24  0\n",
      "note: only 2 unique complexity parameters in default grid. Truncating the grid to 2 .\n",
      "\n",
      "[1]  2 40 24  1\n",
      "note: only 3 unique complexity parameters in default grid. Truncating the grid to 3 .\n",
      "\n",
      "[1]  2 40 24  3\n",
      "[1]  2 40 24  5\n",
      "[1]  2 40 24 10\n",
      "[1]  2 40 24 20\n",
      "[1]  2 40 24 30\n",
      "[1]  2 40 24 40\n",
      "[1]  2 40 24 50\n",
      "[1]  2 40 25  0\n",
      "note: only 2 unique complexity parameters in default grid. Truncating the grid to 2 .\n",
      "\n",
      "[1]  2 40 25  1\n",
      "note: only 3 unique complexity parameters in default grid. Truncating the grid to 3 .\n",
      "\n",
      "[1]  2 40 25  3\n",
      "[1]  2 40 25  5\n",
      "[1]  2 40 25 10\n",
      "[1]  2 40 25 20\n",
      "[1]  2 40 25 30\n",
      "[1]  2 40 25 40\n",
      "[1]  2 40 25 50\n",
      "[1]  2 40 26  0\n",
      "note: only 2 unique complexity parameters in default grid. Truncating the grid to 2 .\n",
      "\n",
      "[1]  2 40 26  1\n",
      "note: only 3 unique complexity parameters in default grid. Truncating the grid to 3 .\n",
      "\n",
      "[1]  2 40 26  3\n",
      "[1]  2 40 26  5\n",
      "[1]  2 40 26 10\n",
      "[1]  2 40 26 20\n",
      "[1]  2 40 26 30\n",
      "[1]  2 40 26 40\n",
      "[1]  2 40 26 50\n",
      "[1]  2 40 27  0\n",
      "note: only 2 unique complexity parameters in default grid. Truncating the grid to 2 .\n",
      "\n",
      "[1]  2 40 27  1\n",
      "note: only 3 unique complexity parameters in default grid. Truncating the grid to 3 .\n",
      "\n",
      "[1]  2 40 27  3\n",
      "[1]  2 40 27  5\n",
      "[1]  2 40 27 10\n",
      "[1]  2 40 27 20\n",
      "[1]  2 40 27 30\n",
      "[1]  2 40 27 40\n",
      "[1]  2 40 27 50\n",
      "[1]  2 40 28  0\n",
      "note: only 2 unique complexity parameters in default grid. Truncating the grid to 2 .\n",
      "\n",
      "[1]  2 40 28  1\n",
      "note: only 3 unique complexity parameters in default grid. Truncating the grid to 3 .\n",
      "\n",
      "[1]  2 40 28  3\n",
      "[1]  2 40 28  5\n",
      "[1]  2 40 28 10\n",
      "[1]  2 40 28 20\n",
      "[1]  2 40 28 30\n",
      "[1]  2 40 28 40\n",
      "[1]  2 40 28 50\n",
      "[1]  2 40 29  0\n",
      "note: only 2 unique complexity parameters in default grid. Truncating the grid to 2 .\n",
      "\n",
      "[1]  2 40 29  1\n",
      "note: only 3 unique complexity parameters in default grid. Truncating the grid to 3 .\n",
      "\n",
      "[1]  2 40 29  3\n",
      "[1]  2 40 29  5\n",
      "[1]  2 40 29 10\n",
      "[1]  2 40 29 20\n",
      "[1]  2 40 29 30\n",
      "[1]  2 40 29 40\n",
      "[1]  2 40 29 50\n",
      "[1]  2 40 30  0\n",
      "note: only 2 unique complexity parameters in default grid. Truncating the grid to 2 .\n",
      "\n",
      "[1]  2 40 30  1\n",
      "note: only 3 unique complexity parameters in default grid. Truncating the grid to 3 .\n",
      "\n",
      "[1]  2 40 30  3\n",
      "[1]  2 40 30  5\n",
      "[1]  2 40 30 10\n",
      "[1]  2 40 30 20\n",
      "[1]  2 40 30 30\n",
      "[1]  2 40 30 40\n",
      "[1]  2 40 30 50\n",
      "[1]  2 50  1  0\n",
      "note: only 2 unique complexity parameters in default grid. Truncating the grid to 2 .\n",
      "\n",
      "[1]  2 50  1  1\n",
      "note: only 3 unique complexity parameters in default grid. Truncating the grid to 3 .\n",
      "\n",
      "[1]  2 50  1  3\n",
      "[1]  2 50  1  5\n",
      "[1]  2 50  1 10\n",
      "[1]  2 50  1 20\n",
      "[1]  2 50  1 30\n",
      "[1]  2 50  1 40\n",
      "[1]  2 50  1 50\n",
      "[1]  2 50  2  0\n",
      "note: only 2 unique complexity parameters in default grid. Truncating the grid to 2 .\n",
      "\n",
      "[1]  2 50  2  1\n",
      "note: only 3 unique complexity parameters in default grid. Truncating the grid to 3 .\n",
      "\n",
      "[1]  2 50  2  3\n",
      "[1]  2 50  2  5\n",
      "[1]  2 50  2 10\n",
      "[1]  2 50  2 20\n",
      "[1]  2 50  2 30\n",
      "[1]  2 50  2 40\n",
      "[1]  2 50  2 50\n",
      "[1]  2 50  3  0\n",
      "note: only 2 unique complexity parameters in default grid. Truncating the grid to 2 .\n",
      "\n",
      "[1]  2 50  3  1\n",
      "note: only 3 unique complexity parameters in default grid. Truncating the grid to 3 .\n",
      "\n",
      "[1]  2 50  3  3\n",
      "[1]  2 50  3  5\n",
      "[1]  2 50  3 10\n",
      "[1]  2 50  3 20\n",
      "[1]  2 50  3 30\n",
      "[1]  2 50  3 40\n",
      "[1]  2 50  3 50\n",
      "[1]  2 50  4  0\n",
      "note: only 2 unique complexity parameters in default grid. Truncating the grid to 2 .\n",
      "\n",
      "[1]  2 50  4  1\n",
      "note: only 3 unique complexity parameters in default grid. Truncating the grid to 3 .\n",
      "\n",
      "[1]  2 50  4  3\n",
      "[1]  2 50  4  5\n",
      "[1]  2 50  4 10\n",
      "[1]  2 50  4 20\n",
      "[1]  2 50  4 30\n",
      "[1]  2 50  4 40\n",
      "[1]  2 50  4 50\n",
      "[1]  2 50  5  0\n",
      "note: only 2 unique complexity parameters in default grid. Truncating the grid to 2 .\n",
      "\n",
      "[1]  2 50  5  1\n",
      "note: only 3 unique complexity parameters in default grid. Truncating the grid to 3 .\n",
      "\n",
      "[1]  2 50  5  3\n",
      "[1]  2 50  5  5\n",
      "[1]  2 50  5 10\n",
      "[1]  2 50  5 20\n",
      "[1]  2 50  5 30\n",
      "[1]  2 50  5 40\n",
      "[1]  2 50  5 50\n",
      "[1]  2 50  6  0\n",
      "note: only 2 unique complexity parameters in default grid. Truncating the grid to 2 .\n",
      "\n",
      "[1]  2 50  6  1\n",
      "note: only 3 unique complexity parameters in default grid. Truncating the grid to 3 .\n",
      "\n",
      "[1]  2 50  6  3\n",
      "[1]  2 50  6  5\n",
      "[1]  2 50  6 10\n",
      "[1]  2 50  6 20\n",
      "[1]  2 50  6 30\n",
      "[1]  2 50  6 40\n",
      "[1]  2 50  6 50\n",
      "[1]  2 50  7  0\n",
      "note: only 2 unique complexity parameters in default grid. Truncating the grid to 2 .\n",
      "\n",
      "[1]  2 50  7  1\n",
      "note: only 3 unique complexity parameters in default grid. Truncating the grid to 3 .\n",
      "\n",
      "[1]  2 50  7  3\n",
      "[1]  2 50  7  5\n",
      "[1]  2 50  7 10\n",
      "[1]  2 50  7 20\n",
      "[1]  2 50  7 30\n",
      "[1]  2 50  7 40\n",
      "[1]  2 50  7 50\n",
      "[1]  2 50  8  0\n",
      "note: only 2 unique complexity parameters in default grid. Truncating the grid to 2 .\n",
      "\n",
      "[1]  2 50  8  1\n",
      "note: only 3 unique complexity parameters in default grid. Truncating the grid to 3 .\n",
      "\n",
      "[1]  2 50  8  3\n",
      "[1]  2 50  8  5\n",
      "[1]  2 50  8 10\n",
      "[1]  2 50  8 20\n",
      "[1]  2 50  8 30\n",
      "[1]  2 50  8 40\n",
      "[1]  2 50  8 50\n",
      "[1]  2 50  9  0\n",
      "note: only 2 unique complexity parameters in default grid. Truncating the grid to 2 .\n",
      "\n",
      "[1]  2 50  9  1\n",
      "note: only 3 unique complexity parameters in default grid. Truncating the grid to 3 .\n",
      "\n",
      "[1]  2 50  9  3\n",
      "[1]  2 50  9  5\n",
      "[1]  2 50  9 10\n",
      "[1]  2 50  9 20\n",
      "[1]  2 50  9 30\n",
      "[1]  2 50  9 40\n",
      "[1]  2 50  9 50\n",
      "[1]  2 50 10  0\n",
      "note: only 2 unique complexity parameters in default grid. Truncating the grid to 2 .\n",
      "\n",
      "[1]  2 50 10  1\n",
      "note: only 3 unique complexity parameters in default grid. Truncating the grid to 3 .\n",
      "\n",
      "[1]  2 50 10  3\n",
      "[1]  2 50 10  5\n",
      "[1]  2 50 10 10\n",
      "[1]  2 50 10 20\n",
      "[1]  2 50 10 30\n",
      "[1]  2 50 10 40\n",
      "[1]  2 50 10 50\n",
      "[1]  2 50 11  0\n",
      "note: only 2 unique complexity parameters in default grid. Truncating the grid to 2 .\n",
      "\n",
      "[1]  2 50 11  1\n",
      "note: only 3 unique complexity parameters in default grid. Truncating the grid to 3 .\n",
      "\n",
      "[1]  2 50 11  3\n",
      "[1]  2 50 11  5\n",
      "[1]  2 50 11 10\n",
      "[1]  2 50 11 20\n",
      "[1]  2 50 11 30\n",
      "[1]  2 50 11 40\n",
      "[1]  2 50 11 50\n",
      "[1]  2 50 12  0\n",
      "note: only 2 unique complexity parameters in default grid. Truncating the grid to 2 .\n",
      "\n",
      "[1]  2 50 12  1\n",
      "note: only 3 unique complexity parameters in default grid. Truncating the grid to 3 .\n",
      "\n",
      "[1]  2 50 12  3\n",
      "[1]  2 50 12  5\n",
      "[1]  2 50 12 10\n",
      "[1]  2 50 12 20\n",
      "[1]  2 50 12 30\n",
      "[1]  2 50 12 40\n",
      "[1]  2 50 12 50\n",
      "[1]  2 50 13  0\n",
      "note: only 2 unique complexity parameters in default grid. Truncating the grid to 2 .\n",
      "\n",
      "[1]  2 50 13  1\n",
      "note: only 3 unique complexity parameters in default grid. Truncating the grid to 3 .\n",
      "\n",
      "[1]  2 50 13  3\n",
      "[1]  2 50 13  5\n",
      "[1]  2 50 13 10\n",
      "[1]  2 50 13 20\n",
      "[1]  2 50 13 30\n",
      "[1]  2 50 13 40\n",
      "[1]  2 50 13 50\n",
      "[1]  2 50 14  0\n",
      "note: only 2 unique complexity parameters in default grid. Truncating the grid to 2 .\n",
      "\n",
      "[1]  2 50 14  1\n",
      "note: only 3 unique complexity parameters in default grid. Truncating the grid to 3 .\n",
      "\n",
      "[1]  2 50 14  3\n",
      "[1]  2 50 14  5\n",
      "[1]  2 50 14 10\n",
      "[1]  2 50 14 20\n",
      "[1]  2 50 14 30\n",
      "[1]  2 50 14 40\n",
      "[1]  2 50 14 50\n",
      "[1]  2 50 15  0\n",
      "note: only 2 unique complexity parameters in default grid. Truncating the grid to 2 .\n",
      "\n",
      "[1]  2 50 15  1\n",
      "note: only 3 unique complexity parameters in default grid. Truncating the grid to 3 .\n",
      "\n",
      "[1]  2 50 15  3\n",
      "[1]  2 50 15  5\n",
      "[1]  2 50 15 10\n",
      "[1]  2 50 15 20\n",
      "[1]  2 50 15 30\n",
      "[1]  2 50 15 40\n",
      "[1]  2 50 15 50\n",
      "[1]  2 50 16  0\n",
      "note: only 2 unique complexity parameters in default grid. Truncating the grid to 2 .\n",
      "\n",
      "[1]  2 50 16  1\n",
      "note: only 3 unique complexity parameters in default grid. Truncating the grid to 3 .\n",
      "\n",
      "[1]  2 50 16  3\n",
      "[1]  2 50 16  5\n",
      "[1]  2 50 16 10\n",
      "[1]  2 50 16 20\n",
      "[1]  2 50 16 30\n",
      "[1]  2 50 16 40\n",
      "[1]  2 50 16 50\n",
      "[1]  2 50 17  0\n",
      "note: only 2 unique complexity parameters in default grid. Truncating the grid to 2 .\n",
      "\n",
      "[1]  2 50 17  1\n",
      "note: only 3 unique complexity parameters in default grid. Truncating the grid to 3 .\n",
      "\n",
      "[1]  2 50 17  3\n",
      "[1]  2 50 17  5\n",
      "[1]  2 50 17 10\n",
      "[1]  2 50 17 20\n",
      "[1]  2 50 17 30\n",
      "[1]  2 50 17 40\n",
      "[1]  2 50 17 50\n",
      "[1]  2 50 18  0\n",
      "note: only 2 unique complexity parameters in default grid. Truncating the grid to 2 .\n",
      "\n",
      "[1]  2 50 18  1\n",
      "note: only 3 unique complexity parameters in default grid. Truncating the grid to 3 .\n",
      "\n",
      "[1]  2 50 18  3\n",
      "[1]  2 50 18  5\n",
      "[1]  2 50 18 10\n",
      "[1]  2 50 18 20\n",
      "[1]  2 50 18 30\n",
      "[1]  2 50 18 40\n",
      "[1]  2 50 18 50\n",
      "[1]  2 50 19  0\n",
      "note: only 2 unique complexity parameters in default grid. Truncating the grid to 2 .\n",
      "\n",
      "[1]  2 50 19  1\n",
      "note: only 3 unique complexity parameters in default grid. Truncating the grid to 3 .\n",
      "\n",
      "[1]  2 50 19  3\n",
      "[1]  2 50 19  5\n",
      "[1]  2 50 19 10\n",
      "[1]  2 50 19 20\n",
      "[1]  2 50 19 30\n",
      "[1]  2 50 19 40\n",
      "[1]  2 50 19 50\n",
      "[1]  2 50 20  0\n",
      "note: only 2 unique complexity parameters in default grid. Truncating the grid to 2 .\n",
      "\n",
      "[1]  2 50 20  1\n",
      "note: only 3 unique complexity parameters in default grid. Truncating the grid to 3 .\n",
      "\n",
      "[1]  2 50 20  3\n",
      "[1]  2 50 20  5\n",
      "[1]  2 50 20 10\n",
      "[1]  2 50 20 20\n",
      "[1]  2 50 20 30\n",
      "[1]  2 50 20 40\n",
      "[1]  2 50 20 50\n",
      "[1]  2 50 21  0\n",
      "note: only 2 unique complexity parameters in default grid. Truncating the grid to 2 .\n",
      "\n",
      "[1]  2 50 21  1\n",
      "note: only 3 unique complexity parameters in default grid. Truncating the grid to 3 .\n",
      "\n",
      "[1]  2 50 21  3\n",
      "[1]  2 50 21  5\n",
      "[1]  2 50 21 10\n",
      "[1]  2 50 21 20\n",
      "[1]  2 50 21 30\n",
      "[1]  2 50 21 40\n",
      "[1]  2 50 21 50\n",
      "[1]  2 50 22  0\n",
      "note: only 2 unique complexity parameters in default grid. Truncating the grid to 2 .\n",
      "\n",
      "[1]  2 50 22  1\n",
      "note: only 3 unique complexity parameters in default grid. Truncating the grid to 3 .\n",
      "\n",
      "[1]  2 50 22  3\n",
      "[1]  2 50 22  5\n",
      "[1]  2 50 22 10\n",
      "[1]  2 50 22 20\n",
      "[1]  2 50 22 30\n",
      "[1]  2 50 22 40\n",
      "[1]  2 50 22 50\n",
      "[1]  2 50 23  0\n",
      "note: only 2 unique complexity parameters in default grid. Truncating the grid to 2 .\n",
      "\n",
      "[1]  2 50 23  1\n",
      "note: only 3 unique complexity parameters in default grid. Truncating the grid to 3 .\n",
      "\n",
      "[1]  2 50 23  3\n",
      "[1]  2 50 23  5\n",
      "[1]  2 50 23 10\n",
      "[1]  2 50 23 20\n",
      "[1]  2 50 23 30\n",
      "[1]  2 50 23 40\n",
      "[1]  2 50 23 50\n",
      "[1]  2 50 24  0\n",
      "note: only 2 unique complexity parameters in default grid. Truncating the grid to 2 .\n",
      "\n",
      "[1]  2 50 24  1\n",
      "note: only 3 unique complexity parameters in default grid. Truncating the grid to 3 .\n",
      "\n",
      "[1]  2 50 24  3\n",
      "[1]  2 50 24  5\n",
      "[1]  2 50 24 10\n",
      "[1]  2 50 24 20\n",
      "[1]  2 50 24 30\n",
      "[1]  2 50 24 40\n",
      "[1]  2 50 24 50\n",
      "[1]  2 50 25  0\n",
      "note: only 2 unique complexity parameters in default grid. Truncating the grid to 2 .\n",
      "\n",
      "[1]  2 50 25  1\n",
      "note: only 3 unique complexity parameters in default grid. Truncating the grid to 3 .\n",
      "\n",
      "[1]  2 50 25  3\n",
      "[1]  2 50 25  5\n",
      "[1]  2 50 25 10\n",
      "[1]  2 50 25 20\n",
      "[1]  2 50 25 30\n",
      "[1]  2 50 25 40\n",
      "[1]  2 50 25 50\n",
      "[1]  2 50 26  0\n",
      "note: only 2 unique complexity parameters in default grid. Truncating the grid to 2 .\n",
      "\n",
      "[1]  2 50 26  1\n",
      "note: only 3 unique complexity parameters in default grid. Truncating the grid to 3 .\n",
      "\n",
      "[1]  2 50 26  3\n",
      "[1]  2 50 26  5\n",
      "[1]  2 50 26 10\n",
      "[1]  2 50 26 20\n",
      "[1]  2 50 26 30\n",
      "[1]  2 50 26 40\n",
      "[1]  2 50 26 50\n",
      "[1]  2 50 27  0\n",
      "note: only 2 unique complexity parameters in default grid. Truncating the grid to 2 .\n",
      "\n",
      "[1]  2 50 27  1\n",
      "note: only 3 unique complexity parameters in default grid. Truncating the grid to 3 .\n",
      "\n",
      "[1]  2 50 27  3\n",
      "[1]  2 50 27  5\n",
      "[1]  2 50 27 10\n",
      "[1]  2 50 27 20\n",
      "[1]  2 50 27 30\n",
      "[1]  2 50 27 40\n",
      "[1]  2 50 27 50\n",
      "[1]  2 50 28  0\n",
      "note: only 2 unique complexity parameters in default grid. Truncating the grid to 2 .\n",
      "\n",
      "[1]  2 50 28  1\n",
      "note: only 3 unique complexity parameters in default grid. Truncating the grid to 3 .\n",
      "\n",
      "[1]  2 50 28  3\n",
      "[1]  2 50 28  5\n",
      "[1]  2 50 28 10\n",
      "[1]  2 50 28 20\n",
      "[1]  2 50 28 30\n",
      "[1]  2 50 28 40\n",
      "[1]  2 50 28 50\n",
      "[1]  2 50 29  0\n",
      "note: only 2 unique complexity parameters in default grid. Truncating the grid to 2 .\n",
      "\n",
      "[1]  2 50 29  1\n",
      "note: only 3 unique complexity parameters in default grid. Truncating the grid to 3 .\n",
      "\n",
      "[1]  2 50 29  3\n",
      "[1]  2 50 29  5\n",
      "[1]  2 50 29 10\n",
      "[1]  2 50 29 20\n",
      "[1]  2 50 29 30\n",
      "[1]  2 50 29 40\n",
      "[1]  2 50 29 50\n",
      "[1]  2 50 30  0\n",
      "note: only 2 unique complexity parameters in default grid. Truncating the grid to 2 .\n",
      "\n",
      "[1]  2 50 30  1\n",
      "note: only 3 unique complexity parameters in default grid. Truncating the grid to 3 .\n",
      "\n",
      "[1]  2 50 30  3\n",
      "[1]  2 50 30  5\n",
      "[1]  2 50 30 10\n",
      "[1]  2 50 30 20\n",
      "[1]  2 50 30 30\n",
      "[1]  2 50 30 40\n",
      "[1]  2 50 30 50\n"
     ]
    }
   ],
   "source": [
    "tot_tr <- data.frame()\n",
    "tot_val <- data.frame()\n",
    "results <- data.frame()\n",
    "\n",
    "for (ratio in ratios) {\n",
    "    for (n in n_subs) {\n",
    "        for (i in 1:repeats) {\n",
    "\n",
    "            t <- make_data(\"2\", n, 50, 0, ratio)\n",
    "            v <- make_data(\"2\", 100, 50, 0, ratio)\n",
    "\n",
    "            v.diff <- v %>%\n",
    "              pivot_wider(id_cols = var, values_from = target,\n",
    "               names_from = cond) %>%\n",
    "                        mutate(ba = B - A, ca = C - A) %>%\n",
    "                        select(var, ba, ca) %>%\n",
    "                        pivot_longer(cols = c(ba, ca))\n",
    "\n",
    "            for (p in ps) {\n",
    "                print(c(ratio, n, i, p))\n",
    "\n",
    "                tr_data <- fetch_data(t, p)\n",
    "                val_data <- fetch_data(v, p)\n",
    "\n",
    "                model.rf <- train(target ~ ., data = tr_data, ntree = 50,\n",
    "                 trControl = ctrl, tuneLength = 5)\n",
    "                model.xgb <- train(target ~ ., data = tr_data,\n",
    "                 trControl = ctrl, tuneGrid = xgb_grid, method = \"xgbTree\")\n",
    "                model.knn <- train(target ~., data = tr_data,\n",
    "                 trControl = ctrl, tuneLength = 5, method = \"knn\")\n",
    "\n",
    "                pred.rf <- predict(model.rf, val_data)\n",
    "                pred.xgb <- predict(model.xgb, val_data)\n",
    "                pred.knn <- predict(model.knn, val_data)\n",
    "\n",
    "                p.diff.rf <- val_data %>%\n",
    "                 mutate(pred = pred.rf) %>%\n",
    "                 pivot_wider(id_cols = var, values_from = pred,\n",
    "                  names_from = cond) %>%\n",
    "                 mutate(ba = B - A, ca = C - A) %>%\n",
    "                 select(var, ba, ca) %>%\n",
    "                 pivot_longer(cols = c(ba, ca))\n",
    "\n",
    "                p.diff.xgb <- val_data %>%\n",
    "                 mutate(pred = pred.xgb) %>%\n",
    "                 pivot_wider(id_cols = var, values_from = pred,\n",
    "                  names_from = cond) %>%\n",
    "                 mutate(ba = B - A, ca = C - A) %>%\n",
    "                 select(var, ba, ca) %>%\n",
    "                 pivot_longer(cols = c(ba, ca))\n",
    "\n",
    "                p.diff.knn <- val_data %>%\n",
    "                 mutate(pred = pred.knn) %>%\n",
    "                 pivot_wider(id_cols = var, values_from = pred,\n",
    "                  names_from = cond) %>%\n",
    "                 mutate(ba = B - A, ca = C - A) %>%\n",
    "                 select(var, ba, ca) %>%\n",
    "                 pivot_longer(cols = c(ba, ca))\n",
    "\n",
    "                tot.rf <- merge(p.diff.rf, v.diff, by = c(\"var\", \"name\"))\n",
    "                tot.xgb <- merge(p.diff.xgb, v.diff, by = c(\"var\", \"name\"))\n",
    "                tot.knn <- merge(p.diff.knn, v.diff, by = c(\"var\", \"name\"))\n",
    "\n",
    "                ret.rf <- postResample(tot.rf$value.x, tot.rf$value.y)\n",
    "                ret.xgb <- postResample(tot.xgb$value.x, tot.xgb$value.y)\n",
    "                ret.knn <- postResample(tot.knn$value.x, tot.knn$value.y)\n",
    "\n",
    "                results <- rbind(results,\n",
    "                 data.frame(t(ret.rf)) %>%\n",
    "                  mutate(model = \"rf\", n_extra = p, n_sub = n,\n",
    "                   repetition = i, ratio = ratio),\n",
    "                 data.frame(t(ret.xgb)) %>%\n",
    "                  mutate(model = \"xgb\", n_extra = p, n_sub = n,\n",
    "                   repetition = i, ratio = ratio),\n",
    "                 data.frame(t(ret.knn)) %>%\n",
    "                  mutate(model = \"knn\", n_extra = p, n_sub = n,\n",
    "                   repetition = i, ratio = ratio))\n",
    "\n",
    "                tot_tr <- rbind(tot_tr,\n",
    "                 tr_data %>%\n",
    "                 select(var, cond, target) %>%\n",
    "                 mutate(type = \"training\", n_extra = p, n_sub = n,\n",
    "                  repetition = i, ratio = ratio))\n",
    "                tot_val <- rbind(tot_val,\n",
    "                 val_data %>%\n",
    "                 mutate(pred.rf = pred.rf, pred.xgb = pred.xgb,\n",
    "                  pred.knn = pred.knn) %>%\n",
    "                select(var, cond, target, pred.rf, pred.xgb, pred.knn) %>%\n",
    "                mutate(type = \"validation\", n_extra = p, n_sub = n,\n",
    "                 repetition = i, ratio = ratio))\n",
    "\n",
    "            }\n",
    "        }\n",
    "    }\n",
    "}"
   ]
  },
  {
   "cell_type": "code",
   "execution_count": 370,
   "id": "0ed11824",
   "metadata": {
    "scrolled": false,
    "vscode": {
     "languageId": "r"
    }
   },
   "outputs": [
    {
     "name": "stderr",
     "output_type": "stream",
     "text": [
      "`summarise()` has grouped output by 'n_sub', 'n_extra', 'model'. You can override using the `.groups` argument.\n"
     ]
    },
    {
     "data": {
      "image/png": "[encoded data removed]",
      "text/plain": [
       "plot without title"
      ]
     },
     "metadata": {
      "image/png": {
       "height": 240,
       "width": 396
      }
     },
     "output_type": "display_data"
    }
   ],
   "source": [
    "### PLOTS\n",
    "results_summary <- results %>%\n",
    "    mutate(n_sub = factor(n_sub), ratio = factor(ratio)) %>%\n",
    "    group_by(n_sub, n_extra, model, ratio) %>%\n",
    "    summarize(mu = median(Rsquared), low = quantile(Rsquared, 0.2),\n",
    "              high = quantile(Rsquared, 0.8))\n",
    "\n",
    "results_sample <- results %>%\n",
    " mutate(n_sub = factor(n_sub)) %>%\n",
    " filter(model == \"rf\", n_sub == 30, ratio == 0.5, repetition == 4)\n",
    "\n",
    "y_labeller <- c(\"knn\" = \"kNN\",\n",
    "            \"rf\" = \"RandomForest\",\n",
    "             \"xgb\" = \"XGBoost\")\n",
    "\n",
    "x_labeller <- c(\n",
    "             \"0.1\" = \"i/m = 10\",\n",
    "             \"0.5\" = \"i/m = 2\",\n",
    "             \"1\" = \"i/m = 1\",\n",
    "             \"2\" = \"i/m = 0.5\")\n",
    "\n",
    "options(repr.plot.width = 6.6, repr.plot.height = 4)\n",
    "\n",
    "p <- ggplot(results_summary, aes(x = n_extra)) +\n",
    "\n",
    "geom_point(aes(y = mu, color = n_sub),\n",
    " position = position_dodge(width = 0)) +\n",
    "geom_line(aes(y = mu, color = n_sub, linetype = n_sub)) +\n",
    "geom_hline(yintercept = 0, linetype = 2, alpha = 0.5) +\n",
    "\n",
    "facet_grid(model ~ ratio, labeller = labeller(model = y_labeller,\n",
    "                                                  ratio = x_labeller),\n",
    "                                                  ) +\n",
    "\n",
    "theme_prism(base_size = 6.3) +\n",
    "theme(legend.position = \"top\", legend.title = element_text(),\n",
    "      text = element_text(face = \"plain\", family = \"sans\")) +\n",
    "scale_color_manual(values = agd_palette) +\n",
    "\n",
    "labs(x = \"# Random Features\",\n",
    " y = paste(\"Validation \", expression(\"R-squared\")),\n",
    " color = \"# Samples\", linetype = \"# Samples\") +\n",
    "theme(legend.key.width = unit(2, \"line\")) +\n",
    "theme(strip.text.y = element_text(vjust = 2))\n",
    "\n",
    "p"
   ]
  },
  {
   "cell_type": "code",
   "execution_count": 81,
   "id": "6cd6e012",
   "metadata": {
    "vscode": {
     "languageId": "r"
    }
   },
   "outputs": [],
   "source": [
    "# select an individual point for plotting further\n",
    "t_i <- tot_tr %>%\n",
    " filter(n_sub == 30, ratio == 0.5, repetition == 3, n_extra == 0)\n",
    "v_i <- tot_val %>%\n",
    " filter(n_sub == 30, ratio == 0.5, repetition == 3)"
   ]
  },
  {
   "cell_type": "code",
   "execution_count": 371,
   "id": "6d44ffa3",
   "metadata": {
    "scrolled": true,
    "vscode": {
     "languageId": "r"
    }
   },
   "outputs": [
    {
     "data": {
      "image/png": "[encoded data removed]",
      "text/plain": [
       "plot without title"
      ]
     },
     "metadata": {
      "image/png": {
       "height": 90,
       "width": 396
      }
     },
     "output_type": "display_data"
    }
   ],
   "source": [
    "preds <- v_i %>%\n",
    "    pivot_wider(id_cols = c(var, n_extra), \n",
    "    values_from = pred.rf, names_from = cond) %>%\n",
    "    mutate(\"B\" = B - A, \"c-a\" = C - A) %>%\n",
    "    select(var, \"B\", \"C\", n_extra) %>%\n",
    "    pivot_longer(cols = c(\"B\", \"C\"))\n",
    "\n",
    "targets <- v_i %>%\n",
    "    pivot_wider(id_cols = c(var, n_extra),\n",
    "     values_from = target, names_from = cond) %>%\n",
    "    mutate(\"B\" = B - A, \"C\" = C - A) %>%\n",
    "    select(var, \"B\", \"C\", n_extra) %>%\n",
    "    pivot_longer(cols = c(\"B\", \"C\"))\n",
    "\n",
    "options(repr.plot.width = 6.6, repr.plot.height = 1.5)\n",
    "\n",
    "\n",
    "labeller <- c(\"0\" = \"0 random feats, R-squared = 0.97\",\n",
    "            \"1\" = \"1 random feats\",\n",
    "            \"3\" = \"3 random feats\",\n",
    "            \"5\" = \"5 random feats, R-squared = 0.86\",\n",
    "            \"10\" = \"10 random feats\",\n",
    "            \"20\" = \"20 random feats, R-squared = 0.42\",\n",
    "            \"30\" = \"30 random feats\",\n",
    "            \"40\" = \"40 random feats\",\n",
    "            \"50\" = \"50 random feats\"\n",
    "            )\n",
    "\n",
    "\n",
    "p4 <- ggplot(preds %>% filter(n_extra %in% c(0, 5, 20)),\n",
    " aes(x = var, y = value, color = name)) +\n",
    "geom_point(size = 0.9) +\n",
    "geom_line() +\n",
    "geom_line(data = targets %>% filter(n_extra %in% c(0, 5, 20)),\n",
    " aes(x = var, y = value, color = name), linetype = 2, alpha = 0.9) +\n",
    "labs(x = expression(mu), y = expression(Yield - Yield[A]), color = \"solvent\") +\n",
    "facet_wrap(. ~ n_extra, labeller = as_labeller(labeller)) +\n",
    "theme_prism(base_size = 6.3) +\n",
    "theme(legend.position = \"top\", legend.title = element_text(),\n",
    "      text = element_text(face = \"plain\", family = \"sans\")) +\n",
    "theme(panel.spacing = unit(2, \"lines\")) +\n",
    "scale_color_manual(values = agd_palette[c(2, 6)])\n",
    "\n",
    "p4"
   ]
  },
  {
   "cell_type": "code",
   "execution_count": 358,
   "id": "8d13cc73",
   "metadata": {
    "vscode": {
     "languageId": "r"
    }
   },
   "outputs": [
    {
     "data": {
      "image/png": "[encoded data removed]",
      "text/plain": [
       "plot without title"
      ]
     },
     "metadata": {
      "image/png": {
       "height": 405.6,
       "width": 396
      }
     },
     "output_type": "display_data"
    }
   ],
   "source": [
    "options(repr.plot.width = 6.6, repr.plot.height = 6.76)\n",
    "\n",
    "pf1 / p / p4 +\n",
    "plot_layout(heights = c(1, 4, 1))"
   ]
  },
  {
   "cell_type": "code",
   "execution_count": 359,
   "id": "79f0586e",
   "metadata": {
    "vscode": {
     "languageId": "r"
    }
   },
   "outputs": [],
   "source": [
    "\n",
    "ggsave(\"../doexyF_paper/plots/simulation_A.png\",\n",
    " pf1, width = 6.6, height = (1 / 4) * 6.76, dpi = 300)\n",
    "ggsave(\"../doexyF_paper/plots/simulation_A.svg\",\n",
    " pf1, width = 6.6, height = (1 / 4) * 6.76)\n",
    "\n",
    "ggsave(\"../doexyF_paper/plots/simulation_B.png\",\n",
    " p, width = 6.6, height = (4 / 6) * 6.76, dpi = 300)\n",
    "ggsave(\"../doexyF_paper/plots/simulation_B.svg\",\n",
    " p, width = 6.6, height = (4 / 6) * 6.76)\n",
    "\n",
    "ggsave(\"../doexyF_paper/plots/simulation_C.png\",\n",
    " p4, width = 6.6, height = (1 / 4) * 6.76, dpi = 300)\n",
    "ggsave(\"../doexyF_paper/plots/simulation_C.svg\",\n",
    " p4, width = 6.6, height = (1 / 4) * 6.76)"
   ]
  }
 ],
 "metadata": {
  "kernelspec": {
   "display_name": "R",
   "language": "R",
   "name": "ir"
  },
  "language_info": {
   "codemirror_mode": "r",
   "file_extension": ".r",
   "mimetype": "text/x-r-source",
   "name": "R",
   "pygments_lexer": "r",
   "version": "4.1.1"
  }
 },
 "nbformat": 4,
 "nbformat_minor": 5
}
